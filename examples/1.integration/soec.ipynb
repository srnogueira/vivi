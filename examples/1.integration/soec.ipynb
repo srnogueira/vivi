{
 "cells": [
  {
   "cell_type": "markdown",
   "id": "1772c467",
   "metadata": {},
   "source": [
    "# Quick run"
   ]
  },
  {
   "cell_type": "markdown",
   "id": "8e02678e",
   "metadata": {},
   "source": [
    "**Problem 1**: Sizing an solid oxide cell electrolysis system and auxiliary systems to produce 1000 kg/h of hydrogen with minimal energy losses "
   ]
  },
  {
   "cell_type": "code",
   "execution_count": 2,
   "id": "abe4b090",
   "metadata": {},
   "outputs": [
    {
     "name": "stdout",
     "output_type": "stream",
     "text": [
      "* Solver : HiGHS\n",
      "\n",
      "* Status\n",
      "  Result count       : 1\n",
      "  Termination status : OPTIMAL\n",
      "  Message from the solver:\n",
      "  \"kHighsModelStatusOptimal\"\n",
      "\n",
      "* Candidate solution (result #1)\n",
      "  Primal status      : FEASIBLE_POINT\n",
      "  Dual status        : NO_SOLUTION\n",
      "  Objective value    : -2.19172e+03\n",
      "  Objective bound    : 2.19172e+03\n",
      "  Relative gap       : 0.00000e+00\n",
      "\n",
      "* Work counters\n",
      "  Solve time (sec)   : 0.00000e+00\n",
      "  Simplex iterations : 0\n",
      "  Barrier iterations : -1\n",
      "  Node count         : 0\n",
      "\n",
      " Tech     | Size factor\n",
      "========================\n",
      " soec     | 38.462\n",
      " boiler   | 3.4012\n",
      " EH       | 7.3295\n",
      " CT       | 1.7707\n",
      "------------------------\n"
     ]
    },
    {
     "data": {
      "application/vnd.plotly.v1+json": {
       "config": {
        "editable": false,
        "responsive": true,
        "scrollZoom": true,
        "showLink": false,
        "staticPlot": false
       },
       "data": [
        {
         "link": {
          "color": [
           "rgba(186,186,186,0.5)",
           "rgba(186,186,186,0.5)",
           "rgba(186,186,186,0.5)",
           "rgba(186,186,186,0.5)",
           "rgba(186,186,186,0.5)",
           "rgba(186,186,186,0.5)",
           "rgba(186,186,186,0.5)",
           "rgba(186,186,186,0.5)",
           "rgba(186,186,186,0.5)",
           "rgba(186,186,186,0.5)",
           "rgba(255,129,127,0.5)",
           "rgba(255,129,127,0.5)",
           "rgba(255,129,127,0.5)",
           "rgba(255,129,127,0.5)",
           "rgba(255,129,127,0.5)",
           "rgba(255,129,127,0.5)",
           "rgba(255,129,127,0.5)",
           "rgba(255,129,127,0.5)",
           "rgba(255,129,127,0.5)",
           "rgba(255,129,127,0.5)"
          ],
          "source": [
           8,
           7,
           0,
           0,
           0,
           7,
           5,
           1,
           7,
           7,
           9,
           0,
           0,
           9,
           0,
           0,
           9,
           9,
           2,
           9
          ],
          "target": [
           0,
           0,
           6,
           5,
           4,
           1,
           1,
           8,
           2,
           3,
           0,
           9,
           9,
           0,
           9,
           9,
           1,
           1,
           9,
           3
          ],
          "value": [
           8758.471393130558,
           34226.17994,
           39389.36155555555,
           0,
           0,
           0.0578204,
           0,
           8758.430119999999,
           7329.5,
           25.32101,
           4638.90182,
           3671.58252,
           347.31186,
           2383.87476,
           4061.97182,
           2141.5641600000004,
           1109.13132,
           7649.2988,
           7329.5,
           1770.7
          ]
         },
         "node": {
          "color": [
           "blue",
           "blue",
           "blue",
           "blue",
           "#90EE90",
           "#90EE90",
           "#90EE90",
           "#90EE90",
           "#90EE90",
           "red"
          ],
          "label": [
           "soec",
           "boiler",
           "EH",
           "CT",
           "o2",
           "water",
           "h2",
           "power",
           "steam",
           "Heat network"
          ],
          "line": {
           "color": "black",
           "width": 0.5
          },
          "pad": 15,
          "thickness": 20
         },
         "type": "sankey"
        }
       ],
       "frames": [],
       "layout": {
        "margin": {
         "b": 50,
         "l": 50,
         "r": 50,
         "t": 60
        },
        "template": {
         "data": {
          "bar": [
           {
            "error_x": {
             "color": "#2a3f5f"
            },
            "error_y": {
             "color": "#2a3f5f"
            },
            "marker": {
             "line": {
              "color": "#E5ECF6",
              "width": 0.5
             }
            },
            "type": "bar"
           }
          ],
          "barpolar": [
           {
            "marker": {
             "line": {
              "color": "#E5ECF6",
              "width": 0.5
             }
            },
            "type": "barpolar"
           }
          ],
          "carpet": [
           {
            "aaxis": {
             "endlinecolor": "#2a3f5f",
             "gridcolor": "white",
             "linecolor": "white",
             "minorgridcolor": "white",
             "startlinecolor": "#2a3f5f"
            },
            "baxis": {
             "endlinecolor": "#2a3f5f",
             "gridcolor": "white",
             "linecolor": "white",
             "minorgridcolor": "white",
             "startlinecolor": "#2a3f5f"
            },
            "type": "carpet"
           }
          ],
          "choropleth": [
           {
            "colorbar": {
             "outlinewidth": 0,
             "ticks": ""
            },
            "type": "choropleth"
           }
          ],
          "contour": [
           {
            "colorbar": {
             "outlinewidth": 0,
             "ticks": ""
            },
            "colorscale": [
             [
              0,
              "#0d0887"
             ],
             [
              0.1111111111111111,
              "#46039f"
             ],
             [
              0.2222222222222222,
              "#7201a8"
             ],
             [
              0.3333333333333333,
              "#9c179e"
             ],
             [
              0.4444444444444444,
              "#bd3786"
             ],
             [
              0.5555555555555556,
              "#d8576b"
             ],
             [
              0.6666666666666666,
              "#ed7953"
             ],
             [
              0.7777777777777778,
              "#fb9f3a"
             ],
             [
              0.8888888888888888,
              "#fdca26"
             ],
             [
              1,
              "#f0f921"
             ]
            ],
            "type": "contour"
           }
          ],
          "contourcarpet": [
           {
            "colorbar": {
             "outlinewidth": 0,
             "ticks": ""
            },
            "type": "contourcarpet"
           }
          ],
          "heatmap": [
           {
            "colorbar": {
             "outlinewidth": 0,
             "ticks": ""
            },
            "colorscale": [
             [
              0,
              "#0d0887"
             ],
             [
              0.1111111111111111,
              "#46039f"
             ],
             [
              0.2222222222222222,
              "#7201a8"
             ],
             [
              0.3333333333333333,
              "#9c179e"
             ],
             [
              0.4444444444444444,
              "#bd3786"
             ],
             [
              0.5555555555555556,
              "#d8576b"
             ],
             [
              0.6666666666666666,
              "#ed7953"
             ],
             [
              0.7777777777777778,
              "#fb9f3a"
             ],
             [
              0.8888888888888888,
              "#fdca26"
             ],
             [
              1,
              "#f0f921"
             ]
            ],
            "type": "heatmap"
           }
          ],
          "heatmapgl": [
           {
            "colorbar": {
             "outlinewidth": 0,
             "ticks": ""
            },
            "colorscale": [
             [
              0,
              "#0d0887"
             ],
             [
              0.1111111111111111,
              "#46039f"
             ],
             [
              0.2222222222222222,
              "#7201a8"
             ],
             [
              0.3333333333333333,
              "#9c179e"
             ],
             [
              0.4444444444444444,
              "#bd3786"
             ],
             [
              0.5555555555555556,
              "#d8576b"
             ],
             [
              0.6666666666666666,
              "#ed7953"
             ],
             [
              0.7777777777777778,
              "#fb9f3a"
             ],
             [
              0.8888888888888888,
              "#fdca26"
             ],
             [
              1,
              "#f0f921"
             ]
            ],
            "type": "heatmapgl"
           }
          ],
          "histogram": [
           {
            "marker": {
             "colorbar": {
              "outlinewidth": 0,
              "ticks": ""
             }
            },
            "type": "histogram"
           }
          ],
          "histogram2d": [
           {
            "colorbar": {
             "outlinewidth": 0,
             "ticks": ""
            },
            "colorscale": [
             [
              0,
              "#0d0887"
             ],
             [
              0.1111111111111111,
              "#46039f"
             ],
             [
              0.2222222222222222,
              "#7201a8"
             ],
             [
              0.3333333333333333,
              "#9c179e"
             ],
             [
              0.4444444444444444,
              "#bd3786"
             ],
             [
              0.5555555555555556,
              "#d8576b"
             ],
             [
              0.6666666666666666,
              "#ed7953"
             ],
             [
              0.7777777777777778,
              "#fb9f3a"
             ],
             [
              0.8888888888888888,
              "#fdca26"
             ],
             [
              1,
              "#f0f921"
             ]
            ],
            "type": "histogram2d"
           }
          ],
          "histogram2dcontour": [
           {
            "colorbar": {
             "outlinewidth": 0,
             "ticks": ""
            },
            "colorscale": [
             [
              0,
              "#0d0887"
             ],
             [
              0.1111111111111111,
              "#46039f"
             ],
             [
              0.2222222222222222,
              "#7201a8"
             ],
             [
              0.3333333333333333,
              "#9c179e"
             ],
             [
              0.4444444444444444,
              "#bd3786"
             ],
             [
              0.5555555555555556,
              "#d8576b"
             ],
             [
              0.6666666666666666,
              "#ed7953"
             ],
             [
              0.7777777777777778,
              "#fb9f3a"
             ],
             [
              0.8888888888888888,
              "#fdca26"
             ],
             [
              1,
              "#f0f921"
             ]
            ],
            "type": "histogram2dcontour"
           }
          ],
          "mesh3d": [
           {
            "colorbar": {
             "outlinewidth": 0,
             "ticks": ""
            },
            "type": "mesh3d"
           }
          ],
          "parcoords": [
           {
            "line": {
             "colorbar": {
              "outlinewidth": 0,
              "ticks": ""
             }
            },
            "type": "parcoords"
           }
          ],
          "pie": [
           {
            "automargin": true,
            "type": "pie"
           }
          ],
          "scatter": [
           {
            "marker": {
             "colorbar": {
              "outlinewidth": 0,
              "ticks": ""
             }
            },
            "type": "scatter"
           }
          ],
          "scatter3d": [
           {
            "line": {
             "colorbar": {
              "outlinewidth": 0,
              "ticks": ""
             }
            },
            "marker": {
             "colorbar": {
              "outlinewidth": 0,
              "ticks": ""
             }
            },
            "type": "scatter3d"
           }
          ],
          "scattercarpet": [
           {
            "marker": {
             "colorbar": {
              "outlinewidth": 0,
              "ticks": ""
             }
            },
            "type": "scattercarpet"
           }
          ],
          "scattergeo": [
           {
            "marker": {
             "colorbar": {
              "outlinewidth": 0,
              "ticks": ""
             }
            },
            "type": "scattergeo"
           }
          ],
          "scattergl": [
           {
            "marker": {
             "colorbar": {
              "outlinewidth": 0,
              "ticks": ""
             }
            },
            "type": "scattergl"
           }
          ],
          "scattermapbox": [
           {
            "marker": {
             "colorbar": {
              "outlinewidth": 0,
              "ticks": ""
             }
            },
            "type": "scattermapbox"
           }
          ],
          "scatterpolar": [
           {
            "marker": {
             "colorbar": {
              "outlinewidth": 0,
              "ticks": ""
             }
            },
            "type": "scatterpolar"
           }
          ],
          "scatterpolargl": [
           {
            "marker": {
             "colorbar": {
              "outlinewidth": 0,
              "ticks": ""
             }
            },
            "type": "scatterpolargl"
           }
          ],
          "scatterternary": [
           {
            "marker": {
             "colorbar": {
              "outlinewidth": 0,
              "ticks": ""
             }
            },
            "type": "scatterternary"
           }
          ],
          "surface": [
           {
            "colorbar": {
             "outlinewidth": 0,
             "ticks": ""
            },
            "colorscale": [
             [
              0,
              "#0d0887"
             ],
             [
              0.1111111111111111,
              "#46039f"
             ],
             [
              0.2222222222222222,
              "#7201a8"
             ],
             [
              0.3333333333333333,
              "#9c179e"
             ],
             [
              0.4444444444444444,
              "#bd3786"
             ],
             [
              0.5555555555555556,
              "#d8576b"
             ],
             [
              0.6666666666666666,
              "#ed7953"
             ],
             [
              0.7777777777777778,
              "#fb9f3a"
             ],
             [
              0.8888888888888888,
              "#fdca26"
             ],
             [
              1,
              "#f0f921"
             ]
            ],
            "type": "surface"
           }
          ],
          "table": [
           {
            "cells": {
             "fill": {
              "color": "#EBF0F8"
             },
             "line": {
              "color": "white"
             }
            },
            "header": {
             "fill": {
              "color": "#C8D4E3"
             },
             "line": {
              "color": "white"
             }
            },
            "type": "table"
           }
          ]
         },
         "layout": {
          "annotationdefaults": {
           "arrowcolor": "#2a3f5f",
           "arrowhead": 0,
           "arrowwidth": 1
          },
          "autotypenumbers": "strict",
          "coloraxis": {
           "colorbar": {
            "outlinewidth": 0,
            "ticks": ""
           }
          },
          "colorscale": {
           "diverging": [
            [
             0,
             "#8e0152"
            ],
            [
             0.1,
             "#c51b7d"
            ],
            [
             0.2,
             "#de77ae"
            ],
            [
             0.3,
             "#f1b6da"
            ],
            [
             0.4,
             "#fde0ef"
            ],
            [
             0.5,
             "#f7f7f7"
            ],
            [
             0.6,
             "#e6f5d0"
            ],
            [
             0.7,
             "#b8e186"
            ],
            [
             0.8,
             "#7fbc41"
            ],
            [
             0.9,
             "#4d9221"
            ],
            [
             1,
             "#276419"
            ]
           ],
           "sequential": [
            [
             0,
             "#0d0887"
            ],
            [
             0.1111111111111111,
             "#46039f"
            ],
            [
             0.2222222222222222,
             "#7201a8"
            ],
            [
             0.3333333333333333,
             "#9c179e"
            ],
            [
             0.4444444444444444,
             "#bd3786"
            ],
            [
             0.5555555555555556,
             "#d8576b"
            ],
            [
             0.6666666666666666,
             "#ed7953"
            ],
            [
             0.7777777777777778,
             "#fb9f3a"
            ],
            [
             0.8888888888888888,
             "#fdca26"
            ],
            [
             1,
             "#f0f921"
            ]
           ],
           "sequentialminus": [
            [
             0,
             "#0d0887"
            ],
            [
             0.1111111111111111,
             "#46039f"
            ],
            [
             0.2222222222222222,
             "#7201a8"
            ],
            [
             0.3333333333333333,
             "#9c179e"
            ],
            [
             0.4444444444444444,
             "#bd3786"
            ],
            [
             0.5555555555555556,
             "#d8576b"
            ],
            [
             0.6666666666666666,
             "#ed7953"
            ],
            [
             0.7777777777777778,
             "#fb9f3a"
            ],
            [
             0.8888888888888888,
             "#fdca26"
            ],
            [
             1,
             "#f0f921"
            ]
           ]
          },
          "colorway": [
           "#636efa",
           "#EF553B",
           "#00cc96",
           "#ab63fa",
           "#FFA15A",
           "#19d3f3",
           "#FF6692",
           "#B6E880",
           "#FF97FF",
           "#FECB52"
          ],
          "font": {
           "color": "#2a3f5f"
          },
          "geo": {
           "bgcolor": "white",
           "lakecolor": "white",
           "landcolor": "#E5ECF6",
           "showlakes": true,
           "showland": true,
           "subunitcolor": "white"
          },
          "hoverlabel": {
           "align": "left"
          },
          "hovermode": "closest",
          "mapbox": {
           "style": "light"
          },
          "paper_bgcolor": "white",
          "plot_bgcolor": "#E5ECF6",
          "polar": {
           "angularaxis": {
            "gridcolor": "white",
            "linecolor": "white",
            "ticks": ""
           },
           "bgcolor": "#E5ECF6",
           "radialaxis": {
            "gridcolor": "white",
            "linecolor": "white",
            "ticks": ""
           }
          },
          "scene": {
           "xaxis": {
            "backgroundcolor": "#E5ECF6",
            "gridcolor": "white",
            "gridwidth": 2,
            "linecolor": "white",
            "showbackground": true,
            "ticks": "",
            "zerolinecolor": "white"
           },
           "yaxis": {
            "backgroundcolor": "#E5ECF6",
            "gridcolor": "white",
            "gridwidth": 2,
            "linecolor": "white",
            "showbackground": true,
            "ticks": "",
            "zerolinecolor": "white"
           },
           "zaxis": {
            "backgroundcolor": "#E5ECF6",
            "gridcolor": "white",
            "gridwidth": 2,
            "linecolor": "white",
            "showbackground": true,
            "ticks": "",
            "zerolinecolor": "white"
           }
          },
          "shapedefaults": {
           "line": {
            "color": "#2a3f5f"
           }
          },
          "ternary": {
           "aaxis": {
            "gridcolor": "white",
            "linecolor": "white",
            "ticks": ""
           },
           "baxis": {
            "gridcolor": "white",
            "linecolor": "white",
            "ticks": ""
           },
           "bgcolor": "#E5ECF6",
           "caxis": {
            "gridcolor": "white",
            "linecolor": "white",
            "ticks": ""
           }
          },
          "title": {
           "x": 0.05
          },
          "xaxis": {
           "automargin": true,
           "gridcolor": "white",
           "linecolor": "white",
           "ticks": "",
           "title": {
            "standoff": 15
           },
           "zerolinecolor": "white",
           "zerolinewidth": 2
          },
          "yaxis": {
           "automargin": true,
           "gridcolor": "white",
           "linecolor": "white",
           "ticks": "",
           "title": {
            "standoff": 15
           },
           "zerolinecolor": "white",
           "zerolinewidth": 2
          }
         }
        }
       }
      },
      "text/html": [
       "<div\n",
       "    class=\"webio-mountpoint\"\n",
       "    data-webio-mountpoint=\"13970765253866185614\"\n",
       ">\n",
       "    <script>\n",
       "    (function(){\n",
       "    // Some integrations (namely, IJulia/Jupyter) use an alternate render pathway than\n",
       "    // just putting the html on the page. If WebIO isn't defined, then it's pretty likely\n",
       "    // that we're in one of those situations and the integration just isn't installed\n",
       "    // correctly.\n",
       "    if (typeof window.WebIO === \"undefined\") {\n",
       "        document\n",
       "            .querySelector('[data-webio-mountpoint=\"13970765253866185614\"]')\n",
       "            .innerHTML = (\n",
       "                '<div style=\"padding: 1em; background-color: #f8d6da; border: 1px solid #f5c6cb; font-weight: bold;\">' +\n",
       "                '<p><strong>WebIO not detected.</strong></p>' +\n",
       "                '<p>Please read ' +\n",
       "                '<a href=\"https://juliagizmos.github.io/WebIO.jl/latest/troubleshooting/not-detected/\" target=\"_blank\">the troubleshooting guide</a> ' +\n",
       "                'for more information on how to resolve this issue.</p>' +\n",
       "                '<p><a href=\"https://juliagizmos.github.io/WebIO.jl/latest/troubleshooting/not-detected/\" target=\"_blank\">https://juliagizmos.github.io/WebIO.jl/latest/troubleshooting/not-detected/</a></p>' +\n",
       "                '</div>'\n",
       "            );\n",
       "        return;\n",
       "    }\n",
       "    WebIO.mount(\n",
       "        document.querySelector('[data-webio-mountpoint=\"13970765253866185614\"]'),\n",
       "        {\"props\":{},\"nodeType\":\"Scope\",\"type\":\"node\",\"instanceArgs\":{\"imports\":{\"data\":[{\"name\":\"Plotly\",\"type\":\"js\",\"url\":\"\\/assetserver\\/0920e676c106f32ba509e3957ec7f2e1975e6dda-plotly.min.js\"},{\"name\":null,\"type\":\"js\",\"url\":\"\\/assetserver\\/a5a7489247caefe55cf69adf7b5b90ef582ba49e-plotly_webio.bundle.js\"}],\"type\":\"async_block\"},\"id\":\"4404884844973703160\",\"handlers\":{\"_toImage\":[\"(function (options){return this.Plotly.toImage(this.plotElem,options).then((function (data){return WebIO.setval({\\\"name\\\":\\\"image\\\",\\\"scope\\\":\\\"4404884844973703160\\\",\\\"id\\\":\\\"15751551990163831683\\\",\\\"type\\\":\\\"observable\\\"},data)}))})\"],\"__get_gd_contents\":[\"(function (prop){prop==\\\"data\\\" ? (WebIO.setval({\\\"name\\\":\\\"__gd_contents\\\",\\\"scope\\\":\\\"4404884844973703160\\\",\\\"id\\\":\\\"1881473682067548458\\\",\\\"type\\\":\\\"observable\\\"},this.plotElem.data)) : undefined; return prop==\\\"layout\\\" ? (WebIO.setval({\\\"name\\\":\\\"__gd_contents\\\",\\\"scope\\\":\\\"4404884844973703160\\\",\\\"id\\\":\\\"1881473682067548458\\\",\\\"type\\\":\\\"observable\\\"},this.plotElem.layout)) : undefined})\"],\"_downloadImage\":[\"(function (options){return this.Plotly.downloadImage(this.plotElem,options)})\"],\"_commands\":[\"(function (args){var fn=args.shift(); var elem=this.plotElem; var Plotly=this.Plotly; args.unshift(elem); return Plotly[fn].apply(this,args)})\"]},\"systemjs_options\":null,\"mount_callbacks\":[\"function () {\\n    var handler = ((function (Plotly,PlotlyWebIO){PlotlyWebIO.init(WebIO); var gd=this.dom.querySelector(\\\"#plot-3d9cf9d7-003b-44fb-897d-5f664e2844a5\\\"); this.plotElem=gd; this.Plotly=Plotly; (window.Blink!==undefined) ? (gd.style.width=\\\"100%\\\", gd.style.height=\\\"100vh\\\", gd.style.marginLeft=\\\"0%\\\", gd.style.marginTop=\\\"0vh\\\") : undefined; window.onresize=(function (){return Plotly.Plots.resize(gd)}); Plotly.newPlot(gd,[{\\\"link\\\":{\\\"color\\\":[\\\"rgba(186,186,186,0.5)\\\",\\\"rgba(186,186,186,0.5)\\\",\\\"rgba(186,186,186,0.5)\\\",\\\"rgba(186,186,186,0.5)\\\",\\\"rgba(186,186,186,0.5)\\\",\\\"rgba(186,186,186,0.5)\\\",\\\"rgba(186,186,186,0.5)\\\",\\\"rgba(186,186,186,0.5)\\\",\\\"rgba(186,186,186,0.5)\\\",\\\"rgba(186,186,186,0.5)\\\",\\\"rgba(255,129,127,0.5)\\\",\\\"rgba(255,129,127,0.5)\\\",\\\"rgba(255,129,127,0.5)\\\",\\\"rgba(255,129,127,0.5)\\\",\\\"rgba(255,129,127,0.5)\\\",\\\"rgba(255,129,127,0.5)\\\",\\\"rgba(255,129,127,0.5)\\\",\\\"rgba(255,129,127,0.5)\\\",\\\"rgba(255,129,127,0.5)\\\",\\\"rgba(255,129,127,0.5)\\\"],\\\"value\\\":[8758.471393130558,34226.17994,39389.36155555555,0.0,0.0,0.0578204,0.0,8758.430119999999,7329.5,25.32101,4638.90182,3671.58252,347.31186,2383.87476,4061.97182,2141.5641600000004,1109.13132,7649.2988,7329.5,1770.7],\\\"source\\\":[8.0,7.0,0.0,0.0,0.0,7.0,5.0,1.0,7.0,7.0,9.0,0.0,0.0,9.0,0.0,0.0,9.0,9.0,2.0,9.0],\\\"target\\\":[0.0,0.0,6.0,5.0,4.0,1.0,1.0,8.0,2.0,3.0,0.0,9.0,9.0,0.0,9.0,9.0,1.0,1.0,9.0,3.0]},\\\"node\\\":{\\\"color\\\":[\\\"blue\\\",\\\"blue\\\",\\\"blue\\\",\\\"blue\\\",\\\"#90EE90\\\",\\\"#90EE90\\\",\\\"#90EE90\\\",\\\"#90EE90\\\",\\\"#90EE90\\\",\\\"red\\\"],\\\"pad\\\":15,\\\"line\\\":{\\\"color\\\":\\\"black\\\",\\\"width\\\":0.5},\\\"label\\\":[\\\"soec\\\",\\\"boiler\\\",\\\"EH\\\",\\\"CT\\\",\\\"o2\\\",\\\"water\\\",\\\"h2\\\",\\\"power\\\",\\\"steam\\\",\\\"Heat network\\\"],\\\"thickness\\\":20},\\\"type\\\":\\\"sankey\\\"}],{\\\"template\\\":{\\\"layout\\\":{\\\"coloraxis\\\":{\\\"colorbar\\\":{\\\"ticks\\\":\\\"\\\",\\\"outlinewidth\\\":0}},\\\"xaxis\\\":{\\\"gridcolor\\\":\\\"white\\\",\\\"zerolinewidth\\\":2,\\\"title\\\":{\\\"standoff\\\":15},\\\"ticks\\\":\\\"\\\",\\\"zerolinecolor\\\":\\\"white\\\",\\\"automargin\\\":true,\\\"linecolor\\\":\\\"white\\\"},\\\"hovermode\\\":\\\"closest\\\",\\\"paper_bgcolor\\\":\\\"white\\\",\\\"geo\\\":{\\\"showlakes\\\":true,\\\"showland\\\":true,\\\"landcolor\\\":\\\"#E5ECF6\\\",\\\"bgcolor\\\":\\\"white\\\",\\\"subunitcolor\\\":\\\"white\\\",\\\"lakecolor\\\":\\\"white\\\"},\\\"colorscale\\\":{\\\"sequential\\\":[[0.0,\\\"#0d0887\\\"],[0.1111111111111111,\\\"#46039f\\\"],[0.2222222222222222,\\\"#7201a8\\\"],[0.3333333333333333,\\\"#9c179e\\\"],[0.4444444444444444,\\\"#bd3786\\\"],[0.5555555555555556,\\\"#d8576b\\\"],[0.6666666666666666,\\\"#ed7953\\\"],[0.7777777777777778,\\\"#fb9f3a\\\"],[0.8888888888888888,\\\"#fdca26\\\"],[1.0,\\\"#f0f921\\\"]],\\\"diverging\\\":[[0,\\\"#8e0152\\\"],[0.1,\\\"#c51b7d\\\"],[0.2,\\\"#de77ae\\\"],[0.3,\\\"#f1b6da\\\"],[0.4,\\\"#fde0ef\\\"],[0.5,\\\"#f7f7f7\\\"],[0.6,\\\"#e6f5d0\\\"],[0.7,\\\"#b8e186\\\"],[0.8,\\\"#7fbc41\\\"],[0.9,\\\"#4d9221\\\"],[1,\\\"#276419\\\"]],\\\"sequentialminus\\\":[[0.0,\\\"#0d0887\\\"],[0.1111111111111111,\\\"#46039f\\\"],[0.2222222222222222,\\\"#7201a8\\\"],[0.3333333333333333,\\\"#9c179e\\\"],[0.4444444444444444,\\\"#bd3786\\\"],[0.5555555555555556,\\\"#d8576b\\\"],[0.6666666666666666,\\\"#ed7953\\\"],[0.7777777777777778,\\\"#fb9f3a\\\"],[0.8888888888888888,\\\"#fdca26\\\"],[1.0,\\\"#f0f921\\\"]]},\\\"yaxis\\\":{\\\"gridcolor\\\":\\\"white\\\",\\\"zerolinewidth\\\":2,\\\"title\\\":{\\\"standoff\\\":15},\\\"ticks\\\":\\\"\\\",\\\"zerolinecolor\\\":\\\"white\\\",\\\"automargin\\\":true,\\\"linecolor\\\":\\\"white\\\"},\\\"shapedefaults\\\":{\\\"line\\\":{\\\"color\\\":\\\"#2a3f5f\\\"}},\\\"hoverlabel\\\":{\\\"align\\\":\\\"left\\\"},\\\"mapbox\\\":{\\\"style\\\":\\\"light\\\"},\\\"polar\\\":{\\\"angularaxis\\\":{\\\"gridcolor\\\":\\\"white\\\",\\\"ticks\\\":\\\"\\\",\\\"linecolor\\\":\\\"white\\\"},\\\"bgcolor\\\":\\\"#E5ECF6\\\",\\\"radialaxis\\\":{\\\"gridcolor\\\":\\\"white\\\",\\\"ticks\\\":\\\"\\\",\\\"linecolor\\\":\\\"white\\\"}},\\\"autotypenumbers\\\":\\\"strict\\\",\\\"font\\\":{\\\"color\\\":\\\"#2a3f5f\\\"},\\\"ternary\\\":{\\\"baxis\\\":{\\\"gridcolor\\\":\\\"white\\\",\\\"ticks\\\":\\\"\\\",\\\"linecolor\\\":\\\"white\\\"},\\\"bgcolor\\\":\\\"#E5ECF6\\\",\\\"caxis\\\":{\\\"gridcolor\\\":\\\"white\\\",\\\"ticks\\\":\\\"\\\",\\\"linecolor\\\":\\\"white\\\"},\\\"aaxis\\\":{\\\"gridcolor\\\":\\\"white\\\",\\\"ticks\\\":\\\"\\\",\\\"linecolor\\\":\\\"white\\\"}},\\\"annotationdefaults\\\":{\\\"arrowhead\\\":0,\\\"arrowwidth\\\":1,\\\"arrowcolor\\\":\\\"#2a3f5f\\\"},\\\"plot_bgcolor\\\":\\\"#E5ECF6\\\",\\\"title\\\":{\\\"x\\\":0.05},\\\"scene\\\":{\\\"xaxis\\\":{\\\"gridcolor\\\":\\\"white\\\",\\\"gridwidth\\\":2,\\\"backgroundcolor\\\":\\\"#E5ECF6\\\",\\\"ticks\\\":\\\"\\\",\\\"showbackground\\\":true,\\\"zerolinecolor\\\":\\\"white\\\",\\\"linecolor\\\":\\\"white\\\"},\\\"zaxis\\\":{\\\"gridcolor\\\":\\\"white\\\",\\\"gridwidth\\\":2,\\\"backgroundcolor\\\":\\\"#E5ECF6\\\",\\\"ticks\\\":\\\"\\\",\\\"showbackground\\\":true,\\\"zerolinecolor\\\":\\\"white\\\",\\\"linecolor\\\":\\\"white\\\"},\\\"yaxis\\\":{\\\"gridcolor\\\":\\\"white\\\",\\\"gridwidth\\\":2,\\\"backgroundcolor\\\":\\\"#E5ECF6\\\",\\\"ticks\\\":\\\"\\\",\\\"showbackground\\\":true,\\\"zerolinecolor\\\":\\\"white\\\",\\\"linecolor\\\":\\\"white\\\"}},\\\"colorway\\\":[\\\"#636efa\\\",\\\"#EF553B\\\",\\\"#00cc96\\\",\\\"#ab63fa\\\",\\\"#FFA15A\\\",\\\"#19d3f3\\\",\\\"#FF6692\\\",\\\"#B6E880\\\",\\\"#FF97FF\\\",\\\"#FECB52\\\"]},\\\"data\\\":{\\\"barpolar\\\":[{\\\"type\\\":\\\"barpolar\\\",\\\"marker\\\":{\\\"line\\\":{\\\"color\\\":\\\"#E5ECF6\\\",\\\"width\\\":0.5}}}],\\\"carpet\\\":[{\\\"aaxis\\\":{\\\"gridcolor\\\":\\\"white\\\",\\\"endlinecolor\\\":\\\"#2a3f5f\\\",\\\"minorgridcolor\\\":\\\"white\\\",\\\"startlinecolor\\\":\\\"#2a3f5f\\\",\\\"linecolor\\\":\\\"white\\\"},\\\"type\\\":\\\"carpet\\\",\\\"baxis\\\":{\\\"gridcolor\\\":\\\"white\\\",\\\"endlinecolor\\\":\\\"#2a3f5f\\\",\\\"minorgridcolor\\\":\\\"white\\\",\\\"startlinecolor\\\":\\\"#2a3f5f\\\",\\\"linecolor\\\":\\\"white\\\"}}],\\\"scatterpolar\\\":[{\\\"type\\\":\\\"scatterpolar\\\",\\\"marker\\\":{\\\"colorbar\\\":{\\\"ticks\\\":\\\"\\\",\\\"outlinewidth\\\":0}}}],\\\"parcoords\\\":[{\\\"line\\\":{\\\"colorbar\\\":{\\\"ticks\\\":\\\"\\\",\\\"outlinewidth\\\":0}},\\\"type\\\":\\\"parcoords\\\"}],\\\"scatter\\\":[{\\\"type\\\":\\\"scatter\\\",\\\"marker\\\":{\\\"colorbar\\\":{\\\"ticks\\\":\\\"\\\",\\\"outlinewidth\\\":0}}}],\\\"histogram2dcontour\\\":[{\\\"colorbar\\\":{\\\"ticks\\\":\\\"\\\",\\\"outlinewidth\\\":0},\\\"type\\\":\\\"histogram2dcontour\\\",\\\"colorscale\\\":[[0.0,\\\"#0d0887\\\"],[0.1111111111111111,\\\"#46039f\\\"],[0.2222222222222222,\\\"#7201a8\\\"],[0.3333333333333333,\\\"#9c179e\\\"],[0.4444444444444444,\\\"#bd3786\\\"],[0.5555555555555556,\\\"#d8576b\\\"],[0.6666666666666666,\\\"#ed7953\\\"],[0.7777777777777778,\\\"#fb9f3a\\\"],[0.8888888888888888,\\\"#fdca26\\\"],[1.0,\\\"#f0f921\\\"]]}],\\\"contour\\\":[{\\\"colorbar\\\":{\\\"ticks\\\":\\\"\\\",\\\"outlinewidth\\\":0},\\\"type\\\":\\\"contour\\\",\\\"colorscale\\\":[[0.0,\\\"#0d0887\\\"],[0.1111111111111111,\\\"#46039f\\\"],[0.2222222222222222,\\\"#7201a8\\\"],[0.3333333333333333,\\\"#9c179e\\\"],[0.4444444444444444,\\\"#bd3786\\\"],[0.5555555555555556,\\\"#d8576b\\\"],[0.6666666666666666,\\\"#ed7953\\\"],[0.7777777777777778,\\\"#fb9f3a\\\"],[0.8888888888888888,\\\"#fdca26\\\"],[1.0,\\\"#f0f921\\\"]]}],\\\"scattercarpet\\\":[{\\\"type\\\":\\\"scattercarpet\\\",\\\"marker\\\":{\\\"colorbar\\\":{\\\"ticks\\\":\\\"\\\",\\\"outlinewidth\\\":0}}}],\\\"mesh3d\\\":[{\\\"colorbar\\\":{\\\"ticks\\\":\\\"\\\",\\\"outlinewidth\\\":0},\\\"type\\\":\\\"mesh3d\\\"}],\\\"surface\\\":[{\\\"colorbar\\\":{\\\"ticks\\\":\\\"\\\",\\\"outlinewidth\\\":0},\\\"type\\\":\\\"surface\\\",\\\"colorscale\\\":[[0.0,\\\"#0d0887\\\"],[0.1111111111111111,\\\"#46039f\\\"],[0.2222222222222222,\\\"#7201a8\\\"],[0.3333333333333333,\\\"#9c179e\\\"],[0.4444444444444444,\\\"#bd3786\\\"],[0.5555555555555556,\\\"#d8576b\\\"],[0.6666666666666666,\\\"#ed7953\\\"],[0.7777777777777778,\\\"#fb9f3a\\\"],[0.8888888888888888,\\\"#fdca26\\\"],[1.0,\\\"#f0f921\\\"]]}],\\\"scattermapbox\\\":[{\\\"type\\\":\\\"scattermapbox\\\",\\\"marker\\\":{\\\"colorbar\\\":{\\\"ticks\\\":\\\"\\\",\\\"outlinewidth\\\":0}}}],\\\"scattergeo\\\":[{\\\"type\\\":\\\"scattergeo\\\",\\\"marker\\\":{\\\"colorbar\\\":{\\\"ticks\\\":\\\"\\\",\\\"outlinewidth\\\":0}}}],\\\"histogram\\\":[{\\\"type\\\":\\\"histogram\\\",\\\"marker\\\":{\\\"colorbar\\\":{\\\"ticks\\\":\\\"\\\",\\\"outlinewidth\\\":0}}}],\\\"pie\\\":[{\\\"type\\\":\\\"pie\\\",\\\"automargin\\\":true}],\\\"choropleth\\\":[{\\\"colorbar\\\":{\\\"ticks\\\":\\\"\\\",\\\"outlinewidth\\\":0},\\\"type\\\":\\\"choropleth\\\"}],\\\"heatmapgl\\\":[{\\\"colorbar\\\":{\\\"ticks\\\":\\\"\\\",\\\"outlinewidth\\\":0},\\\"type\\\":\\\"heatmapgl\\\",\\\"colorscale\\\":[[0.0,\\\"#0d0887\\\"],[0.1111111111111111,\\\"#46039f\\\"],[0.2222222222222222,\\\"#7201a8\\\"],[0.3333333333333333,\\\"#9c179e\\\"],[0.4444444444444444,\\\"#bd3786\\\"],[0.5555555555555556,\\\"#d8576b\\\"],[0.6666666666666666,\\\"#ed7953\\\"],[0.7777777777777778,\\\"#fb9f3a\\\"],[0.8888888888888888,\\\"#fdca26\\\"],[1.0,\\\"#f0f921\\\"]]}],\\\"bar\\\":[{\\\"type\\\":\\\"bar\\\",\\\"error_y\\\":{\\\"color\\\":\\\"#2a3f5f\\\"},\\\"error_x\\\":{\\\"color\\\":\\\"#2a3f5f\\\"},\\\"marker\\\":{\\\"line\\\":{\\\"color\\\":\\\"#E5ECF6\\\",\\\"width\\\":0.5}}}],\\\"heatmap\\\":[{\\\"colorbar\\\":{\\\"ticks\\\":\\\"\\\",\\\"outlinewidth\\\":0},\\\"type\\\":\\\"heatmap\\\",\\\"colorscale\\\":[[0.0,\\\"#0d0887\\\"],[0.1111111111111111,\\\"#46039f\\\"],[0.2222222222222222,\\\"#7201a8\\\"],[0.3333333333333333,\\\"#9c179e\\\"],[0.4444444444444444,\\\"#bd3786\\\"],[0.5555555555555556,\\\"#d8576b\\\"],[0.6666666666666666,\\\"#ed7953\\\"],[0.7777777777777778,\\\"#fb9f3a\\\"],[0.8888888888888888,\\\"#fdca26\\\"],[1.0,\\\"#f0f921\\\"]]}],\\\"contourcarpet\\\":[{\\\"colorbar\\\":{\\\"ticks\\\":\\\"\\\",\\\"outlinewidth\\\":0},\\\"type\\\":\\\"contourcarpet\\\"}],\\\"table\\\":[{\\\"type\\\":\\\"table\\\",\\\"header\\\":{\\\"line\\\":{\\\"color\\\":\\\"white\\\"},\\\"fill\\\":{\\\"color\\\":\\\"#C8D4E3\\\"}},\\\"cells\\\":{\\\"line\\\":{\\\"color\\\":\\\"white\\\"},\\\"fill\\\":{\\\"color\\\":\\\"#EBF0F8\\\"}}}],\\\"scatter3d\\\":[{\\\"line\\\":{\\\"colorbar\\\":{\\\"ticks\\\":\\\"\\\",\\\"outlinewidth\\\":0}},\\\"type\\\":\\\"scatter3d\\\",\\\"marker\\\":{\\\"colorbar\\\":{\\\"ticks\\\":\\\"\\\",\\\"outlinewidth\\\":0}}}],\\\"scattergl\\\":[{\\\"type\\\":\\\"scattergl\\\",\\\"marker\\\":{\\\"colorbar\\\":{\\\"ticks\\\":\\\"\\\",\\\"outlinewidth\\\":0}}}],\\\"histogram2d\\\":[{\\\"colorbar\\\":{\\\"ticks\\\":\\\"\\\",\\\"outlinewidth\\\":0},\\\"type\\\":\\\"histogram2d\\\",\\\"colorscale\\\":[[0.0,\\\"#0d0887\\\"],[0.1111111111111111,\\\"#46039f\\\"],[0.2222222222222222,\\\"#7201a8\\\"],[0.3333333333333333,\\\"#9c179e\\\"],[0.4444444444444444,\\\"#bd3786\\\"],[0.5555555555555556,\\\"#d8576b\\\"],[0.6666666666666666,\\\"#ed7953\\\"],[0.7777777777777778,\\\"#fb9f3a\\\"],[0.8888888888888888,\\\"#fdca26\\\"],[1.0,\\\"#f0f921\\\"]]}],\\\"scatterternary\\\":[{\\\"type\\\":\\\"scatterternary\\\",\\\"marker\\\":{\\\"colorbar\\\":{\\\"ticks\\\":\\\"\\\",\\\"outlinewidth\\\":0}}}],\\\"scatterpolargl\\\":[{\\\"type\\\":\\\"scatterpolargl\\\",\\\"marker\\\":{\\\"colorbar\\\":{\\\"ticks\\\":\\\"\\\",\\\"outlinewidth\\\":0}}}]}},\\\"margin\\\":{\\\"l\\\":50,\\\"b\\\":50,\\\"r\\\":50,\\\"t\\\":60}},{\\\"showLink\\\":false,\\\"editable\\\":false,\\\"responsive\\\":true,\\\"staticPlot\\\":false,\\\"scrollZoom\\\":true}); gd.on(\\\"plotly_hover\\\",(function (data){var filtered_data=WebIO.PlotlyCommands.filterEventData(gd,data,\\\"hover\\\"); return !(filtered_data.isnil) ? (WebIO.setval({\\\"name\\\":\\\"hover\\\",\\\"scope\\\":\\\"4404884844973703160\\\",\\\"id\\\":\\\"8169096388028360676\\\",\\\"type\\\":\\\"observable\\\"},filtered_data.out)) : undefined})); gd.on(\\\"plotly_unhover\\\",(function (){return WebIO.setval({\\\"name\\\":\\\"hover\\\",\\\"scope\\\":\\\"4404884844973703160\\\",\\\"id\\\":\\\"8169096388028360676\\\",\\\"type\\\":\\\"observable\\\"},{})})); gd.on(\\\"plotly_selected\\\",(function (data){var filtered_data=WebIO.PlotlyCommands.filterEventData(gd,data,\\\"selected\\\"); return !(filtered_data.isnil) ? (WebIO.setval({\\\"name\\\":\\\"selected\\\",\\\"scope\\\":\\\"4404884844973703160\\\",\\\"id\\\":\\\"14567814154786506823\\\",\\\"type\\\":\\\"observable\\\"},filtered_data.out)) : undefined})); gd.on(\\\"plotly_deselect\\\",(function (){return WebIO.setval({\\\"name\\\":\\\"selected\\\",\\\"scope\\\":\\\"4404884844973703160\\\",\\\"id\\\":\\\"14567814154786506823\\\",\\\"type\\\":\\\"observable\\\"},{})})); gd.on(\\\"plotly_relayout\\\",(function (data){var filtered_data=WebIO.PlotlyCommands.filterEventData(gd,data,\\\"relayout\\\"); return !(filtered_data.isnil) ? (WebIO.setval({\\\"name\\\":\\\"relayout\\\",\\\"scope\\\":\\\"4404884844973703160\\\",\\\"id\\\":\\\"3919530186460654405\\\",\\\"type\\\":\\\"observable\\\"},filtered_data.out)) : undefined})); return gd.on(\\\"plotly_click\\\",(function (data){var filtered_data=WebIO.PlotlyCommands.filterEventData(gd,data,\\\"click\\\"); return !(filtered_data.isnil) ? (WebIO.setval({\\\"name\\\":\\\"click\\\",\\\"scope\\\":\\\"4404884844973703160\\\",\\\"id\\\":\\\"5873183979936542897\\\",\\\"type\\\":\\\"observable\\\"},filtered_data.out)) : undefined}))}));\\n    (WebIO.importBlock({\\\"data\\\":[{\\\"name\\\":\\\"Plotly\\\",\\\"type\\\":\\\"js\\\",\\\"url\\\":\\\"\\/assetserver\\/0920e676c106f32ba509e3957ec7f2e1975e6dda-plotly.min.js\\\"},{\\\"name\\\":null,\\\"type\\\":\\\"js\\\",\\\"url\\\":\\\"\\/assetserver\\/a5a7489247caefe55cf69adf7b5b90ef582ba49e-plotly_webio.bundle.js\\\"}],\\\"type\\\":\\\"async_block\\\"})).then((imports) => handler.apply(this, imports));\\n}\\n\"],\"observables\":{\"_toImage\":{\"sync\":false,\"id\":\"12384858119617441022\",\"value\":{}},\"hover\":{\"sync\":false,\"id\":\"8169096388028360676\",\"value\":{}},\"selected\":{\"sync\":false,\"id\":\"14567814154786506823\",\"value\":{}},\"__gd_contents\":{\"sync\":false,\"id\":\"1881473682067548458\",\"value\":{}},\"click\":{\"sync\":false,\"id\":\"5873183979936542897\",\"value\":{}},\"image\":{\"sync\":true,\"id\":\"15751551990163831683\",\"value\":\"\"},\"__get_gd_contents\":{\"sync\":false,\"id\":\"2512957290758853336\",\"value\":\"\"},\"_downloadImage\":{\"sync\":false,\"id\":\"12596052334653835220\",\"value\":{}},\"relayout\":{\"sync\":false,\"id\":\"3919530186460654405\",\"value\":{}},\"_commands\":{\"sync\":false,\"id\":\"9025257245829071675\",\"value\":[]}}},\"children\":[{\"props\":{\"id\":\"plot-3d9cf9d7-003b-44fb-897d-5f664e2844a5\"},\"nodeType\":\"DOM\",\"type\":\"node\",\"instanceArgs\":{\"namespace\":\"html\",\"tag\":\"div\"},\"children\":[]}]},\n",
       "        window,\n",
       "    );\n",
       "    })()\n",
       "    </script>\n",
       "</div>\n"
      ],
      "text/plain": [
       "data: [\n",
       "  \"sankey with fields link, node, and type\"\n",
       "]\n",
       "\n",
       "layout: \"layout with fields margin and template\"\n",
       "\n"
      ]
     },
     "execution_count": 2,
     "metadata": {},
     "output_type": "execute_result"
    }
   ],
   "source": [
    "# Including functions\n",
    "include(\"../../src/vivi.jl\")\n",
    "\n",
    "############################################\n",
    "# Technologies\n",
    "############################################\n",
    "\n",
    "# Solid oxide electrolysis system\n",
    "hhv_h2 = 141.80E3/3600 # kWh/kg\n",
    "#lhv_h2 = 120E3/3600 # kWh/kg\n",
    "e_steam = (2249+326.1)/3600 # kWh/kg\n",
    "\n",
    "se_in = [\n",
    "    Resource(\"steam\",318.35,\"kg/h\",[e_steam]),\n",
    "    Resource(\"power\",888.61+1.26,\"kW\",[1])\n",
    "    ]\n",
    "\n",
    "se_out = [\n",
    "    Resource(\"h2\",26.00,\"kg/h\",[hhv_h2]),   # dry basis\n",
    "    Resource(\"water\",71.799,\"kg/h\",[0]),\n",
    "    Resource(\"o2\",206.38,\"kg/h\",[0])\n",
    "]\n",
    "\n",
    "se_heat = [\n",
    "    Heat(120.61,375.9,1023.2),\n",
    "    Heat(95.46,1023.2,473.2),\n",
    "    Heat(9.03,480.6,313.2),\n",
    "    Heat(61.98,480.6,1023.2),\n",
    "    Heat(105.61,1023.2,343.5),\n",
    "    Heat(55.68,343.5,313.2),\n",
    "]\n",
    "\n",
    "soec = Tech(\"soec\",se_in,se_out,se_heat)\n",
    "\n",
    "# Steam boiler\n",
    "boiler_in = [\n",
    "    Resource(\"power\",0.017,\"kW\",[1]),\n",
    "    Resource(\"water\",3600,\"kg/h\",[0])\n",
    "    ]\n",
    "boiler_out = [Resource(\"steam\",3600,\"kg/h\",[e_steam])]\n",
    "                \n",
    "boiler_heat = [\n",
    "    Heat(326.1,298,376),\n",
    "    Heat(2249,376,377)\n",
    "    ]\n",
    "\n",
    "boiler = Tech(\"boiler\",boiler_in,boiler_out,boiler_heat)\n",
    "\n",
    "# Eletric heating\n",
    "eh_in = [Resource(\"power\",1000,\"kW\",[1])]\n",
    "eh_heat = [Heat(1000,1273,1272)]\n",
    "eh = Tech(\"EH\",eh_in,[],eh_heat)\n",
    "\n",
    "# Cooling tower\n",
    "ct_in = [Resource(\"power\",14.3,\"kW\",[1])]\n",
    "ct_heat = [Heat(1000,298,318)]\n",
    "ct = Tech(\"CT\",ct_in,[],ct_heat)\n",
    "\n",
    "############################################\n",
    "# Inputs\n",
    "############################################\n",
    "\n",
    "power = Resource(\"power\",Inf,\"kW\",[1])\n",
    "water = Resource(\"water\",Inf,\"kg/h\",[0])\n",
    "\n",
    "inputs = [power,water]\n",
    "\n",
    "############################################\n",
    "# Outputs\n",
    "############################################\n",
    "\n",
    "# Creating a variable power resource\n",
    "h2 = Resource(\"h2\",1000,\"kg/h\",[hhv_h2])\n",
    "o2 = Resource(\"o2\",Inf,\"kg/h\",[0])\n",
    "\n",
    "# OBS: note that we have to include a conversion factor to make inputs and outputs in the same basis, in this case energy (kW)\n",
    "outputs = [h2,o2]\n",
    "\n",
    "############################################\n",
    "# Problem solving\n",
    "############################################\n",
    "\n",
    "problem = Problem(inputs,[soec,boiler,eh,ct],outputs)\n",
    "answer = vivi(problem)\n",
    "vivi_sankey(answer,valueIndex=1)"
   ]
  },
  {
   "cell_type": "markdown",
   "id": "89e39247-83e9-43bc-af6c-ddd31ba47e0a",
   "metadata": {},
   "source": [
    "# Step-by-step"
   ]
  },
  {
   "cell_type": "markdown",
   "id": "bde8647a-d6d4-4bb1-ad1b-f23d8aeabb87",
   "metadata": {},
   "source": [
    "## Introduction"
   ]
  },
  {
   "cell_type": "markdown",
   "id": "da7f1e2d-bbdc-4c6c-9e92-1686399d5b40",
   "metadata": {},
   "source": [
    "### Packages and including functions"
   ]
  },
  {
   "cell_type": "markdown",
   "id": "7421bbf6",
   "metadata": {},
   "source": [
    "As for now, vivi does not have an instalation option, you just need to copy the files for your directory and include the functions in your julia code/notebook.\n",
    "\n",
    "But before including the code, make sure that all dependencies are installed first.\n",
    "To install a package you just need to run two lines of code, for instance to install JuMP:\n",
    "    \n",
    "    using Pkg\n",
    "    \n",
    "    Pkg.add(JuMP)\n",
    "    \n",
    "You just need to repeat the last line changing the name of the package to install other dependencies, e.g.:\n",
    "\n",
    "    Pkg.add(GLPK)\n",
    "\n",
    "Now let's include the core function and data structures in our notebook:"
   ]
  },
  {
   "cell_type": "code",
   "execution_count": 3,
   "id": "e2442356-92a3-4a31-b090-4160cc837a91",
   "metadata": {},
   "outputs": [
    {
     "data": {
      "text/plain": [
       "vivi_gcc (generic function with 2 methods)"
      ]
     },
     "execution_count": 3,
     "metadata": {},
     "output_type": "execute_result"
    }
   ],
   "source": [
    "# Including functions\n",
    "include(\"../../src/vivi.jl\")"
   ]
  },
  {
   "cell_type": "markdown",
   "id": "bb46ebd7",
   "metadata": {},
   "source": [
    "### Data structures"
   ]
  },
  {
   "cell_type": "markdown",
   "id": "74f0da8c",
   "metadata": {},
   "source": [
    "In vivi, there are four main data structures:\n",
    "1. **Resources** : a good that is consumed/produced from a process (excluding heat).\n",
    "2. **Heat** : a heating or cooling demand.\n",
    "3. **Tech** : a unit that supply/convert resources and/or heat.\n",
    "4. **Problem** : is a set of inputs, outputs and techs to be (or already) optimized."
   ]
  },
  {
   "cell_type": "markdown",
   "id": "456603c5-3d0f-4b49-b1b7-857c75874a16",
   "metadata": {
    "tags": []
   },
   "source": [
    "**Resource**\n",
    "\n",
    "    resource = Resource(type,amount,unit,[value 1, value 2, ..., value n])\n",
    "    \n",
    "* type = resource unique name\n",
    "* amount = quantity of the resource available, consumed or produced\n",
    "* unit = the unit type of \"amount\"\n",
    "* [value 1, value 2, ..., value n] : is array of specific values for this resource. For instance: [energy/mass , price/mass, carbon/mass]\n",
    "\n",
    "If a resource is unlimited, you have to set the amount as *Inf*:\n",
    "    \n",
    "    power = Resource(\"power\",Inf,\"kW\",[1])"
   ]
  },
  {
   "cell_type": "markdown",
   "id": "1a22475c-1a6b-4043-a875-77c6421ee4e7",
   "metadata": {},
   "source": [
    "**Heat**\n",
    "\n",
    "    heat = Heat(h,Ts,Tt)\n",
    "    \n",
    "* h : energy transfer rate\n",
    "* Ts : source temperature in Kelvin\n",
    "* Tt : target tempreature in Kelvin\n",
    "\n",
    "Example, a gas heating from 100 °C to 200 °C that requires 100 kW of energy:\n",
    "\n",
    "    gas_heat = Heat(100, 373.2, 473.2)"
   ]
  },
  {
   "cell_type": "markdown",
   "id": "0ad1a11b-f52e-4be0-9a10-cd567025ac75",
   "metadata": {},
   "source": [
    "**Tech**\n",
    "\n",
    "    tech = Tech(type,in,out,heat)\n",
    "    \n",
    "* type : unique name\n",
    "* in : **Resource** array of inputs\n",
    "* out : **Resource** array of outputs\n",
    "* heat : **Heat** array of heat transfers"
   ]
  },
  {
   "cell_type": "markdown",
   "id": "d7432df3",
   "metadata": {},
   "source": [
    "**Problem**\n",
    "\n",
    "    problem = Problem(inputs,processes,outputs)\n",
    "\n",
    "* inputs : **Resource** array of inputs externally supplied\n",
    "* processes : **Tech** array of available processes\n",
    "* outputs : **Resource** array of outputs exported to other stakeholders "
   ]
  },
  {
   "cell_type": "markdown",
   "id": "2c7cb99e",
   "metadata": {},
   "source": [
    "## Creating Techs"
   ]
  },
  {
   "cell_type": "markdown",
   "id": "e84f36be",
   "metadata": {},
   "source": [
    "A **solid oxide electrolysis system**"
   ]
  },
  {
   "cell_type": "markdown",
   "id": "b66a77be",
   "metadata": {},
   "source": [
    "![SOEC system image](./img/soec.svg)"
   ]
  },
  {
   "cell_type": "code",
   "execution_count": 4,
   "id": "22cc323b-f7c4-4425-9c74-5d30ac3d92a2",
   "metadata": {},
   "outputs": [
    {
     "data": {
      "application/vnd.plotly.v1+json": {
       "config": {
        "editable": false,
        "responsive": true,
        "scrollZoom": true,
        "showLink": false,
        "staticPlot": false
       },
       "data": [
        {
         "link": {
          "color": [
           "rgba(186,186,186,0.5)",
           "rgba(186,186,186,0.5)",
           "rgba(186,186,186,0.5)",
           "rgba(186,186,186,0.5)",
           "rgba(186,186,186,0.5)",
           "rgba(255,129,127,0.5)",
           "rgba(255,129,127,0.5)",
           "rgba(255,129,127,0.5)",
           "rgba(255,129,127,0.5)",
           "rgba(255,129,127,0.5)",
           "rgba(255,129,127,0.5)"
          ],
          "source": [
           5,
           4,
           0,
           0,
           0,
           6,
           0,
           0,
           6,
           0,
           0
          ],
          "target": [
           0,
           0,
           3,
           2,
           1,
           0,
           6,
           6,
           0,
           6,
           6
          ],
          "value": [
           227.71752361111112,
           889.87,
           1024.111111111111,
           0,
           0,
           120.61,
           95.46,
           9.03,
           61.98,
           105.61,
           55.68
          ]
         },
         "node": {
          "color": [
           "blue",
           "#90EE90",
           "#90EE90",
           "#90EE90",
           "#90EE90",
           "#90EE90",
           "red"
          ],
          "label": [
           "soec",
           "o2",
           "water",
           "h2",
           "power",
           "steam",
           "Heat network"
          ],
          "line": {
           "color": "black",
           "width": 0.5
          },
          "pad": 15,
          "thickness": 20
         },
         "type": "sankey"
        }
       ],
       "frames": [],
       "layout": {
        "margin": {
         "b": 50,
         "l": 50,
         "r": 50,
         "t": 60
        },
        "template": {
         "data": {
          "bar": [
           {
            "error_x": {
             "color": "#2a3f5f"
            },
            "error_y": {
             "color": "#2a3f5f"
            },
            "marker": {
             "line": {
              "color": "#E5ECF6",
              "width": 0.5
             }
            },
            "type": "bar"
           }
          ],
          "barpolar": [
           {
            "marker": {
             "line": {
              "color": "#E5ECF6",
              "width": 0.5
             }
            },
            "type": "barpolar"
           }
          ],
          "carpet": [
           {
            "aaxis": {
             "endlinecolor": "#2a3f5f",
             "gridcolor": "white",
             "linecolor": "white",
             "minorgridcolor": "white",
             "startlinecolor": "#2a3f5f"
            },
            "baxis": {
             "endlinecolor": "#2a3f5f",
             "gridcolor": "white",
             "linecolor": "white",
             "minorgridcolor": "white",
             "startlinecolor": "#2a3f5f"
            },
            "type": "carpet"
           }
          ],
          "choropleth": [
           {
            "colorbar": {
             "outlinewidth": 0,
             "ticks": ""
            },
            "type": "choropleth"
           }
          ],
          "contour": [
           {
            "colorbar": {
             "outlinewidth": 0,
             "ticks": ""
            },
            "colorscale": [
             [
              0,
              "#0d0887"
             ],
             [
              0.1111111111111111,
              "#46039f"
             ],
             [
              0.2222222222222222,
              "#7201a8"
             ],
             [
              0.3333333333333333,
              "#9c179e"
             ],
             [
              0.4444444444444444,
              "#bd3786"
             ],
             [
              0.5555555555555556,
              "#d8576b"
             ],
             [
              0.6666666666666666,
              "#ed7953"
             ],
             [
              0.7777777777777778,
              "#fb9f3a"
             ],
             [
              0.8888888888888888,
              "#fdca26"
             ],
             [
              1,
              "#f0f921"
             ]
            ],
            "type": "contour"
           }
          ],
          "contourcarpet": [
           {
            "colorbar": {
             "outlinewidth": 0,
             "ticks": ""
            },
            "type": "contourcarpet"
           }
          ],
          "heatmap": [
           {
            "colorbar": {
             "outlinewidth": 0,
             "ticks": ""
            },
            "colorscale": [
             [
              0,
              "#0d0887"
             ],
             [
              0.1111111111111111,
              "#46039f"
             ],
             [
              0.2222222222222222,
              "#7201a8"
             ],
             [
              0.3333333333333333,
              "#9c179e"
             ],
             [
              0.4444444444444444,
              "#bd3786"
             ],
             [
              0.5555555555555556,
              "#d8576b"
             ],
             [
              0.6666666666666666,
              "#ed7953"
             ],
             [
              0.7777777777777778,
              "#fb9f3a"
             ],
             [
              0.8888888888888888,
              "#fdca26"
             ],
             [
              1,
              "#f0f921"
             ]
            ],
            "type": "heatmap"
           }
          ],
          "heatmapgl": [
           {
            "colorbar": {
             "outlinewidth": 0,
             "ticks": ""
            },
            "colorscale": [
             [
              0,
              "#0d0887"
             ],
             [
              0.1111111111111111,
              "#46039f"
             ],
             [
              0.2222222222222222,
              "#7201a8"
             ],
             [
              0.3333333333333333,
              "#9c179e"
             ],
             [
              0.4444444444444444,
              "#bd3786"
             ],
             [
              0.5555555555555556,
              "#d8576b"
             ],
             [
              0.6666666666666666,
              "#ed7953"
             ],
             [
              0.7777777777777778,
              "#fb9f3a"
             ],
             [
              0.8888888888888888,
              "#fdca26"
             ],
             [
              1,
              "#f0f921"
             ]
            ],
            "type": "heatmapgl"
           }
          ],
          "histogram": [
           {
            "marker": {
             "colorbar": {
              "outlinewidth": 0,
              "ticks": ""
             }
            },
            "type": "histogram"
           }
          ],
          "histogram2d": [
           {
            "colorbar": {
             "outlinewidth": 0,
             "ticks": ""
            },
            "colorscale": [
             [
              0,
              "#0d0887"
             ],
             [
              0.1111111111111111,
              "#46039f"
             ],
             [
              0.2222222222222222,
              "#7201a8"
             ],
             [
              0.3333333333333333,
              "#9c179e"
             ],
             [
              0.4444444444444444,
              "#bd3786"
             ],
             [
              0.5555555555555556,
              "#d8576b"
             ],
             [
              0.6666666666666666,
              "#ed7953"
             ],
             [
              0.7777777777777778,
              "#fb9f3a"
             ],
             [
              0.8888888888888888,
              "#fdca26"
             ],
             [
              1,
              "#f0f921"
             ]
            ],
            "type": "histogram2d"
           }
          ],
          "histogram2dcontour": [
           {
            "colorbar": {
             "outlinewidth": 0,
             "ticks": ""
            },
            "colorscale": [
             [
              0,
              "#0d0887"
             ],
             [
              0.1111111111111111,
              "#46039f"
             ],
             [
              0.2222222222222222,
              "#7201a8"
             ],
             [
              0.3333333333333333,
              "#9c179e"
             ],
             [
              0.4444444444444444,
              "#bd3786"
             ],
             [
              0.5555555555555556,
              "#d8576b"
             ],
             [
              0.6666666666666666,
              "#ed7953"
             ],
             [
              0.7777777777777778,
              "#fb9f3a"
             ],
             [
              0.8888888888888888,
              "#fdca26"
             ],
             [
              1,
              "#f0f921"
             ]
            ],
            "type": "histogram2dcontour"
           }
          ],
          "mesh3d": [
           {
            "colorbar": {
             "outlinewidth": 0,
             "ticks": ""
            },
            "type": "mesh3d"
           }
          ],
          "parcoords": [
           {
            "line": {
             "colorbar": {
              "outlinewidth": 0,
              "ticks": ""
             }
            },
            "type": "parcoords"
           }
          ],
          "pie": [
           {
            "automargin": true,
            "type": "pie"
           }
          ],
          "scatter": [
           {
            "marker": {
             "colorbar": {
              "outlinewidth": 0,
              "ticks": ""
             }
            },
            "type": "scatter"
           }
          ],
          "scatter3d": [
           {
            "line": {
             "colorbar": {
              "outlinewidth": 0,
              "ticks": ""
             }
            },
            "marker": {
             "colorbar": {
              "outlinewidth": 0,
              "ticks": ""
             }
            },
            "type": "scatter3d"
           }
          ],
          "scattercarpet": [
           {
            "marker": {
             "colorbar": {
              "outlinewidth": 0,
              "ticks": ""
             }
            },
            "type": "scattercarpet"
           }
          ],
          "scattergeo": [
           {
            "marker": {
             "colorbar": {
              "outlinewidth": 0,
              "ticks": ""
             }
            },
            "type": "scattergeo"
           }
          ],
          "scattergl": [
           {
            "marker": {
             "colorbar": {
              "outlinewidth": 0,
              "ticks": ""
             }
            },
            "type": "scattergl"
           }
          ],
          "scattermapbox": [
           {
            "marker": {
             "colorbar": {
              "outlinewidth": 0,
              "ticks": ""
             }
            },
            "type": "scattermapbox"
           }
          ],
          "scatterpolar": [
           {
            "marker": {
             "colorbar": {
              "outlinewidth": 0,
              "ticks": ""
             }
            },
            "type": "scatterpolar"
           }
          ],
          "scatterpolargl": [
           {
            "marker": {
             "colorbar": {
              "outlinewidth": 0,
              "ticks": ""
             }
            },
            "type": "scatterpolargl"
           }
          ],
          "scatterternary": [
           {
            "marker": {
             "colorbar": {
              "outlinewidth": 0,
              "ticks": ""
             }
            },
            "type": "scatterternary"
           }
          ],
          "surface": [
           {
            "colorbar": {
             "outlinewidth": 0,
             "ticks": ""
            },
            "colorscale": [
             [
              0,
              "#0d0887"
             ],
             [
              0.1111111111111111,
              "#46039f"
             ],
             [
              0.2222222222222222,
              "#7201a8"
             ],
             [
              0.3333333333333333,
              "#9c179e"
             ],
             [
              0.4444444444444444,
              "#bd3786"
             ],
             [
              0.5555555555555556,
              "#d8576b"
             ],
             [
              0.6666666666666666,
              "#ed7953"
             ],
             [
              0.7777777777777778,
              "#fb9f3a"
             ],
             [
              0.8888888888888888,
              "#fdca26"
             ],
             [
              1,
              "#f0f921"
             ]
            ],
            "type": "surface"
           }
          ],
          "table": [
           {
            "cells": {
             "fill": {
              "color": "#EBF0F8"
             },
             "line": {
              "color": "white"
             }
            },
            "header": {
             "fill": {
              "color": "#C8D4E3"
             },
             "line": {
              "color": "white"
             }
            },
            "type": "table"
           }
          ]
         },
         "layout": {
          "annotationdefaults": {
           "arrowcolor": "#2a3f5f",
           "arrowhead": 0,
           "arrowwidth": 1
          },
          "autotypenumbers": "strict",
          "coloraxis": {
           "colorbar": {
            "outlinewidth": 0,
            "ticks": ""
           }
          },
          "colorscale": {
           "diverging": [
            [
             0,
             "#8e0152"
            ],
            [
             0.1,
             "#c51b7d"
            ],
            [
             0.2,
             "#de77ae"
            ],
            [
             0.3,
             "#f1b6da"
            ],
            [
             0.4,
             "#fde0ef"
            ],
            [
             0.5,
             "#f7f7f7"
            ],
            [
             0.6,
             "#e6f5d0"
            ],
            [
             0.7,
             "#b8e186"
            ],
            [
             0.8,
             "#7fbc41"
            ],
            [
             0.9,
             "#4d9221"
            ],
            [
             1,
             "#276419"
            ]
           ],
           "sequential": [
            [
             0,
             "#0d0887"
            ],
            [
             0.1111111111111111,
             "#46039f"
            ],
            [
             0.2222222222222222,
             "#7201a8"
            ],
            [
             0.3333333333333333,
             "#9c179e"
            ],
            [
             0.4444444444444444,
             "#bd3786"
            ],
            [
             0.5555555555555556,
             "#d8576b"
            ],
            [
             0.6666666666666666,
             "#ed7953"
            ],
            [
             0.7777777777777778,
             "#fb9f3a"
            ],
            [
             0.8888888888888888,
             "#fdca26"
            ],
            [
             1,
             "#f0f921"
            ]
           ],
           "sequentialminus": [
            [
             0,
             "#0d0887"
            ],
            [
             0.1111111111111111,
             "#46039f"
            ],
            [
             0.2222222222222222,
             "#7201a8"
            ],
            [
             0.3333333333333333,
             "#9c179e"
            ],
            [
             0.4444444444444444,
             "#bd3786"
            ],
            [
             0.5555555555555556,
             "#d8576b"
            ],
            [
             0.6666666666666666,
             "#ed7953"
            ],
            [
             0.7777777777777778,
             "#fb9f3a"
            ],
            [
             0.8888888888888888,
             "#fdca26"
            ],
            [
             1,
             "#f0f921"
            ]
           ]
          },
          "colorway": [
           "#636efa",
           "#EF553B",
           "#00cc96",
           "#ab63fa",
           "#FFA15A",
           "#19d3f3",
           "#FF6692",
           "#B6E880",
           "#FF97FF",
           "#FECB52"
          ],
          "font": {
           "color": "#2a3f5f"
          },
          "geo": {
           "bgcolor": "white",
           "lakecolor": "white",
           "landcolor": "#E5ECF6",
           "showlakes": true,
           "showland": true,
           "subunitcolor": "white"
          },
          "hoverlabel": {
           "align": "left"
          },
          "hovermode": "closest",
          "mapbox": {
           "style": "light"
          },
          "paper_bgcolor": "white",
          "plot_bgcolor": "#E5ECF6",
          "polar": {
           "angularaxis": {
            "gridcolor": "white",
            "linecolor": "white",
            "ticks": ""
           },
           "bgcolor": "#E5ECF6",
           "radialaxis": {
            "gridcolor": "white",
            "linecolor": "white",
            "ticks": ""
           }
          },
          "scene": {
           "xaxis": {
            "backgroundcolor": "#E5ECF6",
            "gridcolor": "white",
            "gridwidth": 2,
            "linecolor": "white",
            "showbackground": true,
            "ticks": "",
            "zerolinecolor": "white"
           },
           "yaxis": {
            "backgroundcolor": "#E5ECF6",
            "gridcolor": "white",
            "gridwidth": 2,
            "linecolor": "white",
            "showbackground": true,
            "ticks": "",
            "zerolinecolor": "white"
           },
           "zaxis": {
            "backgroundcolor": "#E5ECF6",
            "gridcolor": "white",
            "gridwidth": 2,
            "linecolor": "white",
            "showbackground": true,
            "ticks": "",
            "zerolinecolor": "white"
           }
          },
          "shapedefaults": {
           "line": {
            "color": "#2a3f5f"
           }
          },
          "ternary": {
           "aaxis": {
            "gridcolor": "white",
            "linecolor": "white",
            "ticks": ""
           },
           "baxis": {
            "gridcolor": "white",
            "linecolor": "white",
            "ticks": ""
           },
           "bgcolor": "#E5ECF6",
           "caxis": {
            "gridcolor": "white",
            "linecolor": "white",
            "ticks": ""
           }
          },
          "title": {
           "x": 0.05
          },
          "xaxis": {
           "automargin": true,
           "gridcolor": "white",
           "linecolor": "white",
           "ticks": "",
           "title": {
            "standoff": 15
           },
           "zerolinecolor": "white",
           "zerolinewidth": 2
          },
          "yaxis": {
           "automargin": true,
           "gridcolor": "white",
           "linecolor": "white",
           "ticks": "",
           "title": {
            "standoff": 15
           },
           "zerolinecolor": "white",
           "zerolinewidth": 2
          }
         }
        }
       }
      },
      "text/html": [
       "<div\n",
       "    class=\"webio-mountpoint\"\n",
       "    data-webio-mountpoint=\"12373876370546341770\"\n",
       ">\n",
       "    <script>\n",
       "    (function(){\n",
       "    // Some integrations (namely, IJulia/Jupyter) use an alternate render pathway than\n",
       "    // just putting the html on the page. If WebIO isn't defined, then it's pretty likely\n",
       "    // that we're in one of those situations and the integration just isn't installed\n",
       "    // correctly.\n",
       "    if (typeof window.WebIO === \"undefined\") {\n",
       "        document\n",
       "            .querySelector('[data-webio-mountpoint=\"12373876370546341770\"]')\n",
       "            .innerHTML = (\n",
       "                '<div style=\"padding: 1em; background-color: #f8d6da; border: 1px solid #f5c6cb; font-weight: bold;\">' +\n",
       "                '<p><strong>WebIO not detected.</strong></p>' +\n",
       "                '<p>Please read ' +\n",
       "                '<a href=\"https://juliagizmos.github.io/WebIO.jl/latest/troubleshooting/not-detected/\" target=\"_blank\">the troubleshooting guide</a> ' +\n",
       "                'for more information on how to resolve this issue.</p>' +\n",
       "                '<p><a href=\"https://juliagizmos.github.io/WebIO.jl/latest/troubleshooting/not-detected/\" target=\"_blank\">https://juliagizmos.github.io/WebIO.jl/latest/troubleshooting/not-detected/</a></p>' +\n",
       "                '</div>'\n",
       "            );\n",
       "        return;\n",
       "    }\n",
       "    WebIO.mount(\n",
       "        document.querySelector('[data-webio-mountpoint=\"12373876370546341770\"]'),\n",
       "        {\"props\":{},\"nodeType\":\"Scope\",\"type\":\"node\",\"instanceArgs\":{\"imports\":{\"data\":[{\"name\":\"Plotly\",\"type\":\"js\",\"url\":\"\\/assetserver\\/0920e676c106f32ba509e3957ec7f2e1975e6dda-plotly.min.js\"},{\"name\":null,\"type\":\"js\",\"url\":\"\\/assetserver\\/a5a7489247caefe55cf69adf7b5b90ef582ba49e-plotly_webio.bundle.js\"}],\"type\":\"async_block\"},\"id\":\"17287480123224772378\",\"handlers\":{\"_toImage\":[\"(function (options){return this.Plotly.toImage(this.plotElem,options).then((function (data){return WebIO.setval({\\\"name\\\":\\\"image\\\",\\\"scope\\\":\\\"17287480123224772378\\\",\\\"id\\\":\\\"8074916409510909370\\\",\\\"type\\\":\\\"observable\\\"},data)}))})\"],\"__get_gd_contents\":[\"(function (prop){prop==\\\"data\\\" ? (WebIO.setval({\\\"name\\\":\\\"__gd_contents\\\",\\\"scope\\\":\\\"17287480123224772378\\\",\\\"id\\\":\\\"3430604326986773960\\\",\\\"type\\\":\\\"observable\\\"},this.plotElem.data)) : undefined; return prop==\\\"layout\\\" ? (WebIO.setval({\\\"name\\\":\\\"__gd_contents\\\",\\\"scope\\\":\\\"17287480123224772378\\\",\\\"id\\\":\\\"3430604326986773960\\\",\\\"type\\\":\\\"observable\\\"},this.plotElem.layout)) : undefined})\"],\"_downloadImage\":[\"(function (options){return this.Plotly.downloadImage(this.plotElem,options)})\"],\"_commands\":[\"(function (args){var fn=args.shift(); var elem=this.plotElem; var Plotly=this.Plotly; args.unshift(elem); return Plotly[fn].apply(this,args)})\"]},\"systemjs_options\":null,\"mount_callbacks\":[\"function () {\\n    var handler = ((function (Plotly,PlotlyWebIO){PlotlyWebIO.init(WebIO); var gd=this.dom.querySelector(\\\"#plot-05f5c4ca-e622-4186-ba96-76be9ba3a0bb\\\"); this.plotElem=gd; this.Plotly=Plotly; (window.Blink!==undefined) ? (gd.style.width=\\\"100%\\\", gd.style.height=\\\"100vh\\\", gd.style.marginLeft=\\\"0%\\\", gd.style.marginTop=\\\"0vh\\\") : undefined; window.onresize=(function (){return Plotly.Plots.resize(gd)}); Plotly.newPlot(gd,[{\\\"link\\\":{\\\"color\\\":[\\\"rgba(186,186,186,0.5)\\\",\\\"rgba(186,186,186,0.5)\\\",\\\"rgba(186,186,186,0.5)\\\",\\\"rgba(186,186,186,0.5)\\\",\\\"rgba(186,186,186,0.5)\\\",\\\"rgba(255,129,127,0.5)\\\",\\\"rgba(255,129,127,0.5)\\\",\\\"rgba(255,129,127,0.5)\\\",\\\"rgba(255,129,127,0.5)\\\",\\\"rgba(255,129,127,0.5)\\\",\\\"rgba(255,129,127,0.5)\\\"],\\\"value\\\":[227.71752361111112,889.87,1024.111111111111,0.0,0.0,120.61,95.46,9.03,61.98,105.61,55.68],\\\"source\\\":[5.0,4.0,0.0,0.0,0.0,6.0,0.0,0.0,6.0,0.0,0.0],\\\"target\\\":[0.0,0.0,3.0,2.0,1.0,0.0,6.0,6.0,0.0,6.0,6.0]},\\\"node\\\":{\\\"color\\\":[\\\"blue\\\",\\\"#90EE90\\\",\\\"#90EE90\\\",\\\"#90EE90\\\",\\\"#90EE90\\\",\\\"#90EE90\\\",\\\"red\\\"],\\\"pad\\\":15,\\\"line\\\":{\\\"color\\\":\\\"black\\\",\\\"width\\\":0.5},\\\"label\\\":[\\\"soec\\\",\\\"o2\\\",\\\"water\\\",\\\"h2\\\",\\\"power\\\",\\\"steam\\\",\\\"Heat network\\\"],\\\"thickness\\\":20},\\\"type\\\":\\\"sankey\\\"}],{\\\"template\\\":{\\\"layout\\\":{\\\"coloraxis\\\":{\\\"colorbar\\\":{\\\"ticks\\\":\\\"\\\",\\\"outlinewidth\\\":0}},\\\"xaxis\\\":{\\\"gridcolor\\\":\\\"white\\\",\\\"zerolinewidth\\\":2,\\\"title\\\":{\\\"standoff\\\":15},\\\"ticks\\\":\\\"\\\",\\\"zerolinecolor\\\":\\\"white\\\",\\\"automargin\\\":true,\\\"linecolor\\\":\\\"white\\\"},\\\"hovermode\\\":\\\"closest\\\",\\\"paper_bgcolor\\\":\\\"white\\\",\\\"geo\\\":{\\\"showlakes\\\":true,\\\"showland\\\":true,\\\"landcolor\\\":\\\"#E5ECF6\\\",\\\"bgcolor\\\":\\\"white\\\",\\\"subunitcolor\\\":\\\"white\\\",\\\"lakecolor\\\":\\\"white\\\"},\\\"colorscale\\\":{\\\"sequential\\\":[[0.0,\\\"#0d0887\\\"],[0.1111111111111111,\\\"#46039f\\\"],[0.2222222222222222,\\\"#7201a8\\\"],[0.3333333333333333,\\\"#9c179e\\\"],[0.4444444444444444,\\\"#bd3786\\\"],[0.5555555555555556,\\\"#d8576b\\\"],[0.6666666666666666,\\\"#ed7953\\\"],[0.7777777777777778,\\\"#fb9f3a\\\"],[0.8888888888888888,\\\"#fdca26\\\"],[1.0,\\\"#f0f921\\\"]],\\\"diverging\\\":[[0,\\\"#8e0152\\\"],[0.1,\\\"#c51b7d\\\"],[0.2,\\\"#de77ae\\\"],[0.3,\\\"#f1b6da\\\"],[0.4,\\\"#fde0ef\\\"],[0.5,\\\"#f7f7f7\\\"],[0.6,\\\"#e6f5d0\\\"],[0.7,\\\"#b8e186\\\"],[0.8,\\\"#7fbc41\\\"],[0.9,\\\"#4d9221\\\"],[1,\\\"#276419\\\"]],\\\"sequentialminus\\\":[[0.0,\\\"#0d0887\\\"],[0.1111111111111111,\\\"#46039f\\\"],[0.2222222222222222,\\\"#7201a8\\\"],[0.3333333333333333,\\\"#9c179e\\\"],[0.4444444444444444,\\\"#bd3786\\\"],[0.5555555555555556,\\\"#d8576b\\\"],[0.6666666666666666,\\\"#ed7953\\\"],[0.7777777777777778,\\\"#fb9f3a\\\"],[0.8888888888888888,\\\"#fdca26\\\"],[1.0,\\\"#f0f921\\\"]]},\\\"yaxis\\\":{\\\"gridcolor\\\":\\\"white\\\",\\\"zerolinewidth\\\":2,\\\"title\\\":{\\\"standoff\\\":15},\\\"ticks\\\":\\\"\\\",\\\"zerolinecolor\\\":\\\"white\\\",\\\"automargin\\\":true,\\\"linecolor\\\":\\\"white\\\"},\\\"shapedefaults\\\":{\\\"line\\\":{\\\"color\\\":\\\"#2a3f5f\\\"}},\\\"hoverlabel\\\":{\\\"align\\\":\\\"left\\\"},\\\"mapbox\\\":{\\\"style\\\":\\\"light\\\"},\\\"polar\\\":{\\\"angularaxis\\\":{\\\"gridcolor\\\":\\\"white\\\",\\\"ticks\\\":\\\"\\\",\\\"linecolor\\\":\\\"white\\\"},\\\"bgcolor\\\":\\\"#E5ECF6\\\",\\\"radialaxis\\\":{\\\"gridcolor\\\":\\\"white\\\",\\\"ticks\\\":\\\"\\\",\\\"linecolor\\\":\\\"white\\\"}},\\\"autotypenumbers\\\":\\\"strict\\\",\\\"font\\\":{\\\"color\\\":\\\"#2a3f5f\\\"},\\\"ternary\\\":{\\\"baxis\\\":{\\\"gridcolor\\\":\\\"white\\\",\\\"ticks\\\":\\\"\\\",\\\"linecolor\\\":\\\"white\\\"},\\\"bgcolor\\\":\\\"#E5ECF6\\\",\\\"caxis\\\":{\\\"gridcolor\\\":\\\"white\\\",\\\"ticks\\\":\\\"\\\",\\\"linecolor\\\":\\\"white\\\"},\\\"aaxis\\\":{\\\"gridcolor\\\":\\\"white\\\",\\\"ticks\\\":\\\"\\\",\\\"linecolor\\\":\\\"white\\\"}},\\\"annotationdefaults\\\":{\\\"arrowhead\\\":0,\\\"arrowwidth\\\":1,\\\"arrowcolor\\\":\\\"#2a3f5f\\\"},\\\"plot_bgcolor\\\":\\\"#E5ECF6\\\",\\\"title\\\":{\\\"x\\\":0.05},\\\"scene\\\":{\\\"xaxis\\\":{\\\"gridcolor\\\":\\\"white\\\",\\\"gridwidth\\\":2,\\\"backgroundcolor\\\":\\\"#E5ECF6\\\",\\\"ticks\\\":\\\"\\\",\\\"showbackground\\\":true,\\\"zerolinecolor\\\":\\\"white\\\",\\\"linecolor\\\":\\\"white\\\"},\\\"zaxis\\\":{\\\"gridcolor\\\":\\\"white\\\",\\\"gridwidth\\\":2,\\\"backgroundcolor\\\":\\\"#E5ECF6\\\",\\\"ticks\\\":\\\"\\\",\\\"showbackground\\\":true,\\\"zerolinecolor\\\":\\\"white\\\",\\\"linecolor\\\":\\\"white\\\"},\\\"yaxis\\\":{\\\"gridcolor\\\":\\\"white\\\",\\\"gridwidth\\\":2,\\\"backgroundcolor\\\":\\\"#E5ECF6\\\",\\\"ticks\\\":\\\"\\\",\\\"showbackground\\\":true,\\\"zerolinecolor\\\":\\\"white\\\",\\\"linecolor\\\":\\\"white\\\"}},\\\"colorway\\\":[\\\"#636efa\\\",\\\"#EF553B\\\",\\\"#00cc96\\\",\\\"#ab63fa\\\",\\\"#FFA15A\\\",\\\"#19d3f3\\\",\\\"#FF6692\\\",\\\"#B6E880\\\",\\\"#FF97FF\\\",\\\"#FECB52\\\"]},\\\"data\\\":{\\\"barpolar\\\":[{\\\"type\\\":\\\"barpolar\\\",\\\"marker\\\":{\\\"line\\\":{\\\"color\\\":\\\"#E5ECF6\\\",\\\"width\\\":0.5}}}],\\\"carpet\\\":[{\\\"aaxis\\\":{\\\"gridcolor\\\":\\\"white\\\",\\\"endlinecolor\\\":\\\"#2a3f5f\\\",\\\"minorgridcolor\\\":\\\"white\\\",\\\"startlinecolor\\\":\\\"#2a3f5f\\\",\\\"linecolor\\\":\\\"white\\\"},\\\"type\\\":\\\"carpet\\\",\\\"baxis\\\":{\\\"gridcolor\\\":\\\"white\\\",\\\"endlinecolor\\\":\\\"#2a3f5f\\\",\\\"minorgridcolor\\\":\\\"white\\\",\\\"startlinecolor\\\":\\\"#2a3f5f\\\",\\\"linecolor\\\":\\\"white\\\"}}],\\\"scatterpolar\\\":[{\\\"type\\\":\\\"scatterpolar\\\",\\\"marker\\\":{\\\"colorbar\\\":{\\\"ticks\\\":\\\"\\\",\\\"outlinewidth\\\":0}}}],\\\"parcoords\\\":[{\\\"line\\\":{\\\"colorbar\\\":{\\\"ticks\\\":\\\"\\\",\\\"outlinewidth\\\":0}},\\\"type\\\":\\\"parcoords\\\"}],\\\"scatter\\\":[{\\\"type\\\":\\\"scatter\\\",\\\"marker\\\":{\\\"colorbar\\\":{\\\"ticks\\\":\\\"\\\",\\\"outlinewidth\\\":0}}}],\\\"histogram2dcontour\\\":[{\\\"colorbar\\\":{\\\"ticks\\\":\\\"\\\",\\\"outlinewidth\\\":0},\\\"type\\\":\\\"histogram2dcontour\\\",\\\"colorscale\\\":[[0.0,\\\"#0d0887\\\"],[0.1111111111111111,\\\"#46039f\\\"],[0.2222222222222222,\\\"#7201a8\\\"],[0.3333333333333333,\\\"#9c179e\\\"],[0.4444444444444444,\\\"#bd3786\\\"],[0.5555555555555556,\\\"#d8576b\\\"],[0.6666666666666666,\\\"#ed7953\\\"],[0.7777777777777778,\\\"#fb9f3a\\\"],[0.8888888888888888,\\\"#fdca26\\\"],[1.0,\\\"#f0f921\\\"]]}],\\\"contour\\\":[{\\\"colorbar\\\":{\\\"ticks\\\":\\\"\\\",\\\"outlinewidth\\\":0},\\\"type\\\":\\\"contour\\\",\\\"colorscale\\\":[[0.0,\\\"#0d0887\\\"],[0.1111111111111111,\\\"#46039f\\\"],[0.2222222222222222,\\\"#7201a8\\\"],[0.3333333333333333,\\\"#9c179e\\\"],[0.4444444444444444,\\\"#bd3786\\\"],[0.5555555555555556,\\\"#d8576b\\\"],[0.6666666666666666,\\\"#ed7953\\\"],[0.7777777777777778,\\\"#fb9f3a\\\"],[0.8888888888888888,\\\"#fdca26\\\"],[1.0,\\\"#f0f921\\\"]]}],\\\"scattercarpet\\\":[{\\\"type\\\":\\\"scattercarpet\\\",\\\"marker\\\":{\\\"colorbar\\\":{\\\"ticks\\\":\\\"\\\",\\\"outlinewidth\\\":0}}}],\\\"mesh3d\\\":[{\\\"colorbar\\\":{\\\"ticks\\\":\\\"\\\",\\\"outlinewidth\\\":0},\\\"type\\\":\\\"mesh3d\\\"}],\\\"surface\\\":[{\\\"colorbar\\\":{\\\"ticks\\\":\\\"\\\",\\\"outlinewidth\\\":0},\\\"type\\\":\\\"surface\\\",\\\"colorscale\\\":[[0.0,\\\"#0d0887\\\"],[0.1111111111111111,\\\"#46039f\\\"],[0.2222222222222222,\\\"#7201a8\\\"],[0.3333333333333333,\\\"#9c179e\\\"],[0.4444444444444444,\\\"#bd3786\\\"],[0.5555555555555556,\\\"#d8576b\\\"],[0.6666666666666666,\\\"#ed7953\\\"],[0.7777777777777778,\\\"#fb9f3a\\\"],[0.8888888888888888,\\\"#fdca26\\\"],[1.0,\\\"#f0f921\\\"]]}],\\\"scattermapbox\\\":[{\\\"type\\\":\\\"scattermapbox\\\",\\\"marker\\\":{\\\"colorbar\\\":{\\\"ticks\\\":\\\"\\\",\\\"outlinewidth\\\":0}}}],\\\"scattergeo\\\":[{\\\"type\\\":\\\"scattergeo\\\",\\\"marker\\\":{\\\"colorbar\\\":{\\\"ticks\\\":\\\"\\\",\\\"outlinewidth\\\":0}}}],\\\"histogram\\\":[{\\\"type\\\":\\\"histogram\\\",\\\"marker\\\":{\\\"colorbar\\\":{\\\"ticks\\\":\\\"\\\",\\\"outlinewidth\\\":0}}}],\\\"pie\\\":[{\\\"type\\\":\\\"pie\\\",\\\"automargin\\\":true}],\\\"choropleth\\\":[{\\\"colorbar\\\":{\\\"ticks\\\":\\\"\\\",\\\"outlinewidth\\\":0},\\\"type\\\":\\\"choropleth\\\"}],\\\"heatmapgl\\\":[{\\\"colorbar\\\":{\\\"ticks\\\":\\\"\\\",\\\"outlinewidth\\\":0},\\\"type\\\":\\\"heatmapgl\\\",\\\"colorscale\\\":[[0.0,\\\"#0d0887\\\"],[0.1111111111111111,\\\"#46039f\\\"],[0.2222222222222222,\\\"#7201a8\\\"],[0.3333333333333333,\\\"#9c179e\\\"],[0.4444444444444444,\\\"#bd3786\\\"],[0.5555555555555556,\\\"#d8576b\\\"],[0.6666666666666666,\\\"#ed7953\\\"],[0.7777777777777778,\\\"#fb9f3a\\\"],[0.8888888888888888,\\\"#fdca26\\\"],[1.0,\\\"#f0f921\\\"]]}],\\\"bar\\\":[{\\\"type\\\":\\\"bar\\\",\\\"error_y\\\":{\\\"color\\\":\\\"#2a3f5f\\\"},\\\"error_x\\\":{\\\"color\\\":\\\"#2a3f5f\\\"},\\\"marker\\\":{\\\"line\\\":{\\\"color\\\":\\\"#E5ECF6\\\",\\\"width\\\":0.5}}}],\\\"heatmap\\\":[{\\\"colorbar\\\":{\\\"ticks\\\":\\\"\\\",\\\"outlinewidth\\\":0},\\\"type\\\":\\\"heatmap\\\",\\\"colorscale\\\":[[0.0,\\\"#0d0887\\\"],[0.1111111111111111,\\\"#46039f\\\"],[0.2222222222222222,\\\"#7201a8\\\"],[0.3333333333333333,\\\"#9c179e\\\"],[0.4444444444444444,\\\"#bd3786\\\"],[0.5555555555555556,\\\"#d8576b\\\"],[0.6666666666666666,\\\"#ed7953\\\"],[0.7777777777777778,\\\"#fb9f3a\\\"],[0.8888888888888888,\\\"#fdca26\\\"],[1.0,\\\"#f0f921\\\"]]}],\\\"contourcarpet\\\":[{\\\"colorbar\\\":{\\\"ticks\\\":\\\"\\\",\\\"outlinewidth\\\":0},\\\"type\\\":\\\"contourcarpet\\\"}],\\\"table\\\":[{\\\"type\\\":\\\"table\\\",\\\"header\\\":{\\\"line\\\":{\\\"color\\\":\\\"white\\\"},\\\"fill\\\":{\\\"color\\\":\\\"#C8D4E3\\\"}},\\\"cells\\\":{\\\"line\\\":{\\\"color\\\":\\\"white\\\"},\\\"fill\\\":{\\\"color\\\":\\\"#EBF0F8\\\"}}}],\\\"scatter3d\\\":[{\\\"line\\\":{\\\"colorbar\\\":{\\\"ticks\\\":\\\"\\\",\\\"outlinewidth\\\":0}},\\\"type\\\":\\\"scatter3d\\\",\\\"marker\\\":{\\\"colorbar\\\":{\\\"ticks\\\":\\\"\\\",\\\"outlinewidth\\\":0}}}],\\\"scattergl\\\":[{\\\"type\\\":\\\"scattergl\\\",\\\"marker\\\":{\\\"colorbar\\\":{\\\"ticks\\\":\\\"\\\",\\\"outlinewidth\\\":0}}}],\\\"histogram2d\\\":[{\\\"colorbar\\\":{\\\"ticks\\\":\\\"\\\",\\\"outlinewidth\\\":0},\\\"type\\\":\\\"histogram2d\\\",\\\"colorscale\\\":[[0.0,\\\"#0d0887\\\"],[0.1111111111111111,\\\"#46039f\\\"],[0.2222222222222222,\\\"#7201a8\\\"],[0.3333333333333333,\\\"#9c179e\\\"],[0.4444444444444444,\\\"#bd3786\\\"],[0.5555555555555556,\\\"#d8576b\\\"],[0.6666666666666666,\\\"#ed7953\\\"],[0.7777777777777778,\\\"#fb9f3a\\\"],[0.8888888888888888,\\\"#fdca26\\\"],[1.0,\\\"#f0f921\\\"]]}],\\\"scatterternary\\\":[{\\\"type\\\":\\\"scatterternary\\\",\\\"marker\\\":{\\\"colorbar\\\":{\\\"ticks\\\":\\\"\\\",\\\"outlinewidth\\\":0}}}],\\\"scatterpolargl\\\":[{\\\"type\\\":\\\"scatterpolargl\\\",\\\"marker\\\":{\\\"colorbar\\\":{\\\"ticks\\\":\\\"\\\",\\\"outlinewidth\\\":0}}}]}},\\\"margin\\\":{\\\"l\\\":50,\\\"b\\\":50,\\\"r\\\":50,\\\"t\\\":60}},{\\\"showLink\\\":false,\\\"editable\\\":false,\\\"responsive\\\":true,\\\"staticPlot\\\":false,\\\"scrollZoom\\\":true}); gd.on(\\\"plotly_hover\\\",(function (data){var filtered_data=WebIO.PlotlyCommands.filterEventData(gd,data,\\\"hover\\\"); return !(filtered_data.isnil) ? (WebIO.setval({\\\"name\\\":\\\"hover\\\",\\\"scope\\\":\\\"17287480123224772378\\\",\\\"id\\\":\\\"734612246900267654\\\",\\\"type\\\":\\\"observable\\\"},filtered_data.out)) : undefined})); gd.on(\\\"plotly_unhover\\\",(function (){return WebIO.setval({\\\"name\\\":\\\"hover\\\",\\\"scope\\\":\\\"17287480123224772378\\\",\\\"id\\\":\\\"734612246900267654\\\",\\\"type\\\":\\\"observable\\\"},{})})); gd.on(\\\"plotly_selected\\\",(function (data){var filtered_data=WebIO.PlotlyCommands.filterEventData(gd,data,\\\"selected\\\"); return !(filtered_data.isnil) ? (WebIO.setval({\\\"name\\\":\\\"selected\\\",\\\"scope\\\":\\\"17287480123224772378\\\",\\\"id\\\":\\\"2545004603685205161\\\",\\\"type\\\":\\\"observable\\\"},filtered_data.out)) : undefined})); gd.on(\\\"plotly_deselect\\\",(function (){return WebIO.setval({\\\"name\\\":\\\"selected\\\",\\\"scope\\\":\\\"17287480123224772378\\\",\\\"id\\\":\\\"2545004603685205161\\\",\\\"type\\\":\\\"observable\\\"},{})})); gd.on(\\\"plotly_relayout\\\",(function (data){var filtered_data=WebIO.PlotlyCommands.filterEventData(gd,data,\\\"relayout\\\"); return !(filtered_data.isnil) ? (WebIO.setval({\\\"name\\\":\\\"relayout\\\",\\\"scope\\\":\\\"17287480123224772378\\\",\\\"id\\\":\\\"13465297988536320586\\\",\\\"type\\\":\\\"observable\\\"},filtered_data.out)) : undefined})); return gd.on(\\\"plotly_click\\\",(function (data){var filtered_data=WebIO.PlotlyCommands.filterEventData(gd,data,\\\"click\\\"); return !(filtered_data.isnil) ? (WebIO.setval({\\\"name\\\":\\\"click\\\",\\\"scope\\\":\\\"17287480123224772378\\\",\\\"id\\\":\\\"15235744864527255873\\\",\\\"type\\\":\\\"observable\\\"},filtered_data.out)) : undefined}))}));\\n    (WebIO.importBlock({\\\"data\\\":[{\\\"name\\\":\\\"Plotly\\\",\\\"type\\\":\\\"js\\\",\\\"url\\\":\\\"\\/assetserver\\/0920e676c106f32ba509e3957ec7f2e1975e6dda-plotly.min.js\\\"},{\\\"name\\\":null,\\\"type\\\":\\\"js\\\",\\\"url\\\":\\\"\\/assetserver\\/a5a7489247caefe55cf69adf7b5b90ef582ba49e-plotly_webio.bundle.js\\\"}],\\\"type\\\":\\\"async_block\\\"})).then((imports) => handler.apply(this, imports));\\n}\\n\"],\"observables\":{\"_toImage\":{\"sync\":false,\"id\":\"15873030909613554921\",\"value\":{}},\"hover\":{\"sync\":false,\"id\":\"734612246900267654\",\"value\":{}},\"selected\":{\"sync\":false,\"id\":\"2545004603685205161\",\"value\":{}},\"__gd_contents\":{\"sync\":false,\"id\":\"3430604326986773960\",\"value\":{}},\"click\":{\"sync\":false,\"id\":\"15235744864527255873\",\"value\":{}},\"image\":{\"sync\":true,\"id\":\"8074916409510909370\",\"value\":\"\"},\"__get_gd_contents\":{\"sync\":false,\"id\":\"2656942925476116756\",\"value\":\"\"},\"_downloadImage\":{\"sync\":false,\"id\":\"6869430083802188808\",\"value\":{}},\"relayout\":{\"sync\":false,\"id\":\"13465297988536320586\",\"value\":{}},\"_commands\":{\"sync\":false,\"id\":\"9026481809693084967\",\"value\":[]}}},\"children\":[{\"props\":{\"id\":\"plot-05f5c4ca-e622-4186-ba96-76be9ba3a0bb\"},\"nodeType\":\"DOM\",\"type\":\"node\",\"instanceArgs\":{\"namespace\":\"html\",\"tag\":\"div\"},\"children\":[]}]},\n",
       "        window,\n",
       "    );\n",
       "    })()\n",
       "    </script>\n",
       "</div>\n"
      ],
      "text/plain": [
       "data: [\n",
       "  \"sankey with fields link, node, and type\"\n",
       "]\n",
       "\n",
       "layout: \"layout with fields margin and template\"\n",
       "\n"
      ]
     },
     "execution_count": 4,
     "metadata": {},
     "output_type": "execute_result"
    }
   ],
   "source": [
    "# Solid oxide electrolysis system\n",
    "hhv_h2 = 141.80E3/3600 # kWh/kg\n",
    "e_steam = (2249+326.1)/3600 # kWh/kg\n",
    "\n",
    "se_in = [\n",
    "    Resource(\"steam\",318.35,\"kg/h\",[e_steam]),\n",
    "    Resource(\"power\",888.61+1.26,\"kW\",[1])\n",
    "    ]\n",
    "\n",
    "se_out = [\n",
    "    Resource(\"h2\",26.00,\"kg/h\",[hhv_h2]),   # dry basis\n",
    "    Resource(\"water\",71.799,\"kg/h\",[0]),\n",
    "    Resource(\"o2\",206.38,\"kg/h\",[0])\n",
    "]\n",
    "\n",
    "se_heat = [\n",
    "    Heat(120.61,375.9,1023.2),\n",
    "    Heat(95.46,1023.2,473.2),\n",
    "    Heat(9.03,480.6,313.2),\n",
    "    Heat(61.98,480.6,1023.2),\n",
    "    Heat(105.61,1023.2,343.5),\n",
    "    Heat(55.68,343.5,313.2),\n",
    "]\n",
    "\n",
    "soec = Tech(\"soec\",se_in,se_out,se_heat)\n",
    "vivi_sankey(soec,valueIndex=1)  # printing the energy balance in HHV basis"
   ]
  },
  {
   "cell_type": "markdown",
   "id": "eddf5e03",
   "metadata": {},
   "source": [
    "A **steam boiler**"
   ]
  },
  {
   "cell_type": "code",
   "execution_count": 5,
   "id": "e89028d4",
   "metadata": {},
   "outputs": [
    {
     "data": {
      "application/vnd.plotly.v1+json": {
       "config": {
        "editable": false,
        "responsive": true,
        "scrollZoom": true,
        "showLink": false,
        "staticPlot": false
       },
       "data": [
        {
         "link": {
          "color": [
           "rgba(186,186,186,0.5)",
           "rgba(186,186,186,0.5)",
           "rgba(186,186,186,0.5)",
           "rgba(255,129,127,0.5)",
           "rgba(255,129,127,0.5)"
          ],
          "source": [
           2,
           1,
           0,
           4,
           4
          ],
          "target": [
           0,
           0,
           3,
           0,
           0
          ],
          "value": [
           0.017,
           0,
           2575.1,
           326.1,
           2249
          ]
         },
         "node": {
          "color": [
           "blue",
           "#90EE90",
           "#90EE90",
           "#90EE90",
           "red"
          ],
          "label": [
           "boiler",
           "water",
           "power",
           "steam",
           "Heat network"
          ],
          "line": {
           "color": "black",
           "width": 0.5
          },
          "pad": 15,
          "thickness": 20
         },
         "type": "sankey"
        }
       ],
       "frames": [],
       "layout": {
        "margin": {
         "b": 50,
         "l": 50,
         "r": 50,
         "t": 60
        },
        "template": {
         "data": {
          "bar": [
           {
            "error_x": {
             "color": "#2a3f5f"
            },
            "error_y": {
             "color": "#2a3f5f"
            },
            "marker": {
             "line": {
              "color": "#E5ECF6",
              "width": 0.5
             }
            },
            "type": "bar"
           }
          ],
          "barpolar": [
           {
            "marker": {
             "line": {
              "color": "#E5ECF6",
              "width": 0.5
             }
            },
            "type": "barpolar"
           }
          ],
          "carpet": [
           {
            "aaxis": {
             "endlinecolor": "#2a3f5f",
             "gridcolor": "white",
             "linecolor": "white",
             "minorgridcolor": "white",
             "startlinecolor": "#2a3f5f"
            },
            "baxis": {
             "endlinecolor": "#2a3f5f",
             "gridcolor": "white",
             "linecolor": "white",
             "minorgridcolor": "white",
             "startlinecolor": "#2a3f5f"
            },
            "type": "carpet"
           }
          ],
          "choropleth": [
           {
            "colorbar": {
             "outlinewidth": 0,
             "ticks": ""
            },
            "type": "choropleth"
           }
          ],
          "contour": [
           {
            "colorbar": {
             "outlinewidth": 0,
             "ticks": ""
            },
            "colorscale": [
             [
              0,
              "#0d0887"
             ],
             [
              0.1111111111111111,
              "#46039f"
             ],
             [
              0.2222222222222222,
              "#7201a8"
             ],
             [
              0.3333333333333333,
              "#9c179e"
             ],
             [
              0.4444444444444444,
              "#bd3786"
             ],
             [
              0.5555555555555556,
              "#d8576b"
             ],
             [
              0.6666666666666666,
              "#ed7953"
             ],
             [
              0.7777777777777778,
              "#fb9f3a"
             ],
             [
              0.8888888888888888,
              "#fdca26"
             ],
             [
              1,
              "#f0f921"
             ]
            ],
            "type": "contour"
           }
          ],
          "contourcarpet": [
           {
            "colorbar": {
             "outlinewidth": 0,
             "ticks": ""
            },
            "type": "contourcarpet"
           }
          ],
          "heatmap": [
           {
            "colorbar": {
             "outlinewidth": 0,
             "ticks": ""
            },
            "colorscale": [
             [
              0,
              "#0d0887"
             ],
             [
              0.1111111111111111,
              "#46039f"
             ],
             [
              0.2222222222222222,
              "#7201a8"
             ],
             [
              0.3333333333333333,
              "#9c179e"
             ],
             [
              0.4444444444444444,
              "#bd3786"
             ],
             [
              0.5555555555555556,
              "#d8576b"
             ],
             [
              0.6666666666666666,
              "#ed7953"
             ],
             [
              0.7777777777777778,
              "#fb9f3a"
             ],
             [
              0.8888888888888888,
              "#fdca26"
             ],
             [
              1,
              "#f0f921"
             ]
            ],
            "type": "heatmap"
           }
          ],
          "heatmapgl": [
           {
            "colorbar": {
             "outlinewidth": 0,
             "ticks": ""
            },
            "colorscale": [
             [
              0,
              "#0d0887"
             ],
             [
              0.1111111111111111,
              "#46039f"
             ],
             [
              0.2222222222222222,
              "#7201a8"
             ],
             [
              0.3333333333333333,
              "#9c179e"
             ],
             [
              0.4444444444444444,
              "#bd3786"
             ],
             [
              0.5555555555555556,
              "#d8576b"
             ],
             [
              0.6666666666666666,
              "#ed7953"
             ],
             [
              0.7777777777777778,
              "#fb9f3a"
             ],
             [
              0.8888888888888888,
              "#fdca26"
             ],
             [
              1,
              "#f0f921"
             ]
            ],
            "type": "heatmapgl"
           }
          ],
          "histogram": [
           {
            "marker": {
             "colorbar": {
              "outlinewidth": 0,
              "ticks": ""
             }
            },
            "type": "histogram"
           }
          ],
          "histogram2d": [
           {
            "colorbar": {
             "outlinewidth": 0,
             "ticks": ""
            },
            "colorscale": [
             [
              0,
              "#0d0887"
             ],
             [
              0.1111111111111111,
              "#46039f"
             ],
             [
              0.2222222222222222,
              "#7201a8"
             ],
             [
              0.3333333333333333,
              "#9c179e"
             ],
             [
              0.4444444444444444,
              "#bd3786"
             ],
             [
              0.5555555555555556,
              "#d8576b"
             ],
             [
              0.6666666666666666,
              "#ed7953"
             ],
             [
              0.7777777777777778,
              "#fb9f3a"
             ],
             [
              0.8888888888888888,
              "#fdca26"
             ],
             [
              1,
              "#f0f921"
             ]
            ],
            "type": "histogram2d"
           }
          ],
          "histogram2dcontour": [
           {
            "colorbar": {
             "outlinewidth": 0,
             "ticks": ""
            },
            "colorscale": [
             [
              0,
              "#0d0887"
             ],
             [
              0.1111111111111111,
              "#46039f"
             ],
             [
              0.2222222222222222,
              "#7201a8"
             ],
             [
              0.3333333333333333,
              "#9c179e"
             ],
             [
              0.4444444444444444,
              "#bd3786"
             ],
             [
              0.5555555555555556,
              "#d8576b"
             ],
             [
              0.6666666666666666,
              "#ed7953"
             ],
             [
              0.7777777777777778,
              "#fb9f3a"
             ],
             [
              0.8888888888888888,
              "#fdca26"
             ],
             [
              1,
              "#f0f921"
             ]
            ],
            "type": "histogram2dcontour"
           }
          ],
          "mesh3d": [
           {
            "colorbar": {
             "outlinewidth": 0,
             "ticks": ""
            },
            "type": "mesh3d"
           }
          ],
          "parcoords": [
           {
            "line": {
             "colorbar": {
              "outlinewidth": 0,
              "ticks": ""
             }
            },
            "type": "parcoords"
           }
          ],
          "pie": [
           {
            "automargin": true,
            "type": "pie"
           }
          ],
          "scatter": [
           {
            "marker": {
             "colorbar": {
              "outlinewidth": 0,
              "ticks": ""
             }
            },
            "type": "scatter"
           }
          ],
          "scatter3d": [
           {
            "line": {
             "colorbar": {
              "outlinewidth": 0,
              "ticks": ""
             }
            },
            "marker": {
             "colorbar": {
              "outlinewidth": 0,
              "ticks": ""
             }
            },
            "type": "scatter3d"
           }
          ],
          "scattercarpet": [
           {
            "marker": {
             "colorbar": {
              "outlinewidth": 0,
              "ticks": ""
             }
            },
            "type": "scattercarpet"
           }
          ],
          "scattergeo": [
           {
            "marker": {
             "colorbar": {
              "outlinewidth": 0,
              "ticks": ""
             }
            },
            "type": "scattergeo"
           }
          ],
          "scattergl": [
           {
            "marker": {
             "colorbar": {
              "outlinewidth": 0,
              "ticks": ""
             }
            },
            "type": "scattergl"
           }
          ],
          "scattermapbox": [
           {
            "marker": {
             "colorbar": {
              "outlinewidth": 0,
              "ticks": ""
             }
            },
            "type": "scattermapbox"
           }
          ],
          "scatterpolar": [
           {
            "marker": {
             "colorbar": {
              "outlinewidth": 0,
              "ticks": ""
             }
            },
            "type": "scatterpolar"
           }
          ],
          "scatterpolargl": [
           {
            "marker": {
             "colorbar": {
              "outlinewidth": 0,
              "ticks": ""
             }
            },
            "type": "scatterpolargl"
           }
          ],
          "scatterternary": [
           {
            "marker": {
             "colorbar": {
              "outlinewidth": 0,
              "ticks": ""
             }
            },
            "type": "scatterternary"
           }
          ],
          "surface": [
           {
            "colorbar": {
             "outlinewidth": 0,
             "ticks": ""
            },
            "colorscale": [
             [
              0,
              "#0d0887"
             ],
             [
              0.1111111111111111,
              "#46039f"
             ],
             [
              0.2222222222222222,
              "#7201a8"
             ],
             [
              0.3333333333333333,
              "#9c179e"
             ],
             [
              0.4444444444444444,
              "#bd3786"
             ],
             [
              0.5555555555555556,
              "#d8576b"
             ],
             [
              0.6666666666666666,
              "#ed7953"
             ],
             [
              0.7777777777777778,
              "#fb9f3a"
             ],
             [
              0.8888888888888888,
              "#fdca26"
             ],
             [
              1,
              "#f0f921"
             ]
            ],
            "type": "surface"
           }
          ],
          "table": [
           {
            "cells": {
             "fill": {
              "color": "#EBF0F8"
             },
             "line": {
              "color": "white"
             }
            },
            "header": {
             "fill": {
              "color": "#C8D4E3"
             },
             "line": {
              "color": "white"
             }
            },
            "type": "table"
           }
          ]
         },
         "layout": {
          "annotationdefaults": {
           "arrowcolor": "#2a3f5f",
           "arrowhead": 0,
           "arrowwidth": 1
          },
          "autotypenumbers": "strict",
          "coloraxis": {
           "colorbar": {
            "outlinewidth": 0,
            "ticks": ""
           }
          },
          "colorscale": {
           "diverging": [
            [
             0,
             "#8e0152"
            ],
            [
             0.1,
             "#c51b7d"
            ],
            [
             0.2,
             "#de77ae"
            ],
            [
             0.3,
             "#f1b6da"
            ],
            [
             0.4,
             "#fde0ef"
            ],
            [
             0.5,
             "#f7f7f7"
            ],
            [
             0.6,
             "#e6f5d0"
            ],
            [
             0.7,
             "#b8e186"
            ],
            [
             0.8,
             "#7fbc41"
            ],
            [
             0.9,
             "#4d9221"
            ],
            [
             1,
             "#276419"
            ]
           ],
           "sequential": [
            [
             0,
             "#0d0887"
            ],
            [
             0.1111111111111111,
             "#46039f"
            ],
            [
             0.2222222222222222,
             "#7201a8"
            ],
            [
             0.3333333333333333,
             "#9c179e"
            ],
            [
             0.4444444444444444,
             "#bd3786"
            ],
            [
             0.5555555555555556,
             "#d8576b"
            ],
            [
             0.6666666666666666,
             "#ed7953"
            ],
            [
             0.7777777777777778,
             "#fb9f3a"
            ],
            [
             0.8888888888888888,
             "#fdca26"
            ],
            [
             1,
             "#f0f921"
            ]
           ],
           "sequentialminus": [
            [
             0,
             "#0d0887"
            ],
            [
             0.1111111111111111,
             "#46039f"
            ],
            [
             0.2222222222222222,
             "#7201a8"
            ],
            [
             0.3333333333333333,
             "#9c179e"
            ],
            [
             0.4444444444444444,
             "#bd3786"
            ],
            [
             0.5555555555555556,
             "#d8576b"
            ],
            [
             0.6666666666666666,
             "#ed7953"
            ],
            [
             0.7777777777777778,
             "#fb9f3a"
            ],
            [
             0.8888888888888888,
             "#fdca26"
            ],
            [
             1,
             "#f0f921"
            ]
           ]
          },
          "colorway": [
           "#636efa",
           "#EF553B",
           "#00cc96",
           "#ab63fa",
           "#FFA15A",
           "#19d3f3",
           "#FF6692",
           "#B6E880",
           "#FF97FF",
           "#FECB52"
          ],
          "font": {
           "color": "#2a3f5f"
          },
          "geo": {
           "bgcolor": "white",
           "lakecolor": "white",
           "landcolor": "#E5ECF6",
           "showlakes": true,
           "showland": true,
           "subunitcolor": "white"
          },
          "hoverlabel": {
           "align": "left"
          },
          "hovermode": "closest",
          "mapbox": {
           "style": "light"
          },
          "paper_bgcolor": "white",
          "plot_bgcolor": "#E5ECF6",
          "polar": {
           "angularaxis": {
            "gridcolor": "white",
            "linecolor": "white",
            "ticks": ""
           },
           "bgcolor": "#E5ECF6",
           "radialaxis": {
            "gridcolor": "white",
            "linecolor": "white",
            "ticks": ""
           }
          },
          "scene": {
           "xaxis": {
            "backgroundcolor": "#E5ECF6",
            "gridcolor": "white",
            "gridwidth": 2,
            "linecolor": "white",
            "showbackground": true,
            "ticks": "",
            "zerolinecolor": "white"
           },
           "yaxis": {
            "backgroundcolor": "#E5ECF6",
            "gridcolor": "white",
            "gridwidth": 2,
            "linecolor": "white",
            "showbackground": true,
            "ticks": "",
            "zerolinecolor": "white"
           },
           "zaxis": {
            "backgroundcolor": "#E5ECF6",
            "gridcolor": "white",
            "gridwidth": 2,
            "linecolor": "white",
            "showbackground": true,
            "ticks": "",
            "zerolinecolor": "white"
           }
          },
          "shapedefaults": {
           "line": {
            "color": "#2a3f5f"
           }
          },
          "ternary": {
           "aaxis": {
            "gridcolor": "white",
            "linecolor": "white",
            "ticks": ""
           },
           "baxis": {
            "gridcolor": "white",
            "linecolor": "white",
            "ticks": ""
           },
           "bgcolor": "#E5ECF6",
           "caxis": {
            "gridcolor": "white",
            "linecolor": "white",
            "ticks": ""
           }
          },
          "title": {
           "x": 0.05
          },
          "xaxis": {
           "automargin": true,
           "gridcolor": "white",
           "linecolor": "white",
           "ticks": "",
           "title": {
            "standoff": 15
           },
           "zerolinecolor": "white",
           "zerolinewidth": 2
          },
          "yaxis": {
           "automargin": true,
           "gridcolor": "white",
           "linecolor": "white",
           "ticks": "",
           "title": {
            "standoff": 15
           },
           "zerolinecolor": "white",
           "zerolinewidth": 2
          }
         }
        }
       }
      },
      "text/html": [
       "<div\n",
       "    class=\"webio-mountpoint\"\n",
       "    data-webio-mountpoint=\"9925508543762658531\"\n",
       ">\n",
       "    <script>\n",
       "    (function(){\n",
       "    // Some integrations (namely, IJulia/Jupyter) use an alternate render pathway than\n",
       "    // just putting the html on the page. If WebIO isn't defined, then it's pretty likely\n",
       "    // that we're in one of those situations and the integration just isn't installed\n",
       "    // correctly.\n",
       "    if (typeof window.WebIO === \"undefined\") {\n",
       "        document\n",
       "            .querySelector('[data-webio-mountpoint=\"9925508543762658531\"]')\n",
       "            .innerHTML = (\n",
       "                '<div style=\"padding: 1em; background-color: #f8d6da; border: 1px solid #f5c6cb; font-weight: bold;\">' +\n",
       "                '<p><strong>WebIO not detected.</strong></p>' +\n",
       "                '<p>Please read ' +\n",
       "                '<a href=\"https://juliagizmos.github.io/WebIO.jl/latest/troubleshooting/not-detected/\" target=\"_blank\">the troubleshooting guide</a> ' +\n",
       "                'for more information on how to resolve this issue.</p>' +\n",
       "                '<p><a href=\"https://juliagizmos.github.io/WebIO.jl/latest/troubleshooting/not-detected/\" target=\"_blank\">https://juliagizmos.github.io/WebIO.jl/latest/troubleshooting/not-detected/</a></p>' +\n",
       "                '</div>'\n",
       "            );\n",
       "        return;\n",
       "    }\n",
       "    WebIO.mount(\n",
       "        document.querySelector('[data-webio-mountpoint=\"9925508543762658531\"]'),\n",
       "        {\"props\":{},\"nodeType\":\"Scope\",\"type\":\"node\",\"instanceArgs\":{\"imports\":{\"data\":[{\"name\":\"Plotly\",\"type\":\"js\",\"url\":\"\\/assetserver\\/0920e676c106f32ba509e3957ec7f2e1975e6dda-plotly.min.js\"},{\"name\":null,\"type\":\"js\",\"url\":\"\\/assetserver\\/a5a7489247caefe55cf69adf7b5b90ef582ba49e-plotly_webio.bundle.js\"}],\"type\":\"async_block\"},\"id\":\"10772420705351359860\",\"handlers\":{\"_toImage\":[\"(function (options){return this.Plotly.toImage(this.plotElem,options).then((function (data){return WebIO.setval({\\\"name\\\":\\\"image\\\",\\\"scope\\\":\\\"10772420705351359860\\\",\\\"id\\\":\\\"4663317960062696965\\\",\\\"type\\\":\\\"observable\\\"},data)}))})\"],\"__get_gd_contents\":[\"(function (prop){prop==\\\"data\\\" ? (WebIO.setval({\\\"name\\\":\\\"__gd_contents\\\",\\\"scope\\\":\\\"10772420705351359860\\\",\\\"id\\\":\\\"76708292888276356\\\",\\\"type\\\":\\\"observable\\\"},this.plotElem.data)) : undefined; return prop==\\\"layout\\\" ? (WebIO.setval({\\\"name\\\":\\\"__gd_contents\\\",\\\"scope\\\":\\\"10772420705351359860\\\",\\\"id\\\":\\\"76708292888276356\\\",\\\"type\\\":\\\"observable\\\"},this.plotElem.layout)) : undefined})\"],\"_downloadImage\":[\"(function (options){return this.Plotly.downloadImage(this.plotElem,options)})\"],\"_commands\":[\"(function (args){var fn=args.shift(); var elem=this.plotElem; var Plotly=this.Plotly; args.unshift(elem); return Plotly[fn].apply(this,args)})\"]},\"systemjs_options\":null,\"mount_callbacks\":[\"function () {\\n    var handler = ((function (Plotly,PlotlyWebIO){PlotlyWebIO.init(WebIO); var gd=this.dom.querySelector(\\\"#plot-bdaa235b-4e6b-4bde-bd3f-58b46fff9b96\\\"); this.plotElem=gd; this.Plotly=Plotly; (window.Blink!==undefined) ? (gd.style.width=\\\"100%\\\", gd.style.height=\\\"100vh\\\", gd.style.marginLeft=\\\"0%\\\", gd.style.marginTop=\\\"0vh\\\") : undefined; window.onresize=(function (){return Plotly.Plots.resize(gd)}); Plotly.newPlot(gd,[{\\\"link\\\":{\\\"color\\\":[\\\"rgba(186,186,186,0.5)\\\",\\\"rgba(186,186,186,0.5)\\\",\\\"rgba(186,186,186,0.5)\\\",\\\"rgba(255,129,127,0.5)\\\",\\\"rgba(255,129,127,0.5)\\\"],\\\"value\\\":[0.017,0.0,2575.1,326.1,2249.0],\\\"source\\\":[2.0,1.0,0.0,4.0,4.0],\\\"target\\\":[0.0,0.0,3.0,0.0,0.0]},\\\"node\\\":{\\\"color\\\":[\\\"blue\\\",\\\"#90EE90\\\",\\\"#90EE90\\\",\\\"#90EE90\\\",\\\"red\\\"],\\\"pad\\\":15,\\\"line\\\":{\\\"color\\\":\\\"black\\\",\\\"width\\\":0.5},\\\"label\\\":[\\\"boiler\\\",\\\"water\\\",\\\"power\\\",\\\"steam\\\",\\\"Heat network\\\"],\\\"thickness\\\":20},\\\"type\\\":\\\"sankey\\\"}],{\\\"template\\\":{\\\"layout\\\":{\\\"coloraxis\\\":{\\\"colorbar\\\":{\\\"ticks\\\":\\\"\\\",\\\"outlinewidth\\\":0}},\\\"xaxis\\\":{\\\"gridcolor\\\":\\\"white\\\",\\\"zerolinewidth\\\":2,\\\"title\\\":{\\\"standoff\\\":15},\\\"ticks\\\":\\\"\\\",\\\"zerolinecolor\\\":\\\"white\\\",\\\"automargin\\\":true,\\\"linecolor\\\":\\\"white\\\"},\\\"hovermode\\\":\\\"closest\\\",\\\"paper_bgcolor\\\":\\\"white\\\",\\\"geo\\\":{\\\"showlakes\\\":true,\\\"showland\\\":true,\\\"landcolor\\\":\\\"#E5ECF6\\\",\\\"bgcolor\\\":\\\"white\\\",\\\"subunitcolor\\\":\\\"white\\\",\\\"lakecolor\\\":\\\"white\\\"},\\\"colorscale\\\":{\\\"sequential\\\":[[0.0,\\\"#0d0887\\\"],[0.1111111111111111,\\\"#46039f\\\"],[0.2222222222222222,\\\"#7201a8\\\"],[0.3333333333333333,\\\"#9c179e\\\"],[0.4444444444444444,\\\"#bd3786\\\"],[0.5555555555555556,\\\"#d8576b\\\"],[0.6666666666666666,\\\"#ed7953\\\"],[0.7777777777777778,\\\"#fb9f3a\\\"],[0.8888888888888888,\\\"#fdca26\\\"],[1.0,\\\"#f0f921\\\"]],\\\"diverging\\\":[[0,\\\"#8e0152\\\"],[0.1,\\\"#c51b7d\\\"],[0.2,\\\"#de77ae\\\"],[0.3,\\\"#f1b6da\\\"],[0.4,\\\"#fde0ef\\\"],[0.5,\\\"#f7f7f7\\\"],[0.6,\\\"#e6f5d0\\\"],[0.7,\\\"#b8e186\\\"],[0.8,\\\"#7fbc41\\\"],[0.9,\\\"#4d9221\\\"],[1,\\\"#276419\\\"]],\\\"sequentialminus\\\":[[0.0,\\\"#0d0887\\\"],[0.1111111111111111,\\\"#46039f\\\"],[0.2222222222222222,\\\"#7201a8\\\"],[0.3333333333333333,\\\"#9c179e\\\"],[0.4444444444444444,\\\"#bd3786\\\"],[0.5555555555555556,\\\"#d8576b\\\"],[0.6666666666666666,\\\"#ed7953\\\"],[0.7777777777777778,\\\"#fb9f3a\\\"],[0.8888888888888888,\\\"#fdca26\\\"],[1.0,\\\"#f0f921\\\"]]},\\\"yaxis\\\":{\\\"gridcolor\\\":\\\"white\\\",\\\"zerolinewidth\\\":2,\\\"title\\\":{\\\"standoff\\\":15},\\\"ticks\\\":\\\"\\\",\\\"zerolinecolor\\\":\\\"white\\\",\\\"automargin\\\":true,\\\"linecolor\\\":\\\"white\\\"},\\\"shapedefaults\\\":{\\\"line\\\":{\\\"color\\\":\\\"#2a3f5f\\\"}},\\\"hoverlabel\\\":{\\\"align\\\":\\\"left\\\"},\\\"mapbox\\\":{\\\"style\\\":\\\"light\\\"},\\\"polar\\\":{\\\"angularaxis\\\":{\\\"gridcolor\\\":\\\"white\\\",\\\"ticks\\\":\\\"\\\",\\\"linecolor\\\":\\\"white\\\"},\\\"bgcolor\\\":\\\"#E5ECF6\\\",\\\"radialaxis\\\":{\\\"gridcolor\\\":\\\"white\\\",\\\"ticks\\\":\\\"\\\",\\\"linecolor\\\":\\\"white\\\"}},\\\"autotypenumbers\\\":\\\"strict\\\",\\\"font\\\":{\\\"color\\\":\\\"#2a3f5f\\\"},\\\"ternary\\\":{\\\"baxis\\\":{\\\"gridcolor\\\":\\\"white\\\",\\\"ticks\\\":\\\"\\\",\\\"linecolor\\\":\\\"white\\\"},\\\"bgcolor\\\":\\\"#E5ECF6\\\",\\\"caxis\\\":{\\\"gridcolor\\\":\\\"white\\\",\\\"ticks\\\":\\\"\\\",\\\"linecolor\\\":\\\"white\\\"},\\\"aaxis\\\":{\\\"gridcolor\\\":\\\"white\\\",\\\"ticks\\\":\\\"\\\",\\\"linecolor\\\":\\\"white\\\"}},\\\"annotationdefaults\\\":{\\\"arrowhead\\\":0,\\\"arrowwidth\\\":1,\\\"arrowcolor\\\":\\\"#2a3f5f\\\"},\\\"plot_bgcolor\\\":\\\"#E5ECF6\\\",\\\"title\\\":{\\\"x\\\":0.05},\\\"scene\\\":{\\\"xaxis\\\":{\\\"gridcolor\\\":\\\"white\\\",\\\"gridwidth\\\":2,\\\"backgroundcolor\\\":\\\"#E5ECF6\\\",\\\"ticks\\\":\\\"\\\",\\\"showbackground\\\":true,\\\"zerolinecolor\\\":\\\"white\\\",\\\"linecolor\\\":\\\"white\\\"},\\\"zaxis\\\":{\\\"gridcolor\\\":\\\"white\\\",\\\"gridwidth\\\":2,\\\"backgroundcolor\\\":\\\"#E5ECF6\\\",\\\"ticks\\\":\\\"\\\",\\\"showbackground\\\":true,\\\"zerolinecolor\\\":\\\"white\\\",\\\"linecolor\\\":\\\"white\\\"},\\\"yaxis\\\":{\\\"gridcolor\\\":\\\"white\\\",\\\"gridwidth\\\":2,\\\"backgroundcolor\\\":\\\"#E5ECF6\\\",\\\"ticks\\\":\\\"\\\",\\\"showbackground\\\":true,\\\"zerolinecolor\\\":\\\"white\\\",\\\"linecolor\\\":\\\"white\\\"}},\\\"colorway\\\":[\\\"#636efa\\\",\\\"#EF553B\\\",\\\"#00cc96\\\",\\\"#ab63fa\\\",\\\"#FFA15A\\\",\\\"#19d3f3\\\",\\\"#FF6692\\\",\\\"#B6E880\\\",\\\"#FF97FF\\\",\\\"#FECB52\\\"]},\\\"data\\\":{\\\"barpolar\\\":[{\\\"type\\\":\\\"barpolar\\\",\\\"marker\\\":{\\\"line\\\":{\\\"color\\\":\\\"#E5ECF6\\\",\\\"width\\\":0.5}}}],\\\"carpet\\\":[{\\\"aaxis\\\":{\\\"gridcolor\\\":\\\"white\\\",\\\"endlinecolor\\\":\\\"#2a3f5f\\\",\\\"minorgridcolor\\\":\\\"white\\\",\\\"startlinecolor\\\":\\\"#2a3f5f\\\",\\\"linecolor\\\":\\\"white\\\"},\\\"type\\\":\\\"carpet\\\",\\\"baxis\\\":{\\\"gridcolor\\\":\\\"white\\\",\\\"endlinecolor\\\":\\\"#2a3f5f\\\",\\\"minorgridcolor\\\":\\\"white\\\",\\\"startlinecolor\\\":\\\"#2a3f5f\\\",\\\"linecolor\\\":\\\"white\\\"}}],\\\"scatterpolar\\\":[{\\\"type\\\":\\\"scatterpolar\\\",\\\"marker\\\":{\\\"colorbar\\\":{\\\"ticks\\\":\\\"\\\",\\\"outlinewidth\\\":0}}}],\\\"parcoords\\\":[{\\\"line\\\":{\\\"colorbar\\\":{\\\"ticks\\\":\\\"\\\",\\\"outlinewidth\\\":0}},\\\"type\\\":\\\"parcoords\\\"}],\\\"scatter\\\":[{\\\"type\\\":\\\"scatter\\\",\\\"marker\\\":{\\\"colorbar\\\":{\\\"ticks\\\":\\\"\\\",\\\"outlinewidth\\\":0}}}],\\\"histogram2dcontour\\\":[{\\\"colorbar\\\":{\\\"ticks\\\":\\\"\\\",\\\"outlinewidth\\\":0},\\\"type\\\":\\\"histogram2dcontour\\\",\\\"colorscale\\\":[[0.0,\\\"#0d0887\\\"],[0.1111111111111111,\\\"#46039f\\\"],[0.2222222222222222,\\\"#7201a8\\\"],[0.3333333333333333,\\\"#9c179e\\\"],[0.4444444444444444,\\\"#bd3786\\\"],[0.5555555555555556,\\\"#d8576b\\\"],[0.6666666666666666,\\\"#ed7953\\\"],[0.7777777777777778,\\\"#fb9f3a\\\"],[0.8888888888888888,\\\"#fdca26\\\"],[1.0,\\\"#f0f921\\\"]]}],\\\"contour\\\":[{\\\"colorbar\\\":{\\\"ticks\\\":\\\"\\\",\\\"outlinewidth\\\":0},\\\"type\\\":\\\"contour\\\",\\\"colorscale\\\":[[0.0,\\\"#0d0887\\\"],[0.1111111111111111,\\\"#46039f\\\"],[0.2222222222222222,\\\"#7201a8\\\"],[0.3333333333333333,\\\"#9c179e\\\"],[0.4444444444444444,\\\"#bd3786\\\"],[0.5555555555555556,\\\"#d8576b\\\"],[0.6666666666666666,\\\"#ed7953\\\"],[0.7777777777777778,\\\"#fb9f3a\\\"],[0.8888888888888888,\\\"#fdca26\\\"],[1.0,\\\"#f0f921\\\"]]}],\\\"scattercarpet\\\":[{\\\"type\\\":\\\"scattercarpet\\\",\\\"marker\\\":{\\\"colorbar\\\":{\\\"ticks\\\":\\\"\\\",\\\"outlinewidth\\\":0}}}],\\\"mesh3d\\\":[{\\\"colorbar\\\":{\\\"ticks\\\":\\\"\\\",\\\"outlinewidth\\\":0},\\\"type\\\":\\\"mesh3d\\\"}],\\\"surface\\\":[{\\\"colorbar\\\":{\\\"ticks\\\":\\\"\\\",\\\"outlinewidth\\\":0},\\\"type\\\":\\\"surface\\\",\\\"colorscale\\\":[[0.0,\\\"#0d0887\\\"],[0.1111111111111111,\\\"#46039f\\\"],[0.2222222222222222,\\\"#7201a8\\\"],[0.3333333333333333,\\\"#9c179e\\\"],[0.4444444444444444,\\\"#bd3786\\\"],[0.5555555555555556,\\\"#d8576b\\\"],[0.6666666666666666,\\\"#ed7953\\\"],[0.7777777777777778,\\\"#fb9f3a\\\"],[0.8888888888888888,\\\"#fdca26\\\"],[1.0,\\\"#f0f921\\\"]]}],\\\"scattermapbox\\\":[{\\\"type\\\":\\\"scattermapbox\\\",\\\"marker\\\":{\\\"colorbar\\\":{\\\"ticks\\\":\\\"\\\",\\\"outlinewidth\\\":0}}}],\\\"scattergeo\\\":[{\\\"type\\\":\\\"scattergeo\\\",\\\"marker\\\":{\\\"colorbar\\\":{\\\"ticks\\\":\\\"\\\",\\\"outlinewidth\\\":0}}}],\\\"histogram\\\":[{\\\"type\\\":\\\"histogram\\\",\\\"marker\\\":{\\\"colorbar\\\":{\\\"ticks\\\":\\\"\\\",\\\"outlinewidth\\\":0}}}],\\\"pie\\\":[{\\\"type\\\":\\\"pie\\\",\\\"automargin\\\":true}],\\\"choropleth\\\":[{\\\"colorbar\\\":{\\\"ticks\\\":\\\"\\\",\\\"outlinewidth\\\":0},\\\"type\\\":\\\"choropleth\\\"}],\\\"heatmapgl\\\":[{\\\"colorbar\\\":{\\\"ticks\\\":\\\"\\\",\\\"outlinewidth\\\":0},\\\"type\\\":\\\"heatmapgl\\\",\\\"colorscale\\\":[[0.0,\\\"#0d0887\\\"],[0.1111111111111111,\\\"#46039f\\\"],[0.2222222222222222,\\\"#7201a8\\\"],[0.3333333333333333,\\\"#9c179e\\\"],[0.4444444444444444,\\\"#bd3786\\\"],[0.5555555555555556,\\\"#d8576b\\\"],[0.6666666666666666,\\\"#ed7953\\\"],[0.7777777777777778,\\\"#fb9f3a\\\"],[0.8888888888888888,\\\"#fdca26\\\"],[1.0,\\\"#f0f921\\\"]]}],\\\"bar\\\":[{\\\"type\\\":\\\"bar\\\",\\\"error_y\\\":{\\\"color\\\":\\\"#2a3f5f\\\"},\\\"error_x\\\":{\\\"color\\\":\\\"#2a3f5f\\\"},\\\"marker\\\":{\\\"line\\\":{\\\"color\\\":\\\"#E5ECF6\\\",\\\"width\\\":0.5}}}],\\\"heatmap\\\":[{\\\"colorbar\\\":{\\\"ticks\\\":\\\"\\\",\\\"outlinewidth\\\":0},\\\"type\\\":\\\"heatmap\\\",\\\"colorscale\\\":[[0.0,\\\"#0d0887\\\"],[0.1111111111111111,\\\"#46039f\\\"],[0.2222222222222222,\\\"#7201a8\\\"],[0.3333333333333333,\\\"#9c179e\\\"],[0.4444444444444444,\\\"#bd3786\\\"],[0.5555555555555556,\\\"#d8576b\\\"],[0.6666666666666666,\\\"#ed7953\\\"],[0.7777777777777778,\\\"#fb9f3a\\\"],[0.8888888888888888,\\\"#fdca26\\\"],[1.0,\\\"#f0f921\\\"]]}],\\\"contourcarpet\\\":[{\\\"colorbar\\\":{\\\"ticks\\\":\\\"\\\",\\\"outlinewidth\\\":0},\\\"type\\\":\\\"contourcarpet\\\"}],\\\"table\\\":[{\\\"type\\\":\\\"table\\\",\\\"header\\\":{\\\"line\\\":{\\\"color\\\":\\\"white\\\"},\\\"fill\\\":{\\\"color\\\":\\\"#C8D4E3\\\"}},\\\"cells\\\":{\\\"line\\\":{\\\"color\\\":\\\"white\\\"},\\\"fill\\\":{\\\"color\\\":\\\"#EBF0F8\\\"}}}],\\\"scatter3d\\\":[{\\\"line\\\":{\\\"colorbar\\\":{\\\"ticks\\\":\\\"\\\",\\\"outlinewidth\\\":0}},\\\"type\\\":\\\"scatter3d\\\",\\\"marker\\\":{\\\"colorbar\\\":{\\\"ticks\\\":\\\"\\\",\\\"outlinewidth\\\":0}}}],\\\"scattergl\\\":[{\\\"type\\\":\\\"scattergl\\\",\\\"marker\\\":{\\\"colorbar\\\":{\\\"ticks\\\":\\\"\\\",\\\"outlinewidth\\\":0}}}],\\\"histogram2d\\\":[{\\\"colorbar\\\":{\\\"ticks\\\":\\\"\\\",\\\"outlinewidth\\\":0},\\\"type\\\":\\\"histogram2d\\\",\\\"colorscale\\\":[[0.0,\\\"#0d0887\\\"],[0.1111111111111111,\\\"#46039f\\\"],[0.2222222222222222,\\\"#7201a8\\\"],[0.3333333333333333,\\\"#9c179e\\\"],[0.4444444444444444,\\\"#bd3786\\\"],[0.5555555555555556,\\\"#d8576b\\\"],[0.6666666666666666,\\\"#ed7953\\\"],[0.7777777777777778,\\\"#fb9f3a\\\"],[0.8888888888888888,\\\"#fdca26\\\"],[1.0,\\\"#f0f921\\\"]]}],\\\"scatterternary\\\":[{\\\"type\\\":\\\"scatterternary\\\",\\\"marker\\\":{\\\"colorbar\\\":{\\\"ticks\\\":\\\"\\\",\\\"outlinewidth\\\":0}}}],\\\"scatterpolargl\\\":[{\\\"type\\\":\\\"scatterpolargl\\\",\\\"marker\\\":{\\\"colorbar\\\":{\\\"ticks\\\":\\\"\\\",\\\"outlinewidth\\\":0}}}]}},\\\"margin\\\":{\\\"l\\\":50,\\\"b\\\":50,\\\"r\\\":50,\\\"t\\\":60}},{\\\"showLink\\\":false,\\\"editable\\\":false,\\\"responsive\\\":true,\\\"staticPlot\\\":false,\\\"scrollZoom\\\":true}); gd.on(\\\"plotly_hover\\\",(function (data){var filtered_data=WebIO.PlotlyCommands.filterEventData(gd,data,\\\"hover\\\"); return !(filtered_data.isnil) ? (WebIO.setval({\\\"name\\\":\\\"hover\\\",\\\"scope\\\":\\\"10772420705351359860\\\",\\\"id\\\":\\\"10546723089390590342\\\",\\\"type\\\":\\\"observable\\\"},filtered_data.out)) : undefined})); gd.on(\\\"plotly_unhover\\\",(function (){return WebIO.setval({\\\"name\\\":\\\"hover\\\",\\\"scope\\\":\\\"10772420705351359860\\\",\\\"id\\\":\\\"10546723089390590342\\\",\\\"type\\\":\\\"observable\\\"},{})})); gd.on(\\\"plotly_selected\\\",(function (data){var filtered_data=WebIO.PlotlyCommands.filterEventData(gd,data,\\\"selected\\\"); return !(filtered_data.isnil) ? (WebIO.setval({\\\"name\\\":\\\"selected\\\",\\\"scope\\\":\\\"10772420705351359860\\\",\\\"id\\\":\\\"12406184010888613804\\\",\\\"type\\\":\\\"observable\\\"},filtered_data.out)) : undefined})); gd.on(\\\"plotly_deselect\\\",(function (){return WebIO.setval({\\\"name\\\":\\\"selected\\\",\\\"scope\\\":\\\"10772420705351359860\\\",\\\"id\\\":\\\"12406184010888613804\\\",\\\"type\\\":\\\"observable\\\"},{})})); gd.on(\\\"plotly_relayout\\\",(function (data){var filtered_data=WebIO.PlotlyCommands.filterEventData(gd,data,\\\"relayout\\\"); return !(filtered_data.isnil) ? (WebIO.setval({\\\"name\\\":\\\"relayout\\\",\\\"scope\\\":\\\"10772420705351359860\\\",\\\"id\\\":\\\"17373202541566912918\\\",\\\"type\\\":\\\"observable\\\"},filtered_data.out)) : undefined})); return gd.on(\\\"plotly_click\\\",(function (data){var filtered_data=WebIO.PlotlyCommands.filterEventData(gd,data,\\\"click\\\"); return !(filtered_data.isnil) ? (WebIO.setval({\\\"name\\\":\\\"click\\\",\\\"scope\\\":\\\"10772420705351359860\\\",\\\"id\\\":\\\"14486499095811923756\\\",\\\"type\\\":\\\"observable\\\"},filtered_data.out)) : undefined}))}));\\n    (WebIO.importBlock({\\\"data\\\":[{\\\"name\\\":\\\"Plotly\\\",\\\"type\\\":\\\"js\\\",\\\"url\\\":\\\"\\/assetserver\\/0920e676c106f32ba509e3957ec7f2e1975e6dda-plotly.min.js\\\"},{\\\"name\\\":null,\\\"type\\\":\\\"js\\\",\\\"url\\\":\\\"\\/assetserver\\/a5a7489247caefe55cf69adf7b5b90ef582ba49e-plotly_webio.bundle.js\\\"}],\\\"type\\\":\\\"async_block\\\"})).then((imports) => handler.apply(this, imports));\\n}\\n\"],\"observables\":{\"_toImage\":{\"sync\":false,\"id\":\"14871407240354538462\",\"value\":{}},\"hover\":{\"sync\":false,\"id\":\"10546723089390590342\",\"value\":{}},\"selected\":{\"sync\":false,\"id\":\"12406184010888613804\",\"value\":{}},\"__gd_contents\":{\"sync\":false,\"id\":\"76708292888276356\",\"value\":{}},\"click\":{\"sync\":false,\"id\":\"14486499095811923756\",\"value\":{}},\"image\":{\"sync\":true,\"id\":\"4663317960062696965\",\"value\":\"\"},\"__get_gd_contents\":{\"sync\":false,\"id\":\"15889916474744508471\",\"value\":\"\"},\"_downloadImage\":{\"sync\":false,\"id\":\"9216759929108336789\",\"value\":{}},\"relayout\":{\"sync\":false,\"id\":\"17373202541566912918\",\"value\":{}},\"_commands\":{\"sync\":false,\"id\":\"9738920030754356422\",\"value\":[]}}},\"children\":[{\"props\":{\"id\":\"plot-bdaa235b-4e6b-4bde-bd3f-58b46fff9b96\"},\"nodeType\":\"DOM\",\"type\":\"node\",\"instanceArgs\":{\"namespace\":\"html\",\"tag\":\"div\"},\"children\":[]}]},\n",
       "        window,\n",
       "    );\n",
       "    })()\n",
       "    </script>\n",
       "</div>\n"
      ],
      "text/plain": [
       "data: [\n",
       "  \"sankey with fields link, node, and type\"\n",
       "]\n",
       "\n",
       "layout: \"layout with fields margin and template\"\n",
       "\n"
      ]
     },
     "execution_count": 5,
     "metadata": {},
     "output_type": "execute_result"
    }
   ],
   "source": [
    "# Steam boiler\n",
    "boiler_in = [\n",
    "    Resource(\"power\",0.017,\"kW\",[1]),\n",
    "    Resource(\"water\",3600,\"kg/h\",[0])\n",
    "    ]\n",
    "boiler_out = [Resource(\"steam\",3600,\"kg/h\",[e_steam])]\n",
    "                \n",
    "boiler_heat = [\n",
    "    Heat(326.1,298,376),\n",
    "    Heat(2249,376,377)\n",
    "    ]\n",
    "\n",
    "boiler = Tech(\"boiler\",boiler_in,boiler_out,boiler_heat)\n",
    "vivi_sankey(boiler,valueIndex=1) # printing the energy balance in HHV basis"
   ]
  },
  {
   "cell_type": "markdown",
   "id": "1db72125",
   "metadata": {},
   "source": [
    "Auxiliary **electric heating** (ideal heat source)"
   ]
  },
  {
   "cell_type": "code",
   "execution_count": 6,
   "id": "8a22bcc9",
   "metadata": {},
   "outputs": [
    {
     "data": {
      "application/vnd.plotly.v1+json": {
       "config": {
        "editable": false,
        "responsive": true,
        "scrollZoom": true,
        "showLink": false,
        "staticPlot": false
       },
       "data": [
        {
         "link": {
          "color": [
           "rgba(186,186,186,0.5)",
           "rgba(255,129,127,0.5)"
          ],
          "source": [
           1,
           0
          ],
          "target": [
           0,
           2
          ],
          "value": [
           1000,
           1000
          ]
         },
         "node": {
          "color": [
           "blue",
           "#90EE90",
           "red"
          ],
          "label": [
           "EH",
           "power",
           "Heat network"
          ],
          "line": {
           "color": "black",
           "width": 0.5
          },
          "pad": 15,
          "thickness": 20
         },
         "type": "sankey"
        }
       ],
       "frames": [],
       "layout": {
        "margin": {
         "b": 50,
         "l": 50,
         "r": 50,
         "t": 60
        },
        "template": {
         "data": {
          "bar": [
           {
            "error_x": {
             "color": "#2a3f5f"
            },
            "error_y": {
             "color": "#2a3f5f"
            },
            "marker": {
             "line": {
              "color": "#E5ECF6",
              "width": 0.5
             }
            },
            "type": "bar"
           }
          ],
          "barpolar": [
           {
            "marker": {
             "line": {
              "color": "#E5ECF6",
              "width": 0.5
             }
            },
            "type": "barpolar"
           }
          ],
          "carpet": [
           {
            "aaxis": {
             "endlinecolor": "#2a3f5f",
             "gridcolor": "white",
             "linecolor": "white",
             "minorgridcolor": "white",
             "startlinecolor": "#2a3f5f"
            },
            "baxis": {
             "endlinecolor": "#2a3f5f",
             "gridcolor": "white",
             "linecolor": "white",
             "minorgridcolor": "white",
             "startlinecolor": "#2a3f5f"
            },
            "type": "carpet"
           }
          ],
          "choropleth": [
           {
            "colorbar": {
             "outlinewidth": 0,
             "ticks": ""
            },
            "type": "choropleth"
           }
          ],
          "contour": [
           {
            "colorbar": {
             "outlinewidth": 0,
             "ticks": ""
            },
            "colorscale": [
             [
              0,
              "#0d0887"
             ],
             [
              0.1111111111111111,
              "#46039f"
             ],
             [
              0.2222222222222222,
              "#7201a8"
             ],
             [
              0.3333333333333333,
              "#9c179e"
             ],
             [
              0.4444444444444444,
              "#bd3786"
             ],
             [
              0.5555555555555556,
              "#d8576b"
             ],
             [
              0.6666666666666666,
              "#ed7953"
             ],
             [
              0.7777777777777778,
              "#fb9f3a"
             ],
             [
              0.8888888888888888,
              "#fdca26"
             ],
             [
              1,
              "#f0f921"
             ]
            ],
            "type": "contour"
           }
          ],
          "contourcarpet": [
           {
            "colorbar": {
             "outlinewidth": 0,
             "ticks": ""
            },
            "type": "contourcarpet"
           }
          ],
          "heatmap": [
           {
            "colorbar": {
             "outlinewidth": 0,
             "ticks": ""
            },
            "colorscale": [
             [
              0,
              "#0d0887"
             ],
             [
              0.1111111111111111,
              "#46039f"
             ],
             [
              0.2222222222222222,
              "#7201a8"
             ],
             [
              0.3333333333333333,
              "#9c179e"
             ],
             [
              0.4444444444444444,
              "#bd3786"
             ],
             [
              0.5555555555555556,
              "#d8576b"
             ],
             [
              0.6666666666666666,
              "#ed7953"
             ],
             [
              0.7777777777777778,
              "#fb9f3a"
             ],
             [
              0.8888888888888888,
              "#fdca26"
             ],
             [
              1,
              "#f0f921"
             ]
            ],
            "type": "heatmap"
           }
          ],
          "heatmapgl": [
           {
            "colorbar": {
             "outlinewidth": 0,
             "ticks": ""
            },
            "colorscale": [
             [
              0,
              "#0d0887"
             ],
             [
              0.1111111111111111,
              "#46039f"
             ],
             [
              0.2222222222222222,
              "#7201a8"
             ],
             [
              0.3333333333333333,
              "#9c179e"
             ],
             [
              0.4444444444444444,
              "#bd3786"
             ],
             [
              0.5555555555555556,
              "#d8576b"
             ],
             [
              0.6666666666666666,
              "#ed7953"
             ],
             [
              0.7777777777777778,
              "#fb9f3a"
             ],
             [
              0.8888888888888888,
              "#fdca26"
             ],
             [
              1,
              "#f0f921"
             ]
            ],
            "type": "heatmapgl"
           }
          ],
          "histogram": [
           {
            "marker": {
             "colorbar": {
              "outlinewidth": 0,
              "ticks": ""
             }
            },
            "type": "histogram"
           }
          ],
          "histogram2d": [
           {
            "colorbar": {
             "outlinewidth": 0,
             "ticks": ""
            },
            "colorscale": [
             [
              0,
              "#0d0887"
             ],
             [
              0.1111111111111111,
              "#46039f"
             ],
             [
              0.2222222222222222,
              "#7201a8"
             ],
             [
              0.3333333333333333,
              "#9c179e"
             ],
             [
              0.4444444444444444,
              "#bd3786"
             ],
             [
              0.5555555555555556,
              "#d8576b"
             ],
             [
              0.6666666666666666,
              "#ed7953"
             ],
             [
              0.7777777777777778,
              "#fb9f3a"
             ],
             [
              0.8888888888888888,
              "#fdca26"
             ],
             [
              1,
              "#f0f921"
             ]
            ],
            "type": "histogram2d"
           }
          ],
          "histogram2dcontour": [
           {
            "colorbar": {
             "outlinewidth": 0,
             "ticks": ""
            },
            "colorscale": [
             [
              0,
              "#0d0887"
             ],
             [
              0.1111111111111111,
              "#46039f"
             ],
             [
              0.2222222222222222,
              "#7201a8"
             ],
             [
              0.3333333333333333,
              "#9c179e"
             ],
             [
              0.4444444444444444,
              "#bd3786"
             ],
             [
              0.5555555555555556,
              "#d8576b"
             ],
             [
              0.6666666666666666,
              "#ed7953"
             ],
             [
              0.7777777777777778,
              "#fb9f3a"
             ],
             [
              0.8888888888888888,
              "#fdca26"
             ],
             [
              1,
              "#f0f921"
             ]
            ],
            "type": "histogram2dcontour"
           }
          ],
          "mesh3d": [
           {
            "colorbar": {
             "outlinewidth": 0,
             "ticks": ""
            },
            "type": "mesh3d"
           }
          ],
          "parcoords": [
           {
            "line": {
             "colorbar": {
              "outlinewidth": 0,
              "ticks": ""
             }
            },
            "type": "parcoords"
           }
          ],
          "pie": [
           {
            "automargin": true,
            "type": "pie"
           }
          ],
          "scatter": [
           {
            "marker": {
             "colorbar": {
              "outlinewidth": 0,
              "ticks": ""
             }
            },
            "type": "scatter"
           }
          ],
          "scatter3d": [
           {
            "line": {
             "colorbar": {
              "outlinewidth": 0,
              "ticks": ""
             }
            },
            "marker": {
             "colorbar": {
              "outlinewidth": 0,
              "ticks": ""
             }
            },
            "type": "scatter3d"
           }
          ],
          "scattercarpet": [
           {
            "marker": {
             "colorbar": {
              "outlinewidth": 0,
              "ticks": ""
             }
            },
            "type": "scattercarpet"
           }
          ],
          "scattergeo": [
           {
            "marker": {
             "colorbar": {
              "outlinewidth": 0,
              "ticks": ""
             }
            },
            "type": "scattergeo"
           }
          ],
          "scattergl": [
           {
            "marker": {
             "colorbar": {
              "outlinewidth": 0,
              "ticks": ""
             }
            },
            "type": "scattergl"
           }
          ],
          "scattermapbox": [
           {
            "marker": {
             "colorbar": {
              "outlinewidth": 0,
              "ticks": ""
             }
            },
            "type": "scattermapbox"
           }
          ],
          "scatterpolar": [
           {
            "marker": {
             "colorbar": {
              "outlinewidth": 0,
              "ticks": ""
             }
            },
            "type": "scatterpolar"
           }
          ],
          "scatterpolargl": [
           {
            "marker": {
             "colorbar": {
              "outlinewidth": 0,
              "ticks": ""
             }
            },
            "type": "scatterpolargl"
           }
          ],
          "scatterternary": [
           {
            "marker": {
             "colorbar": {
              "outlinewidth": 0,
              "ticks": ""
             }
            },
            "type": "scatterternary"
           }
          ],
          "surface": [
           {
            "colorbar": {
             "outlinewidth": 0,
             "ticks": ""
            },
            "colorscale": [
             [
              0,
              "#0d0887"
             ],
             [
              0.1111111111111111,
              "#46039f"
             ],
             [
              0.2222222222222222,
              "#7201a8"
             ],
             [
              0.3333333333333333,
              "#9c179e"
             ],
             [
              0.4444444444444444,
              "#bd3786"
             ],
             [
              0.5555555555555556,
              "#d8576b"
             ],
             [
              0.6666666666666666,
              "#ed7953"
             ],
             [
              0.7777777777777778,
              "#fb9f3a"
             ],
             [
              0.8888888888888888,
              "#fdca26"
             ],
             [
              1,
              "#f0f921"
             ]
            ],
            "type": "surface"
           }
          ],
          "table": [
           {
            "cells": {
             "fill": {
              "color": "#EBF0F8"
             },
             "line": {
              "color": "white"
             }
            },
            "header": {
             "fill": {
              "color": "#C8D4E3"
             },
             "line": {
              "color": "white"
             }
            },
            "type": "table"
           }
          ]
         },
         "layout": {
          "annotationdefaults": {
           "arrowcolor": "#2a3f5f",
           "arrowhead": 0,
           "arrowwidth": 1
          },
          "autotypenumbers": "strict",
          "coloraxis": {
           "colorbar": {
            "outlinewidth": 0,
            "ticks": ""
           }
          },
          "colorscale": {
           "diverging": [
            [
             0,
             "#8e0152"
            ],
            [
             0.1,
             "#c51b7d"
            ],
            [
             0.2,
             "#de77ae"
            ],
            [
             0.3,
             "#f1b6da"
            ],
            [
             0.4,
             "#fde0ef"
            ],
            [
             0.5,
             "#f7f7f7"
            ],
            [
             0.6,
             "#e6f5d0"
            ],
            [
             0.7,
             "#b8e186"
            ],
            [
             0.8,
             "#7fbc41"
            ],
            [
             0.9,
             "#4d9221"
            ],
            [
             1,
             "#276419"
            ]
           ],
           "sequential": [
            [
             0,
             "#0d0887"
            ],
            [
             0.1111111111111111,
             "#46039f"
            ],
            [
             0.2222222222222222,
             "#7201a8"
            ],
            [
             0.3333333333333333,
             "#9c179e"
            ],
            [
             0.4444444444444444,
             "#bd3786"
            ],
            [
             0.5555555555555556,
             "#d8576b"
            ],
            [
             0.6666666666666666,
             "#ed7953"
            ],
            [
             0.7777777777777778,
             "#fb9f3a"
            ],
            [
             0.8888888888888888,
             "#fdca26"
            ],
            [
             1,
             "#f0f921"
            ]
           ],
           "sequentialminus": [
            [
             0,
             "#0d0887"
            ],
            [
             0.1111111111111111,
             "#46039f"
            ],
            [
             0.2222222222222222,
             "#7201a8"
            ],
            [
             0.3333333333333333,
             "#9c179e"
            ],
            [
             0.4444444444444444,
             "#bd3786"
            ],
            [
             0.5555555555555556,
             "#d8576b"
            ],
            [
             0.6666666666666666,
             "#ed7953"
            ],
            [
             0.7777777777777778,
             "#fb9f3a"
            ],
            [
             0.8888888888888888,
             "#fdca26"
            ],
            [
             1,
             "#f0f921"
            ]
           ]
          },
          "colorway": [
           "#636efa",
           "#EF553B",
           "#00cc96",
           "#ab63fa",
           "#FFA15A",
           "#19d3f3",
           "#FF6692",
           "#B6E880",
           "#FF97FF",
           "#FECB52"
          ],
          "font": {
           "color": "#2a3f5f"
          },
          "geo": {
           "bgcolor": "white",
           "lakecolor": "white",
           "landcolor": "#E5ECF6",
           "showlakes": true,
           "showland": true,
           "subunitcolor": "white"
          },
          "hoverlabel": {
           "align": "left"
          },
          "hovermode": "closest",
          "mapbox": {
           "style": "light"
          },
          "paper_bgcolor": "white",
          "plot_bgcolor": "#E5ECF6",
          "polar": {
           "angularaxis": {
            "gridcolor": "white",
            "linecolor": "white",
            "ticks": ""
           },
           "bgcolor": "#E5ECF6",
           "radialaxis": {
            "gridcolor": "white",
            "linecolor": "white",
            "ticks": ""
           }
          },
          "scene": {
           "xaxis": {
            "backgroundcolor": "#E5ECF6",
            "gridcolor": "white",
            "gridwidth": 2,
            "linecolor": "white",
            "showbackground": true,
            "ticks": "",
            "zerolinecolor": "white"
           },
           "yaxis": {
            "backgroundcolor": "#E5ECF6",
            "gridcolor": "white",
            "gridwidth": 2,
            "linecolor": "white",
            "showbackground": true,
            "ticks": "",
            "zerolinecolor": "white"
           },
           "zaxis": {
            "backgroundcolor": "#E5ECF6",
            "gridcolor": "white",
            "gridwidth": 2,
            "linecolor": "white",
            "showbackground": true,
            "ticks": "",
            "zerolinecolor": "white"
           }
          },
          "shapedefaults": {
           "line": {
            "color": "#2a3f5f"
           }
          },
          "ternary": {
           "aaxis": {
            "gridcolor": "white",
            "linecolor": "white",
            "ticks": ""
           },
           "baxis": {
            "gridcolor": "white",
            "linecolor": "white",
            "ticks": ""
           },
           "bgcolor": "#E5ECF6",
           "caxis": {
            "gridcolor": "white",
            "linecolor": "white",
            "ticks": ""
           }
          },
          "title": {
           "x": 0.05
          },
          "xaxis": {
           "automargin": true,
           "gridcolor": "white",
           "linecolor": "white",
           "ticks": "",
           "title": {
            "standoff": 15
           },
           "zerolinecolor": "white",
           "zerolinewidth": 2
          },
          "yaxis": {
           "automargin": true,
           "gridcolor": "white",
           "linecolor": "white",
           "ticks": "",
           "title": {
            "standoff": 15
           },
           "zerolinecolor": "white",
           "zerolinewidth": 2
          }
         }
        }
       }
      },
      "text/html": [
       "<div\n",
       "    class=\"webio-mountpoint\"\n",
       "    data-webio-mountpoint=\"7037294369062955994\"\n",
       ">\n",
       "    <script>\n",
       "    (function(){\n",
       "    // Some integrations (namely, IJulia/Jupyter) use an alternate render pathway than\n",
       "    // just putting the html on the page. If WebIO isn't defined, then it's pretty likely\n",
       "    // that we're in one of those situations and the integration just isn't installed\n",
       "    // correctly.\n",
       "    if (typeof window.WebIO === \"undefined\") {\n",
       "        document\n",
       "            .querySelector('[data-webio-mountpoint=\"7037294369062955994\"]')\n",
       "            .innerHTML = (\n",
       "                '<div style=\"padding: 1em; background-color: #f8d6da; border: 1px solid #f5c6cb; font-weight: bold;\">' +\n",
       "                '<p><strong>WebIO not detected.</strong></p>' +\n",
       "                '<p>Please read ' +\n",
       "                '<a href=\"https://juliagizmos.github.io/WebIO.jl/latest/troubleshooting/not-detected/\" target=\"_blank\">the troubleshooting guide</a> ' +\n",
       "                'for more information on how to resolve this issue.</p>' +\n",
       "                '<p><a href=\"https://juliagizmos.github.io/WebIO.jl/latest/troubleshooting/not-detected/\" target=\"_blank\">https://juliagizmos.github.io/WebIO.jl/latest/troubleshooting/not-detected/</a></p>' +\n",
       "                '</div>'\n",
       "            );\n",
       "        return;\n",
       "    }\n",
       "    WebIO.mount(\n",
       "        document.querySelector('[data-webio-mountpoint=\"7037294369062955994\"]'),\n",
       "        {\"props\":{},\"nodeType\":\"Scope\",\"type\":\"node\",\"instanceArgs\":{\"imports\":{\"data\":[{\"name\":\"Plotly\",\"type\":\"js\",\"url\":\"\\/assetserver\\/0920e676c106f32ba509e3957ec7f2e1975e6dda-plotly.min.js\"},{\"name\":null,\"type\":\"js\",\"url\":\"\\/assetserver\\/a5a7489247caefe55cf69adf7b5b90ef582ba49e-plotly_webio.bundle.js\"}],\"type\":\"async_block\"},\"id\":\"9055019513840433806\",\"handlers\":{\"_toImage\":[\"(function (options){return this.Plotly.toImage(this.plotElem,options).then((function (data){return WebIO.setval({\\\"name\\\":\\\"image\\\",\\\"scope\\\":\\\"9055019513840433806\\\",\\\"id\\\":\\\"11034216832985083765\\\",\\\"type\\\":\\\"observable\\\"},data)}))})\"],\"__get_gd_contents\":[\"(function (prop){prop==\\\"data\\\" ? (WebIO.setval({\\\"name\\\":\\\"__gd_contents\\\",\\\"scope\\\":\\\"9055019513840433806\\\",\\\"id\\\":\\\"15844154989950191566\\\",\\\"type\\\":\\\"observable\\\"},this.plotElem.data)) : undefined; return prop==\\\"layout\\\" ? (WebIO.setval({\\\"name\\\":\\\"__gd_contents\\\",\\\"scope\\\":\\\"9055019513840433806\\\",\\\"id\\\":\\\"15844154989950191566\\\",\\\"type\\\":\\\"observable\\\"},this.plotElem.layout)) : undefined})\"],\"_downloadImage\":[\"(function (options){return this.Plotly.downloadImage(this.plotElem,options)})\"],\"_commands\":[\"(function (args){var fn=args.shift(); var elem=this.plotElem; var Plotly=this.Plotly; args.unshift(elem); return Plotly[fn].apply(this,args)})\"]},\"systemjs_options\":null,\"mount_callbacks\":[\"function () {\\n    var handler = ((function (Plotly,PlotlyWebIO){PlotlyWebIO.init(WebIO); var gd=this.dom.querySelector(\\\"#plot-f35c1c81-6ad0-4363-a112-6d9b284ed371\\\"); this.plotElem=gd; this.Plotly=Plotly; (window.Blink!==undefined) ? (gd.style.width=\\\"100%\\\", gd.style.height=\\\"100vh\\\", gd.style.marginLeft=\\\"0%\\\", gd.style.marginTop=\\\"0vh\\\") : undefined; window.onresize=(function (){return Plotly.Plots.resize(gd)}); Plotly.newPlot(gd,[{\\\"link\\\":{\\\"color\\\":[\\\"rgba(186,186,186,0.5)\\\",\\\"rgba(255,129,127,0.5)\\\"],\\\"value\\\":[1000.0,1000.0],\\\"source\\\":[1.0,0.0],\\\"target\\\":[0.0,2.0]},\\\"node\\\":{\\\"color\\\":[\\\"blue\\\",\\\"#90EE90\\\",\\\"red\\\"],\\\"pad\\\":15,\\\"line\\\":{\\\"color\\\":\\\"black\\\",\\\"width\\\":0.5},\\\"label\\\":[\\\"EH\\\",\\\"power\\\",\\\"Heat network\\\"],\\\"thickness\\\":20},\\\"type\\\":\\\"sankey\\\"}],{\\\"template\\\":{\\\"layout\\\":{\\\"coloraxis\\\":{\\\"colorbar\\\":{\\\"ticks\\\":\\\"\\\",\\\"outlinewidth\\\":0}},\\\"xaxis\\\":{\\\"gridcolor\\\":\\\"white\\\",\\\"zerolinewidth\\\":2,\\\"title\\\":{\\\"standoff\\\":15},\\\"ticks\\\":\\\"\\\",\\\"zerolinecolor\\\":\\\"white\\\",\\\"automargin\\\":true,\\\"linecolor\\\":\\\"white\\\"},\\\"hovermode\\\":\\\"closest\\\",\\\"paper_bgcolor\\\":\\\"white\\\",\\\"geo\\\":{\\\"showlakes\\\":true,\\\"showland\\\":true,\\\"landcolor\\\":\\\"#E5ECF6\\\",\\\"bgcolor\\\":\\\"white\\\",\\\"subunitcolor\\\":\\\"white\\\",\\\"lakecolor\\\":\\\"white\\\"},\\\"colorscale\\\":{\\\"sequential\\\":[[0.0,\\\"#0d0887\\\"],[0.1111111111111111,\\\"#46039f\\\"],[0.2222222222222222,\\\"#7201a8\\\"],[0.3333333333333333,\\\"#9c179e\\\"],[0.4444444444444444,\\\"#bd3786\\\"],[0.5555555555555556,\\\"#d8576b\\\"],[0.6666666666666666,\\\"#ed7953\\\"],[0.7777777777777778,\\\"#fb9f3a\\\"],[0.8888888888888888,\\\"#fdca26\\\"],[1.0,\\\"#f0f921\\\"]],\\\"diverging\\\":[[0,\\\"#8e0152\\\"],[0.1,\\\"#c51b7d\\\"],[0.2,\\\"#de77ae\\\"],[0.3,\\\"#f1b6da\\\"],[0.4,\\\"#fde0ef\\\"],[0.5,\\\"#f7f7f7\\\"],[0.6,\\\"#e6f5d0\\\"],[0.7,\\\"#b8e186\\\"],[0.8,\\\"#7fbc41\\\"],[0.9,\\\"#4d9221\\\"],[1,\\\"#276419\\\"]],\\\"sequentialminus\\\":[[0.0,\\\"#0d0887\\\"],[0.1111111111111111,\\\"#46039f\\\"],[0.2222222222222222,\\\"#7201a8\\\"],[0.3333333333333333,\\\"#9c179e\\\"],[0.4444444444444444,\\\"#bd3786\\\"],[0.5555555555555556,\\\"#d8576b\\\"],[0.6666666666666666,\\\"#ed7953\\\"],[0.7777777777777778,\\\"#fb9f3a\\\"],[0.8888888888888888,\\\"#fdca26\\\"],[1.0,\\\"#f0f921\\\"]]},\\\"yaxis\\\":{\\\"gridcolor\\\":\\\"white\\\",\\\"zerolinewidth\\\":2,\\\"title\\\":{\\\"standoff\\\":15},\\\"ticks\\\":\\\"\\\",\\\"zerolinecolor\\\":\\\"white\\\",\\\"automargin\\\":true,\\\"linecolor\\\":\\\"white\\\"},\\\"shapedefaults\\\":{\\\"line\\\":{\\\"color\\\":\\\"#2a3f5f\\\"}},\\\"hoverlabel\\\":{\\\"align\\\":\\\"left\\\"},\\\"mapbox\\\":{\\\"style\\\":\\\"light\\\"},\\\"polar\\\":{\\\"angularaxis\\\":{\\\"gridcolor\\\":\\\"white\\\",\\\"ticks\\\":\\\"\\\",\\\"linecolor\\\":\\\"white\\\"},\\\"bgcolor\\\":\\\"#E5ECF6\\\",\\\"radialaxis\\\":{\\\"gridcolor\\\":\\\"white\\\",\\\"ticks\\\":\\\"\\\",\\\"linecolor\\\":\\\"white\\\"}},\\\"autotypenumbers\\\":\\\"strict\\\",\\\"font\\\":{\\\"color\\\":\\\"#2a3f5f\\\"},\\\"ternary\\\":{\\\"baxis\\\":{\\\"gridcolor\\\":\\\"white\\\",\\\"ticks\\\":\\\"\\\",\\\"linecolor\\\":\\\"white\\\"},\\\"bgcolor\\\":\\\"#E5ECF6\\\",\\\"caxis\\\":{\\\"gridcolor\\\":\\\"white\\\",\\\"ticks\\\":\\\"\\\",\\\"linecolor\\\":\\\"white\\\"},\\\"aaxis\\\":{\\\"gridcolor\\\":\\\"white\\\",\\\"ticks\\\":\\\"\\\",\\\"linecolor\\\":\\\"white\\\"}},\\\"annotationdefaults\\\":{\\\"arrowhead\\\":0,\\\"arrowwidth\\\":1,\\\"arrowcolor\\\":\\\"#2a3f5f\\\"},\\\"plot_bgcolor\\\":\\\"#E5ECF6\\\",\\\"title\\\":{\\\"x\\\":0.05},\\\"scene\\\":{\\\"xaxis\\\":{\\\"gridcolor\\\":\\\"white\\\",\\\"gridwidth\\\":2,\\\"backgroundcolor\\\":\\\"#E5ECF6\\\",\\\"ticks\\\":\\\"\\\",\\\"showbackground\\\":true,\\\"zerolinecolor\\\":\\\"white\\\",\\\"linecolor\\\":\\\"white\\\"},\\\"zaxis\\\":{\\\"gridcolor\\\":\\\"white\\\",\\\"gridwidth\\\":2,\\\"backgroundcolor\\\":\\\"#E5ECF6\\\",\\\"ticks\\\":\\\"\\\",\\\"showbackground\\\":true,\\\"zerolinecolor\\\":\\\"white\\\",\\\"linecolor\\\":\\\"white\\\"},\\\"yaxis\\\":{\\\"gridcolor\\\":\\\"white\\\",\\\"gridwidth\\\":2,\\\"backgroundcolor\\\":\\\"#E5ECF6\\\",\\\"ticks\\\":\\\"\\\",\\\"showbackground\\\":true,\\\"zerolinecolor\\\":\\\"white\\\",\\\"linecolor\\\":\\\"white\\\"}},\\\"colorway\\\":[\\\"#636efa\\\",\\\"#EF553B\\\",\\\"#00cc96\\\",\\\"#ab63fa\\\",\\\"#FFA15A\\\",\\\"#19d3f3\\\",\\\"#FF6692\\\",\\\"#B6E880\\\",\\\"#FF97FF\\\",\\\"#FECB52\\\"]},\\\"data\\\":{\\\"barpolar\\\":[{\\\"type\\\":\\\"barpolar\\\",\\\"marker\\\":{\\\"line\\\":{\\\"color\\\":\\\"#E5ECF6\\\",\\\"width\\\":0.5}}}],\\\"carpet\\\":[{\\\"aaxis\\\":{\\\"gridcolor\\\":\\\"white\\\",\\\"endlinecolor\\\":\\\"#2a3f5f\\\",\\\"minorgridcolor\\\":\\\"white\\\",\\\"startlinecolor\\\":\\\"#2a3f5f\\\",\\\"linecolor\\\":\\\"white\\\"},\\\"type\\\":\\\"carpet\\\",\\\"baxis\\\":{\\\"gridcolor\\\":\\\"white\\\",\\\"endlinecolor\\\":\\\"#2a3f5f\\\",\\\"minorgridcolor\\\":\\\"white\\\",\\\"startlinecolor\\\":\\\"#2a3f5f\\\",\\\"linecolor\\\":\\\"white\\\"}}],\\\"scatterpolar\\\":[{\\\"type\\\":\\\"scatterpolar\\\",\\\"marker\\\":{\\\"colorbar\\\":{\\\"ticks\\\":\\\"\\\",\\\"outlinewidth\\\":0}}}],\\\"parcoords\\\":[{\\\"line\\\":{\\\"colorbar\\\":{\\\"ticks\\\":\\\"\\\",\\\"outlinewidth\\\":0}},\\\"type\\\":\\\"parcoords\\\"}],\\\"scatter\\\":[{\\\"type\\\":\\\"scatter\\\",\\\"marker\\\":{\\\"colorbar\\\":{\\\"ticks\\\":\\\"\\\",\\\"outlinewidth\\\":0}}}],\\\"histogram2dcontour\\\":[{\\\"colorbar\\\":{\\\"ticks\\\":\\\"\\\",\\\"outlinewidth\\\":0},\\\"type\\\":\\\"histogram2dcontour\\\",\\\"colorscale\\\":[[0.0,\\\"#0d0887\\\"],[0.1111111111111111,\\\"#46039f\\\"],[0.2222222222222222,\\\"#7201a8\\\"],[0.3333333333333333,\\\"#9c179e\\\"],[0.4444444444444444,\\\"#bd3786\\\"],[0.5555555555555556,\\\"#d8576b\\\"],[0.6666666666666666,\\\"#ed7953\\\"],[0.7777777777777778,\\\"#fb9f3a\\\"],[0.8888888888888888,\\\"#fdca26\\\"],[1.0,\\\"#f0f921\\\"]]}],\\\"contour\\\":[{\\\"colorbar\\\":{\\\"ticks\\\":\\\"\\\",\\\"outlinewidth\\\":0},\\\"type\\\":\\\"contour\\\",\\\"colorscale\\\":[[0.0,\\\"#0d0887\\\"],[0.1111111111111111,\\\"#46039f\\\"],[0.2222222222222222,\\\"#7201a8\\\"],[0.3333333333333333,\\\"#9c179e\\\"],[0.4444444444444444,\\\"#bd3786\\\"],[0.5555555555555556,\\\"#d8576b\\\"],[0.6666666666666666,\\\"#ed7953\\\"],[0.7777777777777778,\\\"#fb9f3a\\\"],[0.8888888888888888,\\\"#fdca26\\\"],[1.0,\\\"#f0f921\\\"]]}],\\\"scattercarpet\\\":[{\\\"type\\\":\\\"scattercarpet\\\",\\\"marker\\\":{\\\"colorbar\\\":{\\\"ticks\\\":\\\"\\\",\\\"outlinewidth\\\":0}}}],\\\"mesh3d\\\":[{\\\"colorbar\\\":{\\\"ticks\\\":\\\"\\\",\\\"outlinewidth\\\":0},\\\"type\\\":\\\"mesh3d\\\"}],\\\"surface\\\":[{\\\"colorbar\\\":{\\\"ticks\\\":\\\"\\\",\\\"outlinewidth\\\":0},\\\"type\\\":\\\"surface\\\",\\\"colorscale\\\":[[0.0,\\\"#0d0887\\\"],[0.1111111111111111,\\\"#46039f\\\"],[0.2222222222222222,\\\"#7201a8\\\"],[0.3333333333333333,\\\"#9c179e\\\"],[0.4444444444444444,\\\"#bd3786\\\"],[0.5555555555555556,\\\"#d8576b\\\"],[0.6666666666666666,\\\"#ed7953\\\"],[0.7777777777777778,\\\"#fb9f3a\\\"],[0.8888888888888888,\\\"#fdca26\\\"],[1.0,\\\"#f0f921\\\"]]}],\\\"scattermapbox\\\":[{\\\"type\\\":\\\"scattermapbox\\\",\\\"marker\\\":{\\\"colorbar\\\":{\\\"ticks\\\":\\\"\\\",\\\"outlinewidth\\\":0}}}],\\\"scattergeo\\\":[{\\\"type\\\":\\\"scattergeo\\\",\\\"marker\\\":{\\\"colorbar\\\":{\\\"ticks\\\":\\\"\\\",\\\"outlinewidth\\\":0}}}],\\\"histogram\\\":[{\\\"type\\\":\\\"histogram\\\",\\\"marker\\\":{\\\"colorbar\\\":{\\\"ticks\\\":\\\"\\\",\\\"outlinewidth\\\":0}}}],\\\"pie\\\":[{\\\"type\\\":\\\"pie\\\",\\\"automargin\\\":true}],\\\"choropleth\\\":[{\\\"colorbar\\\":{\\\"ticks\\\":\\\"\\\",\\\"outlinewidth\\\":0},\\\"type\\\":\\\"choropleth\\\"}],\\\"heatmapgl\\\":[{\\\"colorbar\\\":{\\\"ticks\\\":\\\"\\\",\\\"outlinewidth\\\":0},\\\"type\\\":\\\"heatmapgl\\\",\\\"colorscale\\\":[[0.0,\\\"#0d0887\\\"],[0.1111111111111111,\\\"#46039f\\\"],[0.2222222222222222,\\\"#7201a8\\\"],[0.3333333333333333,\\\"#9c179e\\\"],[0.4444444444444444,\\\"#bd3786\\\"],[0.5555555555555556,\\\"#d8576b\\\"],[0.6666666666666666,\\\"#ed7953\\\"],[0.7777777777777778,\\\"#fb9f3a\\\"],[0.8888888888888888,\\\"#fdca26\\\"],[1.0,\\\"#f0f921\\\"]]}],\\\"bar\\\":[{\\\"type\\\":\\\"bar\\\",\\\"error_y\\\":{\\\"color\\\":\\\"#2a3f5f\\\"},\\\"error_x\\\":{\\\"color\\\":\\\"#2a3f5f\\\"},\\\"marker\\\":{\\\"line\\\":{\\\"color\\\":\\\"#E5ECF6\\\",\\\"width\\\":0.5}}}],\\\"heatmap\\\":[{\\\"colorbar\\\":{\\\"ticks\\\":\\\"\\\",\\\"outlinewidth\\\":0},\\\"type\\\":\\\"heatmap\\\",\\\"colorscale\\\":[[0.0,\\\"#0d0887\\\"],[0.1111111111111111,\\\"#46039f\\\"],[0.2222222222222222,\\\"#7201a8\\\"],[0.3333333333333333,\\\"#9c179e\\\"],[0.4444444444444444,\\\"#bd3786\\\"],[0.5555555555555556,\\\"#d8576b\\\"],[0.6666666666666666,\\\"#ed7953\\\"],[0.7777777777777778,\\\"#fb9f3a\\\"],[0.8888888888888888,\\\"#fdca26\\\"],[1.0,\\\"#f0f921\\\"]]}],\\\"contourcarpet\\\":[{\\\"colorbar\\\":{\\\"ticks\\\":\\\"\\\",\\\"outlinewidth\\\":0},\\\"type\\\":\\\"contourcarpet\\\"}],\\\"table\\\":[{\\\"type\\\":\\\"table\\\",\\\"header\\\":{\\\"line\\\":{\\\"color\\\":\\\"white\\\"},\\\"fill\\\":{\\\"color\\\":\\\"#C8D4E3\\\"}},\\\"cells\\\":{\\\"line\\\":{\\\"color\\\":\\\"white\\\"},\\\"fill\\\":{\\\"color\\\":\\\"#EBF0F8\\\"}}}],\\\"scatter3d\\\":[{\\\"line\\\":{\\\"colorbar\\\":{\\\"ticks\\\":\\\"\\\",\\\"outlinewidth\\\":0}},\\\"type\\\":\\\"scatter3d\\\",\\\"marker\\\":{\\\"colorbar\\\":{\\\"ticks\\\":\\\"\\\",\\\"outlinewidth\\\":0}}}],\\\"scattergl\\\":[{\\\"type\\\":\\\"scattergl\\\",\\\"marker\\\":{\\\"colorbar\\\":{\\\"ticks\\\":\\\"\\\",\\\"outlinewidth\\\":0}}}],\\\"histogram2d\\\":[{\\\"colorbar\\\":{\\\"ticks\\\":\\\"\\\",\\\"outlinewidth\\\":0},\\\"type\\\":\\\"histogram2d\\\",\\\"colorscale\\\":[[0.0,\\\"#0d0887\\\"],[0.1111111111111111,\\\"#46039f\\\"],[0.2222222222222222,\\\"#7201a8\\\"],[0.3333333333333333,\\\"#9c179e\\\"],[0.4444444444444444,\\\"#bd3786\\\"],[0.5555555555555556,\\\"#d8576b\\\"],[0.6666666666666666,\\\"#ed7953\\\"],[0.7777777777777778,\\\"#fb9f3a\\\"],[0.8888888888888888,\\\"#fdca26\\\"],[1.0,\\\"#f0f921\\\"]]}],\\\"scatterternary\\\":[{\\\"type\\\":\\\"scatterternary\\\",\\\"marker\\\":{\\\"colorbar\\\":{\\\"ticks\\\":\\\"\\\",\\\"outlinewidth\\\":0}}}],\\\"scatterpolargl\\\":[{\\\"type\\\":\\\"scatterpolargl\\\",\\\"marker\\\":{\\\"colorbar\\\":{\\\"ticks\\\":\\\"\\\",\\\"outlinewidth\\\":0}}}]}},\\\"margin\\\":{\\\"l\\\":50,\\\"b\\\":50,\\\"r\\\":50,\\\"t\\\":60}},{\\\"showLink\\\":false,\\\"editable\\\":false,\\\"responsive\\\":true,\\\"staticPlot\\\":false,\\\"scrollZoom\\\":true}); gd.on(\\\"plotly_hover\\\",(function (data){var filtered_data=WebIO.PlotlyCommands.filterEventData(gd,data,\\\"hover\\\"); return !(filtered_data.isnil) ? (WebIO.setval({\\\"name\\\":\\\"hover\\\",\\\"scope\\\":\\\"9055019513840433806\\\",\\\"id\\\":\\\"7209435734846829052\\\",\\\"type\\\":\\\"observable\\\"},filtered_data.out)) : undefined})); gd.on(\\\"plotly_unhover\\\",(function (){return WebIO.setval({\\\"name\\\":\\\"hover\\\",\\\"scope\\\":\\\"9055019513840433806\\\",\\\"id\\\":\\\"7209435734846829052\\\",\\\"type\\\":\\\"observable\\\"},{})})); gd.on(\\\"plotly_selected\\\",(function (data){var filtered_data=WebIO.PlotlyCommands.filterEventData(gd,data,\\\"selected\\\"); return !(filtered_data.isnil) ? (WebIO.setval({\\\"name\\\":\\\"selected\\\",\\\"scope\\\":\\\"9055019513840433806\\\",\\\"id\\\":\\\"2926013450677774366\\\",\\\"type\\\":\\\"observable\\\"},filtered_data.out)) : undefined})); gd.on(\\\"plotly_deselect\\\",(function (){return WebIO.setval({\\\"name\\\":\\\"selected\\\",\\\"scope\\\":\\\"9055019513840433806\\\",\\\"id\\\":\\\"2926013450677774366\\\",\\\"type\\\":\\\"observable\\\"},{})})); gd.on(\\\"plotly_relayout\\\",(function (data){var filtered_data=WebIO.PlotlyCommands.filterEventData(gd,data,\\\"relayout\\\"); return !(filtered_data.isnil) ? (WebIO.setval({\\\"name\\\":\\\"relayout\\\",\\\"scope\\\":\\\"9055019513840433806\\\",\\\"id\\\":\\\"15694005821577623479\\\",\\\"type\\\":\\\"observable\\\"},filtered_data.out)) : undefined})); return gd.on(\\\"plotly_click\\\",(function (data){var filtered_data=WebIO.PlotlyCommands.filterEventData(gd,data,\\\"click\\\"); return !(filtered_data.isnil) ? (WebIO.setval({\\\"name\\\":\\\"click\\\",\\\"scope\\\":\\\"9055019513840433806\\\",\\\"id\\\":\\\"7340900831252943946\\\",\\\"type\\\":\\\"observable\\\"},filtered_data.out)) : undefined}))}));\\n    (WebIO.importBlock({\\\"data\\\":[{\\\"name\\\":\\\"Plotly\\\",\\\"type\\\":\\\"js\\\",\\\"url\\\":\\\"\\/assetserver\\/0920e676c106f32ba509e3957ec7f2e1975e6dda-plotly.min.js\\\"},{\\\"name\\\":null,\\\"type\\\":\\\"js\\\",\\\"url\\\":\\\"\\/assetserver\\/a5a7489247caefe55cf69adf7b5b90ef582ba49e-plotly_webio.bundle.js\\\"}],\\\"type\\\":\\\"async_block\\\"})).then((imports) => handler.apply(this, imports));\\n}\\n\"],\"observables\":{\"_toImage\":{\"sync\":false,\"id\":\"11340563920352369860\",\"value\":{}},\"hover\":{\"sync\":false,\"id\":\"7209435734846829052\",\"value\":{}},\"selected\":{\"sync\":false,\"id\":\"2926013450677774366\",\"value\":{}},\"__gd_contents\":{\"sync\":false,\"id\":\"15844154989950191566\",\"value\":{}},\"click\":{\"sync\":false,\"id\":\"7340900831252943946\",\"value\":{}},\"image\":{\"sync\":true,\"id\":\"11034216832985083765\",\"value\":\"\"},\"__get_gd_contents\":{\"sync\":false,\"id\":\"3543778285279199386\",\"value\":\"\"},\"_downloadImage\":{\"sync\":false,\"id\":\"17760408792310643218\",\"value\":{}},\"relayout\":{\"sync\":false,\"id\":\"15694005821577623479\",\"value\":{}},\"_commands\":{\"sync\":false,\"id\":\"15759182944609699690\",\"value\":[]}}},\"children\":[{\"props\":{\"id\":\"plot-f35c1c81-6ad0-4363-a112-6d9b284ed371\"},\"nodeType\":\"DOM\",\"type\":\"node\",\"instanceArgs\":{\"namespace\":\"html\",\"tag\":\"div\"},\"children\":[]}]},\n",
       "        window,\n",
       "    );\n",
       "    })()\n",
       "    </script>\n",
       "</div>\n"
      ],
      "text/plain": [
       "data: [\n",
       "  \"sankey with fields link, node, and type\"\n",
       "]\n",
       "\n",
       "layout: \"layout with fields margin and template\"\n",
       "\n"
      ]
     },
     "execution_count": 6,
     "metadata": {},
     "output_type": "execute_result"
    }
   ],
   "source": [
    "# Eletric heating\n",
    "eh_in = [Resource(\"power\",1000,\"kW\",[1])]\n",
    "eh_heat = [Heat(1000,1273,1272)]\n",
    "eh = Tech(\"EH\",eh_in,[],eh_heat)\n",
    "vivi_sankey(eh,valueIndex=1)"
   ]
  },
  {
   "cell_type": "markdown",
   "id": "f2fd34e4",
   "metadata": {},
   "source": [
    "A **cooling tower** (ideal heat sink)"
   ]
  },
  {
   "cell_type": "code",
   "execution_count": 7,
   "id": "491aeb4a",
   "metadata": {},
   "outputs": [
    {
     "data": {
      "application/vnd.plotly.v1+json": {
       "config": {
        "editable": false,
        "responsive": true,
        "scrollZoom": true,
        "showLink": false,
        "staticPlot": false
       },
       "data": [
        {
         "link": {
          "color": [
           "rgba(186,186,186,0.5)",
           "rgba(255,129,127,0.5)"
          ],
          "source": [
           1,
           2
          ],
          "target": [
           0,
           0
          ],
          "value": [
           14.3,
           1000
          ]
         },
         "node": {
          "color": [
           "blue",
           "#90EE90",
           "red"
          ],
          "label": [
           "CT",
           "power",
           "Heat network"
          ],
          "line": {
           "color": "black",
           "width": 0.5
          },
          "pad": 15,
          "thickness": 20
         },
         "type": "sankey"
        }
       ],
       "frames": [],
       "layout": {
        "margin": {
         "b": 50,
         "l": 50,
         "r": 50,
         "t": 60
        },
        "template": {
         "data": {
          "bar": [
           {
            "error_x": {
             "color": "#2a3f5f"
            },
            "error_y": {
             "color": "#2a3f5f"
            },
            "marker": {
             "line": {
              "color": "#E5ECF6",
              "width": 0.5
             }
            },
            "type": "bar"
           }
          ],
          "barpolar": [
           {
            "marker": {
             "line": {
              "color": "#E5ECF6",
              "width": 0.5
             }
            },
            "type": "barpolar"
           }
          ],
          "carpet": [
           {
            "aaxis": {
             "endlinecolor": "#2a3f5f",
             "gridcolor": "white",
             "linecolor": "white",
             "minorgridcolor": "white",
             "startlinecolor": "#2a3f5f"
            },
            "baxis": {
             "endlinecolor": "#2a3f5f",
             "gridcolor": "white",
             "linecolor": "white",
             "minorgridcolor": "white",
             "startlinecolor": "#2a3f5f"
            },
            "type": "carpet"
           }
          ],
          "choropleth": [
           {
            "colorbar": {
             "outlinewidth": 0,
             "ticks": ""
            },
            "type": "choropleth"
           }
          ],
          "contour": [
           {
            "colorbar": {
             "outlinewidth": 0,
             "ticks": ""
            },
            "colorscale": [
             [
              0,
              "#0d0887"
             ],
             [
              0.1111111111111111,
              "#46039f"
             ],
             [
              0.2222222222222222,
              "#7201a8"
             ],
             [
              0.3333333333333333,
              "#9c179e"
             ],
             [
              0.4444444444444444,
              "#bd3786"
             ],
             [
              0.5555555555555556,
              "#d8576b"
             ],
             [
              0.6666666666666666,
              "#ed7953"
             ],
             [
              0.7777777777777778,
              "#fb9f3a"
             ],
             [
              0.8888888888888888,
              "#fdca26"
             ],
             [
              1,
              "#f0f921"
             ]
            ],
            "type": "contour"
           }
          ],
          "contourcarpet": [
           {
            "colorbar": {
             "outlinewidth": 0,
             "ticks": ""
            },
            "type": "contourcarpet"
           }
          ],
          "heatmap": [
           {
            "colorbar": {
             "outlinewidth": 0,
             "ticks": ""
            },
            "colorscale": [
             [
              0,
              "#0d0887"
             ],
             [
              0.1111111111111111,
              "#46039f"
             ],
             [
              0.2222222222222222,
              "#7201a8"
             ],
             [
              0.3333333333333333,
              "#9c179e"
             ],
             [
              0.4444444444444444,
              "#bd3786"
             ],
             [
              0.5555555555555556,
              "#d8576b"
             ],
             [
              0.6666666666666666,
              "#ed7953"
             ],
             [
              0.7777777777777778,
              "#fb9f3a"
             ],
             [
              0.8888888888888888,
              "#fdca26"
             ],
             [
              1,
              "#f0f921"
             ]
            ],
            "type": "heatmap"
           }
          ],
          "heatmapgl": [
           {
            "colorbar": {
             "outlinewidth": 0,
             "ticks": ""
            },
            "colorscale": [
             [
              0,
              "#0d0887"
             ],
             [
              0.1111111111111111,
              "#46039f"
             ],
             [
              0.2222222222222222,
              "#7201a8"
             ],
             [
              0.3333333333333333,
              "#9c179e"
             ],
             [
              0.4444444444444444,
              "#bd3786"
             ],
             [
              0.5555555555555556,
              "#d8576b"
             ],
             [
              0.6666666666666666,
              "#ed7953"
             ],
             [
              0.7777777777777778,
              "#fb9f3a"
             ],
             [
              0.8888888888888888,
              "#fdca26"
             ],
             [
              1,
              "#f0f921"
             ]
            ],
            "type": "heatmapgl"
           }
          ],
          "histogram": [
           {
            "marker": {
             "colorbar": {
              "outlinewidth": 0,
              "ticks": ""
             }
            },
            "type": "histogram"
           }
          ],
          "histogram2d": [
           {
            "colorbar": {
             "outlinewidth": 0,
             "ticks": ""
            },
            "colorscale": [
             [
              0,
              "#0d0887"
             ],
             [
              0.1111111111111111,
              "#46039f"
             ],
             [
              0.2222222222222222,
              "#7201a8"
             ],
             [
              0.3333333333333333,
              "#9c179e"
             ],
             [
              0.4444444444444444,
              "#bd3786"
             ],
             [
              0.5555555555555556,
              "#d8576b"
             ],
             [
              0.6666666666666666,
              "#ed7953"
             ],
             [
              0.7777777777777778,
              "#fb9f3a"
             ],
             [
              0.8888888888888888,
              "#fdca26"
             ],
             [
              1,
              "#f0f921"
             ]
            ],
            "type": "histogram2d"
           }
          ],
          "histogram2dcontour": [
           {
            "colorbar": {
             "outlinewidth": 0,
             "ticks": ""
            },
            "colorscale": [
             [
              0,
              "#0d0887"
             ],
             [
              0.1111111111111111,
              "#46039f"
             ],
             [
              0.2222222222222222,
              "#7201a8"
             ],
             [
              0.3333333333333333,
              "#9c179e"
             ],
             [
              0.4444444444444444,
              "#bd3786"
             ],
             [
              0.5555555555555556,
              "#d8576b"
             ],
             [
              0.6666666666666666,
              "#ed7953"
             ],
             [
              0.7777777777777778,
              "#fb9f3a"
             ],
             [
              0.8888888888888888,
              "#fdca26"
             ],
             [
              1,
              "#f0f921"
             ]
            ],
            "type": "histogram2dcontour"
           }
          ],
          "mesh3d": [
           {
            "colorbar": {
             "outlinewidth": 0,
             "ticks": ""
            },
            "type": "mesh3d"
           }
          ],
          "parcoords": [
           {
            "line": {
             "colorbar": {
              "outlinewidth": 0,
              "ticks": ""
             }
            },
            "type": "parcoords"
           }
          ],
          "pie": [
           {
            "automargin": true,
            "type": "pie"
           }
          ],
          "scatter": [
           {
            "marker": {
             "colorbar": {
              "outlinewidth": 0,
              "ticks": ""
             }
            },
            "type": "scatter"
           }
          ],
          "scatter3d": [
           {
            "line": {
             "colorbar": {
              "outlinewidth": 0,
              "ticks": ""
             }
            },
            "marker": {
             "colorbar": {
              "outlinewidth": 0,
              "ticks": ""
             }
            },
            "type": "scatter3d"
           }
          ],
          "scattercarpet": [
           {
            "marker": {
             "colorbar": {
              "outlinewidth": 0,
              "ticks": ""
             }
            },
            "type": "scattercarpet"
           }
          ],
          "scattergeo": [
           {
            "marker": {
             "colorbar": {
              "outlinewidth": 0,
              "ticks": ""
             }
            },
            "type": "scattergeo"
           }
          ],
          "scattergl": [
           {
            "marker": {
             "colorbar": {
              "outlinewidth": 0,
              "ticks": ""
             }
            },
            "type": "scattergl"
           }
          ],
          "scattermapbox": [
           {
            "marker": {
             "colorbar": {
              "outlinewidth": 0,
              "ticks": ""
             }
            },
            "type": "scattermapbox"
           }
          ],
          "scatterpolar": [
           {
            "marker": {
             "colorbar": {
              "outlinewidth": 0,
              "ticks": ""
             }
            },
            "type": "scatterpolar"
           }
          ],
          "scatterpolargl": [
           {
            "marker": {
             "colorbar": {
              "outlinewidth": 0,
              "ticks": ""
             }
            },
            "type": "scatterpolargl"
           }
          ],
          "scatterternary": [
           {
            "marker": {
             "colorbar": {
              "outlinewidth": 0,
              "ticks": ""
             }
            },
            "type": "scatterternary"
           }
          ],
          "surface": [
           {
            "colorbar": {
             "outlinewidth": 0,
             "ticks": ""
            },
            "colorscale": [
             [
              0,
              "#0d0887"
             ],
             [
              0.1111111111111111,
              "#46039f"
             ],
             [
              0.2222222222222222,
              "#7201a8"
             ],
             [
              0.3333333333333333,
              "#9c179e"
             ],
             [
              0.4444444444444444,
              "#bd3786"
             ],
             [
              0.5555555555555556,
              "#d8576b"
             ],
             [
              0.6666666666666666,
              "#ed7953"
             ],
             [
              0.7777777777777778,
              "#fb9f3a"
             ],
             [
              0.8888888888888888,
              "#fdca26"
             ],
             [
              1,
              "#f0f921"
             ]
            ],
            "type": "surface"
           }
          ],
          "table": [
           {
            "cells": {
             "fill": {
              "color": "#EBF0F8"
             },
             "line": {
              "color": "white"
             }
            },
            "header": {
             "fill": {
              "color": "#C8D4E3"
             },
             "line": {
              "color": "white"
             }
            },
            "type": "table"
           }
          ]
         },
         "layout": {
          "annotationdefaults": {
           "arrowcolor": "#2a3f5f",
           "arrowhead": 0,
           "arrowwidth": 1
          },
          "autotypenumbers": "strict",
          "coloraxis": {
           "colorbar": {
            "outlinewidth": 0,
            "ticks": ""
           }
          },
          "colorscale": {
           "diverging": [
            [
             0,
             "#8e0152"
            ],
            [
             0.1,
             "#c51b7d"
            ],
            [
             0.2,
             "#de77ae"
            ],
            [
             0.3,
             "#f1b6da"
            ],
            [
             0.4,
             "#fde0ef"
            ],
            [
             0.5,
             "#f7f7f7"
            ],
            [
             0.6,
             "#e6f5d0"
            ],
            [
             0.7,
             "#b8e186"
            ],
            [
             0.8,
             "#7fbc41"
            ],
            [
             0.9,
             "#4d9221"
            ],
            [
             1,
             "#276419"
            ]
           ],
           "sequential": [
            [
             0,
             "#0d0887"
            ],
            [
             0.1111111111111111,
             "#46039f"
            ],
            [
             0.2222222222222222,
             "#7201a8"
            ],
            [
             0.3333333333333333,
             "#9c179e"
            ],
            [
             0.4444444444444444,
             "#bd3786"
            ],
            [
             0.5555555555555556,
             "#d8576b"
            ],
            [
             0.6666666666666666,
             "#ed7953"
            ],
            [
             0.7777777777777778,
             "#fb9f3a"
            ],
            [
             0.8888888888888888,
             "#fdca26"
            ],
            [
             1,
             "#f0f921"
            ]
           ],
           "sequentialminus": [
            [
             0,
             "#0d0887"
            ],
            [
             0.1111111111111111,
             "#46039f"
            ],
            [
             0.2222222222222222,
             "#7201a8"
            ],
            [
             0.3333333333333333,
             "#9c179e"
            ],
            [
             0.4444444444444444,
             "#bd3786"
            ],
            [
             0.5555555555555556,
             "#d8576b"
            ],
            [
             0.6666666666666666,
             "#ed7953"
            ],
            [
             0.7777777777777778,
             "#fb9f3a"
            ],
            [
             0.8888888888888888,
             "#fdca26"
            ],
            [
             1,
             "#f0f921"
            ]
           ]
          },
          "colorway": [
           "#636efa",
           "#EF553B",
           "#00cc96",
           "#ab63fa",
           "#FFA15A",
           "#19d3f3",
           "#FF6692",
           "#B6E880",
           "#FF97FF",
           "#FECB52"
          ],
          "font": {
           "color": "#2a3f5f"
          },
          "geo": {
           "bgcolor": "white",
           "lakecolor": "white",
           "landcolor": "#E5ECF6",
           "showlakes": true,
           "showland": true,
           "subunitcolor": "white"
          },
          "hoverlabel": {
           "align": "left"
          },
          "hovermode": "closest",
          "mapbox": {
           "style": "light"
          },
          "paper_bgcolor": "white",
          "plot_bgcolor": "#E5ECF6",
          "polar": {
           "angularaxis": {
            "gridcolor": "white",
            "linecolor": "white",
            "ticks": ""
           },
           "bgcolor": "#E5ECF6",
           "radialaxis": {
            "gridcolor": "white",
            "linecolor": "white",
            "ticks": ""
           }
          },
          "scene": {
           "xaxis": {
            "backgroundcolor": "#E5ECF6",
            "gridcolor": "white",
            "gridwidth": 2,
            "linecolor": "white",
            "showbackground": true,
            "ticks": "",
            "zerolinecolor": "white"
           },
           "yaxis": {
            "backgroundcolor": "#E5ECF6",
            "gridcolor": "white",
            "gridwidth": 2,
            "linecolor": "white",
            "showbackground": true,
            "ticks": "",
            "zerolinecolor": "white"
           },
           "zaxis": {
            "backgroundcolor": "#E5ECF6",
            "gridcolor": "white",
            "gridwidth": 2,
            "linecolor": "white",
            "showbackground": true,
            "ticks": "",
            "zerolinecolor": "white"
           }
          },
          "shapedefaults": {
           "line": {
            "color": "#2a3f5f"
           }
          },
          "ternary": {
           "aaxis": {
            "gridcolor": "white",
            "linecolor": "white",
            "ticks": ""
           },
           "baxis": {
            "gridcolor": "white",
            "linecolor": "white",
            "ticks": ""
           },
           "bgcolor": "#E5ECF6",
           "caxis": {
            "gridcolor": "white",
            "linecolor": "white",
            "ticks": ""
           }
          },
          "title": {
           "x": 0.05
          },
          "xaxis": {
           "automargin": true,
           "gridcolor": "white",
           "linecolor": "white",
           "ticks": "",
           "title": {
            "standoff": 15
           },
           "zerolinecolor": "white",
           "zerolinewidth": 2
          },
          "yaxis": {
           "automargin": true,
           "gridcolor": "white",
           "linecolor": "white",
           "ticks": "",
           "title": {
            "standoff": 15
           },
           "zerolinecolor": "white",
           "zerolinewidth": 2
          }
         }
        }
       }
      },
      "text/html": [
       "<div\n",
       "    class=\"webio-mountpoint\"\n",
       "    data-webio-mountpoint=\"1937266568321600993\"\n",
       ">\n",
       "    <script>\n",
       "    (function(){\n",
       "    // Some integrations (namely, IJulia/Jupyter) use an alternate render pathway than\n",
       "    // just putting the html on the page. If WebIO isn't defined, then it's pretty likely\n",
       "    // that we're in one of those situations and the integration just isn't installed\n",
       "    // correctly.\n",
       "    if (typeof window.WebIO === \"undefined\") {\n",
       "        document\n",
       "            .querySelector('[data-webio-mountpoint=\"1937266568321600993\"]')\n",
       "            .innerHTML = (\n",
       "                '<div style=\"padding: 1em; background-color: #f8d6da; border: 1px solid #f5c6cb; font-weight: bold;\">' +\n",
       "                '<p><strong>WebIO not detected.</strong></p>' +\n",
       "                '<p>Please read ' +\n",
       "                '<a href=\"https://juliagizmos.github.io/WebIO.jl/latest/troubleshooting/not-detected/\" target=\"_blank\">the troubleshooting guide</a> ' +\n",
       "                'for more information on how to resolve this issue.</p>' +\n",
       "                '<p><a href=\"https://juliagizmos.github.io/WebIO.jl/latest/troubleshooting/not-detected/\" target=\"_blank\">https://juliagizmos.github.io/WebIO.jl/latest/troubleshooting/not-detected/</a></p>' +\n",
       "                '</div>'\n",
       "            );\n",
       "        return;\n",
       "    }\n",
       "    WebIO.mount(\n",
       "        document.querySelector('[data-webio-mountpoint=\"1937266568321600993\"]'),\n",
       "        {\"props\":{},\"nodeType\":\"Scope\",\"type\":\"node\",\"instanceArgs\":{\"imports\":{\"data\":[{\"name\":\"Plotly\",\"type\":\"js\",\"url\":\"\\/assetserver\\/0920e676c106f32ba509e3957ec7f2e1975e6dda-plotly.min.js\"},{\"name\":null,\"type\":\"js\",\"url\":\"\\/assetserver\\/a5a7489247caefe55cf69adf7b5b90ef582ba49e-plotly_webio.bundle.js\"}],\"type\":\"async_block\"},\"id\":\"17617687389673084354\",\"handlers\":{\"_toImage\":[\"(function (options){return this.Plotly.toImage(this.plotElem,options).then((function (data){return WebIO.setval({\\\"name\\\":\\\"image\\\",\\\"scope\\\":\\\"17617687389673084354\\\",\\\"id\\\":\\\"1936182002840841296\\\",\\\"type\\\":\\\"observable\\\"},data)}))})\"],\"__get_gd_contents\":[\"(function (prop){prop==\\\"data\\\" ? (WebIO.setval({\\\"name\\\":\\\"__gd_contents\\\",\\\"scope\\\":\\\"17617687389673084354\\\",\\\"id\\\":\\\"8753443716461274012\\\",\\\"type\\\":\\\"observable\\\"},this.plotElem.data)) : undefined; return prop==\\\"layout\\\" ? (WebIO.setval({\\\"name\\\":\\\"__gd_contents\\\",\\\"scope\\\":\\\"17617687389673084354\\\",\\\"id\\\":\\\"8753443716461274012\\\",\\\"type\\\":\\\"observable\\\"},this.plotElem.layout)) : undefined})\"],\"_downloadImage\":[\"(function (options){return this.Plotly.downloadImage(this.plotElem,options)})\"],\"_commands\":[\"(function (args){var fn=args.shift(); var elem=this.plotElem; var Plotly=this.Plotly; args.unshift(elem); return Plotly[fn].apply(this,args)})\"]},\"systemjs_options\":null,\"mount_callbacks\":[\"function () {\\n    var handler = ((function (Plotly,PlotlyWebIO){PlotlyWebIO.init(WebIO); var gd=this.dom.querySelector(\\\"#plot-713786a9-b85a-46e7-9863-ec54c4a4e67d\\\"); this.plotElem=gd; this.Plotly=Plotly; (window.Blink!==undefined) ? (gd.style.width=\\\"100%\\\", gd.style.height=\\\"100vh\\\", gd.style.marginLeft=\\\"0%\\\", gd.style.marginTop=\\\"0vh\\\") : undefined; window.onresize=(function (){return Plotly.Plots.resize(gd)}); Plotly.newPlot(gd,[{\\\"link\\\":{\\\"color\\\":[\\\"rgba(186,186,186,0.5)\\\",\\\"rgba(255,129,127,0.5)\\\"],\\\"value\\\":[14.3,1000.0],\\\"source\\\":[1.0,2.0],\\\"target\\\":[0.0,0.0]},\\\"node\\\":{\\\"color\\\":[\\\"blue\\\",\\\"#90EE90\\\",\\\"red\\\"],\\\"pad\\\":15,\\\"line\\\":{\\\"color\\\":\\\"black\\\",\\\"width\\\":0.5},\\\"label\\\":[\\\"CT\\\",\\\"power\\\",\\\"Heat network\\\"],\\\"thickness\\\":20},\\\"type\\\":\\\"sankey\\\"}],{\\\"template\\\":{\\\"layout\\\":{\\\"coloraxis\\\":{\\\"colorbar\\\":{\\\"ticks\\\":\\\"\\\",\\\"outlinewidth\\\":0}},\\\"xaxis\\\":{\\\"gridcolor\\\":\\\"white\\\",\\\"zerolinewidth\\\":2,\\\"title\\\":{\\\"standoff\\\":15},\\\"ticks\\\":\\\"\\\",\\\"zerolinecolor\\\":\\\"white\\\",\\\"automargin\\\":true,\\\"linecolor\\\":\\\"white\\\"},\\\"hovermode\\\":\\\"closest\\\",\\\"paper_bgcolor\\\":\\\"white\\\",\\\"geo\\\":{\\\"showlakes\\\":true,\\\"showland\\\":true,\\\"landcolor\\\":\\\"#E5ECF6\\\",\\\"bgcolor\\\":\\\"white\\\",\\\"subunitcolor\\\":\\\"white\\\",\\\"lakecolor\\\":\\\"white\\\"},\\\"colorscale\\\":{\\\"sequential\\\":[[0.0,\\\"#0d0887\\\"],[0.1111111111111111,\\\"#46039f\\\"],[0.2222222222222222,\\\"#7201a8\\\"],[0.3333333333333333,\\\"#9c179e\\\"],[0.4444444444444444,\\\"#bd3786\\\"],[0.5555555555555556,\\\"#d8576b\\\"],[0.6666666666666666,\\\"#ed7953\\\"],[0.7777777777777778,\\\"#fb9f3a\\\"],[0.8888888888888888,\\\"#fdca26\\\"],[1.0,\\\"#f0f921\\\"]],\\\"diverging\\\":[[0,\\\"#8e0152\\\"],[0.1,\\\"#c51b7d\\\"],[0.2,\\\"#de77ae\\\"],[0.3,\\\"#f1b6da\\\"],[0.4,\\\"#fde0ef\\\"],[0.5,\\\"#f7f7f7\\\"],[0.6,\\\"#e6f5d0\\\"],[0.7,\\\"#b8e186\\\"],[0.8,\\\"#7fbc41\\\"],[0.9,\\\"#4d9221\\\"],[1,\\\"#276419\\\"]],\\\"sequentialminus\\\":[[0.0,\\\"#0d0887\\\"],[0.1111111111111111,\\\"#46039f\\\"],[0.2222222222222222,\\\"#7201a8\\\"],[0.3333333333333333,\\\"#9c179e\\\"],[0.4444444444444444,\\\"#bd3786\\\"],[0.5555555555555556,\\\"#d8576b\\\"],[0.6666666666666666,\\\"#ed7953\\\"],[0.7777777777777778,\\\"#fb9f3a\\\"],[0.8888888888888888,\\\"#fdca26\\\"],[1.0,\\\"#f0f921\\\"]]},\\\"yaxis\\\":{\\\"gridcolor\\\":\\\"white\\\",\\\"zerolinewidth\\\":2,\\\"title\\\":{\\\"standoff\\\":15},\\\"ticks\\\":\\\"\\\",\\\"zerolinecolor\\\":\\\"white\\\",\\\"automargin\\\":true,\\\"linecolor\\\":\\\"white\\\"},\\\"shapedefaults\\\":{\\\"line\\\":{\\\"color\\\":\\\"#2a3f5f\\\"}},\\\"hoverlabel\\\":{\\\"align\\\":\\\"left\\\"},\\\"mapbox\\\":{\\\"style\\\":\\\"light\\\"},\\\"polar\\\":{\\\"angularaxis\\\":{\\\"gridcolor\\\":\\\"white\\\",\\\"ticks\\\":\\\"\\\",\\\"linecolor\\\":\\\"white\\\"},\\\"bgcolor\\\":\\\"#E5ECF6\\\",\\\"radialaxis\\\":{\\\"gridcolor\\\":\\\"white\\\",\\\"ticks\\\":\\\"\\\",\\\"linecolor\\\":\\\"white\\\"}},\\\"autotypenumbers\\\":\\\"strict\\\",\\\"font\\\":{\\\"color\\\":\\\"#2a3f5f\\\"},\\\"ternary\\\":{\\\"baxis\\\":{\\\"gridcolor\\\":\\\"white\\\",\\\"ticks\\\":\\\"\\\",\\\"linecolor\\\":\\\"white\\\"},\\\"bgcolor\\\":\\\"#E5ECF6\\\",\\\"caxis\\\":{\\\"gridcolor\\\":\\\"white\\\",\\\"ticks\\\":\\\"\\\",\\\"linecolor\\\":\\\"white\\\"},\\\"aaxis\\\":{\\\"gridcolor\\\":\\\"white\\\",\\\"ticks\\\":\\\"\\\",\\\"linecolor\\\":\\\"white\\\"}},\\\"annotationdefaults\\\":{\\\"arrowhead\\\":0,\\\"arrowwidth\\\":1,\\\"arrowcolor\\\":\\\"#2a3f5f\\\"},\\\"plot_bgcolor\\\":\\\"#E5ECF6\\\",\\\"title\\\":{\\\"x\\\":0.05},\\\"scene\\\":{\\\"xaxis\\\":{\\\"gridcolor\\\":\\\"white\\\",\\\"gridwidth\\\":2,\\\"backgroundcolor\\\":\\\"#E5ECF6\\\",\\\"ticks\\\":\\\"\\\",\\\"showbackground\\\":true,\\\"zerolinecolor\\\":\\\"white\\\",\\\"linecolor\\\":\\\"white\\\"},\\\"zaxis\\\":{\\\"gridcolor\\\":\\\"white\\\",\\\"gridwidth\\\":2,\\\"backgroundcolor\\\":\\\"#E5ECF6\\\",\\\"ticks\\\":\\\"\\\",\\\"showbackground\\\":true,\\\"zerolinecolor\\\":\\\"white\\\",\\\"linecolor\\\":\\\"white\\\"},\\\"yaxis\\\":{\\\"gridcolor\\\":\\\"white\\\",\\\"gridwidth\\\":2,\\\"backgroundcolor\\\":\\\"#E5ECF6\\\",\\\"ticks\\\":\\\"\\\",\\\"showbackground\\\":true,\\\"zerolinecolor\\\":\\\"white\\\",\\\"linecolor\\\":\\\"white\\\"}},\\\"colorway\\\":[\\\"#636efa\\\",\\\"#EF553B\\\",\\\"#00cc96\\\",\\\"#ab63fa\\\",\\\"#FFA15A\\\",\\\"#19d3f3\\\",\\\"#FF6692\\\",\\\"#B6E880\\\",\\\"#FF97FF\\\",\\\"#FECB52\\\"]},\\\"data\\\":{\\\"barpolar\\\":[{\\\"type\\\":\\\"barpolar\\\",\\\"marker\\\":{\\\"line\\\":{\\\"color\\\":\\\"#E5ECF6\\\",\\\"width\\\":0.5}}}],\\\"carpet\\\":[{\\\"aaxis\\\":{\\\"gridcolor\\\":\\\"white\\\",\\\"endlinecolor\\\":\\\"#2a3f5f\\\",\\\"minorgridcolor\\\":\\\"white\\\",\\\"startlinecolor\\\":\\\"#2a3f5f\\\",\\\"linecolor\\\":\\\"white\\\"},\\\"type\\\":\\\"carpet\\\",\\\"baxis\\\":{\\\"gridcolor\\\":\\\"white\\\",\\\"endlinecolor\\\":\\\"#2a3f5f\\\",\\\"minorgridcolor\\\":\\\"white\\\",\\\"startlinecolor\\\":\\\"#2a3f5f\\\",\\\"linecolor\\\":\\\"white\\\"}}],\\\"scatterpolar\\\":[{\\\"type\\\":\\\"scatterpolar\\\",\\\"marker\\\":{\\\"colorbar\\\":{\\\"ticks\\\":\\\"\\\",\\\"outlinewidth\\\":0}}}],\\\"parcoords\\\":[{\\\"line\\\":{\\\"colorbar\\\":{\\\"ticks\\\":\\\"\\\",\\\"outlinewidth\\\":0}},\\\"type\\\":\\\"parcoords\\\"}],\\\"scatter\\\":[{\\\"type\\\":\\\"scatter\\\",\\\"marker\\\":{\\\"colorbar\\\":{\\\"ticks\\\":\\\"\\\",\\\"outlinewidth\\\":0}}}],\\\"histogram2dcontour\\\":[{\\\"colorbar\\\":{\\\"ticks\\\":\\\"\\\",\\\"outlinewidth\\\":0},\\\"type\\\":\\\"histogram2dcontour\\\",\\\"colorscale\\\":[[0.0,\\\"#0d0887\\\"],[0.1111111111111111,\\\"#46039f\\\"],[0.2222222222222222,\\\"#7201a8\\\"],[0.3333333333333333,\\\"#9c179e\\\"],[0.4444444444444444,\\\"#bd3786\\\"],[0.5555555555555556,\\\"#d8576b\\\"],[0.6666666666666666,\\\"#ed7953\\\"],[0.7777777777777778,\\\"#fb9f3a\\\"],[0.8888888888888888,\\\"#fdca26\\\"],[1.0,\\\"#f0f921\\\"]]}],\\\"contour\\\":[{\\\"colorbar\\\":{\\\"ticks\\\":\\\"\\\",\\\"outlinewidth\\\":0},\\\"type\\\":\\\"contour\\\",\\\"colorscale\\\":[[0.0,\\\"#0d0887\\\"],[0.1111111111111111,\\\"#46039f\\\"],[0.2222222222222222,\\\"#7201a8\\\"],[0.3333333333333333,\\\"#9c179e\\\"],[0.4444444444444444,\\\"#bd3786\\\"],[0.5555555555555556,\\\"#d8576b\\\"],[0.6666666666666666,\\\"#ed7953\\\"],[0.7777777777777778,\\\"#fb9f3a\\\"],[0.8888888888888888,\\\"#fdca26\\\"],[1.0,\\\"#f0f921\\\"]]}],\\\"scattercarpet\\\":[{\\\"type\\\":\\\"scattercarpet\\\",\\\"marker\\\":{\\\"colorbar\\\":{\\\"ticks\\\":\\\"\\\",\\\"outlinewidth\\\":0}}}],\\\"mesh3d\\\":[{\\\"colorbar\\\":{\\\"ticks\\\":\\\"\\\",\\\"outlinewidth\\\":0},\\\"type\\\":\\\"mesh3d\\\"}],\\\"surface\\\":[{\\\"colorbar\\\":{\\\"ticks\\\":\\\"\\\",\\\"outlinewidth\\\":0},\\\"type\\\":\\\"surface\\\",\\\"colorscale\\\":[[0.0,\\\"#0d0887\\\"],[0.1111111111111111,\\\"#46039f\\\"],[0.2222222222222222,\\\"#7201a8\\\"],[0.3333333333333333,\\\"#9c179e\\\"],[0.4444444444444444,\\\"#bd3786\\\"],[0.5555555555555556,\\\"#d8576b\\\"],[0.6666666666666666,\\\"#ed7953\\\"],[0.7777777777777778,\\\"#fb9f3a\\\"],[0.8888888888888888,\\\"#fdca26\\\"],[1.0,\\\"#f0f921\\\"]]}],\\\"scattermapbox\\\":[{\\\"type\\\":\\\"scattermapbox\\\",\\\"marker\\\":{\\\"colorbar\\\":{\\\"ticks\\\":\\\"\\\",\\\"outlinewidth\\\":0}}}],\\\"scattergeo\\\":[{\\\"type\\\":\\\"scattergeo\\\",\\\"marker\\\":{\\\"colorbar\\\":{\\\"ticks\\\":\\\"\\\",\\\"outlinewidth\\\":0}}}],\\\"histogram\\\":[{\\\"type\\\":\\\"histogram\\\",\\\"marker\\\":{\\\"colorbar\\\":{\\\"ticks\\\":\\\"\\\",\\\"outlinewidth\\\":0}}}],\\\"pie\\\":[{\\\"type\\\":\\\"pie\\\",\\\"automargin\\\":true}],\\\"choropleth\\\":[{\\\"colorbar\\\":{\\\"ticks\\\":\\\"\\\",\\\"outlinewidth\\\":0},\\\"type\\\":\\\"choropleth\\\"}],\\\"heatmapgl\\\":[{\\\"colorbar\\\":{\\\"ticks\\\":\\\"\\\",\\\"outlinewidth\\\":0},\\\"type\\\":\\\"heatmapgl\\\",\\\"colorscale\\\":[[0.0,\\\"#0d0887\\\"],[0.1111111111111111,\\\"#46039f\\\"],[0.2222222222222222,\\\"#7201a8\\\"],[0.3333333333333333,\\\"#9c179e\\\"],[0.4444444444444444,\\\"#bd3786\\\"],[0.5555555555555556,\\\"#d8576b\\\"],[0.6666666666666666,\\\"#ed7953\\\"],[0.7777777777777778,\\\"#fb9f3a\\\"],[0.8888888888888888,\\\"#fdca26\\\"],[1.0,\\\"#f0f921\\\"]]}],\\\"bar\\\":[{\\\"type\\\":\\\"bar\\\",\\\"error_y\\\":{\\\"color\\\":\\\"#2a3f5f\\\"},\\\"error_x\\\":{\\\"color\\\":\\\"#2a3f5f\\\"},\\\"marker\\\":{\\\"line\\\":{\\\"color\\\":\\\"#E5ECF6\\\",\\\"width\\\":0.5}}}],\\\"heatmap\\\":[{\\\"colorbar\\\":{\\\"ticks\\\":\\\"\\\",\\\"outlinewidth\\\":0},\\\"type\\\":\\\"heatmap\\\",\\\"colorscale\\\":[[0.0,\\\"#0d0887\\\"],[0.1111111111111111,\\\"#46039f\\\"],[0.2222222222222222,\\\"#7201a8\\\"],[0.3333333333333333,\\\"#9c179e\\\"],[0.4444444444444444,\\\"#bd3786\\\"],[0.5555555555555556,\\\"#d8576b\\\"],[0.6666666666666666,\\\"#ed7953\\\"],[0.7777777777777778,\\\"#fb9f3a\\\"],[0.8888888888888888,\\\"#fdca26\\\"],[1.0,\\\"#f0f921\\\"]]}],\\\"contourcarpet\\\":[{\\\"colorbar\\\":{\\\"ticks\\\":\\\"\\\",\\\"outlinewidth\\\":0},\\\"type\\\":\\\"contourcarpet\\\"}],\\\"table\\\":[{\\\"type\\\":\\\"table\\\",\\\"header\\\":{\\\"line\\\":{\\\"color\\\":\\\"white\\\"},\\\"fill\\\":{\\\"color\\\":\\\"#C8D4E3\\\"}},\\\"cells\\\":{\\\"line\\\":{\\\"color\\\":\\\"white\\\"},\\\"fill\\\":{\\\"color\\\":\\\"#EBF0F8\\\"}}}],\\\"scatter3d\\\":[{\\\"line\\\":{\\\"colorbar\\\":{\\\"ticks\\\":\\\"\\\",\\\"outlinewidth\\\":0}},\\\"type\\\":\\\"scatter3d\\\",\\\"marker\\\":{\\\"colorbar\\\":{\\\"ticks\\\":\\\"\\\",\\\"outlinewidth\\\":0}}}],\\\"scattergl\\\":[{\\\"type\\\":\\\"scattergl\\\",\\\"marker\\\":{\\\"colorbar\\\":{\\\"ticks\\\":\\\"\\\",\\\"outlinewidth\\\":0}}}],\\\"histogram2d\\\":[{\\\"colorbar\\\":{\\\"ticks\\\":\\\"\\\",\\\"outlinewidth\\\":0},\\\"type\\\":\\\"histogram2d\\\",\\\"colorscale\\\":[[0.0,\\\"#0d0887\\\"],[0.1111111111111111,\\\"#46039f\\\"],[0.2222222222222222,\\\"#7201a8\\\"],[0.3333333333333333,\\\"#9c179e\\\"],[0.4444444444444444,\\\"#bd3786\\\"],[0.5555555555555556,\\\"#d8576b\\\"],[0.6666666666666666,\\\"#ed7953\\\"],[0.7777777777777778,\\\"#fb9f3a\\\"],[0.8888888888888888,\\\"#fdca26\\\"],[1.0,\\\"#f0f921\\\"]]}],\\\"scatterternary\\\":[{\\\"type\\\":\\\"scatterternary\\\",\\\"marker\\\":{\\\"colorbar\\\":{\\\"ticks\\\":\\\"\\\",\\\"outlinewidth\\\":0}}}],\\\"scatterpolargl\\\":[{\\\"type\\\":\\\"scatterpolargl\\\",\\\"marker\\\":{\\\"colorbar\\\":{\\\"ticks\\\":\\\"\\\",\\\"outlinewidth\\\":0}}}]}},\\\"margin\\\":{\\\"l\\\":50,\\\"b\\\":50,\\\"r\\\":50,\\\"t\\\":60}},{\\\"showLink\\\":false,\\\"editable\\\":false,\\\"responsive\\\":true,\\\"staticPlot\\\":false,\\\"scrollZoom\\\":true}); gd.on(\\\"plotly_hover\\\",(function (data){var filtered_data=WebIO.PlotlyCommands.filterEventData(gd,data,\\\"hover\\\"); return !(filtered_data.isnil) ? (WebIO.setval({\\\"name\\\":\\\"hover\\\",\\\"scope\\\":\\\"17617687389673084354\\\",\\\"id\\\":\\\"16901607657045287528\\\",\\\"type\\\":\\\"observable\\\"},filtered_data.out)) : undefined})); gd.on(\\\"plotly_unhover\\\",(function (){return WebIO.setval({\\\"name\\\":\\\"hover\\\",\\\"scope\\\":\\\"17617687389673084354\\\",\\\"id\\\":\\\"16901607657045287528\\\",\\\"type\\\":\\\"observable\\\"},{})})); gd.on(\\\"plotly_selected\\\",(function (data){var filtered_data=WebIO.PlotlyCommands.filterEventData(gd,data,\\\"selected\\\"); return !(filtered_data.isnil) ? (WebIO.setval({\\\"name\\\":\\\"selected\\\",\\\"scope\\\":\\\"17617687389673084354\\\",\\\"id\\\":\\\"2276468256804378031\\\",\\\"type\\\":\\\"observable\\\"},filtered_data.out)) : undefined})); gd.on(\\\"plotly_deselect\\\",(function (){return WebIO.setval({\\\"name\\\":\\\"selected\\\",\\\"scope\\\":\\\"17617687389673084354\\\",\\\"id\\\":\\\"2276468256804378031\\\",\\\"type\\\":\\\"observable\\\"},{})})); gd.on(\\\"plotly_relayout\\\",(function (data){var filtered_data=WebIO.PlotlyCommands.filterEventData(gd,data,\\\"relayout\\\"); return !(filtered_data.isnil) ? (WebIO.setval({\\\"name\\\":\\\"relayout\\\",\\\"scope\\\":\\\"17617687389673084354\\\",\\\"id\\\":\\\"16636610178360935057\\\",\\\"type\\\":\\\"observable\\\"},filtered_data.out)) : undefined})); return gd.on(\\\"plotly_click\\\",(function (data){var filtered_data=WebIO.PlotlyCommands.filterEventData(gd,data,\\\"click\\\"); return !(filtered_data.isnil) ? (WebIO.setval({\\\"name\\\":\\\"click\\\",\\\"scope\\\":\\\"17617687389673084354\\\",\\\"id\\\":\\\"17669684490819499191\\\",\\\"type\\\":\\\"observable\\\"},filtered_data.out)) : undefined}))}));\\n    (WebIO.importBlock({\\\"data\\\":[{\\\"name\\\":\\\"Plotly\\\",\\\"type\\\":\\\"js\\\",\\\"url\\\":\\\"\\/assetserver\\/0920e676c106f32ba509e3957ec7f2e1975e6dda-plotly.min.js\\\"},{\\\"name\\\":null,\\\"type\\\":\\\"js\\\",\\\"url\\\":\\\"\\/assetserver\\/a5a7489247caefe55cf69adf7b5b90ef582ba49e-plotly_webio.bundle.js\\\"}],\\\"type\\\":\\\"async_block\\\"})).then((imports) => handler.apply(this, imports));\\n}\\n\"],\"observables\":{\"_toImage\":{\"sync\":false,\"id\":\"10144840274349331588\",\"value\":{}},\"hover\":{\"sync\":false,\"id\":\"16901607657045287528\",\"value\":{}},\"selected\":{\"sync\":false,\"id\":\"2276468256804378031\",\"value\":{}},\"__gd_contents\":{\"sync\":false,\"id\":\"8753443716461274012\",\"value\":{}},\"click\":{\"sync\":false,\"id\":\"17669684490819499191\",\"value\":{}},\"image\":{\"sync\":true,\"id\":\"1936182002840841296\",\"value\":\"\"},\"__get_gd_contents\":{\"sync\":false,\"id\":\"13820104698179188846\",\"value\":\"\"},\"_downloadImage\":{\"sync\":false,\"id\":\"14808231140629575289\",\"value\":{}},\"relayout\":{\"sync\":false,\"id\":\"16636610178360935057\",\"value\":{}},\"_commands\":{\"sync\":false,\"id\":\"3197094048306586678\",\"value\":[]}}},\"children\":[{\"props\":{\"id\":\"plot-713786a9-b85a-46e7-9863-ec54c4a4e67d\"},\"nodeType\":\"DOM\",\"type\":\"node\",\"instanceArgs\":{\"namespace\":\"html\",\"tag\":\"div\"},\"children\":[]}]},\n",
       "        window,\n",
       "    );\n",
       "    })()\n",
       "    </script>\n",
       "</div>\n"
      ],
      "text/plain": [
       "data: [\n",
       "  \"sankey with fields link, node, and type\"\n",
       "]\n",
       "\n",
       "layout: \"layout with fields margin and template\"\n",
       "\n"
      ]
     },
     "execution_count": 7,
     "metadata": {},
     "output_type": "execute_result"
    }
   ],
   "source": [
    "# Cooling tower\n",
    "ct_in = [Resource(\"power\",14.3,\"kW\",[1])]\n",
    "ct_heat = [Heat(1000,298,318)]\n",
    "ct = Tech(\"CT\",ct_in,[],ct_heat)\n",
    "vivi_sankey(ct,valueIndex=1)"
   ]
  },
  {
   "cell_type": "markdown",
   "id": "7ed4c566-60a9-436e-a5ab-0535b9741f90",
   "metadata": {},
   "source": [
    "## Problem statement"
   ]
  },
  {
   "cell_type": "markdown",
   "id": "02f7752c",
   "metadata": {},
   "source": [
    "The input boundaries:\n",
    "* Unlimited availability of **power**\n",
    "* Unlimited availability of **water**"
   ]
  },
  {
   "cell_type": "code",
   "execution_count": 8,
   "id": "5998d5c0",
   "metadata": {},
   "outputs": [
    {
     "data": {
      "text/plain": [
       "2-element Vector{Resource}:\n",
       " Resource(\"power\", Real[Inf], \"kW\", Vector{Real}[[1]], Vector{Real}[])\n",
       " Resource(\"water\", Real[Inf], \"kg/h\", Vector{Real}[[0]], Vector{Real}[])"
      ]
     },
     "execution_count": 8,
     "metadata": {},
     "output_type": "execute_result"
    }
   ],
   "source": [
    "power = Resource(\"power\",Inf,\"kW\",[1])\n",
    "water = Resource(\"water\",Inf,\"kg/h\",[0])\n",
    "\n",
    "inputs = [power,water]"
   ]
  },
  {
   "cell_type": "markdown",
   "id": "a1e108d1",
   "metadata": {},
   "source": [
    "The output boundaries:\n",
    "* Production of 1000 kg/h of **hydrogen**\n",
    "* Unlimited sink of **oxygen**"
   ]
  },
  {
   "cell_type": "code",
   "execution_count": 9,
   "id": "060bf524",
   "metadata": {},
   "outputs": [
    {
     "data": {
      "text/plain": [
       "2-element Vector{Resource}:\n",
       " Resource(\"h2\", Real[1000], \"kg/h\", Vector{Real}[[39.388888888888886]], Vector{Real}[])\n",
       " Resource(\"o2\", Real[Inf], \"kg/h\", Vector{Real}[[0]], Vector{Real}[])"
      ]
     },
     "execution_count": 9,
     "metadata": {},
     "output_type": "execute_result"
    }
   ],
   "source": [
    "# Creating a variable power resource\n",
    "h2 = Resource(\"h2\",1000,\"kg/h\",[hhv_h2])\n",
    "o2 = Resource(\"o2\",Inf,\"kg/h\",[0])\n",
    "\n",
    "# OBS: note that we have to include a conversion factor to make inputs and outputs in the same basis, in this case energy (kW)\n",
    "outputs = [h2,o2]"
   ]
  },
  {
   "cell_type": "markdown",
   "id": "72d7b23e",
   "metadata": {},
   "source": [
    "Joining inputs, outputs and processes:"
   ]
  },
  {
   "cell_type": "code",
   "execution_count": 10,
   "id": "5c9ab804",
   "metadata": {},
   "outputs": [
    {
     "data": {
      "application/vnd.plotly.v1+json": {
       "config": {
        "editable": false,
        "responsive": true,
        "scrollZoom": true,
        "showLink": false,
        "staticPlot": false
       },
       "data": [
        {
         "line": {
          "color": "#888",
          "width": 0.5
         },
         "mode": "lines",
         "type": "scatter",
         "x": [
          -0.2924335495655658,
          -1,
          null,
          -0.2924335495655658,
          0.17804132909580983,
          null,
          -0.2924335495655658,
          -0.8390687575714504,
          null,
          0.6082778842869285,
          0.2168640904876198,
          null,
          0.17804132909580983,
          0.6082778842869285,
          null,
          0.38058121224621533,
          -0.2924335495655658,
          null,
          0.38058121224621533,
          0.6082778842869285,
          null,
          0.38058121224621533,
          0.32897340334422553,
          null,
          0.38058121224621533,
          1,
          null,
          0.2168640904876198,
          -0.2924335495655658,
          null
         ],
         "y": [
          -0.4553930946803415,
          -0.2207464781963544,
          null,
          -0.4553930946803415,
          -0.560521033590883,
          null,
          -0.4553930946803415,
          -0.9950639828400405,
          null,
          -0.4627659149671197,
          -1,
          null,
          -0.560521033590883,
          -0.4627659149671197,
          null,
          0.22773417803771578,
          -0.4553930946803415,
          null,
          0.22773417803771578,
          -0.4627659149671197,
          null,
          0.22773417803771578,
          1,
          null,
          0.22773417803771578,
          0.6425358201399454,
          null,
          -1,
          -0.4553930946803415,
          null
         ]
        },
        {
         "marker": {
          "color": "red",
          "size": 10,
          "symbol": "square"
         },
         "mode": "markers+text",
         "name": "Process",
         "text": [
          "soec",
          "boiler",
          "EH",
          "CT"
         ],
         "type": "scatter",
         "x": [
          -0.2924335495655658,
          0.6082778842869285,
          0.32897340334422553,
          1
         ],
         "y": [
          -0.4553930946803415,
          -0.4627659149671197,
          1,
          0.6425358201399454
         ]
        },
        {
         "marker": {
          "color": "yellow",
          "size": 10,
          "symbol": "diamond"
         },
         "mode": "markers+text",
         "name": "Storage",
         "text": [],
         "type": "scatter",
         "x": [],
         "y": []
        },
        {
         "marker": {
          "color": "#90EE90",
          "size": 10,
          "symbol": "circle"
         },
         "mode": "markers+text",
         "name": "Resource",
         "text": [
          "o2",
          "water",
          "h2",
          "power",
          "steam"
         ],
         "type": "scatter",
         "x": [
          -1,
          0.17804132909580983,
          -0.8390687575714504,
          0.38058121224621533,
          0.2168640904876198
         ],
         "y": [
          -0.2207464781963544,
          -0.560521033590883,
          -0.9950639828400405,
          0.22773417803771578,
          -1
         ]
        }
       ],
       "frames": [],
       "layout": {
        "hovermode": "closest",
        "margin": {
         "b": 50,
         "l": 50,
         "r": 50,
         "t": 60
        },
        "showarrow": false,
        "showlegend": false,
        "template": {
         "data": {
          "bar": [
           {
            "error_x": {
             "color": "#2a3f5f"
            },
            "error_y": {
             "color": "#2a3f5f"
            },
            "marker": {
             "line": {
              "color": "#E5ECF6",
              "width": 0.5
             }
            },
            "type": "bar"
           }
          ],
          "barpolar": [
           {
            "marker": {
             "line": {
              "color": "#E5ECF6",
              "width": 0.5
             }
            },
            "type": "barpolar"
           }
          ],
          "carpet": [
           {
            "aaxis": {
             "endlinecolor": "#2a3f5f",
             "gridcolor": "white",
             "linecolor": "white",
             "minorgridcolor": "white",
             "startlinecolor": "#2a3f5f"
            },
            "baxis": {
             "endlinecolor": "#2a3f5f",
             "gridcolor": "white",
             "linecolor": "white",
             "minorgridcolor": "white",
             "startlinecolor": "#2a3f5f"
            },
            "type": "carpet"
           }
          ],
          "choropleth": [
           {
            "colorbar": {
             "outlinewidth": 0,
             "ticks": ""
            },
            "type": "choropleth"
           }
          ],
          "contour": [
           {
            "colorbar": {
             "outlinewidth": 0,
             "ticks": ""
            },
            "colorscale": [
             [
              0,
              "#0d0887"
             ],
             [
              0.1111111111111111,
              "#46039f"
             ],
             [
              0.2222222222222222,
              "#7201a8"
             ],
             [
              0.3333333333333333,
              "#9c179e"
             ],
             [
              0.4444444444444444,
              "#bd3786"
             ],
             [
              0.5555555555555556,
              "#d8576b"
             ],
             [
              0.6666666666666666,
              "#ed7953"
             ],
             [
              0.7777777777777778,
              "#fb9f3a"
             ],
             [
              0.8888888888888888,
              "#fdca26"
             ],
             [
              1,
              "#f0f921"
             ]
            ],
            "type": "contour"
           }
          ],
          "contourcarpet": [
           {
            "colorbar": {
             "outlinewidth": 0,
             "ticks": ""
            },
            "type": "contourcarpet"
           }
          ],
          "heatmap": [
           {
            "colorbar": {
             "outlinewidth": 0,
             "ticks": ""
            },
            "colorscale": [
             [
              0,
              "#0d0887"
             ],
             [
              0.1111111111111111,
              "#46039f"
             ],
             [
              0.2222222222222222,
              "#7201a8"
             ],
             [
              0.3333333333333333,
              "#9c179e"
             ],
             [
              0.4444444444444444,
              "#bd3786"
             ],
             [
              0.5555555555555556,
              "#d8576b"
             ],
             [
              0.6666666666666666,
              "#ed7953"
             ],
             [
              0.7777777777777778,
              "#fb9f3a"
             ],
             [
              0.8888888888888888,
              "#fdca26"
             ],
             [
              1,
              "#f0f921"
             ]
            ],
            "type": "heatmap"
           }
          ],
          "heatmapgl": [
           {
            "colorbar": {
             "outlinewidth": 0,
             "ticks": ""
            },
            "colorscale": [
             [
              0,
              "#0d0887"
             ],
             [
              0.1111111111111111,
              "#46039f"
             ],
             [
              0.2222222222222222,
              "#7201a8"
             ],
             [
              0.3333333333333333,
              "#9c179e"
             ],
             [
              0.4444444444444444,
              "#bd3786"
             ],
             [
              0.5555555555555556,
              "#d8576b"
             ],
             [
              0.6666666666666666,
              "#ed7953"
             ],
             [
              0.7777777777777778,
              "#fb9f3a"
             ],
             [
              0.8888888888888888,
              "#fdca26"
             ],
             [
              1,
              "#f0f921"
             ]
            ],
            "type": "heatmapgl"
           }
          ],
          "histogram": [
           {
            "marker": {
             "colorbar": {
              "outlinewidth": 0,
              "ticks": ""
             }
            },
            "type": "histogram"
           }
          ],
          "histogram2d": [
           {
            "colorbar": {
             "outlinewidth": 0,
             "ticks": ""
            },
            "colorscale": [
             [
              0,
              "#0d0887"
             ],
             [
              0.1111111111111111,
              "#46039f"
             ],
             [
              0.2222222222222222,
              "#7201a8"
             ],
             [
              0.3333333333333333,
              "#9c179e"
             ],
             [
              0.4444444444444444,
              "#bd3786"
             ],
             [
              0.5555555555555556,
              "#d8576b"
             ],
             [
              0.6666666666666666,
              "#ed7953"
             ],
             [
              0.7777777777777778,
              "#fb9f3a"
             ],
             [
              0.8888888888888888,
              "#fdca26"
             ],
             [
              1,
              "#f0f921"
             ]
            ],
            "type": "histogram2d"
           }
          ],
          "histogram2dcontour": [
           {
            "colorbar": {
             "outlinewidth": 0,
             "ticks": ""
            },
            "colorscale": [
             [
              0,
              "#0d0887"
             ],
             [
              0.1111111111111111,
              "#46039f"
             ],
             [
              0.2222222222222222,
              "#7201a8"
             ],
             [
              0.3333333333333333,
              "#9c179e"
             ],
             [
              0.4444444444444444,
              "#bd3786"
             ],
             [
              0.5555555555555556,
              "#d8576b"
             ],
             [
              0.6666666666666666,
              "#ed7953"
             ],
             [
              0.7777777777777778,
              "#fb9f3a"
             ],
             [
              0.8888888888888888,
              "#fdca26"
             ],
             [
              1,
              "#f0f921"
             ]
            ],
            "type": "histogram2dcontour"
           }
          ],
          "mesh3d": [
           {
            "colorbar": {
             "outlinewidth": 0,
             "ticks": ""
            },
            "type": "mesh3d"
           }
          ],
          "parcoords": [
           {
            "line": {
             "colorbar": {
              "outlinewidth": 0,
              "ticks": ""
             }
            },
            "type": "parcoords"
           }
          ],
          "pie": [
           {
            "automargin": true,
            "type": "pie"
           }
          ],
          "scatter": [
           {
            "marker": {
             "colorbar": {
              "outlinewidth": 0,
              "ticks": ""
             }
            },
            "type": "scatter"
           }
          ],
          "scatter3d": [
           {
            "line": {
             "colorbar": {
              "outlinewidth": 0,
              "ticks": ""
             }
            },
            "marker": {
             "colorbar": {
              "outlinewidth": 0,
              "ticks": ""
             }
            },
            "type": "scatter3d"
           }
          ],
          "scattercarpet": [
           {
            "marker": {
             "colorbar": {
              "outlinewidth": 0,
              "ticks": ""
             }
            },
            "type": "scattercarpet"
           }
          ],
          "scattergeo": [
           {
            "marker": {
             "colorbar": {
              "outlinewidth": 0,
              "ticks": ""
             }
            },
            "type": "scattergeo"
           }
          ],
          "scattergl": [
           {
            "marker": {
             "colorbar": {
              "outlinewidth": 0,
              "ticks": ""
             }
            },
            "type": "scattergl"
           }
          ],
          "scattermapbox": [
           {
            "marker": {
             "colorbar": {
              "outlinewidth": 0,
              "ticks": ""
             }
            },
            "type": "scattermapbox"
           }
          ],
          "scatterpolar": [
           {
            "marker": {
             "colorbar": {
              "outlinewidth": 0,
              "ticks": ""
             }
            },
            "type": "scatterpolar"
           }
          ],
          "scatterpolargl": [
           {
            "marker": {
             "colorbar": {
              "outlinewidth": 0,
              "ticks": ""
             }
            },
            "type": "scatterpolargl"
           }
          ],
          "scatterternary": [
           {
            "marker": {
             "colorbar": {
              "outlinewidth": 0,
              "ticks": ""
             }
            },
            "type": "scatterternary"
           }
          ],
          "surface": [
           {
            "colorbar": {
             "outlinewidth": 0,
             "ticks": ""
            },
            "colorscale": [
             [
              0,
              "#0d0887"
             ],
             [
              0.1111111111111111,
              "#46039f"
             ],
             [
              0.2222222222222222,
              "#7201a8"
             ],
             [
              0.3333333333333333,
              "#9c179e"
             ],
             [
              0.4444444444444444,
              "#bd3786"
             ],
             [
              0.5555555555555556,
              "#d8576b"
             ],
             [
              0.6666666666666666,
              "#ed7953"
             ],
             [
              0.7777777777777778,
              "#fb9f3a"
             ],
             [
              0.8888888888888888,
              "#fdca26"
             ],
             [
              1,
              "#f0f921"
             ]
            ],
            "type": "surface"
           }
          ],
          "table": [
           {
            "cells": {
             "fill": {
              "color": "#EBF0F8"
             },
             "line": {
              "color": "white"
             }
            },
            "header": {
             "fill": {
              "color": "#C8D4E3"
             },
             "line": {
              "color": "white"
             }
            },
            "type": "table"
           }
          ]
         },
         "layout": {
          "annotationdefaults": {
           "arrowcolor": "#2a3f5f",
           "arrowhead": 0,
           "arrowwidth": 1
          },
          "autotypenumbers": "strict",
          "coloraxis": {
           "colorbar": {
            "outlinewidth": 0,
            "ticks": ""
           }
          },
          "colorscale": {
           "diverging": [
            [
             0,
             "#8e0152"
            ],
            [
             0.1,
             "#c51b7d"
            ],
            [
             0.2,
             "#de77ae"
            ],
            [
             0.3,
             "#f1b6da"
            ],
            [
             0.4,
             "#fde0ef"
            ],
            [
             0.5,
             "#f7f7f7"
            ],
            [
             0.6,
             "#e6f5d0"
            ],
            [
             0.7,
             "#b8e186"
            ],
            [
             0.8,
             "#7fbc41"
            ],
            [
             0.9,
             "#4d9221"
            ],
            [
             1,
             "#276419"
            ]
           ],
           "sequential": [
            [
             0,
             "#0d0887"
            ],
            [
             0.1111111111111111,
             "#46039f"
            ],
            [
             0.2222222222222222,
             "#7201a8"
            ],
            [
             0.3333333333333333,
             "#9c179e"
            ],
            [
             0.4444444444444444,
             "#bd3786"
            ],
            [
             0.5555555555555556,
             "#d8576b"
            ],
            [
             0.6666666666666666,
             "#ed7953"
            ],
            [
             0.7777777777777778,
             "#fb9f3a"
            ],
            [
             0.8888888888888888,
             "#fdca26"
            ],
            [
             1,
             "#f0f921"
            ]
           ],
           "sequentialminus": [
            [
             0,
             "#0d0887"
            ],
            [
             0.1111111111111111,
             "#46039f"
            ],
            [
             0.2222222222222222,
             "#7201a8"
            ],
            [
             0.3333333333333333,
             "#9c179e"
            ],
            [
             0.4444444444444444,
             "#bd3786"
            ],
            [
             0.5555555555555556,
             "#d8576b"
            ],
            [
             0.6666666666666666,
             "#ed7953"
            ],
            [
             0.7777777777777778,
             "#fb9f3a"
            ],
            [
             0.8888888888888888,
             "#fdca26"
            ],
            [
             1,
             "#f0f921"
            ]
           ]
          },
          "colorway": [
           "#636efa",
           "#EF553B",
           "#00cc96",
           "#ab63fa",
           "#FFA15A",
           "#19d3f3",
           "#FF6692",
           "#B6E880",
           "#FF97FF",
           "#FECB52"
          ],
          "font": {
           "color": "#2a3f5f"
          },
          "geo": {
           "bgcolor": "white",
           "lakecolor": "white",
           "landcolor": "#E5ECF6",
           "showlakes": true,
           "showland": true,
           "subunitcolor": "white"
          },
          "hoverlabel": {
           "align": "left"
          },
          "hovermode": "closest",
          "mapbox": {
           "style": "light"
          },
          "paper_bgcolor": "white",
          "plot_bgcolor": "#E5ECF6",
          "polar": {
           "angularaxis": {
            "gridcolor": "white",
            "linecolor": "white",
            "ticks": ""
           },
           "bgcolor": "#E5ECF6",
           "radialaxis": {
            "gridcolor": "white",
            "linecolor": "white",
            "ticks": ""
           }
          },
          "scene": {
           "xaxis": {
            "backgroundcolor": "#E5ECF6",
            "gridcolor": "white",
            "gridwidth": 2,
            "linecolor": "white",
            "showbackground": true,
            "ticks": "",
            "zerolinecolor": "white"
           },
           "yaxis": {
            "backgroundcolor": "#E5ECF6",
            "gridcolor": "white",
            "gridwidth": 2,
            "linecolor": "white",
            "showbackground": true,
            "ticks": "",
            "zerolinecolor": "white"
           },
           "zaxis": {
            "backgroundcolor": "#E5ECF6",
            "gridcolor": "white",
            "gridwidth": 2,
            "linecolor": "white",
            "showbackground": true,
            "ticks": "",
            "zerolinecolor": "white"
           }
          },
          "shapedefaults": {
           "line": {
            "color": "#2a3f5f"
           }
          },
          "ternary": {
           "aaxis": {
            "gridcolor": "white",
            "linecolor": "white",
            "ticks": ""
           },
           "baxis": {
            "gridcolor": "white",
            "linecolor": "white",
            "ticks": ""
           },
           "bgcolor": "#E5ECF6",
           "caxis": {
            "gridcolor": "white",
            "linecolor": "white",
            "ticks": ""
           }
          },
          "title": {
           "x": 0.05
          },
          "xaxis": {
           "automargin": true,
           "gridcolor": "white",
           "linecolor": "white",
           "ticks": "",
           "title": {
            "standoff": 15
           },
           "zerolinecolor": "white",
           "zerolinewidth": 2
          },
          "yaxis": {
           "automargin": true,
           "gridcolor": "white",
           "linecolor": "white",
           "ticks": "",
           "title": {
            "standoff": 15
           },
           "zerolinecolor": "white",
           "zerolinewidth": 2
          }
         }
        },
        "titlefont": {
         "size": 16
        },
        "xaxis": {
         "showgrid": false,
         "showticklabels": false,
         "zeroline": false
        },
        "yaxis": {
         "showgrid": false,
         "showticklabels": false,
         "zeroline": false
        }
       }
      },
      "text/html": [
       "<div\n",
       "    class=\"webio-mountpoint\"\n",
       "    data-webio-mountpoint=\"5889545471640708435\"\n",
       ">\n",
       "    <script>\n",
       "    (function(){\n",
       "    // Some integrations (namely, IJulia/Jupyter) use an alternate render pathway than\n",
       "    // just putting the html on the page. If WebIO isn't defined, then it's pretty likely\n",
       "    // that we're in one of those situations and the integration just isn't installed\n",
       "    // correctly.\n",
       "    if (typeof window.WebIO === \"undefined\") {\n",
       "        document\n",
       "            .querySelector('[data-webio-mountpoint=\"5889545471640708435\"]')\n",
       "            .innerHTML = (\n",
       "                '<div style=\"padding: 1em; background-color: #f8d6da; border: 1px solid #f5c6cb; font-weight: bold;\">' +\n",
       "                '<p><strong>WebIO not detected.</strong></p>' +\n",
       "                '<p>Please read ' +\n",
       "                '<a href=\"https://juliagizmos.github.io/WebIO.jl/latest/troubleshooting/not-detected/\" target=\"_blank\">the troubleshooting guide</a> ' +\n",
       "                'for more information on how to resolve this issue.</p>' +\n",
       "                '<p><a href=\"https://juliagizmos.github.io/WebIO.jl/latest/troubleshooting/not-detected/\" target=\"_blank\">https://juliagizmos.github.io/WebIO.jl/latest/troubleshooting/not-detected/</a></p>' +\n",
       "                '</div>'\n",
       "            );\n",
       "        return;\n",
       "    }\n",
       "    WebIO.mount(\n",
       "        document.querySelector('[data-webio-mountpoint=\"5889545471640708435\"]'),\n",
       "        {\"props\":{},\"nodeType\":\"Scope\",\"type\":\"node\",\"instanceArgs\":{\"imports\":{\"data\":[{\"name\":\"Plotly\",\"type\":\"js\",\"url\":\"\\/assetserver\\/0920e676c106f32ba509e3957ec7f2e1975e6dda-plotly.min.js\"},{\"name\":null,\"type\":\"js\",\"url\":\"\\/assetserver\\/a5a7489247caefe55cf69adf7b5b90ef582ba49e-plotly_webio.bundle.js\"}],\"type\":\"async_block\"},\"id\":\"15507724459750179909\",\"handlers\":{\"_toImage\":[\"(function (options){return this.Plotly.toImage(this.plotElem,options).then((function (data){return WebIO.setval({\\\"name\\\":\\\"image\\\",\\\"scope\\\":\\\"15507724459750179909\\\",\\\"id\\\":\\\"10978725919670809324\\\",\\\"type\\\":\\\"observable\\\"},data)}))})\"],\"__get_gd_contents\":[\"(function (prop){prop==\\\"data\\\" ? (WebIO.setval({\\\"name\\\":\\\"__gd_contents\\\",\\\"scope\\\":\\\"15507724459750179909\\\",\\\"id\\\":\\\"2842370701762357165\\\",\\\"type\\\":\\\"observable\\\"},this.plotElem.data)) : undefined; return prop==\\\"layout\\\" ? (WebIO.setval({\\\"name\\\":\\\"__gd_contents\\\",\\\"scope\\\":\\\"15507724459750179909\\\",\\\"id\\\":\\\"2842370701762357165\\\",\\\"type\\\":\\\"observable\\\"},this.plotElem.layout)) : undefined})\"],\"_downloadImage\":[\"(function (options){return this.Plotly.downloadImage(this.plotElem,options)})\"],\"_commands\":[\"(function (args){var fn=args.shift(); var elem=this.plotElem; var Plotly=this.Plotly; args.unshift(elem); return Plotly[fn].apply(this,args)})\"]},\"systemjs_options\":null,\"mount_callbacks\":[\"function () {\\n    var handler = ((function (Plotly,PlotlyWebIO){PlotlyWebIO.init(WebIO); var gd=this.dom.querySelector(\\\"#plot-8de21b99-ce40-49c9-adea-0b7e4f34cd59\\\"); this.plotElem=gd; this.Plotly=Plotly; (window.Blink!==undefined) ? (gd.style.width=\\\"100%\\\", gd.style.height=\\\"100vh\\\", gd.style.marginLeft=\\\"0%\\\", gd.style.marginTop=\\\"0vh\\\") : undefined; window.onresize=(function (){return Plotly.Plots.resize(gd)}); Plotly.newPlot(gd,[{\\\"mode\\\":\\\"lines\\\",\\\"line\\\":{\\\"color\\\":\\\"#888\\\",\\\"width\\\":0.5},\\\"y\\\":[-0.4553930946803415,-0.2207464781963544,null,-0.4553930946803415,-0.560521033590883,null,-0.4553930946803415,-0.9950639828400405,null,-0.4627659149671197,-1.0,null,-0.560521033590883,-0.4627659149671197,null,0.22773417803771578,-0.4553930946803415,null,0.22773417803771578,-0.4627659149671197,null,0.22773417803771578,1.0,null,0.22773417803771578,0.6425358201399454,null,-1.0,-0.4553930946803415,null],\\\"type\\\":\\\"scatter\\\",\\\"x\\\":[-0.2924335495655658,-1.0,null,-0.2924335495655658,0.17804132909580983,null,-0.2924335495655658,-0.8390687575714504,null,0.6082778842869285,0.2168640904876198,null,0.17804132909580983,0.6082778842869285,null,0.38058121224621533,-0.2924335495655658,null,0.38058121224621533,0.6082778842869285,null,0.38058121224621533,0.32897340334422553,null,0.38058121224621533,1.0,null,0.2168640904876198,-0.2924335495655658,null]},{\\\"x\\\":[-0.2924335495655658,0.6082778842869285,0.32897340334422553,1.0],\\\"mode\\\":\\\"markers+text\\\",\\\"y\\\":[-0.4553930946803415,-0.4627659149671197,1.0,0.6425358201399454],\\\"type\\\":\\\"scatter\\\",\\\"name\\\":\\\"Process\\\",\\\"text\\\":[\\\"soec\\\",\\\"boiler\\\",\\\"EH\\\",\\\"CT\\\"],\\\"marker\\\":{\\\"symbol\\\":\\\"square\\\",\\\"color\\\":\\\"red\\\",\\\"size\\\":10}},{\\\"x\\\":[],\\\"mode\\\":\\\"markers+text\\\",\\\"y\\\":[],\\\"type\\\":\\\"scatter\\\",\\\"name\\\":\\\"Storage\\\",\\\"text\\\":[],\\\"marker\\\":{\\\"symbol\\\":\\\"diamond\\\",\\\"color\\\":\\\"yellow\\\",\\\"size\\\":10}},{\\\"x\\\":[-1.0,0.17804132909580983,-0.8390687575714504,0.38058121224621533,0.2168640904876198],\\\"mode\\\":\\\"markers+text\\\",\\\"y\\\":[-0.2207464781963544,-0.560521033590883,-0.9950639828400405,0.22773417803771578,-1.0],\\\"type\\\":\\\"scatter\\\",\\\"name\\\":\\\"Resource\\\",\\\"text\\\":[\\\"o2\\\",\\\"water\\\",\\\"h2\\\",\\\"power\\\",\\\"steam\\\"],\\\"marker\\\":{\\\"symbol\\\":\\\"circle\\\",\\\"color\\\":\\\"#90EE90\\\",\\\"size\\\":10}}],{\\\"showlegend\\\":false,\\\"xaxis\\\":{\\\"showgrid\\\":false,\\\"showticklabels\\\":false,\\\"zeroline\\\":false},\\\"hovermode\\\":\\\"closest\\\",\\\"titlefont\\\":{\\\"size\\\":16},\\\"template\\\":{\\\"layout\\\":{\\\"coloraxis\\\":{\\\"colorbar\\\":{\\\"ticks\\\":\\\"\\\",\\\"outlinewidth\\\":0}},\\\"xaxis\\\":{\\\"gridcolor\\\":\\\"white\\\",\\\"zerolinewidth\\\":2,\\\"title\\\":{\\\"standoff\\\":15},\\\"ticks\\\":\\\"\\\",\\\"zerolinecolor\\\":\\\"white\\\",\\\"automargin\\\":true,\\\"linecolor\\\":\\\"white\\\"},\\\"hovermode\\\":\\\"closest\\\",\\\"paper_bgcolor\\\":\\\"white\\\",\\\"geo\\\":{\\\"showlakes\\\":true,\\\"showland\\\":true,\\\"landcolor\\\":\\\"#E5ECF6\\\",\\\"bgcolor\\\":\\\"white\\\",\\\"subunitcolor\\\":\\\"white\\\",\\\"lakecolor\\\":\\\"white\\\"},\\\"colorscale\\\":{\\\"sequential\\\":[[0.0,\\\"#0d0887\\\"],[0.1111111111111111,\\\"#46039f\\\"],[0.2222222222222222,\\\"#7201a8\\\"],[0.3333333333333333,\\\"#9c179e\\\"],[0.4444444444444444,\\\"#bd3786\\\"],[0.5555555555555556,\\\"#d8576b\\\"],[0.6666666666666666,\\\"#ed7953\\\"],[0.7777777777777778,\\\"#fb9f3a\\\"],[0.8888888888888888,\\\"#fdca26\\\"],[1.0,\\\"#f0f921\\\"]],\\\"diverging\\\":[[0,\\\"#8e0152\\\"],[0.1,\\\"#c51b7d\\\"],[0.2,\\\"#de77ae\\\"],[0.3,\\\"#f1b6da\\\"],[0.4,\\\"#fde0ef\\\"],[0.5,\\\"#f7f7f7\\\"],[0.6,\\\"#e6f5d0\\\"],[0.7,\\\"#b8e186\\\"],[0.8,\\\"#7fbc41\\\"],[0.9,\\\"#4d9221\\\"],[1,\\\"#276419\\\"]],\\\"sequentialminus\\\":[[0.0,\\\"#0d0887\\\"],[0.1111111111111111,\\\"#46039f\\\"],[0.2222222222222222,\\\"#7201a8\\\"],[0.3333333333333333,\\\"#9c179e\\\"],[0.4444444444444444,\\\"#bd3786\\\"],[0.5555555555555556,\\\"#d8576b\\\"],[0.6666666666666666,\\\"#ed7953\\\"],[0.7777777777777778,\\\"#fb9f3a\\\"],[0.8888888888888888,\\\"#fdca26\\\"],[1.0,\\\"#f0f921\\\"]]},\\\"yaxis\\\":{\\\"gridcolor\\\":\\\"white\\\",\\\"zerolinewidth\\\":2,\\\"title\\\":{\\\"standoff\\\":15},\\\"ticks\\\":\\\"\\\",\\\"zerolinecolor\\\":\\\"white\\\",\\\"automargin\\\":true,\\\"linecolor\\\":\\\"white\\\"},\\\"shapedefaults\\\":{\\\"line\\\":{\\\"color\\\":\\\"#2a3f5f\\\"}},\\\"hoverlabel\\\":{\\\"align\\\":\\\"left\\\"},\\\"mapbox\\\":{\\\"style\\\":\\\"light\\\"},\\\"polar\\\":{\\\"angularaxis\\\":{\\\"gridcolor\\\":\\\"white\\\",\\\"ticks\\\":\\\"\\\",\\\"linecolor\\\":\\\"white\\\"},\\\"bgcolor\\\":\\\"#E5ECF6\\\",\\\"radialaxis\\\":{\\\"gridcolor\\\":\\\"white\\\",\\\"ticks\\\":\\\"\\\",\\\"linecolor\\\":\\\"white\\\"}},\\\"autotypenumbers\\\":\\\"strict\\\",\\\"font\\\":{\\\"color\\\":\\\"#2a3f5f\\\"},\\\"ternary\\\":{\\\"baxis\\\":{\\\"gridcolor\\\":\\\"white\\\",\\\"ticks\\\":\\\"\\\",\\\"linecolor\\\":\\\"white\\\"},\\\"bgcolor\\\":\\\"#E5ECF6\\\",\\\"caxis\\\":{\\\"gridcolor\\\":\\\"white\\\",\\\"ticks\\\":\\\"\\\",\\\"linecolor\\\":\\\"white\\\"},\\\"aaxis\\\":{\\\"gridcolor\\\":\\\"white\\\",\\\"ticks\\\":\\\"\\\",\\\"linecolor\\\":\\\"white\\\"}},\\\"annotationdefaults\\\":{\\\"arrowhead\\\":0,\\\"arrowwidth\\\":1,\\\"arrowcolor\\\":\\\"#2a3f5f\\\"},\\\"plot_bgcolor\\\":\\\"#E5ECF6\\\",\\\"title\\\":{\\\"x\\\":0.05},\\\"scene\\\":{\\\"xaxis\\\":{\\\"gridcolor\\\":\\\"white\\\",\\\"gridwidth\\\":2,\\\"backgroundcolor\\\":\\\"#E5ECF6\\\",\\\"ticks\\\":\\\"\\\",\\\"showbackground\\\":true,\\\"zerolinecolor\\\":\\\"white\\\",\\\"linecolor\\\":\\\"white\\\"},\\\"zaxis\\\":{\\\"gridcolor\\\":\\\"white\\\",\\\"gridwidth\\\":2,\\\"backgroundcolor\\\":\\\"#E5ECF6\\\",\\\"ticks\\\":\\\"\\\",\\\"showbackground\\\":true,\\\"zerolinecolor\\\":\\\"white\\\",\\\"linecolor\\\":\\\"white\\\"},\\\"yaxis\\\":{\\\"gridcolor\\\":\\\"white\\\",\\\"gridwidth\\\":2,\\\"backgroundcolor\\\":\\\"#E5ECF6\\\",\\\"ticks\\\":\\\"\\\",\\\"showbackground\\\":true,\\\"zerolinecolor\\\":\\\"white\\\",\\\"linecolor\\\":\\\"white\\\"}},\\\"colorway\\\":[\\\"#636efa\\\",\\\"#EF553B\\\",\\\"#00cc96\\\",\\\"#ab63fa\\\",\\\"#FFA15A\\\",\\\"#19d3f3\\\",\\\"#FF6692\\\",\\\"#B6E880\\\",\\\"#FF97FF\\\",\\\"#FECB52\\\"]},\\\"data\\\":{\\\"barpolar\\\":[{\\\"type\\\":\\\"barpolar\\\",\\\"marker\\\":{\\\"line\\\":{\\\"color\\\":\\\"#E5ECF6\\\",\\\"width\\\":0.5}}}],\\\"carpet\\\":[{\\\"aaxis\\\":{\\\"gridcolor\\\":\\\"white\\\",\\\"endlinecolor\\\":\\\"#2a3f5f\\\",\\\"minorgridcolor\\\":\\\"white\\\",\\\"startlinecolor\\\":\\\"#2a3f5f\\\",\\\"linecolor\\\":\\\"white\\\"},\\\"type\\\":\\\"carpet\\\",\\\"baxis\\\":{\\\"gridcolor\\\":\\\"white\\\",\\\"endlinecolor\\\":\\\"#2a3f5f\\\",\\\"minorgridcolor\\\":\\\"white\\\",\\\"startlinecolor\\\":\\\"#2a3f5f\\\",\\\"linecolor\\\":\\\"white\\\"}}],\\\"scatterpolar\\\":[{\\\"type\\\":\\\"scatterpolar\\\",\\\"marker\\\":{\\\"colorbar\\\":{\\\"ticks\\\":\\\"\\\",\\\"outlinewidth\\\":0}}}],\\\"parcoords\\\":[{\\\"line\\\":{\\\"colorbar\\\":{\\\"ticks\\\":\\\"\\\",\\\"outlinewidth\\\":0}},\\\"type\\\":\\\"parcoords\\\"}],\\\"scatter\\\":[{\\\"type\\\":\\\"scatter\\\",\\\"marker\\\":{\\\"colorbar\\\":{\\\"ticks\\\":\\\"\\\",\\\"outlinewidth\\\":0}}}],\\\"histogram2dcontour\\\":[{\\\"colorbar\\\":{\\\"ticks\\\":\\\"\\\",\\\"outlinewidth\\\":0},\\\"type\\\":\\\"histogram2dcontour\\\",\\\"colorscale\\\":[[0.0,\\\"#0d0887\\\"],[0.1111111111111111,\\\"#46039f\\\"],[0.2222222222222222,\\\"#7201a8\\\"],[0.3333333333333333,\\\"#9c179e\\\"],[0.4444444444444444,\\\"#bd3786\\\"],[0.5555555555555556,\\\"#d8576b\\\"],[0.6666666666666666,\\\"#ed7953\\\"],[0.7777777777777778,\\\"#fb9f3a\\\"],[0.8888888888888888,\\\"#fdca26\\\"],[1.0,\\\"#f0f921\\\"]]}],\\\"contour\\\":[{\\\"colorbar\\\":{\\\"ticks\\\":\\\"\\\",\\\"outlinewidth\\\":0},\\\"type\\\":\\\"contour\\\",\\\"colorscale\\\":[[0.0,\\\"#0d0887\\\"],[0.1111111111111111,\\\"#46039f\\\"],[0.2222222222222222,\\\"#7201a8\\\"],[0.3333333333333333,\\\"#9c179e\\\"],[0.4444444444444444,\\\"#bd3786\\\"],[0.5555555555555556,\\\"#d8576b\\\"],[0.6666666666666666,\\\"#ed7953\\\"],[0.7777777777777778,\\\"#fb9f3a\\\"],[0.8888888888888888,\\\"#fdca26\\\"],[1.0,\\\"#f0f921\\\"]]}],\\\"scattercarpet\\\":[{\\\"type\\\":\\\"scattercarpet\\\",\\\"marker\\\":{\\\"colorbar\\\":{\\\"ticks\\\":\\\"\\\",\\\"outlinewidth\\\":0}}}],\\\"mesh3d\\\":[{\\\"colorbar\\\":{\\\"ticks\\\":\\\"\\\",\\\"outlinewidth\\\":0},\\\"type\\\":\\\"mesh3d\\\"}],\\\"surface\\\":[{\\\"colorbar\\\":{\\\"ticks\\\":\\\"\\\",\\\"outlinewidth\\\":0},\\\"type\\\":\\\"surface\\\",\\\"colorscale\\\":[[0.0,\\\"#0d0887\\\"],[0.1111111111111111,\\\"#46039f\\\"],[0.2222222222222222,\\\"#7201a8\\\"],[0.3333333333333333,\\\"#9c179e\\\"],[0.4444444444444444,\\\"#bd3786\\\"],[0.5555555555555556,\\\"#d8576b\\\"],[0.6666666666666666,\\\"#ed7953\\\"],[0.7777777777777778,\\\"#fb9f3a\\\"],[0.8888888888888888,\\\"#fdca26\\\"],[1.0,\\\"#f0f921\\\"]]}],\\\"scattermapbox\\\":[{\\\"type\\\":\\\"scattermapbox\\\",\\\"marker\\\":{\\\"colorbar\\\":{\\\"ticks\\\":\\\"\\\",\\\"outlinewidth\\\":0}}}],\\\"scattergeo\\\":[{\\\"type\\\":\\\"scattergeo\\\",\\\"marker\\\":{\\\"colorbar\\\":{\\\"ticks\\\":\\\"\\\",\\\"outlinewidth\\\":0}}}],\\\"histogram\\\":[{\\\"type\\\":\\\"histogram\\\",\\\"marker\\\":{\\\"colorbar\\\":{\\\"ticks\\\":\\\"\\\",\\\"outlinewidth\\\":0}}}],\\\"pie\\\":[{\\\"type\\\":\\\"pie\\\",\\\"automargin\\\":true}],\\\"choropleth\\\":[{\\\"colorbar\\\":{\\\"ticks\\\":\\\"\\\",\\\"outlinewidth\\\":0},\\\"type\\\":\\\"choropleth\\\"}],\\\"heatmapgl\\\":[{\\\"colorbar\\\":{\\\"ticks\\\":\\\"\\\",\\\"outlinewidth\\\":0},\\\"type\\\":\\\"heatmapgl\\\",\\\"colorscale\\\":[[0.0,\\\"#0d0887\\\"],[0.1111111111111111,\\\"#46039f\\\"],[0.2222222222222222,\\\"#7201a8\\\"],[0.3333333333333333,\\\"#9c179e\\\"],[0.4444444444444444,\\\"#bd3786\\\"],[0.5555555555555556,\\\"#d8576b\\\"],[0.6666666666666666,\\\"#ed7953\\\"],[0.7777777777777778,\\\"#fb9f3a\\\"],[0.8888888888888888,\\\"#fdca26\\\"],[1.0,\\\"#f0f921\\\"]]}],\\\"bar\\\":[{\\\"type\\\":\\\"bar\\\",\\\"error_y\\\":{\\\"color\\\":\\\"#2a3f5f\\\"},\\\"error_x\\\":{\\\"color\\\":\\\"#2a3f5f\\\"},\\\"marker\\\":{\\\"line\\\":{\\\"color\\\":\\\"#E5ECF6\\\",\\\"width\\\":0.5}}}],\\\"heatmap\\\":[{\\\"colorbar\\\":{\\\"ticks\\\":\\\"\\\",\\\"outlinewidth\\\":0},\\\"type\\\":\\\"heatmap\\\",\\\"colorscale\\\":[[0.0,\\\"#0d0887\\\"],[0.1111111111111111,\\\"#46039f\\\"],[0.2222222222222222,\\\"#7201a8\\\"],[0.3333333333333333,\\\"#9c179e\\\"],[0.4444444444444444,\\\"#bd3786\\\"],[0.5555555555555556,\\\"#d8576b\\\"],[0.6666666666666666,\\\"#ed7953\\\"],[0.7777777777777778,\\\"#fb9f3a\\\"],[0.8888888888888888,\\\"#fdca26\\\"],[1.0,\\\"#f0f921\\\"]]}],\\\"contourcarpet\\\":[{\\\"colorbar\\\":{\\\"ticks\\\":\\\"\\\",\\\"outlinewidth\\\":0},\\\"type\\\":\\\"contourcarpet\\\"}],\\\"table\\\":[{\\\"type\\\":\\\"table\\\",\\\"header\\\":{\\\"line\\\":{\\\"color\\\":\\\"white\\\"},\\\"fill\\\":{\\\"color\\\":\\\"#C8D4E3\\\"}},\\\"cells\\\":{\\\"line\\\":{\\\"color\\\":\\\"white\\\"},\\\"fill\\\":{\\\"color\\\":\\\"#EBF0F8\\\"}}}],\\\"scatter3d\\\":[{\\\"line\\\":{\\\"colorbar\\\":{\\\"ticks\\\":\\\"\\\",\\\"outlinewidth\\\":0}},\\\"type\\\":\\\"scatter3d\\\",\\\"marker\\\":{\\\"colorbar\\\":{\\\"ticks\\\":\\\"\\\",\\\"outlinewidth\\\":0}}}],\\\"scattergl\\\":[{\\\"type\\\":\\\"scattergl\\\",\\\"marker\\\":{\\\"colorbar\\\":{\\\"ticks\\\":\\\"\\\",\\\"outlinewidth\\\":0}}}],\\\"histogram2d\\\":[{\\\"colorbar\\\":{\\\"ticks\\\":\\\"\\\",\\\"outlinewidth\\\":0},\\\"type\\\":\\\"histogram2d\\\",\\\"colorscale\\\":[[0.0,\\\"#0d0887\\\"],[0.1111111111111111,\\\"#46039f\\\"],[0.2222222222222222,\\\"#7201a8\\\"],[0.3333333333333333,\\\"#9c179e\\\"],[0.4444444444444444,\\\"#bd3786\\\"],[0.5555555555555556,\\\"#d8576b\\\"],[0.6666666666666666,\\\"#ed7953\\\"],[0.7777777777777778,\\\"#fb9f3a\\\"],[0.8888888888888888,\\\"#fdca26\\\"],[1.0,\\\"#f0f921\\\"]]}],\\\"scatterternary\\\":[{\\\"type\\\":\\\"scatterternary\\\",\\\"marker\\\":{\\\"colorbar\\\":{\\\"ticks\\\":\\\"\\\",\\\"outlinewidth\\\":0}}}],\\\"scatterpolargl\\\":[{\\\"type\\\":\\\"scatterpolargl\\\",\\\"marker\\\":{\\\"colorbar\\\":{\\\"ticks\\\":\\\"\\\",\\\"outlinewidth\\\":0}}}]}},\\\"showarrow\\\":false,\\\"margin\\\":{\\\"l\\\":50,\\\"b\\\":50,\\\"r\\\":50,\\\"t\\\":60},\\\"yaxis\\\":{\\\"showgrid\\\":false,\\\"showticklabels\\\":false,\\\"zeroline\\\":false}},{\\\"showLink\\\":false,\\\"editable\\\":false,\\\"responsive\\\":true,\\\"staticPlot\\\":false,\\\"scrollZoom\\\":true}); gd.on(\\\"plotly_hover\\\",(function (data){var filtered_data=WebIO.PlotlyCommands.filterEventData(gd,data,\\\"hover\\\"); return !(filtered_data.isnil) ? (WebIO.setval({\\\"name\\\":\\\"hover\\\",\\\"scope\\\":\\\"15507724459750179909\\\",\\\"id\\\":\\\"14711426015611365715\\\",\\\"type\\\":\\\"observable\\\"},filtered_data.out)) : undefined})); gd.on(\\\"plotly_unhover\\\",(function (){return WebIO.setval({\\\"name\\\":\\\"hover\\\",\\\"scope\\\":\\\"15507724459750179909\\\",\\\"id\\\":\\\"14711426015611365715\\\",\\\"type\\\":\\\"observable\\\"},{})})); gd.on(\\\"plotly_selected\\\",(function (data){var filtered_data=WebIO.PlotlyCommands.filterEventData(gd,data,\\\"selected\\\"); return !(filtered_data.isnil) ? (WebIO.setval({\\\"name\\\":\\\"selected\\\",\\\"scope\\\":\\\"15507724459750179909\\\",\\\"id\\\":\\\"15701078913061785821\\\",\\\"type\\\":\\\"observable\\\"},filtered_data.out)) : undefined})); gd.on(\\\"plotly_deselect\\\",(function (){return WebIO.setval({\\\"name\\\":\\\"selected\\\",\\\"scope\\\":\\\"15507724459750179909\\\",\\\"id\\\":\\\"15701078913061785821\\\",\\\"type\\\":\\\"observable\\\"},{})})); gd.on(\\\"plotly_relayout\\\",(function (data){var filtered_data=WebIO.PlotlyCommands.filterEventData(gd,data,\\\"relayout\\\"); return !(filtered_data.isnil) ? (WebIO.setval({\\\"name\\\":\\\"relayout\\\",\\\"scope\\\":\\\"15507724459750179909\\\",\\\"id\\\":\\\"5217717802033727329\\\",\\\"type\\\":\\\"observable\\\"},filtered_data.out)) : undefined})); return gd.on(\\\"plotly_click\\\",(function (data){var filtered_data=WebIO.PlotlyCommands.filterEventData(gd,data,\\\"click\\\"); return !(filtered_data.isnil) ? (WebIO.setval({\\\"name\\\":\\\"click\\\",\\\"scope\\\":\\\"15507724459750179909\\\",\\\"id\\\":\\\"7333826006252233551\\\",\\\"type\\\":\\\"observable\\\"},filtered_data.out)) : undefined}))}));\\n    (WebIO.importBlock({\\\"data\\\":[{\\\"name\\\":\\\"Plotly\\\",\\\"type\\\":\\\"js\\\",\\\"url\\\":\\\"\\/assetserver\\/0920e676c106f32ba509e3957ec7f2e1975e6dda-plotly.min.js\\\"},{\\\"name\\\":null,\\\"type\\\":\\\"js\\\",\\\"url\\\":\\\"\\/assetserver\\/a5a7489247caefe55cf69adf7b5b90ef582ba49e-plotly_webio.bundle.js\\\"}],\\\"type\\\":\\\"async_block\\\"})).then((imports) => handler.apply(this, imports));\\n}\\n\"],\"observables\":{\"_toImage\":{\"sync\":false,\"id\":\"1978168011618070040\",\"value\":{}},\"hover\":{\"sync\":false,\"id\":\"14711426015611365715\",\"value\":{}},\"selected\":{\"sync\":false,\"id\":\"15701078913061785821\",\"value\":{}},\"__gd_contents\":{\"sync\":false,\"id\":\"2842370701762357165\",\"value\":{}},\"click\":{\"sync\":false,\"id\":\"7333826006252233551\",\"value\":{}},\"image\":{\"sync\":true,\"id\":\"10978725919670809324\",\"value\":\"\"},\"__get_gd_contents\":{\"sync\":false,\"id\":\"7734234086478999961\",\"value\":\"\"},\"_downloadImage\":{\"sync\":false,\"id\":\"14077338492801314827\",\"value\":{}},\"relayout\":{\"sync\":false,\"id\":\"5217717802033727329\",\"value\":{}},\"_commands\":{\"sync\":false,\"id\":\"1379765067837162751\",\"value\":[]}}},\"children\":[{\"props\":{\"id\":\"plot-8de21b99-ce40-49c9-adea-0b7e4f34cd59\"},\"nodeType\":\"DOM\",\"type\":\"node\",\"instanceArgs\":{\"namespace\":\"html\",\"tag\":\"div\"},\"children\":[]}]},\n",
       "        window,\n",
       "    );\n",
       "    })()\n",
       "    </script>\n",
       "</div>\n"
      ],
      "text/plain": [
       "data: [\n",
       "  \"scatter with fields line, mode, type, x, and y\",\n",
       "  \"scatter with fields marker, mode, name, text, type, x, and y\",\n",
       "  \"scatter with fields marker, mode, name, text, type, x, and y\",\n",
       "  \"scatter with fields marker, mode, name, text, type, x, and y\"\n",
       "]\n",
       "\n",
       "layout: \"layout with fields hovermode, margin, showarrow, showlegend, template, titlefont, xaxis, and yaxis\"\n",
       "\n"
      ]
     },
     "execution_count": 10,
     "metadata": {},
     "output_type": "execute_result"
    }
   ],
   "source": [
    "problem = Problem(inputs,[soec,boiler,eh,ct],outputs)\n",
    "vivi_graph(problem) # Ploting a graph view of the Techs (red) and Resources (green)"
   ]
  },
  {
   "cell_type": "markdown",
   "id": "a5e69f17",
   "metadata": {},
   "source": [
    "## Solving"
   ]
  },
  {
   "cell_type": "markdown",
   "id": "ccdc18ed",
   "metadata": {},
   "source": [
    "The problem can be solved by calling the vivi function"
   ]
  },
  {
   "cell_type": "code",
   "execution_count": 11,
   "id": "3a50ebcf",
   "metadata": {},
   "outputs": [
    {
     "name": "stdout",
     "output_type": "stream",
     "text": [
      "* Solver : HiGHS\n",
      "\n",
      "* Status\n",
      "  Result count       : 1\n",
      "  Termination status : OPTIMAL\n",
      "  Message from the solver:\n",
      "  \"kHighsModelStatusOptimal\"\n",
      "\n",
      "* Candidate solution (result #1)\n",
      "  Primal status      : FEASIBLE_POINT\n",
      "  Dual status        : NO_SOLUTION\n",
      "  Objective value    : -2.19172e+03\n",
      "  Objective bound    : 2.19172e+03\n",
      "  Relative gap       : 0.00000e+00\n",
      "\n",
      "* Work counters\n",
      "  Solve time (sec)   : 0.00000e+00\n",
      "  Simplex iterations : 0\n",
      "  Barrier iterations : -1\n",
      "  Node count         : 0\n",
      "\n",
      " Tech     | Size factor\n",
      "========================\n",
      " soec     | 38.462\n",
      " boiler   | 3.4012\n",
      " EH       | 7.3295\n",
      " CT       | 1.7707\n",
      "------------------------\n"
     ]
    },
    {
     "data": {
      "application/vnd.plotly.v1+json": {
       "config": {
        "editable": false,
        "responsive": true,
        "scrollZoom": true,
        "showLink": false,
        "staticPlot": false
       },
       "data": [
        {
         "link": {
          "color": [
           "rgba(186,186,186,0.5)",
           "rgba(186,186,186,0.5)",
           "rgba(186,186,186,0.5)",
           "rgba(186,186,186,0.5)",
           "rgba(186,186,186,0.5)",
           "rgba(186,186,186,0.5)",
           "rgba(186,186,186,0.5)",
           "rgba(186,186,186,0.5)",
           "rgba(186,186,186,0.5)",
           "rgba(186,186,186,0.5)",
           "rgba(255,129,127,0.5)",
           "rgba(255,129,127,0.5)",
           "rgba(255,129,127,0.5)",
           "rgba(255,129,127,0.5)",
           "rgba(255,129,127,0.5)",
           "rgba(255,129,127,0.5)",
           "rgba(255,129,127,0.5)",
           "rgba(255,129,127,0.5)",
           "rgba(255,129,127,0.5)",
           "rgba(255,129,127,0.5)"
          ],
          "source": [
           8,
           7,
           0,
           0,
           0,
           7,
           5,
           1,
           7,
           7,
           9,
           0,
           0,
           9,
           0,
           0,
           9,
           9,
           2,
           9
          ],
          "target": [
           0,
           0,
           6,
           5,
           4,
           1,
           1,
           8,
           2,
           3,
           0,
           9,
           9,
           0,
           9,
           9,
           1,
           1,
           9,
           3
          ],
          "value": [
           8758.471393130558,
           34226.17994,
           39389.36155555555,
           0,
           0,
           0.0578204,
           0,
           8758.430119999999,
           7329.5,
           25.32101,
           4638.90182,
           3671.58252,
           347.31186,
           2383.87476,
           4061.97182,
           2141.5641600000004,
           1109.13132,
           7649.2988,
           7329.5,
           1770.7
          ]
         },
         "node": {
          "color": [
           "blue",
           "blue",
           "blue",
           "blue",
           "#90EE90",
           "#90EE90",
           "#90EE90",
           "#90EE90",
           "#90EE90",
           "red"
          ],
          "label": [
           "soec",
           "boiler",
           "EH",
           "CT",
           "o2",
           "water",
           "h2",
           "power",
           "steam",
           "Heat network"
          ],
          "line": {
           "color": "black",
           "width": 0.5
          },
          "pad": 15,
          "thickness": 20
         },
         "type": "sankey"
        }
       ],
       "frames": [],
       "layout": {
        "margin": {
         "b": 50,
         "l": 50,
         "r": 50,
         "t": 60
        },
        "template": {
         "data": {
          "bar": [
           {
            "error_x": {
             "color": "#2a3f5f"
            },
            "error_y": {
             "color": "#2a3f5f"
            },
            "marker": {
             "line": {
              "color": "#E5ECF6",
              "width": 0.5
             }
            },
            "type": "bar"
           }
          ],
          "barpolar": [
           {
            "marker": {
             "line": {
              "color": "#E5ECF6",
              "width": 0.5
             }
            },
            "type": "barpolar"
           }
          ],
          "carpet": [
           {
            "aaxis": {
             "endlinecolor": "#2a3f5f",
             "gridcolor": "white",
             "linecolor": "white",
             "minorgridcolor": "white",
             "startlinecolor": "#2a3f5f"
            },
            "baxis": {
             "endlinecolor": "#2a3f5f",
             "gridcolor": "white",
             "linecolor": "white",
             "minorgridcolor": "white",
             "startlinecolor": "#2a3f5f"
            },
            "type": "carpet"
           }
          ],
          "choropleth": [
           {
            "colorbar": {
             "outlinewidth": 0,
             "ticks": ""
            },
            "type": "choropleth"
           }
          ],
          "contour": [
           {
            "colorbar": {
             "outlinewidth": 0,
             "ticks": ""
            },
            "colorscale": [
             [
              0,
              "#0d0887"
             ],
             [
              0.1111111111111111,
              "#46039f"
             ],
             [
              0.2222222222222222,
              "#7201a8"
             ],
             [
              0.3333333333333333,
              "#9c179e"
             ],
             [
              0.4444444444444444,
              "#bd3786"
             ],
             [
              0.5555555555555556,
              "#d8576b"
             ],
             [
              0.6666666666666666,
              "#ed7953"
             ],
             [
              0.7777777777777778,
              "#fb9f3a"
             ],
             [
              0.8888888888888888,
              "#fdca26"
             ],
             [
              1,
              "#f0f921"
             ]
            ],
            "type": "contour"
           }
          ],
          "contourcarpet": [
           {
            "colorbar": {
             "outlinewidth": 0,
             "ticks": ""
            },
            "type": "contourcarpet"
           }
          ],
          "heatmap": [
           {
            "colorbar": {
             "outlinewidth": 0,
             "ticks": ""
            },
            "colorscale": [
             [
              0,
              "#0d0887"
             ],
             [
              0.1111111111111111,
              "#46039f"
             ],
             [
              0.2222222222222222,
              "#7201a8"
             ],
             [
              0.3333333333333333,
              "#9c179e"
             ],
             [
              0.4444444444444444,
              "#bd3786"
             ],
             [
              0.5555555555555556,
              "#d8576b"
             ],
             [
              0.6666666666666666,
              "#ed7953"
             ],
             [
              0.7777777777777778,
              "#fb9f3a"
             ],
             [
              0.8888888888888888,
              "#fdca26"
             ],
             [
              1,
              "#f0f921"
             ]
            ],
            "type": "heatmap"
           }
          ],
          "heatmapgl": [
           {
            "colorbar": {
             "outlinewidth": 0,
             "ticks": ""
            },
            "colorscale": [
             [
              0,
              "#0d0887"
             ],
             [
              0.1111111111111111,
              "#46039f"
             ],
             [
              0.2222222222222222,
              "#7201a8"
             ],
             [
              0.3333333333333333,
              "#9c179e"
             ],
             [
              0.4444444444444444,
              "#bd3786"
             ],
             [
              0.5555555555555556,
              "#d8576b"
             ],
             [
              0.6666666666666666,
              "#ed7953"
             ],
             [
              0.7777777777777778,
              "#fb9f3a"
             ],
             [
              0.8888888888888888,
              "#fdca26"
             ],
             [
              1,
              "#f0f921"
             ]
            ],
            "type": "heatmapgl"
           }
          ],
          "histogram": [
           {
            "marker": {
             "colorbar": {
              "outlinewidth": 0,
              "ticks": ""
             }
            },
            "type": "histogram"
           }
          ],
          "histogram2d": [
           {
            "colorbar": {
             "outlinewidth": 0,
             "ticks": ""
            },
            "colorscale": [
             [
              0,
              "#0d0887"
             ],
             [
              0.1111111111111111,
              "#46039f"
             ],
             [
              0.2222222222222222,
              "#7201a8"
             ],
             [
              0.3333333333333333,
              "#9c179e"
             ],
             [
              0.4444444444444444,
              "#bd3786"
             ],
             [
              0.5555555555555556,
              "#d8576b"
             ],
             [
              0.6666666666666666,
              "#ed7953"
             ],
             [
              0.7777777777777778,
              "#fb9f3a"
             ],
             [
              0.8888888888888888,
              "#fdca26"
             ],
             [
              1,
              "#f0f921"
             ]
            ],
            "type": "histogram2d"
           }
          ],
          "histogram2dcontour": [
           {
            "colorbar": {
             "outlinewidth": 0,
             "ticks": ""
            },
            "colorscale": [
             [
              0,
              "#0d0887"
             ],
             [
              0.1111111111111111,
              "#46039f"
             ],
             [
              0.2222222222222222,
              "#7201a8"
             ],
             [
              0.3333333333333333,
              "#9c179e"
             ],
             [
              0.4444444444444444,
              "#bd3786"
             ],
             [
              0.5555555555555556,
              "#d8576b"
             ],
             [
              0.6666666666666666,
              "#ed7953"
             ],
             [
              0.7777777777777778,
              "#fb9f3a"
             ],
             [
              0.8888888888888888,
              "#fdca26"
             ],
             [
              1,
              "#f0f921"
             ]
            ],
            "type": "histogram2dcontour"
           }
          ],
          "mesh3d": [
           {
            "colorbar": {
             "outlinewidth": 0,
             "ticks": ""
            },
            "type": "mesh3d"
           }
          ],
          "parcoords": [
           {
            "line": {
             "colorbar": {
              "outlinewidth": 0,
              "ticks": ""
             }
            },
            "type": "parcoords"
           }
          ],
          "pie": [
           {
            "automargin": true,
            "type": "pie"
           }
          ],
          "scatter": [
           {
            "marker": {
             "colorbar": {
              "outlinewidth": 0,
              "ticks": ""
             }
            },
            "type": "scatter"
           }
          ],
          "scatter3d": [
           {
            "line": {
             "colorbar": {
              "outlinewidth": 0,
              "ticks": ""
             }
            },
            "marker": {
             "colorbar": {
              "outlinewidth": 0,
              "ticks": ""
             }
            },
            "type": "scatter3d"
           }
          ],
          "scattercarpet": [
           {
            "marker": {
             "colorbar": {
              "outlinewidth": 0,
              "ticks": ""
             }
            },
            "type": "scattercarpet"
           }
          ],
          "scattergeo": [
           {
            "marker": {
             "colorbar": {
              "outlinewidth": 0,
              "ticks": ""
             }
            },
            "type": "scattergeo"
           }
          ],
          "scattergl": [
           {
            "marker": {
             "colorbar": {
              "outlinewidth": 0,
              "ticks": ""
             }
            },
            "type": "scattergl"
           }
          ],
          "scattermapbox": [
           {
            "marker": {
             "colorbar": {
              "outlinewidth": 0,
              "ticks": ""
             }
            },
            "type": "scattermapbox"
           }
          ],
          "scatterpolar": [
           {
            "marker": {
             "colorbar": {
              "outlinewidth": 0,
              "ticks": ""
             }
            },
            "type": "scatterpolar"
           }
          ],
          "scatterpolargl": [
           {
            "marker": {
             "colorbar": {
              "outlinewidth": 0,
              "ticks": ""
             }
            },
            "type": "scatterpolargl"
           }
          ],
          "scatterternary": [
           {
            "marker": {
             "colorbar": {
              "outlinewidth": 0,
              "ticks": ""
             }
            },
            "type": "scatterternary"
           }
          ],
          "surface": [
           {
            "colorbar": {
             "outlinewidth": 0,
             "ticks": ""
            },
            "colorscale": [
             [
              0,
              "#0d0887"
             ],
             [
              0.1111111111111111,
              "#46039f"
             ],
             [
              0.2222222222222222,
              "#7201a8"
             ],
             [
              0.3333333333333333,
              "#9c179e"
             ],
             [
              0.4444444444444444,
              "#bd3786"
             ],
             [
              0.5555555555555556,
              "#d8576b"
             ],
             [
              0.6666666666666666,
              "#ed7953"
             ],
             [
              0.7777777777777778,
              "#fb9f3a"
             ],
             [
              0.8888888888888888,
              "#fdca26"
             ],
             [
              1,
              "#f0f921"
             ]
            ],
            "type": "surface"
           }
          ],
          "table": [
           {
            "cells": {
             "fill": {
              "color": "#EBF0F8"
             },
             "line": {
              "color": "white"
             }
            },
            "header": {
             "fill": {
              "color": "#C8D4E3"
             },
             "line": {
              "color": "white"
             }
            },
            "type": "table"
           }
          ]
         },
         "layout": {
          "annotationdefaults": {
           "arrowcolor": "#2a3f5f",
           "arrowhead": 0,
           "arrowwidth": 1
          },
          "autotypenumbers": "strict",
          "coloraxis": {
           "colorbar": {
            "outlinewidth": 0,
            "ticks": ""
           }
          },
          "colorscale": {
           "diverging": [
            [
             0,
             "#8e0152"
            ],
            [
             0.1,
             "#c51b7d"
            ],
            [
             0.2,
             "#de77ae"
            ],
            [
             0.3,
             "#f1b6da"
            ],
            [
             0.4,
             "#fde0ef"
            ],
            [
             0.5,
             "#f7f7f7"
            ],
            [
             0.6,
             "#e6f5d0"
            ],
            [
             0.7,
             "#b8e186"
            ],
            [
             0.8,
             "#7fbc41"
            ],
            [
             0.9,
             "#4d9221"
            ],
            [
             1,
             "#276419"
            ]
           ],
           "sequential": [
            [
             0,
             "#0d0887"
            ],
            [
             0.1111111111111111,
             "#46039f"
            ],
            [
             0.2222222222222222,
             "#7201a8"
            ],
            [
             0.3333333333333333,
             "#9c179e"
            ],
            [
             0.4444444444444444,
             "#bd3786"
            ],
            [
             0.5555555555555556,
             "#d8576b"
            ],
            [
             0.6666666666666666,
             "#ed7953"
            ],
            [
             0.7777777777777778,
             "#fb9f3a"
            ],
            [
             0.8888888888888888,
             "#fdca26"
            ],
            [
             1,
             "#f0f921"
            ]
           ],
           "sequentialminus": [
            [
             0,
             "#0d0887"
            ],
            [
             0.1111111111111111,
             "#46039f"
            ],
            [
             0.2222222222222222,
             "#7201a8"
            ],
            [
             0.3333333333333333,
             "#9c179e"
            ],
            [
             0.4444444444444444,
             "#bd3786"
            ],
            [
             0.5555555555555556,
             "#d8576b"
            ],
            [
             0.6666666666666666,
             "#ed7953"
            ],
            [
             0.7777777777777778,
             "#fb9f3a"
            ],
            [
             0.8888888888888888,
             "#fdca26"
            ],
            [
             1,
             "#f0f921"
            ]
           ]
          },
          "colorway": [
           "#636efa",
           "#EF553B",
           "#00cc96",
           "#ab63fa",
           "#FFA15A",
           "#19d3f3",
           "#FF6692",
           "#B6E880",
           "#FF97FF",
           "#FECB52"
          ],
          "font": {
           "color": "#2a3f5f"
          },
          "geo": {
           "bgcolor": "white",
           "lakecolor": "white",
           "landcolor": "#E5ECF6",
           "showlakes": true,
           "showland": true,
           "subunitcolor": "white"
          },
          "hoverlabel": {
           "align": "left"
          },
          "hovermode": "closest",
          "mapbox": {
           "style": "light"
          },
          "paper_bgcolor": "white",
          "plot_bgcolor": "#E5ECF6",
          "polar": {
           "angularaxis": {
            "gridcolor": "white",
            "linecolor": "white",
            "ticks": ""
           },
           "bgcolor": "#E5ECF6",
           "radialaxis": {
            "gridcolor": "white",
            "linecolor": "white",
            "ticks": ""
           }
          },
          "scene": {
           "xaxis": {
            "backgroundcolor": "#E5ECF6",
            "gridcolor": "white",
            "gridwidth": 2,
            "linecolor": "white",
            "showbackground": true,
            "ticks": "",
            "zerolinecolor": "white"
           },
           "yaxis": {
            "backgroundcolor": "#E5ECF6",
            "gridcolor": "white",
            "gridwidth": 2,
            "linecolor": "white",
            "showbackground": true,
            "ticks": "",
            "zerolinecolor": "white"
           },
           "zaxis": {
            "backgroundcolor": "#E5ECF6",
            "gridcolor": "white",
            "gridwidth": 2,
            "linecolor": "white",
            "showbackground": true,
            "ticks": "",
            "zerolinecolor": "white"
           }
          },
          "shapedefaults": {
           "line": {
            "color": "#2a3f5f"
           }
          },
          "ternary": {
           "aaxis": {
            "gridcolor": "white",
            "linecolor": "white",
            "ticks": ""
           },
           "baxis": {
            "gridcolor": "white",
            "linecolor": "white",
            "ticks": ""
           },
           "bgcolor": "#E5ECF6",
           "caxis": {
            "gridcolor": "white",
            "linecolor": "white",
            "ticks": ""
           }
          },
          "title": {
           "x": 0.05
          },
          "xaxis": {
           "automargin": true,
           "gridcolor": "white",
           "linecolor": "white",
           "ticks": "",
           "title": {
            "standoff": 15
           },
           "zerolinecolor": "white",
           "zerolinewidth": 2
          },
          "yaxis": {
           "automargin": true,
           "gridcolor": "white",
           "linecolor": "white",
           "ticks": "",
           "title": {
            "standoff": 15
           },
           "zerolinecolor": "white",
           "zerolinewidth": 2
          }
         }
        }
       }
      },
      "text/html": [
       "<div\n",
       "    class=\"webio-mountpoint\"\n",
       "    data-webio-mountpoint=\"1325727577823821422\"\n",
       ">\n",
       "    <script>\n",
       "    (function(){\n",
       "    // Some integrations (namely, IJulia/Jupyter) use an alternate render pathway than\n",
       "    // just putting the html on the page. If WebIO isn't defined, then it's pretty likely\n",
       "    // that we're in one of those situations and the integration just isn't installed\n",
       "    // correctly.\n",
       "    if (typeof window.WebIO === \"undefined\") {\n",
       "        document\n",
       "            .querySelector('[data-webio-mountpoint=\"1325727577823821422\"]')\n",
       "            .innerHTML = (\n",
       "                '<div style=\"padding: 1em; background-color: #f8d6da; border: 1px solid #f5c6cb; font-weight: bold;\">' +\n",
       "                '<p><strong>WebIO not detected.</strong></p>' +\n",
       "                '<p>Please read ' +\n",
       "                '<a href=\"https://juliagizmos.github.io/WebIO.jl/latest/troubleshooting/not-detected/\" target=\"_blank\">the troubleshooting guide</a> ' +\n",
       "                'for more information on how to resolve this issue.</p>' +\n",
       "                '<p><a href=\"https://juliagizmos.github.io/WebIO.jl/latest/troubleshooting/not-detected/\" target=\"_blank\">https://juliagizmos.github.io/WebIO.jl/latest/troubleshooting/not-detected/</a></p>' +\n",
       "                '</div>'\n",
       "            );\n",
       "        return;\n",
       "    }\n",
       "    WebIO.mount(\n",
       "        document.querySelector('[data-webio-mountpoint=\"1325727577823821422\"]'),\n",
       "        {\"props\":{},\"nodeType\":\"Scope\",\"type\":\"node\",\"instanceArgs\":{\"imports\":{\"data\":[{\"name\":\"Plotly\",\"type\":\"js\",\"url\":\"\\/assetserver\\/0920e676c106f32ba509e3957ec7f2e1975e6dda-plotly.min.js\"},{\"name\":null,\"type\":\"js\",\"url\":\"\\/assetserver\\/a5a7489247caefe55cf69adf7b5b90ef582ba49e-plotly_webio.bundle.js\"}],\"type\":\"async_block\"},\"id\":\"11465261351267226403\",\"handlers\":{\"_toImage\":[\"(function (options){return this.Plotly.toImage(this.plotElem,options).then((function (data){return WebIO.setval({\\\"name\\\":\\\"image\\\",\\\"scope\\\":\\\"11465261351267226403\\\",\\\"id\\\":\\\"10876030185317667016\\\",\\\"type\\\":\\\"observable\\\"},data)}))})\"],\"__get_gd_contents\":[\"(function (prop){prop==\\\"data\\\" ? (WebIO.setval({\\\"name\\\":\\\"__gd_contents\\\",\\\"scope\\\":\\\"11465261351267226403\\\",\\\"id\\\":\\\"12132194700633745909\\\",\\\"type\\\":\\\"observable\\\"},this.plotElem.data)) : undefined; return prop==\\\"layout\\\" ? (WebIO.setval({\\\"name\\\":\\\"__gd_contents\\\",\\\"scope\\\":\\\"11465261351267226403\\\",\\\"id\\\":\\\"12132194700633745909\\\",\\\"type\\\":\\\"observable\\\"},this.plotElem.layout)) : undefined})\"],\"_downloadImage\":[\"(function (options){return this.Plotly.downloadImage(this.plotElem,options)})\"],\"_commands\":[\"(function (args){var fn=args.shift(); var elem=this.plotElem; var Plotly=this.Plotly; args.unshift(elem); return Plotly[fn].apply(this,args)})\"]},\"systemjs_options\":null,\"mount_callbacks\":[\"function () {\\n    var handler = ((function (Plotly,PlotlyWebIO){PlotlyWebIO.init(WebIO); var gd=this.dom.querySelector(\\\"#plot-d312c382-d129-45c3-b77a-1c1d06b9f55a\\\"); this.plotElem=gd; this.Plotly=Plotly; (window.Blink!==undefined) ? (gd.style.width=\\\"100%\\\", gd.style.height=\\\"100vh\\\", gd.style.marginLeft=\\\"0%\\\", gd.style.marginTop=\\\"0vh\\\") : undefined; window.onresize=(function (){return Plotly.Plots.resize(gd)}); Plotly.newPlot(gd,[{\\\"link\\\":{\\\"color\\\":[\\\"rgba(186,186,186,0.5)\\\",\\\"rgba(186,186,186,0.5)\\\",\\\"rgba(186,186,186,0.5)\\\",\\\"rgba(186,186,186,0.5)\\\",\\\"rgba(186,186,186,0.5)\\\",\\\"rgba(186,186,186,0.5)\\\",\\\"rgba(186,186,186,0.5)\\\",\\\"rgba(186,186,186,0.5)\\\",\\\"rgba(186,186,186,0.5)\\\",\\\"rgba(186,186,186,0.5)\\\",\\\"rgba(255,129,127,0.5)\\\",\\\"rgba(255,129,127,0.5)\\\",\\\"rgba(255,129,127,0.5)\\\",\\\"rgba(255,129,127,0.5)\\\",\\\"rgba(255,129,127,0.5)\\\",\\\"rgba(255,129,127,0.5)\\\",\\\"rgba(255,129,127,0.5)\\\",\\\"rgba(255,129,127,0.5)\\\",\\\"rgba(255,129,127,0.5)\\\",\\\"rgba(255,129,127,0.5)\\\"],\\\"value\\\":[8758.471393130558,34226.17994,39389.36155555555,0.0,0.0,0.0578204,0.0,8758.430119999999,7329.5,25.32101,4638.90182,3671.58252,347.31186,2383.87476,4061.97182,2141.5641600000004,1109.13132,7649.2988,7329.5,1770.7],\\\"source\\\":[8.0,7.0,0.0,0.0,0.0,7.0,5.0,1.0,7.0,7.0,9.0,0.0,0.0,9.0,0.0,0.0,9.0,9.0,2.0,9.0],\\\"target\\\":[0.0,0.0,6.0,5.0,4.0,1.0,1.0,8.0,2.0,3.0,0.0,9.0,9.0,0.0,9.0,9.0,1.0,1.0,9.0,3.0]},\\\"node\\\":{\\\"color\\\":[\\\"blue\\\",\\\"blue\\\",\\\"blue\\\",\\\"blue\\\",\\\"#90EE90\\\",\\\"#90EE90\\\",\\\"#90EE90\\\",\\\"#90EE90\\\",\\\"#90EE90\\\",\\\"red\\\"],\\\"pad\\\":15,\\\"line\\\":{\\\"color\\\":\\\"black\\\",\\\"width\\\":0.5},\\\"label\\\":[\\\"soec\\\",\\\"boiler\\\",\\\"EH\\\",\\\"CT\\\",\\\"o2\\\",\\\"water\\\",\\\"h2\\\",\\\"power\\\",\\\"steam\\\",\\\"Heat network\\\"],\\\"thickness\\\":20},\\\"type\\\":\\\"sankey\\\"}],{\\\"template\\\":{\\\"layout\\\":{\\\"coloraxis\\\":{\\\"colorbar\\\":{\\\"ticks\\\":\\\"\\\",\\\"outlinewidth\\\":0}},\\\"xaxis\\\":{\\\"gridcolor\\\":\\\"white\\\",\\\"zerolinewidth\\\":2,\\\"title\\\":{\\\"standoff\\\":15},\\\"ticks\\\":\\\"\\\",\\\"zerolinecolor\\\":\\\"white\\\",\\\"automargin\\\":true,\\\"linecolor\\\":\\\"white\\\"},\\\"hovermode\\\":\\\"closest\\\",\\\"paper_bgcolor\\\":\\\"white\\\",\\\"geo\\\":{\\\"showlakes\\\":true,\\\"showland\\\":true,\\\"landcolor\\\":\\\"#E5ECF6\\\",\\\"bgcolor\\\":\\\"white\\\",\\\"subunitcolor\\\":\\\"white\\\",\\\"lakecolor\\\":\\\"white\\\"},\\\"colorscale\\\":{\\\"sequential\\\":[[0.0,\\\"#0d0887\\\"],[0.1111111111111111,\\\"#46039f\\\"],[0.2222222222222222,\\\"#7201a8\\\"],[0.3333333333333333,\\\"#9c179e\\\"],[0.4444444444444444,\\\"#bd3786\\\"],[0.5555555555555556,\\\"#d8576b\\\"],[0.6666666666666666,\\\"#ed7953\\\"],[0.7777777777777778,\\\"#fb9f3a\\\"],[0.8888888888888888,\\\"#fdca26\\\"],[1.0,\\\"#f0f921\\\"]],\\\"diverging\\\":[[0,\\\"#8e0152\\\"],[0.1,\\\"#c51b7d\\\"],[0.2,\\\"#de77ae\\\"],[0.3,\\\"#f1b6da\\\"],[0.4,\\\"#fde0ef\\\"],[0.5,\\\"#f7f7f7\\\"],[0.6,\\\"#e6f5d0\\\"],[0.7,\\\"#b8e186\\\"],[0.8,\\\"#7fbc41\\\"],[0.9,\\\"#4d9221\\\"],[1,\\\"#276419\\\"]],\\\"sequentialminus\\\":[[0.0,\\\"#0d0887\\\"],[0.1111111111111111,\\\"#46039f\\\"],[0.2222222222222222,\\\"#7201a8\\\"],[0.3333333333333333,\\\"#9c179e\\\"],[0.4444444444444444,\\\"#bd3786\\\"],[0.5555555555555556,\\\"#d8576b\\\"],[0.6666666666666666,\\\"#ed7953\\\"],[0.7777777777777778,\\\"#fb9f3a\\\"],[0.8888888888888888,\\\"#fdca26\\\"],[1.0,\\\"#f0f921\\\"]]},\\\"yaxis\\\":{\\\"gridcolor\\\":\\\"white\\\",\\\"zerolinewidth\\\":2,\\\"title\\\":{\\\"standoff\\\":15},\\\"ticks\\\":\\\"\\\",\\\"zerolinecolor\\\":\\\"white\\\",\\\"automargin\\\":true,\\\"linecolor\\\":\\\"white\\\"},\\\"shapedefaults\\\":{\\\"line\\\":{\\\"color\\\":\\\"#2a3f5f\\\"}},\\\"hoverlabel\\\":{\\\"align\\\":\\\"left\\\"},\\\"mapbox\\\":{\\\"style\\\":\\\"light\\\"},\\\"polar\\\":{\\\"angularaxis\\\":{\\\"gridcolor\\\":\\\"white\\\",\\\"ticks\\\":\\\"\\\",\\\"linecolor\\\":\\\"white\\\"},\\\"bgcolor\\\":\\\"#E5ECF6\\\",\\\"radialaxis\\\":{\\\"gridcolor\\\":\\\"white\\\",\\\"ticks\\\":\\\"\\\",\\\"linecolor\\\":\\\"white\\\"}},\\\"autotypenumbers\\\":\\\"strict\\\",\\\"font\\\":{\\\"color\\\":\\\"#2a3f5f\\\"},\\\"ternary\\\":{\\\"baxis\\\":{\\\"gridcolor\\\":\\\"white\\\",\\\"ticks\\\":\\\"\\\",\\\"linecolor\\\":\\\"white\\\"},\\\"bgcolor\\\":\\\"#E5ECF6\\\",\\\"caxis\\\":{\\\"gridcolor\\\":\\\"white\\\",\\\"ticks\\\":\\\"\\\",\\\"linecolor\\\":\\\"white\\\"},\\\"aaxis\\\":{\\\"gridcolor\\\":\\\"white\\\",\\\"ticks\\\":\\\"\\\",\\\"linecolor\\\":\\\"white\\\"}},\\\"annotationdefaults\\\":{\\\"arrowhead\\\":0,\\\"arrowwidth\\\":1,\\\"arrowcolor\\\":\\\"#2a3f5f\\\"},\\\"plot_bgcolor\\\":\\\"#E5ECF6\\\",\\\"title\\\":{\\\"x\\\":0.05},\\\"scene\\\":{\\\"xaxis\\\":{\\\"gridcolor\\\":\\\"white\\\",\\\"gridwidth\\\":2,\\\"backgroundcolor\\\":\\\"#E5ECF6\\\",\\\"ticks\\\":\\\"\\\",\\\"showbackground\\\":true,\\\"zerolinecolor\\\":\\\"white\\\",\\\"linecolor\\\":\\\"white\\\"},\\\"zaxis\\\":{\\\"gridcolor\\\":\\\"white\\\",\\\"gridwidth\\\":2,\\\"backgroundcolor\\\":\\\"#E5ECF6\\\",\\\"ticks\\\":\\\"\\\",\\\"showbackground\\\":true,\\\"zerolinecolor\\\":\\\"white\\\",\\\"linecolor\\\":\\\"white\\\"},\\\"yaxis\\\":{\\\"gridcolor\\\":\\\"white\\\",\\\"gridwidth\\\":2,\\\"backgroundcolor\\\":\\\"#E5ECF6\\\",\\\"ticks\\\":\\\"\\\",\\\"showbackground\\\":true,\\\"zerolinecolor\\\":\\\"white\\\",\\\"linecolor\\\":\\\"white\\\"}},\\\"colorway\\\":[\\\"#636efa\\\",\\\"#EF553B\\\",\\\"#00cc96\\\",\\\"#ab63fa\\\",\\\"#FFA15A\\\",\\\"#19d3f3\\\",\\\"#FF6692\\\",\\\"#B6E880\\\",\\\"#FF97FF\\\",\\\"#FECB52\\\"]},\\\"data\\\":{\\\"barpolar\\\":[{\\\"type\\\":\\\"barpolar\\\",\\\"marker\\\":{\\\"line\\\":{\\\"color\\\":\\\"#E5ECF6\\\",\\\"width\\\":0.5}}}],\\\"carpet\\\":[{\\\"aaxis\\\":{\\\"gridcolor\\\":\\\"white\\\",\\\"endlinecolor\\\":\\\"#2a3f5f\\\",\\\"minorgridcolor\\\":\\\"white\\\",\\\"startlinecolor\\\":\\\"#2a3f5f\\\",\\\"linecolor\\\":\\\"white\\\"},\\\"type\\\":\\\"carpet\\\",\\\"baxis\\\":{\\\"gridcolor\\\":\\\"white\\\",\\\"endlinecolor\\\":\\\"#2a3f5f\\\",\\\"minorgridcolor\\\":\\\"white\\\",\\\"startlinecolor\\\":\\\"#2a3f5f\\\",\\\"linecolor\\\":\\\"white\\\"}}],\\\"scatterpolar\\\":[{\\\"type\\\":\\\"scatterpolar\\\",\\\"marker\\\":{\\\"colorbar\\\":{\\\"ticks\\\":\\\"\\\",\\\"outlinewidth\\\":0}}}],\\\"parcoords\\\":[{\\\"line\\\":{\\\"colorbar\\\":{\\\"ticks\\\":\\\"\\\",\\\"outlinewidth\\\":0}},\\\"type\\\":\\\"parcoords\\\"}],\\\"scatter\\\":[{\\\"type\\\":\\\"scatter\\\",\\\"marker\\\":{\\\"colorbar\\\":{\\\"ticks\\\":\\\"\\\",\\\"outlinewidth\\\":0}}}],\\\"histogram2dcontour\\\":[{\\\"colorbar\\\":{\\\"ticks\\\":\\\"\\\",\\\"outlinewidth\\\":0},\\\"type\\\":\\\"histogram2dcontour\\\",\\\"colorscale\\\":[[0.0,\\\"#0d0887\\\"],[0.1111111111111111,\\\"#46039f\\\"],[0.2222222222222222,\\\"#7201a8\\\"],[0.3333333333333333,\\\"#9c179e\\\"],[0.4444444444444444,\\\"#bd3786\\\"],[0.5555555555555556,\\\"#d8576b\\\"],[0.6666666666666666,\\\"#ed7953\\\"],[0.7777777777777778,\\\"#fb9f3a\\\"],[0.8888888888888888,\\\"#fdca26\\\"],[1.0,\\\"#f0f921\\\"]]}],\\\"contour\\\":[{\\\"colorbar\\\":{\\\"ticks\\\":\\\"\\\",\\\"outlinewidth\\\":0},\\\"type\\\":\\\"contour\\\",\\\"colorscale\\\":[[0.0,\\\"#0d0887\\\"],[0.1111111111111111,\\\"#46039f\\\"],[0.2222222222222222,\\\"#7201a8\\\"],[0.3333333333333333,\\\"#9c179e\\\"],[0.4444444444444444,\\\"#bd3786\\\"],[0.5555555555555556,\\\"#d8576b\\\"],[0.6666666666666666,\\\"#ed7953\\\"],[0.7777777777777778,\\\"#fb9f3a\\\"],[0.8888888888888888,\\\"#fdca26\\\"],[1.0,\\\"#f0f921\\\"]]}],\\\"scattercarpet\\\":[{\\\"type\\\":\\\"scattercarpet\\\",\\\"marker\\\":{\\\"colorbar\\\":{\\\"ticks\\\":\\\"\\\",\\\"outlinewidth\\\":0}}}],\\\"mesh3d\\\":[{\\\"colorbar\\\":{\\\"ticks\\\":\\\"\\\",\\\"outlinewidth\\\":0},\\\"type\\\":\\\"mesh3d\\\"}],\\\"surface\\\":[{\\\"colorbar\\\":{\\\"ticks\\\":\\\"\\\",\\\"outlinewidth\\\":0},\\\"type\\\":\\\"surface\\\",\\\"colorscale\\\":[[0.0,\\\"#0d0887\\\"],[0.1111111111111111,\\\"#46039f\\\"],[0.2222222222222222,\\\"#7201a8\\\"],[0.3333333333333333,\\\"#9c179e\\\"],[0.4444444444444444,\\\"#bd3786\\\"],[0.5555555555555556,\\\"#d8576b\\\"],[0.6666666666666666,\\\"#ed7953\\\"],[0.7777777777777778,\\\"#fb9f3a\\\"],[0.8888888888888888,\\\"#fdca26\\\"],[1.0,\\\"#f0f921\\\"]]}],\\\"scattermapbox\\\":[{\\\"type\\\":\\\"scattermapbox\\\",\\\"marker\\\":{\\\"colorbar\\\":{\\\"ticks\\\":\\\"\\\",\\\"outlinewidth\\\":0}}}],\\\"scattergeo\\\":[{\\\"type\\\":\\\"scattergeo\\\",\\\"marker\\\":{\\\"colorbar\\\":{\\\"ticks\\\":\\\"\\\",\\\"outlinewidth\\\":0}}}],\\\"histogram\\\":[{\\\"type\\\":\\\"histogram\\\",\\\"marker\\\":{\\\"colorbar\\\":{\\\"ticks\\\":\\\"\\\",\\\"outlinewidth\\\":0}}}],\\\"pie\\\":[{\\\"type\\\":\\\"pie\\\",\\\"automargin\\\":true}],\\\"choropleth\\\":[{\\\"colorbar\\\":{\\\"ticks\\\":\\\"\\\",\\\"outlinewidth\\\":0},\\\"type\\\":\\\"choropleth\\\"}],\\\"heatmapgl\\\":[{\\\"colorbar\\\":{\\\"ticks\\\":\\\"\\\",\\\"outlinewidth\\\":0},\\\"type\\\":\\\"heatmapgl\\\",\\\"colorscale\\\":[[0.0,\\\"#0d0887\\\"],[0.1111111111111111,\\\"#46039f\\\"],[0.2222222222222222,\\\"#7201a8\\\"],[0.3333333333333333,\\\"#9c179e\\\"],[0.4444444444444444,\\\"#bd3786\\\"],[0.5555555555555556,\\\"#d8576b\\\"],[0.6666666666666666,\\\"#ed7953\\\"],[0.7777777777777778,\\\"#fb9f3a\\\"],[0.8888888888888888,\\\"#fdca26\\\"],[1.0,\\\"#f0f921\\\"]]}],\\\"bar\\\":[{\\\"type\\\":\\\"bar\\\",\\\"error_y\\\":{\\\"color\\\":\\\"#2a3f5f\\\"},\\\"error_x\\\":{\\\"color\\\":\\\"#2a3f5f\\\"},\\\"marker\\\":{\\\"line\\\":{\\\"color\\\":\\\"#E5ECF6\\\",\\\"width\\\":0.5}}}],\\\"heatmap\\\":[{\\\"colorbar\\\":{\\\"ticks\\\":\\\"\\\",\\\"outlinewidth\\\":0},\\\"type\\\":\\\"heatmap\\\",\\\"colorscale\\\":[[0.0,\\\"#0d0887\\\"],[0.1111111111111111,\\\"#46039f\\\"],[0.2222222222222222,\\\"#7201a8\\\"],[0.3333333333333333,\\\"#9c179e\\\"],[0.4444444444444444,\\\"#bd3786\\\"],[0.5555555555555556,\\\"#d8576b\\\"],[0.6666666666666666,\\\"#ed7953\\\"],[0.7777777777777778,\\\"#fb9f3a\\\"],[0.8888888888888888,\\\"#fdca26\\\"],[1.0,\\\"#f0f921\\\"]]}],\\\"contourcarpet\\\":[{\\\"colorbar\\\":{\\\"ticks\\\":\\\"\\\",\\\"outlinewidth\\\":0},\\\"type\\\":\\\"contourcarpet\\\"}],\\\"table\\\":[{\\\"type\\\":\\\"table\\\",\\\"header\\\":{\\\"line\\\":{\\\"color\\\":\\\"white\\\"},\\\"fill\\\":{\\\"color\\\":\\\"#C8D4E3\\\"}},\\\"cells\\\":{\\\"line\\\":{\\\"color\\\":\\\"white\\\"},\\\"fill\\\":{\\\"color\\\":\\\"#EBF0F8\\\"}}}],\\\"scatter3d\\\":[{\\\"line\\\":{\\\"colorbar\\\":{\\\"ticks\\\":\\\"\\\",\\\"outlinewidth\\\":0}},\\\"type\\\":\\\"scatter3d\\\",\\\"marker\\\":{\\\"colorbar\\\":{\\\"ticks\\\":\\\"\\\",\\\"outlinewidth\\\":0}}}],\\\"scattergl\\\":[{\\\"type\\\":\\\"scattergl\\\",\\\"marker\\\":{\\\"colorbar\\\":{\\\"ticks\\\":\\\"\\\",\\\"outlinewidth\\\":0}}}],\\\"histogram2d\\\":[{\\\"colorbar\\\":{\\\"ticks\\\":\\\"\\\",\\\"outlinewidth\\\":0},\\\"type\\\":\\\"histogram2d\\\",\\\"colorscale\\\":[[0.0,\\\"#0d0887\\\"],[0.1111111111111111,\\\"#46039f\\\"],[0.2222222222222222,\\\"#7201a8\\\"],[0.3333333333333333,\\\"#9c179e\\\"],[0.4444444444444444,\\\"#bd3786\\\"],[0.5555555555555556,\\\"#d8576b\\\"],[0.6666666666666666,\\\"#ed7953\\\"],[0.7777777777777778,\\\"#fb9f3a\\\"],[0.8888888888888888,\\\"#fdca26\\\"],[1.0,\\\"#f0f921\\\"]]}],\\\"scatterternary\\\":[{\\\"type\\\":\\\"scatterternary\\\",\\\"marker\\\":{\\\"colorbar\\\":{\\\"ticks\\\":\\\"\\\",\\\"outlinewidth\\\":0}}}],\\\"scatterpolargl\\\":[{\\\"type\\\":\\\"scatterpolargl\\\",\\\"marker\\\":{\\\"colorbar\\\":{\\\"ticks\\\":\\\"\\\",\\\"outlinewidth\\\":0}}}]}},\\\"margin\\\":{\\\"l\\\":50,\\\"b\\\":50,\\\"r\\\":50,\\\"t\\\":60}},{\\\"showLink\\\":false,\\\"editable\\\":false,\\\"responsive\\\":true,\\\"staticPlot\\\":false,\\\"scrollZoom\\\":true}); gd.on(\\\"plotly_hover\\\",(function (data){var filtered_data=WebIO.PlotlyCommands.filterEventData(gd,data,\\\"hover\\\"); return !(filtered_data.isnil) ? (WebIO.setval({\\\"name\\\":\\\"hover\\\",\\\"scope\\\":\\\"11465261351267226403\\\",\\\"id\\\":\\\"7392636568610668397\\\",\\\"type\\\":\\\"observable\\\"},filtered_data.out)) : undefined})); gd.on(\\\"plotly_unhover\\\",(function (){return WebIO.setval({\\\"name\\\":\\\"hover\\\",\\\"scope\\\":\\\"11465261351267226403\\\",\\\"id\\\":\\\"7392636568610668397\\\",\\\"type\\\":\\\"observable\\\"},{})})); gd.on(\\\"plotly_selected\\\",(function (data){var filtered_data=WebIO.PlotlyCommands.filterEventData(gd,data,\\\"selected\\\"); return !(filtered_data.isnil) ? (WebIO.setval({\\\"name\\\":\\\"selected\\\",\\\"scope\\\":\\\"11465261351267226403\\\",\\\"id\\\":\\\"13042346591609524630\\\",\\\"type\\\":\\\"observable\\\"},filtered_data.out)) : undefined})); gd.on(\\\"plotly_deselect\\\",(function (){return WebIO.setval({\\\"name\\\":\\\"selected\\\",\\\"scope\\\":\\\"11465261351267226403\\\",\\\"id\\\":\\\"13042346591609524630\\\",\\\"type\\\":\\\"observable\\\"},{})})); gd.on(\\\"plotly_relayout\\\",(function (data){var filtered_data=WebIO.PlotlyCommands.filterEventData(gd,data,\\\"relayout\\\"); return !(filtered_data.isnil) ? (WebIO.setval({\\\"name\\\":\\\"relayout\\\",\\\"scope\\\":\\\"11465261351267226403\\\",\\\"id\\\":\\\"15489502564396155910\\\",\\\"type\\\":\\\"observable\\\"},filtered_data.out)) : undefined})); return gd.on(\\\"plotly_click\\\",(function (data){var filtered_data=WebIO.PlotlyCommands.filterEventData(gd,data,\\\"click\\\"); return !(filtered_data.isnil) ? (WebIO.setval({\\\"name\\\":\\\"click\\\",\\\"scope\\\":\\\"11465261351267226403\\\",\\\"id\\\":\\\"7981922623962812736\\\",\\\"type\\\":\\\"observable\\\"},filtered_data.out)) : undefined}))}));\\n    (WebIO.importBlock({\\\"data\\\":[{\\\"name\\\":\\\"Plotly\\\",\\\"type\\\":\\\"js\\\",\\\"url\\\":\\\"\\/assetserver\\/0920e676c106f32ba509e3957ec7f2e1975e6dda-plotly.min.js\\\"},{\\\"name\\\":null,\\\"type\\\":\\\"js\\\",\\\"url\\\":\\\"\\/assetserver\\/a5a7489247caefe55cf69adf7b5b90ef582ba49e-plotly_webio.bundle.js\\\"}],\\\"type\\\":\\\"async_block\\\"})).then((imports) => handler.apply(this, imports));\\n}\\n\"],\"observables\":{\"_toImage\":{\"sync\":false,\"id\":\"3469393254971459046\",\"value\":{}},\"hover\":{\"sync\":false,\"id\":\"7392636568610668397\",\"value\":{}},\"selected\":{\"sync\":false,\"id\":\"13042346591609524630\",\"value\":{}},\"__gd_contents\":{\"sync\":false,\"id\":\"12132194700633745909\",\"value\":{}},\"click\":{\"sync\":false,\"id\":\"7981922623962812736\",\"value\":{}},\"image\":{\"sync\":true,\"id\":\"10876030185317667016\",\"value\":\"\"},\"__get_gd_contents\":{\"sync\":false,\"id\":\"6596153886279381018\",\"value\":\"\"},\"_downloadImage\":{\"sync\":false,\"id\":\"14892460624885021440\",\"value\":{}},\"relayout\":{\"sync\":false,\"id\":\"15489502564396155910\",\"value\":{}},\"_commands\":{\"sync\":false,\"id\":\"4528940792372153724\",\"value\":[]}}},\"children\":[{\"props\":{\"id\":\"plot-d312c382-d129-45c3-b77a-1c1d06b9f55a\"},\"nodeType\":\"DOM\",\"type\":\"node\",\"instanceArgs\":{\"namespace\":\"html\",\"tag\":\"div\"},\"children\":[]}]},\n",
       "        window,\n",
       "    );\n",
       "    })()\n",
       "    </script>\n",
       "</div>\n"
      ],
      "text/plain": [
       "data: [\n",
       "  \"sankey with fields link, node, and type\"\n",
       "]\n",
       "\n",
       "layout: \"layout with fields margin and template\"\n",
       "\n"
      ]
     },
     "execution_count": 11,
     "metadata": {},
     "output_type": "execute_result"
    }
   ],
   "source": [
    "answer = vivi(problem)\n",
    "vivi_sankey(answer,valueIndex=1) # Ploting a Sankey diagram of the energy balance (HHV basis)"
   ]
  },
  {
   "cell_type": "markdown",
   "id": "00c4db18",
   "metadata": {},
   "source": [
    "**Understanding the answer**\n",
    "\n",
    "The optimization problem calculates the sizing factors for each of the technologies to achieve the desired constraints in the problem that minimizes the objective function:\n",
    "\n",
    " $$ \\min_{\\gamma_t} \\sum_o c_o r_o - \\sum_i c_i r_i $$\n",
    "\n",
    " In which,\n",
    " * $\\gamma_t$: size factor of technology\n",
    " * $c_o$ and $c_i$: specific cost of output \"o\" and input \"i\", respectively\n",
    " * $r_o$ and $r_i$: rate of output \"o\" and input \"i\", respectively"
   ]
  },
  {
   "cell_type": "markdown",
   "id": "7d2cb770",
   "metadata": {},
   "source": [
    "**But, what is being optimized?**\n",
    "\n",
    "In this case, heat integration is being optimized to minize the extra power required to supply heat for the system. Traditionally this is can be done by trial and error or heuristics, but here this design phase is automated by the optimization problem. This can be observed by viewing the composite curves of the answer:"
   ]
  },
  {
   "cell_type": "code",
   "execution_count": 12,
   "id": "911f1165",
   "metadata": {},
   "outputs": [
    {
     "data": {
      "image/svg+xml": [
       "<?xml version=\"1.0\" encoding=\"utf-8\"?>\n",
       "<svg xmlns=\"http://www.w3.org/2000/svg\" xmlns:xlink=\"http://www.w3.org/1999/xlink\" width=\"600\" height=\"400\" viewBox=\"0 0 2400 1600\">\n",
       "<defs>\n",
       "  <clipPath id=\"clip670\">\n",
       "    <rect x=\"0\" y=\"0\" width=\"2400\" height=\"1600\"/>\n",
       "  </clipPath>\n",
       "</defs>\n",
       "<path clip-path=\"url(#clip670)\" d=\"M0 1600 L2400 1600 L2400 0 L0 0  Z\" fill=\"#ffffff\" fill-rule=\"evenodd\" fill-opacity=\"1\"/>\n",
       "<defs>\n",
       "  <clipPath id=\"clip671\">\n",
       "    <rect x=\"480\" y=\"0\" width=\"1681\" height=\"1600\"/>\n",
       "  </clipPath>\n",
       "</defs>\n",
       "<path clip-path=\"url(#clip670)\" d=\"M250.447 1418.86 L2352.76 1418.86 L2352.76 47.2441 L250.447 47.2441  Z\" fill=\"#ffffff\" fill-rule=\"evenodd\" fill-opacity=\"1\"/>\n",
       "<defs>\n",
       "  <clipPath id=\"clip672\">\n",
       "    <rect x=\"250\" y=\"47\" width=\"2103\" height=\"1373\"/>\n",
       "  </clipPath>\n",
       "</defs>\n",
       "<polyline clip-path=\"url(#clip672)\" style=\"stroke:#000000; stroke-linecap:round; stroke-linejoin:round; stroke-width:2.8; stroke-opacity:0.4; fill:none\" points=\"309.947,1418.86 309.947,47.2441 \"/>\n",
       "<polyline clip-path=\"url(#clip672)\" style=\"stroke:#000000; stroke-linecap:round; stroke-linejoin:round; stroke-width:2.8; stroke-opacity:0.4; fill:none\" points=\"874.93,1418.86 874.93,47.2441 \"/>\n",
       "<polyline clip-path=\"url(#clip672)\" style=\"stroke:#000000; stroke-linecap:round; stroke-linejoin:round; stroke-width:2.8; stroke-opacity:0.4; fill:none\" points=\"1439.91,1418.86 1439.91,47.2441 \"/>\n",
       "<polyline clip-path=\"url(#clip672)\" style=\"stroke:#000000; stroke-linecap:round; stroke-linejoin:round; stroke-width:2.8; stroke-opacity:0.4; fill:none\" points=\"2004.9,1418.86 2004.9,47.2441 \"/>\n",
       "<polyline clip-path=\"url(#clip672)\" style=\"stroke:#000000; stroke-linecap:round; stroke-linejoin:round; stroke-width:2; stroke-opacity:0.06; fill:none\" points=\"422.943,1418.86 422.943,47.2441 \"/>\n",
       "<polyline clip-path=\"url(#clip672)\" style=\"stroke:#000000; stroke-linecap:round; stroke-linejoin:round; stroke-width:2; stroke-opacity:0.06; fill:none\" points=\"535.94,1418.86 535.94,47.2441 \"/>\n",
       "<polyline clip-path=\"url(#clip672)\" style=\"stroke:#000000; stroke-linecap:round; stroke-linejoin:round; stroke-width:2; stroke-opacity:0.06; fill:none\" points=\"648.937,1418.86 648.937,47.2441 \"/>\n",
       "<polyline clip-path=\"url(#clip672)\" style=\"stroke:#000000; stroke-linecap:round; stroke-linejoin:round; stroke-width:2; stroke-opacity:0.06; fill:none\" points=\"761.933,1418.86 761.933,47.2441 \"/>\n",
       "<polyline clip-path=\"url(#clip672)\" style=\"stroke:#000000; stroke-linecap:round; stroke-linejoin:round; stroke-width:2; stroke-opacity:0.06; fill:none\" points=\"987.927,1418.86 987.927,47.2441 \"/>\n",
       "<polyline clip-path=\"url(#clip672)\" style=\"stroke:#000000; stroke-linecap:round; stroke-linejoin:round; stroke-width:2; stroke-opacity:0.06; fill:none\" points=\"1100.92,1418.86 1100.92,47.2441 \"/>\n",
       "<polyline clip-path=\"url(#clip672)\" style=\"stroke:#000000; stroke-linecap:round; stroke-linejoin:round; stroke-width:2; stroke-opacity:0.06; fill:none\" points=\"1213.92,1418.86 1213.92,47.2441 \"/>\n",
       "<polyline clip-path=\"url(#clip672)\" style=\"stroke:#000000; stroke-linecap:round; stroke-linejoin:round; stroke-width:2; stroke-opacity:0.06; fill:none\" points=\"1326.92,1418.86 1326.92,47.2441 \"/>\n",
       "<polyline clip-path=\"url(#clip672)\" style=\"stroke:#000000; stroke-linecap:round; stroke-linejoin:round; stroke-width:2; stroke-opacity:0.06; fill:none\" points=\"1552.91,1418.86 1552.91,47.2441 \"/>\n",
       "<polyline clip-path=\"url(#clip672)\" style=\"stroke:#000000; stroke-linecap:round; stroke-linejoin:round; stroke-width:2; stroke-opacity:0.06; fill:none\" points=\"1665.91,1418.86 1665.91,47.2441 \"/>\n",
       "<polyline clip-path=\"url(#clip672)\" style=\"stroke:#000000; stroke-linecap:round; stroke-linejoin:round; stroke-width:2; stroke-opacity:0.06; fill:none\" points=\"1778.9,1418.86 1778.9,47.2441 \"/>\n",
       "<polyline clip-path=\"url(#clip672)\" style=\"stroke:#000000; stroke-linecap:round; stroke-linejoin:round; stroke-width:2; stroke-opacity:0.06; fill:none\" points=\"1891.9,1418.86 1891.9,47.2441 \"/>\n",
       "<polyline clip-path=\"url(#clip672)\" style=\"stroke:#000000; stroke-linecap:round; stroke-linejoin:round; stroke-width:2; stroke-opacity:0.06; fill:none\" points=\"2117.89,1418.86 2117.89,47.2441 \"/>\n",
       "<polyline clip-path=\"url(#clip672)\" style=\"stroke:#000000; stroke-linecap:round; stroke-linejoin:round; stroke-width:2; stroke-opacity:0.06; fill:none\" points=\"2230.89,1418.86 2230.89,47.2441 \"/>\n",
       "<polyline clip-path=\"url(#clip672)\" style=\"stroke:#000000; stroke-linecap:round; stroke-linejoin:round; stroke-width:2; stroke-opacity:0.06; fill:none\" points=\"2343.89,1418.86 2343.89,47.2441 \"/>\n",
       "<polyline clip-path=\"url(#clip670)\" style=\"stroke:#000000; stroke-linecap:round; stroke-linejoin:round; stroke-width:4; stroke-opacity:1; fill:none\" points=\"250.447,1418.86 2352.76,1418.86 \"/>\n",
       "<polyline clip-path=\"url(#clip670)\" style=\"stroke:#000000; stroke-linecap:round; stroke-linejoin:round; stroke-width:4; stroke-opacity:1; fill:none\" points=\"250.447,47.2441 2352.76,47.2441 \"/>\n",
       "<polyline clip-path=\"url(#clip670)\" style=\"stroke:#000000; stroke-linecap:round; stroke-linejoin:round; stroke-width:4; stroke-opacity:1; fill:none\" points=\"309.947,1418.86 309.947,1399.96 \"/>\n",
       "<polyline clip-path=\"url(#clip670)\" style=\"stroke:#000000; stroke-linecap:round; stroke-linejoin:round; stroke-width:4; stroke-opacity:1; fill:none\" points=\"874.93,1418.86 874.93,1399.96 \"/>\n",
       "<polyline clip-path=\"url(#clip670)\" style=\"stroke:#000000; stroke-linecap:round; stroke-linejoin:round; stroke-width:4; stroke-opacity:1; fill:none\" points=\"1439.91,1418.86 1439.91,1399.96 \"/>\n",
       "<polyline clip-path=\"url(#clip670)\" style=\"stroke:#000000; stroke-linecap:round; stroke-linejoin:round; stroke-width:4; stroke-opacity:1; fill:none\" points=\"2004.9,1418.86 2004.9,1399.96 \"/>\n",
       "<polyline clip-path=\"url(#clip670)\" style=\"stroke:#000000; stroke-linecap:round; stroke-linejoin:round; stroke-width:4; stroke-opacity:1; fill:none\" points=\"422.943,1418.86 422.943,1409.41 \"/>\n",
       "<polyline clip-path=\"url(#clip670)\" style=\"stroke:#000000; stroke-linecap:round; stroke-linejoin:round; stroke-width:4; stroke-opacity:1; fill:none\" points=\"535.94,1418.86 535.94,1409.41 \"/>\n",
       "<polyline clip-path=\"url(#clip670)\" style=\"stroke:#000000; stroke-linecap:round; stroke-linejoin:round; stroke-width:4; stroke-opacity:1; fill:none\" points=\"648.937,1418.86 648.937,1409.41 \"/>\n",
       "<polyline clip-path=\"url(#clip670)\" style=\"stroke:#000000; stroke-linecap:round; stroke-linejoin:round; stroke-width:4; stroke-opacity:1; fill:none\" points=\"761.933,1418.86 761.933,1409.41 \"/>\n",
       "<polyline clip-path=\"url(#clip670)\" style=\"stroke:#000000; stroke-linecap:round; stroke-linejoin:round; stroke-width:4; stroke-opacity:1; fill:none\" points=\"987.927,1418.86 987.927,1409.41 \"/>\n",
       "<polyline clip-path=\"url(#clip670)\" style=\"stroke:#000000; stroke-linecap:round; stroke-linejoin:round; stroke-width:4; stroke-opacity:1; fill:none\" points=\"1100.92,1418.86 1100.92,1409.41 \"/>\n",
       "<polyline clip-path=\"url(#clip670)\" style=\"stroke:#000000; stroke-linecap:round; stroke-linejoin:round; stroke-width:4; stroke-opacity:1; fill:none\" points=\"1213.92,1418.86 1213.92,1409.41 \"/>\n",
       "<polyline clip-path=\"url(#clip670)\" style=\"stroke:#000000; stroke-linecap:round; stroke-linejoin:round; stroke-width:4; stroke-opacity:1; fill:none\" points=\"1326.92,1418.86 1326.92,1409.41 \"/>\n",
       "<polyline clip-path=\"url(#clip670)\" style=\"stroke:#000000; stroke-linecap:round; stroke-linejoin:round; stroke-width:4; stroke-opacity:1; fill:none\" points=\"1552.91,1418.86 1552.91,1409.41 \"/>\n",
       "<polyline clip-path=\"url(#clip670)\" style=\"stroke:#000000; stroke-linecap:round; stroke-linejoin:round; stroke-width:4; stroke-opacity:1; fill:none\" points=\"1665.91,1418.86 1665.91,1409.41 \"/>\n",
       "<polyline clip-path=\"url(#clip670)\" style=\"stroke:#000000; stroke-linecap:round; stroke-linejoin:round; stroke-width:4; stroke-opacity:1; fill:none\" points=\"1778.9,1418.86 1778.9,1409.41 \"/>\n",
       "<polyline clip-path=\"url(#clip670)\" style=\"stroke:#000000; stroke-linecap:round; stroke-linejoin:round; stroke-width:4; stroke-opacity:1; fill:none\" points=\"1891.9,1418.86 1891.9,1409.41 \"/>\n",
       "<polyline clip-path=\"url(#clip670)\" style=\"stroke:#000000; stroke-linecap:round; stroke-linejoin:round; stroke-width:4; stroke-opacity:1; fill:none\" points=\"2117.89,1418.86 2117.89,1409.41 \"/>\n",
       "<polyline clip-path=\"url(#clip670)\" style=\"stroke:#000000; stroke-linecap:round; stroke-linejoin:round; stroke-width:4; stroke-opacity:1; fill:none\" points=\"2230.89,1418.86 2230.89,1409.41 \"/>\n",
       "<polyline clip-path=\"url(#clip670)\" style=\"stroke:#000000; stroke-linecap:round; stroke-linejoin:round; stroke-width:4; stroke-opacity:1; fill:none\" points=\"2343.89,1418.86 2343.89,1409.41 \"/>\n",
       "<path clip-path=\"url(#clip670)\" d=\"M299.3 1465.08 Q299.3 1457.64 301.177 1453.59 Q303.796 1447.56 309.971 1447.56 Q311.281 1447.56 312.639 1447.94 Q314.023 1448.28 315.752 1449.64 Q317.506 1451 318.568 1453.22 Q320.594 1457.52 320.594 1465.08 Q320.594 1472.47 318.716 1476.49 Q315.974 1482.37 309.922 1482.37 Q307.649 1482.37 305.327 1481.21 Q303.03 1480.05 301.572 1477.26 Q299.3 1473.08 299.3 1465.08 M303.499 1464.46 Q303.499 1472.09 304.043 1475.13 Q304.66 1478.42 306.34 1479.85 Q308.045 1481.26 309.922 1481.26 Q311.948 1481.26 313.627 1479.75 Q315.332 1478.22 315.851 1474.94 Q316.419 1471.7 316.394 1464.46 Q316.394 1457.42 315.9 1454.6 Q315.233 1451.32 313.455 1450.01 Q311.701 1448.68 309.922 1448.68 Q309.255 1448.68 308.539 1448.87 Q307.847 1449.07 306.834 1449.64 Q305.821 1450.21 305.031 1451.62 Q304.265 1453.02 303.894 1455.15 Q303.499 1457.89 303.499 1464.46 Z\" fill=\"#000000\" fill-rule=\"nonzero\" fill-opacity=\"1\" /><path clip-path=\"url(#clip670)\" d=\"M864.826 1473.11 Q864.826 1471.6 865.641 1471.03 Q866.457 1470.44 867.321 1470.44 Q868.482 1470.44 869.149 1471.18 Q869.841 1471.9 869.841 1472.91 Q869.841 1473.92 869.149 1474.66 Q868.482 1475.38 867.321 1475.38 Q866.753 1475.38 866.457 1475.28 Q867.124 1477.6 869.149 1479.28 Q871.2 1480.96 873.892 1480.96 Q877.277 1480.96 879.302 1477.68 Q880.513 1475.55 880.513 1470.74 Q880.513 1466.49 879.599 1464.36 Q878.191 1461.13 875.3 1461.13 Q871.2 1461.13 868.779 1464.66 Q868.482 1465.1 868.136 1465.13 Q867.642 1465.13 867.519 1464.86 Q867.42 1464.56 867.42 1463.79 L867.42 1448.82 Q867.42 1447.61 867.914 1447.61 Q868.112 1447.61 868.532 1447.76 Q871.718 1449.17 875.251 1449.19 Q878.882 1449.19 882.143 1447.71 Q882.39 1447.56 882.539 1447.56 Q883.033 1447.56 883.057 1448.13 Q883.057 1448.33 882.637 1448.92 Q882.242 1449.49 881.377 1450.26 Q880.513 1451 879.401 1451.71 Q878.29 1452.43 876.659 1452.93 Q875.053 1453.39 873.275 1453.39 Q871.15 1453.39 868.976 1452.73 L868.976 1462.58 Q871.595 1460.01 875.399 1460.01 Q879.451 1460.01 882.242 1463.28 Q885.034 1466.54 885.034 1471.08 Q885.034 1475.85 881.723 1479.11 Q878.438 1482.37 873.991 1482.37 Q869.94 1482.37 867.371 1479.48 Q864.826 1476.59 864.826 1473.11 Z\" fill=\"#000000\" fill-rule=\"nonzero\" fill-opacity=\"1\" /><path clip-path=\"url(#clip670)\" d=\"M1417.88 1452.38 L1417.88 1450.8 Q1423.95 1450.8 1427.09 1447.56 Q1427.96 1447.56 1428.1 1447.76 Q1428.25 1447.96 1428.25 1448.87 L1428.25 1477.26 Q1428.25 1478.76 1428.99 1479.23 Q1429.74 1479.7 1432.97 1479.7 L1434.58 1479.7 L1434.58 1481.26 Q1432.8 1481.11 1426.38 1481.11 Q1419.95 1481.11 1418.2 1481.26 L1418.2 1479.7 L1419.8 1479.7 Q1422.99 1479.7 1423.76 1479.26 Q1424.52 1478.79 1424.52 1477.26 L1424.52 1451.05 Q1421.88 1452.38 1417.88 1452.38 Z\" fill=\"#000000\" fill-rule=\"nonzero\" fill-opacity=\"1\" /><path clip-path=\"url(#clip670)\" d=\"M1440.65 1465.08 Q1440.65 1457.64 1442.53 1453.59 Q1445.15 1447.56 1451.33 1447.56 Q1452.64 1447.56 1453.99 1447.94 Q1455.38 1448.28 1457.11 1449.64 Q1458.86 1451 1459.92 1453.22 Q1461.95 1457.52 1461.95 1465.08 Q1461.95 1472.47 1460.07 1476.49 Q1457.33 1482.37 1451.28 1482.37 Q1449 1482.37 1446.68 1481.21 Q1444.38 1480.05 1442.93 1477.26 Q1440.65 1473.08 1440.65 1465.08 M1444.85 1464.46 Q1444.85 1472.09 1445.4 1475.13 Q1446.01 1478.42 1447.69 1479.85 Q1449.4 1481.26 1451.28 1481.26 Q1453.3 1481.26 1454.98 1479.75 Q1456.69 1478.22 1457.21 1474.94 Q1457.77 1471.7 1457.75 1464.46 Q1457.75 1457.42 1457.25 1454.6 Q1456.59 1451.32 1454.81 1450.01 Q1453.06 1448.68 1451.28 1448.68 Q1450.61 1448.68 1449.89 1448.87 Q1449.2 1449.07 1448.19 1449.64 Q1447.18 1450.21 1446.39 1451.62 Q1445.62 1453.02 1445.25 1455.15 Q1444.85 1457.89 1444.85 1464.46 Z\" fill=\"#000000\" fill-rule=\"nonzero\" fill-opacity=\"1\" /><path clip-path=\"url(#clip670)\" d=\"M1983.13 1452.38 L1983.13 1450.8 Q1989.21 1450.8 1992.35 1447.56 Q1993.21 1447.56 1993.36 1447.76 Q1993.51 1447.96 1993.51 1448.87 L1993.51 1477.26 Q1993.51 1478.76 1994.25 1479.23 Q1994.99 1479.7 1998.23 1479.7 L1999.83 1479.7 L1999.83 1481.26 Q1998.05 1481.11 1991.63 1481.11 Q1985.21 1481.11 1983.45 1481.26 L1983.45 1479.7 L1985.06 1479.7 Q1988.25 1479.7 1989.01 1479.26 Q1989.78 1478.79 1989.78 1477.26 L1989.78 1451.05 Q1987.13 1452.38 1983.13 1452.38 Z\" fill=\"#000000\" fill-rule=\"nonzero\" fill-opacity=\"1\" /><path clip-path=\"url(#clip670)\" d=\"M2006.45 1473.11 Q2006.45 1471.6 2007.27 1471.03 Q2008.08 1470.44 2008.95 1470.44 Q2010.11 1470.44 2010.78 1471.18 Q2011.47 1471.9 2011.47 1472.91 Q2011.47 1473.92 2010.78 1474.66 Q2010.11 1475.38 2008.95 1475.38 Q2008.38 1475.38 2008.08 1475.28 Q2008.75 1477.6 2010.78 1479.28 Q2012.83 1480.96 2015.52 1480.96 Q2018.9 1480.96 2020.93 1477.68 Q2022.14 1475.55 2022.14 1470.74 Q2022.14 1466.49 2021.23 1464.36 Q2019.82 1461.13 2016.93 1461.13 Q2012.83 1461.13 2010.41 1464.66 Q2010.11 1465.1 2009.76 1465.13 Q2009.27 1465.13 2009.15 1464.86 Q2009.05 1464.56 2009.05 1463.79 L2009.05 1448.82 Q2009.05 1447.61 2009.54 1447.61 Q2009.74 1447.61 2010.16 1447.76 Q2013.34 1449.17 2016.88 1449.19 Q2020.51 1449.19 2023.77 1447.71 Q2024.02 1447.56 2024.16 1447.56 Q2024.66 1447.56 2024.68 1448.13 Q2024.68 1448.33 2024.26 1448.92 Q2023.87 1449.49 2023 1450.26 Q2022.14 1451 2021.03 1451.71 Q2019.92 1452.43 2018.29 1452.93 Q2016.68 1453.39 2014.9 1453.39 Q2012.78 1453.39 2010.6 1452.73 L2010.6 1462.58 Q2013.22 1460.01 2017.03 1460.01 Q2021.08 1460.01 2023.87 1463.28 Q2026.66 1466.54 2026.66 1471.08 Q2026.66 1475.85 2023.35 1479.11 Q2020.06 1482.37 2015.62 1482.37 Q2011.57 1482.37 2009 1479.48 Q2006.45 1476.59 2006.45 1473.11 Z\" fill=\"#000000\" fill-rule=\"nonzero\" fill-opacity=\"1\" /><path clip-path=\"url(#clip670)\" d=\"M1038.38 1568.91 L1038.38 1566.57 L1040.2 1566.57 Q1044.31 1566.57 1045.24 1565.91 Q1046.2 1565.2 1046.2 1562.98 L1046.2 1523 Q1046.2 1520.81 1045.24 1520.14 Q1044.27 1519.44 1040.2 1519.44 L1038.38 1519.44 L1038.38 1517.07 Q1041.05 1517.29 1049.61 1517.29 Q1058.09 1517.29 1060.76 1517.07 L1060.76 1519.44 L1058.95 1519.44 Q1054.83 1519.44 1053.87 1520.14 Q1052.94 1520.81 1052.94 1523 L1052.94 1540.75 L1075.62 1540.75 L1075.62 1523 Q1075.62 1520.81 1074.66 1520.14 Q1073.73 1519.44 1069.62 1519.44 L1067.8 1519.44 L1067.8 1517.07 Q1070.47 1517.29 1079.03 1517.29 Q1087.52 1517.29 1090.18 1517.07 L1090.18 1519.44 L1088.37 1519.44 Q1084.26 1519.44 1083.29 1520.14 Q1082.37 1520.81 1082.37 1523 L1082.37 1562.98 Q1082.37 1565.17 1083.33 1565.87 Q1084.29 1566.57 1088.37 1566.57 L1090.18 1566.57 L1090.18 1568.91 Q1087.52 1568.69 1078.96 1568.69 Q1070.47 1568.69 1067.8 1568.91 L1067.8 1566.57 L1069.62 1566.57 Q1073.73 1566.57 1074.66 1565.91 Q1075.62 1565.2 1075.62 1562.98 L1075.62 1543.12 L1052.94 1543.12 L1052.94 1562.98 Q1052.94 1565.17 1053.87 1565.87 Q1054.83 1566.57 1058.95 1566.57 L1060.76 1566.57 L1060.76 1568.91 Q1058.09 1568.69 1049.53 1568.69 Q1041.05 1568.69 1038.38 1568.91 Z\" fill=\"#000000\" fill-rule=\"nonzero\" fill-opacity=\"1\" /><path clip-path=\"url(#clip670)\" d=\"M1094.89 1552.2 Q1094.89 1545.04 1099.48 1539.97 Q1104.08 1534.89 1110.68 1534.89 Q1117.35 1534.89 1120.79 1539.23 Q1124.27 1543.56 1124.27 1549.79 Q1124.27 1550.94 1123.98 1551.16 Q1123.68 1551.38 1122.38 1551.38 L1101.19 1551.38 Q1101.19 1559.13 1103.49 1562.76 Q1106.67 1567.83 1112.05 1567.83 Q1112.79 1567.83 1113.68 1567.69 Q1114.57 1567.54 1116.38 1566.91 Q1118.2 1566.24 1119.79 1564.5 Q1121.38 1562.76 1122.31 1560.01 Q1122.53 1558.94 1123.27 1558.98 Q1124.27 1558.98 1124.27 1559.87 Q1124.27 1560.53 1123.53 1562.05 Q1122.83 1563.53 1121.46 1565.31 Q1120.09 1567.09 1117.42 1568.43 Q1114.79 1569.76 1111.6 1569.76 Q1104.93 1569.76 1099.89 1564.72 Q1094.89 1559.64 1094.89 1552.2 M1101.26 1549.79 L1119.27 1549.79 Q1119.27 1548.19 1118.98 1546.42 Q1118.72 1544.64 1117.9 1542.19 Q1117.12 1539.71 1115.27 1538.15 Q1113.42 1536.6 1110.68 1536.6 Q1109.45 1536.6 1108.12 1537.11 Q1106.82 1537.63 1105.23 1538.89 Q1103.64 1540.15 1102.52 1543.01 Q1101.41 1545.86 1101.26 1549.79 Z\" fill=\"#000000\" fill-rule=\"nonzero\" fill-opacity=\"1\" /><path clip-path=\"url(#clip670)\" d=\"M1129.65 1561.68 Q1129.65 1555.23 1137.24 1551.83 Q1141.8 1549.64 1151.21 1549.08 L1151.21 1546.3 Q1151.21 1541.6 1148.73 1539.12 Q1146.29 1536.6 1143.17 1536.6 Q1137.61 1536.6 1134.95 1540.08 Q1137.21 1540.15 1138.02 1541.3 Q1138.84 1542.41 1138.84 1543.56 Q1138.84 1545.08 1137.87 1546.08 Q1136.95 1547.05 1135.35 1547.05 Q1133.83 1547.05 1132.83 1546.12 Q1131.83 1545.16 1131.83 1543.49 Q1131.83 1539.78 1135.17 1537.34 Q1138.54 1534.89 1143.32 1534.89 Q1149.55 1534.89 1153.7 1539.08 Q1154.99 1540.38 1155.62 1542.04 Q1156.29 1543.71 1156.36 1544.82 Q1156.44 1545.9 1156.44 1548.05 L1156.44 1563.2 Q1156.44 1563.65 1156.59 1564.39 Q1156.73 1565.13 1157.4 1566.09 Q1158.11 1567.02 1159.25 1567.02 Q1162 1567.02 1161.96 1562.16 L1161.96 1557.9 L1163.89 1557.9 L1163.89 1562.16 Q1163.89 1566.2 1161.74 1567.8 Q1159.63 1569.35 1157.66 1569.35 Q1155.14 1569.35 1153.55 1567.5 Q1151.95 1565.65 1151.73 1563.13 Q1150.58 1566.02 1147.95 1567.91 Q1145.36 1569.76 1141.8 1569.76 Q1139.06 1569.76 1136.47 1569.06 Q1133.91 1568.39 1131.76 1566.5 Q1129.65 1564.57 1129.65 1561.68 M1135.5 1561.61 Q1135.5 1564.42 1137.5 1566.24 Q1139.5 1568.06 1142.32 1568.06 Q1145.51 1568.06 1148.36 1565.61 Q1151.21 1563.13 1151.21 1558.27 L1151.21 1550.68 Q1142.8 1550.97 1139.13 1554.35 Q1135.5 1557.68 1135.5 1561.61 Z\" fill=\"#000000\" fill-rule=\"nonzero\" fill-opacity=\"1\" /><path clip-path=\"url(#clip670)\" d=\"M1165.85 1538.56 L1165.85 1536.89 Q1169.33 1536.74 1171.63 1534.3 Q1173.97 1531.82 1174.74 1528.78 Q1175.56 1525.74 1175.63 1522.22 L1177.52 1522.22 L1177.52 1536.19 L1188.38 1536.19 L1188.38 1538.56 L1177.52 1538.56 L1177.52 1559.64 Q1177.52 1567.83 1182.64 1567.83 Q1184.82 1567.83 1186.27 1565.61 Q1187.71 1563.35 1187.71 1559.35 L1187.71 1555.16 L1189.6 1555.16 L1189.6 1559.5 Q1189.6 1563.61 1187.71 1566.68 Q1185.82 1569.76 1182.08 1569.76 Q1180.71 1569.76 1179.34 1569.39 Q1178 1569.06 1176.23 1568.17 Q1174.48 1567.24 1173.37 1565.02 Q1172.3 1562.76 1172.3 1559.5 L1172.3 1538.56 L1165.85 1538.56 Z\" fill=\"#000000\" fill-rule=\"nonzero\" fill-opacity=\"1\" /><path clip-path=\"url(#clip670)\" d=\"M1221.58 1568.91 L1221.58 1566.57 Q1225.62 1566.57 1226.55 1566.09 Q1227.47 1565.57 1227.47 1563.13 L1227.47 1523.66 Q1227.47 1520.85 1226.47 1520.14 Q1225.51 1519.44 1221.58 1519.44 L1221.58 1517.07 L1232.48 1516.25 L1232.48 1563.13 Q1232.48 1565.57 1233.44 1566.09 Q1234.4 1566.57 1238.4 1566.57 L1238.4 1568.91 Q1237.48 1568.91 1235.55 1568.83 Q1233.62 1568.76 1232.22 1568.72 Q1230.81 1568.69 1229.99 1568.69 Q1229.1 1568.69 1221.58 1568.91 Z\" fill=\"#000000\" fill-rule=\"nonzero\" fill-opacity=\"1\" /><path clip-path=\"url(#clip670)\" d=\"M1247.19 1564.83 Q1242.18 1559.87 1242.18 1552.68 Q1242.18 1545.45 1247.08 1540.19 Q1252 1534.89 1259.04 1534.89 Q1265.94 1534.89 1270.86 1540.15 Q1275.83 1545.38 1275.83 1552.68 Q1275.83 1559.83 1270.83 1564.79 Q1265.86 1569.76 1258.97 1569.76 Q1252.23 1569.76 1247.19 1564.83 M1248.48 1552.05 Q1248.48 1559.42 1250.41 1562.76 Q1253.37 1567.83 1259.04 1567.83 Q1261.86 1567.83 1264.19 1566.31 Q1266.57 1564.79 1267.86 1562.24 Q1269.53 1558.9 1269.53 1552.05 Q1269.53 1544.75 1267.53 1541.52 Q1264.57 1536.6 1258.97 1536.6 Q1256.52 1536.6 1254.12 1537.89 Q1251.74 1539.15 1250.3 1541.67 Q1248.48 1545.01 1248.48 1552.05 Z\" fill=\"#000000\" fill-rule=\"nonzero\" fill-opacity=\"1\" /><path clip-path=\"url(#clip670)\" d=\"M1281.2 1561.68 Q1281.2 1555.23 1288.8 1551.83 Q1293.36 1549.64 1302.77 1549.08 L1302.77 1546.3 Q1302.77 1541.6 1300.29 1539.12 Q1297.84 1536.6 1294.73 1536.6 Q1289.17 1536.6 1286.5 1540.08 Q1288.76 1540.15 1289.58 1541.3 Q1290.39 1542.41 1290.39 1543.56 Q1290.39 1545.08 1289.43 1546.08 Q1288.5 1547.05 1286.91 1547.05 Q1285.39 1547.05 1284.39 1546.12 Q1283.39 1545.16 1283.39 1543.49 Q1283.39 1539.78 1286.72 1537.34 Q1290.1 1534.89 1294.88 1534.89 Q1301.1 1534.89 1305.25 1539.08 Q1306.55 1540.38 1307.18 1542.04 Q1307.85 1543.71 1307.92 1544.82 Q1307.99 1545.9 1307.99 1548.05 L1307.99 1563.2 Q1307.99 1563.65 1308.14 1564.39 Q1308.29 1565.13 1308.96 1566.09 Q1309.66 1567.02 1310.81 1567.02 Q1313.55 1567.02 1313.51 1562.16 L1313.51 1557.9 L1315.44 1557.9 L1315.44 1562.16 Q1315.44 1566.2 1313.29 1567.8 Q1311.18 1569.35 1309.22 1569.35 Q1306.7 1569.35 1305.1 1567.5 Q1303.51 1565.65 1303.29 1563.13 Q1302.14 1566.02 1299.51 1567.91 Q1296.91 1569.76 1293.36 1569.76 Q1290.61 1569.76 1288.02 1569.06 Q1285.46 1568.39 1283.31 1566.5 Q1281.2 1564.57 1281.2 1561.68 M1287.06 1561.61 Q1287.06 1564.42 1289.06 1566.24 Q1291.06 1568.06 1293.88 1568.06 Q1297.06 1568.06 1299.92 1565.61 Q1302.77 1563.13 1302.77 1558.27 L1302.77 1550.68 Q1294.36 1550.97 1290.69 1554.35 Q1287.06 1557.68 1287.06 1561.61 Z\" fill=\"#000000\" fill-rule=\"nonzero\" fill-opacity=\"1\" /><path clip-path=\"url(#clip670)\" d=\"M1318.55 1552.6 Q1318.55 1545.38 1323.59 1540.38 Q1328.63 1535.37 1335.45 1535.37 Q1341.23 1535.37 1345.01 1540.08 L1345.01 1523.66 Q1345.01 1520.85 1344.01 1520.14 Q1343.05 1519.44 1339.12 1519.44 L1339.12 1517.07 L1350.05 1516.25 L1350.05 1562.31 Q1350.05 1565.13 1351.01 1565.87 Q1352.02 1566.57 1355.94 1566.57 L1355.94 1568.91 L1344.79 1569.76 L1344.79 1564.72 Q1340.86 1569.72 1334.64 1569.76 Q1328.11 1569.76 1323.33 1564.76 Q1318.55 1559.76 1318.55 1552.6 M1324.85 1552.68 Q1324.85 1559.72 1327.04 1563.2 Q1330.08 1568.06 1335.01 1568.06 Q1340.64 1568.06 1343.97 1562.76 Q1344.83 1561.46 1344.79 1559.94 L1344.79 1544.38 Q1344.79 1542.86 1343.97 1541.6 Q1340.86 1537.04 1335.78 1537.04 Q1330.49 1537.04 1327.19 1541.89 Q1324.85 1545.53 1324.85 1552.68 Z\" fill=\"#000000\" fill-rule=\"nonzero\" fill-opacity=\"1\" /><path clip-path=\"url(#clip670)\" d=\"M1391.18 1587.88 L1391.18 1511.99 L1402.63 1511.99 L1402.63 1513.73 L1396.26 1513.73 L1396.26 1586.14 L1402.63 1586.14 L1402.63 1587.88 L1391.18 1587.88 Z\" fill=\"#000000\" fill-rule=\"nonzero\" fill-opacity=\"1\" /><path clip-path=\"url(#clip670)\" d=\"M1407.19 1568.91 L1407.19 1566.57 Q1409.93 1566.57 1411.67 1566.05 Q1413.42 1565.5 1414.05 1564.5 Q1414.71 1563.46 1414.86 1562.79 Q1415.01 1562.09 1415.01 1560.94 L1415.01 1523 Q1415.01 1520.81 1414.05 1520.14 Q1413.12 1519.44 1409.01 1519.44 L1407.19 1519.44 L1407.19 1517.07 L1420.01 1517.07 Q1421.38 1517.07 1421.75 1517.33 Q1422.12 1517.55 1422.68 1518.74 L1439.13 1561.24 L1455.73 1518.51 Q1456.1 1517.44 1456.44 1517.25 Q1456.81 1517.07 1458.25 1517.07 L1471.07 1517.07 L1471.07 1519.44 L1469.26 1519.44 Q1465.14 1519.44 1464.18 1520.14 Q1463.25 1520.81 1463.25 1523 L1463.25 1562.98 Q1463.25 1565.17 1464.18 1565.87 Q1465.14 1566.57 1469.26 1566.57 L1471.07 1566.57 L1471.07 1568.91 Q1468.26 1568.69 1460.22 1568.69 Q1452.1 1568.69 1449.28 1568.91 L1449.28 1566.57 L1451.14 1566.57 Q1455.25 1566.57 1456.18 1565.91 Q1457.1 1565.2 1457.1 1562.98 L1457.1 1519.44 L1457.03 1519.44 L1438.39 1567.46 Q1437.87 1568.91 1437.02 1568.91 Q1436.09 1568.91 1435.5 1567.24 L1417.19 1520.03 L1417.12 1520.03 L1417.12 1560.94 Q1417.12 1562.09 1417.27 1562.79 Q1417.42 1563.46 1418.05 1564.5 Q1418.71 1565.5 1420.46 1566.05 Q1422.2 1566.57 1424.94 1566.57 L1424.94 1568.91 Q1416.97 1568.69 1416.05 1568.69 Q1415.16 1568.69 1407.19 1568.91 Z\" fill=\"#000000\" fill-rule=\"nonzero\" fill-opacity=\"1\" /><path clip-path=\"url(#clip670)\" d=\"M1475.22 1519.44 L1475.22 1517.07 Q1476.3 1517.07 1478.22 1517.14 Q1480.15 1517.22 1481.67 1517.25 Q1483.19 1517.29 1484.49 1517.29 Q1492.53 1517.29 1495.27 1517.07 L1495.27 1519.44 Q1488.9 1519.44 1488.9 1521.7 Q1488.9 1522.22 1489.04 1522.7 L1501.24 1560.01 L1511.8 1527.48 L1510.13 1522.14 Q1509.54 1520.25 1508.24 1519.85 Q1506.94 1519.44 1503.31 1519.44 L1503.31 1517.07 Q1504.39 1517.07 1506.31 1517.14 Q1508.24 1517.22 1509.76 1517.25 Q1511.28 1517.29 1512.54 1517.29 Q1520.58 1517.29 1523.32 1517.07 L1523.32 1519.44 Q1516.95 1519.44 1516.95 1521.7 Q1516.95 1521.92 1517.17 1522.85 L1529.32 1560.01 L1540.7 1524.96 Q1541.07 1523.81 1541.11 1523.44 Q1541.11 1522.07 1539.51 1520.81 Q1537.92 1519.51 1534.47 1519.44 L1534.47 1517.07 Q1540.4 1517.29 1543.52 1517.29 Q1547 1517.29 1550.41 1517.07 L1550.41 1519.44 Q1544.4 1519.44 1542.85 1524.52 L1528.32 1569.06 Q1528.17 1569.65 1528.06 1569.91 Q1527.95 1570.2 1527.66 1570.39 Q1527.36 1570.58 1526.84 1570.58 Q1525.84 1570.58 1525.4 1569.13 L1512.8 1530.52 L1500.27 1569.06 Q1500.12 1569.65 1499.98 1569.91 Q1499.86 1570.2 1499.57 1570.39 Q1499.27 1570.58 1498.75 1570.58 Q1497.75 1570.58 1497.31 1569.13 L1482.12 1522.63 Q1481.45 1520.44 1480.41 1519.96 Q1479.41 1519.44 1475.22 1519.44 Z\" fill=\"#000000\" fill-rule=\"nonzero\" fill-opacity=\"1\" /><path clip-path=\"url(#clip670)\" d=\"M1553.37 1586.14 L1559.75 1586.14 L1559.75 1513.73 L1553.37 1513.73 L1553.37 1511.99 L1564.82 1511.99 L1564.82 1587.88 L1553.37 1587.88 L1553.37 1586.14 Z\" fill=\"#000000\" fill-rule=\"nonzero\" fill-opacity=\"1\" /><polyline clip-path=\"url(#clip672)\" style=\"stroke:#000000; stroke-linecap:round; stroke-linejoin:round; stroke-width:2.8; stroke-opacity:0.4; fill:none\" points=\"250.447,1154.07 2352.76,1154.07 \"/>\n",
       "<polyline clip-path=\"url(#clip672)\" style=\"stroke:#000000; stroke-linecap:round; stroke-linejoin:round; stroke-width:2.8; stroke-opacity:0.4; fill:none\" points=\"250.447,884.488 2352.76,884.488 \"/>\n",
       "<polyline clip-path=\"url(#clip672)\" style=\"stroke:#000000; stroke-linecap:round; stroke-linejoin:round; stroke-width:2.8; stroke-opacity:0.4; fill:none\" points=\"250.447,614.909 2352.76,614.909 \"/>\n",
       "<polyline clip-path=\"url(#clip672)\" style=\"stroke:#000000; stroke-linecap:round; stroke-linejoin:round; stroke-width:2.8; stroke-opacity:0.4; fill:none\" points=\"250.447,345.331 2352.76,345.331 \"/>\n",
       "<polyline clip-path=\"url(#clip672)\" style=\"stroke:#000000; stroke-linecap:round; stroke-linejoin:round; stroke-width:2.8; stroke-opacity:0.4; fill:none\" points=\"250.447,75.752 2352.76,75.752 \"/>\n",
       "<polyline clip-path=\"url(#clip672)\" style=\"stroke:#000000; stroke-linecap:round; stroke-linejoin:round; stroke-width:2; stroke-opacity:0.06; fill:none\" points=\"250.447,1369.73 2352.76,1369.73 \"/>\n",
       "<polyline clip-path=\"url(#clip672)\" style=\"stroke:#000000; stroke-linecap:round; stroke-linejoin:round; stroke-width:2; stroke-opacity:0.06; fill:none\" points=\"250.447,1315.81 2352.76,1315.81 \"/>\n",
       "<polyline clip-path=\"url(#clip672)\" style=\"stroke:#000000; stroke-linecap:round; stroke-linejoin:round; stroke-width:2; stroke-opacity:0.06; fill:none\" points=\"250.447,1261.9 2352.76,1261.9 \"/>\n",
       "<polyline clip-path=\"url(#clip672)\" style=\"stroke:#000000; stroke-linecap:round; stroke-linejoin:round; stroke-width:2; stroke-opacity:0.06; fill:none\" points=\"250.447,1207.98 2352.76,1207.98 \"/>\n",
       "<polyline clip-path=\"url(#clip672)\" style=\"stroke:#000000; stroke-linecap:round; stroke-linejoin:round; stroke-width:2; stroke-opacity:0.06; fill:none\" points=\"250.447,1100.15 2352.76,1100.15 \"/>\n",
       "<polyline clip-path=\"url(#clip672)\" style=\"stroke:#000000; stroke-linecap:round; stroke-linejoin:round; stroke-width:2; stroke-opacity:0.06; fill:none\" points=\"250.447,1046.23 2352.76,1046.23 \"/>\n",
       "<polyline clip-path=\"url(#clip672)\" style=\"stroke:#000000; stroke-linecap:round; stroke-linejoin:round; stroke-width:2; stroke-opacity:0.06; fill:none\" points=\"250.447,992.319 2352.76,992.319 \"/>\n",
       "<polyline clip-path=\"url(#clip672)\" style=\"stroke:#000000; stroke-linecap:round; stroke-linejoin:round; stroke-width:2; stroke-opacity:0.06; fill:none\" points=\"250.447,938.403 2352.76,938.403 \"/>\n",
       "<polyline clip-path=\"url(#clip672)\" style=\"stroke:#000000; stroke-linecap:round; stroke-linejoin:round; stroke-width:2; stroke-opacity:0.06; fill:none\" points=\"250.447,830.572 2352.76,830.572 \"/>\n",
       "<polyline clip-path=\"url(#clip672)\" style=\"stroke:#000000; stroke-linecap:round; stroke-linejoin:round; stroke-width:2; stroke-opacity:0.06; fill:none\" points=\"250.447,776.656 2352.76,776.656 \"/>\n",
       "<polyline clip-path=\"url(#clip672)\" style=\"stroke:#000000; stroke-linecap:round; stroke-linejoin:round; stroke-width:2; stroke-opacity:0.06; fill:none\" points=\"250.447,722.741 2352.76,722.741 \"/>\n",
       "<polyline clip-path=\"url(#clip672)\" style=\"stroke:#000000; stroke-linecap:round; stroke-linejoin:round; stroke-width:2; stroke-opacity:0.06; fill:none\" points=\"250.447,668.825 2352.76,668.825 \"/>\n",
       "<polyline clip-path=\"url(#clip672)\" style=\"stroke:#000000; stroke-linecap:round; stroke-linejoin:round; stroke-width:2; stroke-opacity:0.06; fill:none\" points=\"250.447,560.993 2352.76,560.993 \"/>\n",
       "<polyline clip-path=\"url(#clip672)\" style=\"stroke:#000000; stroke-linecap:round; stroke-linejoin:round; stroke-width:2; stroke-opacity:0.06; fill:none\" points=\"250.447,507.078 2352.76,507.078 \"/>\n",
       "<polyline clip-path=\"url(#clip672)\" style=\"stroke:#000000; stroke-linecap:round; stroke-linejoin:round; stroke-width:2; stroke-opacity:0.06; fill:none\" points=\"250.447,453.162 2352.76,453.162 \"/>\n",
       "<polyline clip-path=\"url(#clip672)\" style=\"stroke:#000000; stroke-linecap:round; stroke-linejoin:round; stroke-width:2; stroke-opacity:0.06; fill:none\" points=\"250.447,399.246 2352.76,399.246 \"/>\n",
       "<polyline clip-path=\"url(#clip672)\" style=\"stroke:#000000; stroke-linecap:round; stroke-linejoin:round; stroke-width:2; stroke-opacity:0.06; fill:none\" points=\"250.447,291.415 2352.76,291.415 \"/>\n",
       "<polyline clip-path=\"url(#clip672)\" style=\"stroke:#000000; stroke-linecap:round; stroke-linejoin:round; stroke-width:2; stroke-opacity:0.06; fill:none\" points=\"250.447,237.499 2352.76,237.499 \"/>\n",
       "<polyline clip-path=\"url(#clip672)\" style=\"stroke:#000000; stroke-linecap:round; stroke-linejoin:round; stroke-width:2; stroke-opacity:0.06; fill:none\" points=\"250.447,183.583 2352.76,183.583 \"/>\n",
       "<polyline clip-path=\"url(#clip672)\" style=\"stroke:#000000; stroke-linecap:round; stroke-linejoin:round; stroke-width:2; stroke-opacity:0.06; fill:none\" points=\"250.447,129.668 2352.76,129.668 \"/>\n",
       "<polyline clip-path=\"url(#clip670)\" style=\"stroke:#000000; stroke-linecap:round; stroke-linejoin:round; stroke-width:4; stroke-opacity:1; fill:none\" points=\"250.447,1418.86 250.447,47.2441 \"/>\n",
       "<polyline clip-path=\"url(#clip670)\" style=\"stroke:#000000; stroke-linecap:round; stroke-linejoin:round; stroke-width:4; stroke-opacity:1; fill:none\" points=\"2352.76,1418.86 2352.76,47.2441 \"/>\n",
       "<polyline clip-path=\"url(#clip670)\" style=\"stroke:#000000; stroke-linecap:round; stroke-linejoin:round; stroke-width:4; stroke-opacity:1; fill:none\" points=\"250.447,1154.07 269.345,1154.07 \"/>\n",
       "<polyline clip-path=\"url(#clip670)\" style=\"stroke:#000000; stroke-linecap:round; stroke-linejoin:round; stroke-width:4; stroke-opacity:1; fill:none\" points=\"250.447,884.488 269.345,884.488 \"/>\n",
       "<polyline clip-path=\"url(#clip670)\" style=\"stroke:#000000; stroke-linecap:round; stroke-linejoin:round; stroke-width:4; stroke-opacity:1; fill:none\" points=\"250.447,614.909 269.345,614.909 \"/>\n",
       "<polyline clip-path=\"url(#clip670)\" style=\"stroke:#000000; stroke-linecap:round; stroke-linejoin:round; stroke-width:4; stroke-opacity:1; fill:none\" points=\"250.447,345.331 269.345,345.331 \"/>\n",
       "<polyline clip-path=\"url(#clip670)\" style=\"stroke:#000000; stroke-linecap:round; stroke-linejoin:round; stroke-width:4; stroke-opacity:1; fill:none\" points=\"250.447,75.752 269.345,75.752 \"/>\n",
       "<polyline clip-path=\"url(#clip670)\" style=\"stroke:#000000; stroke-linecap:round; stroke-linejoin:round; stroke-width:4; stroke-opacity:1; fill:none\" points=\"250.447,1369.73 259.896,1369.73 \"/>\n",
       "<polyline clip-path=\"url(#clip670)\" style=\"stroke:#000000; stroke-linecap:round; stroke-linejoin:round; stroke-width:4; stroke-opacity:1; fill:none\" points=\"250.447,1315.81 259.896,1315.81 \"/>\n",
       "<polyline clip-path=\"url(#clip670)\" style=\"stroke:#000000; stroke-linecap:round; stroke-linejoin:round; stroke-width:4; stroke-opacity:1; fill:none\" points=\"250.447,1261.9 259.896,1261.9 \"/>\n",
       "<polyline clip-path=\"url(#clip670)\" style=\"stroke:#000000; stroke-linecap:round; stroke-linejoin:round; stroke-width:4; stroke-opacity:1; fill:none\" points=\"250.447,1207.98 259.896,1207.98 \"/>\n",
       "<polyline clip-path=\"url(#clip670)\" style=\"stroke:#000000; stroke-linecap:round; stroke-linejoin:round; stroke-width:4; stroke-opacity:1; fill:none\" points=\"250.447,1100.15 259.896,1100.15 \"/>\n",
       "<polyline clip-path=\"url(#clip670)\" style=\"stroke:#000000; stroke-linecap:round; stroke-linejoin:round; stroke-width:4; stroke-opacity:1; fill:none\" points=\"250.447,1046.23 259.896,1046.23 \"/>\n",
       "<polyline clip-path=\"url(#clip670)\" style=\"stroke:#000000; stroke-linecap:round; stroke-linejoin:round; stroke-width:4; stroke-opacity:1; fill:none\" points=\"250.447,992.319 259.896,992.319 \"/>\n",
       "<polyline clip-path=\"url(#clip670)\" style=\"stroke:#000000; stroke-linecap:round; stroke-linejoin:round; stroke-width:4; stroke-opacity:1; fill:none\" points=\"250.447,938.403 259.896,938.403 \"/>\n",
       "<polyline clip-path=\"url(#clip670)\" style=\"stroke:#000000; stroke-linecap:round; stroke-linejoin:round; stroke-width:4; stroke-opacity:1; fill:none\" points=\"250.447,830.572 259.896,830.572 \"/>\n",
       "<polyline clip-path=\"url(#clip670)\" style=\"stroke:#000000; stroke-linecap:round; stroke-linejoin:round; stroke-width:4; stroke-opacity:1; fill:none\" points=\"250.447,776.656 259.896,776.656 \"/>\n",
       "<polyline clip-path=\"url(#clip670)\" style=\"stroke:#000000; stroke-linecap:round; stroke-linejoin:round; stroke-width:4; stroke-opacity:1; fill:none\" points=\"250.447,722.741 259.896,722.741 \"/>\n",
       "<polyline clip-path=\"url(#clip670)\" style=\"stroke:#000000; stroke-linecap:round; stroke-linejoin:round; stroke-width:4; stroke-opacity:1; fill:none\" points=\"250.447,668.825 259.896,668.825 \"/>\n",
       "<polyline clip-path=\"url(#clip670)\" style=\"stroke:#000000; stroke-linecap:round; stroke-linejoin:round; stroke-width:4; stroke-opacity:1; fill:none\" points=\"250.447,560.993 259.896,560.993 \"/>\n",
       "<polyline clip-path=\"url(#clip670)\" style=\"stroke:#000000; stroke-linecap:round; stroke-linejoin:round; stroke-width:4; stroke-opacity:1; fill:none\" points=\"250.447,507.078 259.896,507.078 \"/>\n",
       "<polyline clip-path=\"url(#clip670)\" style=\"stroke:#000000; stroke-linecap:round; stroke-linejoin:round; stroke-width:4; stroke-opacity:1; fill:none\" points=\"250.447,453.162 259.896,453.162 \"/>\n",
       "<polyline clip-path=\"url(#clip670)\" style=\"stroke:#000000; stroke-linecap:round; stroke-linejoin:round; stroke-width:4; stroke-opacity:1; fill:none\" points=\"250.447,399.246 259.896,399.246 \"/>\n",
       "<polyline clip-path=\"url(#clip670)\" style=\"stroke:#000000; stroke-linecap:round; stroke-linejoin:round; stroke-width:4; stroke-opacity:1; fill:none\" points=\"250.447,291.415 259.896,291.415 \"/>\n",
       "<polyline clip-path=\"url(#clip670)\" style=\"stroke:#000000; stroke-linecap:round; stroke-linejoin:round; stroke-width:4; stroke-opacity:1; fill:none\" points=\"250.447,237.499 259.896,237.499 \"/>\n",
       "<polyline clip-path=\"url(#clip670)\" style=\"stroke:#000000; stroke-linecap:round; stroke-linejoin:round; stroke-width:4; stroke-opacity:1; fill:none\" points=\"250.447,183.583 259.896,183.583 \"/>\n",
       "<polyline clip-path=\"url(#clip670)\" style=\"stroke:#000000; stroke-linecap:round; stroke-linejoin:round; stroke-width:4; stroke-opacity:1; fill:none\" points=\"250.447,129.668 259.896,129.668 \"/>\n",
       "<path clip-path=\"url(#clip670)\" d=\"M143.104 1171.35 Q143.104 1170.43 143.178 1170.16 Q143.277 1169.89 143.672 1169.47 L153.381 1158.65 Q158.692 1152.67 158.692 1147.46 Q158.692 1144.07 156.913 1141.65 Q155.159 1139.23 151.923 1139.23 Q149.7 1139.23 147.822 1140.59 Q145.945 1141.95 145.08 1144.37 Q145.229 1144.32 145.747 1144.32 Q147.007 1144.32 147.699 1145.11 Q148.415 1145.9 148.415 1146.96 Q148.415 1148.32 147.526 1148.99 Q146.661 1149.63 145.797 1149.63 Q145.451 1149.63 144.982 1149.56 Q144.537 1149.48 143.82 1148.79 Q143.104 1148.08 143.104 1146.82 Q143.104 1143.28 145.772 1140.47 Q148.465 1137.65 152.565 1137.65 Q157.21 1137.65 160.248 1140.42 Q163.311 1143.16 163.311 1147.46 Q163.311 1148.97 162.842 1150.35 Q162.397 1151.71 161.78 1152.77 Q161.187 1153.83 159.557 1155.54 Q157.926 1157.24 156.617 1158.45 Q155.308 1159.66 152.368 1162.23 L147.007 1167.44 L156.123 1167.44 Q160.569 1167.44 160.915 1167.05 Q161.409 1166.33 162.027 1162.55 L163.311 1162.55 L161.879 1171.35 L143.104 1171.35 Z\" fill=\"#000000\" fill-rule=\"nonzero\" fill-opacity=\"1\" /><path clip-path=\"url(#clip670)\" d=\"M167.857 1155.17 Q167.857 1147.73 169.734 1143.68 Q172.353 1137.65 178.529 1137.65 Q179.838 1137.65 181.197 1138.02 Q182.58 1138.37 184.309 1139.73 Q186.063 1141.08 187.125 1143.31 Q189.151 1147.61 189.151 1155.17 Q189.151 1162.55 187.274 1166.58 Q184.532 1172.46 178.479 1172.46 Q176.207 1172.46 173.884 1171.3 Q171.587 1170.14 170.13 1167.34 Q167.857 1163.17 167.857 1155.17 M172.056 1154.55 Q172.056 1162.18 172.6 1165.22 Q173.217 1168.51 174.897 1169.94 Q176.602 1171.35 178.479 1171.35 Q180.505 1171.35 182.185 1169.84 Q183.889 1168.31 184.408 1165.02 Q184.976 1161.79 184.952 1154.55 Q184.952 1147.51 184.458 1144.69 Q183.791 1141.41 182.012 1140.1 Q180.258 1138.76 178.479 1138.76 Q177.812 1138.76 177.096 1138.96 Q176.404 1139.16 175.391 1139.73 Q174.379 1140.29 173.588 1141.7 Q172.822 1143.11 172.452 1145.23 Q172.056 1147.98 172.056 1154.55 Z\" fill=\"#000000\" fill-rule=\"nonzero\" fill-opacity=\"1\" /><path clip-path=\"url(#clip670)\" d=\"M193.153 1155.17 Q193.153 1147.73 195.031 1143.68 Q197.649 1137.65 203.825 1137.65 Q205.134 1137.65 206.493 1138.02 Q207.876 1138.37 209.606 1139.73 Q211.359 1141.08 212.422 1143.31 Q214.447 1147.61 214.447 1155.17 Q214.447 1162.55 212.57 1166.58 Q209.828 1172.46 203.776 1172.46 Q201.503 1172.46 199.181 1171.3 Q196.883 1170.14 195.426 1167.34 Q193.153 1163.17 193.153 1155.17 M197.353 1154.55 Q197.353 1162.18 197.896 1165.22 Q198.514 1168.51 200.194 1169.94 Q201.898 1171.35 203.776 1171.35 Q205.801 1171.35 207.481 1169.84 Q209.186 1168.31 209.704 1165.02 Q210.273 1161.79 210.248 1154.55 Q210.248 1147.51 209.754 1144.69 Q209.087 1141.41 207.308 1140.1 Q205.554 1138.76 203.776 1138.76 Q203.109 1138.76 202.392 1138.96 Q201.7 1139.16 200.688 1139.73 Q199.675 1140.29 198.884 1141.7 Q198.118 1143.11 197.748 1145.23 Q197.353 1147.98 197.353 1154.55 Z\" fill=\"#000000\" fill-rule=\"nonzero\" fill-opacity=\"1\" /><path clip-path=\"url(#clip670)\" d=\"M141.992 893.418 L141.992 891.862 L157.531 868.122 Q157.926 867.504 158.544 867.529 Q159.112 867.529 159.235 867.751 Q159.359 867.974 159.359 868.838 L159.359 891.862 L164.423 891.862 L164.423 893.418 L159.359 893.418 L159.359 897.815 Q159.359 899.273 159.952 899.742 Q160.569 900.211 163.188 900.211 L164.25 900.211 L164.25 901.768 Q162.175 901.62 157.383 901.62 Q152.615 901.62 150.54 901.768 L150.54 900.211 L151.602 900.211 Q154.221 900.211 154.838 899.767 Q155.456 899.297 155.456 897.815 L155.456 893.418 L141.992 893.418 M143.425 891.862 L155.752 891.862 L155.752 872.988 L143.425 891.862 Z\" fill=\"#000000\" fill-rule=\"nonzero\" fill-opacity=\"1\" /><path clip-path=\"url(#clip670)\" d=\"M167.857 885.587 Q167.857 878.151 169.734 874.1 Q172.353 868.072 178.529 868.072 Q179.838 868.072 181.197 868.443 Q182.58 868.789 184.309 870.147 Q186.063 871.506 187.125 873.729 Q189.151 878.028 189.151 885.587 Q189.151 892.973 187.274 897 Q184.532 902.879 178.479 902.879 Q176.207 902.879 173.884 901.718 Q171.587 900.557 170.13 897.766 Q167.857 893.591 167.857 885.587 M172.056 884.969 Q172.056 892.603 172.6 895.641 Q173.217 898.927 174.897 900.36 Q176.602 901.768 178.479 901.768 Q180.505 901.768 182.185 900.261 Q183.889 898.729 184.408 895.444 Q184.976 892.208 184.952 884.969 Q184.952 877.929 184.458 875.113 Q183.791 871.827 182.012 870.518 Q180.258 869.184 178.479 869.184 Q177.812 869.184 177.096 869.382 Q176.404 869.579 175.391 870.147 Q174.379 870.716 173.588 872.124 Q172.822 873.532 172.452 875.656 Q172.056 878.398 172.056 884.969 Z\" fill=\"#000000\" fill-rule=\"nonzero\" fill-opacity=\"1\" /><path clip-path=\"url(#clip670)\" d=\"M193.153 885.587 Q193.153 878.151 195.031 874.1 Q197.649 868.072 203.825 868.072 Q205.134 868.072 206.493 868.443 Q207.876 868.789 209.606 870.147 Q211.359 871.506 212.422 873.729 Q214.447 878.028 214.447 885.587 Q214.447 892.973 212.57 897 Q209.828 902.879 203.776 902.879 Q201.503 902.879 199.181 901.718 Q196.883 900.557 195.426 897.766 Q193.153 893.591 193.153 885.587 M197.353 884.969 Q197.353 892.603 197.896 895.641 Q198.514 898.927 200.194 900.36 Q201.898 901.768 203.776 901.768 Q205.801 901.768 207.481 900.261 Q209.186 898.729 209.704 895.444 Q210.273 892.208 210.248 884.969 Q210.248 877.929 209.754 875.113 Q209.087 871.827 207.308 870.518 Q205.554 869.184 203.776 869.184 Q203.109 869.184 202.392 869.382 Q201.7 869.579 200.688 870.147 Q199.675 870.716 198.884 872.124 Q198.118 873.532 197.748 875.656 Q197.353 878.398 197.353 884.969 Z\" fill=\"#000000\" fill-rule=\"nonzero\" fill-opacity=\"1\" /><path clip-path=\"url(#clip670)\" d=\"M142.709 616.206 Q142.709 608.252 146.76 603.385 Q150.812 598.494 156.024 598.494 Q159.062 598.494 160.742 600.05 Q162.447 601.582 162.447 603.953 Q162.447 605.262 161.681 605.831 Q160.915 606.399 160.125 606.399 Q159.211 606.399 158.494 605.781 Q157.778 605.164 157.778 604.052 Q157.778 601.779 160.569 601.779 Q159.26 599.754 156.123 599.754 Q155.159 599.754 154.171 600.05 Q153.183 600.322 151.898 601.261 Q150.614 602.199 149.626 603.681 Q148.638 605.164 147.946 607.955 Q147.254 610.747 147.254 614.378 L147.254 615.589 Q149.329 610.574 153.578 610.598 Q157.827 610.598 160.767 613.835 Q163.707 617.071 163.707 621.863 Q163.707 626.779 160.643 630.04 Q157.58 633.301 153.282 633.301 Q151.355 633.301 149.601 632.486 Q147.872 631.695 146.241 629.867 Q144.636 628.039 143.672 624.531 Q142.709 621.023 142.709 616.206 M147.353 620.752 Q147.353 625.717 148.267 628.088 Q148.415 628.484 148.736 629.027 Q149.082 629.571 149.65 630.287 Q150.243 630.979 151.207 631.448 Q152.17 631.893 153.282 631.893 Q156.666 631.893 158.297 628.607 Q159.161 626.779 159.161 621.814 Q159.161 616.75 158.247 614.897 Q156.691 611.759 153.529 611.759 Q151.404 611.759 149.922 613.217 Q148.465 614.674 147.897 616.626 Q147.353 618.578 147.353 620.752 Z\" fill=\"#000000\" fill-rule=\"nonzero\" fill-opacity=\"1\" /><path clip-path=\"url(#clip670)\" d=\"M167.857 616.008 Q167.857 608.573 169.734 604.521 Q172.353 598.494 178.529 598.494 Q179.838 598.494 181.197 598.864 Q182.58 599.21 184.309 600.569 Q186.063 601.928 187.125 604.151 Q189.151 608.449 189.151 616.008 Q189.151 623.395 187.274 627.421 Q184.532 633.301 178.479 633.301 Q176.207 633.301 173.884 632.14 Q171.587 630.979 170.13 628.187 Q167.857 624.012 167.857 616.008 M172.056 615.391 Q172.056 623.024 172.6 626.063 Q173.217 629.348 174.897 630.781 Q176.602 632.189 178.479 632.189 Q180.505 632.189 182.185 630.682 Q183.889 629.151 184.408 625.865 Q184.976 622.629 184.952 615.391 Q184.952 608.35 184.458 605.534 Q183.791 602.249 182.012 600.939 Q180.258 599.605 178.479 599.605 Q177.812 599.605 177.096 599.803 Q176.404 600.001 175.391 600.569 Q174.379 601.137 173.588 602.545 Q172.822 603.953 172.452 606.078 Q172.056 608.82 172.056 615.391 Z\" fill=\"#000000\" fill-rule=\"nonzero\" fill-opacity=\"1\" /><path clip-path=\"url(#clip670)\" d=\"M193.153 616.008 Q193.153 608.573 195.031 604.521 Q197.649 598.494 203.825 598.494 Q205.134 598.494 206.493 598.864 Q207.876 599.21 209.606 600.569 Q211.359 601.928 212.422 604.151 Q214.447 608.449 214.447 616.008 Q214.447 623.395 212.57 627.421 Q209.828 633.301 203.776 633.301 Q201.503 633.301 199.181 632.14 Q196.883 630.979 195.426 628.187 Q193.153 624.012 193.153 616.008 M197.353 615.391 Q197.353 623.024 197.896 626.063 Q198.514 629.348 200.194 630.781 Q201.898 632.189 203.776 632.189 Q205.801 632.189 207.481 630.682 Q209.186 629.151 209.704 625.865 Q210.273 622.629 210.248 615.391 Q210.248 608.35 209.754 605.534 Q209.087 602.249 207.308 600.939 Q205.554 599.605 203.776 599.605 Q203.109 599.605 202.392 599.803 Q201.7 600.001 200.688 600.569 Q199.675 601.137 198.884 602.545 Q198.118 603.953 197.748 606.078 Q197.353 608.82 197.353 615.391 Z\" fill=\"#000000\" fill-rule=\"nonzero\" fill-opacity=\"1\" /><path clip-path=\"url(#clip670)\" d=\"M142.709 354.977 Q142.709 349.32 149.996 345.664 Q146.859 343.54 146.291 342.922 Q144.068 340.452 144.068 337.364 Q144.068 333.831 146.735 331.386 Q149.428 328.915 153.232 328.915 Q156.864 328.915 159.606 331.015 Q162.348 333.115 162.348 336.45 Q162.348 341.143 156.222 344.305 Q160.273 346.825 161.236 347.887 Q163.707 350.629 163.707 354.113 Q163.707 358.164 160.594 360.955 Q157.481 363.722 153.183 363.722 Q148.983 363.722 145.846 361.277 Q142.709 358.831 142.709 354.977 M145.229 354.977 Q145.229 358.115 147.575 360.214 Q149.947 362.314 153.232 362.314 Q156.419 362.314 158.791 360.486 Q161.187 358.658 161.187 355.941 Q161.187 354.878 160.816 353.964 Q160.471 353.05 159.754 352.334 Q159.062 351.593 158.618 351.272 Q158.198 350.926 157.383 350.358 L151.157 346.43 Q145.229 349.715 145.229 354.977 M146.291 335.387 Q146.291 337.808 148.835 339.488 L155.11 343.54 Q160.125 340.6 160.125 336.45 Q160.125 333.757 158.074 331.978 Q156.024 330.175 153.183 330.175 Q150.392 330.175 148.341 331.657 Q146.291 333.115 146.291 335.387 Z\" fill=\"#000000\" fill-rule=\"nonzero\" fill-opacity=\"1\" /><path clip-path=\"url(#clip670)\" d=\"M167.857 346.43 Q167.857 338.994 169.734 334.943 Q172.353 328.915 178.529 328.915 Q179.838 328.915 181.197 329.286 Q182.58 329.632 184.309 330.99 Q186.063 332.349 187.125 334.572 Q189.151 338.871 189.151 346.43 Q189.151 353.816 187.274 357.843 Q184.532 363.722 178.479 363.722 Q176.207 363.722 173.884 362.561 Q171.587 361.4 170.13 358.609 Q167.857 354.434 167.857 346.43 M172.056 345.812 Q172.056 353.446 172.6 356.484 Q173.217 359.77 174.897 361.203 Q176.602 362.611 178.479 362.611 Q180.505 362.611 182.185 361.104 Q183.889 359.572 184.408 356.287 Q184.976 353.05 184.952 345.812 Q184.952 338.772 184.458 335.956 Q183.791 332.67 182.012 331.361 Q180.258 330.027 178.479 330.027 Q177.812 330.027 177.096 330.224 Q176.404 330.422 175.391 330.99 Q174.379 331.558 173.588 332.967 Q172.822 334.375 172.452 336.499 Q172.056 339.241 172.056 345.812 Z\" fill=\"#000000\" fill-rule=\"nonzero\" fill-opacity=\"1\" /><path clip-path=\"url(#clip670)\" d=\"M193.153 346.43 Q193.153 338.994 195.031 334.943 Q197.649 328.915 203.825 328.915 Q205.134 328.915 206.493 329.286 Q207.876 329.632 209.606 330.99 Q211.359 332.349 212.422 334.572 Q214.447 338.871 214.447 346.43 Q214.447 353.816 212.57 357.843 Q209.828 363.722 203.776 363.722 Q201.503 363.722 199.181 362.561 Q196.883 361.4 195.426 358.609 Q193.153 354.434 193.153 346.43 M197.353 345.812 Q197.353 353.446 197.896 356.484 Q198.514 359.77 200.194 361.203 Q201.898 362.611 203.776 362.611 Q205.801 362.611 207.481 361.104 Q209.186 359.572 209.704 356.287 Q210.273 353.05 210.248 345.812 Q210.248 338.772 209.754 335.956 Q209.087 332.67 207.308 331.361 Q205.554 330.027 203.776 330.027 Q203.109 330.027 202.392 330.224 Q201.7 330.422 200.688 330.99 Q199.675 331.558 198.884 332.967 Q198.118 334.375 197.748 336.499 Q197.353 339.241 197.353 345.812 Z\" fill=\"#000000\" fill-rule=\"nonzero\" fill-opacity=\"1\" /><path clip-path=\"url(#clip670)\" d=\"M119.784 64.1538 L119.784 62.5728 Q125.861 62.5728 128.998 59.3366 Q129.863 59.3366 130.011 59.5343 Q130.16 59.7319 130.16 60.6459 L130.16 89.0301 Q130.16 90.537 130.901 91.0064 Q131.642 91.4757 134.878 91.4757 L136.484 91.4757 L136.484 93.032 Q134.705 92.8838 128.282 92.8838 Q121.859 92.8838 120.105 93.032 L120.105 91.4757 L121.711 91.4757 Q124.898 91.4757 125.664 91.0311 Q126.429 90.5617 126.429 89.0301 L126.429 62.8198 Q123.786 64.1538 119.784 64.1538 Z\" fill=\"#000000\" fill-rule=\"nonzero\" fill-opacity=\"1\" /><path clip-path=\"url(#clip670)\" d=\"M142.561 76.8513 Q142.561 69.4156 144.438 65.3643 Q147.057 59.3366 153.232 59.3366 Q154.542 59.3366 155.9 59.7072 Q157.284 60.053 159.013 61.4117 Q160.767 62.7704 161.829 64.9937 Q163.855 69.2921 163.855 76.8513 Q163.855 84.2376 161.977 88.2643 Q159.235 94.1437 153.183 94.1437 Q150.91 94.1437 148.588 92.9826 Q146.291 91.8216 144.833 89.0301 Q142.561 84.8552 142.561 76.8513 M146.76 76.2337 Q146.76 83.8671 147.304 86.9056 Q147.921 90.1911 149.601 91.6239 Q151.306 93.032 153.183 93.032 Q155.209 93.032 156.889 91.5251 Q158.593 89.9935 159.112 86.708 Q159.68 83.4718 159.655 76.2337 Q159.655 69.1933 159.161 66.3771 Q158.494 63.0916 156.716 61.7823 Q154.962 60.4483 153.183 60.4483 Q152.516 60.4483 151.8 60.6459 Q151.108 60.8436 150.095 61.4117 Q149.082 61.9799 148.292 63.388 Q147.526 64.7961 147.155 66.9206 Q146.76 69.6626 146.76 76.2337 Z\" fill=\"#000000\" fill-rule=\"nonzero\" fill-opacity=\"1\" /><path clip-path=\"url(#clip670)\" d=\"M167.857 76.8513 Q167.857 69.4156 169.734 65.3643 Q172.353 59.3366 178.529 59.3366 Q179.838 59.3366 181.197 59.7072 Q182.58 60.053 184.309 61.4117 Q186.063 62.7704 187.125 64.9937 Q189.151 69.2921 189.151 76.8513 Q189.151 84.2376 187.274 88.2643 Q184.532 94.1437 178.479 94.1437 Q176.207 94.1437 173.884 92.9826 Q171.587 91.8216 170.13 89.0301 Q167.857 84.8552 167.857 76.8513 M172.056 76.2337 Q172.056 83.8671 172.6 86.9056 Q173.217 90.1911 174.897 91.6239 Q176.602 93.032 178.479 93.032 Q180.505 93.032 182.185 91.5251 Q183.889 89.9935 184.408 86.708 Q184.976 83.4718 184.952 76.2337 Q184.952 69.1933 184.458 66.3771 Q183.791 63.0916 182.012 61.7823 Q180.258 60.4483 178.479 60.4483 Q177.812 60.4483 177.096 60.6459 Q176.404 60.8436 175.391 61.4117 Q174.379 61.9799 173.588 63.388 Q172.822 64.7961 172.452 66.9206 Q172.056 69.6626 172.056 76.2337 Z\" fill=\"#000000\" fill-rule=\"nonzero\" fill-opacity=\"1\" /><path clip-path=\"url(#clip670)\" d=\"M193.153 76.8513 Q193.153 69.4156 195.031 65.3643 Q197.649 59.3366 203.825 59.3366 Q205.134 59.3366 206.493 59.7072 Q207.876 60.053 209.606 61.4117 Q211.359 62.7704 212.422 64.9937 Q214.447 69.2921 214.447 76.8513 Q214.447 84.2376 212.57 88.2643 Q209.828 94.1437 203.776 94.1437 Q201.503 94.1437 199.181 92.9826 Q196.883 91.8216 195.426 89.0301 Q193.153 84.8552 193.153 76.8513 M197.353 76.2337 Q197.353 83.8671 197.896 86.9056 Q198.514 90.1911 200.194 91.6239 Q201.898 93.032 203.776 93.032 Q205.801 93.032 207.481 91.5251 Q209.186 89.9935 209.704 86.708 Q210.273 83.4718 210.248 76.2337 Q210.248 69.1933 209.754 66.3771 Q209.087 63.0916 207.308 61.7823 Q205.554 60.4483 203.776 60.4483 Q203.109 60.4483 202.392 60.6459 Q201.7 60.8436 200.688 61.4117 Q199.675 61.9799 198.884 63.388 Q198.118 64.7961 197.748 66.9206 Q197.353 69.6626 197.353 76.2337 Z\" fill=\"#000000\" fill-rule=\"nonzero\" fill-opacity=\"1\" /><path clip-path=\"url(#clip670)\" d=\"M12.4868 867.55 Q13.1544 867.55 13.7165 867.691 L26.2241 869.658 Q27.1727 869.764 27.524 869.975 Q27.8754 870.15 27.8754 870.712 Q27.8754 871.591 26.9619 871.591 Q26.4349 871.591 25.5917 871.38 Q21.6216 870.783 19.8298 870.783 Q18.6352 870.783 17.7569 871.029 Q16.8434 871.239 16.211 871.591 Q15.5786 871.907 15.157 872.645 Q14.7354 873.382 14.4894 874.085 Q14.2435 874.788 14.1381 876.053 Q13.9976 877.317 13.9624 878.407 Q13.9273 879.496 13.9273 881.288 Q13.9273 885.187 14.0678 885.82 Q14.2435 886.487 14.7705 886.839 Q15.2624 887.155 16.738 887.506 L54.9283 897.063 L56.439 897.344 Q57.2823 897.344 57.5633 896.817 Q57.8444 896.29 58.0201 894.673 Q58.1957 892.355 58.1957 890.071 Q58.1957 890.001 58.1957 889.86 Q58.1957 889.087 58.2309 888.771 Q58.2309 888.455 58.3011 888.139 Q58.3714 887.822 58.5471 887.752 Q58.6876 887.647 58.9687 887.647 Q59.6362 887.647 59.9875 887.928 Q60.3037 888.209 60.374 888.49 Q60.4091 888.736 60.4091 889.228 Q60.4091 890.212 60.3389 892.32 Q60.2686 894.428 60.2686 895.482 L60.1983 901.454 L60.2686 907.568 Q60.2686 908.516 60.3389 910.519 Q60.4091 912.521 60.4091 913.47 Q60.4091 914.7 59.5308 914.7 Q58.5471 914.7 58.3714 914.243 Q58.1957 913.751 58.1957 911.678 Q58.1957 908.762 58.0552 907.181 Q57.9147 905.6 57.4228 904.757 Q56.9309 903.879 56.439 903.633 Q55.912 903.387 54.7175 903.106 L16.3164 893.444 Q15.4732 893.163 14.8056 893.163 Q14.4543 893.163 14.3138 893.268 Q14.1732 893.338 14.0678 893.795 Q13.9273 894.252 13.9273 895.2 L13.9273 898.011 Q13.9273 900.892 14.0678 902.684 Q14.1732 904.441 14.7002 906.127 Q15.2273 907.778 15.9651 908.762 Q16.7029 909.711 18.2136 910.765 Q19.7244 911.819 21.5513 912.592 Q23.3783 913.329 26.3646 914.383 Q27.3484 914.735 27.6294 914.946 Q27.8754 915.121 27.8754 915.613 Q27.8754 915.964 27.6646 916.246 Q27.4186 916.491 27.1024 916.491 Q25.943 916.14 25.8025 916.07 L13.1192 911.748 Q12.1004 911.397 11.9247 911.081 Q11.7139 910.73 11.7139 909.43 L11.7139 869.518 Q11.7139 868.885 11.7139 868.675 Q11.7139 868.464 11.7842 868.112 Q11.8544 867.761 12.0301 867.656 Q12.2058 867.55 12.4868 867.55 Z\" fill=\"#000000\" fill-rule=\"nonzero\" fill-opacity=\"1\" /><path clip-path=\"url(#clip670)\" d=\"M63.5854 841.799 Q64.9627 841.799 65.7005 842.488 Q66.4137 843.176 66.4137 844.111 Q66.4137 844.873 65.971 845.291 Q65.5283 845.685 64.9381 845.685 Q64.0773 845.685 63.3887 844.996 Q62.7001 844.283 62.6755 843.25 Q61.7655 843.595 61.2245 844.504 Q60.6588 845.414 60.5112 846.226 Q60.3637 847.013 60.3637 847.8 Q60.3637 849.349 60.8556 850.53 Q61.3474 851.71 62.1098 852.301 Q62.8476 852.891 63.5608 853.161 Q64.2741 853.432 64.8889 853.432 Q65.43 853.432 65.8726 853.309 Q66.2907 853.161 66.6104 852.817 Q66.9056 852.473 67.1023 852.227 Q67.2991 851.956 67.4712 851.366 Q67.6434 850.776 67.7172 850.53 Q67.7663 850.284 67.9139 849.595 Q68.209 848.169 68.3812 847.529 Q68.5287 846.89 68.9468 846.054 Q69.3649 845.193 70.029 844.554 Q71.5783 843.004 73.718 843.004 Q74.505 843.004 75.4641 843.275 Q76.4233 843.521 77.6284 844.234 Q78.8334 844.947 79.7926 846.029 Q80.7517 847.111 81.4158 848.981 Q82.0798 850.825 82.0798 853.137 Q82.0798 856.359 80.7272 858.351 Q79.3499 860.343 77.1857 860.343 Q75.6117 860.343 74.7509 859.482 Q73.8655 858.621 73.8655 857.514 Q73.8655 856.678 74.3328 856.162 Q74.7755 855.645 75.6117 855.645 Q76.743 855.645 77.6038 856.555 Q78.4645 857.465 78.2924 858.818 Q80.9485 857.662 80.9485 853.088 Q80.9485 851.366 80.5058 850.038 Q80.0385 848.685 79.3991 847.948 Q78.7351 847.185 77.9235 846.693 Q77.1119 846.201 76.4971 846.054 Q75.8822 845.882 75.4149 845.882 Q74.6034 845.882 73.9885 846.201 Q73.3737 846.521 73.0294 846.964 Q72.6605 847.382 72.3653 848.194 Q72.0456 848.981 71.9227 849.546 Q71.7997 850.112 71.6029 851.12 Q71.5046 851.587 71.4554 851.883 Q71.3816 852.178 71.1848 852.793 Q70.9635 853.383 70.7422 853.801 Q70.5208 854.194 70.1273 854.711 Q69.7338 855.227 69.2666 855.547 Q68.7993 855.867 68.1107 856.088 Q67.422 856.309 66.6104 856.309 Q65.8726 856.309 64.9873 856.088 Q64.1019 855.842 63.069 855.227 Q62.036 854.588 61.1999 853.678 Q60.3637 852.768 59.8226 851.243 Q59.257 849.694 59.257 847.8 Q59.257 845.046 60.5358 843.422 Q61.7901 841.799 63.5854 841.799 Z\" fill=\"#000000\" fill-rule=\"nonzero\" fill-opacity=\"1\" /><path clip-path=\"url(#clip670)\" d=\"M74.3082 812.444 Q74.505 812.444 75.2674 812.665 Q76.0298 812.886 77.2103 813.428 Q78.3908 813.944 79.4729 814.657 Q80.5304 815.37 81.3174 816.551 Q82.0798 817.707 82.0798 819.035 Q82.0798 820.806 80.8993 821.986 Q79.7188 823.167 77.9481 823.167 Q77.7021 823.167 77.4562 823.142 Q77.2103 823.117 77.0627 823.093 Q76.8906 823.068 76.62 822.994 Q76.3249 822.896 76.2019 822.871 Q76.079 822.822 75.7101 822.699 Q75.3166 822.552 75.169 822.503 Q67.2007 819.379 63.8806 819.379 Q60.3637 819.379 60.3637 822.109 Q60.3637 824.544 62.1344 826.954 Q63.0198 828.061 64.5938 829.118 Q66.1678 830.176 66.758 830.372 Q68.0369 830.594 69.0206 830.914 Q69.7092 831.061 72.3899 831.774 L76.9397 832.881 L80.7517 833.84 Q81.2928 834.037 81.6863 834.578 Q82.0798 835.119 82.0798 835.709 Q82.0798 836.201 81.7355 836.693 Q81.4158 837.16 80.6534 837.16 Q80.2599 837.16 79.5467 836.964 L50.5263 829.659 L49.5425 829.512 Q49.2474 829.512 49.0998 829.635 Q48.9277 829.733 48.8047 830.323 Q48.6817 830.889 48.6817 832.02 Q48.6817 832.488 48.6571 832.709 Q48.6325 832.906 48.5096 833.078 Q48.362 833.25 48.0669 833.25 Q47.6488 833.25 47.4275 833.078 Q47.1815 832.881 47.1323 832.733 Q47.0832 832.586 47.0586 832.291 Q47.034 831.873 46.911 830.471 Q46.7634 829.069 46.6651 827.864 Q46.5667 826.659 46.5667 826.142 Q46.5667 825.847 46.7142 825.7 Q46.8372 825.528 46.9848 825.503 L47.1077 825.478 L63.1182 829.413 Q59.257 826.29 59.257 821.961 Q59.257 819.158 60.708 817.658 Q62.1344 816.157 64.643 816.157 Q67.5204 816.157 75.7101 819.232 Q77.9973 820.142 79.3007 820.142 Q80.1615 820.142 80.555 819.871 Q80.9485 819.576 80.9485 818.936 Q80.9485 817.953 80.3828 817.092 Q79.7926 816.207 78.8334 815.592 Q77.8497 814.977 76.866 814.559 Q75.8576 814.116 74.7263 813.796 Q74.1115 813.6 73.9639 813.501 Q73.8164 813.378 73.8164 813.034 Q73.8164 812.444 74.3082 812.444 Z\" fill=\"#000000\" fill-rule=\"nonzero\" fill-opacity=\"1\" /><path clip-path=\"url(#clip670)\" d=\"M50.0344 797.192 Q51.1165 797.192 51.9281 798.078 Q52.7151 798.938 52.7151 799.873 Q52.7151 800.734 52.1986 801.275 Q51.6576 801.791 50.8952 801.791 Q49.8868 801.791 49.0506 800.93 Q48.2145 800.07 48.2145 799.061 Q48.2145 798.225 48.7309 797.709 Q49.2474 797.192 50.0344 797.192 M74.3082 796.749 Q74.505 796.749 75.292 796.971 Q76.0544 797.192 77.2349 797.733 Q78.3908 798.25 79.4729 798.963 Q80.555 799.676 81.3174 800.857 Q82.0798 802.013 82.0798 803.341 Q82.0798 805.136 80.8993 806.316 Q79.7188 807.472 77.9481 807.472 Q76.9889 807.472 73.9147 806.316 Q64.9627 802.972 64.5938 802.849 Q63.1919 802.283 61.9623 802.283 Q61.3966 802.283 61.0523 802.406 Q60.6834 802.529 60.5604 802.775 Q60.4129 803.021 60.3883 803.168 Q60.3637 803.291 60.3637 803.537 Q60.3637 804.988 61.8393 806.341 Q63.3149 807.694 66.6104 808.628 Q67.2253 808.825 67.3728 808.948 Q67.5204 809.071 67.5204 809.44 Q67.4958 810.055 67.0039 810.055 Q66.8564 810.055 66.2907 809.882 Q65.7005 809.71 64.8151 809.391 Q63.9052 809.071 62.9706 808.505 Q62.0114 807.94 61.1753 807.251 Q60.3391 806.538 59.798 805.529 Q59.257 804.521 59.257 803.39 Q59.257 801.545 60.4621 800.414 Q61.6425 799.258 63.3887 799.258 Q64.3478 799.258 66.0448 799.922 Q68.2582 800.734 68.9714 801.029 L74.259 802.996 Q76.1773 803.709 76.7676 803.931 Q77.3332 804.128 78.0219 804.3 Q78.6859 804.447 79.3007 804.447 Q80.1615 804.447 80.555 804.177 Q80.9485 803.882 80.9485 803.242 Q80.9485 801.471 79.2024 800.168 Q77.4316 798.865 74.7263 798.102 Q74.6525 798.078 74.5296 798.053 Q73.9147 797.856 73.841 797.659 Q73.8164 797.561 73.8164 797.364 Q73.8164 796.749 74.3082 796.749 Z\" fill=\"#000000\" fill-rule=\"nonzero\" fill-opacity=\"1\" /><path clip-path=\"url(#clip670)\" d=\"M49.4687 766.336 Q50.8214 766.336 51.6576 767.197 Q52.4937 768.033 52.4937 769.091 Q52.4937 769.853 52.0265 770.419 Q51.5592 770.96 50.7476 770.96 Q49.9114 770.96 49.026 770.321 Q48.1407 769.681 48.0177 768.23 Q47.1077 769.189 47.1077 770.714 Q47.1077 771.476 47.5996 772.116 Q48.0669 772.731 48.8293 773.075 Q49.6163 773.444 54.0677 774.28 Q55.5187 774.551 56.9206 774.797 Q58.3224 775.042 59.798 775.338 L59.798 771.157 Q59.798 770.616 59.8226 770.394 Q59.8472 770.173 59.9702 770.001 Q60.0932 769.804 60.3637 769.804 Q61.0523 769.804 61.2245 770.124 Q61.372 770.419 61.372 771.304 L61.372 775.633 L77.3332 778.658 Q77.8005 778.732 79.2761 779.051 Q80.7272 779.346 83.1127 780.06 Q85.5229 780.773 86.9493 781.486 Q87.7609 781.879 88.5233 782.396 Q89.3103 782.888 90.0973 783.601 Q90.8843 784.314 91.3516 785.249 Q91.8434 786.183 91.8434 787.167 Q91.8434 788.839 90.9089 790.143 Q89.9743 791.446 88.3758 791.446 Q87.0231 791.446 86.1869 790.61 Q85.3507 789.749 85.3507 788.692 Q85.3507 787.93 85.818 787.388 Q86.2853 786.823 87.0969 786.823 Q87.4412 786.823 87.8347 786.946 Q88.2282 787.069 88.6709 787.339 Q89.1382 787.61 89.4579 788.2 Q89.7776 788.79 89.8268 789.602 Q90.7367 788.643 90.7367 787.167 Q90.7367 786.7 90.54 786.282 Q90.3678 785.864 89.9251 785.519 Q89.4825 785.15 89.0398 784.88 Q88.6217 784.609 87.8101 784.339 Q87.0231 784.068 86.4329 783.896 Q85.8426 783.724 84.7851 783.503 Q83.7276 783.257 83.0881 783.134 Q82.4733 783.011 81.2682 782.789 L61.372 779.027 L61.372 782.347 Q61.372 782.937 61.3474 783.183 Q61.3228 783.404 61.1999 783.576 Q61.0523 783.749 60.7572 783.749 Q60.2899 783.749 60.0932 783.552 Q59.8718 783.331 59.8472 783.085 Q59.798 782.839 59.798 782.248 L59.798 778.756 Q53.5759 777.576 51.9035 777.108 Q50.1328 776.567 48.9031 775.731 Q47.6488 774.895 47.0586 773.96 Q46.4683 773.026 46.247 772.263 Q46.001 771.476 46.001 770.714 Q46.001 768.992 46.9356 767.664 Q47.8456 766.336 49.4687 766.336 Z\" fill=\"#000000\" fill-rule=\"nonzero\" fill-opacity=\"1\" /><path clip-path=\"url(#clip670)\" d=\"M60.3637 747.171 Q61.0523 747.171 61.2245 747.491 Q61.372 747.811 61.372 748.696 L61.372 753.418 L76.2265 757.156 Q77.53 757.451 78.6367 757.451 Q79.8664 757.451 80.4074 757.083 Q80.9485 756.689 80.9485 755.877 Q80.9485 754.279 79.4975 752.557 Q78.0465 750.811 74.505 749.336 Q74.0377 749.139 73.9393 749.04 Q73.8164 748.917 73.8164 748.598 Q73.8164 747.983 74.3082 747.983 Q74.4804 747.983 75.2674 748.327 Q76.0544 748.647 77.2103 749.36 Q78.3662 750.049 79.4483 750.959 Q80.5304 751.844 81.3174 753.197 Q82.0798 754.549 82.0798 756 Q82.0798 758.042 80.7763 759.345 Q79.4729 760.624 77.4316 760.624 Q76.7676 760.624 74.6525 760.108 Q72.5129 759.591 61.372 756.787 L61.372 761.239 Q61.372 761.854 61.3474 762.1 Q61.3228 762.321 61.1999 762.493 Q61.0523 762.641 60.7572 762.641 Q60.2899 762.641 60.0932 762.444 Q59.8718 762.247 59.8472 762.001 Q59.798 761.731 59.798 761.116 L59.798 756.394 L51.8051 754.426 Q51.0181 754.23 50.5754 753.738 Q50.1082 753.221 50.059 752.926 Q49.9852 752.631 49.9852 752.41 Q49.9852 751.746 50.3541 751.352 Q50.6984 750.959 51.3378 750.959 Q51.6822 750.959 59.798 753.025 L59.798 748.598 Q59.798 748.032 59.8226 747.811 Q59.8472 747.565 59.9702 747.368 Q60.0932 747.171 60.3637 747.171 Z\" fill=\"#000000\" fill-rule=\"nonzero\" fill-opacity=\"1\" /><path clip-path=\"url(#clip670)\" d=\"M75.6855 726.653 Q75.9068 726.456 76.1282 726.456 Q76.3495 726.456 76.9889 726.948 Q77.6284 727.416 78.4891 728.424 Q79.3499 729.432 80.1615 730.736 Q80.9731 732.039 81.5141 733.958 Q82.0798 735.876 82.0798 737.893 Q82.0798 741.508 79.4975 743.672 Q76.9152 745.812 72.9556 745.812 Q70.4224 745.812 68.1844 744.975 Q65.9218 744.139 64.3232 742.787 Q62.7247 741.409 61.5688 739.688 Q60.3883 737.942 59.8226 736.122 Q59.257 734.302 59.257 732.605 Q59.257 730.121 60.5112 728.67 Q61.7655 727.219 63.5362 727.219 Q63.9543 727.219 64.4708 727.342 Q64.9873 727.44 65.7989 727.785 Q66.6104 728.104 67.422 728.94 Q68.209 729.777 68.7255 731.006 Q69.8814 733.736 69.8814 738.704 L69.8814 741.385 Q73.054 742.172 75.1198 742.172 Q75.9314 742.172 76.7676 742.024 Q77.5792 741.877 78.6121 741.483 Q79.645 741.065 80.3091 740.131 Q80.9485 739.171 80.9485 737.794 Q80.9485 737.351 80.9239 736.884 Q80.8993 736.392 80.6288 735.163 Q80.3582 733.908 79.891 732.802 Q79.4237 731.695 78.4154 730.293 Q77.3824 728.867 75.9806 727.735 Q75.4641 727.342 75.4641 727.071 Q75.4641 726.85 75.6855 726.653 M63.5362 728.891 Q62.1836 728.891 61.2736 729.9 Q60.3637 730.883 60.3637 732.605 Q60.3637 733.146 60.4866 733.81 Q60.6096 734.474 61.1261 735.581 Q61.6425 736.663 62.5033 737.622 Q63.3395 738.581 64.9873 739.54 Q66.6104 740.499 68.7747 741.065 L68.7747 738.999 Q68.7747 738.286 68.7747 737.77 Q68.7501 737.253 68.6517 736.122 Q68.5533 734.966 68.3812 734.13 Q68.1844 733.294 67.7909 732.236 Q67.3974 731.178 66.881 730.514 Q66.3399 729.826 65.4791 729.359 Q64.6184 728.891 63.5362 728.891 Z\" fill=\"#000000\" fill-rule=\"nonzero\" fill-opacity=\"1\" /><path clip-path=\"url(#clip670)\" d=\"M47.1077 698.595 L76.2265 705.85 Q77.53 706.145 78.6367 706.145 Q80.9485 706.145 80.9485 704.645 Q80.9485 703.907 80.4812 703.317 Q80.0139 702.727 79.0302 702.259 Q78.0465 701.792 77.1365 701.497 Q76.2019 701.202 74.7263 700.808 Q74.1361 700.685 73.9885 700.587 Q73.8164 700.464 73.8164 700.12 Q73.8164 699.505 74.3082 699.505 Q77.4808 700.169 79.3007 701.03 Q82.0798 702.407 82.0798 704.743 Q82.0798 706.514 80.9977 707.768 Q79.9156 709.023 78.2924 709.318 Q82.0798 712.54 82.0798 715.884 Q82.0798 718.836 79.8418 720.705 Q77.5792 722.574 74.0131 722.574 Q70.4224 722.574 66.9793 720.803 Q63.5362 719.008 61.3966 716.179 Q59.257 713.351 59.257 710.449 Q59.257 707.375 62.4787 705.801 L50.5263 702.776 L49.5425 702.628 Q49.2474 702.628 49.0998 702.751 Q48.9277 702.85 48.8047 703.44 Q48.6817 704.006 48.6817 705.137 Q48.6817 705.604 48.6571 705.826 Q48.6325 706.022 48.5096 706.194 Q48.362 706.367 48.0669 706.367 Q47.2061 706.367 47.1077 705.653 Q46.5667 700.931 46.5667 699.259 Q46.5667 698.964 46.7142 698.792 Q46.8372 698.62 46.9848 698.62 L47.1077 698.595 M64.7905 706.416 Q64.5692 706.416 63.9543 706.588 Q63.3395 706.76 62.4787 707.154 Q61.618 707.547 61.0031 708.408 Q60.3637 709.244 60.3637 710.375 Q60.3637 711.9 61.6671 713.499 Q62.9706 715.073 65.184 716.229 Q66.9548 717.114 70.6684 718.073 Q74.382 719.008 76.2265 719.008 Q77.3578 719.008 78.3662 718.762 Q79.3499 718.491 80.1615 717.729 Q80.9485 716.966 80.9485 715.786 Q80.9485 712.908 77.3824 710.08 Q76.7676 709.539 76.5217 709.416 Q76.2511 709.269 75.5133 709.072 L65.6513 706.563 Q64.9135 706.416 64.7905 706.416 Z\" fill=\"#000000\" fill-rule=\"nonzero\" fill-opacity=\"1\" /><path clip-path=\"url(#clip670)\" d=\"M79.3813 655.849 L3.49261 655.849 L3.49261 644.399 L5.23419 644.399 L5.23419 650.773 L77.6397 650.773 L77.6397 644.399 L79.3813 644.399 L79.3813 655.849 Z\" fill=\"#000000\" fill-rule=\"nonzero\" fill-opacity=\"1\" /><path clip-path=\"url(#clip670)\" d=\"M17.0177 638.47 Q13.5345 638.47 11.0518 636.025 Q8.56915 633.542 8.56915 630.059 Q8.56915 626.502 11.0889 624.093 Q13.5716 621.647 16.9065 621.647 Q20.3897 621.647 22.8724 624.167 Q25.3551 626.65 25.3551 630.059 Q25.3551 633.616 22.8724 636.062 Q20.3526 638.47 17.0177 638.47 M13.164 633.839 Q14.7203 635.432 17.0177 635.432 Q19.2781 635.432 20.7973 633.839 Q22.3166 632.245 22.3166 630.059 Q22.3166 627.873 20.7973 626.316 Q19.2781 624.76 17.0177 624.76 Q14.7203 624.76 13.164 626.353 Q11.6077 627.947 11.6077 630.059 Q11.6077 632.245 13.164 633.839 Z\" fill=\"#000000\" fill-rule=\"nonzero\" fill-opacity=\"1\" /><path clip-path=\"url(#clip670)\" d=\"M34.4706 613.162 Q23.0206 613.162 14.9797 605.343 Q6.90167 597.525 6.90167 586.779 Q6.90167 583.444 8.12449 580.479 Q9.3473 577.515 10.4219 576.144 Q11.4594 574.773 13.4234 572.809 L7.82805 568.992 Q6.90167 568.399 6.90167 567.806 Q6.90167 567.177 7.27222 567.065 Q7.60572 566.954 8.71737 566.954 L26.7261 566.954 Q27.9489 566.954 28.2454 567.102 Q28.5418 567.251 28.5418 568.177 Q28.5418 568.918 28.3195 569.103 Q28.0972 569.252 27.2449 569.4 Q19.0557 570.549 14.1645 575.106 Q9.27319 579.627 9.27319 585.926 Q9.27319 587.742 9.6808 589.78 Q10.0884 591.781 11.6447 594.708 Q13.201 597.599 15.7949 599.859 Q18.3517 602.082 23.2429 603.713 Q28.0972 605.343 34.5447 605.343 Q40.9182 605.343 45.8095 603.713 Q50.7007 602.082 53.2575 599.859 Q55.7773 597.599 57.3336 594.708 Q58.8899 591.781 59.3346 589.743 Q59.7422 587.668 59.7422 585.852 Q59.7422 579.331 55.1103 574.328 Q50.4784 569.326 42.6598 568.844 Q42.2892 568.77 42.141 568.77 Q41.9557 568.77 41.7705 568.696 Q41.5852 568.622 41.5111 568.436 Q41.437 568.251 41.437 567.955 Q41.437 566.954 42.7339 566.954 Q49.9596 566.954 56.0367 572.512 Q62.0766 578.034 62.0766 586.779 Q62.0766 597.562 54.0727 605.38 Q46.0688 613.162 34.4706 613.162 Z\" fill=\"#000000\" fill-rule=\"nonzero\" fill-opacity=\"1\" /><path clip-path=\"url(#clip670)\" d=\"M77.6397 561.062 L77.6397 554.689 L5.23419 554.689 L5.23419 561.062 L3.49261 561.062 L3.49261 549.612 L79.3813 549.612 L79.3813 561.062 L77.6397 561.062 Z\" fill=\"#000000\" fill-rule=\"nonzero\" fill-opacity=\"1\" /><polyline clip-path=\"url(#clip672)\" style=\"stroke:#5f9ea0; stroke-linecap:round; stroke-linejoin:round; stroke-width:8; stroke-opacity:1; fill:none\" points=\"2293.26,402.549 2273.66,422.767 1584.49,1133.92 1572.35,1154.13 1566.35,1164.11 1500.6,1273.56 635.442,1274.9 635.201,1275.04 559.04,1338.93 542.169,1353.08 312.272,1379.77 309.95,1380.04 \"/>\n",
       "<polyline clip-path=\"url(#clip672)\" style=\"stroke:#cd5c5c; stroke-linecap:round; stroke-linejoin:round; stroke-width:8; stroke-opacity:1; fill:none\" points=\"2293.26,86.0634 1465.05,87.4113 1465.05,402.549 1465.05,422.767 710.789,1133.92 689.344,1154.13 677.031,1164.11 603.161,1273.56 602.251,1274.9 602.161,1275.04 559.04,1338.93 472.72,1353.08 309.947,1379.77 \"/>\n",
       "<path clip-path=\"url(#clip670)\" d=\"M320.524 248.485 L718.772 248.485 L718.772 92.9646 L320.524 92.9646  Z\" fill=\"#ffffff\" fill-rule=\"evenodd\" fill-opacity=\"1\"/>\n",
       "<polyline clip-path=\"url(#clip670)\" style=\"stroke:#000000; stroke-linecap:round; stroke-linejoin:round; stroke-width:4; stroke-opacity:1; fill:none\" points=\"320.524,248.485 718.772,248.485 718.772,92.9646 320.524,92.9646 320.524,248.485 \"/>\n",
       "<polyline clip-path=\"url(#clip670)\" style=\"stroke:#5f9ea0; stroke-linecap:round; stroke-linejoin:round; stroke-width:8; stroke-opacity:1; fill:none\" points=\"343.883,144.805 484.037,144.805 \"/>\n",
       "<path clip-path=\"url(#clip670)\" d=\"M507.396 144.792 Q507.396 137.159 512.609 131.798 Q517.821 126.413 524.985 126.413 Q527.208 126.413 529.185 127.228 Q531.161 128.043 532.075 128.76 Q532.989 129.451 534.298 130.761 L536.843 127.031 Q537.238 126.413 537.633 126.413 Q538.053 126.413 538.127 126.66 Q538.201 126.882 538.201 127.623 L538.201 139.629 Q538.201 140.444 538.102 140.642 Q538.004 140.84 537.386 140.84 Q536.892 140.84 536.769 140.692 Q536.67 140.543 536.571 139.975 Q535.805 134.516 532.767 131.255 Q529.753 127.994 525.553 127.994 Q524.343 127.994 522.984 128.266 Q521.65 128.537 519.698 129.575 Q517.772 130.613 516.265 132.342 Q514.783 134.046 513.696 137.307 Q512.609 140.543 512.609 144.842 Q512.609 149.091 513.696 152.351 Q514.783 155.612 516.265 157.317 Q517.772 158.997 519.698 160.034 Q521.65 161.072 523.009 161.368 Q524.392 161.64 525.603 161.64 Q529.95 161.64 533.285 158.552 Q536.62 155.464 536.941 150.252 Q536.991 150.005 536.991 149.906 Q536.991 149.782 537.04 149.659 Q537.09 149.535 537.213 149.486 Q537.337 149.436 537.534 149.436 Q538.201 149.436 538.201 150.301 Q538.201 155.118 534.496 159.17 Q530.815 163.196 524.985 163.196 Q517.796 163.196 512.584 157.86 Q507.396 152.524 507.396 144.792 Z\" fill=\"#000000\" fill-rule=\"nonzero\" fill-opacity=\"1\" /><path clip-path=\"url(#clip670)\" d=\"M545.81 159.367 Q542.475 156.057 542.475 151.265 Q542.475 146.447 545.736 142.94 Q549.021 139.407 553.715 139.407 Q558.31 139.407 561.595 142.915 Q564.906 146.398 564.906 151.265 Q564.906 156.032 561.571 159.343 Q558.26 162.653 553.666 162.653 Q549.17 162.653 545.81 159.367 M546.675 150.845 Q546.675 155.761 547.959 157.984 Q549.935 161.368 553.715 161.368 Q555.592 161.368 557.149 160.355 Q558.73 159.343 559.594 157.638 Q560.706 155.415 560.706 150.845 Q560.706 145.978 559.372 143.829 Q557.396 140.543 553.666 140.543 Q552.035 140.543 550.429 141.408 Q548.848 142.248 547.885 143.928 Q546.675 146.151 546.675 150.845 Z\" fill=\"#000000\" fill-rule=\"nonzero\" fill-opacity=\"1\" /><path clip-path=\"url(#clip670)\" d=\"M568.043 162.085 L568.043 160.528 Q570.736 160.528 571.353 160.207 Q571.971 159.861 571.971 158.231 L571.971 131.922 Q571.971 130.044 571.304 129.575 Q570.662 129.106 568.043 129.106 L568.043 127.525 L575.306 126.981 L575.306 158.231 Q575.306 159.861 575.948 160.207 Q576.59 160.528 579.258 160.528 L579.258 162.085 Q578.641 162.085 577.356 162.035 Q576.072 161.986 575.133 161.961 Q574.194 161.936 573.651 161.936 Q573.058 161.936 568.043 162.085 Z\" fill=\"#000000\" fill-rule=\"nonzero\" fill-opacity=\"1\" /><path clip-path=\"url(#clip670)\" d=\"M582.099 151.215 Q582.099 146.398 585.459 143.063 Q588.818 139.728 593.364 139.728 Q597.218 139.728 599.737 142.865 L599.737 131.922 Q599.737 130.044 599.07 129.575 Q598.428 129.106 595.81 129.106 L595.81 127.525 L603.097 126.981 L603.097 157.687 Q603.097 159.565 603.739 160.059 Q604.406 160.528 607.025 160.528 L607.025 162.085 L599.589 162.653 L599.589 159.293 Q596.971 162.628 592.82 162.653 Q588.473 162.653 585.286 159.318 Q582.099 155.983 582.099 151.215 M586.299 151.265 Q586.299 155.958 587.756 158.28 Q589.782 161.516 593.067 161.516 Q596.822 161.516 599.046 157.984 Q599.614 157.119 599.589 156.106 L599.589 145.731 Q599.589 144.718 599.046 143.878 Q596.971 140.84 593.586 140.84 Q590.054 140.84 587.855 144.076 Q586.299 146.497 586.299 151.265 Z\" fill=\"#000000\" fill-rule=\"nonzero\" fill-opacity=\"1\" /><path clip-path=\"url(#clip670)\" d=\"M628.097 144.792 Q628.097 137.159 633.309 131.798 Q638.522 126.413 645.686 126.413 Q647.909 126.413 649.885 127.228 Q651.861 128.043 652.775 128.76 Q653.69 129.451 654.999 130.761 L657.543 127.031 Q657.938 126.413 658.334 126.413 Q658.754 126.413 658.828 126.66 Q658.902 126.882 658.902 127.623 L658.902 139.629 Q658.902 140.444 658.803 140.642 Q658.704 140.84 658.087 140.84 Q657.593 140.84 657.469 140.692 Q657.37 140.543 657.271 139.975 Q656.506 134.516 653.467 131.255 Q650.453 127.994 646.254 127.994 Q645.043 127.994 643.685 128.266 Q642.351 128.537 640.399 129.575 Q638.472 130.613 636.965 132.342 Q635.483 134.046 634.396 137.307 Q633.309 140.543 633.309 144.842 Q633.309 149.091 634.396 152.351 Q635.483 155.612 636.965 157.317 Q638.472 158.997 640.399 160.034 Q642.351 161.072 643.709 161.368 Q645.093 161.64 646.303 161.64 Q650.651 161.64 653.986 158.552 Q657.321 155.464 657.642 150.252 Q657.691 150.005 657.691 149.906 Q657.691 149.782 657.741 149.659 Q657.79 149.535 657.914 149.486 Q658.037 149.436 658.235 149.436 Q658.902 149.436 658.902 150.301 Q658.902 155.118 655.196 159.17 Q651.516 163.196 645.686 163.196 Q638.497 163.196 633.285 157.86 Q628.097 152.524 628.097 144.792 Z\" fill=\"#000000\" fill-rule=\"nonzero\" fill-opacity=\"1\" /><path clip-path=\"url(#clip670)\" d=\"M664.608 144.792 Q664.608 137.159 669.821 131.798 Q675.033 126.413 682.197 126.413 Q684.42 126.413 686.397 127.228 Q688.373 128.043 689.287 128.76 Q690.201 129.451 691.51 130.761 L694.055 127.031 Q694.45 126.413 694.845 126.413 Q695.265 126.413 695.339 126.66 Q695.413 126.882 695.413 127.623 L695.413 139.629 Q695.413 140.444 695.315 140.642 Q695.216 140.84 694.598 140.84 Q694.104 140.84 693.981 140.692 Q693.882 140.543 693.783 139.975 Q693.017 134.516 689.979 131.255 Q686.965 127.994 682.765 127.994 Q681.555 127.994 680.196 128.266 Q678.862 128.537 676.911 129.575 Q674.984 130.613 673.477 132.342 Q671.995 134.046 670.908 137.307 Q669.821 140.543 669.821 144.842 Q669.821 149.091 670.908 152.351 Q671.995 155.612 673.477 157.317 Q674.984 158.997 676.911 160.034 Q678.862 161.072 680.221 161.368 Q681.604 161.64 682.815 161.64 Q687.163 161.64 690.498 158.552 Q693.832 155.464 694.154 150.252 Q694.203 150.005 694.203 149.906 Q694.203 149.782 694.252 149.659 Q694.302 149.535 694.425 149.486 Q694.549 149.436 694.746 149.436 Q695.413 149.436 695.413 150.301 Q695.413 155.118 691.708 159.17 Q688.027 163.196 682.197 163.196 Q675.009 163.196 669.796 157.86 Q664.608 152.524 664.608 144.792 Z\" fill=\"#000000\" fill-rule=\"nonzero\" fill-opacity=\"1\" /><polyline clip-path=\"url(#clip670)\" style=\"stroke:#cd5c5c; stroke-linecap:round; stroke-linejoin:round; stroke-width:8; stroke-opacity:1; fill:none\" points=\"343.883,196.645 484.037,196.645 \"/>\n",
       "<path clip-path=\"url(#clip670)\" d=\"M507.396 213.925 L507.396 212.368 L508.607 212.368 Q511.349 212.368 511.966 211.924 Q512.609 211.454 512.609 209.972 L512.609 183.317 Q512.609 181.86 511.966 181.415 Q511.324 180.946 508.607 180.946 L507.396 180.946 L507.396 179.365 Q509.175 179.513 514.881 179.513 Q520.538 179.513 522.317 179.365 L522.317 180.946 L521.107 180.946 Q518.364 180.946 517.722 181.415 Q517.105 181.86 517.105 183.317 L517.105 195.15 L532.223 195.15 L532.223 183.317 Q532.223 181.86 531.581 181.415 Q530.963 180.946 528.221 180.946 L527.011 180.946 L527.011 179.365 Q528.789 179.513 534.496 179.513 Q540.153 179.513 541.932 179.365 L541.932 180.946 L540.721 180.946 Q537.979 180.946 537.337 181.415 Q536.719 181.86 536.719 183.317 L536.719 209.972 Q536.719 211.43 537.361 211.899 Q538.004 212.368 540.721 212.368 L541.932 212.368 L541.932 213.925 Q540.153 213.776 534.446 213.776 Q528.789 213.776 527.011 213.925 L527.011 212.368 L528.221 212.368 Q530.963 212.368 531.581 211.924 Q532.223 211.454 532.223 209.972 L532.223 196.731 L517.105 196.731 L517.105 209.972 Q517.105 211.43 517.722 211.899 Q518.364 212.368 521.107 212.368 L522.317 212.368 L522.317 213.925 Q520.538 213.776 514.832 213.776 Q509.175 213.776 507.396 213.925 Z\" fill=\"#000000\" fill-rule=\"nonzero\" fill-opacity=\"1\" /><path clip-path=\"url(#clip670)\" d=\"M548.404 211.207 Q545.069 207.897 545.069 203.105 Q545.069 198.287 548.33 194.78 Q551.615 191.247 556.309 191.247 Q560.904 191.247 564.189 194.755 Q567.499 198.238 567.499 203.105 Q567.499 207.872 564.165 211.183 Q560.854 214.493 556.259 214.493 Q551.763 214.493 548.404 211.207 M549.268 202.685 Q549.268 207.601 550.553 209.824 Q552.529 213.208 556.309 213.208 Q558.186 213.208 559.743 212.195 Q561.324 211.183 562.188 209.478 Q563.3 207.255 563.3 202.685 Q563.3 197.818 561.966 195.669 Q559.99 192.383 556.259 192.383 Q554.629 192.383 553.023 193.248 Q551.442 194.088 550.479 195.768 Q549.268 197.991 549.268 202.685 Z\" fill=\"#000000\" fill-rule=\"nonzero\" fill-opacity=\"1\" /><path clip-path=\"url(#clip670)\" d=\"M569.92 193.693 L569.92 192.581 Q572.243 192.482 573.774 190.852 Q575.33 189.197 575.849 187.171 Q576.393 185.145 576.442 182.798 L577.702 182.798 L577.702 192.112 L584.94 192.112 L584.94 193.693 L577.702 193.693 L577.702 207.749 Q577.702 213.208 581.111 213.208 Q582.569 213.208 583.532 211.726 Q584.495 210.219 584.495 207.551 L584.495 204.76 L585.755 204.76 L585.755 207.65 Q585.755 210.392 584.495 212.442 Q583.236 214.493 580.74 214.493 Q579.826 214.493 578.912 214.246 Q578.023 214.023 576.837 213.431 Q575.676 212.813 574.935 211.331 Q574.219 209.824 574.219 207.65 L574.219 193.693 L569.92 193.693 Z\" fill=\"#000000\" fill-rule=\"nonzero\" fill-opacity=\"1\" /><path clip-path=\"url(#clip670)\" d=\"M608.235 196.632 Q608.235 188.999 613.448 183.638 Q618.66 178.253 625.824 178.253 Q628.047 178.253 630.024 179.068 Q632 179.883 632.914 180.6 Q633.828 181.291 635.137 182.601 L637.682 178.871 Q638.077 178.253 638.472 178.253 Q638.892 178.253 638.966 178.5 Q639.04 178.722 639.04 179.463 L639.04 191.469 Q639.04 192.284 638.942 192.482 Q638.843 192.68 638.225 192.68 Q637.731 192.68 637.608 192.532 Q637.509 192.383 637.41 191.815 Q636.644 186.356 633.606 183.095 Q630.592 179.834 626.392 179.834 Q625.182 179.834 623.823 180.106 Q622.489 180.377 620.538 181.415 Q618.611 182.453 617.104 184.182 Q615.622 185.886 614.535 189.147 Q613.448 192.383 613.448 196.682 Q613.448 200.931 614.535 204.191 Q615.622 207.452 617.104 209.157 Q618.611 210.837 620.538 211.874 Q622.489 212.912 623.848 213.208 Q625.231 213.48 626.442 213.48 Q630.789 213.48 634.124 210.392 Q637.459 207.304 637.781 202.092 Q637.83 201.845 637.83 201.746 Q637.83 201.622 637.879 201.499 Q637.929 201.375 638.052 201.326 Q638.176 201.276 638.373 201.276 Q639.04 201.276 639.04 202.141 Q639.04 206.958 635.335 211.01 Q631.654 215.036 625.824 215.036 Q618.635 215.036 613.423 209.7 Q608.235 204.364 608.235 196.632 Z\" fill=\"#000000\" fill-rule=\"nonzero\" fill-opacity=\"1\" /><path clip-path=\"url(#clip670)\" d=\"M644.747 196.632 Q644.747 188.999 649.959 183.638 Q655.172 178.253 662.336 178.253 Q664.559 178.253 666.535 179.068 Q668.512 179.883 669.426 180.6 Q670.34 181.291 671.649 182.601 L674.193 178.871 Q674.589 178.253 674.984 178.253 Q675.404 178.253 675.478 178.5 Q675.552 178.722 675.552 179.463 L675.552 191.469 Q675.552 192.284 675.453 192.482 Q675.354 192.68 674.737 192.68 Q674.243 192.68 674.119 192.532 Q674.02 192.383 673.922 191.815 Q673.156 186.356 670.117 183.095 Q667.103 179.834 662.904 179.834 Q661.693 179.834 660.335 180.106 Q659.001 180.377 657.049 181.415 Q655.122 182.453 653.615 184.182 Q652.133 185.886 651.046 189.147 Q649.959 192.383 649.959 196.682 Q649.959 200.931 651.046 204.191 Q652.133 207.452 653.615 209.157 Q655.122 210.837 657.049 211.874 Q659.001 212.912 660.359 213.208 Q661.743 213.48 662.953 213.48 Q667.301 213.48 670.636 210.392 Q673.971 207.304 674.292 202.092 Q674.342 201.845 674.342 201.746 Q674.342 201.622 674.391 201.499 Q674.44 201.375 674.564 201.326 Q674.687 201.276 674.885 201.276 Q675.552 201.276 675.552 202.141 Q675.552 206.958 671.846 211.01 Q668.166 215.036 662.336 215.036 Q655.147 215.036 649.935 209.7 Q644.747 204.364 644.747 196.632 Z\" fill=\"#000000\" fill-rule=\"nonzero\" fill-opacity=\"1\" /></svg>\n"
      ]
     },
     "execution_count": 12,
     "metadata": {},
     "output_type": "execute_result"
    }
   ],
   "source": [
    "# Composite curves of the heat exchanger network\n",
    "vivi_cc(answer)"
   ]
  },
  {
   "cell_type": "markdown",
   "id": "53845d63",
   "metadata": {},
   "source": [
    "From the energy balance it can observed that the energy efficiency of the system is quite high:"
   ]
  },
  {
   "cell_type": "code",
   "execution_count": 13,
   "id": "f9ac5a33",
   "metadata": {},
   "outputs": [
    {
     "data": {
      "application/vnd.plotly.v1+json": {
       "config": {
        "editable": false,
        "responsive": true,
        "scrollZoom": true,
        "showLink": false,
        "staticPlot": false
       },
       "data": [
        {
         "link": {
          "color": [
           "rgba(186,186,186,0.5)",
           "rgba(186,186,186,0.5)",
           "rgba(186,186,186,0.5)",
           "rgba(186,186,186,0.5)",
           "rgba(186,186,186,0.5)",
           "rgba(186,186,186,0.5)",
           "rgba(186,186,186,0.5)",
           "rgba(186,186,186,0.5)",
           "rgba(186,186,186,0.5)",
           "rgba(186,186,186,0.5)",
           "rgba(255,129,127,0.5)",
           "rgba(255,129,127,0.5)",
           "rgba(255,129,127,0.5)",
           "rgba(255,129,127,0.5)",
           "rgba(255,129,127,0.5)",
           "rgba(255,129,127,0.5)",
           "rgba(255,129,127,0.5)",
           "rgba(255,129,127,0.5)",
           "rgba(255,129,127,0.5)",
           "rgba(255,129,127,0.5)"
          ],
          "source": [
           8,
           7,
           0,
           0,
           0,
           7,
           5,
           1,
           7,
           7,
           9,
           0,
           0,
           9,
           0,
           0,
           9,
           9,
           2,
           9
          ],
          "target": [
           0,
           0,
           6,
           5,
           4,
           1,
           1,
           8,
           2,
           3,
           0,
           9,
           9,
           0,
           9,
           9,
           1,
           1,
           9,
           3
          ],
          "value": [
           8758.471393130558,
           34226.17994,
           39389.36155555555,
           0,
           0,
           0.0578204,
           0,
           8758.430119999999,
           7329.5,
           25.32101,
           4638.90182,
           3671.58252,
           347.31186,
           2383.87476,
           4061.97182,
           2141.5641600000004,
           1109.13132,
           7649.2988,
           7329.5,
           1770.7
          ]
         },
         "node": {
          "color": [
           "blue",
           "blue",
           "blue",
           "blue",
           "#90EE90",
           "#90EE90",
           "#90EE90",
           "#90EE90",
           "#90EE90",
           "red"
          ],
          "label": [
           "soec",
           "boiler",
           "EH",
           "CT",
           "o2",
           "water",
           "h2",
           "power",
           "steam",
           "Heat network"
          ],
          "line": {
           "color": "black",
           "width": 0.5
          },
          "pad": 15,
          "thickness": 20
         },
         "type": "sankey"
        }
       ],
       "frames": [],
       "layout": {
        "margin": {
         "b": 50,
         "l": 50,
         "r": 50,
         "t": 60
        },
        "template": {
         "data": {
          "bar": [
           {
            "error_x": {
             "color": "#2a3f5f"
            },
            "error_y": {
             "color": "#2a3f5f"
            },
            "marker": {
             "line": {
              "color": "#E5ECF6",
              "width": 0.5
             }
            },
            "type": "bar"
           }
          ],
          "barpolar": [
           {
            "marker": {
             "line": {
              "color": "#E5ECF6",
              "width": 0.5
             }
            },
            "type": "barpolar"
           }
          ],
          "carpet": [
           {
            "aaxis": {
             "endlinecolor": "#2a3f5f",
             "gridcolor": "white",
             "linecolor": "white",
             "minorgridcolor": "white",
             "startlinecolor": "#2a3f5f"
            },
            "baxis": {
             "endlinecolor": "#2a3f5f",
             "gridcolor": "white",
             "linecolor": "white",
             "minorgridcolor": "white",
             "startlinecolor": "#2a3f5f"
            },
            "type": "carpet"
           }
          ],
          "choropleth": [
           {
            "colorbar": {
             "outlinewidth": 0,
             "ticks": ""
            },
            "type": "choropleth"
           }
          ],
          "contour": [
           {
            "colorbar": {
             "outlinewidth": 0,
             "ticks": ""
            },
            "colorscale": [
             [
              0,
              "#0d0887"
             ],
             [
              0.1111111111111111,
              "#46039f"
             ],
             [
              0.2222222222222222,
              "#7201a8"
             ],
             [
              0.3333333333333333,
              "#9c179e"
             ],
             [
              0.4444444444444444,
              "#bd3786"
             ],
             [
              0.5555555555555556,
              "#d8576b"
             ],
             [
              0.6666666666666666,
              "#ed7953"
             ],
             [
              0.7777777777777778,
              "#fb9f3a"
             ],
             [
              0.8888888888888888,
              "#fdca26"
             ],
             [
              1,
              "#f0f921"
             ]
            ],
            "type": "contour"
           }
          ],
          "contourcarpet": [
           {
            "colorbar": {
             "outlinewidth": 0,
             "ticks": ""
            },
            "type": "contourcarpet"
           }
          ],
          "heatmap": [
           {
            "colorbar": {
             "outlinewidth": 0,
             "ticks": ""
            },
            "colorscale": [
             [
              0,
              "#0d0887"
             ],
             [
              0.1111111111111111,
              "#46039f"
             ],
             [
              0.2222222222222222,
              "#7201a8"
             ],
             [
              0.3333333333333333,
              "#9c179e"
             ],
             [
              0.4444444444444444,
              "#bd3786"
             ],
             [
              0.5555555555555556,
              "#d8576b"
             ],
             [
              0.6666666666666666,
              "#ed7953"
             ],
             [
              0.7777777777777778,
              "#fb9f3a"
             ],
             [
              0.8888888888888888,
              "#fdca26"
             ],
             [
              1,
              "#f0f921"
             ]
            ],
            "type": "heatmap"
           }
          ],
          "heatmapgl": [
           {
            "colorbar": {
             "outlinewidth": 0,
             "ticks": ""
            },
            "colorscale": [
             [
              0,
              "#0d0887"
             ],
             [
              0.1111111111111111,
              "#46039f"
             ],
             [
              0.2222222222222222,
              "#7201a8"
             ],
             [
              0.3333333333333333,
              "#9c179e"
             ],
             [
              0.4444444444444444,
              "#bd3786"
             ],
             [
              0.5555555555555556,
              "#d8576b"
             ],
             [
              0.6666666666666666,
              "#ed7953"
             ],
             [
              0.7777777777777778,
              "#fb9f3a"
             ],
             [
              0.8888888888888888,
              "#fdca26"
             ],
             [
              1,
              "#f0f921"
             ]
            ],
            "type": "heatmapgl"
           }
          ],
          "histogram": [
           {
            "marker": {
             "colorbar": {
              "outlinewidth": 0,
              "ticks": ""
             }
            },
            "type": "histogram"
           }
          ],
          "histogram2d": [
           {
            "colorbar": {
             "outlinewidth": 0,
             "ticks": ""
            },
            "colorscale": [
             [
              0,
              "#0d0887"
             ],
             [
              0.1111111111111111,
              "#46039f"
             ],
             [
              0.2222222222222222,
              "#7201a8"
             ],
             [
              0.3333333333333333,
              "#9c179e"
             ],
             [
              0.4444444444444444,
              "#bd3786"
             ],
             [
              0.5555555555555556,
              "#d8576b"
             ],
             [
              0.6666666666666666,
              "#ed7953"
             ],
             [
              0.7777777777777778,
              "#fb9f3a"
             ],
             [
              0.8888888888888888,
              "#fdca26"
             ],
             [
              1,
              "#f0f921"
             ]
            ],
            "type": "histogram2d"
           }
          ],
          "histogram2dcontour": [
           {
            "colorbar": {
             "outlinewidth": 0,
             "ticks": ""
            },
            "colorscale": [
             [
              0,
              "#0d0887"
             ],
             [
              0.1111111111111111,
              "#46039f"
             ],
             [
              0.2222222222222222,
              "#7201a8"
             ],
             [
              0.3333333333333333,
              "#9c179e"
             ],
             [
              0.4444444444444444,
              "#bd3786"
             ],
             [
              0.5555555555555556,
              "#d8576b"
             ],
             [
              0.6666666666666666,
              "#ed7953"
             ],
             [
              0.7777777777777778,
              "#fb9f3a"
             ],
             [
              0.8888888888888888,
              "#fdca26"
             ],
             [
              1,
              "#f0f921"
             ]
            ],
            "type": "histogram2dcontour"
           }
          ],
          "mesh3d": [
           {
            "colorbar": {
             "outlinewidth": 0,
             "ticks": ""
            },
            "type": "mesh3d"
           }
          ],
          "parcoords": [
           {
            "line": {
             "colorbar": {
              "outlinewidth": 0,
              "ticks": ""
             }
            },
            "type": "parcoords"
           }
          ],
          "pie": [
           {
            "automargin": true,
            "type": "pie"
           }
          ],
          "scatter": [
           {
            "marker": {
             "colorbar": {
              "outlinewidth": 0,
              "ticks": ""
             }
            },
            "type": "scatter"
           }
          ],
          "scatter3d": [
           {
            "line": {
             "colorbar": {
              "outlinewidth": 0,
              "ticks": ""
             }
            },
            "marker": {
             "colorbar": {
              "outlinewidth": 0,
              "ticks": ""
             }
            },
            "type": "scatter3d"
           }
          ],
          "scattercarpet": [
           {
            "marker": {
             "colorbar": {
              "outlinewidth": 0,
              "ticks": ""
             }
            },
            "type": "scattercarpet"
           }
          ],
          "scattergeo": [
           {
            "marker": {
             "colorbar": {
              "outlinewidth": 0,
              "ticks": ""
             }
            },
            "type": "scattergeo"
           }
          ],
          "scattergl": [
           {
            "marker": {
             "colorbar": {
              "outlinewidth": 0,
              "ticks": ""
             }
            },
            "type": "scattergl"
           }
          ],
          "scattermapbox": [
           {
            "marker": {
             "colorbar": {
              "outlinewidth": 0,
              "ticks": ""
             }
            },
            "type": "scattermapbox"
           }
          ],
          "scatterpolar": [
           {
            "marker": {
             "colorbar": {
              "outlinewidth": 0,
              "ticks": ""
             }
            },
            "type": "scatterpolar"
           }
          ],
          "scatterpolargl": [
           {
            "marker": {
             "colorbar": {
              "outlinewidth": 0,
              "ticks": ""
             }
            },
            "type": "scatterpolargl"
           }
          ],
          "scatterternary": [
           {
            "marker": {
             "colorbar": {
              "outlinewidth": 0,
              "ticks": ""
             }
            },
            "type": "scatterternary"
           }
          ],
          "surface": [
           {
            "colorbar": {
             "outlinewidth": 0,
             "ticks": ""
            },
            "colorscale": [
             [
              0,
              "#0d0887"
             ],
             [
              0.1111111111111111,
              "#46039f"
             ],
             [
              0.2222222222222222,
              "#7201a8"
             ],
             [
              0.3333333333333333,
              "#9c179e"
             ],
             [
              0.4444444444444444,
              "#bd3786"
             ],
             [
              0.5555555555555556,
              "#d8576b"
             ],
             [
              0.6666666666666666,
              "#ed7953"
             ],
             [
              0.7777777777777778,
              "#fb9f3a"
             ],
             [
              0.8888888888888888,
              "#fdca26"
             ],
             [
              1,
              "#f0f921"
             ]
            ],
            "type": "surface"
           }
          ],
          "table": [
           {
            "cells": {
             "fill": {
              "color": "#EBF0F8"
             },
             "line": {
              "color": "white"
             }
            },
            "header": {
             "fill": {
              "color": "#C8D4E3"
             },
             "line": {
              "color": "white"
             }
            },
            "type": "table"
           }
          ]
         },
         "layout": {
          "annotationdefaults": {
           "arrowcolor": "#2a3f5f",
           "arrowhead": 0,
           "arrowwidth": 1
          },
          "autotypenumbers": "strict",
          "coloraxis": {
           "colorbar": {
            "outlinewidth": 0,
            "ticks": ""
           }
          },
          "colorscale": {
           "diverging": [
            [
             0,
             "#8e0152"
            ],
            [
             0.1,
             "#c51b7d"
            ],
            [
             0.2,
             "#de77ae"
            ],
            [
             0.3,
             "#f1b6da"
            ],
            [
             0.4,
             "#fde0ef"
            ],
            [
             0.5,
             "#f7f7f7"
            ],
            [
             0.6,
             "#e6f5d0"
            ],
            [
             0.7,
             "#b8e186"
            ],
            [
             0.8,
             "#7fbc41"
            ],
            [
             0.9,
             "#4d9221"
            ],
            [
             1,
             "#276419"
            ]
           ],
           "sequential": [
            [
             0,
             "#0d0887"
            ],
            [
             0.1111111111111111,
             "#46039f"
            ],
            [
             0.2222222222222222,
             "#7201a8"
            ],
            [
             0.3333333333333333,
             "#9c179e"
            ],
            [
             0.4444444444444444,
             "#bd3786"
            ],
            [
             0.5555555555555556,
             "#d8576b"
            ],
            [
             0.6666666666666666,
             "#ed7953"
            ],
            [
             0.7777777777777778,
             "#fb9f3a"
            ],
            [
             0.8888888888888888,
             "#fdca26"
            ],
            [
             1,
             "#f0f921"
            ]
           ],
           "sequentialminus": [
            [
             0,
             "#0d0887"
            ],
            [
             0.1111111111111111,
             "#46039f"
            ],
            [
             0.2222222222222222,
             "#7201a8"
            ],
            [
             0.3333333333333333,
             "#9c179e"
            ],
            [
             0.4444444444444444,
             "#bd3786"
            ],
            [
             0.5555555555555556,
             "#d8576b"
            ],
            [
             0.6666666666666666,
             "#ed7953"
            ],
            [
             0.7777777777777778,
             "#fb9f3a"
            ],
            [
             0.8888888888888888,
             "#fdca26"
            ],
            [
             1,
             "#f0f921"
            ]
           ]
          },
          "colorway": [
           "#636efa",
           "#EF553B",
           "#00cc96",
           "#ab63fa",
           "#FFA15A",
           "#19d3f3",
           "#FF6692",
           "#B6E880",
           "#FF97FF",
           "#FECB52"
          ],
          "font": {
           "color": "#2a3f5f"
          },
          "geo": {
           "bgcolor": "white",
           "lakecolor": "white",
           "landcolor": "#E5ECF6",
           "showlakes": true,
           "showland": true,
           "subunitcolor": "white"
          },
          "hoverlabel": {
           "align": "left"
          },
          "hovermode": "closest",
          "mapbox": {
           "style": "light"
          },
          "paper_bgcolor": "white",
          "plot_bgcolor": "#E5ECF6",
          "polar": {
           "angularaxis": {
            "gridcolor": "white",
            "linecolor": "white",
            "ticks": ""
           },
           "bgcolor": "#E5ECF6",
           "radialaxis": {
            "gridcolor": "white",
            "linecolor": "white",
            "ticks": ""
           }
          },
          "scene": {
           "xaxis": {
            "backgroundcolor": "#E5ECF6",
            "gridcolor": "white",
            "gridwidth": 2,
            "linecolor": "white",
            "showbackground": true,
            "ticks": "",
            "zerolinecolor": "white"
           },
           "yaxis": {
            "backgroundcolor": "#E5ECF6",
            "gridcolor": "white",
            "gridwidth": 2,
            "linecolor": "white",
            "showbackground": true,
            "ticks": "",
            "zerolinecolor": "white"
           },
           "zaxis": {
            "backgroundcolor": "#E5ECF6",
            "gridcolor": "white",
            "gridwidth": 2,
            "linecolor": "white",
            "showbackground": true,
            "ticks": "",
            "zerolinecolor": "white"
           }
          },
          "shapedefaults": {
           "line": {
            "color": "#2a3f5f"
           }
          },
          "ternary": {
           "aaxis": {
            "gridcolor": "white",
            "linecolor": "white",
            "ticks": ""
           },
           "baxis": {
            "gridcolor": "white",
            "linecolor": "white",
            "ticks": ""
           },
           "bgcolor": "#E5ECF6",
           "caxis": {
            "gridcolor": "white",
            "linecolor": "white",
            "ticks": ""
           }
          },
          "title": {
           "x": 0.05
          },
          "xaxis": {
           "automargin": true,
           "gridcolor": "white",
           "linecolor": "white",
           "ticks": "",
           "title": {
            "standoff": 15
           },
           "zerolinecolor": "white",
           "zerolinewidth": 2
          },
          "yaxis": {
           "automargin": true,
           "gridcolor": "white",
           "linecolor": "white",
           "ticks": "",
           "title": {
            "standoff": 15
           },
           "zerolinecolor": "white",
           "zerolinewidth": 2
          }
         }
        }
       }
      },
      "text/html": [
       "<div\n",
       "    class=\"webio-mountpoint\"\n",
       "    data-webio-mountpoint=\"8864071713601006612\"\n",
       ">\n",
       "    <script>\n",
       "    (function(){\n",
       "    // Some integrations (namely, IJulia/Jupyter) use an alternate render pathway than\n",
       "    // just putting the html on the page. If WebIO isn't defined, then it's pretty likely\n",
       "    // that we're in one of those situations and the integration just isn't installed\n",
       "    // correctly.\n",
       "    if (typeof window.WebIO === \"undefined\") {\n",
       "        document\n",
       "            .querySelector('[data-webio-mountpoint=\"8864071713601006612\"]')\n",
       "            .innerHTML = (\n",
       "                '<div style=\"padding: 1em; background-color: #f8d6da; border: 1px solid #f5c6cb; font-weight: bold;\">' +\n",
       "                '<p><strong>WebIO not detected.</strong></p>' +\n",
       "                '<p>Please read ' +\n",
       "                '<a href=\"https://juliagizmos.github.io/WebIO.jl/latest/troubleshooting/not-detected/\" target=\"_blank\">the troubleshooting guide</a> ' +\n",
       "                'for more information on how to resolve this issue.</p>' +\n",
       "                '<p><a href=\"https://juliagizmos.github.io/WebIO.jl/latest/troubleshooting/not-detected/\" target=\"_blank\">https://juliagizmos.github.io/WebIO.jl/latest/troubleshooting/not-detected/</a></p>' +\n",
       "                '</div>'\n",
       "            );\n",
       "        return;\n",
       "    }\n",
       "    WebIO.mount(\n",
       "        document.querySelector('[data-webio-mountpoint=\"8864071713601006612\"]'),\n",
       "        {\"props\":{},\"nodeType\":\"Scope\",\"type\":\"node\",\"instanceArgs\":{\"imports\":{\"data\":[{\"name\":\"Plotly\",\"type\":\"js\",\"url\":\"\\/assetserver\\/0920e676c106f32ba509e3957ec7f2e1975e6dda-plotly.min.js\"},{\"name\":null,\"type\":\"js\",\"url\":\"\\/assetserver\\/a5a7489247caefe55cf69adf7b5b90ef582ba49e-plotly_webio.bundle.js\"}],\"type\":\"async_block\"},\"id\":\"1882933526035460991\",\"handlers\":{\"_toImage\":[\"(function (options){return this.Plotly.toImage(this.plotElem,options).then((function (data){return WebIO.setval({\\\"name\\\":\\\"image\\\",\\\"scope\\\":\\\"1882933526035460991\\\",\\\"id\\\":\\\"9102524072630382966\\\",\\\"type\\\":\\\"observable\\\"},data)}))})\"],\"__get_gd_contents\":[\"(function (prop){prop==\\\"data\\\" ? (WebIO.setval({\\\"name\\\":\\\"__gd_contents\\\",\\\"scope\\\":\\\"1882933526035460991\\\",\\\"id\\\":\\\"5430846414645793682\\\",\\\"type\\\":\\\"observable\\\"},this.plotElem.data)) : undefined; return prop==\\\"layout\\\" ? (WebIO.setval({\\\"name\\\":\\\"__gd_contents\\\",\\\"scope\\\":\\\"1882933526035460991\\\",\\\"id\\\":\\\"5430846414645793682\\\",\\\"type\\\":\\\"observable\\\"},this.plotElem.layout)) : undefined})\"],\"_downloadImage\":[\"(function (options){return this.Plotly.downloadImage(this.plotElem,options)})\"],\"_commands\":[\"(function (args){var fn=args.shift(); var elem=this.plotElem; var Plotly=this.Plotly; args.unshift(elem); return Plotly[fn].apply(this,args)})\"]},\"systemjs_options\":null,\"mount_callbacks\":[\"function () {\\n    var handler = ((function (Plotly,PlotlyWebIO){PlotlyWebIO.init(WebIO); var gd=this.dom.querySelector(\\\"#plot-98288452-1c9f-4391-87e1-3cc9283b4d91\\\"); this.plotElem=gd; this.Plotly=Plotly; (window.Blink!==undefined) ? (gd.style.width=\\\"100%\\\", gd.style.height=\\\"100vh\\\", gd.style.marginLeft=\\\"0%\\\", gd.style.marginTop=\\\"0vh\\\") : undefined; window.onresize=(function (){return Plotly.Plots.resize(gd)}); Plotly.newPlot(gd,[{\\\"link\\\":{\\\"color\\\":[\\\"rgba(186,186,186,0.5)\\\",\\\"rgba(186,186,186,0.5)\\\",\\\"rgba(186,186,186,0.5)\\\",\\\"rgba(186,186,186,0.5)\\\",\\\"rgba(186,186,186,0.5)\\\",\\\"rgba(186,186,186,0.5)\\\",\\\"rgba(186,186,186,0.5)\\\",\\\"rgba(186,186,186,0.5)\\\",\\\"rgba(186,186,186,0.5)\\\",\\\"rgba(186,186,186,0.5)\\\",\\\"rgba(255,129,127,0.5)\\\",\\\"rgba(255,129,127,0.5)\\\",\\\"rgba(255,129,127,0.5)\\\",\\\"rgba(255,129,127,0.5)\\\",\\\"rgba(255,129,127,0.5)\\\",\\\"rgba(255,129,127,0.5)\\\",\\\"rgba(255,129,127,0.5)\\\",\\\"rgba(255,129,127,0.5)\\\",\\\"rgba(255,129,127,0.5)\\\",\\\"rgba(255,129,127,0.5)\\\"],\\\"value\\\":[8758.471393130558,34226.17994,39389.36155555555,0.0,0.0,0.0578204,0.0,8758.430119999999,7329.5,25.32101,4638.90182,3671.58252,347.31186,2383.87476,4061.97182,2141.5641600000004,1109.13132,7649.2988,7329.5,1770.7],\\\"source\\\":[8.0,7.0,0.0,0.0,0.0,7.0,5.0,1.0,7.0,7.0,9.0,0.0,0.0,9.0,0.0,0.0,9.0,9.0,2.0,9.0],\\\"target\\\":[0.0,0.0,6.0,5.0,4.0,1.0,1.0,8.0,2.0,3.0,0.0,9.0,9.0,0.0,9.0,9.0,1.0,1.0,9.0,3.0]},\\\"node\\\":{\\\"color\\\":[\\\"blue\\\",\\\"blue\\\",\\\"blue\\\",\\\"blue\\\",\\\"#90EE90\\\",\\\"#90EE90\\\",\\\"#90EE90\\\",\\\"#90EE90\\\",\\\"#90EE90\\\",\\\"red\\\"],\\\"pad\\\":15,\\\"line\\\":{\\\"color\\\":\\\"black\\\",\\\"width\\\":0.5},\\\"label\\\":[\\\"soec\\\",\\\"boiler\\\",\\\"EH\\\",\\\"CT\\\",\\\"o2\\\",\\\"water\\\",\\\"h2\\\",\\\"power\\\",\\\"steam\\\",\\\"Heat network\\\"],\\\"thickness\\\":20},\\\"type\\\":\\\"sankey\\\"}],{\\\"template\\\":{\\\"layout\\\":{\\\"coloraxis\\\":{\\\"colorbar\\\":{\\\"ticks\\\":\\\"\\\",\\\"outlinewidth\\\":0}},\\\"xaxis\\\":{\\\"gridcolor\\\":\\\"white\\\",\\\"zerolinewidth\\\":2,\\\"title\\\":{\\\"standoff\\\":15},\\\"ticks\\\":\\\"\\\",\\\"zerolinecolor\\\":\\\"white\\\",\\\"automargin\\\":true,\\\"linecolor\\\":\\\"white\\\"},\\\"hovermode\\\":\\\"closest\\\",\\\"paper_bgcolor\\\":\\\"white\\\",\\\"geo\\\":{\\\"showlakes\\\":true,\\\"showland\\\":true,\\\"landcolor\\\":\\\"#E5ECF6\\\",\\\"bgcolor\\\":\\\"white\\\",\\\"subunitcolor\\\":\\\"white\\\",\\\"lakecolor\\\":\\\"white\\\"},\\\"colorscale\\\":{\\\"sequential\\\":[[0.0,\\\"#0d0887\\\"],[0.1111111111111111,\\\"#46039f\\\"],[0.2222222222222222,\\\"#7201a8\\\"],[0.3333333333333333,\\\"#9c179e\\\"],[0.4444444444444444,\\\"#bd3786\\\"],[0.5555555555555556,\\\"#d8576b\\\"],[0.6666666666666666,\\\"#ed7953\\\"],[0.7777777777777778,\\\"#fb9f3a\\\"],[0.8888888888888888,\\\"#fdca26\\\"],[1.0,\\\"#f0f921\\\"]],\\\"diverging\\\":[[0,\\\"#8e0152\\\"],[0.1,\\\"#c51b7d\\\"],[0.2,\\\"#de77ae\\\"],[0.3,\\\"#f1b6da\\\"],[0.4,\\\"#fde0ef\\\"],[0.5,\\\"#f7f7f7\\\"],[0.6,\\\"#e6f5d0\\\"],[0.7,\\\"#b8e186\\\"],[0.8,\\\"#7fbc41\\\"],[0.9,\\\"#4d9221\\\"],[1,\\\"#276419\\\"]],\\\"sequentialminus\\\":[[0.0,\\\"#0d0887\\\"],[0.1111111111111111,\\\"#46039f\\\"],[0.2222222222222222,\\\"#7201a8\\\"],[0.3333333333333333,\\\"#9c179e\\\"],[0.4444444444444444,\\\"#bd3786\\\"],[0.5555555555555556,\\\"#d8576b\\\"],[0.6666666666666666,\\\"#ed7953\\\"],[0.7777777777777778,\\\"#fb9f3a\\\"],[0.8888888888888888,\\\"#fdca26\\\"],[1.0,\\\"#f0f921\\\"]]},\\\"yaxis\\\":{\\\"gridcolor\\\":\\\"white\\\",\\\"zerolinewidth\\\":2,\\\"title\\\":{\\\"standoff\\\":15},\\\"ticks\\\":\\\"\\\",\\\"zerolinecolor\\\":\\\"white\\\",\\\"automargin\\\":true,\\\"linecolor\\\":\\\"white\\\"},\\\"shapedefaults\\\":{\\\"line\\\":{\\\"color\\\":\\\"#2a3f5f\\\"}},\\\"hoverlabel\\\":{\\\"align\\\":\\\"left\\\"},\\\"mapbox\\\":{\\\"style\\\":\\\"light\\\"},\\\"polar\\\":{\\\"angularaxis\\\":{\\\"gridcolor\\\":\\\"white\\\",\\\"ticks\\\":\\\"\\\",\\\"linecolor\\\":\\\"white\\\"},\\\"bgcolor\\\":\\\"#E5ECF6\\\",\\\"radialaxis\\\":{\\\"gridcolor\\\":\\\"white\\\",\\\"ticks\\\":\\\"\\\",\\\"linecolor\\\":\\\"white\\\"}},\\\"autotypenumbers\\\":\\\"strict\\\",\\\"font\\\":{\\\"color\\\":\\\"#2a3f5f\\\"},\\\"ternary\\\":{\\\"baxis\\\":{\\\"gridcolor\\\":\\\"white\\\",\\\"ticks\\\":\\\"\\\",\\\"linecolor\\\":\\\"white\\\"},\\\"bgcolor\\\":\\\"#E5ECF6\\\",\\\"caxis\\\":{\\\"gridcolor\\\":\\\"white\\\",\\\"ticks\\\":\\\"\\\",\\\"linecolor\\\":\\\"white\\\"},\\\"aaxis\\\":{\\\"gridcolor\\\":\\\"white\\\",\\\"ticks\\\":\\\"\\\",\\\"linecolor\\\":\\\"white\\\"}},\\\"annotationdefaults\\\":{\\\"arrowhead\\\":0,\\\"arrowwidth\\\":1,\\\"arrowcolor\\\":\\\"#2a3f5f\\\"},\\\"plot_bgcolor\\\":\\\"#E5ECF6\\\",\\\"title\\\":{\\\"x\\\":0.05},\\\"scene\\\":{\\\"xaxis\\\":{\\\"gridcolor\\\":\\\"white\\\",\\\"gridwidth\\\":2,\\\"backgroundcolor\\\":\\\"#E5ECF6\\\",\\\"ticks\\\":\\\"\\\",\\\"showbackground\\\":true,\\\"zerolinecolor\\\":\\\"white\\\",\\\"linecolor\\\":\\\"white\\\"},\\\"zaxis\\\":{\\\"gridcolor\\\":\\\"white\\\",\\\"gridwidth\\\":2,\\\"backgroundcolor\\\":\\\"#E5ECF6\\\",\\\"ticks\\\":\\\"\\\",\\\"showbackground\\\":true,\\\"zerolinecolor\\\":\\\"white\\\",\\\"linecolor\\\":\\\"white\\\"},\\\"yaxis\\\":{\\\"gridcolor\\\":\\\"white\\\",\\\"gridwidth\\\":2,\\\"backgroundcolor\\\":\\\"#E5ECF6\\\",\\\"ticks\\\":\\\"\\\",\\\"showbackground\\\":true,\\\"zerolinecolor\\\":\\\"white\\\",\\\"linecolor\\\":\\\"white\\\"}},\\\"colorway\\\":[\\\"#636efa\\\",\\\"#EF553B\\\",\\\"#00cc96\\\",\\\"#ab63fa\\\",\\\"#FFA15A\\\",\\\"#19d3f3\\\",\\\"#FF6692\\\",\\\"#B6E880\\\",\\\"#FF97FF\\\",\\\"#FECB52\\\"]},\\\"data\\\":{\\\"barpolar\\\":[{\\\"type\\\":\\\"barpolar\\\",\\\"marker\\\":{\\\"line\\\":{\\\"color\\\":\\\"#E5ECF6\\\",\\\"width\\\":0.5}}}],\\\"carpet\\\":[{\\\"aaxis\\\":{\\\"gridcolor\\\":\\\"white\\\",\\\"endlinecolor\\\":\\\"#2a3f5f\\\",\\\"minorgridcolor\\\":\\\"white\\\",\\\"startlinecolor\\\":\\\"#2a3f5f\\\",\\\"linecolor\\\":\\\"white\\\"},\\\"type\\\":\\\"carpet\\\",\\\"baxis\\\":{\\\"gridcolor\\\":\\\"white\\\",\\\"endlinecolor\\\":\\\"#2a3f5f\\\",\\\"minorgridcolor\\\":\\\"white\\\",\\\"startlinecolor\\\":\\\"#2a3f5f\\\",\\\"linecolor\\\":\\\"white\\\"}}],\\\"scatterpolar\\\":[{\\\"type\\\":\\\"scatterpolar\\\",\\\"marker\\\":{\\\"colorbar\\\":{\\\"ticks\\\":\\\"\\\",\\\"outlinewidth\\\":0}}}],\\\"parcoords\\\":[{\\\"line\\\":{\\\"colorbar\\\":{\\\"ticks\\\":\\\"\\\",\\\"outlinewidth\\\":0}},\\\"type\\\":\\\"parcoords\\\"}],\\\"scatter\\\":[{\\\"type\\\":\\\"scatter\\\",\\\"marker\\\":{\\\"colorbar\\\":{\\\"ticks\\\":\\\"\\\",\\\"outlinewidth\\\":0}}}],\\\"histogram2dcontour\\\":[{\\\"colorbar\\\":{\\\"ticks\\\":\\\"\\\",\\\"outlinewidth\\\":0},\\\"type\\\":\\\"histogram2dcontour\\\",\\\"colorscale\\\":[[0.0,\\\"#0d0887\\\"],[0.1111111111111111,\\\"#46039f\\\"],[0.2222222222222222,\\\"#7201a8\\\"],[0.3333333333333333,\\\"#9c179e\\\"],[0.4444444444444444,\\\"#bd3786\\\"],[0.5555555555555556,\\\"#d8576b\\\"],[0.6666666666666666,\\\"#ed7953\\\"],[0.7777777777777778,\\\"#fb9f3a\\\"],[0.8888888888888888,\\\"#fdca26\\\"],[1.0,\\\"#f0f921\\\"]]}],\\\"contour\\\":[{\\\"colorbar\\\":{\\\"ticks\\\":\\\"\\\",\\\"outlinewidth\\\":0},\\\"type\\\":\\\"contour\\\",\\\"colorscale\\\":[[0.0,\\\"#0d0887\\\"],[0.1111111111111111,\\\"#46039f\\\"],[0.2222222222222222,\\\"#7201a8\\\"],[0.3333333333333333,\\\"#9c179e\\\"],[0.4444444444444444,\\\"#bd3786\\\"],[0.5555555555555556,\\\"#d8576b\\\"],[0.6666666666666666,\\\"#ed7953\\\"],[0.7777777777777778,\\\"#fb9f3a\\\"],[0.8888888888888888,\\\"#fdca26\\\"],[1.0,\\\"#f0f921\\\"]]}],\\\"scattercarpet\\\":[{\\\"type\\\":\\\"scattercarpet\\\",\\\"marker\\\":{\\\"colorbar\\\":{\\\"ticks\\\":\\\"\\\",\\\"outlinewidth\\\":0}}}],\\\"mesh3d\\\":[{\\\"colorbar\\\":{\\\"ticks\\\":\\\"\\\",\\\"outlinewidth\\\":0},\\\"type\\\":\\\"mesh3d\\\"}],\\\"surface\\\":[{\\\"colorbar\\\":{\\\"ticks\\\":\\\"\\\",\\\"outlinewidth\\\":0},\\\"type\\\":\\\"surface\\\",\\\"colorscale\\\":[[0.0,\\\"#0d0887\\\"],[0.1111111111111111,\\\"#46039f\\\"],[0.2222222222222222,\\\"#7201a8\\\"],[0.3333333333333333,\\\"#9c179e\\\"],[0.4444444444444444,\\\"#bd3786\\\"],[0.5555555555555556,\\\"#d8576b\\\"],[0.6666666666666666,\\\"#ed7953\\\"],[0.7777777777777778,\\\"#fb9f3a\\\"],[0.8888888888888888,\\\"#fdca26\\\"],[1.0,\\\"#f0f921\\\"]]}],\\\"scattermapbox\\\":[{\\\"type\\\":\\\"scattermapbox\\\",\\\"marker\\\":{\\\"colorbar\\\":{\\\"ticks\\\":\\\"\\\",\\\"outlinewidth\\\":0}}}],\\\"scattergeo\\\":[{\\\"type\\\":\\\"scattergeo\\\",\\\"marker\\\":{\\\"colorbar\\\":{\\\"ticks\\\":\\\"\\\",\\\"outlinewidth\\\":0}}}],\\\"histogram\\\":[{\\\"type\\\":\\\"histogram\\\",\\\"marker\\\":{\\\"colorbar\\\":{\\\"ticks\\\":\\\"\\\",\\\"outlinewidth\\\":0}}}],\\\"pie\\\":[{\\\"type\\\":\\\"pie\\\",\\\"automargin\\\":true}],\\\"choropleth\\\":[{\\\"colorbar\\\":{\\\"ticks\\\":\\\"\\\",\\\"outlinewidth\\\":0},\\\"type\\\":\\\"choropleth\\\"}],\\\"heatmapgl\\\":[{\\\"colorbar\\\":{\\\"ticks\\\":\\\"\\\",\\\"outlinewidth\\\":0},\\\"type\\\":\\\"heatmapgl\\\",\\\"colorscale\\\":[[0.0,\\\"#0d0887\\\"],[0.1111111111111111,\\\"#46039f\\\"],[0.2222222222222222,\\\"#7201a8\\\"],[0.3333333333333333,\\\"#9c179e\\\"],[0.4444444444444444,\\\"#bd3786\\\"],[0.5555555555555556,\\\"#d8576b\\\"],[0.6666666666666666,\\\"#ed7953\\\"],[0.7777777777777778,\\\"#fb9f3a\\\"],[0.8888888888888888,\\\"#fdca26\\\"],[1.0,\\\"#f0f921\\\"]]}],\\\"bar\\\":[{\\\"type\\\":\\\"bar\\\",\\\"error_y\\\":{\\\"color\\\":\\\"#2a3f5f\\\"},\\\"error_x\\\":{\\\"color\\\":\\\"#2a3f5f\\\"},\\\"marker\\\":{\\\"line\\\":{\\\"color\\\":\\\"#E5ECF6\\\",\\\"width\\\":0.5}}}],\\\"heatmap\\\":[{\\\"colorbar\\\":{\\\"ticks\\\":\\\"\\\",\\\"outlinewidth\\\":0},\\\"type\\\":\\\"heatmap\\\",\\\"colorscale\\\":[[0.0,\\\"#0d0887\\\"],[0.1111111111111111,\\\"#46039f\\\"],[0.2222222222222222,\\\"#7201a8\\\"],[0.3333333333333333,\\\"#9c179e\\\"],[0.4444444444444444,\\\"#bd3786\\\"],[0.5555555555555556,\\\"#d8576b\\\"],[0.6666666666666666,\\\"#ed7953\\\"],[0.7777777777777778,\\\"#fb9f3a\\\"],[0.8888888888888888,\\\"#fdca26\\\"],[1.0,\\\"#f0f921\\\"]]}],\\\"contourcarpet\\\":[{\\\"colorbar\\\":{\\\"ticks\\\":\\\"\\\",\\\"outlinewidth\\\":0},\\\"type\\\":\\\"contourcarpet\\\"}],\\\"table\\\":[{\\\"type\\\":\\\"table\\\",\\\"header\\\":{\\\"line\\\":{\\\"color\\\":\\\"white\\\"},\\\"fill\\\":{\\\"color\\\":\\\"#C8D4E3\\\"}},\\\"cells\\\":{\\\"line\\\":{\\\"color\\\":\\\"white\\\"},\\\"fill\\\":{\\\"color\\\":\\\"#EBF0F8\\\"}}}],\\\"scatter3d\\\":[{\\\"line\\\":{\\\"colorbar\\\":{\\\"ticks\\\":\\\"\\\",\\\"outlinewidth\\\":0}},\\\"type\\\":\\\"scatter3d\\\",\\\"marker\\\":{\\\"colorbar\\\":{\\\"ticks\\\":\\\"\\\",\\\"outlinewidth\\\":0}}}],\\\"scattergl\\\":[{\\\"type\\\":\\\"scattergl\\\",\\\"marker\\\":{\\\"colorbar\\\":{\\\"ticks\\\":\\\"\\\",\\\"outlinewidth\\\":0}}}],\\\"histogram2d\\\":[{\\\"colorbar\\\":{\\\"ticks\\\":\\\"\\\",\\\"outlinewidth\\\":0},\\\"type\\\":\\\"histogram2d\\\",\\\"colorscale\\\":[[0.0,\\\"#0d0887\\\"],[0.1111111111111111,\\\"#46039f\\\"],[0.2222222222222222,\\\"#7201a8\\\"],[0.3333333333333333,\\\"#9c179e\\\"],[0.4444444444444444,\\\"#bd3786\\\"],[0.5555555555555556,\\\"#d8576b\\\"],[0.6666666666666666,\\\"#ed7953\\\"],[0.7777777777777778,\\\"#fb9f3a\\\"],[0.8888888888888888,\\\"#fdca26\\\"],[1.0,\\\"#f0f921\\\"]]}],\\\"scatterternary\\\":[{\\\"type\\\":\\\"scatterternary\\\",\\\"marker\\\":{\\\"colorbar\\\":{\\\"ticks\\\":\\\"\\\",\\\"outlinewidth\\\":0}}}],\\\"scatterpolargl\\\":[{\\\"type\\\":\\\"scatterpolargl\\\",\\\"marker\\\":{\\\"colorbar\\\":{\\\"ticks\\\":\\\"\\\",\\\"outlinewidth\\\":0}}}]}},\\\"margin\\\":{\\\"l\\\":50,\\\"b\\\":50,\\\"r\\\":50,\\\"t\\\":60}},{\\\"showLink\\\":false,\\\"editable\\\":false,\\\"responsive\\\":true,\\\"staticPlot\\\":false,\\\"scrollZoom\\\":true}); gd.on(\\\"plotly_hover\\\",(function (data){var filtered_data=WebIO.PlotlyCommands.filterEventData(gd,data,\\\"hover\\\"); return !(filtered_data.isnil) ? (WebIO.setval({\\\"name\\\":\\\"hover\\\",\\\"scope\\\":\\\"1882933526035460991\\\",\\\"id\\\":\\\"11808862660218398096\\\",\\\"type\\\":\\\"observable\\\"},filtered_data.out)) : undefined})); gd.on(\\\"plotly_unhover\\\",(function (){return WebIO.setval({\\\"name\\\":\\\"hover\\\",\\\"scope\\\":\\\"1882933526035460991\\\",\\\"id\\\":\\\"11808862660218398096\\\",\\\"type\\\":\\\"observable\\\"},{})})); gd.on(\\\"plotly_selected\\\",(function (data){var filtered_data=WebIO.PlotlyCommands.filterEventData(gd,data,\\\"selected\\\"); return !(filtered_data.isnil) ? (WebIO.setval({\\\"name\\\":\\\"selected\\\",\\\"scope\\\":\\\"1882933526035460991\\\",\\\"id\\\":\\\"8877961973742426986\\\",\\\"type\\\":\\\"observable\\\"},filtered_data.out)) : undefined})); gd.on(\\\"plotly_deselect\\\",(function (){return WebIO.setval({\\\"name\\\":\\\"selected\\\",\\\"scope\\\":\\\"1882933526035460991\\\",\\\"id\\\":\\\"8877961973742426986\\\",\\\"type\\\":\\\"observable\\\"},{})})); gd.on(\\\"plotly_relayout\\\",(function (data){var filtered_data=WebIO.PlotlyCommands.filterEventData(gd,data,\\\"relayout\\\"); return !(filtered_data.isnil) ? (WebIO.setval({\\\"name\\\":\\\"relayout\\\",\\\"scope\\\":\\\"1882933526035460991\\\",\\\"id\\\":\\\"15170900341685343882\\\",\\\"type\\\":\\\"observable\\\"},filtered_data.out)) : undefined})); return gd.on(\\\"plotly_click\\\",(function (data){var filtered_data=WebIO.PlotlyCommands.filterEventData(gd,data,\\\"click\\\"); return !(filtered_data.isnil) ? (WebIO.setval({\\\"name\\\":\\\"click\\\",\\\"scope\\\":\\\"1882933526035460991\\\",\\\"id\\\":\\\"50196327427132765\\\",\\\"type\\\":\\\"observable\\\"},filtered_data.out)) : undefined}))}));\\n    (WebIO.importBlock({\\\"data\\\":[{\\\"name\\\":\\\"Plotly\\\",\\\"type\\\":\\\"js\\\",\\\"url\\\":\\\"\\/assetserver\\/0920e676c106f32ba509e3957ec7f2e1975e6dda-plotly.min.js\\\"},{\\\"name\\\":null,\\\"type\\\":\\\"js\\\",\\\"url\\\":\\\"\\/assetserver\\/a5a7489247caefe55cf69adf7b5b90ef582ba49e-plotly_webio.bundle.js\\\"}],\\\"type\\\":\\\"async_block\\\"})).then((imports) => handler.apply(this, imports));\\n}\\n\"],\"observables\":{\"_toImage\":{\"sync\":false,\"id\":\"12145477191737014232\",\"value\":{}},\"hover\":{\"sync\":false,\"id\":\"11808862660218398096\",\"value\":{}},\"selected\":{\"sync\":false,\"id\":\"8877961973742426986\",\"value\":{}},\"__gd_contents\":{\"sync\":false,\"id\":\"5430846414645793682\",\"value\":{}},\"click\":{\"sync\":false,\"id\":\"50196327427132765\",\"value\":{}},\"image\":{\"sync\":true,\"id\":\"9102524072630382966\",\"value\":\"\"},\"__get_gd_contents\":{\"sync\":false,\"id\":\"14621959132514904704\",\"value\":\"\"},\"_downloadImage\":{\"sync\":false,\"id\":\"4429294739793979968\",\"value\":{}},\"relayout\":{\"sync\":false,\"id\":\"15170900341685343882\",\"value\":{}},\"_commands\":{\"sync\":false,\"id\":\"17054008373873614192\",\"value\":[]}}},\"children\":[{\"props\":{\"id\":\"plot-98288452-1c9f-4391-87e1-3cc9283b4d91\"},\"nodeType\":\"DOM\",\"type\":\"node\",\"instanceArgs\":{\"namespace\":\"html\",\"tag\":\"div\"},\"children\":[]}]},\n",
       "        window,\n",
       "    );\n",
       "    })()\n",
       "    </script>\n",
       "</div>\n"
      ],
      "text/plain": [
       "data: [\n",
       "  \"sankey with fields link, node, and type\"\n",
       "]\n",
       "\n",
       "layout: \"layout with fields margin and template\"\n",
       "\n"
      ]
     },
     "execution_count": 13,
     "metadata": {},
     "output_type": "execute_result"
    }
   ],
   "source": [
    "vivi_sankey(answer,valueIndex=1) # Ploting a Sankey diagram of the energy balance (HHV basis)"
   ]
  },
  {
   "cell_type": "code",
   "execution_count": 14,
   "id": "d62b64c1",
   "metadata": {},
   "outputs": [
    {
     "name": "stdout",
     "output_type": "stream",
     "text": [
      "Energy efficiency (HHV) is 94.71153846153845 %"
     ]
    },
    {
     "name": "stdout",
     "output_type": "stream",
     "text": [
      "\n"
     ]
    }
   ],
   "source": [
    "η=39.4/41.6*100\n",
    "println(\"Energy efficiency (HHV) is $η %\")"
   ]
  },
  {
   "cell_type": "markdown",
   "id": "7b84c475",
   "metadata": {},
   "source": [
    "It's also noticible that the electric heating is a significant energy consumption in the system:"
   ]
  },
  {
   "cell_type": "code",
   "execution_count": 15,
   "id": "50270fb4",
   "metadata": {},
   "outputs": [
    {
     "name": "stdout",
     "output_type": "stream",
     "text": [
      "Electric heating represents 17.620192307692307 % of power consumption\n"
     ]
    }
   ],
   "source": [
    "eh_p100 = 7.33/41.6*100\n",
    "println(\"Electric heating represents $eh_p100 % of power consumption\")"
   ]
  },
  {
   "cell_type": "markdown",
   "id": "883a7c14",
   "metadata": {},
   "source": [
    "Therefore, integrating SOEC with other exothermal process may **reduce up to 17.6% power consumption**"
   ]
  }
 ],
 "metadata": {
  "@webio": {
   "lastCommId": "816be621062a4ba78fbae111a87d3be3",
   "lastKernelId": "857f5d51-d485-4aa8-8e32-3d036b24e07e"
  },
  "kernelspec": {
   "display_name": "Julia 1.7.1",
   "language": "julia",
   "name": "julia-1.7"
  },
  "language_info": {
   "file_extension": ".jl",
   "mimetype": "application/julia",
   "name": "julia",
   "version": "1.7.1"
  }
 },
 "nbformat": 4,
 "nbformat_minor": 5
}
