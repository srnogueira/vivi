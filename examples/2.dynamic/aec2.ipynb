{
 "cells": [
  {
   "cell_type": "markdown",
   "metadata": {},
   "source": [
    "# Tutorial - Hydrogen production and storage\n",
    "Suppose that we would like to produce hydrogen from wind energy by using an alkaline electrolysis system, as described below:\n",
    "\n",
    "        Wind turbine -- (power) --> Alkaline electrolysis --> (h2)\n",
    "\n",
    "The rating of our wind turbine and electrolysis unit are equal and fixed to 10 MW and we would like to know **what is the annual hydrogen production (AHP)**?."
   ]
  },
  {
   "cell_type": "markdown",
   "metadata": {},
   "source": [
    "### Introduction"
   ]
  },
  {
   "cell_type": "markdown",
   "metadata": {},
   "source": [
    "A naive answer would be to multiply the electrolysis rating (10 MW) by its efficiency at full load (67%) and the total number of hours (8760 h/year):"
   ]
  },
  {
   "cell_type": "code",
   "execution_count": 63,
   "metadata": {},
   "outputs": [
    {
     "name": "stdout",
     "output_type": "stream",
     "text": [
      "Annual hydrogen production is: 58692.0 MWh\n"
     ]
    }
   ],
   "source": [
    "AHP_naive = 10*0.67*8760\n",
    "\n",
    "println(\"Annual hydrogen production is: $AHP_naive MWh\")"
   ]
  },
  {
   "cell_type": "markdown",
   "metadata": {},
   "source": [
    "However, since we depend on a fluctuating wind power, the average power rating available for hydrogen production is lower than the design rating (10 MW).\n",
    "\n",
    "A better approximation would be to use the average rating of a historic data for wind power:"
   ]
  },
  {
   "cell_type": "code",
   "execution_count": 2,
   "metadata": {},
   "outputs": [
    {
     "name": "stdout",
     "output_type": "stream",
     "text": [
      "Average wind power generation is 6.25522397260274 MW\n"
     ]
    }
   ],
   "source": [
    "using CSV           # Package\n",
    "using DataFrames    # Package\n",
    "\n",
    "df = CSV.read(\"hourWind.csv\",DataFrame)     # reading historical data of wind turbine loads\n",
    "design_rating = 10                          # MW - Wind turbine rating assumed\n",
    "windPower = round.(df.load*design_rating,digits=3)  # sizing and rouding data\n",
    "\n",
    "avg_windPower = sum(windPower)/length(windPower)\n",
    "\n",
    "println(\"Average wind power generation is $avg_windPower MW\")"
   ]
  },
  {
   "cell_type": "code",
   "execution_count": 3,
   "metadata": {},
   "outputs": [
    {
     "name": "stdout",
     "output_type": "stream",
     "text": [
      "Annual hydrogen production is: 36713.16054 MWh\n"
     ]
    }
   ],
   "source": [
    "AHP_average = avg_windPower*0.67*8760\n",
    "\n",
    "println(\"Annual hydrogen production is: $AHP_average MWh\")"
   ]
  },
  {
   "cell_type": "markdown",
   "metadata": {},
   "source": [
    "This is a better approach, which we can improve by adding two additional caracteristics of alkaline electrolysis:\n",
    "* An efficiency curve : in practice, AEC have variable efficiency that depends on the power rating (or equipment load) that the equipment is subjected to. \n",
    "* A minimal power rating: additionally, there is also a minimal threshold of power rating that the electrolysis unit needs to operate safely.\n",
    "\n",
    "Here we going to use vivi to write a optimization problem that includes this caracteristics and can be later extended to examinate problems including hydrogen storage."
   ]
  },
  {
   "cell_type": "markdown",
   "metadata": {},
   "source": [
    "### Minimal load"
   ]
  },
  {
   "cell_type": "markdown",
   "metadata": {},
   "source": [
    "First let's import the functions from **vivi**:"
   ]
  },
  {
   "cell_type": "code",
   "execution_count": 4,
   "metadata": {},
   "outputs": [
    {
     "data": {
      "application/vnd.webio.node+json": {
       "children": [],
       "instanceArgs": {
        "namespace": "html",
        "tag": "div"
       },
       "nodeType": "DOM",
       "props": {},
       "type": "node"
      },
      "text/html": [
       "<div style=\"padding: 1em; background-color: #f8d6da; border: 1px solid #f5c6cb; font-weight: bold;\">\n",
       "<p>The WebIO Jupyter extension was not detected. See the\n",
       "<a href=\"https://juliagizmos.github.io/WebIO.jl/latest/providers/ijulia/\" target=\"_blank\">\n",
       "    WebIO Jupyter integration documentation\n",
       "</a>\n",
       "for more information.\n",
       "</div>\n"
      ],
      "text/plain": [
       "WebIO._IJuliaInit()"
      ]
     },
     "metadata": {},
     "output_type": "display_data"
    },
    {
     "data": {
      "text/plain": [
       "vivi_gcc (generic function with 2 methods)"
      ]
     },
     "execution_count": 4,
     "metadata": {},
     "output_type": "execute_result"
    }
   ],
   "source": [
    "include(\"../../src/vivi.jl\") # the file location may be different in your pc"
   ]
  },
  {
   "cell_type": "markdown",
   "metadata": {},
   "source": [
    "#### Alkaline electrolysis - Tech"
   ]
  },
  {
   "cell_type": "markdown",
   "metadata": {},
   "source": [
    "Now, we need to create a representation of the alkaline electrolysis unit. \n",
    "\n",
    "                power --> aec --> h2\n",
    "\n",
    "First, we should define the inputs and outputs of the AEC system as **Resources**:\n",
    "\n",
    "        Resource(type,amount,unit,[[value_t]])\n",
    "\n",
    "* type: a string identifying the resource (e.g., water)\n",
    "* amount: a value or array of the rate of that type (e.g., 100, 10)\n",
    "* unit: the unit of the amount (e.g., kg, W, etc.)\n",
    "* value_t: is the specific value of the resource on time t (e.g., 10 EUR/kg)"
   ]
  },
  {
   "cell_type": "code",
   "execution_count": 5,
   "metadata": {},
   "outputs": [
    {
     "data": {
      "text/plain": [
       "Resource(\"h2\", Real[6.6865], \"MW\", Vector{Real}[[1]], Vector{Real}[])"
      ]
     },
     "execution_count": 5,
     "metadata": {},
     "output_type": "execute_result"
    }
   ],
   "source": [
    "# Defining power input of electrolysis\n",
    "aec_in = Resource(\"power\",10,\"MW\",[[1]])\n",
    "\n",
    "# Defining hydrogen output of electrolysis\n",
    "aec_out = Resource(\"h2\",10*0.66865,\"MW\",[[1]])"
   ]
  },
  {
   "cell_type": "markdown",
   "metadata": {},
   "source": [
    "Finally, we create a Tech:\n",
    "\n",
    "        Tech(type,[in],[out],[[size,cost]])\n",
    "\n",
    "* type: the name of the technology\n",
    "* in: the resources inputs\n",
    "* out: the resources outputs\n",
    "* size,cost: datapoints of size and cost for the technology"
   ]
  },
  {
   "cell_type": "code",
   "execution_count": 6,
   "metadata": {},
   "outputs": [
    {
     "data": {
      "text/plain": [
       "Tech(\"ALK\", Any[Resource(\"power\", Real[10], \"MW\", Vector{Real}[[1]], Vector{Real}[])], Any[Resource(\"h2\", Real[6.6865], \"MW\", Vector{Real}[[1]], Vector{Real}[])], HeatStruct[], Real[0.0, 1000.0], [[[0.0, 0.0], [1000.0, 0.0]]], Real[0, 1, 1], Real[-1, 1], Real[1])"
      ]
     },
     "execution_count": 6,
     "metadata": {},
     "output_type": "execute_result"
    }
   ],
   "source": [
    "# Creating a basic Tech with the information available\n",
    "alk = Tech(\"ALK\",[aec_in],[aec_out],[])"
   ]
  },
  {
   "cell_type": "markdown",
   "metadata": {},
   "source": [
    "and include additional constraints about their size and partial load limits:\n",
    "\n",
    "        Tech.limits = [min,max]\n",
    "        Tech.loads = [min,max,turnOff]\n",
    "\n",
    "* min: minimal size/load\n",
    "* max: maximal size/load\n",
    "* turnOff: a binary variable to define if the Tech can be shut down (turnOff=true) or not (turnOff=false)\n",
    "\n",
    "So, since we defined the resources input as for a system of 10 MW, the sizes of the electrolysis Tech (f) should be limited to 1:\n",
    "\n",
    "$$ 1 \\leq f \\leq 1$$"
   ]
  },
  {
   "cell_type": "code",
   "execution_count": 39,
   "metadata": {},
   "outputs": [
    {
     "data": {
      "text/plain": [
       "2-element Vector{Int64}:\n",
       " 1\n",
       " 1"
      ]
     },
     "execution_count": 39,
     "metadata": {},
     "output_type": "execute_result"
    }
   ],
   "source": [
    "# Adding size limits\n",
    "alk.limits = [1,1]"
   ]
  },
  {
   "cell_type": "markdown",
   "metadata": {},
   "source": [
    "We also would like to limite the minimal load to 15% of the power rating and enable the possibility of shutting down the electrolysis:\n",
    "\n",
    "$$ 0.15 \\leq f_t \\leq 1 $$\n",
    "\n",
    "$$ turnOff = true $$"
   ]
  },
  {
   "cell_type": "code",
   "execution_count": 8,
   "metadata": {},
   "outputs": [
    {
     "data": {
      "text/plain": [
       "3-element Vector{Float64}:\n",
       " 0.15\n",
       " 1.0\n",
       " 1.0"
      ]
     },
     "execution_count": 8,
     "metadata": {},
     "output_type": "execute_result"
    }
   ],
   "source": [
    "# Adding load limits and shutdown possibility\n",
    "alk.loads = [0.15,1,true]"
   ]
  },
  {
   "cell_type": "markdown",
   "metadata": {},
   "source": [
    "We can visualize the balance of resource by using the \"vivi_sankey\" function"
   ]
  },
  {
   "cell_type": "code",
   "execution_count": 9,
   "metadata": {},
   "outputs": [
    {
     "data": {
      "application/vnd.plotly.v1+json": {
       "config": {
        "editable": false,
        "responsive": true,
        "scrollZoom": true,
        "showLink": false,
        "staticPlot": false
       },
       "data": [
        {
         "link": {
          "color": [
           "rgba(186,186,186,0.5)",
           "rgba(186,186,186,0.5)"
          ],
          "source": [
           2,
           0
          ],
          "target": [
           0,
           1
          ],
          "value": [
           10,
           6.6865
          ]
         },
         "node": {
          "color": [
           "blue",
           "#90EE90",
           "#90EE90",
           "#90EE90"
          ],
          "label": [
           "ALK",
           "h2",
           "power",
           "Heat network"
          ],
          "line": {
           "color": "black",
           "width": 0.5
          },
          "pad": 15,
          "thickness": 20
         },
         "type": "sankey"
        }
       ],
       "frames": [],
       "layout": {
        "margin": {
         "b": 50,
         "l": 50,
         "r": 50,
         "t": 60
        },
        "template": {
         "data": {
          "bar": [
           {
            "error_x": {
             "color": "#2a3f5f"
            },
            "error_y": {
             "color": "#2a3f5f"
            },
            "marker": {
             "line": {
              "color": "#E5ECF6",
              "width": 0.5
             }
            },
            "type": "bar"
           }
          ],
          "barpolar": [
           {
            "marker": {
             "line": {
              "color": "#E5ECF6",
              "width": 0.5
             }
            },
            "type": "barpolar"
           }
          ],
          "carpet": [
           {
            "aaxis": {
             "endlinecolor": "#2a3f5f",
             "gridcolor": "white",
             "linecolor": "white",
             "minorgridcolor": "white",
             "startlinecolor": "#2a3f5f"
            },
            "baxis": {
             "endlinecolor": "#2a3f5f",
             "gridcolor": "white",
             "linecolor": "white",
             "minorgridcolor": "white",
             "startlinecolor": "#2a3f5f"
            },
            "type": "carpet"
           }
          ],
          "choropleth": [
           {
            "colorbar": {
             "outlinewidth": 0,
             "ticks": ""
            },
            "type": "choropleth"
           }
          ],
          "contour": [
           {
            "colorbar": {
             "outlinewidth": 0,
             "ticks": ""
            },
            "colorscale": [
             [
              0,
              "#0d0887"
             ],
             [
              0.1111111111111111,
              "#46039f"
             ],
             [
              0.2222222222222222,
              "#7201a8"
             ],
             [
              0.3333333333333333,
              "#9c179e"
             ],
             [
              0.4444444444444444,
              "#bd3786"
             ],
             [
              0.5555555555555556,
              "#d8576b"
             ],
             [
              0.6666666666666666,
              "#ed7953"
             ],
             [
              0.7777777777777778,
              "#fb9f3a"
             ],
             [
              0.8888888888888888,
              "#fdca26"
             ],
             [
              1,
              "#f0f921"
             ]
            ],
            "type": "contour"
           }
          ],
          "contourcarpet": [
           {
            "colorbar": {
             "outlinewidth": 0,
             "ticks": ""
            },
            "type": "contourcarpet"
           }
          ],
          "heatmap": [
           {
            "colorbar": {
             "outlinewidth": 0,
             "ticks": ""
            },
            "colorscale": [
             [
              0,
              "#0d0887"
             ],
             [
              0.1111111111111111,
              "#46039f"
             ],
             [
              0.2222222222222222,
              "#7201a8"
             ],
             [
              0.3333333333333333,
              "#9c179e"
             ],
             [
              0.4444444444444444,
              "#bd3786"
             ],
             [
              0.5555555555555556,
              "#d8576b"
             ],
             [
              0.6666666666666666,
              "#ed7953"
             ],
             [
              0.7777777777777778,
              "#fb9f3a"
             ],
             [
              0.8888888888888888,
              "#fdca26"
             ],
             [
              1,
              "#f0f921"
             ]
            ],
            "type": "heatmap"
           }
          ],
          "heatmapgl": [
           {
            "colorbar": {
             "outlinewidth": 0,
             "ticks": ""
            },
            "colorscale": [
             [
              0,
              "#0d0887"
             ],
             [
              0.1111111111111111,
              "#46039f"
             ],
             [
              0.2222222222222222,
              "#7201a8"
             ],
             [
              0.3333333333333333,
              "#9c179e"
             ],
             [
              0.4444444444444444,
              "#bd3786"
             ],
             [
              0.5555555555555556,
              "#d8576b"
             ],
             [
              0.6666666666666666,
              "#ed7953"
             ],
             [
              0.7777777777777778,
              "#fb9f3a"
             ],
             [
              0.8888888888888888,
              "#fdca26"
             ],
             [
              1,
              "#f0f921"
             ]
            ],
            "type": "heatmapgl"
           }
          ],
          "histogram": [
           {
            "marker": {
             "colorbar": {
              "outlinewidth": 0,
              "ticks": ""
             }
            },
            "type": "histogram"
           }
          ],
          "histogram2d": [
           {
            "colorbar": {
             "outlinewidth": 0,
             "ticks": ""
            },
            "colorscale": [
             [
              0,
              "#0d0887"
             ],
             [
              0.1111111111111111,
              "#46039f"
             ],
             [
              0.2222222222222222,
              "#7201a8"
             ],
             [
              0.3333333333333333,
              "#9c179e"
             ],
             [
              0.4444444444444444,
              "#bd3786"
             ],
             [
              0.5555555555555556,
              "#d8576b"
             ],
             [
              0.6666666666666666,
              "#ed7953"
             ],
             [
              0.7777777777777778,
              "#fb9f3a"
             ],
             [
              0.8888888888888888,
              "#fdca26"
             ],
             [
              1,
              "#f0f921"
             ]
            ],
            "type": "histogram2d"
           }
          ],
          "histogram2dcontour": [
           {
            "colorbar": {
             "outlinewidth": 0,
             "ticks": ""
            },
            "colorscale": [
             [
              0,
              "#0d0887"
             ],
             [
              0.1111111111111111,
              "#46039f"
             ],
             [
              0.2222222222222222,
              "#7201a8"
             ],
             [
              0.3333333333333333,
              "#9c179e"
             ],
             [
              0.4444444444444444,
              "#bd3786"
             ],
             [
              0.5555555555555556,
              "#d8576b"
             ],
             [
              0.6666666666666666,
              "#ed7953"
             ],
             [
              0.7777777777777778,
              "#fb9f3a"
             ],
             [
              0.8888888888888888,
              "#fdca26"
             ],
             [
              1,
              "#f0f921"
             ]
            ],
            "type": "histogram2dcontour"
           }
          ],
          "mesh3d": [
           {
            "colorbar": {
             "outlinewidth": 0,
             "ticks": ""
            },
            "type": "mesh3d"
           }
          ],
          "parcoords": [
           {
            "line": {
             "colorbar": {
              "outlinewidth": 0,
              "ticks": ""
             }
            },
            "type": "parcoords"
           }
          ],
          "pie": [
           {
            "automargin": true,
            "type": "pie"
           }
          ],
          "scatter": [
           {
            "marker": {
             "colorbar": {
              "outlinewidth": 0,
              "ticks": ""
             }
            },
            "type": "scatter"
           }
          ],
          "scatter3d": [
           {
            "line": {
             "colorbar": {
              "outlinewidth": 0,
              "ticks": ""
             }
            },
            "marker": {
             "colorbar": {
              "outlinewidth": 0,
              "ticks": ""
             }
            },
            "type": "scatter3d"
           }
          ],
          "scattercarpet": [
           {
            "marker": {
             "colorbar": {
              "outlinewidth": 0,
              "ticks": ""
             }
            },
            "type": "scattercarpet"
           }
          ],
          "scattergeo": [
           {
            "marker": {
             "colorbar": {
              "outlinewidth": 0,
              "ticks": ""
             }
            },
            "type": "scattergeo"
           }
          ],
          "scattergl": [
           {
            "marker": {
             "colorbar": {
              "outlinewidth": 0,
              "ticks": ""
             }
            },
            "type": "scattergl"
           }
          ],
          "scattermapbox": [
           {
            "marker": {
             "colorbar": {
              "outlinewidth": 0,
              "ticks": ""
             }
            },
            "type": "scattermapbox"
           }
          ],
          "scatterpolar": [
           {
            "marker": {
             "colorbar": {
              "outlinewidth": 0,
              "ticks": ""
             }
            },
            "type": "scatterpolar"
           }
          ],
          "scatterpolargl": [
           {
            "marker": {
             "colorbar": {
              "outlinewidth": 0,
              "ticks": ""
             }
            },
            "type": "scatterpolargl"
           }
          ],
          "scatterternary": [
           {
            "marker": {
             "colorbar": {
              "outlinewidth": 0,
              "ticks": ""
             }
            },
            "type": "scatterternary"
           }
          ],
          "surface": [
           {
            "colorbar": {
             "outlinewidth": 0,
             "ticks": ""
            },
            "colorscale": [
             [
              0,
              "#0d0887"
             ],
             [
              0.1111111111111111,
              "#46039f"
             ],
             [
              0.2222222222222222,
              "#7201a8"
             ],
             [
              0.3333333333333333,
              "#9c179e"
             ],
             [
              0.4444444444444444,
              "#bd3786"
             ],
             [
              0.5555555555555556,
              "#d8576b"
             ],
             [
              0.6666666666666666,
              "#ed7953"
             ],
             [
              0.7777777777777778,
              "#fb9f3a"
             ],
             [
              0.8888888888888888,
              "#fdca26"
             ],
             [
              1,
              "#f0f921"
             ]
            ],
            "type": "surface"
           }
          ],
          "table": [
           {
            "cells": {
             "fill": {
              "color": "#EBF0F8"
             },
             "line": {
              "color": "white"
             }
            },
            "header": {
             "fill": {
              "color": "#C8D4E3"
             },
             "line": {
              "color": "white"
             }
            },
            "type": "table"
           }
          ]
         },
         "layout": {
          "annotationdefaults": {
           "arrowcolor": "#2a3f5f",
           "arrowhead": 0,
           "arrowwidth": 1
          },
          "autotypenumbers": "strict",
          "coloraxis": {
           "colorbar": {
            "outlinewidth": 0,
            "ticks": ""
           }
          },
          "colorscale": {
           "diverging": [
            [
             0,
             "#8e0152"
            ],
            [
             0.1,
             "#c51b7d"
            ],
            [
             0.2,
             "#de77ae"
            ],
            [
             0.3,
             "#f1b6da"
            ],
            [
             0.4,
             "#fde0ef"
            ],
            [
             0.5,
             "#f7f7f7"
            ],
            [
             0.6,
             "#e6f5d0"
            ],
            [
             0.7,
             "#b8e186"
            ],
            [
             0.8,
             "#7fbc41"
            ],
            [
             0.9,
             "#4d9221"
            ],
            [
             1,
             "#276419"
            ]
           ],
           "sequential": [
            [
             0,
             "#0d0887"
            ],
            [
             0.1111111111111111,
             "#46039f"
            ],
            [
             0.2222222222222222,
             "#7201a8"
            ],
            [
             0.3333333333333333,
             "#9c179e"
            ],
            [
             0.4444444444444444,
             "#bd3786"
            ],
            [
             0.5555555555555556,
             "#d8576b"
            ],
            [
             0.6666666666666666,
             "#ed7953"
            ],
            [
             0.7777777777777778,
             "#fb9f3a"
            ],
            [
             0.8888888888888888,
             "#fdca26"
            ],
            [
             1,
             "#f0f921"
            ]
           ],
           "sequentialminus": [
            [
             0,
             "#0d0887"
            ],
            [
             0.1111111111111111,
             "#46039f"
            ],
            [
             0.2222222222222222,
             "#7201a8"
            ],
            [
             0.3333333333333333,
             "#9c179e"
            ],
            [
             0.4444444444444444,
             "#bd3786"
            ],
            [
             0.5555555555555556,
             "#d8576b"
            ],
            [
             0.6666666666666666,
             "#ed7953"
            ],
            [
             0.7777777777777778,
             "#fb9f3a"
            ],
            [
             0.8888888888888888,
             "#fdca26"
            ],
            [
             1,
             "#f0f921"
            ]
           ]
          },
          "colorway": [
           "#636efa",
           "#EF553B",
           "#00cc96",
           "#ab63fa",
           "#FFA15A",
           "#19d3f3",
           "#FF6692",
           "#B6E880",
           "#FF97FF",
           "#FECB52"
          ],
          "font": {
           "color": "#2a3f5f"
          },
          "geo": {
           "bgcolor": "white",
           "lakecolor": "white",
           "landcolor": "#E5ECF6",
           "showlakes": true,
           "showland": true,
           "subunitcolor": "white"
          },
          "hoverlabel": {
           "align": "left"
          },
          "hovermode": "closest",
          "mapbox": {
           "style": "light"
          },
          "paper_bgcolor": "white",
          "plot_bgcolor": "#E5ECF6",
          "polar": {
           "angularaxis": {
            "gridcolor": "white",
            "linecolor": "white",
            "ticks": ""
           },
           "bgcolor": "#E5ECF6",
           "radialaxis": {
            "gridcolor": "white",
            "linecolor": "white",
            "ticks": ""
           }
          },
          "scene": {
           "xaxis": {
            "backgroundcolor": "#E5ECF6",
            "gridcolor": "white",
            "gridwidth": 2,
            "linecolor": "white",
            "showbackground": true,
            "ticks": "",
            "zerolinecolor": "white"
           },
           "yaxis": {
            "backgroundcolor": "#E5ECF6",
            "gridcolor": "white",
            "gridwidth": 2,
            "linecolor": "white",
            "showbackground": true,
            "ticks": "",
            "zerolinecolor": "white"
           },
           "zaxis": {
            "backgroundcolor": "#E5ECF6",
            "gridcolor": "white",
            "gridwidth": 2,
            "linecolor": "white",
            "showbackground": true,
            "ticks": "",
            "zerolinecolor": "white"
           }
          },
          "shapedefaults": {
           "line": {
            "color": "#2a3f5f"
           }
          },
          "ternary": {
           "aaxis": {
            "gridcolor": "white",
            "linecolor": "white",
            "ticks": ""
           },
           "baxis": {
            "gridcolor": "white",
            "linecolor": "white",
            "ticks": ""
           },
           "bgcolor": "#E5ECF6",
           "caxis": {
            "gridcolor": "white",
            "linecolor": "white",
            "ticks": ""
           }
          },
          "title": {
           "x": 0.05
          },
          "xaxis": {
           "automargin": true,
           "gridcolor": "white",
           "linecolor": "white",
           "ticks": "",
           "title": {
            "standoff": 15
           },
           "zerolinecolor": "white",
           "zerolinewidth": 2
          },
          "yaxis": {
           "automargin": true,
           "gridcolor": "white",
           "linecolor": "white",
           "ticks": "",
           "title": {
            "standoff": 15
           },
           "zerolinecolor": "white",
           "zerolinewidth": 2
          }
         }
        }
       }
      },
      "text/html": [
       "<div\n",
       "    class=\"webio-mountpoint\"\n",
       "    data-webio-mountpoint=\"6348594630258636700\"\n",
       ">\n",
       "    <script>\n",
       "    (function(){\n",
       "    // Some integrations (namely, IJulia/Jupyter) use an alternate render pathway than\n",
       "    // just putting the html on the page. If WebIO isn't defined, then it's pretty likely\n",
       "    // that we're in one of those situations and the integration just isn't installed\n",
       "    // correctly.\n",
       "    if (typeof window.WebIO === \"undefined\") {\n",
       "        document\n",
       "            .querySelector('[data-webio-mountpoint=\"6348594630258636700\"]')\n",
       "            .innerHTML = (\n",
       "                '<div style=\"padding: 1em; background-color: #f8d6da; border: 1px solid #f5c6cb; font-weight: bold;\">' +\n",
       "                '<p><strong>WebIO not detected.</strong></p>' +\n",
       "                '<p>Please read ' +\n",
       "                '<a href=\"https://juliagizmos.github.io/WebIO.jl/latest/troubleshooting/not-detected/\" target=\"_blank\">the troubleshooting guide</a> ' +\n",
       "                'for more information on how to resolve this issue.</p>' +\n",
       "                '<p><a href=\"https://juliagizmos.github.io/WebIO.jl/latest/troubleshooting/not-detected/\" target=\"_blank\">https://juliagizmos.github.io/WebIO.jl/latest/troubleshooting/not-detected/</a></p>' +\n",
       "                '</div>'\n",
       "            );\n",
       "        return;\n",
       "    }\n",
       "    WebIO.mount(\n",
       "        document.querySelector('[data-webio-mountpoint=\"6348594630258636700\"]'),\n",
       "        {\"props\":{},\"nodeType\":\"Scope\",\"type\":\"node\",\"instanceArgs\":{\"imports\":{\"data\":[{\"name\":\"Plotly\",\"type\":\"js\",\"url\":\"\\/assetserver\\/0920e676c106f32ba509e3957ec7f2e1975e6dda-plotly.min.js\"},{\"name\":null,\"type\":\"js\",\"url\":\"\\/assetserver\\/a5a7489247caefe55cf69adf7b5b90ef582ba49e-plotly_webio.bundle.js\"}],\"type\":\"async_block\"},\"id\":\"580147906666029570\",\"handlers\":{\"_toImage\":[\"(function (options){return this.Plotly.toImage(this.plotElem,options).then((function (data){return WebIO.setval({\\\"name\\\":\\\"image\\\",\\\"scope\\\":\\\"580147906666029570\\\",\\\"id\\\":\\\"10564084998131623950\\\",\\\"type\\\":\\\"observable\\\"},data)}))})\"],\"__get_gd_contents\":[\"(function (prop){prop==\\\"data\\\" ? (WebIO.setval({\\\"name\\\":\\\"__gd_contents\\\",\\\"scope\\\":\\\"580147906666029570\\\",\\\"id\\\":\\\"5065516411947679369\\\",\\\"type\\\":\\\"observable\\\"},this.plotElem.data)) : undefined; return prop==\\\"layout\\\" ? (WebIO.setval({\\\"name\\\":\\\"__gd_contents\\\",\\\"scope\\\":\\\"580147906666029570\\\",\\\"id\\\":\\\"5065516411947679369\\\",\\\"type\\\":\\\"observable\\\"},this.plotElem.layout)) : undefined})\"],\"_downloadImage\":[\"(function (options){return this.Plotly.downloadImage(this.plotElem,options)})\"],\"_commands\":[\"(function (args){var fn=args.shift(); var elem=this.plotElem; var Plotly=this.Plotly; args.unshift(elem); return Plotly[fn].apply(this,args)})\"]},\"systemjs_options\":null,\"mount_callbacks\":[\"function () {\\n    var handler = ((function (Plotly,PlotlyWebIO){PlotlyWebIO.init(WebIO); var gd=this.dom.querySelector(\\\"#plot-62e3904d-a285-4495-8445-9b8317fc8ff1\\\"); this.plotElem=gd; this.Plotly=Plotly; (window.Blink!==undefined) ? (gd.style.width=\\\"100%\\\", gd.style.height=\\\"100vh\\\", gd.style.marginLeft=\\\"0%\\\", gd.style.marginTop=\\\"0vh\\\") : undefined; window.onresize=(function (){return Plotly.Plots.resize(gd)}); Plotly.newPlot(gd,[{\\\"link\\\":{\\\"color\\\":[\\\"rgba(186,186,186,0.5)\\\",\\\"rgba(186,186,186,0.5)\\\"],\\\"value\\\":[10.0,6.6865],\\\"source\\\":[2.0,0.0],\\\"target\\\":[0.0,1.0]},\\\"node\\\":{\\\"color\\\":[\\\"blue\\\",\\\"#90EE90\\\",\\\"#90EE90\\\",\\\"#90EE90\\\"],\\\"pad\\\":15,\\\"line\\\":{\\\"color\\\":\\\"black\\\",\\\"width\\\":0.5},\\\"label\\\":[\\\"ALK\\\",\\\"h2\\\",\\\"power\\\",\\\"Heat network\\\"],\\\"thickness\\\":20},\\\"type\\\":\\\"sankey\\\"}],{\\\"template\\\":{\\\"layout\\\":{\\\"coloraxis\\\":{\\\"colorbar\\\":{\\\"ticks\\\":\\\"\\\",\\\"outlinewidth\\\":0}},\\\"xaxis\\\":{\\\"gridcolor\\\":\\\"white\\\",\\\"zerolinewidth\\\":2,\\\"title\\\":{\\\"standoff\\\":15},\\\"ticks\\\":\\\"\\\",\\\"zerolinecolor\\\":\\\"white\\\",\\\"automargin\\\":true,\\\"linecolor\\\":\\\"white\\\"},\\\"hovermode\\\":\\\"closest\\\",\\\"paper_bgcolor\\\":\\\"white\\\",\\\"geo\\\":{\\\"showlakes\\\":true,\\\"showland\\\":true,\\\"landcolor\\\":\\\"#E5ECF6\\\",\\\"bgcolor\\\":\\\"white\\\",\\\"subunitcolor\\\":\\\"white\\\",\\\"lakecolor\\\":\\\"white\\\"},\\\"colorscale\\\":{\\\"sequential\\\":[[0.0,\\\"#0d0887\\\"],[0.1111111111111111,\\\"#46039f\\\"],[0.2222222222222222,\\\"#7201a8\\\"],[0.3333333333333333,\\\"#9c179e\\\"],[0.4444444444444444,\\\"#bd3786\\\"],[0.5555555555555556,\\\"#d8576b\\\"],[0.6666666666666666,\\\"#ed7953\\\"],[0.7777777777777778,\\\"#fb9f3a\\\"],[0.8888888888888888,\\\"#fdca26\\\"],[1.0,\\\"#f0f921\\\"]],\\\"diverging\\\":[[0,\\\"#8e0152\\\"],[0.1,\\\"#c51b7d\\\"],[0.2,\\\"#de77ae\\\"],[0.3,\\\"#f1b6da\\\"],[0.4,\\\"#fde0ef\\\"],[0.5,\\\"#f7f7f7\\\"],[0.6,\\\"#e6f5d0\\\"],[0.7,\\\"#b8e186\\\"],[0.8,\\\"#7fbc41\\\"],[0.9,\\\"#4d9221\\\"],[1,\\\"#276419\\\"]],\\\"sequentialminus\\\":[[0.0,\\\"#0d0887\\\"],[0.1111111111111111,\\\"#46039f\\\"],[0.2222222222222222,\\\"#7201a8\\\"],[0.3333333333333333,\\\"#9c179e\\\"],[0.4444444444444444,\\\"#bd3786\\\"],[0.5555555555555556,\\\"#d8576b\\\"],[0.6666666666666666,\\\"#ed7953\\\"],[0.7777777777777778,\\\"#fb9f3a\\\"],[0.8888888888888888,\\\"#fdca26\\\"],[1.0,\\\"#f0f921\\\"]]},\\\"yaxis\\\":{\\\"gridcolor\\\":\\\"white\\\",\\\"zerolinewidth\\\":2,\\\"title\\\":{\\\"standoff\\\":15},\\\"ticks\\\":\\\"\\\",\\\"zerolinecolor\\\":\\\"white\\\",\\\"automargin\\\":true,\\\"linecolor\\\":\\\"white\\\"},\\\"shapedefaults\\\":{\\\"line\\\":{\\\"color\\\":\\\"#2a3f5f\\\"}},\\\"hoverlabel\\\":{\\\"align\\\":\\\"left\\\"},\\\"mapbox\\\":{\\\"style\\\":\\\"light\\\"},\\\"polar\\\":{\\\"angularaxis\\\":{\\\"gridcolor\\\":\\\"white\\\",\\\"ticks\\\":\\\"\\\",\\\"linecolor\\\":\\\"white\\\"},\\\"bgcolor\\\":\\\"#E5ECF6\\\",\\\"radialaxis\\\":{\\\"gridcolor\\\":\\\"white\\\",\\\"ticks\\\":\\\"\\\",\\\"linecolor\\\":\\\"white\\\"}},\\\"autotypenumbers\\\":\\\"strict\\\",\\\"font\\\":{\\\"color\\\":\\\"#2a3f5f\\\"},\\\"ternary\\\":{\\\"baxis\\\":{\\\"gridcolor\\\":\\\"white\\\",\\\"ticks\\\":\\\"\\\",\\\"linecolor\\\":\\\"white\\\"},\\\"bgcolor\\\":\\\"#E5ECF6\\\",\\\"caxis\\\":{\\\"gridcolor\\\":\\\"white\\\",\\\"ticks\\\":\\\"\\\",\\\"linecolor\\\":\\\"white\\\"},\\\"aaxis\\\":{\\\"gridcolor\\\":\\\"white\\\",\\\"ticks\\\":\\\"\\\",\\\"linecolor\\\":\\\"white\\\"}},\\\"annotationdefaults\\\":{\\\"arrowhead\\\":0,\\\"arrowwidth\\\":1,\\\"arrowcolor\\\":\\\"#2a3f5f\\\"},\\\"plot_bgcolor\\\":\\\"#E5ECF6\\\",\\\"title\\\":{\\\"x\\\":0.05},\\\"scene\\\":{\\\"xaxis\\\":{\\\"gridcolor\\\":\\\"white\\\",\\\"gridwidth\\\":2,\\\"backgroundcolor\\\":\\\"#E5ECF6\\\",\\\"ticks\\\":\\\"\\\",\\\"showbackground\\\":true,\\\"zerolinecolor\\\":\\\"white\\\",\\\"linecolor\\\":\\\"white\\\"},\\\"zaxis\\\":{\\\"gridcolor\\\":\\\"white\\\",\\\"gridwidth\\\":2,\\\"backgroundcolor\\\":\\\"#E5ECF6\\\",\\\"ticks\\\":\\\"\\\",\\\"showbackground\\\":true,\\\"zerolinecolor\\\":\\\"white\\\",\\\"linecolor\\\":\\\"white\\\"},\\\"yaxis\\\":{\\\"gridcolor\\\":\\\"white\\\",\\\"gridwidth\\\":2,\\\"backgroundcolor\\\":\\\"#E5ECF6\\\",\\\"ticks\\\":\\\"\\\",\\\"showbackground\\\":true,\\\"zerolinecolor\\\":\\\"white\\\",\\\"linecolor\\\":\\\"white\\\"}},\\\"colorway\\\":[\\\"#636efa\\\",\\\"#EF553B\\\",\\\"#00cc96\\\",\\\"#ab63fa\\\",\\\"#FFA15A\\\",\\\"#19d3f3\\\",\\\"#FF6692\\\",\\\"#B6E880\\\",\\\"#FF97FF\\\",\\\"#FECB52\\\"]},\\\"data\\\":{\\\"barpolar\\\":[{\\\"type\\\":\\\"barpolar\\\",\\\"marker\\\":{\\\"line\\\":{\\\"color\\\":\\\"#E5ECF6\\\",\\\"width\\\":0.5}}}],\\\"carpet\\\":[{\\\"aaxis\\\":{\\\"gridcolor\\\":\\\"white\\\",\\\"endlinecolor\\\":\\\"#2a3f5f\\\",\\\"minorgridcolor\\\":\\\"white\\\",\\\"startlinecolor\\\":\\\"#2a3f5f\\\",\\\"linecolor\\\":\\\"white\\\"},\\\"type\\\":\\\"carpet\\\",\\\"baxis\\\":{\\\"gridcolor\\\":\\\"white\\\",\\\"endlinecolor\\\":\\\"#2a3f5f\\\",\\\"minorgridcolor\\\":\\\"white\\\",\\\"startlinecolor\\\":\\\"#2a3f5f\\\",\\\"linecolor\\\":\\\"white\\\"}}],\\\"scatterpolar\\\":[{\\\"type\\\":\\\"scatterpolar\\\",\\\"marker\\\":{\\\"colorbar\\\":{\\\"ticks\\\":\\\"\\\",\\\"outlinewidth\\\":0}}}],\\\"parcoords\\\":[{\\\"line\\\":{\\\"colorbar\\\":{\\\"ticks\\\":\\\"\\\",\\\"outlinewidth\\\":0}},\\\"type\\\":\\\"parcoords\\\"}],\\\"scatter\\\":[{\\\"type\\\":\\\"scatter\\\",\\\"marker\\\":{\\\"colorbar\\\":{\\\"ticks\\\":\\\"\\\",\\\"outlinewidth\\\":0}}}],\\\"histogram2dcontour\\\":[{\\\"colorbar\\\":{\\\"ticks\\\":\\\"\\\",\\\"outlinewidth\\\":0},\\\"type\\\":\\\"histogram2dcontour\\\",\\\"colorscale\\\":[[0.0,\\\"#0d0887\\\"],[0.1111111111111111,\\\"#46039f\\\"],[0.2222222222222222,\\\"#7201a8\\\"],[0.3333333333333333,\\\"#9c179e\\\"],[0.4444444444444444,\\\"#bd3786\\\"],[0.5555555555555556,\\\"#d8576b\\\"],[0.6666666666666666,\\\"#ed7953\\\"],[0.7777777777777778,\\\"#fb9f3a\\\"],[0.8888888888888888,\\\"#fdca26\\\"],[1.0,\\\"#f0f921\\\"]]}],\\\"contour\\\":[{\\\"colorbar\\\":{\\\"ticks\\\":\\\"\\\",\\\"outlinewidth\\\":0},\\\"type\\\":\\\"contour\\\",\\\"colorscale\\\":[[0.0,\\\"#0d0887\\\"],[0.1111111111111111,\\\"#46039f\\\"],[0.2222222222222222,\\\"#7201a8\\\"],[0.3333333333333333,\\\"#9c179e\\\"],[0.4444444444444444,\\\"#bd3786\\\"],[0.5555555555555556,\\\"#d8576b\\\"],[0.6666666666666666,\\\"#ed7953\\\"],[0.7777777777777778,\\\"#fb9f3a\\\"],[0.8888888888888888,\\\"#fdca26\\\"],[1.0,\\\"#f0f921\\\"]]}],\\\"scattercarpet\\\":[{\\\"type\\\":\\\"scattercarpet\\\",\\\"marker\\\":{\\\"colorbar\\\":{\\\"ticks\\\":\\\"\\\",\\\"outlinewidth\\\":0}}}],\\\"mesh3d\\\":[{\\\"colorbar\\\":{\\\"ticks\\\":\\\"\\\",\\\"outlinewidth\\\":0},\\\"type\\\":\\\"mesh3d\\\"}],\\\"surface\\\":[{\\\"colorbar\\\":{\\\"ticks\\\":\\\"\\\",\\\"outlinewidth\\\":0},\\\"type\\\":\\\"surface\\\",\\\"colorscale\\\":[[0.0,\\\"#0d0887\\\"],[0.1111111111111111,\\\"#46039f\\\"],[0.2222222222222222,\\\"#7201a8\\\"],[0.3333333333333333,\\\"#9c179e\\\"],[0.4444444444444444,\\\"#bd3786\\\"],[0.5555555555555556,\\\"#d8576b\\\"],[0.6666666666666666,\\\"#ed7953\\\"],[0.7777777777777778,\\\"#fb9f3a\\\"],[0.8888888888888888,\\\"#fdca26\\\"],[1.0,\\\"#f0f921\\\"]]}],\\\"scattermapbox\\\":[{\\\"type\\\":\\\"scattermapbox\\\",\\\"marker\\\":{\\\"colorbar\\\":{\\\"ticks\\\":\\\"\\\",\\\"outlinewidth\\\":0}}}],\\\"scattergeo\\\":[{\\\"type\\\":\\\"scattergeo\\\",\\\"marker\\\":{\\\"colorbar\\\":{\\\"ticks\\\":\\\"\\\",\\\"outlinewidth\\\":0}}}],\\\"histogram\\\":[{\\\"type\\\":\\\"histogram\\\",\\\"marker\\\":{\\\"colorbar\\\":{\\\"ticks\\\":\\\"\\\",\\\"outlinewidth\\\":0}}}],\\\"pie\\\":[{\\\"type\\\":\\\"pie\\\",\\\"automargin\\\":true}],\\\"choropleth\\\":[{\\\"colorbar\\\":{\\\"ticks\\\":\\\"\\\",\\\"outlinewidth\\\":0},\\\"type\\\":\\\"choropleth\\\"}],\\\"heatmapgl\\\":[{\\\"colorbar\\\":{\\\"ticks\\\":\\\"\\\",\\\"outlinewidth\\\":0},\\\"type\\\":\\\"heatmapgl\\\",\\\"colorscale\\\":[[0.0,\\\"#0d0887\\\"],[0.1111111111111111,\\\"#46039f\\\"],[0.2222222222222222,\\\"#7201a8\\\"],[0.3333333333333333,\\\"#9c179e\\\"],[0.4444444444444444,\\\"#bd3786\\\"],[0.5555555555555556,\\\"#d8576b\\\"],[0.6666666666666666,\\\"#ed7953\\\"],[0.7777777777777778,\\\"#fb9f3a\\\"],[0.8888888888888888,\\\"#fdca26\\\"],[1.0,\\\"#f0f921\\\"]]}],\\\"bar\\\":[{\\\"type\\\":\\\"bar\\\",\\\"error_y\\\":{\\\"color\\\":\\\"#2a3f5f\\\"},\\\"error_x\\\":{\\\"color\\\":\\\"#2a3f5f\\\"},\\\"marker\\\":{\\\"line\\\":{\\\"color\\\":\\\"#E5ECF6\\\",\\\"width\\\":0.5}}}],\\\"heatmap\\\":[{\\\"colorbar\\\":{\\\"ticks\\\":\\\"\\\",\\\"outlinewidth\\\":0},\\\"type\\\":\\\"heatmap\\\",\\\"colorscale\\\":[[0.0,\\\"#0d0887\\\"],[0.1111111111111111,\\\"#46039f\\\"],[0.2222222222222222,\\\"#7201a8\\\"],[0.3333333333333333,\\\"#9c179e\\\"],[0.4444444444444444,\\\"#bd3786\\\"],[0.5555555555555556,\\\"#d8576b\\\"],[0.6666666666666666,\\\"#ed7953\\\"],[0.7777777777777778,\\\"#fb9f3a\\\"],[0.8888888888888888,\\\"#fdca26\\\"],[1.0,\\\"#f0f921\\\"]]}],\\\"contourcarpet\\\":[{\\\"colorbar\\\":{\\\"ticks\\\":\\\"\\\",\\\"outlinewidth\\\":0},\\\"type\\\":\\\"contourcarpet\\\"}],\\\"table\\\":[{\\\"type\\\":\\\"table\\\",\\\"header\\\":{\\\"line\\\":{\\\"color\\\":\\\"white\\\"},\\\"fill\\\":{\\\"color\\\":\\\"#C8D4E3\\\"}},\\\"cells\\\":{\\\"line\\\":{\\\"color\\\":\\\"white\\\"},\\\"fill\\\":{\\\"color\\\":\\\"#EBF0F8\\\"}}}],\\\"scatter3d\\\":[{\\\"line\\\":{\\\"colorbar\\\":{\\\"ticks\\\":\\\"\\\",\\\"outlinewidth\\\":0}},\\\"type\\\":\\\"scatter3d\\\",\\\"marker\\\":{\\\"colorbar\\\":{\\\"ticks\\\":\\\"\\\",\\\"outlinewidth\\\":0}}}],\\\"scattergl\\\":[{\\\"type\\\":\\\"scattergl\\\",\\\"marker\\\":{\\\"colorbar\\\":{\\\"ticks\\\":\\\"\\\",\\\"outlinewidth\\\":0}}}],\\\"histogram2d\\\":[{\\\"colorbar\\\":{\\\"ticks\\\":\\\"\\\",\\\"outlinewidth\\\":0},\\\"type\\\":\\\"histogram2d\\\",\\\"colorscale\\\":[[0.0,\\\"#0d0887\\\"],[0.1111111111111111,\\\"#46039f\\\"],[0.2222222222222222,\\\"#7201a8\\\"],[0.3333333333333333,\\\"#9c179e\\\"],[0.4444444444444444,\\\"#bd3786\\\"],[0.5555555555555556,\\\"#d8576b\\\"],[0.6666666666666666,\\\"#ed7953\\\"],[0.7777777777777778,\\\"#fb9f3a\\\"],[0.8888888888888888,\\\"#fdca26\\\"],[1.0,\\\"#f0f921\\\"]]}],\\\"scatterternary\\\":[{\\\"type\\\":\\\"scatterternary\\\",\\\"marker\\\":{\\\"colorbar\\\":{\\\"ticks\\\":\\\"\\\",\\\"outlinewidth\\\":0}}}],\\\"scatterpolargl\\\":[{\\\"type\\\":\\\"scatterpolargl\\\",\\\"marker\\\":{\\\"colorbar\\\":{\\\"ticks\\\":\\\"\\\",\\\"outlinewidth\\\":0}}}]}},\\\"margin\\\":{\\\"l\\\":50,\\\"b\\\":50,\\\"r\\\":50,\\\"t\\\":60}},{\\\"showLink\\\":false,\\\"editable\\\":false,\\\"responsive\\\":true,\\\"staticPlot\\\":false,\\\"scrollZoom\\\":true}); gd.on(\\\"plotly_hover\\\",(function (data){var filtered_data=WebIO.PlotlyCommands.filterEventData(gd,data,\\\"hover\\\"); return !(filtered_data.isnil) ? (WebIO.setval({\\\"name\\\":\\\"hover\\\",\\\"scope\\\":\\\"580147906666029570\\\",\\\"id\\\":\\\"15995830071470905172\\\",\\\"type\\\":\\\"observable\\\"},filtered_data.out)) : undefined})); gd.on(\\\"plotly_unhover\\\",(function (){return WebIO.setval({\\\"name\\\":\\\"hover\\\",\\\"scope\\\":\\\"580147906666029570\\\",\\\"id\\\":\\\"15995830071470905172\\\",\\\"type\\\":\\\"observable\\\"},{})})); gd.on(\\\"plotly_selected\\\",(function (data){var filtered_data=WebIO.PlotlyCommands.filterEventData(gd,data,\\\"selected\\\"); return !(filtered_data.isnil) ? (WebIO.setval({\\\"name\\\":\\\"selected\\\",\\\"scope\\\":\\\"580147906666029570\\\",\\\"id\\\":\\\"7792633243869580131\\\",\\\"type\\\":\\\"observable\\\"},filtered_data.out)) : undefined})); gd.on(\\\"plotly_deselect\\\",(function (){return WebIO.setval({\\\"name\\\":\\\"selected\\\",\\\"scope\\\":\\\"580147906666029570\\\",\\\"id\\\":\\\"7792633243869580131\\\",\\\"type\\\":\\\"observable\\\"},{})})); gd.on(\\\"plotly_relayout\\\",(function (data){var filtered_data=WebIO.PlotlyCommands.filterEventData(gd,data,\\\"relayout\\\"); return !(filtered_data.isnil) ? (WebIO.setval({\\\"name\\\":\\\"relayout\\\",\\\"scope\\\":\\\"580147906666029570\\\",\\\"id\\\":\\\"500362292565121310\\\",\\\"type\\\":\\\"observable\\\"},filtered_data.out)) : undefined})); return gd.on(\\\"plotly_click\\\",(function (data){var filtered_data=WebIO.PlotlyCommands.filterEventData(gd,data,\\\"click\\\"); return !(filtered_data.isnil) ? (WebIO.setval({\\\"name\\\":\\\"click\\\",\\\"scope\\\":\\\"580147906666029570\\\",\\\"id\\\":\\\"3936532771747911070\\\",\\\"type\\\":\\\"observable\\\"},filtered_data.out)) : undefined}))}));\\n    (WebIO.importBlock({\\\"data\\\":[{\\\"name\\\":\\\"Plotly\\\",\\\"type\\\":\\\"js\\\",\\\"url\\\":\\\"\\/assetserver\\/0920e676c106f32ba509e3957ec7f2e1975e6dda-plotly.min.js\\\"},{\\\"name\\\":null,\\\"type\\\":\\\"js\\\",\\\"url\\\":\\\"\\/assetserver\\/a5a7489247caefe55cf69adf7b5b90ef582ba49e-plotly_webio.bundle.js\\\"}],\\\"type\\\":\\\"async_block\\\"})).then((imports) => handler.apply(this, imports));\\n}\\n\"],\"observables\":{\"_toImage\":{\"sync\":false,\"id\":\"2403183086483730958\",\"value\":{}},\"hover\":{\"sync\":false,\"id\":\"15995830071470905172\",\"value\":{}},\"selected\":{\"sync\":false,\"id\":\"7792633243869580131\",\"value\":{}},\"__gd_contents\":{\"sync\":false,\"id\":\"5065516411947679369\",\"value\":{}},\"click\":{\"sync\":false,\"id\":\"3936532771747911070\",\"value\":{}},\"image\":{\"sync\":true,\"id\":\"10564084998131623950\",\"value\":\"\"},\"__get_gd_contents\":{\"sync\":false,\"id\":\"6614317510496387818\",\"value\":\"\"},\"_downloadImage\":{\"sync\":false,\"id\":\"8119225890101786619\",\"value\":{}},\"relayout\":{\"sync\":false,\"id\":\"500362292565121310\",\"value\":{}},\"_commands\":{\"sync\":false,\"id\":\"7657481547249677506\",\"value\":[]}}},\"children\":[{\"props\":{\"id\":\"plot-62e3904d-a285-4495-8445-9b8317fc8ff1\"},\"nodeType\":\"DOM\",\"type\":\"node\",\"instanceArgs\":{\"namespace\":\"html\",\"tag\":\"div\"},\"children\":[]}]},\n",
       "        window,\n",
       "    );\n",
       "    })()\n",
       "    </script>\n",
       "</div>\n"
      ],
      "text/plain": [
       "data: [\n",
       "  \"sankey with fields link, node, and type\"\n",
       "]\n",
       "\n",
       "layout: \"layout with fields margin and template\"\n",
       "\n"
      ]
     },
     "execution_count": 9,
     "metadata": {},
     "output_type": "execute_result"
    }
   ],
   "source": [
    "vivi_sankey(alk)"
   ]
  },
  {
   "cell_type": "markdown",
   "metadata": {},
   "source": [
    "#### Problem boundaries - inputs / outputs"
   ]
  },
  {
   "cell_type": "markdown",
   "metadata": {},
   "source": [
    "Our problem boundaries start with the wind power, since we are not modifying the turbine size, and ends with the hydrogen production from the electrolyzer. Since the electrolyzer may not be able to use all the wind power (due to the minimal load restriction), we also need to include a curtailment possibility to conservate the energy.\n",
    "\n",
    "        (power) ----> aec --> (h2)\n",
    "                |\n",
    "                --> (power)[cut]\n",
    "\n",
    "We define resources as previously, but including an array of amounts and values to capture the effect of variability of wind power. Since the wind power is produced locally, we can define its value as zero to simplify the objective function of the optimization:"
   ]
  },
  {
   "cell_type": "code",
   "execution_count": 10,
   "metadata": {},
   "outputs": [
    {
     "data": {
      "text/plain": [
       "Resource(\"power\", Real[0.423, 0.223, 0.221, 0.225, 0.22, 0.217, 0.217, 0.231, 0.226, 0.314  …  2.57, 2.05, 2.135, 3.929, 6.339, 5.936, 5.01, 8.088, 7.919, 8.668], \"MW\", Vector{Real}[[0, 0, 0, 0, 0, 0, 0, 0, 0, 0  …  0, 0, 0, 0, 0, 0, 0, 0, 0, 0]], Vector{Real}[])"
      ]
     },
     "execution_count": 10,
     "metadata": {},
     "output_type": "execute_result"
    }
   ],
   "source": [
    "hours = length(windPower)\n",
    "windIn = Resource(\"power\",windPower,\"MW\",[[0 for i=1:hours]])"
   ]
  },
  {
   "cell_type": "markdown",
   "metadata": {},
   "source": [
    "**OBS**: It is important to use the same type name in \"power\" for the boundaries and Techs. Otherwise the optimization will think that the resources are different.\n",
    "\n",
    "The same can be done for the hydrogen and curtailment (which is a type of \"power\"). The main difference is that we are going to set the value of H2 as \"1\" and curtailment as \"0\". This means that the curtailment does not add up to the net energy products, while the hydrogen does (by a factor of 1).\n",
    "\n",
    "Also notice that the amount set for H2 and curtailment are **Inf**, which tells the optimization that these values are free variables to be optimized."
   ]
  },
  {
   "cell_type": "code",
   "execution_count": 11,
   "metadata": {},
   "outputs": [
    {
     "data": {
      "text/plain": [
       "Resource(\"power\", Real[Inf, Inf, Inf, Inf, Inf, Inf, Inf, Inf, Inf, Inf  …  Inf, Inf, Inf, Inf, Inf, Inf, Inf, Inf, Inf, Inf], \"MW\", Vector{Real}[[0, 0, 0, 0, 0, 0, 0, 0, 0, 0  …  0, 0, 0, 0, 0, 0, 0, 0, 0, 0]], Vector{Real}[])"
      ]
     },
     "execution_count": 11,
     "metadata": {},
     "output_type": "execute_result"
    }
   ],
   "source": [
    "# Hydrogen\n",
    "h2 = Resource(\"h2\",[Inf for i=1:hours],\"MW\",[[1 for i=1:hours]])\n",
    "\n",
    "# Curtailment\n",
    "cut = Resource(\"power\",[Inf for i=1:hours],\"MW\",[[0 for i=1:hours]])\n"
   ]
  },
  {
   "cell_type": "markdown",
   "metadata": {},
   "source": [
    "#### Problem struct and solving"
   ]
  },
  {
   "cell_type": "markdown",
   "metadata": {},
   "source": [
    "Now we just need to input these informations as a problem to be solved by **vivi**\n",
    "\n",
    "        Problem(inputs,processes,outputs,utilities,storage)\n",
    "\n",
    "* inputs: the resources that are allowed/required to by imported by the system.\n",
    "* processes: the Techs that are included in the problem\n",
    "* outputs: the resources that are allowed/required to by exported by the system.\n",
    "* utilities: also Techs that are included in the problem, but only auxiliates the processes by delivering important resources (i.e., heat, steam, cooling)\n",
    "* storage: the Storage possibilities included in the problem."
   ]
  },
  {
   "cell_type": "code",
   "execution_count": 12,
   "metadata": {},
   "outputs": [
    {
     "data": {
      "text/plain": [
       "Problem(Any[Resource(\"power\", Real[0.423, 0.223, 0.221, 0.225, 0.22, 0.217, 0.217, 0.231, 0.226, 0.314  …  2.57, 2.05, 2.135, 3.929, 6.339, 5.936, 5.01, 8.088, 7.919, 8.668], \"MW\", Vector{Real}[[0, 0, 0, 0, 0, 0, 0, 0, 0, 0  …  0, 0, 0, 0, 0, 0, 0, 0, 0, 0]], Vector{Real}[])], Any[Tech(\"ALK\", Any[Resource(\"power\", Real[10], \"MW\", Vector{Real}[[1]], Vector{Real}[])], Any[Resource(\"h2\", Real[6.6865], \"MW\", Vector{Real}[[1]], Vector{Real}[])], HeatStruct[], Real[1, 1], [[[0.0, 0.0], [1000.0, 0.0]]], Real[0.15, 1.0, 1.0], Real[-1, 1], Real[1])], Any[Resource(\"h2\", Real[Inf, Inf, Inf, Inf, Inf, Inf, Inf, Inf, Inf, Inf  …  Inf, Inf, Inf, Inf, Inf, Inf, Inf, Inf, Inf, Inf], \"MW\", Vector{Real}[[1, 1, 1, 1, 1, 1, 1, 1, 1, 1  …  1, 1, 1, 1, 1, 1, 1, 1, 1, 1]], Vector{Real}[]), Resource(\"power\", Real[Inf, Inf, Inf, Inf, Inf, Inf, Inf, Inf, Inf, Inf  …  Inf, Inf, Inf, Inf, Inf, Inf, Inf, Inf, Inf, Inf], \"MW\", Vector{Real}[[0, 0, 0, 0, 0, 0, 0, 0, 0, 0  …  0, 0, 0, 0, 0, 0, 0, 0, 0, 0]], Vector{Real}[])], Any[], Any[])"
      ]
     },
     "execution_count": 12,
     "metadata": {},
     "output_type": "execute_result"
    }
   ],
   "source": [
    "inputs = [windIn]\n",
    "processes = [alk]\n",
    "utilities = []\n",
    "outputs = [h2,cut]\n",
    "storage = []\n",
    "problem = Problem(inputs,processes,outputs,utilities,storage)"
   ]
  },
  {
   "cell_type": "markdown",
   "metadata": {},
   "source": [
    "Our problem is rather simple, is just a Tech that connects to different types of resources, as shown in the graph below:"
   ]
  },
  {
   "cell_type": "code",
   "execution_count": 13,
   "metadata": {},
   "outputs": [
    {
     "data": {
      "application/vnd.plotly.v1+json": {
       "config": {
        "editable": false,
        "responsive": true,
        "scrollZoom": true,
        "showLink": false,
        "staticPlot": false
       },
       "data": [
        {
         "line": {
          "color": "#888",
          "width": 0.5
         },
         "mode": "lines",
         "type": "scatter",
         "x": [
          0.002374169738373233,
          1,
          null,
          -1,
          0.002374169738373233,
          null
         ],
         "y": [
          -0.002374169738373455,
          -1,
          null,
          1,
          -0.002374169738373455,
          null
         ]
        },
        {
         "marker": {
          "color": "red",
          "size": 10,
          "symbol": "square"
         },
         "mode": "markers+text",
         "name": "Process",
         "text": [
          "ALK"
         ],
         "type": "scatter",
         "x": [
          0.002374169738373233
         ],
         "y": [
          -0.002374169738373455
         ]
        },
        {
         "marker": {
          "color": "yellow",
          "size": 10,
          "symbol": "diamond"
         },
         "mode": "markers+text",
         "name": "Storage",
         "text": [],
         "type": "scatter",
         "x": [],
         "y": []
        },
        {
         "marker": {
          "color": "#90EE90",
          "size": 10,
          "symbol": "circle"
         },
         "mode": "markers+text",
         "name": "Resource",
         "text": [
          "h2",
          "power"
         ],
         "type": "scatter",
         "x": [
          1,
          -1
         ],
         "y": [
          -1,
          1
         ]
        }
       ],
       "frames": [],
       "layout": {
        "hovermode": "closest",
        "margin": {
         "b": 50,
         "l": 50,
         "r": 50,
         "t": 60
        },
        "showarrow": false,
        "showlegend": false,
        "template": {
         "data": {
          "bar": [
           {
            "error_x": {
             "color": "#2a3f5f"
            },
            "error_y": {
             "color": "#2a3f5f"
            },
            "marker": {
             "line": {
              "color": "#E5ECF6",
              "width": 0.5
             }
            },
            "type": "bar"
           }
          ],
          "barpolar": [
           {
            "marker": {
             "line": {
              "color": "#E5ECF6",
              "width": 0.5
             }
            },
            "type": "barpolar"
           }
          ],
          "carpet": [
           {
            "aaxis": {
             "endlinecolor": "#2a3f5f",
             "gridcolor": "white",
             "linecolor": "white",
             "minorgridcolor": "white",
             "startlinecolor": "#2a3f5f"
            },
            "baxis": {
             "endlinecolor": "#2a3f5f",
             "gridcolor": "white",
             "linecolor": "white",
             "minorgridcolor": "white",
             "startlinecolor": "#2a3f5f"
            },
            "type": "carpet"
           }
          ],
          "choropleth": [
           {
            "colorbar": {
             "outlinewidth": 0,
             "ticks": ""
            },
            "type": "choropleth"
           }
          ],
          "contour": [
           {
            "colorbar": {
             "outlinewidth": 0,
             "ticks": ""
            },
            "colorscale": [
             [
              0,
              "#0d0887"
             ],
             [
              0.1111111111111111,
              "#46039f"
             ],
             [
              0.2222222222222222,
              "#7201a8"
             ],
             [
              0.3333333333333333,
              "#9c179e"
             ],
             [
              0.4444444444444444,
              "#bd3786"
             ],
             [
              0.5555555555555556,
              "#d8576b"
             ],
             [
              0.6666666666666666,
              "#ed7953"
             ],
             [
              0.7777777777777778,
              "#fb9f3a"
             ],
             [
              0.8888888888888888,
              "#fdca26"
             ],
             [
              1,
              "#f0f921"
             ]
            ],
            "type": "contour"
           }
          ],
          "contourcarpet": [
           {
            "colorbar": {
             "outlinewidth": 0,
             "ticks": ""
            },
            "type": "contourcarpet"
           }
          ],
          "heatmap": [
           {
            "colorbar": {
             "outlinewidth": 0,
             "ticks": ""
            },
            "colorscale": [
             [
              0,
              "#0d0887"
             ],
             [
              0.1111111111111111,
              "#46039f"
             ],
             [
              0.2222222222222222,
              "#7201a8"
             ],
             [
              0.3333333333333333,
              "#9c179e"
             ],
             [
              0.4444444444444444,
              "#bd3786"
             ],
             [
              0.5555555555555556,
              "#d8576b"
             ],
             [
              0.6666666666666666,
              "#ed7953"
             ],
             [
              0.7777777777777778,
              "#fb9f3a"
             ],
             [
              0.8888888888888888,
              "#fdca26"
             ],
             [
              1,
              "#f0f921"
             ]
            ],
            "type": "heatmap"
           }
          ],
          "heatmapgl": [
           {
            "colorbar": {
             "outlinewidth": 0,
             "ticks": ""
            },
            "colorscale": [
             [
              0,
              "#0d0887"
             ],
             [
              0.1111111111111111,
              "#46039f"
             ],
             [
              0.2222222222222222,
              "#7201a8"
             ],
             [
              0.3333333333333333,
              "#9c179e"
             ],
             [
              0.4444444444444444,
              "#bd3786"
             ],
             [
              0.5555555555555556,
              "#d8576b"
             ],
             [
              0.6666666666666666,
              "#ed7953"
             ],
             [
              0.7777777777777778,
              "#fb9f3a"
             ],
             [
              0.8888888888888888,
              "#fdca26"
             ],
             [
              1,
              "#f0f921"
             ]
            ],
            "type": "heatmapgl"
           }
          ],
          "histogram": [
           {
            "marker": {
             "colorbar": {
              "outlinewidth": 0,
              "ticks": ""
             }
            },
            "type": "histogram"
           }
          ],
          "histogram2d": [
           {
            "colorbar": {
             "outlinewidth": 0,
             "ticks": ""
            },
            "colorscale": [
             [
              0,
              "#0d0887"
             ],
             [
              0.1111111111111111,
              "#46039f"
             ],
             [
              0.2222222222222222,
              "#7201a8"
             ],
             [
              0.3333333333333333,
              "#9c179e"
             ],
             [
              0.4444444444444444,
              "#bd3786"
             ],
             [
              0.5555555555555556,
              "#d8576b"
             ],
             [
              0.6666666666666666,
              "#ed7953"
             ],
             [
              0.7777777777777778,
              "#fb9f3a"
             ],
             [
              0.8888888888888888,
              "#fdca26"
             ],
             [
              1,
              "#f0f921"
             ]
            ],
            "type": "histogram2d"
           }
          ],
          "histogram2dcontour": [
           {
            "colorbar": {
             "outlinewidth": 0,
             "ticks": ""
            },
            "colorscale": [
             [
              0,
              "#0d0887"
             ],
             [
              0.1111111111111111,
              "#46039f"
             ],
             [
              0.2222222222222222,
              "#7201a8"
             ],
             [
              0.3333333333333333,
              "#9c179e"
             ],
             [
              0.4444444444444444,
              "#bd3786"
             ],
             [
              0.5555555555555556,
              "#d8576b"
             ],
             [
              0.6666666666666666,
              "#ed7953"
             ],
             [
              0.7777777777777778,
              "#fb9f3a"
             ],
             [
              0.8888888888888888,
              "#fdca26"
             ],
             [
              1,
              "#f0f921"
             ]
            ],
            "type": "histogram2dcontour"
           }
          ],
          "mesh3d": [
           {
            "colorbar": {
             "outlinewidth": 0,
             "ticks": ""
            },
            "type": "mesh3d"
           }
          ],
          "parcoords": [
           {
            "line": {
             "colorbar": {
              "outlinewidth": 0,
              "ticks": ""
             }
            },
            "type": "parcoords"
           }
          ],
          "pie": [
           {
            "automargin": true,
            "type": "pie"
           }
          ],
          "scatter": [
           {
            "marker": {
             "colorbar": {
              "outlinewidth": 0,
              "ticks": ""
             }
            },
            "type": "scatter"
           }
          ],
          "scatter3d": [
           {
            "line": {
             "colorbar": {
              "outlinewidth": 0,
              "ticks": ""
             }
            },
            "marker": {
             "colorbar": {
              "outlinewidth": 0,
              "ticks": ""
             }
            },
            "type": "scatter3d"
           }
          ],
          "scattercarpet": [
           {
            "marker": {
             "colorbar": {
              "outlinewidth": 0,
              "ticks": ""
             }
            },
            "type": "scattercarpet"
           }
          ],
          "scattergeo": [
           {
            "marker": {
             "colorbar": {
              "outlinewidth": 0,
              "ticks": ""
             }
            },
            "type": "scattergeo"
           }
          ],
          "scattergl": [
           {
            "marker": {
             "colorbar": {
              "outlinewidth": 0,
              "ticks": ""
             }
            },
            "type": "scattergl"
           }
          ],
          "scattermapbox": [
           {
            "marker": {
             "colorbar": {
              "outlinewidth": 0,
              "ticks": ""
             }
            },
            "type": "scattermapbox"
           }
          ],
          "scatterpolar": [
           {
            "marker": {
             "colorbar": {
              "outlinewidth": 0,
              "ticks": ""
             }
            },
            "type": "scatterpolar"
           }
          ],
          "scatterpolargl": [
           {
            "marker": {
             "colorbar": {
              "outlinewidth": 0,
              "ticks": ""
             }
            },
            "type": "scatterpolargl"
           }
          ],
          "scatterternary": [
           {
            "marker": {
             "colorbar": {
              "outlinewidth": 0,
              "ticks": ""
             }
            },
            "type": "scatterternary"
           }
          ],
          "surface": [
           {
            "colorbar": {
             "outlinewidth": 0,
             "ticks": ""
            },
            "colorscale": [
             [
              0,
              "#0d0887"
             ],
             [
              0.1111111111111111,
              "#46039f"
             ],
             [
              0.2222222222222222,
              "#7201a8"
             ],
             [
              0.3333333333333333,
              "#9c179e"
             ],
             [
              0.4444444444444444,
              "#bd3786"
             ],
             [
              0.5555555555555556,
              "#d8576b"
             ],
             [
              0.6666666666666666,
              "#ed7953"
             ],
             [
              0.7777777777777778,
              "#fb9f3a"
             ],
             [
              0.8888888888888888,
              "#fdca26"
             ],
             [
              1,
              "#f0f921"
             ]
            ],
            "type": "surface"
           }
          ],
          "table": [
           {
            "cells": {
             "fill": {
              "color": "#EBF0F8"
             },
             "line": {
              "color": "white"
             }
            },
            "header": {
             "fill": {
              "color": "#C8D4E3"
             },
             "line": {
              "color": "white"
             }
            },
            "type": "table"
           }
          ]
         },
         "layout": {
          "annotationdefaults": {
           "arrowcolor": "#2a3f5f",
           "arrowhead": 0,
           "arrowwidth": 1
          },
          "autotypenumbers": "strict",
          "coloraxis": {
           "colorbar": {
            "outlinewidth": 0,
            "ticks": ""
           }
          },
          "colorscale": {
           "diverging": [
            [
             0,
             "#8e0152"
            ],
            [
             0.1,
             "#c51b7d"
            ],
            [
             0.2,
             "#de77ae"
            ],
            [
             0.3,
             "#f1b6da"
            ],
            [
             0.4,
             "#fde0ef"
            ],
            [
             0.5,
             "#f7f7f7"
            ],
            [
             0.6,
             "#e6f5d0"
            ],
            [
             0.7,
             "#b8e186"
            ],
            [
             0.8,
             "#7fbc41"
            ],
            [
             0.9,
             "#4d9221"
            ],
            [
             1,
             "#276419"
            ]
           ],
           "sequential": [
            [
             0,
             "#0d0887"
            ],
            [
             0.1111111111111111,
             "#46039f"
            ],
            [
             0.2222222222222222,
             "#7201a8"
            ],
            [
             0.3333333333333333,
             "#9c179e"
            ],
            [
             0.4444444444444444,
             "#bd3786"
            ],
            [
             0.5555555555555556,
             "#d8576b"
            ],
            [
             0.6666666666666666,
             "#ed7953"
            ],
            [
             0.7777777777777778,
             "#fb9f3a"
            ],
            [
             0.8888888888888888,
             "#fdca26"
            ],
            [
             1,
             "#f0f921"
            ]
           ],
           "sequentialminus": [
            [
             0,
             "#0d0887"
            ],
            [
             0.1111111111111111,
             "#46039f"
            ],
            [
             0.2222222222222222,
             "#7201a8"
            ],
            [
             0.3333333333333333,
             "#9c179e"
            ],
            [
             0.4444444444444444,
             "#bd3786"
            ],
            [
             0.5555555555555556,
             "#d8576b"
            ],
            [
             0.6666666666666666,
             "#ed7953"
            ],
            [
             0.7777777777777778,
             "#fb9f3a"
            ],
            [
             0.8888888888888888,
             "#fdca26"
            ],
            [
             1,
             "#f0f921"
            ]
           ]
          },
          "colorway": [
           "#636efa",
           "#EF553B",
           "#00cc96",
           "#ab63fa",
           "#FFA15A",
           "#19d3f3",
           "#FF6692",
           "#B6E880",
           "#FF97FF",
           "#FECB52"
          ],
          "font": {
           "color": "#2a3f5f"
          },
          "geo": {
           "bgcolor": "white",
           "lakecolor": "white",
           "landcolor": "#E5ECF6",
           "showlakes": true,
           "showland": true,
           "subunitcolor": "white"
          },
          "hoverlabel": {
           "align": "left"
          },
          "hovermode": "closest",
          "mapbox": {
           "style": "light"
          },
          "paper_bgcolor": "white",
          "plot_bgcolor": "#E5ECF6",
          "polar": {
           "angularaxis": {
            "gridcolor": "white",
            "linecolor": "white",
            "ticks": ""
           },
           "bgcolor": "#E5ECF6",
           "radialaxis": {
            "gridcolor": "white",
            "linecolor": "white",
            "ticks": ""
           }
          },
          "scene": {
           "xaxis": {
            "backgroundcolor": "#E5ECF6",
            "gridcolor": "white",
            "gridwidth": 2,
            "linecolor": "white",
            "showbackground": true,
            "ticks": "",
            "zerolinecolor": "white"
           },
           "yaxis": {
            "backgroundcolor": "#E5ECF6",
            "gridcolor": "white",
            "gridwidth": 2,
            "linecolor": "white",
            "showbackground": true,
            "ticks": "",
            "zerolinecolor": "white"
           },
           "zaxis": {
            "backgroundcolor": "#E5ECF6",
            "gridcolor": "white",
            "gridwidth": 2,
            "linecolor": "white",
            "showbackground": true,
            "ticks": "",
            "zerolinecolor": "white"
           }
          },
          "shapedefaults": {
           "line": {
            "color": "#2a3f5f"
           }
          },
          "ternary": {
           "aaxis": {
            "gridcolor": "white",
            "linecolor": "white",
            "ticks": ""
           },
           "baxis": {
            "gridcolor": "white",
            "linecolor": "white",
            "ticks": ""
           },
           "bgcolor": "#E5ECF6",
           "caxis": {
            "gridcolor": "white",
            "linecolor": "white",
            "ticks": ""
           }
          },
          "title": {
           "x": 0.05
          },
          "xaxis": {
           "automargin": true,
           "gridcolor": "white",
           "linecolor": "white",
           "ticks": "",
           "title": {
            "standoff": 15
           },
           "zerolinecolor": "white",
           "zerolinewidth": 2
          },
          "yaxis": {
           "automargin": true,
           "gridcolor": "white",
           "linecolor": "white",
           "ticks": "",
           "title": {
            "standoff": 15
           },
           "zerolinecolor": "white",
           "zerolinewidth": 2
          }
         }
        },
        "titlefont": {
         "size": 16
        },
        "xaxis": {
         "showgrid": false,
         "showticklabels": false,
         "zeroline": false
        },
        "yaxis": {
         "showgrid": false,
         "showticklabels": false,
         "zeroline": false
        }
       }
      },
      "text/html": [
       "<div\n",
       "    class=\"webio-mountpoint\"\n",
       "    data-webio-mountpoint=\"8538669503665338702\"\n",
       ">\n",
       "    <script>\n",
       "    (function(){\n",
       "    // Some integrations (namely, IJulia/Jupyter) use an alternate render pathway than\n",
       "    // just putting the html on the page. If WebIO isn't defined, then it's pretty likely\n",
       "    // that we're in one of those situations and the integration just isn't installed\n",
       "    // correctly.\n",
       "    if (typeof window.WebIO === \"undefined\") {\n",
       "        document\n",
       "            .querySelector('[data-webio-mountpoint=\"8538669503665338702\"]')\n",
       "            .innerHTML = (\n",
       "                '<div style=\"padding: 1em; background-color: #f8d6da; border: 1px solid #f5c6cb; font-weight: bold;\">' +\n",
       "                '<p><strong>WebIO not detected.</strong></p>' +\n",
       "                '<p>Please read ' +\n",
       "                '<a href=\"https://juliagizmos.github.io/WebIO.jl/latest/troubleshooting/not-detected/\" target=\"_blank\">the troubleshooting guide</a> ' +\n",
       "                'for more information on how to resolve this issue.</p>' +\n",
       "                '<p><a href=\"https://juliagizmos.github.io/WebIO.jl/latest/troubleshooting/not-detected/\" target=\"_blank\">https://juliagizmos.github.io/WebIO.jl/latest/troubleshooting/not-detected/</a></p>' +\n",
       "                '</div>'\n",
       "            );\n",
       "        return;\n",
       "    }\n",
       "    WebIO.mount(\n",
       "        document.querySelector('[data-webio-mountpoint=\"8538669503665338702\"]'),\n",
       "        {\"props\":{},\"nodeType\":\"Scope\",\"type\":\"node\",\"instanceArgs\":{\"imports\":{\"data\":[{\"name\":\"Plotly\",\"type\":\"js\",\"url\":\"\\/assetserver\\/0920e676c106f32ba509e3957ec7f2e1975e6dda-plotly.min.js\"},{\"name\":null,\"type\":\"js\",\"url\":\"\\/assetserver\\/a5a7489247caefe55cf69adf7b5b90ef582ba49e-plotly_webio.bundle.js\"}],\"type\":\"async_block\"},\"id\":\"12693935989549543284\",\"handlers\":{\"_toImage\":[\"(function (options){return this.Plotly.toImage(this.plotElem,options).then((function (data){return WebIO.setval({\\\"name\\\":\\\"image\\\",\\\"scope\\\":\\\"12693935989549543284\\\",\\\"id\\\":\\\"12033937380057671934\\\",\\\"type\\\":\\\"observable\\\"},data)}))})\"],\"__get_gd_contents\":[\"(function (prop){prop==\\\"data\\\" ? (WebIO.setval({\\\"name\\\":\\\"__gd_contents\\\",\\\"scope\\\":\\\"12693935989549543284\\\",\\\"id\\\":\\\"1935335513499566731\\\",\\\"type\\\":\\\"observable\\\"},this.plotElem.data)) : undefined; return prop==\\\"layout\\\" ? (WebIO.setval({\\\"name\\\":\\\"__gd_contents\\\",\\\"scope\\\":\\\"12693935989549543284\\\",\\\"id\\\":\\\"1935335513499566731\\\",\\\"type\\\":\\\"observable\\\"},this.plotElem.layout)) : undefined})\"],\"_downloadImage\":[\"(function (options){return this.Plotly.downloadImage(this.plotElem,options)})\"],\"_commands\":[\"(function (args){var fn=args.shift(); var elem=this.plotElem; var Plotly=this.Plotly; args.unshift(elem); return Plotly[fn].apply(this,args)})\"]},\"systemjs_options\":null,\"mount_callbacks\":[\"function () {\\n    var handler = ((function (Plotly,PlotlyWebIO){PlotlyWebIO.init(WebIO); var gd=this.dom.querySelector(\\\"#plot-ee631294-4533-42e2-b1a5-cb810913c992\\\"); this.plotElem=gd; this.Plotly=Plotly; (window.Blink!==undefined) ? (gd.style.width=\\\"100%\\\", gd.style.height=\\\"100vh\\\", gd.style.marginLeft=\\\"0%\\\", gd.style.marginTop=\\\"0vh\\\") : undefined; window.onresize=(function (){return Plotly.Plots.resize(gd)}); Plotly.newPlot(gd,[{\\\"mode\\\":\\\"lines\\\",\\\"line\\\":{\\\"color\\\":\\\"#888\\\",\\\"width\\\":0.5},\\\"y\\\":[-0.002374169738373455,-1.0,null,1.0,-0.002374169738373455,null],\\\"type\\\":\\\"scatter\\\",\\\"x\\\":[0.002374169738373233,1.0,null,-1.0,0.002374169738373233,null]},{\\\"x\\\":[0.002374169738373233],\\\"mode\\\":\\\"markers+text\\\",\\\"y\\\":[-0.002374169738373455],\\\"type\\\":\\\"scatter\\\",\\\"name\\\":\\\"Process\\\",\\\"text\\\":[\\\"ALK\\\"],\\\"marker\\\":{\\\"symbol\\\":\\\"square\\\",\\\"color\\\":\\\"red\\\",\\\"size\\\":10}},{\\\"x\\\":[],\\\"mode\\\":\\\"markers+text\\\",\\\"y\\\":[],\\\"type\\\":\\\"scatter\\\",\\\"name\\\":\\\"Storage\\\",\\\"text\\\":[],\\\"marker\\\":{\\\"symbol\\\":\\\"diamond\\\",\\\"color\\\":\\\"yellow\\\",\\\"size\\\":10}},{\\\"x\\\":[1.0,-1.0],\\\"mode\\\":\\\"markers+text\\\",\\\"y\\\":[-1.0,1.0],\\\"type\\\":\\\"scatter\\\",\\\"name\\\":\\\"Resource\\\",\\\"text\\\":[\\\"h2\\\",\\\"power\\\"],\\\"marker\\\":{\\\"symbol\\\":\\\"circle\\\",\\\"color\\\":\\\"#90EE90\\\",\\\"size\\\":10}}],{\\\"showlegend\\\":false,\\\"xaxis\\\":{\\\"showgrid\\\":false,\\\"showticklabels\\\":false,\\\"zeroline\\\":false},\\\"hovermode\\\":\\\"closest\\\",\\\"titlefont\\\":{\\\"size\\\":16},\\\"template\\\":{\\\"layout\\\":{\\\"coloraxis\\\":{\\\"colorbar\\\":{\\\"ticks\\\":\\\"\\\",\\\"outlinewidth\\\":0}},\\\"xaxis\\\":{\\\"gridcolor\\\":\\\"white\\\",\\\"zerolinewidth\\\":2,\\\"title\\\":{\\\"standoff\\\":15},\\\"ticks\\\":\\\"\\\",\\\"zerolinecolor\\\":\\\"white\\\",\\\"automargin\\\":true,\\\"linecolor\\\":\\\"white\\\"},\\\"hovermode\\\":\\\"closest\\\",\\\"paper_bgcolor\\\":\\\"white\\\",\\\"geo\\\":{\\\"showlakes\\\":true,\\\"showland\\\":true,\\\"landcolor\\\":\\\"#E5ECF6\\\",\\\"bgcolor\\\":\\\"white\\\",\\\"subunitcolor\\\":\\\"white\\\",\\\"lakecolor\\\":\\\"white\\\"},\\\"colorscale\\\":{\\\"sequential\\\":[[0.0,\\\"#0d0887\\\"],[0.1111111111111111,\\\"#46039f\\\"],[0.2222222222222222,\\\"#7201a8\\\"],[0.3333333333333333,\\\"#9c179e\\\"],[0.4444444444444444,\\\"#bd3786\\\"],[0.5555555555555556,\\\"#d8576b\\\"],[0.6666666666666666,\\\"#ed7953\\\"],[0.7777777777777778,\\\"#fb9f3a\\\"],[0.8888888888888888,\\\"#fdca26\\\"],[1.0,\\\"#f0f921\\\"]],\\\"diverging\\\":[[0,\\\"#8e0152\\\"],[0.1,\\\"#c51b7d\\\"],[0.2,\\\"#de77ae\\\"],[0.3,\\\"#f1b6da\\\"],[0.4,\\\"#fde0ef\\\"],[0.5,\\\"#f7f7f7\\\"],[0.6,\\\"#e6f5d0\\\"],[0.7,\\\"#b8e186\\\"],[0.8,\\\"#7fbc41\\\"],[0.9,\\\"#4d9221\\\"],[1,\\\"#276419\\\"]],\\\"sequentialminus\\\":[[0.0,\\\"#0d0887\\\"],[0.1111111111111111,\\\"#46039f\\\"],[0.2222222222222222,\\\"#7201a8\\\"],[0.3333333333333333,\\\"#9c179e\\\"],[0.4444444444444444,\\\"#bd3786\\\"],[0.5555555555555556,\\\"#d8576b\\\"],[0.6666666666666666,\\\"#ed7953\\\"],[0.7777777777777778,\\\"#fb9f3a\\\"],[0.8888888888888888,\\\"#fdca26\\\"],[1.0,\\\"#f0f921\\\"]]},\\\"yaxis\\\":{\\\"gridcolor\\\":\\\"white\\\",\\\"zerolinewidth\\\":2,\\\"title\\\":{\\\"standoff\\\":15},\\\"ticks\\\":\\\"\\\",\\\"zerolinecolor\\\":\\\"white\\\",\\\"automargin\\\":true,\\\"linecolor\\\":\\\"white\\\"},\\\"shapedefaults\\\":{\\\"line\\\":{\\\"color\\\":\\\"#2a3f5f\\\"}},\\\"hoverlabel\\\":{\\\"align\\\":\\\"left\\\"},\\\"mapbox\\\":{\\\"style\\\":\\\"light\\\"},\\\"polar\\\":{\\\"angularaxis\\\":{\\\"gridcolor\\\":\\\"white\\\",\\\"ticks\\\":\\\"\\\",\\\"linecolor\\\":\\\"white\\\"},\\\"bgcolor\\\":\\\"#E5ECF6\\\",\\\"radialaxis\\\":{\\\"gridcolor\\\":\\\"white\\\",\\\"ticks\\\":\\\"\\\",\\\"linecolor\\\":\\\"white\\\"}},\\\"autotypenumbers\\\":\\\"strict\\\",\\\"font\\\":{\\\"color\\\":\\\"#2a3f5f\\\"},\\\"ternary\\\":{\\\"baxis\\\":{\\\"gridcolor\\\":\\\"white\\\",\\\"ticks\\\":\\\"\\\",\\\"linecolor\\\":\\\"white\\\"},\\\"bgcolor\\\":\\\"#E5ECF6\\\",\\\"caxis\\\":{\\\"gridcolor\\\":\\\"white\\\",\\\"ticks\\\":\\\"\\\",\\\"linecolor\\\":\\\"white\\\"},\\\"aaxis\\\":{\\\"gridcolor\\\":\\\"white\\\",\\\"ticks\\\":\\\"\\\",\\\"linecolor\\\":\\\"white\\\"}},\\\"annotationdefaults\\\":{\\\"arrowhead\\\":0,\\\"arrowwidth\\\":1,\\\"arrowcolor\\\":\\\"#2a3f5f\\\"},\\\"plot_bgcolor\\\":\\\"#E5ECF6\\\",\\\"title\\\":{\\\"x\\\":0.05},\\\"scene\\\":{\\\"xaxis\\\":{\\\"gridcolor\\\":\\\"white\\\",\\\"gridwidth\\\":2,\\\"backgroundcolor\\\":\\\"#E5ECF6\\\",\\\"ticks\\\":\\\"\\\",\\\"showbackground\\\":true,\\\"zerolinecolor\\\":\\\"white\\\",\\\"linecolor\\\":\\\"white\\\"},\\\"zaxis\\\":{\\\"gridcolor\\\":\\\"white\\\",\\\"gridwidth\\\":2,\\\"backgroundcolor\\\":\\\"#E5ECF6\\\",\\\"ticks\\\":\\\"\\\",\\\"showbackground\\\":true,\\\"zerolinecolor\\\":\\\"white\\\",\\\"linecolor\\\":\\\"white\\\"},\\\"yaxis\\\":{\\\"gridcolor\\\":\\\"white\\\",\\\"gridwidth\\\":2,\\\"backgroundcolor\\\":\\\"#E5ECF6\\\",\\\"ticks\\\":\\\"\\\",\\\"showbackground\\\":true,\\\"zerolinecolor\\\":\\\"white\\\",\\\"linecolor\\\":\\\"white\\\"}},\\\"colorway\\\":[\\\"#636efa\\\",\\\"#EF553B\\\",\\\"#00cc96\\\",\\\"#ab63fa\\\",\\\"#FFA15A\\\",\\\"#19d3f3\\\",\\\"#FF6692\\\",\\\"#B6E880\\\",\\\"#FF97FF\\\",\\\"#FECB52\\\"]},\\\"data\\\":{\\\"barpolar\\\":[{\\\"type\\\":\\\"barpolar\\\",\\\"marker\\\":{\\\"line\\\":{\\\"color\\\":\\\"#E5ECF6\\\",\\\"width\\\":0.5}}}],\\\"carpet\\\":[{\\\"aaxis\\\":{\\\"gridcolor\\\":\\\"white\\\",\\\"endlinecolor\\\":\\\"#2a3f5f\\\",\\\"minorgridcolor\\\":\\\"white\\\",\\\"startlinecolor\\\":\\\"#2a3f5f\\\",\\\"linecolor\\\":\\\"white\\\"},\\\"type\\\":\\\"carpet\\\",\\\"baxis\\\":{\\\"gridcolor\\\":\\\"white\\\",\\\"endlinecolor\\\":\\\"#2a3f5f\\\",\\\"minorgridcolor\\\":\\\"white\\\",\\\"startlinecolor\\\":\\\"#2a3f5f\\\",\\\"linecolor\\\":\\\"white\\\"}}],\\\"scatterpolar\\\":[{\\\"type\\\":\\\"scatterpolar\\\",\\\"marker\\\":{\\\"colorbar\\\":{\\\"ticks\\\":\\\"\\\",\\\"outlinewidth\\\":0}}}],\\\"parcoords\\\":[{\\\"line\\\":{\\\"colorbar\\\":{\\\"ticks\\\":\\\"\\\",\\\"outlinewidth\\\":0}},\\\"type\\\":\\\"parcoords\\\"}],\\\"scatter\\\":[{\\\"type\\\":\\\"scatter\\\",\\\"marker\\\":{\\\"colorbar\\\":{\\\"ticks\\\":\\\"\\\",\\\"outlinewidth\\\":0}}}],\\\"histogram2dcontour\\\":[{\\\"colorbar\\\":{\\\"ticks\\\":\\\"\\\",\\\"outlinewidth\\\":0},\\\"type\\\":\\\"histogram2dcontour\\\",\\\"colorscale\\\":[[0.0,\\\"#0d0887\\\"],[0.1111111111111111,\\\"#46039f\\\"],[0.2222222222222222,\\\"#7201a8\\\"],[0.3333333333333333,\\\"#9c179e\\\"],[0.4444444444444444,\\\"#bd3786\\\"],[0.5555555555555556,\\\"#d8576b\\\"],[0.6666666666666666,\\\"#ed7953\\\"],[0.7777777777777778,\\\"#fb9f3a\\\"],[0.8888888888888888,\\\"#fdca26\\\"],[1.0,\\\"#f0f921\\\"]]}],\\\"contour\\\":[{\\\"colorbar\\\":{\\\"ticks\\\":\\\"\\\",\\\"outlinewidth\\\":0},\\\"type\\\":\\\"contour\\\",\\\"colorscale\\\":[[0.0,\\\"#0d0887\\\"],[0.1111111111111111,\\\"#46039f\\\"],[0.2222222222222222,\\\"#7201a8\\\"],[0.3333333333333333,\\\"#9c179e\\\"],[0.4444444444444444,\\\"#bd3786\\\"],[0.5555555555555556,\\\"#d8576b\\\"],[0.6666666666666666,\\\"#ed7953\\\"],[0.7777777777777778,\\\"#fb9f3a\\\"],[0.8888888888888888,\\\"#fdca26\\\"],[1.0,\\\"#f0f921\\\"]]}],\\\"scattercarpet\\\":[{\\\"type\\\":\\\"scattercarpet\\\",\\\"marker\\\":{\\\"colorbar\\\":{\\\"ticks\\\":\\\"\\\",\\\"outlinewidth\\\":0}}}],\\\"mesh3d\\\":[{\\\"colorbar\\\":{\\\"ticks\\\":\\\"\\\",\\\"outlinewidth\\\":0},\\\"type\\\":\\\"mesh3d\\\"}],\\\"surface\\\":[{\\\"colorbar\\\":{\\\"ticks\\\":\\\"\\\",\\\"outlinewidth\\\":0},\\\"type\\\":\\\"surface\\\",\\\"colorscale\\\":[[0.0,\\\"#0d0887\\\"],[0.1111111111111111,\\\"#46039f\\\"],[0.2222222222222222,\\\"#7201a8\\\"],[0.3333333333333333,\\\"#9c179e\\\"],[0.4444444444444444,\\\"#bd3786\\\"],[0.5555555555555556,\\\"#d8576b\\\"],[0.6666666666666666,\\\"#ed7953\\\"],[0.7777777777777778,\\\"#fb9f3a\\\"],[0.8888888888888888,\\\"#fdca26\\\"],[1.0,\\\"#f0f921\\\"]]}],\\\"scattermapbox\\\":[{\\\"type\\\":\\\"scattermapbox\\\",\\\"marker\\\":{\\\"colorbar\\\":{\\\"ticks\\\":\\\"\\\",\\\"outlinewidth\\\":0}}}],\\\"scattergeo\\\":[{\\\"type\\\":\\\"scattergeo\\\",\\\"marker\\\":{\\\"colorbar\\\":{\\\"ticks\\\":\\\"\\\",\\\"outlinewidth\\\":0}}}],\\\"histogram\\\":[{\\\"type\\\":\\\"histogram\\\",\\\"marker\\\":{\\\"colorbar\\\":{\\\"ticks\\\":\\\"\\\",\\\"outlinewidth\\\":0}}}],\\\"pie\\\":[{\\\"type\\\":\\\"pie\\\",\\\"automargin\\\":true}],\\\"choropleth\\\":[{\\\"colorbar\\\":{\\\"ticks\\\":\\\"\\\",\\\"outlinewidth\\\":0},\\\"type\\\":\\\"choropleth\\\"}],\\\"heatmapgl\\\":[{\\\"colorbar\\\":{\\\"ticks\\\":\\\"\\\",\\\"outlinewidth\\\":0},\\\"type\\\":\\\"heatmapgl\\\",\\\"colorscale\\\":[[0.0,\\\"#0d0887\\\"],[0.1111111111111111,\\\"#46039f\\\"],[0.2222222222222222,\\\"#7201a8\\\"],[0.3333333333333333,\\\"#9c179e\\\"],[0.4444444444444444,\\\"#bd3786\\\"],[0.5555555555555556,\\\"#d8576b\\\"],[0.6666666666666666,\\\"#ed7953\\\"],[0.7777777777777778,\\\"#fb9f3a\\\"],[0.8888888888888888,\\\"#fdca26\\\"],[1.0,\\\"#f0f921\\\"]]}],\\\"bar\\\":[{\\\"type\\\":\\\"bar\\\",\\\"error_y\\\":{\\\"color\\\":\\\"#2a3f5f\\\"},\\\"error_x\\\":{\\\"color\\\":\\\"#2a3f5f\\\"},\\\"marker\\\":{\\\"line\\\":{\\\"color\\\":\\\"#E5ECF6\\\",\\\"width\\\":0.5}}}],\\\"heatmap\\\":[{\\\"colorbar\\\":{\\\"ticks\\\":\\\"\\\",\\\"outlinewidth\\\":0},\\\"type\\\":\\\"heatmap\\\",\\\"colorscale\\\":[[0.0,\\\"#0d0887\\\"],[0.1111111111111111,\\\"#46039f\\\"],[0.2222222222222222,\\\"#7201a8\\\"],[0.3333333333333333,\\\"#9c179e\\\"],[0.4444444444444444,\\\"#bd3786\\\"],[0.5555555555555556,\\\"#d8576b\\\"],[0.6666666666666666,\\\"#ed7953\\\"],[0.7777777777777778,\\\"#fb9f3a\\\"],[0.8888888888888888,\\\"#fdca26\\\"],[1.0,\\\"#f0f921\\\"]]}],\\\"contourcarpet\\\":[{\\\"colorbar\\\":{\\\"ticks\\\":\\\"\\\",\\\"outlinewidth\\\":0},\\\"type\\\":\\\"contourcarpet\\\"}],\\\"table\\\":[{\\\"type\\\":\\\"table\\\",\\\"header\\\":{\\\"line\\\":{\\\"color\\\":\\\"white\\\"},\\\"fill\\\":{\\\"color\\\":\\\"#C8D4E3\\\"}},\\\"cells\\\":{\\\"line\\\":{\\\"color\\\":\\\"white\\\"},\\\"fill\\\":{\\\"color\\\":\\\"#EBF0F8\\\"}}}],\\\"scatter3d\\\":[{\\\"line\\\":{\\\"colorbar\\\":{\\\"ticks\\\":\\\"\\\",\\\"outlinewidth\\\":0}},\\\"type\\\":\\\"scatter3d\\\",\\\"marker\\\":{\\\"colorbar\\\":{\\\"ticks\\\":\\\"\\\",\\\"outlinewidth\\\":0}}}],\\\"scattergl\\\":[{\\\"type\\\":\\\"scattergl\\\",\\\"marker\\\":{\\\"colorbar\\\":{\\\"ticks\\\":\\\"\\\",\\\"outlinewidth\\\":0}}}],\\\"histogram2d\\\":[{\\\"colorbar\\\":{\\\"ticks\\\":\\\"\\\",\\\"outlinewidth\\\":0},\\\"type\\\":\\\"histogram2d\\\",\\\"colorscale\\\":[[0.0,\\\"#0d0887\\\"],[0.1111111111111111,\\\"#46039f\\\"],[0.2222222222222222,\\\"#7201a8\\\"],[0.3333333333333333,\\\"#9c179e\\\"],[0.4444444444444444,\\\"#bd3786\\\"],[0.5555555555555556,\\\"#d8576b\\\"],[0.6666666666666666,\\\"#ed7953\\\"],[0.7777777777777778,\\\"#fb9f3a\\\"],[0.8888888888888888,\\\"#fdca26\\\"],[1.0,\\\"#f0f921\\\"]]}],\\\"scatterternary\\\":[{\\\"type\\\":\\\"scatterternary\\\",\\\"marker\\\":{\\\"colorbar\\\":{\\\"ticks\\\":\\\"\\\",\\\"outlinewidth\\\":0}}}],\\\"scatterpolargl\\\":[{\\\"type\\\":\\\"scatterpolargl\\\",\\\"marker\\\":{\\\"colorbar\\\":{\\\"ticks\\\":\\\"\\\",\\\"outlinewidth\\\":0}}}]}},\\\"showarrow\\\":false,\\\"margin\\\":{\\\"l\\\":50,\\\"b\\\":50,\\\"r\\\":50,\\\"t\\\":60},\\\"yaxis\\\":{\\\"showgrid\\\":false,\\\"showticklabels\\\":false,\\\"zeroline\\\":false}},{\\\"showLink\\\":false,\\\"editable\\\":false,\\\"responsive\\\":true,\\\"staticPlot\\\":false,\\\"scrollZoom\\\":true}); gd.on(\\\"plotly_hover\\\",(function (data){var filtered_data=WebIO.PlotlyCommands.filterEventData(gd,data,\\\"hover\\\"); return !(filtered_data.isnil) ? (WebIO.setval({\\\"name\\\":\\\"hover\\\",\\\"scope\\\":\\\"12693935989549543284\\\",\\\"id\\\":\\\"12541165774489180857\\\",\\\"type\\\":\\\"observable\\\"},filtered_data.out)) : undefined})); gd.on(\\\"plotly_unhover\\\",(function (){return WebIO.setval({\\\"name\\\":\\\"hover\\\",\\\"scope\\\":\\\"12693935989549543284\\\",\\\"id\\\":\\\"12541165774489180857\\\",\\\"type\\\":\\\"observable\\\"},{})})); gd.on(\\\"plotly_selected\\\",(function (data){var filtered_data=WebIO.PlotlyCommands.filterEventData(gd,data,\\\"selected\\\"); return !(filtered_data.isnil) ? (WebIO.setval({\\\"name\\\":\\\"selected\\\",\\\"scope\\\":\\\"12693935989549543284\\\",\\\"id\\\":\\\"2427982103112346024\\\",\\\"type\\\":\\\"observable\\\"},filtered_data.out)) : undefined})); gd.on(\\\"plotly_deselect\\\",(function (){return WebIO.setval({\\\"name\\\":\\\"selected\\\",\\\"scope\\\":\\\"12693935989549543284\\\",\\\"id\\\":\\\"2427982103112346024\\\",\\\"type\\\":\\\"observable\\\"},{})})); gd.on(\\\"plotly_relayout\\\",(function (data){var filtered_data=WebIO.PlotlyCommands.filterEventData(gd,data,\\\"relayout\\\"); return !(filtered_data.isnil) ? (WebIO.setval({\\\"name\\\":\\\"relayout\\\",\\\"scope\\\":\\\"12693935989549543284\\\",\\\"id\\\":\\\"6255243598552222846\\\",\\\"type\\\":\\\"observable\\\"},filtered_data.out)) : undefined})); return gd.on(\\\"plotly_click\\\",(function (data){var filtered_data=WebIO.PlotlyCommands.filterEventData(gd,data,\\\"click\\\"); return !(filtered_data.isnil) ? (WebIO.setval({\\\"name\\\":\\\"click\\\",\\\"scope\\\":\\\"12693935989549543284\\\",\\\"id\\\":\\\"10314798619347884518\\\",\\\"type\\\":\\\"observable\\\"},filtered_data.out)) : undefined}))}));\\n    (WebIO.importBlock({\\\"data\\\":[{\\\"name\\\":\\\"Plotly\\\",\\\"type\\\":\\\"js\\\",\\\"url\\\":\\\"\\/assetserver\\/0920e676c106f32ba509e3957ec7f2e1975e6dda-plotly.min.js\\\"},{\\\"name\\\":null,\\\"type\\\":\\\"js\\\",\\\"url\\\":\\\"\\/assetserver\\/a5a7489247caefe55cf69adf7b5b90ef582ba49e-plotly_webio.bundle.js\\\"}],\\\"type\\\":\\\"async_block\\\"})).then((imports) => handler.apply(this, imports));\\n}\\n\"],\"observables\":{\"_toImage\":{\"sync\":false,\"id\":\"5809567832167357735\",\"value\":{}},\"hover\":{\"sync\":false,\"id\":\"12541165774489180857\",\"value\":{}},\"selected\":{\"sync\":false,\"id\":\"2427982103112346024\",\"value\":{}},\"__gd_contents\":{\"sync\":false,\"id\":\"1935335513499566731\",\"value\":{}},\"click\":{\"sync\":false,\"id\":\"10314798619347884518\",\"value\":{}},\"image\":{\"sync\":true,\"id\":\"12033937380057671934\",\"value\":\"\"},\"__get_gd_contents\":{\"sync\":false,\"id\":\"94686026928254570\",\"value\":\"\"},\"_downloadImage\":{\"sync\":false,\"id\":\"16885698640080521103\",\"value\":{}},\"relayout\":{\"sync\":false,\"id\":\"6255243598552222846\",\"value\":{}},\"_commands\":{\"sync\":false,\"id\":\"14679174628992972792\",\"value\":[]}}},\"children\":[{\"props\":{\"id\":\"plot-ee631294-4533-42e2-b1a5-cb810913c992\"},\"nodeType\":\"DOM\",\"type\":\"node\",\"instanceArgs\":{\"namespace\":\"html\",\"tag\":\"div\"},\"children\":[]}]},\n",
       "        window,\n",
       "    );\n",
       "    })()\n",
       "    </script>\n",
       "</div>\n"
      ],
      "text/plain": [
       "data: [\n",
       "  \"scatter with fields line, mode, type, x, and y\",\n",
       "  \"scatter with fields marker, mode, name, text, type, x, and y\",\n",
       "  \"scatter with fields marker, mode, name, text, type, x, and y\",\n",
       "  \"scatter with fields marker, mode, name, text, type, x, and y\"\n",
       "]\n",
       "\n",
       "layout: \"layout with fields hovermode, margin, showarrow, showlegend, template, titlefont, xaxis, and yaxis\"\n",
       "\n"
      ]
     },
     "execution_count": 13,
     "metadata": {},
     "output_type": "execute_result"
    }
   ],
   "source": [
    "vivi_graph(problem)"
   ]
  },
  {
   "cell_type": "markdown",
   "metadata": {},
   "source": [
    "We can create and solve a optimization problem by calling the **vivi** function with the specified problem. In this case the objective function is rather simple:\n",
    "\n",
    "$$ max \\; obj = \\sum_t r_{o,t}v_{o,t} - \\sum_t r_{i,t}v_{i,t} = \\sum_t E_{h2,t} $$\n",
    "\n",
    "* $\\sum_t r_{o,t}v_{o,t}$ = resources out times their value\n",
    "* $\\sum_t r_{i,t}v_{i,t}$ = minus the sum of resources in times their value.\n",
    "\n",
    "Because we specified the value of the wind power and curtailment as zero, the objective function becomes the maximization of annual hydrogen production (in energy basis).\n",
    "\n",
    "**OBS**: vivi default solver is HiGHS, but Gurobi can be much faster for these time series problem, so we can specify the use of Gurobi solver in the vivi function to save time."
   ]
  },
  {
   "cell_type": "code",
   "execution_count": 14,
   "metadata": {},
   "outputs": [
    {
     "name": "stdout",
     "output_type": "stream",
     "text": [
      "Set parameter Username\n",
      "\n",
      "--------------------------------------------\n",
      "Warning: your license will expire in 8 days\n",
      "--------------------------------------------\n",
      "\n",
      "Academic license - for non-commercial use only - expires 2023-10-28\n",
      "* Solver : Gurobi\n",
      "\n",
      "* Status\n",
      "  Result count       : 2\n",
      "  Termination status : OPTIMAL\n",
      "  Message from the solver:\n",
      "  \"Model was solved to optimality (subject to tolerances), and an optimal solution is available.\"\n",
      "\n",
      "* Candidate solution (result #1)\n",
      "  Primal status      : FEASIBLE_POINT\n",
      "  Dual status        : NO_SOLUTION\n",
      "  Objective value    : 3.60152e+04\n",
      "  Objective bound    : 3.60152e+04\n",
      "  Relative gap       : 0.00000e+00\n",
      "  Dual objective value : 3.60152e+04\n",
      "\n",
      "* Work counters\n",
      "  Solve time (sec)   : 1.04097e-01\n",
      "  Barrier iterations : 0\n",
      "  Node count         : 0\n",
      "\n",
      " Tech   | Size factor\n",
      "======================\n",
      " ALK    | 1.0\n",
      "----------------------\n"
     ]
    },
    {
     "data": {
      "text/plain": [
       "Problem(Any[Resource(\"power\", Real[0.423, 0.223, 0.221, 0.225, 0.22, 0.217, 0.217, 0.231, 0.226, 0.314  …  2.57, 2.05, 2.135, 3.929, 6.339, 5.936, 5.01, 8.088, 7.919, 8.668], \"MW\", Vector{Real}[[0, 0, 0, 0, 0, 0, 0, 0, 0, 0  …  0, 0, 0, 0, 0, 0, 0, 0, 0, 0]], Vector{Real}[])], Any[Tech(\"ALK\", Any[Resource(\"power\", Real[10], \"MW\", Vector{Real}[[1]], Vector{Real}[])], Any[Resource(\"h2\", Real[6.6865], \"MW\", Vector{Real}[[1]], Vector{Real}[])], HeatStruct[], Real[1, 1], [[[0.0, 0.0], [1000.0, 0.0]]], Real[0.15, 1.0, 1.0], Real[-1, 1], Real[0.0, 0.0, 0.0, 0.0, 0.0, 0.0, 0.0, 0.0, 0.0, 0.0  …  0.205, 0.2135, 0.3929, 0.6339, 0.5936, 0.501, 0.8088, 0.7919, 0.8668, 0.0])], Any[Resource(\"h2\", Real[0.0, 0.0, 0.0, 0.0, 0.0, 0.0, 0.0, 0.0, 0.0, 0.0  …  1.7184305, 1.3707325, 1.4275677499999997, 2.6271258499999997, 4.23857235, 3.9691064, 3.3499364999999997, 5.4080411999999995, 5.29503935, 5.795858199999999], \"MW\", Vector{Real}[[1, 1, 1, 1, 1, 1, 1, 1, 1, 1  …  1, 1, 1, 1, 1, 1, 1, 1, 1, 1]], Vector{Real}[]), Resource(\"power\", Real[0.423, 0.223, 0.221, 0.225, 0.22, 0.217, 0.217, 0.231, 0.226, 0.314  …  0.0, 0.0, 0.0, 0.0, 0.0, 0.0, 0.0, 0.0, 0.0, 0.0], \"MW\", Vector{Real}[[0, 0, 0, 0, 0, 0, 0, 0, 0, 0  …  0, 0, 0, 0, 0, 0, 0, 0, 0, 0]], Vector{Real}[])], Any[], Any[])"
      ]
     },
     "execution_count": 14,
     "metadata": {},
     "output_type": "execute_result"
    }
   ],
   "source": [
    "answer = vivi(problem,solver=\"Gurobi\") # Gurobi solver is much faster"
   ]
  },
  {
   "cell_type": "markdown",
   "metadata": {},
   "source": [
    "As it can be seen from the optimal objective value, the maximum annual hydrogen production in this case is $3.60152\\cdot 10^4$ MWh. A bit below what we previously estimated, because now we included the minimal load restriction."
   ]
  },
  {
   "cell_type": "markdown",
   "metadata": {},
   "source": [
    "### Including partial load"
   ]
  },
  {
   "cell_type": "markdown",
   "metadata": {},
   "source": [
    "We can add the effects of partial load into the Resources:\n",
    "\n",
    "        Resource.loadEffect = [\n",
    "            [load, percentage of amount]\n",
    "        ]\n",
    "\n",
    "* load = the percentual load of the Tech\n",
    "* percentage of amount = the percentage of the Resource amount produced in that load"
   ]
  },
  {
   "cell_type": "code",
   "execution_count": 15,
   "metadata": {},
   "outputs": [
    {
     "data": {
      "text/plain": [
       "3-element Vector{Vector{Float64}}:\n",
       " [0.15, 0.17068571001271218]\n",
       " [0.51, 0.5446508636805505]\n",
       " [1.0, 1.0]"
      ]
     },
     "execution_count": 15,
     "metadata": {},
     "output_type": "execute_result"
    }
   ],
   "source": [
    "alk.in[1].loadEffect = [\n",
    "    [0.15,0.15011],\n",
    "    [0.51,0.50907],\n",
    "    [1.0,1.0]\n",
    "    ]\n",
    "\n",
    "alk.out[1].loadEffect = [\n",
    "    [0.15,0.15/0.66865*0.76086],\n",
    "    [0.51,0.51/0.66865*0.71408],\n",
    "    [1.0,1.0]\n",
    "    ]"
   ]
  },
  {
   "cell_type": "markdown",
   "metadata": {},
   "source": [
    "Now solving again the problem give us a different result:"
   ]
  },
  {
   "cell_type": "code",
   "execution_count": 16,
   "metadata": {},
   "outputs": [
    {
     "name": "stdout",
     "output_type": "stream",
     "text": [
      "Set parameter Username\n",
      "\n",
      "--------------------------------------------\n",
      "Warning: your license will expire in 8 days\n",
      "--------------------------------------------\n",
      "\n",
      "Academic license - for non-commercial use only - expires 2023-10-28\n",
      "* Solver : Gurobi\n",
      "\n",
      "* Status\n",
      "  Result count       : 3\n",
      "  Termination status : OPTIMAL\n",
      "  Message from the solver:\n",
      "  \"Model was solved to optimality (subject to tolerances), and an optimal solution is available.\"\n",
      "\n",
      "* Candidate solution (result #1)\n",
      "  Primal status      : FEASIBLE_POINT\n",
      "  Dual status        : NO_SOLUTION\n",
      "  Objective value    : 3.66697e+04\n",
      "  Objective bound    : 3.66697e+04\n",
      "  Relative gap       : 0.00000e+00\n",
      "  Dual objective value : 3.66697e+04\n",
      "\n",
      "* Work counters\n",
      "  Solve time (sec)   : 2.15770e+00\n",
      "  Barrier iterations : 0\n",
      "  Node count         : 1\n",
      "\n",
      " Tech   | Size factor\n",
      "======================\n",
      " ALK    | 1.0\n",
      "----------------------\n"
     ]
    },
    {
     "data": {
      "text/plain": [
       "Problem(Any[Resource(\"power\", Real[0.423, 0.223, 0.221, 0.225, 0.22, 0.217, 0.217, 0.231, 0.226, 0.314  …  2.57, 2.05, 2.135, 3.929, 6.339, 5.936, 5.01, 8.088, 7.919, 8.668], \"MW\", Vector{Real}[[0, 0, 0, 0, 0, 0, 0, 0, 0, 0  …  0, 0, 0, 0, 0, 0, 0, 0, 0, 0]], Vector{Real}[])], Any[Tech(\"ALK\", Any[Resource(\"power\", Real[10], \"MW\", Vector{Real}[[1]], Vector{Real}[[0.15, 0.15011], [0.51, 0.50907], [1.0, 1.0]])], Any[Resource(\"h2\", Real[6.6865], \"MW\", Vector{Real}[[1]], Vector{Real}[[0.15, 0.17068571001271218], [0.51, 0.5446508636805505], [1.0, 1.0]])], HeatStruct[], Real[1, 1], [[[0.0, 0.0], [1000.0, 0.0]]], Real[0.15, 1.0, 1.0], Real[-1, 1], Real[0.0, 0.0, 0.0, 0.0, 0.0, 0.0, 0.0, 0.0, 0.0, 0.0  …  0.20505, 0.21357, 0.39349, 0.63459, 0.59437, 0.50191, 0.80916, 0.79229, 0.86705, 0.0])], Any[Resource(\"h2\", Real[0.0, 0.0, 0.0, 0.0, 0.0, 0.0, 0.0, 0.0, 0.0, 0.0  …  1.8858865261310453, 1.5236541436928908, 1.58286520620682, 2.832566925618454, 4.415989456337972, 4.166053441834885, 3.5855923206485416, 5.500699355508932, 5.395887478459251, 5.860408756034465], \"MW\", Vector{Real}[[1, 1, 1, 1, 1, 1, 1, 1, 1, 1  …  1, 1, 1, 1, 1, 1, 1, 1, 1, 1]], Vector{Real}[]), Resource(\"power\", Real[0.423, 0.223, 0.221, 0.225, 0.22, 0.217, 0.217, 0.231, 0.226, 0.314  …  0.0, 0.0, 0.0, 0.0, 0.0, 0.0, 0.0, 0.0, 0.0, 0.0], \"MW\", Vector{Real}[[0, 0, 0, 0, 0, 0, 0, 0, 0, 0  …  0, 0, 0, 0, 0, 0, 0, 0, 0, 0]], Vector{Real}[])], Any[], Any[])"
      ]
     },
     "execution_count": 16,
     "metadata": {},
     "output_type": "execute_result"
    }
   ],
   "source": [
    "inputs = [windIn]\n",
    "processes = [alk]\n",
    "utilities = []\n",
    "outputs = [h2,cut]\n",
    "storage = []\n",
    "problem = Problem(inputs,processes,outputs,utilities,storage)\n",
    "answer = vivi(problem,solver=\"Gurobi\") # Gurobi solver is much faster"
   ]
  },
  {
   "cell_type": "markdown",
   "metadata": {},
   "source": [
    "As it can be seen, the annual hydrogen production is $ 3.66697 \\cdot 10^4 $ MWh, roughtly 2% higher than the previous case. This difference can be attributed to the partial load efficiency."
   ]
  },
  {
   "cell_type": "markdown",
   "metadata": {},
   "source": [
    "### Including storage and a constant offtaker"
   ]
  },
  {
   "cell_type": "markdown",
   "metadata": {},
   "source": [
    "One important thing about our results so far it that they assume that there will be always an offtaker to use the hydrogen at whatever rate of production. In practice the offtaker may be a chemical plant that can only run constantly, therefore the output of hydrogen has to be fix and to do so we need storage to have a buffer.\n",
    "\n",
    "        (power) ----> aec --> (h2) --> store --> offtaker --> (h2_plant)\n",
    "                |\n",
    "                --> (power)[cut]\n",
    "\n",
    "To include this in our problem, let's first create a storage representation:\n",
    "\n",
    "        Storage(type,initial charge)\n",
    "\n",
    "* type: the Resource type that the storage is connected to\n",
    "* intial charge: the percentage of the total capacity that the storage will start and end the optimization.\n",
    "\n",
    "**OBS**: Here is important to fix the starting load as 100%, because otherwise the system may not have the initial energy required to provide hydrogen in the first couple of hours of simulation."
   ]
  },
  {
   "cell_type": "code",
   "execution_count": 17,
   "metadata": {},
   "outputs": [
    {
     "data": {
      "text/plain": [
       "Storage(\"h2\", 1, Real[0.0, 1000.0], [[[0.0, 0.0], [1000.0, 0.0]]], Real[-1, 1], Real[1])"
      ]
     },
     "execution_count": 17,
     "metadata": {},
     "output_type": "execute_result"
    }
   ],
   "source": [
    "storeInit= 1 # 100% starting load and finishing load\n",
    "\n",
    "h2Store = Storage(\"h2\",storeInit)"
   ]
  },
  {
   "cell_type": "markdown",
   "metadata": {},
   "source": [
    "By default, the storage can be infinity, so let's put some constraints in the size of storage:"
   ]
  },
  {
   "cell_type": "code",
   "execution_count": 18,
   "metadata": {},
   "outputs": [
    {
     "data": {
      "text/plain": [
       "2-element Vector{Int64}:\n",
       "  0\n",
       " 60"
      ]
     },
     "execution_count": 18,
     "metadata": {},
     "output_type": "execute_result"
    }
   ],
   "source": [
    "storeMax = 60 # MWh of max storage\n",
    "h2Store.limits = [0,storeMax]"
   ]
  },
  {
   "cell_type": "markdown",
   "metadata": {},
   "source": [
    "Now we need to make sure that the offtaker operates at a constant rate. This can be done by creating another tech with a fixed load that converts hydrogen into another type of hydrogen, the one that will be used at the plant. This way the optimization will still be allowed to size the offtaker, but it will need to keep the rating constant during the time series. "
   ]
  },
  {
   "cell_type": "code",
   "execution_count": 19,
   "metadata": {},
   "outputs": [
    {
     "data": {
      "text/plain": [
       "3-element Vector{Int64}:\n",
       " 1\n",
       " 1\n",
       " 0"
      ]
     },
     "execution_count": 19,
     "metadata": {},
     "output_type": "execute_result"
    }
   ],
   "source": [
    "offtaker_in = [Resource(\"h2\",10,\"kg/h\",[[1]])]\n",
    "offtaker_out = [Resource(\"h2_plant\",10,\"kg/h\",[[1]])]\n",
    "\n",
    "offtaker = Tech(\"offtaker\",offtaker_in,offtaker_out,[])\n",
    "offtaker.loads=[1,1,false] # 100-100% load and can't be shut down."
   ]
  },
  {
   "cell_type": "markdown",
   "metadata": {},
   "source": [
    "Since now our system outputs \"h2_plant\", we need to update type of the h2 resource that we assumed as our problem boundary:"
   ]
  },
  {
   "cell_type": "code",
   "execution_count": 20,
   "metadata": {},
   "outputs": [
    {
     "data": {
      "text/plain": [
       "\"h2_plant\""
      ]
     },
     "execution_count": 20,
     "metadata": {},
     "output_type": "execute_result"
    }
   ],
   "source": [
    "h2.type = \"h2_plant\""
   ]
  },
  {
   "cell_type": "markdown",
   "metadata": {},
   "source": [
    "Now if we rerun the optimization including the offtaker as a process..."
   ]
  },
  {
   "cell_type": "code",
   "execution_count": 21,
   "metadata": {},
   "outputs": [
    {
     "name": "stdout",
     "output_type": "stream",
     "text": [
      "Set parameter Username\n",
      "\n",
      "--------------------------------------------\n",
      "Warning: your license will expire in 8 days\n",
      "--------------------------------------------\n",
      "\n",
      "Academic license - for non-commercial use only - expires 2023-10-28\n",
      "* Solver : Gurobi\n",
      "\n",
      "* Status\n",
      "  Result count       : 2\n",
      "  Termination status : OPTIMAL\n",
      "  Message from the solver:\n",
      "  \"Model was solved to optimality (subject to tolerances), and an optimal solution is available.\"\n",
      "\n",
      "* Candidate solution (result #1)\n",
      "  Primal status      : FEASIBLE_POINT\n",
      "  Dual status        : NO_SOLUTION\n",
      "  Objective value    : 9.45777e+03\n",
      "  Objective bound    : 9.45777e+03\n",
      "  Relative gap       : 0.00000e+00\n",
      "  Dual objective value : 9.45777e+03\n",
      "\n",
      "* Work counters\n",
      "  Solve time (sec)   : 1.83475e+00\n",
      "  Barrier iterations : 0\n",
      "  Node count         : 1\n",
      "\n",
      " Tech       | Size factor\n",
      "==========================\n",
      " ALK        | 1.0\n",
      " offtaker   | 0.10797\n",
      "--------------------------\n",
      " h2         | 60.0\n"
     ]
    },
    {
     "data": {
      "text/plain": [
       "Problem(Any[Resource(\"power\", Real[0.423, 0.223, 0.221, 0.225, 0.22, 0.217, 0.217, 0.231, 0.226, 0.314  …  2.57, 2.05, 2.135, 3.929, 6.339, 5.936, 5.01, 8.088, 7.919, 8.668], \"MW\", Vector{Real}[[0, 0, 0, 0, 0, 0, 0, 0, 0, 0  …  0, 0, 0, 0, 0, 0, 0, 0, 0, 0]], Vector{Real}[])], Any[Tech(\"ALK\", Any[Resource(\"power\", Real[10], \"MW\", Vector{Real}[[1]], Vector{Real}[[0.15, 0.15011], [0.51, 0.50907], [1.0, 1.0]])], Any[Resource(\"h2\", Real[6.6865], \"MW\", Vector{Real}[[1]], Vector{Real}[[0.15, 0.17068571001271218], [0.51, 0.5446508636805505], [1.0, 1.0]])], HeatStruct[], Real[1, 1], [[[0.0, 0.0], [1000.0, 0.0]]], Real[0.15, 1.0, 1.0], Real[-1, 1], Real[0.0, 0.0, 0.0, 0.0, 0.0, 0.0, 0.0, 0.0, 0.0, 0.0  …  0.0, 0.0, 0.0, 0.0, 0.0, 0.0, 0.80916, 0.0, 0.77619, 0.0]), Tech(\"offtaker\", Any[Resource(\"h2\", Real[10], \"kg/h\", Vector{Real}[[1]], Vector{Real}[])], Any[Resource(\"h2_plant\", Real[10], \"kg/h\", Vector{Real}[[1]], Vector{Real}[])], HeatStruct[], Real[0.0, 1000.0], [[[0.0, 0.0], [1000.0, 0.0]]], Real[1, 1, 0], Real[-1, 1], Real[0.10797, 0.10797, 0.10797, 0.10797, 0.10797, 0.10797, 0.10797, 0.10797, 0.10797, 0.10797  …  0.10797, 0.10797, 0.10797, 0.10797, 0.10797, 0.10797, 0.10797, 0.10797, 0.10797, 0.0])], Any[Resource(\"h2_plant\", Real[1.079654100849677, 1.079654100849677, 1.079654100849677, 1.079654100849677, 1.079654100849677, 1.079654100849677, 1.079654100849677, 1.079654100849677, 1.079654100849677, 1.079654100849677  …  1.079654100849677, 1.079654100849677, 1.079654100849677, 1.079654100849677, 1.079654100849677, 1.079654100849677, 1.079654100849677, 1.079654100849677, 1.079654100849677, 1.079654100849677], \"MW\", Vector{Real}[[1, 1, 1, 1, 1, 1, 1, 1, 1, 1  …  1, 1, 1, 1, 1, 1, 1, 1, 1, 1]], Vector{Real}[]), Resource(\"power\", Real[0.423, 0.223, 0.221, 0.225, 0.22, 0.217, 0.217, 0.231, 0.226, 0.314  …  2.57, 2.05, 2.135, 3.929, 6.339, 5.936, 5.01, 0.0, 7.919, 0.9103151579820414], \"MW\", Vector{Real}[[0, 0, 0, 0, 0, 0, 0, 0, 0, 0  …  0, 0, 0, 0, 0, 0, 0, 0, 0, 0]], Vector{Real}[])], Any[], Any[Storage(\"h2\", 1, Real[0, 60], [[[0.0, 0.0], [1000.0, 0.0]]], Real[-1, 1], Real[60.0, 58.92, 57.841, 56.761, 55.681, 54.602, 53.522, 52.442, 51.363, 50.283  …  58.92, 57.841, 56.761, 55.681, 54.602, 53.522, 52.442, 56.863, 55.784, 60.0])])"
      ]
     },
     "execution_count": 21,
     "metadata": {},
     "output_type": "execute_result"
    }
   ],
   "source": [
    "inputs = [windIn]\n",
    "processes = [alk,offtaker]\n",
    "utilities = []\n",
    "outputs = [h2,cut]\n",
    "storage = [h2Store]\n",
    "problem = Problem(inputs,processes,outputs,utilities,storage)\n",
    "answer = vivi(problem,solver=\"Gurobi\") # Gurobi solver is much faster"
   ]
  },
  {
   "cell_type": "markdown",
   "metadata": {},
   "source": [
    "We see that the optimization chooses the maximum size of storage (60 MWh) and the output of H2 is much lower than in the previous cases $0.945777 \\cdot 10^4$ MWh. Meaning that it is much harder to deliver a constant output of hydrogen than a variable one."
   ]
  },
  {
   "cell_type": "markdown",
   "metadata": {},
   "source": [
    "This solution also shows us that the offtaker rating roughly 11% of the reference value given (10MW), about 1.1 MW for a hydrogen system of 10 MW. This means that the hydrogen production would need to be almost 10x larger than the actual use rating! Certainly this would not be viable."
   ]
  },
  {
   "cell_type": "markdown",
   "metadata": {},
   "source": [
    "### Flexibilizing the offtaker\n",
    "\n",
    "We can improve this previous result by making the offtaker more flexible. For instance, we could design a chemical plant that could also operate with 15-100% hydrogen input by changing the operating conditions accordingly. Assuming that this is possible, let's examine the impacts on the hydrogen production side.\n",
    "\n",
    "For this, we just need to modify the constraint of the offtaker loads to a range (15-100%)"
   ]
  },
  {
   "cell_type": "code",
   "execution_count": 22,
   "metadata": {},
   "outputs": [
    {
     "data": {
      "text/plain": [
       "3-element Vector{Float64}:\n",
       " 0.15\n",
       " 1.0\n",
       " 0.0"
      ]
     },
     "execution_count": 22,
     "metadata": {},
     "output_type": "execute_result"
    }
   ],
   "source": [
    "offtaker.loads=[0.15,1,false] # 100-100% load and can't be shut down."
   ]
  },
  {
   "cell_type": "markdown",
   "metadata": {},
   "source": [
    "Now, if we optimize again the same problem..."
   ]
  },
  {
   "cell_type": "code",
   "execution_count": 23,
   "metadata": {},
   "outputs": [
    {
     "name": "stdout",
     "output_type": "stream",
     "text": [
      "Set parameter Username\n",
      "\n",
      "--------------------------------------------\n",
      "Warning: your license will expire in 8 days\n",
      "--------------------------------------------\n",
      "\n",
      "Academic license - for non-commercial use only - expires 2023-10-28\n",
      "* Solver : Gurobi\n",
      "\n",
      "* Status\n",
      "  Result count       : 2\n",
      "  Termination status : OPTIMAL\n",
      "  Message from the solver:\n",
      "  \"Model was solved to optimality (subject to tolerances), and an optimal solution is available.\"\n",
      "\n",
      "* Candidate solution (result #1)\n",
      "  Primal status      : FEASIBLE_POINT\n",
      "  Dual status        : NO_SOLUTION\n",
      "  Objective value    : 3.66697e+04\n",
      "  Objective bound    : 3.66697e+04\n",
      "  Relative gap       : 4.16679e-15\n",
      "  Dual objective value : 3.66697e+04\n",
      "\n",
      "* Work counters\n",
      "  Solve time (sec)   : 4.37113e+00\n",
      "  Barrier iterations : 0\n",
      "  Node count         : 1\n",
      "\n",
      " Tech       | Size factor\n",
      "==========================\n",
      " ALK        | 1.0\n",
      " offtaker   | 0.66861\n",
      "--------------------------\n",
      " h2         | 55.396\n"
     ]
    },
    {
     "data": {
      "text/plain": [
       "Problem(Any[Resource(\"power\", Real[0.423, 0.223, 0.221, 0.225, 0.22, 0.217, 0.217, 0.231, 0.226, 0.314  …  2.57, 2.05, 2.135, 3.929, 6.339, 5.936, 5.01, 8.088, 7.919, 8.668], \"MW\", Vector{Real}[[0, 0, 0, 0, 0, 0, 0, 0, 0, 0  …  0, 0, 0, 0, 0, 0, 0, 0, 0, 0]], Vector{Real}[])], Any[Tech(\"ALK\", Any[Resource(\"power\", Real[10], \"MW\", Vector{Real}[[1]], Vector{Real}[[0.15, 0.15011], [0.51, 0.50907], [1.0, 1.0]])], Any[Resource(\"h2\", Real[6.6865], \"MW\", Vector{Real}[[1]], Vector{Real}[[0.15, 0.17068571001271218], [0.51, 0.5446508636805505], [1.0, 1.0]])], HeatStruct[], Real[1, 1], [[[0.0, 0.0], [1000.0, 0.0]]], Real[0.15, 1.0, 1.0], Real[-1, 1], Real[0.0, 0.0, 0.0, 0.0, 0.0, 0.0, 0.0, 0.0, 0.0, 0.0  …  0.20505, 0.21357, 0.39349, 0.63459, 0.59437, 0.50191, 0.80916, 0.79229, 0.86705, 0.0]), Tech(\"offtaker\", Any[Resource(\"h2\", Real[10], \"kg/h\", Vector{Real}[[1]], Vector{Real}[])], Any[Resource(\"h2_plant\", Real[10], \"kg/h\", Vector{Real}[[1]], Vector{Real}[])], HeatStruct[], Real[0.0, 1000.0], [[[0.0, 0.0], [1000.0, 0.0]]], Real[0.15, 1.0, 0.0], Real[-1, 1], Real[0.10029, 0.10029, 0.10029, 0.10029, 0.66861, 0.10029, 0.66861, 0.66861, 0.10029, 0.10029  …  0.10029, 0.10029, 0.10029, 0.10029, 0.10029, 0.10029, 0.10029, 0.10029, 0.10029, 0.0])], Any[Resource(\"h2_plant\", Real[1.0029218409752916, 1.0029218409752916, 1.0029218409752916, 1.0029218409752916, 6.6861456065019444, 1.0029218409752916, 6.6861456065019444, 6.6861456065019444, 1.0029218409752916, 1.0029218409752916  …  1.0029218409752916, 1.0029218409752916, 1.0029218409752916, 1.0029218409752916, 1.0029218409752916, 1.0029218409752916, 1.0029218409752916, 1.0029218409752916, 1.0029218409752916, 1.0029218409752916], \"MW\", Vector{Real}[[1, 1, 1, 1, 1, 1, 1, 1, 1, 1  …  1, 1, 1, 1, 1, 1, 1, 1, 1, 1]], Vector{Real}[]), Resource(\"power\", Real[0.423, 0.223, 0.221, 0.225, 0.22, 0.217, 0.217, 0.231, 0.226, 0.314  …  0.0, 0.0, 0.0, 0.0, 0.0, 0.0, 0.0, 0.0, 0.0, 1.7763568394002505e-15], \"MW\", Vector{Real}[[0, 0, 0, 0, 0, 0, 0, 0, 0, 0  …  0, 0, 0, 0, 0, 0, 0, 0, 0, 0]], Vector{Real}[])], Any[], Any[Storage(\"h2\", 1, Real[0, 60], [[[0.0, 0.0], [1000.0, 0.0]]], Real[-1, 1], Real[55.396, 54.393, 53.39, 52.387, 51.384, 44.698, 43.695, 37.009, 30.323, 29.32  …  29.559, 30.079, 30.659, 32.489, 35.902, 39.065, 41.648, 46.146, 50.539, 55.396])])"
      ]
     },
     "execution_count": 23,
     "metadata": {},
     "output_type": "execute_result"
    }
   ],
   "source": [
    "inputs = [windIn]\n",
    "processes = [alk,offtaker]\n",
    "utilities = []\n",
    "outputs = [h2,cut]\n",
    "storage = [h2Store]\n",
    "problem = Problem(inputs,processes,outputs,utilities,storage)\n",
    "answer = vivi(problem,solver=\"Gurobi\") # Gurobi solver is much faster"
   ]
  },
  {
   "cell_type": "markdown",
   "metadata": {},
   "source": [
    "Now the number of hydrogen production is much more promissing, because we can reach a number very close to the theoretical maximum (3.66697e4 MWh). It is also interesting that we don't need the maximum amount of hydrogen storage, but the specific number of 55.4 MWh.\n",
    "\n",
    "However, we may still have a technical challenge related to the ramping limits. To understand that, let's observe results for the first hours of operation:"
   ]
  },
  {
   "cell_type": "code",
   "execution_count": 24,
   "metadata": {},
   "outputs": [
    {
     "data": {
      "image/svg+xml": [
       "<?xml version=\"1.0\" encoding=\"utf-8\"?>\n",
       "<svg xmlns=\"http://www.w3.org/2000/svg\" xmlns:xlink=\"http://www.w3.org/1999/xlink\" width=\"600\" height=\"400\" viewBox=\"0 0 2400 1600\">\n",
       "<defs>\n",
       "  <clipPath id=\"clip080\">\n",
       "    <rect x=\"0\" y=\"0\" width=\"2400\" height=\"1600\"/>\n",
       "  </clipPath>\n",
       "</defs>\n",
       "<path clip-path=\"url(#clip080)\" d=\"M0 1600 L2400 1600 L2400 0 L0 0  Z\" fill=\"#ffffff\" fill-rule=\"evenodd\" fill-opacity=\"1\"/>\n",
       "<defs>\n",
       "  <clipPath id=\"clip081\">\n",
       "    <rect x=\"480\" y=\"0\" width=\"1681\" height=\"1600\"/>\n",
       "  </clipPath>\n",
       "</defs>\n",
       "<path clip-path=\"url(#clip080)\" d=\"M215.795 1418.86 L2020.94 1418.86 L2020.94 47.2441 L215.795 47.2441  Z\" fill=\"#ffffff\" fill-rule=\"evenodd\" fill-opacity=\"1\"/>\n",
       "<defs>\n",
       "  <clipPath id=\"clip082\">\n",
       "    <rect x=\"215\" y=\"47\" width=\"1806\" height=\"1373\"/>\n",
       "  </clipPath>\n",
       "</defs>\n",
       "<polyline clip-path=\"url(#clip082)\" style=\"stroke:#000000; stroke-linecap:round; stroke-linejoin:round; stroke-width:2.8; stroke-opacity:0.4; fill:none\" points=\"249.682,1418.86 249.682,47.2441 \"/>\n",
       "<polyline clip-path=\"url(#clip082)\" style=\"stroke:#000000; stroke-linecap:round; stroke-linejoin:round; stroke-width:2.8; stroke-opacity:0.4; fill:none\" points=\"679.725,1418.86 679.725,47.2441 \"/>\n",
       "<polyline clip-path=\"url(#clip082)\" style=\"stroke:#000000; stroke-linecap:round; stroke-linejoin:round; stroke-width:2.8; stroke-opacity:0.4; fill:none\" points=\"1109.77,1418.86 1109.77,47.2441 \"/>\n",
       "<polyline clip-path=\"url(#clip082)\" style=\"stroke:#000000; stroke-linecap:round; stroke-linejoin:round; stroke-width:2.8; stroke-opacity:0.4; fill:none\" points=\"1539.81,1418.86 1539.81,47.2441 \"/>\n",
       "<polyline clip-path=\"url(#clip082)\" style=\"stroke:#000000; stroke-linecap:round; stroke-linejoin:round; stroke-width:2.8; stroke-opacity:0.4; fill:none\" points=\"1969.85,1418.86 1969.85,47.2441 \"/>\n",
       "<polyline clip-path=\"url(#clip082)\" style=\"stroke:#000000; stroke-linecap:round; stroke-linejoin:round; stroke-width:2; stroke-opacity:0.06; fill:none\" points=\"335.691,1418.86 335.691,47.2441 \"/>\n",
       "<polyline clip-path=\"url(#clip082)\" style=\"stroke:#000000; stroke-linecap:round; stroke-linejoin:round; stroke-width:2; stroke-opacity:0.06; fill:none\" points=\"421.699,1418.86 421.699,47.2441 \"/>\n",
       "<polyline clip-path=\"url(#clip082)\" style=\"stroke:#000000; stroke-linecap:round; stroke-linejoin:round; stroke-width:2; stroke-opacity:0.06; fill:none\" points=\"507.708,1418.86 507.708,47.2441 \"/>\n",
       "<polyline clip-path=\"url(#clip082)\" style=\"stroke:#000000; stroke-linecap:round; stroke-linejoin:round; stroke-width:2; stroke-opacity:0.06; fill:none\" points=\"593.716,1418.86 593.716,47.2441 \"/>\n",
       "<polyline clip-path=\"url(#clip082)\" style=\"stroke:#000000; stroke-linecap:round; stroke-linejoin:round; stroke-width:2; stroke-opacity:0.06; fill:none\" points=\"765.733,1418.86 765.733,47.2441 \"/>\n",
       "<polyline clip-path=\"url(#clip082)\" style=\"stroke:#000000; stroke-linecap:round; stroke-linejoin:round; stroke-width:2; stroke-opacity:0.06; fill:none\" points=\"851.742,1418.86 851.742,47.2441 \"/>\n",
       "<polyline clip-path=\"url(#clip082)\" style=\"stroke:#000000; stroke-linecap:round; stroke-linejoin:round; stroke-width:2; stroke-opacity:0.06; fill:none\" points=\"937.75,1418.86 937.75,47.2441 \"/>\n",
       "<polyline clip-path=\"url(#clip082)\" style=\"stroke:#000000; stroke-linecap:round; stroke-linejoin:round; stroke-width:2; stroke-opacity:0.06; fill:none\" points=\"1023.76,1418.86 1023.76,47.2441 \"/>\n",
       "<polyline clip-path=\"url(#clip082)\" style=\"stroke:#000000; stroke-linecap:round; stroke-linejoin:round; stroke-width:2; stroke-opacity:0.06; fill:none\" points=\"1195.78,1418.86 1195.78,47.2441 \"/>\n",
       "<polyline clip-path=\"url(#clip082)\" style=\"stroke:#000000; stroke-linecap:round; stroke-linejoin:round; stroke-width:2; stroke-opacity:0.06; fill:none\" points=\"1281.78,1418.86 1281.78,47.2441 \"/>\n",
       "<polyline clip-path=\"url(#clip082)\" style=\"stroke:#000000; stroke-linecap:round; stroke-linejoin:round; stroke-width:2; stroke-opacity:0.06; fill:none\" points=\"1367.79,1418.86 1367.79,47.2441 \"/>\n",
       "<polyline clip-path=\"url(#clip082)\" style=\"stroke:#000000; stroke-linecap:round; stroke-linejoin:round; stroke-width:2; stroke-opacity:0.06; fill:none\" points=\"1453.8,1418.86 1453.8,47.2441 \"/>\n",
       "<polyline clip-path=\"url(#clip082)\" style=\"stroke:#000000; stroke-linecap:round; stroke-linejoin:round; stroke-width:2; stroke-opacity:0.06; fill:none\" points=\"1625.82,1418.86 1625.82,47.2441 \"/>\n",
       "<polyline clip-path=\"url(#clip082)\" style=\"stroke:#000000; stroke-linecap:round; stroke-linejoin:round; stroke-width:2; stroke-opacity:0.06; fill:none\" points=\"1711.83,1418.86 1711.83,47.2441 \"/>\n",
       "<polyline clip-path=\"url(#clip082)\" style=\"stroke:#000000; stroke-linecap:round; stroke-linejoin:round; stroke-width:2; stroke-opacity:0.06; fill:none\" points=\"1797.83,1418.86 1797.83,47.2441 \"/>\n",
       "<polyline clip-path=\"url(#clip082)\" style=\"stroke:#000000; stroke-linecap:round; stroke-linejoin:round; stroke-width:2; stroke-opacity:0.06; fill:none\" points=\"1883.84,1418.86 1883.84,47.2441 \"/>\n",
       "<polyline clip-path=\"url(#clip080)\" style=\"stroke:#000000; stroke-linecap:round; stroke-linejoin:round; stroke-width:4; stroke-opacity:1; fill:none\" points=\"215.795,1418.86 2020.94,1418.86 \"/>\n",
       "<polyline clip-path=\"url(#clip080)\" style=\"stroke:#000000; stroke-linecap:round; stroke-linejoin:round; stroke-width:4; stroke-opacity:1; fill:none\" points=\"215.795,47.2441 2020.94,47.2441 \"/>\n",
       "<polyline clip-path=\"url(#clip080)\" style=\"stroke:#000000; stroke-linecap:round; stroke-linejoin:round; stroke-width:4; stroke-opacity:1; fill:none\" points=\"249.682,1418.86 249.682,1399.96 \"/>\n",
       "<polyline clip-path=\"url(#clip080)\" style=\"stroke:#000000; stroke-linecap:round; stroke-linejoin:round; stroke-width:4; stroke-opacity:1; fill:none\" points=\"679.725,1418.86 679.725,1399.96 \"/>\n",
       "<polyline clip-path=\"url(#clip080)\" style=\"stroke:#000000; stroke-linecap:round; stroke-linejoin:round; stroke-width:4; stroke-opacity:1; fill:none\" points=\"1109.77,1418.86 1109.77,1399.96 \"/>\n",
       "<polyline clip-path=\"url(#clip080)\" style=\"stroke:#000000; stroke-linecap:round; stroke-linejoin:round; stroke-width:4; stroke-opacity:1; fill:none\" points=\"1539.81,1418.86 1539.81,1399.96 \"/>\n",
       "<polyline clip-path=\"url(#clip080)\" style=\"stroke:#000000; stroke-linecap:round; stroke-linejoin:round; stroke-width:4; stroke-opacity:1; fill:none\" points=\"1969.85,1418.86 1969.85,1399.96 \"/>\n",
       "<polyline clip-path=\"url(#clip080)\" style=\"stroke:#000000; stroke-linecap:round; stroke-linejoin:round; stroke-width:4; stroke-opacity:1; fill:none\" points=\"335.691,1418.86 335.691,1409.41 \"/>\n",
       "<polyline clip-path=\"url(#clip080)\" style=\"stroke:#000000; stroke-linecap:round; stroke-linejoin:round; stroke-width:4; stroke-opacity:1; fill:none\" points=\"421.699,1418.86 421.699,1409.41 \"/>\n",
       "<polyline clip-path=\"url(#clip080)\" style=\"stroke:#000000; stroke-linecap:round; stroke-linejoin:round; stroke-width:4; stroke-opacity:1; fill:none\" points=\"507.708,1418.86 507.708,1409.41 \"/>\n",
       "<polyline clip-path=\"url(#clip080)\" style=\"stroke:#000000; stroke-linecap:round; stroke-linejoin:round; stroke-width:4; stroke-opacity:1; fill:none\" points=\"593.716,1418.86 593.716,1409.41 \"/>\n",
       "<polyline clip-path=\"url(#clip080)\" style=\"stroke:#000000; stroke-linecap:round; stroke-linejoin:round; stroke-width:4; stroke-opacity:1; fill:none\" points=\"765.733,1418.86 765.733,1409.41 \"/>\n",
       "<polyline clip-path=\"url(#clip080)\" style=\"stroke:#000000; stroke-linecap:round; stroke-linejoin:round; stroke-width:4; stroke-opacity:1; fill:none\" points=\"851.742,1418.86 851.742,1409.41 \"/>\n",
       "<polyline clip-path=\"url(#clip080)\" style=\"stroke:#000000; stroke-linecap:round; stroke-linejoin:round; stroke-width:4; stroke-opacity:1; fill:none\" points=\"937.75,1418.86 937.75,1409.41 \"/>\n",
       "<polyline clip-path=\"url(#clip080)\" style=\"stroke:#000000; stroke-linecap:round; stroke-linejoin:round; stroke-width:4; stroke-opacity:1; fill:none\" points=\"1023.76,1418.86 1023.76,1409.41 \"/>\n",
       "<polyline clip-path=\"url(#clip080)\" style=\"stroke:#000000; stroke-linecap:round; stroke-linejoin:round; stroke-width:4; stroke-opacity:1; fill:none\" points=\"1195.78,1418.86 1195.78,1409.41 \"/>\n",
       "<polyline clip-path=\"url(#clip080)\" style=\"stroke:#000000; stroke-linecap:round; stroke-linejoin:round; stroke-width:4; stroke-opacity:1; fill:none\" points=\"1281.78,1418.86 1281.78,1409.41 \"/>\n",
       "<polyline clip-path=\"url(#clip080)\" style=\"stroke:#000000; stroke-linecap:round; stroke-linejoin:round; stroke-width:4; stroke-opacity:1; fill:none\" points=\"1367.79,1418.86 1367.79,1409.41 \"/>\n",
       "<polyline clip-path=\"url(#clip080)\" style=\"stroke:#000000; stroke-linecap:round; stroke-linejoin:round; stroke-width:4; stroke-opacity:1; fill:none\" points=\"1453.8,1418.86 1453.8,1409.41 \"/>\n",
       "<polyline clip-path=\"url(#clip080)\" style=\"stroke:#000000; stroke-linecap:round; stroke-linejoin:round; stroke-width:4; stroke-opacity:1; fill:none\" points=\"1625.82,1418.86 1625.82,1409.41 \"/>\n",
       "<polyline clip-path=\"url(#clip080)\" style=\"stroke:#000000; stroke-linecap:round; stroke-linejoin:round; stroke-width:4; stroke-opacity:1; fill:none\" points=\"1711.83,1418.86 1711.83,1409.41 \"/>\n",
       "<polyline clip-path=\"url(#clip080)\" style=\"stroke:#000000; stroke-linecap:round; stroke-linejoin:round; stroke-width:4; stroke-opacity:1; fill:none\" points=\"1797.83,1418.86 1797.83,1409.41 \"/>\n",
       "<polyline clip-path=\"url(#clip080)\" style=\"stroke:#000000; stroke-linecap:round; stroke-linejoin:round; stroke-width:4; stroke-opacity:1; fill:none\" points=\"1883.84,1418.86 1883.84,1409.41 \"/>\n",
       "<path clip-path=\"url(#clip080)\" d=\"M239.035 1465.08 Q239.035 1457.64 240.913 1453.59 Q243.531 1447.56 249.707 1447.56 Q251.016 1447.56 252.375 1447.94 Q253.758 1448.28 255.488 1449.64 Q257.242 1451 258.304 1453.22 Q260.33 1457.52 260.33 1465.08 Q260.33 1472.47 258.452 1476.49 Q255.71 1482.37 249.658 1482.37 Q247.385 1482.37 245.063 1481.21 Q242.765 1480.05 241.308 1477.26 Q239.035 1473.08 239.035 1465.08 M243.235 1464.46 Q243.235 1472.09 243.778 1475.13 Q244.396 1478.42 246.076 1479.85 Q247.78 1481.26 249.658 1481.26 Q251.683 1481.26 253.363 1479.75 Q255.068 1478.22 255.587 1474.94 Q256.155 1471.7 256.13 1464.46 Q256.13 1457.42 255.636 1454.6 Q254.969 1451.32 253.19 1450.01 Q251.436 1448.68 249.658 1448.68 Q248.991 1448.68 248.274 1448.87 Q247.583 1449.07 246.57 1449.64 Q245.557 1450.21 244.766 1451.62 Q244.001 1453.02 243.63 1455.15 Q243.235 1457.89 243.235 1464.46 Z\" fill=\"#000000\" fill-rule=\"nonzero\" fill-opacity=\"1\" /><path clip-path=\"url(#clip080)\" d=\"M656.973 1481.26 Q656.973 1480.35 657.047 1480.07 Q657.146 1479.8 657.541 1479.38 L667.25 1468.56 Q672.561 1462.58 672.561 1457.37 Q672.561 1453.99 670.782 1451.57 Q669.028 1449.15 665.792 1449.15 Q663.569 1449.15 661.691 1450.5 Q659.814 1451.86 658.949 1454.28 Q659.097 1454.23 659.616 1454.23 Q660.876 1454.23 661.568 1455.02 Q662.284 1455.82 662.284 1456.88 Q662.284 1458.24 661.395 1458.9 Q660.53 1459.55 659.666 1459.55 Q659.32 1459.55 658.85 1459.47 Q658.406 1459.4 657.689 1458.71 Q656.973 1457.99 656.973 1456.73 Q656.973 1453.2 659.641 1450.38 Q662.334 1447.56 666.434 1447.56 Q671.079 1447.56 674.117 1450.33 Q677.18 1453.07 677.18 1457.37 Q677.18 1458.88 676.711 1460.26 Q676.266 1461.62 675.649 1462.68 Q675.056 1463.75 673.425 1465.45 Q671.795 1467.15 670.486 1468.36 Q669.176 1469.58 666.237 1472.14 L660.876 1477.36 L669.992 1477.36 Q674.438 1477.36 674.784 1476.96 Q675.278 1476.25 675.896 1472.47 L677.18 1472.47 L675.748 1481.26 L656.973 1481.26 Z\" fill=\"#000000\" fill-rule=\"nonzero\" fill-opacity=\"1\" /><path clip-path=\"url(#clip080)\" d=\"M682.269 1473.11 Q682.269 1471.6 683.084 1471.03 Q683.9 1470.44 684.764 1470.44 Q685.925 1470.44 686.592 1471.18 Q687.284 1471.9 687.284 1472.91 Q687.284 1473.92 686.592 1474.66 Q685.925 1475.38 684.764 1475.38 Q684.196 1475.38 683.9 1475.28 Q684.567 1477.6 686.592 1479.28 Q688.643 1480.96 691.335 1480.96 Q694.72 1480.96 696.745 1477.68 Q697.956 1475.55 697.956 1470.74 Q697.956 1466.49 697.042 1464.36 Q695.634 1461.13 692.743 1461.13 Q688.643 1461.13 686.222 1464.66 Q685.925 1465.1 685.579 1465.13 Q685.085 1465.13 684.962 1464.86 Q684.863 1464.56 684.863 1463.79 L684.863 1448.82 Q684.863 1447.61 685.357 1447.61 Q685.555 1447.61 685.975 1447.76 Q689.161 1449.17 692.694 1449.19 Q696.325 1449.19 699.586 1447.71 Q699.833 1447.56 699.982 1447.56 Q700.476 1447.56 700.5 1448.13 Q700.5 1448.33 700.08 1448.92 Q699.685 1449.49 698.82 1450.26 Q697.956 1451 696.844 1451.71 Q695.733 1452.43 694.102 1452.93 Q692.496 1453.39 690.718 1453.39 Q688.593 1453.39 686.419 1452.73 L686.419 1462.58 Q689.038 1460.01 692.842 1460.01 Q696.894 1460.01 699.685 1463.28 Q702.477 1466.54 702.477 1471.08 Q702.477 1475.85 699.166 1479.11 Q695.881 1482.37 691.434 1482.37 Q687.383 1482.37 684.814 1479.48 Q682.269 1476.59 682.269 1473.11 Z\" fill=\"#000000\" fill-rule=\"nonzero\" fill-opacity=\"1\" /><path clip-path=\"url(#clip080)\" d=\"M1086.74 1473.11 Q1086.74 1471.6 1087.56 1471.03 Q1088.37 1470.44 1089.24 1470.44 Q1090.4 1470.44 1091.07 1471.18 Q1091.76 1471.9 1091.76 1472.91 Q1091.76 1473.92 1091.07 1474.66 Q1090.4 1475.38 1089.24 1475.38 Q1088.67 1475.38 1088.37 1475.28 Q1089.04 1477.6 1091.07 1479.28 Q1093.12 1480.96 1095.81 1480.96 Q1099.19 1480.96 1101.22 1477.68 Q1102.43 1475.55 1102.43 1470.74 Q1102.43 1466.49 1101.52 1464.36 Q1100.11 1461.13 1097.22 1461.13 Q1093.12 1461.13 1090.7 1464.66 Q1090.4 1465.1 1090.05 1465.13 Q1089.56 1465.13 1089.44 1464.86 Q1089.34 1464.56 1089.34 1463.79 L1089.34 1448.82 Q1089.34 1447.61 1089.83 1447.61 Q1090.03 1447.61 1090.45 1447.76 Q1093.64 1449.17 1097.17 1449.19 Q1100.8 1449.19 1104.06 1447.71 Q1104.31 1447.56 1104.46 1447.56 Q1104.95 1447.56 1104.97 1448.13 Q1104.97 1448.33 1104.55 1448.92 Q1104.16 1449.49 1103.29 1450.26 Q1102.43 1451 1101.32 1451.71 Q1100.21 1452.43 1098.58 1452.93 Q1096.97 1453.39 1095.19 1453.39 Q1093.07 1453.39 1090.89 1452.73 L1090.89 1462.58 Q1093.51 1460.01 1097.32 1460.01 Q1101.37 1460.01 1104.16 1463.28 Q1106.95 1466.54 1106.95 1471.08 Q1106.95 1475.85 1103.64 1479.11 Q1100.36 1482.37 1095.91 1482.37 Q1091.86 1482.37 1089.29 1479.48 Q1086.74 1476.59 1086.74 1473.11 Z\" fill=\"#000000\" fill-rule=\"nonzero\" fill-opacity=\"1\" /><path clip-path=\"url(#clip080)\" d=\"M1111.5 1465.08 Q1111.5 1457.64 1113.37 1453.59 Q1115.99 1447.56 1122.17 1447.56 Q1123.48 1447.56 1124.84 1447.94 Q1126.22 1448.28 1127.95 1449.64 Q1129.7 1451 1130.76 1453.22 Q1132.79 1457.52 1132.79 1465.08 Q1132.79 1472.47 1130.91 1476.49 Q1128.17 1482.37 1122.12 1482.37 Q1119.85 1482.37 1117.52 1481.21 Q1115.23 1480.05 1113.77 1477.26 Q1111.5 1473.08 1111.5 1465.08 M1115.7 1464.46 Q1115.7 1472.09 1116.24 1475.13 Q1116.86 1478.42 1118.54 1479.85 Q1120.24 1481.26 1122.12 1481.26 Q1124.14 1481.26 1125.82 1479.75 Q1127.53 1478.22 1128.05 1474.94 Q1128.62 1471.7 1128.59 1464.46 Q1128.59 1457.42 1128.1 1454.6 Q1127.43 1451.32 1125.65 1450.01 Q1123.9 1448.68 1122.12 1448.68 Q1121.45 1448.68 1120.74 1448.87 Q1120.04 1449.07 1119.03 1449.64 Q1118.02 1450.21 1117.23 1451.62 Q1116.46 1453.02 1116.09 1455.15 Q1115.7 1457.89 1115.7 1464.46 Z\" fill=\"#000000\" fill-rule=\"nonzero\" fill-opacity=\"1\" /><path clip-path=\"url(#clip080)\" d=\"M1517.22 1457.47 L1518.87 1447.07 L1520.13 1447.07 Q1520.28 1447.69 1520.53 1447.96 Q1520.8 1448.23 1522.23 1448.45 Q1523.69 1448.68 1526.63 1448.68 L1538.91 1448.68 Q1538.91 1449.84 1538.46 1450.45 L1531.62 1460.06 Q1529.45 1463.1 1528.48 1468.71 Q1527.91 1472.47 1527.94 1477.01 L1527.94 1479.58 Q1527.94 1482.37 1525.59 1482.37 Q1523.27 1482.37 1523.27 1479.58 Q1523.27 1469.92 1529.5 1460.56 Q1530.16 1459.59 1532.61 1456.16 Q1535.08 1452.73 1535.18 1452.58 L1524.7 1452.58 Q1520.11 1452.58 1519.74 1452.88 Q1519.24 1453.32 1518.48 1457.47 L1517.22 1457.47 Z\" fill=\"#000000\" fill-rule=\"nonzero\" fill-opacity=\"1\" /><path clip-path=\"url(#clip080)\" d=\"M1542.19 1473.11 Q1542.19 1471.6 1543.01 1471.03 Q1543.82 1470.44 1544.69 1470.44 Q1545.85 1470.44 1546.52 1471.18 Q1547.21 1471.9 1547.21 1472.91 Q1547.21 1473.92 1546.52 1474.66 Q1545.85 1475.38 1544.69 1475.38 Q1544.12 1475.38 1543.82 1475.28 Q1544.49 1477.6 1546.52 1479.28 Q1548.57 1480.96 1551.26 1480.96 Q1554.64 1480.96 1556.67 1477.68 Q1557.88 1475.55 1557.88 1470.74 Q1557.88 1466.49 1556.97 1464.36 Q1555.56 1461.13 1552.67 1461.13 Q1548.57 1461.13 1546.15 1464.66 Q1545.85 1465.1 1545.5 1465.13 Q1545.01 1465.13 1544.89 1464.86 Q1544.79 1464.56 1544.79 1463.79 L1544.79 1448.82 Q1544.79 1447.61 1545.28 1447.61 Q1545.48 1447.61 1545.9 1447.76 Q1549.09 1449.17 1552.62 1449.19 Q1556.25 1449.19 1559.51 1447.71 Q1559.76 1447.56 1559.91 1447.56 Q1560.4 1447.56 1560.42 1448.13 Q1560.42 1448.33 1560 1448.92 Q1559.61 1449.49 1558.74 1450.26 Q1557.88 1451 1556.77 1451.71 Q1555.66 1452.43 1554.03 1452.93 Q1552.42 1453.39 1550.64 1453.39 Q1548.52 1453.39 1546.34 1452.73 L1546.34 1462.58 Q1548.96 1460.01 1552.77 1460.01 Q1556.82 1460.01 1559.61 1463.28 Q1562.4 1466.54 1562.4 1471.08 Q1562.4 1475.85 1559.09 1479.11 Q1555.8 1482.37 1551.36 1482.37 Q1547.31 1482.37 1544.74 1479.48 Q1542.19 1476.59 1542.19 1473.11 Z\" fill=\"#000000\" fill-rule=\"nonzero\" fill-opacity=\"1\" /><path clip-path=\"url(#clip080)\" d=\"M1935.17 1452.38 L1935.17 1450.8 Q1941.25 1450.8 1944.38 1447.56 Q1945.25 1447.56 1945.4 1447.76 Q1945.54 1447.96 1945.54 1448.87 L1945.54 1477.26 Q1945.54 1478.76 1946.28 1479.23 Q1947.03 1479.7 1950.26 1479.7 L1951.87 1479.7 L1951.87 1481.26 Q1950.09 1481.11 1943.67 1481.11 Q1937.24 1481.11 1935.49 1481.26 L1935.49 1479.7 L1937.1 1479.7 Q1940.28 1479.7 1941.05 1479.26 Q1941.81 1478.79 1941.81 1477.26 L1941.81 1451.05 Q1939.17 1452.38 1935.17 1452.38 Z\" fill=\"#000000\" fill-rule=\"nonzero\" fill-opacity=\"1\" /><path clip-path=\"url(#clip080)\" d=\"M1957.94 1465.08 Q1957.94 1457.64 1959.82 1453.59 Q1962.44 1447.56 1968.62 1447.56 Q1969.93 1447.56 1971.28 1447.94 Q1972.67 1448.28 1974.4 1449.64 Q1976.15 1451 1977.21 1453.22 Q1979.24 1457.52 1979.24 1465.08 Q1979.24 1472.47 1977.36 1476.49 Q1974.62 1482.37 1968.57 1482.37 Q1966.29 1482.37 1963.97 1481.21 Q1961.67 1480.05 1960.22 1477.26 Q1957.94 1473.08 1957.94 1465.08 M1962.14 1464.46 Q1962.14 1472.09 1962.69 1475.13 Q1963.31 1478.42 1964.99 1479.85 Q1966.69 1481.26 1968.57 1481.26 Q1970.59 1481.26 1972.27 1479.75 Q1973.98 1478.22 1974.5 1474.94 Q1975.06 1471.7 1975.04 1464.46 Q1975.04 1457.42 1974.55 1454.6 Q1973.88 1451.32 1972.1 1450.01 Q1970.35 1448.68 1968.57 1448.68 Q1967.9 1448.68 1967.18 1448.87 Q1966.49 1449.07 1965.48 1449.64 Q1964.47 1450.21 1963.68 1451.62 Q1962.91 1453.02 1962.54 1455.15 Q1962.14 1457.89 1962.14 1464.46 Z\" fill=\"#000000\" fill-rule=\"nonzero\" fill-opacity=\"1\" /><path clip-path=\"url(#clip080)\" d=\"M1983.24 1465.08 Q1983.24 1457.64 1985.12 1453.59 Q1987.74 1447.56 1993.91 1447.56 Q1995.22 1447.56 1996.58 1447.94 Q1997.96 1448.28 1999.69 1449.64 Q2001.45 1451 2002.51 1453.22 Q2004.54 1457.52 2004.54 1465.08 Q2004.54 1472.47 2002.66 1476.49 Q1999.92 1482.37 1993.86 1482.37 Q1991.59 1482.37 1989.27 1481.21 Q1986.97 1480.05 1985.51 1477.26 Q1983.24 1473.08 1983.24 1465.08 M1987.44 1464.46 Q1987.44 1472.09 1987.98 1475.13 Q1988.6 1478.42 1990.28 1479.85 Q1991.99 1481.26 1993.86 1481.26 Q1995.89 1481.26 1997.57 1479.75 Q1999.27 1478.22 1999.79 1474.94 Q2000.36 1471.7 2000.34 1464.46 Q2000.34 1457.42 1999.84 1454.6 Q1999.17 1451.32 1997.4 1450.01 Q1995.64 1448.68 1993.86 1448.68 Q1993.2 1448.68 1992.48 1448.87 Q1991.79 1449.07 1990.78 1449.64 Q1989.76 1450.21 1988.97 1451.62 Q1988.21 1453.02 1987.84 1455.15 Q1987.44 1457.89 1987.44 1464.46 Z\" fill=\"#000000\" fill-rule=\"nonzero\" fill-opacity=\"1\" /><path clip-path=\"url(#clip080)\" d=\"M976.984 1568.91 L976.984 1566.57 L978.8 1566.57 Q982.913 1566.57 983.84 1565.91 Q984.803 1565.2 984.803 1562.98 L984.803 1523 Q984.803 1520.81 983.84 1520.14 Q982.876 1519.44 978.8 1519.44 L976.984 1519.44 L976.984 1517.07 Q979.652 1517.29 988.212 1517.29 Q996.698 1517.29 999.366 1517.07 L999.366 1519.44 L997.55 1519.44 Q993.437 1519.44 992.473 1520.14 Q991.547 1520.81 991.547 1523 L991.547 1540.75 L1014.22 1540.75 L1014.22 1523 Q1014.22 1520.81 1013.26 1520.14 Q1012.33 1519.44 1008.22 1519.44 L1006.41 1519.44 L1006.41 1517.07 Q1009.07 1517.29 1017.63 1517.29 Q1026.12 1517.29 1028.79 1517.07 L1028.79 1519.44 L1026.97 1519.44 Q1022.86 1519.44 1021.9 1520.14 Q1020.97 1520.81 1020.97 1523 L1020.97 1562.98 Q1020.97 1565.17 1021.93 1565.87 Q1022.9 1566.57 1026.97 1566.57 L1028.79 1566.57 L1028.79 1568.91 Q1026.12 1568.69 1017.56 1568.69 Q1009.07 1568.69 1006.41 1568.91 L1006.41 1566.57 L1008.22 1566.57 Q1012.33 1566.57 1013.26 1565.91 Q1014.22 1565.2 1014.22 1562.98 L1014.22 1543.12 L991.547 1543.12 L991.547 1562.98 Q991.547 1565.17 992.473 1565.87 Q993.437 1566.57 997.55 1566.57 L999.366 1566.57 L999.366 1568.91 Q996.698 1568.69 988.138 1568.69 Q979.652 1568.69 976.984 1568.91 Z\" fill=\"#000000\" fill-rule=\"nonzero\" fill-opacity=\"1\" /><path clip-path=\"url(#clip080)\" d=\"M1038.5 1564.83 Q1033.49 1559.87 1033.49 1552.68 Q1033.49 1545.45 1038.38 1540.19 Q1043.31 1534.89 1050.35 1534.89 Q1057.25 1534.89 1062.17 1540.15 Q1067.14 1545.38 1067.14 1552.68 Q1067.14 1559.83 1062.14 1564.79 Q1057.17 1569.76 1050.28 1569.76 Q1043.54 1569.76 1038.5 1564.83 M1039.79 1552.05 Q1039.79 1559.42 1041.72 1562.76 Q1044.68 1567.83 1050.35 1567.83 Q1053.17 1567.83 1055.5 1566.31 Q1057.88 1564.79 1059.17 1562.24 Q1060.84 1558.9 1060.84 1552.05 Q1060.84 1544.75 1058.84 1541.52 Q1055.87 1536.6 1050.28 1536.6 Q1047.83 1536.6 1045.43 1537.89 Q1043.05 1539.15 1041.61 1541.67 Q1039.79 1545.01 1039.79 1552.05 Z\" fill=\"#000000\" fill-rule=\"nonzero\" fill-opacity=\"1\" /><path clip-path=\"url(#clip080)\" d=\"M1071.77 1538.56 L1071.77 1536.19 L1082.92 1535.37 L1082.92 1560.57 Q1082.92 1562.39 1083.07 1563.46 Q1083.22 1564.5 1083.81 1565.72 Q1084.44 1566.94 1085.85 1567.5 Q1087.3 1568.06 1089.59 1568.06 Q1093.71 1568.06 1096.23 1564.68 Q1098.78 1561.31 1098.78 1556.31 L1098.78 1542.78 Q1098.78 1539.97 1097.78 1539.26 Q1096.78 1538.56 1092.86 1538.56 L1092.86 1536.19 L1104.01 1535.37 L1104.01 1562.31 Q1104.01 1565.13 1104.97 1565.87 Q1105.97 1566.57 1109.94 1566.57 L1109.94 1568.91 L1099.01 1569.76 L1099.01 1562.9 Q1095.82 1569.72 1089.22 1569.76 Q1085.89 1569.76 1083.59 1568.91 Q1081.33 1568.06 1080.18 1567.02 Q1079.03 1565.94 1078.4 1563.91 Q1077.81 1561.87 1077.74 1560.61 Q1077.66 1559.35 1077.66 1556.9 L1077.66 1545.53 Q1077.66 1540.38 1076.92 1539.49 Q1076.18 1538.56 1071.77 1538.56 Z\" fill=\"#000000\" fill-rule=\"nonzero\" fill-opacity=\"1\" /><path clip-path=\"url(#clip080)\" d=\"M1113.53 1568.91 L1113.53 1566.57 Q1117.57 1566.57 1118.5 1566.09 Q1119.46 1565.57 1119.46 1563.13 L1119.46 1542.78 Q1119.46 1539.97 1118.46 1539.26 Q1117.5 1538.56 1113.53 1538.56 L1113.53 1536.19 L1124.09 1535.37 L1124.09 1543.71 Q1125.17 1540.45 1127.43 1537.93 Q1129.73 1535.37 1133.43 1535.37 Q1135.88 1535.37 1137.43 1536.74 Q1139.03 1538.12 1139.03 1540 Q1139.03 1541.67 1137.99 1542.52 Q1136.99 1543.34 1135.77 1543.34 Q1134.39 1543.34 1133.43 1542.49 Q1132.5 1541.6 1132.5 1540.08 Q1132.5 1539.15 1132.91 1538.45 Q1133.36 1537.71 1133.69 1537.45 Q1134.02 1537.19 1134.25 1537.11 Q1134.1 1537.04 1133.43 1537.04 Q1129.24 1537.04 1126.84 1541.23 Q1124.46 1545.38 1124.46 1551.31 L1124.46 1562.98 Q1124.46 1565.17 1125.35 1565.87 Q1126.28 1566.57 1130.24 1566.57 L1131.84 1566.57 L1131.84 1568.91 Q1128.8 1568.69 1122.2 1568.69 Q1121.28 1568.69 1119.83 1568.72 Q1118.39 1568.76 1116.5 1568.83 Q1114.61 1568.91 1113.53 1568.91 Z\" fill=\"#000000\" fill-rule=\"nonzero\" fill-opacity=\"1\" /><path clip-path=\"url(#clip080)\" d=\"M1173.82 1549.94 Q1173.82 1537.11 1178.6 1526.78 Q1180.64 1522.44 1183.49 1518.81 Q1186.35 1515.18 1188.24 1513.58 Q1190.13 1511.99 1190.64 1511.99 Q1191.38 1511.99 1191.42 1512.73 Q1191.42 1513.1 1190.42 1514.03 Q1178.19 1526.48 1178.23 1549.94 Q1178.23 1573.47 1190.13 1585.43 Q1191.42 1586.73 1191.42 1587.14 Q1191.42 1587.88 1190.64 1587.88 Q1190.13 1587.88 1188.31 1586.36 Q1186.49 1584.84 1183.68 1581.36 Q1180.86 1577.88 1178.82 1573.61 Q1173.82 1563.28 1173.82 1549.94 Z\" fill=\"#000000\" fill-rule=\"nonzero\" fill-opacity=\"1\" /><path clip-path=\"url(#clip080)\" d=\"M1198.17 1568.91 L1198.17 1566.57 Q1202.2 1566.57 1203.13 1566.09 Q1204.06 1565.57 1204.06 1563.13 L1204.06 1523.66 Q1204.06 1520.85 1203.06 1520.14 Q1202.09 1519.44 1198.17 1519.44 L1198.17 1517.07 L1209.06 1516.25 L1209.06 1542.64 L1209.13 1542.64 Q1210.36 1539.89 1213.1 1537.63 Q1215.84 1535.37 1220.07 1535.37 Q1225.77 1535.37 1228.03 1538.19 Q1229.7 1540.08 1230.03 1542.19 Q1230.4 1544.3 1230.4 1549.79 L1230.4 1564.28 Q1230.48 1565.87 1231.7 1566.24 Q1232.92 1566.57 1236.33 1566.57 L1236.33 1568.91 Q1228.59 1568.69 1227.81 1568.69 Q1227.22 1568.69 1219.25 1568.91 L1219.25 1566.57 Q1223.29 1566.57 1224.22 1566.09 Q1225.18 1565.57 1225.18 1563.13 L1225.18 1545.45 Q1225.18 1541.6 1223.99 1539.34 Q1222.81 1537.04 1219.55 1537.04 Q1215.62 1537.04 1212.47 1540.34 Q1209.32 1543.64 1209.32 1549.19 L1209.32 1563.13 Q1209.32 1565.57 1210.25 1566.09 Q1211.21 1566.57 1215.21 1566.57 L1215.21 1568.91 Q1207.47 1568.69 1206.73 1568.69 Q1206.13 1568.69 1198.17 1568.91 Z\" fill=\"#000000\" fill-rule=\"nonzero\" fill-opacity=\"1\" /><path clip-path=\"url(#clip080)\" d=\"M1242.15 1587.14 Q1242.15 1586.77 1243.11 1585.84 Q1255.34 1573.39 1255.34 1549.94 Q1255.34 1526.41 1243.6 1514.51 Q1242.15 1513.14 1242.15 1512.73 Q1242.15 1511.99 1242.89 1511.99 Q1243.41 1511.99 1245.23 1513.51 Q1247.08 1515.03 1249.86 1518.51 Q1252.67 1522 1254.75 1526.26 Q1259.75 1536.6 1259.75 1549.94 Q1259.75 1562.76 1254.97 1573.1 Q1252.93 1577.43 1250.08 1581.06 Q1247.23 1584.69 1245.34 1586.29 Q1243.45 1587.88 1242.89 1587.88 Q1242.15 1587.88 1242.15 1587.14 Z\" fill=\"#000000\" fill-rule=\"nonzero\" fill-opacity=\"1\" /><polyline clip-path=\"url(#clip082)\" style=\"stroke:#000000; stroke-linecap:round; stroke-linejoin:round; stroke-width:2.8; stroke-opacity:0.4; fill:none\" points=\"215.795,1380.7 2020.94,1380.7 \"/>\n",
       "<polyline clip-path=\"url(#clip082)\" style=\"stroke:#000000; stroke-linecap:round; stroke-linejoin:round; stroke-width:2.8; stroke-opacity:0.4; fill:none\" points=\"215.795,1153.02 2020.94,1153.02 \"/>\n",
       "<polyline clip-path=\"url(#clip082)\" style=\"stroke:#000000; stroke-linecap:round; stroke-linejoin:round; stroke-width:2.8; stroke-opacity:0.4; fill:none\" points=\"215.795,925.332 2020.94,925.332 \"/>\n",
       "<polyline clip-path=\"url(#clip082)\" style=\"stroke:#000000; stroke-linecap:round; stroke-linejoin:round; stroke-width:2.8; stroke-opacity:0.4; fill:none\" points=\"215.795,697.647 2020.94,697.647 \"/>\n",
       "<polyline clip-path=\"url(#clip082)\" style=\"stroke:#000000; stroke-linecap:round; stroke-linejoin:round; stroke-width:2.8; stroke-opacity:0.4; fill:none\" points=\"215.795,469.962 2020.94,469.962 \"/>\n",
       "<polyline clip-path=\"url(#clip082)\" style=\"stroke:#000000; stroke-linecap:round; stroke-linejoin:round; stroke-width:2.8; stroke-opacity:0.4; fill:none\" points=\"215.795,242.278 2020.94,242.278 \"/>\n",
       "<polyline clip-path=\"url(#clip082)\" style=\"stroke:#000000; stroke-linecap:round; stroke-linejoin:round; stroke-width:2; stroke-opacity:0.06; fill:none\" points=\"215.795,1335.16 2020.94,1335.16 \"/>\n",
       "<polyline clip-path=\"url(#clip082)\" style=\"stroke:#000000; stroke-linecap:round; stroke-linejoin:round; stroke-width:2; stroke-opacity:0.06; fill:none\" points=\"215.795,1289.63 2020.94,1289.63 \"/>\n",
       "<polyline clip-path=\"url(#clip082)\" style=\"stroke:#000000; stroke-linecap:round; stroke-linejoin:round; stroke-width:2; stroke-opacity:0.06; fill:none\" points=\"215.795,1244.09 2020.94,1244.09 \"/>\n",
       "<polyline clip-path=\"url(#clip082)\" style=\"stroke:#000000; stroke-linecap:round; stroke-linejoin:round; stroke-width:2; stroke-opacity:0.06; fill:none\" points=\"215.795,1198.55 2020.94,1198.55 \"/>\n",
       "<polyline clip-path=\"url(#clip082)\" style=\"stroke:#000000; stroke-linecap:round; stroke-linejoin:round; stroke-width:2; stroke-opacity:0.06; fill:none\" points=\"215.795,1107.48 2020.94,1107.48 \"/>\n",
       "<polyline clip-path=\"url(#clip082)\" style=\"stroke:#000000; stroke-linecap:round; stroke-linejoin:round; stroke-width:2; stroke-opacity:0.06; fill:none\" points=\"215.795,1061.94 2020.94,1061.94 \"/>\n",
       "<polyline clip-path=\"url(#clip082)\" style=\"stroke:#000000; stroke-linecap:round; stroke-linejoin:round; stroke-width:2; stroke-opacity:0.06; fill:none\" points=\"215.795,1016.41 2020.94,1016.41 \"/>\n",
       "<polyline clip-path=\"url(#clip082)\" style=\"stroke:#000000; stroke-linecap:round; stroke-linejoin:round; stroke-width:2; stroke-opacity:0.06; fill:none\" points=\"215.795,970.869 2020.94,970.869 \"/>\n",
       "<polyline clip-path=\"url(#clip082)\" style=\"stroke:#000000; stroke-linecap:round; stroke-linejoin:round; stroke-width:2; stroke-opacity:0.06; fill:none\" points=\"215.795,879.795 2020.94,879.795 \"/>\n",
       "<polyline clip-path=\"url(#clip082)\" style=\"stroke:#000000; stroke-linecap:round; stroke-linejoin:round; stroke-width:2; stroke-opacity:0.06; fill:none\" points=\"215.795,834.258 2020.94,834.258 \"/>\n",
       "<polyline clip-path=\"url(#clip082)\" style=\"stroke:#000000; stroke-linecap:round; stroke-linejoin:round; stroke-width:2; stroke-opacity:0.06; fill:none\" points=\"215.795,788.721 2020.94,788.721 \"/>\n",
       "<polyline clip-path=\"url(#clip082)\" style=\"stroke:#000000; stroke-linecap:round; stroke-linejoin:round; stroke-width:2; stroke-opacity:0.06; fill:none\" points=\"215.795,743.184 2020.94,743.184 \"/>\n",
       "<polyline clip-path=\"url(#clip082)\" style=\"stroke:#000000; stroke-linecap:round; stroke-linejoin:round; stroke-width:2; stroke-opacity:0.06; fill:none\" points=\"215.795,652.11 2020.94,652.11 \"/>\n",
       "<polyline clip-path=\"url(#clip082)\" style=\"stroke:#000000; stroke-linecap:round; stroke-linejoin:round; stroke-width:2; stroke-opacity:0.06; fill:none\" points=\"215.795,606.573 2020.94,606.573 \"/>\n",
       "<polyline clip-path=\"url(#clip082)\" style=\"stroke:#000000; stroke-linecap:round; stroke-linejoin:round; stroke-width:2; stroke-opacity:0.06; fill:none\" points=\"215.795,561.036 2020.94,561.036 \"/>\n",
       "<polyline clip-path=\"url(#clip082)\" style=\"stroke:#000000; stroke-linecap:round; stroke-linejoin:round; stroke-width:2; stroke-opacity:0.06; fill:none\" points=\"215.795,515.499 2020.94,515.499 \"/>\n",
       "<polyline clip-path=\"url(#clip082)\" style=\"stroke:#000000; stroke-linecap:round; stroke-linejoin:round; stroke-width:2; stroke-opacity:0.06; fill:none\" points=\"215.795,424.425 2020.94,424.425 \"/>\n",
       "<polyline clip-path=\"url(#clip082)\" style=\"stroke:#000000; stroke-linecap:round; stroke-linejoin:round; stroke-width:2; stroke-opacity:0.06; fill:none\" points=\"215.795,378.889 2020.94,378.889 \"/>\n",
       "<polyline clip-path=\"url(#clip082)\" style=\"stroke:#000000; stroke-linecap:round; stroke-linejoin:round; stroke-width:2; stroke-opacity:0.06; fill:none\" points=\"215.795,333.352 2020.94,333.352 \"/>\n",
       "<polyline clip-path=\"url(#clip082)\" style=\"stroke:#000000; stroke-linecap:round; stroke-linejoin:round; stroke-width:2; stroke-opacity:0.06; fill:none\" points=\"215.795,287.815 2020.94,287.815 \"/>\n",
       "<polyline clip-path=\"url(#clip082)\" style=\"stroke:#000000; stroke-linecap:round; stroke-linejoin:round; stroke-width:2; stroke-opacity:0.06; fill:none\" points=\"215.795,196.741 2020.94,196.741 \"/>\n",
       "<polyline clip-path=\"url(#clip082)\" style=\"stroke:#000000; stroke-linecap:round; stroke-linejoin:round; stroke-width:2; stroke-opacity:0.06; fill:none\" points=\"215.795,151.204 2020.94,151.204 \"/>\n",
       "<polyline clip-path=\"url(#clip082)\" style=\"stroke:#000000; stroke-linecap:round; stroke-linejoin:round; stroke-width:2; stroke-opacity:0.06; fill:none\" points=\"215.795,105.667 2020.94,105.667 \"/>\n",
       "<polyline clip-path=\"url(#clip082)\" style=\"stroke:#000000; stroke-linecap:round; stroke-linejoin:round; stroke-width:2; stroke-opacity:0.06; fill:none\" points=\"215.795,60.1301 2020.94,60.1301 \"/>\n",
       "<polyline clip-path=\"url(#clip080)\" style=\"stroke:#000000; stroke-linecap:round; stroke-linejoin:round; stroke-width:4; stroke-opacity:1; fill:none\" points=\"215.795,1418.86 215.795,47.2441 \"/>\n",
       "<polyline clip-path=\"url(#clip080)\" style=\"stroke:#000000; stroke-linecap:round; stroke-linejoin:round; stroke-width:4; stroke-opacity:1; fill:none\" points=\"2020.94,1418.86 2020.94,47.2441 \"/>\n",
       "<polyline clip-path=\"url(#clip080)\" style=\"stroke:#000000; stroke-linecap:round; stroke-linejoin:round; stroke-width:4; stroke-opacity:1; fill:none\" points=\"215.795,1380.7 231.758,1380.7 \"/>\n",
       "<polyline clip-path=\"url(#clip080)\" style=\"stroke:#000000; stroke-linecap:round; stroke-linejoin:round; stroke-width:4; stroke-opacity:1; fill:none\" points=\"215.795,1153.02 231.758,1153.02 \"/>\n",
       "<polyline clip-path=\"url(#clip080)\" style=\"stroke:#000000; stroke-linecap:round; stroke-linejoin:round; stroke-width:4; stroke-opacity:1; fill:none\" points=\"215.795,925.332 231.758,925.332 \"/>\n",
       "<polyline clip-path=\"url(#clip080)\" style=\"stroke:#000000; stroke-linecap:round; stroke-linejoin:round; stroke-width:4; stroke-opacity:1; fill:none\" points=\"215.795,697.647 231.758,697.647 \"/>\n",
       "<polyline clip-path=\"url(#clip080)\" style=\"stroke:#000000; stroke-linecap:round; stroke-linejoin:round; stroke-width:4; stroke-opacity:1; fill:none\" points=\"215.795,469.962 231.758,469.962 \"/>\n",
       "<polyline clip-path=\"url(#clip080)\" style=\"stroke:#000000; stroke-linecap:round; stroke-linejoin:round; stroke-width:4; stroke-opacity:1; fill:none\" points=\"215.795,242.278 231.758,242.278 \"/>\n",
       "<polyline clip-path=\"url(#clip080)\" style=\"stroke:#000000; stroke-linecap:round; stroke-linejoin:round; stroke-width:4; stroke-opacity:1; fill:none\" points=\"215.795,1335.16 223.777,1335.16 \"/>\n",
       "<polyline clip-path=\"url(#clip080)\" style=\"stroke:#000000; stroke-linecap:round; stroke-linejoin:round; stroke-width:4; stroke-opacity:1; fill:none\" points=\"215.795,1289.63 223.777,1289.63 \"/>\n",
       "<polyline clip-path=\"url(#clip080)\" style=\"stroke:#000000; stroke-linecap:round; stroke-linejoin:round; stroke-width:4; stroke-opacity:1; fill:none\" points=\"215.795,1244.09 223.777,1244.09 \"/>\n",
       "<polyline clip-path=\"url(#clip080)\" style=\"stroke:#000000; stroke-linecap:round; stroke-linejoin:round; stroke-width:4; stroke-opacity:1; fill:none\" points=\"215.795,1198.55 223.777,1198.55 \"/>\n",
       "<polyline clip-path=\"url(#clip080)\" style=\"stroke:#000000; stroke-linecap:round; stroke-linejoin:round; stroke-width:4; stroke-opacity:1; fill:none\" points=\"215.795,1107.48 223.777,1107.48 \"/>\n",
       "<polyline clip-path=\"url(#clip080)\" style=\"stroke:#000000; stroke-linecap:round; stroke-linejoin:round; stroke-width:4; stroke-opacity:1; fill:none\" points=\"215.795,1061.94 223.777,1061.94 \"/>\n",
       "<polyline clip-path=\"url(#clip080)\" style=\"stroke:#000000; stroke-linecap:round; stroke-linejoin:round; stroke-width:4; stroke-opacity:1; fill:none\" points=\"215.795,1016.41 223.777,1016.41 \"/>\n",
       "<polyline clip-path=\"url(#clip080)\" style=\"stroke:#000000; stroke-linecap:round; stroke-linejoin:round; stroke-width:4; stroke-opacity:1; fill:none\" points=\"215.795,970.869 223.777,970.869 \"/>\n",
       "<polyline clip-path=\"url(#clip080)\" style=\"stroke:#000000; stroke-linecap:round; stroke-linejoin:round; stroke-width:4; stroke-opacity:1; fill:none\" points=\"215.795,879.795 223.777,879.795 \"/>\n",
       "<polyline clip-path=\"url(#clip080)\" style=\"stroke:#000000; stroke-linecap:round; stroke-linejoin:round; stroke-width:4; stroke-opacity:1; fill:none\" points=\"215.795,834.258 223.777,834.258 \"/>\n",
       "<polyline clip-path=\"url(#clip080)\" style=\"stroke:#000000; stroke-linecap:round; stroke-linejoin:round; stroke-width:4; stroke-opacity:1; fill:none\" points=\"215.795,788.721 223.777,788.721 \"/>\n",
       "<polyline clip-path=\"url(#clip080)\" style=\"stroke:#000000; stroke-linecap:round; stroke-linejoin:round; stroke-width:4; stroke-opacity:1; fill:none\" points=\"215.795,743.184 223.777,743.184 \"/>\n",
       "<polyline clip-path=\"url(#clip080)\" style=\"stroke:#000000; stroke-linecap:round; stroke-linejoin:round; stroke-width:4; stroke-opacity:1; fill:none\" points=\"215.795,652.11 223.777,652.11 \"/>\n",
       "<polyline clip-path=\"url(#clip080)\" style=\"stroke:#000000; stroke-linecap:round; stroke-linejoin:round; stroke-width:4; stroke-opacity:1; fill:none\" points=\"215.795,606.573 223.777,606.573 \"/>\n",
       "<polyline clip-path=\"url(#clip080)\" style=\"stroke:#000000; stroke-linecap:round; stroke-linejoin:round; stroke-width:4; stroke-opacity:1; fill:none\" points=\"215.795,561.036 223.777,561.036 \"/>\n",
       "<polyline clip-path=\"url(#clip080)\" style=\"stroke:#000000; stroke-linecap:round; stroke-linejoin:round; stroke-width:4; stroke-opacity:1; fill:none\" points=\"215.795,515.499 223.777,515.499 \"/>\n",
       "<polyline clip-path=\"url(#clip080)\" style=\"stroke:#000000; stroke-linecap:round; stroke-linejoin:round; stroke-width:4; stroke-opacity:1; fill:none\" points=\"215.795,424.425 223.777,424.425 \"/>\n",
       "<polyline clip-path=\"url(#clip080)\" style=\"stroke:#000000; stroke-linecap:round; stroke-linejoin:round; stroke-width:4; stroke-opacity:1; fill:none\" points=\"215.795,378.889 223.777,378.889 \"/>\n",
       "<polyline clip-path=\"url(#clip080)\" style=\"stroke:#000000; stroke-linecap:round; stroke-linejoin:round; stroke-width:4; stroke-opacity:1; fill:none\" points=\"215.795,333.352 223.777,333.352 \"/>\n",
       "<polyline clip-path=\"url(#clip080)\" style=\"stroke:#000000; stroke-linecap:round; stroke-linejoin:round; stroke-width:4; stroke-opacity:1; fill:none\" points=\"215.795,287.815 223.777,287.815 \"/>\n",
       "<polyline clip-path=\"url(#clip080)\" style=\"stroke:#000000; stroke-linecap:round; stroke-linejoin:round; stroke-width:4; stroke-opacity:1; fill:none\" points=\"215.795,196.741 223.777,196.741 \"/>\n",
       "<polyline clip-path=\"url(#clip080)\" style=\"stroke:#000000; stroke-linecap:round; stroke-linejoin:round; stroke-width:4; stroke-opacity:1; fill:none\" points=\"215.795,151.204 223.777,151.204 \"/>\n",
       "<polyline clip-path=\"url(#clip080)\" style=\"stroke:#000000; stroke-linecap:round; stroke-linejoin:round; stroke-width:4; stroke-opacity:1; fill:none\" points=\"215.795,105.667 223.777,105.667 \"/>\n",
       "<polyline clip-path=\"url(#clip080)\" style=\"stroke:#000000; stroke-linecap:round; stroke-linejoin:round; stroke-width:4; stroke-opacity:1; fill:none\" points=\"215.795,60.1301 223.777,60.1301 \"/>\n",
       "<path clip-path=\"url(#clip080)\" d=\"M121.223 1381.8 Q121.223 1374.36 123.101 1370.31 Q125.719 1364.29 131.895 1364.29 Q133.205 1364.29 134.563 1364.66 Q135.947 1365 137.676 1366.36 Q139.43 1367.72 140.492 1369.94 Q142.518 1374.24 142.518 1381.8 Q142.518 1389.19 140.64 1393.21 Q137.898 1399.09 131.846 1399.09 Q129.573 1399.09 127.251 1397.93 Q124.954 1396.77 123.496 1393.98 Q121.223 1389.8 121.223 1381.8 M125.423 1381.18 Q125.423 1388.82 125.966 1391.85 Q126.584 1395.14 128.264 1396.57 Q129.968 1397.98 131.846 1397.98 Q133.872 1397.98 135.551 1396.47 Q137.256 1394.94 137.775 1391.66 Q138.343 1388.42 138.318 1381.18 Q138.318 1374.14 137.824 1371.33 Q137.157 1368.04 135.378 1366.73 Q133.625 1365.4 131.846 1365.4 Q131.179 1365.4 130.462 1365.59 Q129.771 1365.79 128.758 1366.36 Q127.745 1366.93 126.955 1368.34 Q126.189 1369.74 125.818 1371.87 Q125.423 1374.61 125.423 1381.18 Z\" fill=\"#000000\" fill-rule=\"nonzero\" fill-opacity=\"1\" /><path clip-path=\"url(#clip080)\" d=\"M149.608 1397.17 Q148.842 1396.35 148.842 1395.29 Q148.842 1394.23 149.608 1393.46 Q150.373 1392.67 151.534 1392.67 Q152.646 1392.67 153.387 1393.41 Q154.153 1394.13 154.153 1395.31 Q154.153 1396.47 153.338 1397.24 Q152.547 1397.98 151.534 1397.98 Q150.373 1397.98 149.608 1397.17 Z\" fill=\"#000000\" fill-rule=\"nonzero\" fill-opacity=\"1\" /><path clip-path=\"url(#clip080)\" d=\"M163.096 1369.1 L163.096 1367.52 Q169.173 1367.52 172.31 1364.29 Q173.175 1364.29 173.323 1364.48 Q173.471 1364.68 173.471 1365.59 L173.471 1393.98 Q173.471 1395.49 174.212 1395.96 Q174.953 1396.42 178.189 1396.42 L179.795 1396.42 L179.795 1397.98 Q178.016 1397.83 171.594 1397.83 Q165.171 1397.83 163.417 1397.98 L163.417 1396.42 L165.022 1396.42 Q168.209 1396.42 168.975 1395.98 Q169.741 1395.51 169.741 1393.98 L169.741 1367.77 Q167.098 1369.1 163.096 1369.1 Z\" fill=\"#000000\" fill-rule=\"nonzero\" fill-opacity=\"1\" /><path clip-path=\"url(#clip080)\" d=\"M119.692 1154.12 Q119.692 1146.68 121.569 1142.63 Q124.188 1136.6 130.364 1136.6 Q131.673 1136.6 133.032 1136.97 Q134.415 1137.32 136.144 1138.68 Q137.898 1140.03 138.96 1142.26 Q140.986 1146.56 140.986 1154.12 Q140.986 1161.5 139.109 1165.53 Q136.367 1171.41 130.314 1171.41 Q128.042 1171.41 125.719 1170.25 Q123.422 1169.09 121.965 1166.29 Q119.692 1162.12 119.692 1154.12 M123.891 1153.5 Q123.891 1161.13 124.435 1164.17 Q125.052 1167.46 126.732 1168.89 Q128.437 1170.3 130.314 1170.3 Q132.34 1170.3 134.02 1168.79 Q135.724 1167.26 136.243 1163.97 Q136.811 1160.74 136.787 1153.5 Q136.787 1146.46 136.292 1143.64 Q135.625 1140.36 133.847 1139.05 Q132.093 1137.71 130.314 1137.71 Q129.647 1137.71 128.931 1137.91 Q128.239 1138.11 127.226 1138.68 Q126.213 1139.24 125.423 1140.65 Q124.657 1142.06 124.287 1144.18 Q123.891 1146.93 123.891 1153.5 Z\" fill=\"#000000\" fill-rule=\"nonzero\" fill-opacity=\"1\" /><path clip-path=\"url(#clip080)\" d=\"M148.076 1169.48 Q147.31 1168.67 147.31 1167.6 Q147.31 1166.54 148.076 1165.78 Q148.842 1164.98 150.003 1164.98 Q151.114 1164.98 151.856 1165.73 Q152.621 1166.44 152.621 1167.63 Q152.621 1168.79 151.806 1169.56 Q151.016 1170.3 150.003 1170.3 Q148.842 1170.3 148.076 1169.48 Z\" fill=\"#000000\" fill-rule=\"nonzero\" fill-opacity=\"1\" /><path clip-path=\"url(#clip080)\" d=\"M159.588 1170.3 Q159.588 1169.38 159.662 1169.11 Q159.761 1168.84 160.156 1168.42 L169.864 1157.6 Q175.176 1151.62 175.176 1146.41 Q175.176 1143.02 173.397 1140.6 Q171.643 1138.18 168.407 1138.18 Q166.184 1138.18 164.306 1139.54 Q162.429 1140.9 161.564 1143.32 Q161.712 1143.27 162.231 1143.27 Q163.491 1143.27 164.183 1144.06 Q164.899 1144.85 164.899 1145.91 Q164.899 1147.27 164.01 1147.94 Q163.145 1148.58 162.28 1148.58 Q161.935 1148.58 161.465 1148.51 Q161.021 1148.43 160.304 1147.74 Q159.588 1147.03 159.588 1145.77 Q159.588 1142.23 162.256 1139.42 Q164.948 1136.6 169.049 1136.6 Q173.693 1136.6 176.732 1139.37 Q179.795 1142.11 179.795 1146.41 Q179.795 1147.91 179.326 1149.3 Q178.881 1150.66 178.263 1151.72 Q177.671 1152.78 176.04 1154.49 Q174.41 1156.19 173.1 1157.4 Q171.791 1158.61 168.851 1161.18 L163.491 1166.39 L172.606 1166.39 Q177.053 1166.39 177.399 1166 Q177.893 1165.28 178.511 1161.5 L179.795 1161.5 L178.362 1170.3 L159.588 1170.3 Z\" fill=\"#000000\" fill-rule=\"nonzero\" fill-opacity=\"1\" /><path clip-path=\"url(#clip080)\" d=\"M119.297 926.431 Q119.297 918.995 121.174 914.944 Q123.793 908.916 129.968 908.916 Q131.278 908.916 132.636 909.287 Q134.02 909.633 135.749 910.991 Q137.503 912.35 138.565 914.573 Q140.591 918.872 140.591 926.431 Q140.591 933.817 138.713 937.844 Q135.971 943.723 129.919 943.723 Q127.646 943.723 125.324 942.562 Q123.027 941.401 121.569 938.61 Q119.297 934.435 119.297 926.431 M123.496 925.813 Q123.496 933.447 124.04 936.485 Q124.657 939.771 126.337 941.204 Q128.042 942.612 129.919 942.612 Q131.945 942.612 133.625 941.105 Q135.329 939.573 135.848 936.288 Q136.416 933.051 136.391 925.813 Q136.391 918.773 135.897 915.957 Q135.23 912.671 133.452 911.362 Q131.698 910.028 129.919 910.028 Q129.252 910.028 128.536 910.226 Q127.844 910.423 126.831 910.991 Q125.818 911.559 125.028 912.968 Q124.262 914.376 123.891 916.5 Q123.496 919.242 123.496 925.813 Z\" fill=\"#000000\" fill-rule=\"nonzero\" fill-opacity=\"1\" /><path clip-path=\"url(#clip080)\" d=\"M147.681 941.796 Q146.915 940.981 146.915 939.919 Q146.915 938.857 147.681 938.091 Q148.447 937.3 149.608 937.3 Q150.719 937.3 151.46 938.041 Q152.226 938.758 152.226 939.944 Q152.226 941.105 151.411 941.871 Q150.62 942.612 149.608 942.612 Q148.447 942.612 147.681 941.796 Z\" fill=\"#000000\" fill-rule=\"nonzero\" fill-opacity=\"1\" /><path clip-path=\"url(#clip080)\" d=\"M158.797 935.793 Q158.797 934.287 159.662 933.57 Q160.526 932.854 161.638 932.854 Q162.799 932.854 163.614 933.62 Q164.454 934.361 164.454 935.67 Q164.454 937.078 163.466 937.869 Q162.503 938.659 161.119 938.461 Q162.33 940.487 164.553 941.401 Q166.801 942.315 168.876 942.315 Q171.05 942.315 172.804 940.438 Q174.583 938.56 174.583 933.965 Q174.583 930.062 173.051 927.814 Q171.544 925.566 168.555 925.566 L166.332 925.566 Q165.566 925.566 165.344 925.492 Q165.121 925.418 165.121 924.998 Q165.121 924.504 165.887 924.405 Q166.653 924.405 167.863 924.257 Q170.803 924.158 172.359 921.614 Q173.767 919.242 173.767 915.858 Q173.767 912.77 172.285 911.485 Q170.828 910.176 168.926 910.176 Q167.147 910.176 165.195 910.917 Q163.244 911.658 162.182 913.313 Q165.319 913.313 165.319 915.858 Q165.319 916.97 164.603 917.711 Q163.911 918.427 162.75 918.427 Q161.638 918.427 160.897 917.735 Q160.156 917.019 160.156 915.808 Q160.156 912.918 162.725 910.917 Q165.319 908.916 169.123 908.916 Q172.878 908.916 175.645 910.892 Q178.436 912.869 178.436 915.907 Q178.436 918.896 176.46 921.342 Q174.484 923.788 171.347 924.8 Q175.2 925.566 177.498 928.185 Q179.795 930.779 179.795 933.965 Q179.795 937.918 176.682 940.833 Q173.57 943.723 169.024 943.723 Q164.825 943.723 161.811 941.451 Q158.797 939.178 158.797 935.793 Z\" fill=\"#000000\" fill-rule=\"nonzero\" fill-opacity=\"1\" /><path clip-path=\"url(#clip080)\" d=\"M118.58 698.746 Q118.58 691.311 120.458 687.259 Q123.076 681.232 129.252 681.232 Q130.561 681.232 131.92 681.602 Q133.303 681.948 135.033 683.307 Q136.787 684.665 137.849 686.889 Q139.874 691.187 139.874 698.746 Q139.874 706.133 137.997 710.159 Q135.255 716.039 129.203 716.039 Q126.93 716.039 124.608 714.878 Q122.31 713.717 120.853 710.925 Q118.58 706.75 118.58 698.746 M122.78 698.129 Q122.78 705.762 123.323 708.801 Q123.941 712.086 125.621 713.519 Q127.325 714.927 129.203 714.927 Q131.228 714.927 132.908 713.42 Q134.613 711.888 135.131 708.603 Q135.7 705.367 135.675 698.129 Q135.675 691.088 135.181 688.272 Q134.514 684.987 132.735 683.677 Q130.981 682.343 129.203 682.343 Q128.536 682.343 127.819 682.541 Q127.128 682.739 126.115 683.307 Q125.102 683.875 124.311 685.283 Q123.546 686.691 123.175 688.816 Q122.78 691.558 122.78 698.129 Z\" fill=\"#000000\" fill-rule=\"nonzero\" fill-opacity=\"1\" /><path clip-path=\"url(#clip080)\" d=\"M146.964 714.112 Q146.199 713.297 146.199 712.234 Q146.199 711.172 146.964 710.406 Q147.73 709.616 148.891 709.616 Q150.003 709.616 150.744 710.357 Q151.51 711.073 151.51 712.259 Q151.51 713.42 150.695 714.186 Q149.904 714.927 148.891 714.927 Q147.73 714.927 146.964 714.112 Z\" fill=\"#000000\" fill-rule=\"nonzero\" fill-opacity=\"1\" /><path clip-path=\"url(#clip080)\" d=\"M157.364 706.577 L157.364 705.021 L172.903 681.281 Q173.298 680.663 173.916 680.688 Q174.484 680.688 174.607 680.91 Q174.731 681.133 174.731 681.997 L174.731 705.021 L179.795 705.021 L179.795 706.577 L174.731 706.577 L174.731 710.974 Q174.731 712.432 175.324 712.901 Q175.941 713.371 178.56 713.371 L179.622 713.371 L179.622 714.927 Q177.547 714.779 172.755 714.779 Q167.987 714.779 165.912 714.927 L165.912 713.371 L166.974 713.371 Q169.593 713.371 170.21 712.926 Q170.828 712.457 170.828 710.974 L170.828 706.577 L157.364 706.577 M158.797 705.021 L171.124 705.021 L171.124 686.148 L158.797 705.021 Z\" fill=\"#000000\" fill-rule=\"nonzero\" fill-opacity=\"1\" /><path clip-path=\"url(#clip080)\" d=\"M119.692 471.062 Q119.692 463.626 121.569 459.575 Q124.188 453.547 130.364 453.547 Q131.673 453.547 133.032 453.918 Q134.415 454.263 136.144 455.622 Q137.898 456.981 138.96 459.204 Q140.986 463.502 140.986 471.062 Q140.986 478.448 139.109 482.475 Q136.367 488.354 130.314 488.354 Q128.042 488.354 125.719 487.193 Q123.422 486.032 121.965 483.24 Q119.692 479.066 119.692 471.062 M123.891 470.444 Q123.891 478.077 124.435 481.116 Q125.052 484.402 126.732 485.834 Q128.437 487.242 130.314 487.242 Q132.34 487.242 134.02 485.736 Q135.724 484.204 136.243 480.918 Q136.811 477.682 136.787 470.444 Q136.787 463.404 136.292 460.587 Q135.625 457.302 133.847 455.993 Q132.093 454.659 130.314 454.659 Q129.647 454.659 128.931 454.856 Q128.239 455.054 127.226 455.622 Q126.213 456.19 125.423 457.598 Q124.657 459.006 124.287 461.131 Q123.891 463.873 123.891 470.444 Z\" fill=\"#000000\" fill-rule=\"nonzero\" fill-opacity=\"1\" /><path clip-path=\"url(#clip080)\" d=\"M148.076 486.427 Q147.31 485.612 147.31 484.55 Q147.31 483.488 148.076 482.722 Q148.842 481.931 150.003 481.931 Q151.114 481.931 151.856 482.672 Q152.621 483.389 152.621 484.574 Q152.621 485.736 151.806 486.501 Q151.016 487.242 150.003 487.242 Q148.842 487.242 148.076 486.427 Z\" fill=\"#000000\" fill-rule=\"nonzero\" fill-opacity=\"1\" /><path clip-path=\"url(#clip080)\" d=\"M159.588 479.09 Q159.588 477.583 160.403 477.015 Q161.218 476.422 162.083 476.422 Q163.244 476.422 163.911 477.163 Q164.603 477.88 164.603 478.893 Q164.603 479.906 163.911 480.647 Q163.244 481.363 162.083 481.363 Q161.515 481.363 161.218 481.264 Q161.885 483.586 163.911 485.266 Q165.961 486.946 168.654 486.946 Q172.038 486.946 174.064 483.66 Q175.274 481.536 175.274 476.719 Q175.274 472.47 174.36 470.345 Q172.952 467.109 170.062 467.109 Q165.961 467.109 163.54 470.642 Q163.244 471.086 162.898 471.111 Q162.404 471.111 162.28 470.839 Q162.182 470.543 162.182 469.777 L162.182 454.807 Q162.182 453.596 162.676 453.596 Q162.873 453.596 163.293 453.745 Q166.48 455.153 170.013 455.177 Q173.644 455.177 176.905 453.695 Q177.152 453.547 177.3 453.547 Q177.794 453.547 177.819 454.115 Q177.819 454.313 177.399 454.906 Q177.004 455.474 176.139 456.24 Q175.274 456.981 174.163 457.697 Q173.051 458.414 171.421 458.908 Q169.815 459.377 168.036 459.377 Q165.912 459.377 163.738 458.71 L163.738 468.567 Q166.356 465.998 170.161 465.998 Q174.212 465.998 177.004 469.258 Q179.795 472.519 179.795 477.065 Q179.795 481.832 176.485 485.093 Q173.199 488.354 168.753 488.354 Q164.701 488.354 162.132 485.464 Q159.588 482.573 159.588 479.09 Z\" fill=\"#000000\" fill-rule=\"nonzero\" fill-opacity=\"1\" /><path clip-path=\"url(#clip080)\" d=\"M119.297 243.377 Q119.297 235.941 121.174 231.89 Q123.793 225.862 129.968 225.862 Q131.278 225.862 132.636 226.233 Q134.02 226.579 135.749 227.938 Q137.503 229.296 138.565 231.519 Q140.591 235.818 140.591 243.377 Q140.591 250.763 138.713 254.79 Q135.971 260.669 129.919 260.669 Q127.646 260.669 125.324 259.508 Q123.027 258.347 121.569 255.556 Q119.297 251.381 119.297 243.377 M123.496 242.76 Q123.496 250.393 124.04 253.431 Q124.657 256.717 126.337 258.15 Q128.042 259.558 129.919 259.558 Q131.945 259.558 133.625 258.051 Q135.329 256.519 135.848 253.234 Q136.416 249.998 136.391 242.76 Q136.391 235.719 135.897 232.903 Q135.23 229.617 133.452 228.308 Q131.698 226.974 129.919 226.974 Q129.252 226.974 128.536 227.172 Q127.844 227.369 126.831 227.938 Q125.818 228.506 125.028 229.914 Q124.262 231.322 123.891 233.446 Q123.496 236.188 123.496 242.76 Z\" fill=\"#000000\" fill-rule=\"nonzero\" fill-opacity=\"1\" /><path clip-path=\"url(#clip080)\" d=\"M147.681 258.743 Q146.915 257.927 146.915 256.865 Q146.915 255.803 147.681 255.037 Q148.447 254.247 149.608 254.247 Q150.719 254.247 151.46 254.988 Q152.226 255.704 152.226 256.89 Q152.226 258.051 151.411 258.817 Q150.62 259.558 149.608 259.558 Q148.447 259.558 147.681 258.743 Z\" fill=\"#000000\" fill-rule=\"nonzero\" fill-opacity=\"1\" /><path clip-path=\"url(#clip080)\" d=\"M158.797 243.575 Q158.797 235.62 162.849 230.754 Q166.9 225.862 172.112 225.862 Q175.151 225.862 176.831 227.419 Q178.535 228.95 178.535 231.322 Q178.535 232.631 177.769 233.199 Q177.004 233.768 176.213 233.768 Q175.299 233.768 174.583 233.15 Q173.866 232.532 173.866 231.421 Q173.866 229.148 176.658 229.148 Q175.348 227.122 172.211 227.122 Q171.248 227.122 170.26 227.419 Q169.271 227.69 167.987 228.629 Q166.702 229.568 165.714 231.05 Q164.726 232.532 164.034 235.324 Q163.343 238.115 163.343 241.747 L163.343 242.957 Q165.418 237.942 169.667 237.967 Q173.916 237.967 176.855 241.203 Q179.795 244.439 179.795 249.232 Q179.795 254.148 176.732 257.409 Q173.669 260.669 169.37 260.669 Q167.443 260.669 165.689 259.854 Q163.96 259.064 162.33 257.236 Q160.724 255.408 159.761 251.9 Q158.797 248.392 158.797 243.575 M163.441 248.12 Q163.441 253.086 164.355 255.457 Q164.504 255.852 164.825 256.396 Q165.171 256.939 165.739 257.656 Q166.332 258.347 167.295 258.817 Q168.259 259.261 169.37 259.261 Q172.755 259.261 174.385 255.976 Q175.25 254.148 175.25 249.182 Q175.25 244.118 174.336 242.265 Q172.779 239.128 169.617 239.128 Q167.493 239.128 166.011 240.586 Q164.553 242.043 163.985 243.995 Q163.441 245.946 163.441 248.12 Z\" fill=\"#000000\" fill-rule=\"nonzero\" fill-opacity=\"1\" /><path clip-path=\"url(#clip080)\" d=\"M41.312 1091.45 Q29.7137 1091.45 21.6357 1084.04 Q13.5207 1076.59 13.5207 1066.25 Q13.5207 1055.84 21.6357 1048.43 Q29.7508 1040.98 41.312 1040.98 Q52.762 1040.98 60.7288 1048.43 Q68.6956 1055.88 68.6956 1066.25 Q68.6956 1076.48 60.7659 1083.96 Q52.8361 1091.45 41.312 1091.45 M40.2374 1083.63 Q47.2778 1083.63 52.6879 1081.96 Q58.0608 1080.29 60.9882 1077.63 Q63.9155 1074.92 65.3236 1072.03 Q66.7317 1069.14 66.7317 1066.18 Q66.7317 1063.29 65.3607 1060.47 Q63.9896 1057.62 61.0994 1054.91 Q58.2091 1052.21 52.799 1050.5 Q47.389 1048.8 40.2374 1048.8 Q34.6791 1048.8 30.2325 1049.98 Q25.7488 1051.17 23.0438 1053.02 Q20.3388 1054.87 18.5602 1057.28 Q16.7815 1059.66 16.1145 1061.92 Q15.4105 1064.14 15.4105 1066.25 Q15.4105 1068.92 16.5962 1071.7 Q17.782 1074.48 20.4129 1077.29 Q23.0068 1080.07 28.1574 1081.85 Q33.271 1083.63 40.2374 1083.63 Z\" fill=\"#000000\" fill-rule=\"nonzero\" fill-opacity=\"1\" /><path clip-path=\"url(#clip080)\" d=\"M36.6801 1034.24 L34.3086 1034.24 L34.3086 1028.27 L25.6006 1028.27 Q19.9683 1028.27 16.7445 1024.64 Q13.5207 1020.97 13.5207 1016.49 Q13.5207 1013.52 15.114 1011.59 Q16.7074 1009.67 18.8566 1009.67 Q20.3018 1009.67 21.2652 1010.56 Q22.1916 1011.41 22.1916 1013 Q22.1916 1014.52 21.2281 1015.41 Q20.2647 1016.26 18.9307 1016.26 Q16.4851 1016.26 15.744 1014 Q15.2252 1015.15 15.1882 1016.49 Q15.1882 1019.23 18.0043 1021.38 Q20.8205 1023.49 25.5265 1023.49 L34.3086 1023.49 L34.3086 1014.6 L36.6801 1014.6 L36.6801 1023.23 L61.0994 1023.23 Q63.2856 1023.23 63.9896 1022.34 Q64.6937 1021.41 64.6937 1017.49 L64.6937 1015.89 L67.0282 1015.89 Q66.8058 1018.93 66.8058 1025.53 Q66.8058 1026.45 66.8429 1027.9 Q66.8799 1029.31 66.954 1031.23 Q67.0282 1033.12 67.0282 1034.16 L64.6937 1034.16 Q64.6937 1030.12 64.212 1029.2 Q63.6932 1028.27 61.2476 1028.27 L36.6801 1028.27 L36.6801 1034.24 Z\" fill=\"#000000\" fill-rule=\"nonzero\" fill-opacity=\"1\" /><path clip-path=\"url(#clip080)\" d=\"M36.6801 1011.11 L34.3086 1011.11 L34.3086 1005.15 L25.6006 1005.15 Q19.9683 1005.15 16.7445 1001.52 Q13.5207 997.847 13.5207 993.364 Q13.5207 990.399 15.114 988.472 Q16.7074 986.545 18.8566 986.545 Q20.3018 986.545 21.2652 987.435 Q22.1916 988.287 22.1916 989.88 Q22.1916 991.4 21.2281 992.289 Q20.2647 993.141 18.9307 993.141 Q16.4851 993.141 15.744 990.881 Q15.2252 992.03 15.1882 993.364 Q15.1882 996.106 18.0043 998.255 Q20.8205 1000.37 25.5265 1000.37 L34.3086 1000.37 L34.3086 991.474 L36.6801 991.474 L36.6801 1000.11 L61.0994 1000.11 Q63.2856 1000.11 63.9896 999.218 Q64.6937 998.292 64.6937 994.364 L64.6937 992.771 L67.0282 992.771 Q66.8058 995.809 66.8058 1002.41 Q66.8058 1003.33 66.8429 1004.78 Q66.8799 1006.18 66.954 1008.11 Q67.0282 1010 67.0282 1011.04 L64.6937 1011.04 Q64.6937 1007 64.212 1006.07 Q63.6932 1005.15 61.2476 1005.15 L36.6801 1005.15 L36.6801 1011.11 Z\" fill=\"#000000\" fill-rule=\"nonzero\" fill-opacity=\"1\" /><path clip-path=\"url(#clip080)\" d=\"M36.6801 989.065 L35.0126 989.065 Q34.8644 985.582 32.4188 983.285 Q29.9361 980.95 26.8975 980.172 Q23.859 979.357 20.3388 979.283 L20.3388 977.393 L34.3086 977.393 L34.3086 966.536 L36.6801 966.536 L36.6801 977.393 L57.7644 977.393 Q65.9536 977.393 65.9536 972.279 Q65.9536 970.093 63.7303 968.648 Q61.4699 967.203 57.468 967.203 L53.2807 967.203 L53.2807 965.313 L57.6162 965.313 Q61.7293 965.313 64.8049 967.203 Q67.8804 969.093 67.8804 972.835 Q67.8804 974.206 67.5099 975.577 Q67.1764 976.911 66.2871 978.69 Q65.3607 980.431 63.1374 981.543 Q60.877 982.618 57.6162 982.618 L36.6801 982.618 L36.6801 989.065 Z\" fill=\"#000000\" fill-rule=\"nonzero\" fill-opacity=\"1\" /><path clip-path=\"url(#clip080)\" d=\"M59.8024 957.902 Q53.3548 957.902 49.9458 950.306 Q47.7595 945.748 47.2037 936.336 L44.4246 936.336 Q39.7186 936.336 37.2359 938.819 Q34.7162 941.264 34.7162 944.377 Q34.7162 949.935 38.1993 952.603 Q38.2734 950.343 39.4222 949.528 Q40.5338 948.712 41.6825 948.712 Q43.2018 948.712 44.2023 949.676 Q45.1657 950.602 45.1657 952.195 Q45.1657 953.715 44.2393 954.715 Q43.2759 955.716 41.6084 955.716 Q37.9029 955.716 35.4573 952.381 Q33.0116 949.009 33.0116 944.229 Q33.0116 938.003 37.1989 933.853 Q38.4958 932.556 40.1633 931.926 Q41.8307 931.259 42.9424 931.185 Q44.017 931.111 46.1662 931.111 L61.3217 931.111 Q61.7663 931.111 62.5074 930.963 Q63.2485 930.815 64.212 930.148 Q65.1384 929.444 65.1384 928.295 Q65.1384 925.553 60.2841 925.59 L56.0228 925.59 L56.0228 923.663 L60.2841 923.663 Q64.3231 923.663 65.9165 925.812 Q67.4728 927.924 67.4728 929.888 Q67.4728 932.408 65.6201 934.001 Q63.7673 935.595 61.2476 935.817 Q64.1379 936.966 66.0277 939.597 Q67.8804 942.191 67.8804 945.748 Q67.8804 948.49 67.1764 951.084 Q66.5094 953.641 64.6196 955.79 Q62.6927 957.902 59.8024 957.902 M59.7283 952.047 Q62.5445 952.047 64.3602 950.046 Q66.1759 948.045 66.1759 945.229 Q66.1759 942.042 63.7303 939.189 Q61.2476 936.336 56.3934 936.336 L48.7971 936.336 Q49.0935 944.747 52.4655 948.416 Q55.8005 952.047 59.7283 952.047 Z\" fill=\"#000000\" fill-rule=\"nonzero\" fill-opacity=\"1\" /><path clip-path=\"url(#clip080)\" d=\"M67.0282 921.032 L64.6937 921.032 Q64.6937 916.993 64.212 916.067 Q63.6932 915.103 61.2476 915.103 L21.784 915.103 Q18.9678 915.103 18.2637 916.104 Q17.5597 917.067 17.5597 921.032 L15.1882 921.032 L14.3729 910.101 L50.7981 910.101 L41.5343 899.392 Q40.0891 897.725 38.5699 897.725 Q36.8283 897.725 36.6801 899.911 L34.3086 899.911 Q34.5309 896.724 34.5309 891.425 Q34.5309 888.313 34.3086 886.126 L36.6801 886.126 Q36.9024 890.906 40.7561 895.687 Q41.6084 896.761 43.8317 899.318 Q46.018 901.838 46.2403 901.838 Q46.3144 901.838 46.4997 901.764 Q46.6849 901.652 46.8332 901.504 Q46.9814 901.356 47.0555 901.356 L60.6547 891.722 Q63.3968 889.758 64.0638 888.313 Q64.6937 886.867 64.6937 884.348 L67.0282 884.348 Q66.8058 887.609 66.8058 890.981 Q66.8058 892.796 67.0282 899.17 L64.6937 899.17 Q64.6937 896.428 62.915 896.428 Q61.6922 896.428 53.2066 902.579 Q52.6137 903.023 51.3168 904.024 Q49.9458 904.95 49.2788 905.469 L53.429 910.323 L61.2476 910.323 Q63.6932 910.323 64.212 909.397 Q64.6937 908.433 64.6937 904.394 L67.0282 904.394 Q66.8058 908.952 66.8058 912.732 Q66.8058 913.51 67.0282 921.032 Z\" fill=\"#000000\" fill-rule=\"nonzero\" fill-opacity=\"1\" /><path clip-path=\"url(#clip080)\" d=\"M50.3163 883.162 Q43.1647 883.162 38.0882 878.567 Q33.0116 873.972 33.0116 867.376 Q33.0116 860.707 37.3471 857.26 Q41.6825 853.777 47.9078 853.777 Q49.0565 853.777 49.2788 854.074 Q49.5011 854.37 49.5011 855.667 L49.5011 876.863 Q57.2456 876.863 60.877 874.565 Q65.9536 871.378 65.9536 866.005 Q65.9536 865.264 65.8053 864.375 Q65.6571 863.486 65.0272 861.67 Q64.3602 859.854 62.6186 858.261 Q60.877 856.668 58.1349 855.741 Q57.0604 855.519 57.0974 854.778 Q57.0974 853.777 57.9867 853.777 Q58.6537 853.777 60.173 854.518 Q61.6552 855.222 63.4338 856.593 Q65.2125 857.965 66.5464 860.632 Q67.8804 863.263 67.8804 866.45 Q67.8804 873.12 62.8409 878.16 Q57.7644 883.162 50.3163 883.162 M47.9078 876.788 L47.9078 858.78 Q46.3144 858.78 44.5357 859.076 Q42.7571 859.336 40.3115 860.151 Q37.8288 860.929 36.2725 862.782 Q34.7162 864.634 34.7162 867.376 Q34.7162 868.599 35.2349 869.933 Q35.7537 871.23 37.0136 872.824 Q38.2734 874.417 41.1267 875.529 Q43.9799 876.64 47.9078 876.788 Z\" fill=\"#000000\" fill-rule=\"nonzero\" fill-opacity=\"1\" /><path clip-path=\"url(#clip080)\" d=\"M67.0282 849.479 L64.6937 849.479 Q64.6937 845.44 64.212 844.514 Q63.6932 843.55 61.2476 843.55 L40.9044 843.55 Q38.0882 843.55 37.3841 844.551 Q36.6801 845.514 36.6801 849.479 L34.3086 849.479 L33.4933 838.918 L41.8307 838.918 Q38.5699 837.844 36.0501 835.583 Q33.4933 833.286 33.4933 829.58 Q33.4933 827.135 34.8644 825.578 Q36.2354 823.985 38.1252 823.985 Q39.7927 823.985 40.645 825.023 Q41.4602 826.023 41.4602 827.246 Q41.4602 828.617 40.6079 829.58 Q39.7186 830.507 38.1993 830.507 Q37.273 830.507 36.5689 830.099 Q35.8278 829.654 35.5684 829.321 Q35.309 828.987 35.2349 828.765 Q35.1608 828.913 35.1608 829.58 Q35.1608 833.768 39.348 836.176 Q43.4982 838.548 49.427 838.548 L61.0994 838.548 Q63.2856 838.548 63.9896 837.658 Q64.6937 836.732 64.6937 832.767 L64.6937 831.174 L67.0282 831.174 Q66.8058 834.212 66.8058 840.808 Q66.8058 841.734 66.8429 843.18 Q66.8799 844.625 66.954 846.514 Q67.0282 848.404 67.0282 849.479 Z\" fill=\"#000000\" fill-rule=\"nonzero\" fill-opacity=\"1\" /><path clip-path=\"url(#clip080)\" d=\"M67.0282 794.6 L64.6937 794.6 Q64.6937 790.561 64.212 789.635 Q63.6932 788.672 61.2476 788.672 L40.9044 788.672 Q38.0882 788.672 37.3841 789.672 Q36.6801 790.635 36.6801 794.6 L34.3086 794.6 L33.4933 784.04 L41.8307 784.04 Q38.5699 782.965 36.0501 780.705 Q33.4933 778.407 33.4933 774.702 Q33.4933 772.256 34.8644 770.7 Q36.2354 769.107 38.1252 769.107 Q39.7927 769.107 40.645 770.144 Q41.4602 771.145 41.4602 772.367 Q41.4602 773.738 40.6079 774.702 Q39.7186 775.628 38.1993 775.628 Q37.273 775.628 36.5689 775.221 Q35.8278 774.776 35.5684 774.442 Q35.309 774.109 35.2349 773.887 Q35.1608 774.035 35.1608 774.702 Q35.1608 778.889 39.348 781.298 Q43.4982 783.669 49.427 783.669 L61.0994 783.669 Q63.2856 783.669 63.9896 782.78 Q64.6937 781.853 64.6937 777.889 L64.6937 776.295 L67.0282 776.295 Q66.8058 779.334 66.8058 785.93 Q66.8058 786.856 66.8429 788.301 Q66.8799 789.746 66.954 791.636 Q67.0282 793.526 67.0282 794.6 Z\" fill=\"#000000\" fill-rule=\"nonzero\" fill-opacity=\"1\" /><path clip-path=\"url(#clip080)\" d=\"M59.8024 763.882 Q53.3548 763.882 49.9458 756.285 Q47.7595 751.728 47.2037 742.316 L44.4246 742.316 Q39.7186 742.316 37.2359 744.798 Q34.7162 747.244 34.7162 750.357 Q34.7162 755.915 38.1993 758.583 Q38.2734 756.323 39.4222 755.507 Q40.5338 754.692 41.6825 754.692 Q43.2018 754.692 44.2023 755.656 Q45.1657 756.582 45.1657 758.175 Q45.1657 759.695 44.2393 760.695 Q43.2759 761.696 41.6084 761.696 Q37.9029 761.696 35.4573 758.361 Q33.0116 754.989 33.0116 750.208 Q33.0116 743.983 37.1989 739.833 Q38.4958 738.536 40.1633 737.906 Q41.8307 737.239 42.9424 737.165 Q44.017 737.091 46.1662 737.091 L61.3217 737.091 Q61.7663 737.091 62.5074 736.943 Q63.2485 736.795 64.212 736.128 Q65.1384 735.423 65.1384 734.275 Q65.1384 731.533 60.2841 731.57 L56.0228 731.57 L56.0228 729.643 L60.2841 729.643 Q64.3231 729.643 65.9165 731.792 Q67.4728 733.904 67.4728 735.868 Q67.4728 738.388 65.6201 739.981 Q63.7673 741.575 61.2476 741.797 Q64.1379 742.946 66.0277 745.577 Q67.8804 748.17 67.8804 751.728 Q67.8804 754.47 67.1764 757.064 Q66.5094 759.62 64.6196 761.77 Q62.6927 763.882 59.8024 763.882 M59.7283 758.027 Q62.5445 758.027 64.3602 756.026 Q66.1759 754.025 66.1759 751.209 Q66.1759 748.022 63.7303 745.169 Q61.2476 742.316 56.3934 742.316 L48.7971 742.316 Q49.0935 750.727 52.4655 754.396 Q55.8005 758.027 59.7283 758.027 Z\" fill=\"#000000\" fill-rule=\"nonzero\" fill-opacity=\"1\" /><path clip-path=\"url(#clip080)\" d=\"M36.6801 727.679 L35.0126 727.679 Q34.8644 724.196 32.4188 721.898 Q29.9361 719.564 26.8975 718.786 Q23.859 717.971 20.3388 717.896 L20.3388 716.007 L34.3086 716.007 L34.3086 705.15 L36.6801 705.15 L36.6801 716.007 L57.7644 716.007 Q65.9536 716.007 65.9536 710.893 Q65.9536 708.707 63.7303 707.262 Q61.4699 705.817 57.468 705.817 L53.2807 705.817 L53.2807 703.927 L57.6162 703.927 Q61.7293 703.927 64.8049 705.817 Q67.8804 707.706 67.8804 711.449 Q67.8804 712.82 67.5099 714.191 Q67.1764 715.525 66.2871 717.304 Q65.3607 719.045 63.1374 720.157 Q60.877 721.231 57.6162 721.231 L36.6801 721.231 L36.6801 727.679 Z\" fill=\"#000000\" fill-rule=\"nonzero\" fill-opacity=\"1\" /><path clip-path=\"url(#clip080)\" d=\"M67.0282 697.183 L64.6937 697.183 Q64.6937 693.144 64.212 692.217 Q63.6932 691.291 61.2476 691.291 L40.8302 691.291 Q38.0141 691.291 37.3471 692.254 Q36.6801 693.181 36.6801 696.886 L34.3086 696.886 L33.4933 686.289 L61.3217 686.289 Q63.582 686.289 64.1379 685.473 Q64.6937 684.658 64.6937 680.953 L67.0282 680.953 Q66.8058 688.697 66.8058 688.845 Q66.8058 689.883 67.0282 697.183 M20.2647 693.996 Q18.7454 693.996 17.5226 692.847 Q16.2628 691.661 16.2628 689.994 Q16.2628 688.327 17.4115 687.141 Q18.5231 685.955 20.3018 685.955 Q22.0433 685.955 23.192 687.141 Q24.3037 688.327 24.3037 689.994 Q24.3037 691.736 23.0809 692.884 Q21.8581 693.996 20.2647 693.996 Z\" fill=\"#000000\" fill-rule=\"nonzero\" fill-opacity=\"1\" /><path clip-path=\"url(#clip080)\" d=\"M67.0282 676.247 L64.6937 676.247 Q64.6937 672.208 64.212 671.281 Q63.6932 670.355 61.2476 670.355 L40.9044 670.355 Q38.0882 670.355 37.3841 671.355 Q36.6801 672.319 36.6801 676.247 L34.3086 676.247 L33.4933 665.575 L41.4602 665.575 Q33.4933 662.017 33.4933 654.347 Q33.4933 648.641 36.3095 646.38 Q38.1993 644.713 40.3115 644.379 Q42.4236 644.009 47.9078 644.009 L62.3963 644.009 Q63.9896 643.935 64.3602 642.712 Q64.6937 641.489 64.6937 638.08 L67.0282 638.08 Q66.8058 645.824 66.8058 646.603 Q66.8058 647.195 67.0282 655.162 L64.6937 655.162 Q64.6937 651.123 64.212 650.197 Q63.6932 649.233 61.2476 649.233 L43.5723 649.233 Q39.7186 649.233 37.4582 650.419 Q35.1608 651.605 35.1608 654.866 Q35.1608 658.794 38.4587 661.943 Q41.7566 665.093 47.3149 665.093 L61.2476 665.093 Q63.6932 665.093 64.212 664.167 Q64.6937 663.203 64.6937 659.201 L67.0282 659.201 Q66.8058 666.946 66.8058 667.687 Q66.8058 668.28 67.0282 676.247 Z\" fill=\"#000000\" fill-rule=\"nonzero\" fill-opacity=\"1\" /><path clip-path=\"url(#clip080)\" d=\"M73.0311 634.486 Q70.5854 634.486 68.4733 632.633 Q66.3612 630.743 65.4348 627.482 Q63.3227 630.817 58.6908 630.817 Q55.1335 630.817 52.3914 628.483 Q49.427 632.04 44.5728 632.04 Q40.0891 632.04 36.7912 628.483 Q33.4933 624.925 33.4933 619.738 Q33.4933 615.18 36.2354 611.697 Q32.6781 608.065 32.6411 603.656 Q32.6411 601.692 33.8639 600.765 Q35.0867 599.802 36.3836 599.802 Q37.5323 599.802 38.0882 600.543 Q38.644 601.247 38.644 601.988 Q38.644 602.915 38.0511 603.582 Q37.4212 604.212 36.4578 604.212 Q34.8644 604.212 34.3827 602.989 Q34.3086 603.211 34.3086 603.73 Q34.3086 607.435 37.273 610.585 Q40.1633 607.472 44.6469 607.472 Q49.1306 607.472 52.4285 611.03 Q55.7264 614.587 55.7264 619.738 Q55.7264 623.999 53.3548 627.26 Q54.8741 628.557 56.9492 628.557 Q58.839 628.557 60.3212 627.408 Q61.8034 626.259 62.0257 624.518 Q62.0998 623.999 62.0998 618.848 Q62.0998 615.81 62.1739 614.142 Q62.2481 612.475 62.7668 610.103 Q63.2485 607.695 64.212 605.805 Q66.954 600.877 72.8829 600.84 Q77.2183 600.84 79.9233 605.842 Q82.6654 610.807 82.6654 617.7 Q82.6654 624.666 79.8863 629.594 Q77.1442 634.486 73.0311 634.486 M73.0311 630.521 Q76.1437 630.521 78.5152 626.852 Q80.9238 623.184 80.9238 617.626 Q80.9238 612.178 78.5523 608.51 Q76.2178 604.804 73.0311 604.804 Q70.7707 604.804 69.3256 606.101 Q67.8804 607.398 67.2875 610.066 Q66.7317 612.697 66.6206 614.55 Q66.5094 616.403 66.5094 619.812 L66.5094 624.295 Q66.6576 626.889 68.5474 628.705 Q70.4372 630.521 73.0311 630.521 M44.6469 626.371 Q53.9848 626.371 53.9848 619.738 Q53.9848 616.403 50.9463 614.365 Q48.9082 613.142 44.5728 613.142 Q35.2349 613.142 35.2349 619.738 Q35.2349 623.073 38.2734 625.148 Q40.3115 626.371 44.6469 626.371 Z\" fill=\"#000000\" fill-rule=\"nonzero\" fill-opacity=\"1\" /><path clip-path=\"url(#clip080)\" d=\"M48.056 565.897 Q35.2349 565.897 24.8966 561.117 Q20.5611 559.079 16.9297 556.225 Q13.2984 553.372 11.705 551.482 Q10.1116 549.592 10.1116 549.074 Q10.1116 548.333 10.8527 548.296 Q11.2233 548.296 12.1496 549.296 Q24.6001 561.524 48.056 561.487 Q71.5859 561.487 83.5547 549.592 Q84.8516 548.296 85.2592 548.296 Q86.0003 548.296 86.0003 549.074 Q86.0003 549.592 84.4811 551.408 Q82.9618 553.224 79.4787 556.04 Q75.9955 558.856 71.7341 560.894 Q61.3958 565.897 48.056 565.897 Z\" fill=\"#000000\" fill-rule=\"nonzero\" fill-opacity=\"1\" /><path clip-path=\"url(#clip080)\" d=\"M67.0282 541.181 L64.6937 541.181 Q64.6937 538.439 64.1749 536.697 Q63.6191 534.956 62.6186 534.326 Q61.5811 533.659 60.9141 533.511 Q60.21 533.362 59.0613 533.362 L21.117 533.362 Q18.9307 533.362 18.2637 534.326 Q17.5597 535.252 17.5597 539.365 L17.5597 541.181 L15.1882 541.181 L15.1882 528.36 Q15.1882 526.989 15.4475 526.618 Q15.6699 526.248 16.8556 525.692 L59.3578 509.24 L16.6333 492.639 Q15.5587 492.268 15.3734 491.935 Q15.1882 491.564 15.1882 490.119 L15.1882 477.298 L17.5597 477.298 L17.5597 479.114 Q17.5597 483.227 18.2637 484.19 Q18.9307 485.117 21.117 485.117 L61.0994 485.117 Q63.2856 485.117 63.9896 484.19 Q64.6937 483.227 64.6937 479.114 L64.6937 477.298 L67.0282 477.298 Q66.8058 480.114 66.8058 488.155 Q66.8058 496.27 67.0282 499.086 L64.6937 499.086 L64.6937 497.234 Q64.6937 493.121 64.0267 492.194 Q63.3227 491.268 61.0994 491.268 L17.5597 491.268 L17.5597 491.342 L65.583 509.981 Q67.0282 510.499 67.0282 511.352 Q67.0282 512.278 65.3607 512.871 L18.1526 531.176 L18.1526 531.25 L59.0613 531.25 Q60.21 531.25 60.9141 531.102 Q61.5811 530.954 62.6186 530.324 Q63.6191 529.657 64.1749 527.915 Q64.6937 526.174 64.6937 523.432 L67.0282 523.432 Q66.8058 531.398 66.8058 532.325 Q66.8058 533.214 67.0282 541.181 Z\" fill=\"#000000\" fill-rule=\"nonzero\" fill-opacity=\"1\" /><path clip-path=\"url(#clip080)\" d=\"M17.5597 473.148 L15.1882 473.148 Q15.1882 472.073 15.2623 470.146 Q15.3364 468.22 15.3734 466.7 Q15.4105 465.181 15.4105 463.884 Q15.4105 455.843 15.1882 453.101 L17.5597 453.101 Q17.5597 459.475 19.82 459.475 Q20.3388 459.475 20.8205 459.326 L58.1349 447.135 L25.6006 436.575 L20.2647 438.242 Q18.3749 438.835 17.9673 440.132 Q17.5597 441.429 17.5597 445.06 L15.1882 445.06 Q15.1882 443.986 15.2623 442.059 Q15.3364 440.132 15.3734 438.613 Q15.4105 437.093 15.4105 435.833 Q15.4105 427.793 15.1882 425.05 L17.5597 425.05 Q17.5597 431.424 19.82 431.424 Q20.0424 431.424 20.9687 431.202 L58.1349 419.048 L23.0809 407.672 Q21.9322 407.301 21.5616 407.264 Q20.1906 407.264 18.9307 408.857 Q17.6338 410.451 17.5597 413.897 L15.1882 413.897 Q15.4105 407.968 15.4105 404.855 Q15.4105 401.372 15.1882 397.963 L17.5597 397.963 Q17.5597 403.966 22.6362 405.522 L67.1764 420.048 Q67.7693 420.196 68.0286 420.307 Q68.3251 420.419 68.5104 420.715 Q68.6956 421.011 68.6956 421.53 Q68.6956 422.531 67.2505 422.975 L28.6391 435.574 L67.1764 448.099 Q67.7693 448.247 68.0286 448.395 Q68.3251 448.506 68.5104 448.803 Q68.6956 449.099 68.6956 449.618 Q68.6956 450.618 67.2505 451.063 L20.7464 466.256 Q18.5602 466.923 18.0785 467.96 Q17.5597 468.961 17.5597 473.148 Z\" fill=\"#000000\" fill-rule=\"nonzero\" fill-opacity=\"1\" /><path clip-path=\"url(#clip080)\" d=\"M85.2592 392.257 Q84.8887 392.257 83.9623 391.293 Q71.5118 379.065 48.056 379.065 Q24.526 379.065 12.6314 390.812 Q11.2603 392.257 10.8527 392.257 Q10.1116 392.257 10.1116 391.516 Q10.1116 390.997 11.6309 389.181 Q13.1501 387.328 16.6333 384.549 Q20.1165 381.733 24.3778 379.658 Q34.7162 374.656 48.056 374.656 Q60.877 374.656 71.2154 379.436 Q75.5508 381.474 79.1822 384.327 Q82.8136 387.18 84.407 389.07 Q86.0003 390.96 86.0003 391.516 Q86.0003 392.257 85.2592 392.257 Z\" fill=\"#000000\" fill-rule=\"nonzero\" fill-opacity=\"1\" /><polyline clip-path=\"url(#clip082)\" style=\"stroke:#d77255; stroke-linecap:round; stroke-linejoin:round; stroke-width:5.6; stroke-opacity:1; fill:none\" points=\"266.884,1380.04 284.086,1380.04 301.288,1380.04 318.489,1380.04 335.691,86.0634 352.893,1380.04 370.094,86.0634 387.296,86.0634 404.498,1380.04 421.699,1380.04 438.901,1380.04 456.103,1380.04 473.304,1380.04 490.506,1380.04 507.708,1380.04 524.91,147.311 542.111,1380.04 559.313,1380.04 576.515,86.0634 593.716,1380.04 610.918,1380.04 628.12,1380.04 645.321,1380.04 662.523,1380.04 679.725,1380.04 696.926,1380.04 714.128,1380.04 731.33,1380.04 748.532,1380.04 765.733,1380.04 782.935,1380.04 800.137,1380.04 817.338,1380.04 834.54,1380.04 851.742,1380.04 868.943,1380.04 886.145,1380.04 903.347,1380.04 920.548,1380.04 937.75,1380.04 954.952,1380.04 972.154,704.386 989.355,1380.04 1006.56,1380.04 1023.76,1380.04 1040.96,86.0634 1058.16,1380.04 1075.36,1380.04 1092.57,1380.04 1109.77,86.0634 1126.97,630.913 1144.17,843.229 1161.37,628.067 1178.57,533.031 1195.78,329.845 1212.98,151.067 1230.18,124.11 1247.38,92.0515 1264.58,92.2564 1281.78,86.0634 1298.99,97.3793 1316.19,86.0634 1333.39,86.0634 1350.59,88.2264 1367.79,88.0898 1384.99,88.2264 1402.2,88.363 1419.4,95.7172 1436.6,248.63 1453.8,86.0634 1471,86.0634 1488.2,86.0634 1505.41,86.0634 1522.61,86.0634 1539.81,86.0634 1557.01,86.0634 1574.21,86.0634 1591.41,86.0634 1608.62,198.836 1625.82,86.0634 1643.02,86.0634 1660.22,86.0634 1677.42,86.0634 1694.62,86.0634 1711.83,86.0634 1729.03,86.0634 1746.23,86.0634 1763.43,86.0634 1780.63,86.0634 1797.83,112.384 1815.04,98.5405 1832.24,103.618 1849.44,125.794 1866.64,90.9131 1883.84,97.2655 1901.05,94.7382 1918.25,104.187 1935.45,295.237 1952.65,378.41 1969.85,269.964 \"/>\n",
       "<path clip-path=\"url(#clip080)\" d=\"M2092.17 196.645 L2352.76 196.645 L2352.76 92.9646 L2092.17 92.9646  Z\" fill=\"#ffffff\" fill-rule=\"evenodd\" fill-opacity=\"1\"/>\n",
       "<polyline clip-path=\"url(#clip080)\" style=\"stroke:#000000; stroke-linecap:round; stroke-linejoin:round; stroke-width:4; stroke-opacity:1; fill:none\" points=\"2092.17,196.645 2352.76,196.645 2352.76,92.9646 2092.17,92.9646 2092.17,196.645 \"/>\n",
       "<polyline clip-path=\"url(#clip080)\" style=\"stroke:#d77255; stroke-linecap:round; stroke-linejoin:round; stroke-width:5.6; stroke-opacity:1; fill:none\" points=\"2115.92,144.805 2258.38,144.805 \"/>\n",
       "<path clip-path=\"url(#clip080)\" d=\"M2282.12 168.359 Q2282.12 167.297 2282.74 166.729 Q2283.38 166.185 2284.25 166.185 Q2285.16 166.185 2285.76 166.754 Q2286.37 167.346 2286.37 168.31 Q2286.37 170.187 2284.4 170.434 Q2285.36 171.348 2286.77 171.348 Q2288.28 171.348 2289.49 170.237 Q2290.72 169.125 2291.24 168.063 Q2291.78 167.001 2292.55 165.074 Q2293.27 163.567 2293.81 162.085 L2286.23 143.607 Q2285.73 142.396 2284.97 142.124 Q2284.2 141.853 2282.12 141.853 L2282.12 140.272 Q2284.4 140.42 2287.04 140.42 Q2288.6 140.42 2292.55 140.272 L2292.55 141.853 Q2289.71 141.853 2289.71 143.162 Q2289.71 143.31 2290.01 144.076 L2295.64 157.687 L2300.75 145.237 Q2301.05 144.521 2301.05 144.026 Q2301.05 141.951 2298.68 141.853 L2298.68 140.272 Q2302.01 140.42 2303.07 140.42 Q2305.15 140.42 2306.85 140.272 L2306.85 141.853 Q2303.47 141.853 2302.16 145.089 L2293.24 166.679 Q2290.82 172.435 2286.77 172.46 Q2284.84 172.46 2283.48 171.274 Q2282.12 170.089 2282.12 168.359 Z\" fill=\"#000000\" fill-rule=\"nonzero\" fill-opacity=\"1\" /><path clip-path=\"url(#clip080)\" d=\"M2312.31 133.206 L2312.31 131.625 Q2318.39 131.625 2321.53 128.389 Q2322.39 128.389 2322.54 128.587 Q2322.69 128.784 2322.69 129.699 L2322.69 158.083 Q2322.69 159.59 2323.43 160.059 Q2324.17 160.528 2327.41 160.528 L2329.01 160.528 L2329.01 162.085 Q2327.23 161.936 2320.81 161.936 Q2314.39 161.936 2312.63 162.085 L2312.63 160.528 L2314.24 160.528 Q2317.43 160.528 2318.19 160.084 Q2318.96 159.614 2318.96 158.083 L2318.96 131.872 Q2316.31 133.206 2312.31 133.206 Z\" fill=\"#000000\" fill-rule=\"nonzero\" fill-opacity=\"1\" /></svg>\n"
      ]
     },
     "execution_count": 24,
     "metadata": {},
     "output_type": "execute_result"
    }
   ],
   "source": [
    "plot(answer.processes[2].size[1:100])\n",
    "xaxis!(\"Hour (h)\")\n",
    "yaxis!(\"Offtaker rating (MW)\")"
   ]
  },
  {
   "cell_type": "markdown",
   "metadata": {},
   "source": [
    "As you can observe, the optimal solution seems to rely on some abrupt changes in the offtaker rating. Some chemical processes may not be able to adjust so quickly to this changes in hydrogen input. Similarly, the hydrogen storage may not be able to charge or discharge at unlimited ratings. Therefore we should examinate if the answer would change significantly with ramping limits. "
   ]
  },
  {
   "cell_type": "markdown",
   "metadata": {},
   "source": [
    "### Ramping limits"
   ]
  },
  {
   "cell_type": "code",
   "execution_count": 25,
   "metadata": {},
   "outputs": [
    {
     "data": {
      "text/plain": [
       "2-element Vector{Float64}:\n",
       " -0.2\n",
       "  0.2"
      ]
     },
     "execution_count": 25,
     "metadata": {},
     "output_type": "execute_result"
    }
   ],
   "source": [
    "offtaker.rate = [-0.2,0.2]\n",
    "h2Store.rate = [-0.2,0.2]"
   ]
  },
  {
   "cell_type": "code",
   "execution_count": 26,
   "metadata": {},
   "outputs": [
    {
     "name": "stdout",
     "output_type": "stream",
     "text": [
      "Set parameter Username\n",
      "\n",
      "--------------------------------------------\n",
      "Warning: your license will expire in 8 days\n",
      "--------------------------------------------\n",
      "\n",
      "Academic license - for non-commercial use only - expires 2023-10-28\n",
      "* Solver : Gurobi\n",
      "\n",
      "* Status\n",
      "  Result count       : 2\n",
      "  Termination status : OPTIMAL\n",
      "  Message from the solver:\n",
      "  \"Model was solved to optimality (subject to tolerances), and an optimal solution is available.\"\n",
      "\n",
      "* Candidate solution (result #1)\n",
      "  Primal status      : FEASIBLE_POINT\n",
      "  Dual status        : NO_SOLUTION\n",
      "  Objective value    : 3.66697e+04\n",
      "  Objective bound    : 3.66697e+04\n",
      "  Relative gap       : 0.00000e+00\n",
      "  Dual objective value : 3.66697e+04\n",
      "\n",
      "* Work counters\n",
      "  Solve time (sec)   : 5.48487e+00\n",
      "  Barrier iterations : 0\n",
      "  Node count         : 1\n",
      "\n",
      " Tech       | Size factor\n",
      "==========================\n",
      " ALK        | 1.0\n",
      " offtaker   | 0.71977\n",
      "--------------------------\n",
      " h2         | 60.0\n"
     ]
    },
    {
     "data": {
      "text/plain": [
       "Problem(Any[Resource(\"power\", Real[0.423, 0.223, 0.221, 0.225, 0.22, 0.217, 0.217, 0.231, 0.226, 0.314  …  2.57, 2.05, 2.135, 3.929, 6.339, 5.936, 5.01, 8.088, 7.919, 8.668], \"MW\", Vector{Real}[[0, 0, 0, 0, 0, 0, 0, 0, 0, 0  …  0, 0, 0, 0, 0, 0, 0, 0, 0, 0]], Vector{Real}[])], Any[Tech(\"ALK\", Any[Resource(\"power\", Real[10], \"MW\", Vector{Real}[[1]], Vector{Real}[[0.15, 0.15011], [0.51, 0.50907], [1.0, 1.0]])], Any[Resource(\"h2\", Real[6.6865], \"MW\", Vector{Real}[[1]], Vector{Real}[[0.15, 0.17068571001271218], [0.51, 0.5446508636805505], [1.0, 1.0]])], HeatStruct[], Real[1, 1], [[[0.0, 0.0], [1000.0, 0.0]]], Real[0.15, 1.0, 1.0], Real[-1, 1], Real[0.0, 0.0, 0.0, 0.0, 0.0, 0.0, 0.0, 0.0, 0.0, 0.0  …  0.20505, 0.21357, 0.39349, 0.63459, 0.59437, 0.50191, 0.80916, 0.79229, 0.86705, 0.0]), Tech(\"offtaker\", Any[Resource(\"h2\", Real[10], \"kg/h\", Vector{Real}[[1]], Vector{Real}[])], Any[Resource(\"h2_plant\", Real[10], \"kg/h\", Vector{Real}[[1]], Vector{Real}[])], HeatStruct[], Real[0.0, 1000.0], [[[0.0, 0.0], [1000.0, 0.0]]], Real[0.15, 1.0, 0.0], Real[-0.2, 0.2], Real[0.10797, 0.10797, 0.10797, 0.10797, 0.10797, 0.10797, 0.10797, 0.10797, 0.10797, 0.10797  …  0.10797, 0.25192, 0.1996, 0.34356, 0.48751, 0.34688, 0.49084, 0.63479, 0.49084, 0.0])], Any[Resource(\"h2_plant\", Real[1.079654100849677, 1.079654100849677, 1.079654100849677, 1.079654100849677, 1.079654100849677, 1.079654100849677, 1.079654100849677, 1.079654100849677, 1.079654100849677, 1.079654100849677  …  2.5191929019825796, 1.0796541008496767, 2.5191929019825796, 1.9960488834986432, 3.435587684631546, 4.875126485764448, 3.468839915547508, 4.908378716680411, 6.347917517813314, 4.908378716680412], \"MW\", Vector{Real}[[1, 1, 1, 1, 1, 1, 1, 1, 1, 1  …  1, 1, 1, 1, 1, 1, 1, 1, 1, 1]], Vector{Real}[]), Resource(\"power\", Real[0.423, 0.223, 0.221, 0.225, 0.22, 0.217, 0.217, 0.231, 0.226, 0.314  …  0.0, 0.0, 0.0, 0.0, 0.0, 0.0, 0.0, 0.0, 0.0, 1.7763568394002505e-15], \"MW\", Vector{Real}[[0, 0, 0, 0, 0, 0, 0, 0, 0, 0  …  0, 0, 0, 0, 0, 0, 0, 0, 0, 0]], Vector{Real}[])], Any[], Any[Storage(\"h2\", 1, Real[0, 60], [[[0.0, 0.0], [1000.0, 0.0]]], Real[-0.2, 0.2], Real[60.0, 58.92, 57.841, 56.761, 55.681, 54.602, 53.522, 52.442, 51.363, 50.283  …  58.675, 59.119, 58.183, 59.02, 60.0, 59.291, 59.408, 60.0, 59.048, 60.0])])"
      ]
     },
     "execution_count": 26,
     "metadata": {},
     "output_type": "execute_result"
    }
   ],
   "source": [
    "inputs = [windIn]\n",
    "processes = [alk,offtaker]\n",
    "utilities = []\n",
    "outputs = [h2,cut]\n",
    "storage = [h2Store]\n",
    "problem = Problem(inputs,processes,outputs,utilities,storage)\n",
    "answer = vivi(problem,solver=\"Gurobi\") # Gurobi solver is much faster"
   ]
  },
  {
   "cell_type": "code",
   "execution_count": 27,
   "metadata": {},
   "outputs": [
    {
     "data": {
      "image/svg+xml": [
       "<?xml version=\"1.0\" encoding=\"utf-8\"?>\n",
       "<svg xmlns=\"http://www.w3.org/2000/svg\" xmlns:xlink=\"http://www.w3.org/1999/xlink\" width=\"600\" height=\"400\" viewBox=\"0 0 2400 1600\">\n",
       "<defs>\n",
       "  <clipPath id=\"clip120\">\n",
       "    <rect x=\"0\" y=\"0\" width=\"2400\" height=\"1600\"/>\n",
       "  </clipPath>\n",
       "</defs>\n",
       "<path clip-path=\"url(#clip120)\" d=\"M0 1600 L2400 1600 L2400 0 L0 0  Z\" fill=\"#ffffff\" fill-rule=\"evenodd\" fill-opacity=\"1\"/>\n",
       "<defs>\n",
       "  <clipPath id=\"clip121\">\n",
       "    <rect x=\"480\" y=\"0\" width=\"1681\" height=\"1600\"/>\n",
       "  </clipPath>\n",
       "</defs>\n",
       "<path clip-path=\"url(#clip120)\" d=\"M216.487 1418.86 L2021.03 1418.86 L2021.03 47.2441 L216.487 47.2441  Z\" fill=\"#ffffff\" fill-rule=\"evenodd\" fill-opacity=\"1\"/>\n",
       "<defs>\n",
       "  <clipPath id=\"clip122\">\n",
       "    <rect x=\"216\" y=\"47\" width=\"1806\" height=\"1373\"/>\n",
       "  </clipPath>\n",
       "</defs>\n",
       "<polyline clip-path=\"url(#clip122)\" style=\"stroke:#000000; stroke-linecap:round; stroke-linejoin:round; stroke-width:2.8; stroke-opacity:0.4; fill:none\" points=\"250.363,1418.86 250.363,47.2441 \"/>\n",
       "<polyline clip-path=\"url(#clip122)\" style=\"stroke:#000000; stroke-linecap:round; stroke-linejoin:round; stroke-width:2.8; stroke-opacity:0.4; fill:none\" points=\"680.262,1418.86 680.262,47.2441 \"/>\n",
       "<polyline clip-path=\"url(#clip122)\" style=\"stroke:#000000; stroke-linecap:round; stroke-linejoin:round; stroke-width:2.8; stroke-opacity:0.4; fill:none\" points=\"1110.16,1418.86 1110.16,47.2441 \"/>\n",
       "<polyline clip-path=\"url(#clip122)\" style=\"stroke:#000000; stroke-linecap:round; stroke-linejoin:round; stroke-width:2.8; stroke-opacity:0.4; fill:none\" points=\"1540.06,1418.86 1540.06,47.2441 \"/>\n",
       "<polyline clip-path=\"url(#clip122)\" style=\"stroke:#000000; stroke-linecap:round; stroke-linejoin:round; stroke-width:2.8; stroke-opacity:0.4; fill:none\" points=\"1969.96,1418.86 1969.96,47.2441 \"/>\n",
       "<polyline clip-path=\"url(#clip122)\" style=\"stroke:#000000; stroke-linecap:round; stroke-linejoin:round; stroke-width:2; stroke-opacity:0.06; fill:none\" points=\"336.343,1418.86 336.343,47.2441 \"/>\n",
       "<polyline clip-path=\"url(#clip122)\" style=\"stroke:#000000; stroke-linecap:round; stroke-linejoin:round; stroke-width:2; stroke-opacity:0.06; fill:none\" points=\"422.323,1418.86 422.323,47.2441 \"/>\n",
       "<polyline clip-path=\"url(#clip122)\" style=\"stroke:#000000; stroke-linecap:round; stroke-linejoin:round; stroke-width:2; stroke-opacity:0.06; fill:none\" points=\"508.303,1418.86 508.303,47.2441 \"/>\n",
       "<polyline clip-path=\"url(#clip122)\" style=\"stroke:#000000; stroke-linecap:round; stroke-linejoin:round; stroke-width:2; stroke-opacity:0.06; fill:none\" points=\"594.282,1418.86 594.282,47.2441 \"/>\n",
       "<polyline clip-path=\"url(#clip122)\" style=\"stroke:#000000; stroke-linecap:round; stroke-linejoin:round; stroke-width:2; stroke-opacity:0.06; fill:none\" points=\"766.242,1418.86 766.242,47.2441 \"/>\n",
       "<polyline clip-path=\"url(#clip122)\" style=\"stroke:#000000; stroke-linecap:round; stroke-linejoin:round; stroke-width:2; stroke-opacity:0.06; fill:none\" points=\"852.222,1418.86 852.222,47.2441 \"/>\n",
       "<polyline clip-path=\"url(#clip122)\" style=\"stroke:#000000; stroke-linecap:round; stroke-linejoin:round; stroke-width:2; stroke-opacity:0.06; fill:none\" points=\"938.202,1418.86 938.202,47.2441 \"/>\n",
       "<polyline clip-path=\"url(#clip122)\" style=\"stroke:#000000; stroke-linecap:round; stroke-linejoin:round; stroke-width:2; stroke-opacity:0.06; fill:none\" points=\"1024.18,1418.86 1024.18,47.2441 \"/>\n",
       "<polyline clip-path=\"url(#clip122)\" style=\"stroke:#000000; stroke-linecap:round; stroke-linejoin:round; stroke-width:2; stroke-opacity:0.06; fill:none\" points=\"1196.14,1418.86 1196.14,47.2441 \"/>\n",
       "<polyline clip-path=\"url(#clip122)\" style=\"stroke:#000000; stroke-linecap:round; stroke-linejoin:round; stroke-width:2; stroke-opacity:0.06; fill:none\" points=\"1282.12,1418.86 1282.12,47.2441 \"/>\n",
       "<polyline clip-path=\"url(#clip122)\" style=\"stroke:#000000; stroke-linecap:round; stroke-linejoin:round; stroke-width:2; stroke-opacity:0.06; fill:none\" points=\"1368.1,1418.86 1368.1,47.2441 \"/>\n",
       "<polyline clip-path=\"url(#clip122)\" style=\"stroke:#000000; stroke-linecap:round; stroke-linejoin:round; stroke-width:2; stroke-opacity:0.06; fill:none\" points=\"1454.08,1418.86 1454.08,47.2441 \"/>\n",
       "<polyline clip-path=\"url(#clip122)\" style=\"stroke:#000000; stroke-linecap:round; stroke-linejoin:round; stroke-width:2; stroke-opacity:0.06; fill:none\" points=\"1626.04,1418.86 1626.04,47.2441 \"/>\n",
       "<polyline clip-path=\"url(#clip122)\" style=\"stroke:#000000; stroke-linecap:round; stroke-linejoin:round; stroke-width:2; stroke-opacity:0.06; fill:none\" points=\"1712.02,1418.86 1712.02,47.2441 \"/>\n",
       "<polyline clip-path=\"url(#clip122)\" style=\"stroke:#000000; stroke-linecap:round; stroke-linejoin:round; stroke-width:2; stroke-opacity:0.06; fill:none\" points=\"1798,1418.86 1798,47.2441 \"/>\n",
       "<polyline clip-path=\"url(#clip122)\" style=\"stroke:#000000; stroke-linecap:round; stroke-linejoin:round; stroke-width:2; stroke-opacity:0.06; fill:none\" points=\"1883.98,1418.86 1883.98,47.2441 \"/>\n",
       "<polyline clip-path=\"url(#clip120)\" style=\"stroke:#000000; stroke-linecap:round; stroke-linejoin:round; stroke-width:4; stroke-opacity:1; fill:none\" points=\"216.487,1418.86 2021.03,1418.86 \"/>\n",
       "<polyline clip-path=\"url(#clip120)\" style=\"stroke:#000000; stroke-linecap:round; stroke-linejoin:round; stroke-width:4; stroke-opacity:1; fill:none\" points=\"216.487,47.2441 2021.03,47.2441 \"/>\n",
       "<polyline clip-path=\"url(#clip120)\" style=\"stroke:#000000; stroke-linecap:round; stroke-linejoin:round; stroke-width:4; stroke-opacity:1; fill:none\" points=\"250.363,1418.86 250.363,1399.96 \"/>\n",
       "<polyline clip-path=\"url(#clip120)\" style=\"stroke:#000000; stroke-linecap:round; stroke-linejoin:round; stroke-width:4; stroke-opacity:1; fill:none\" points=\"680.262,1418.86 680.262,1399.96 \"/>\n",
       "<polyline clip-path=\"url(#clip120)\" style=\"stroke:#000000; stroke-linecap:round; stroke-linejoin:round; stroke-width:4; stroke-opacity:1; fill:none\" points=\"1110.16,1418.86 1110.16,1399.96 \"/>\n",
       "<polyline clip-path=\"url(#clip120)\" style=\"stroke:#000000; stroke-linecap:round; stroke-linejoin:round; stroke-width:4; stroke-opacity:1; fill:none\" points=\"1540.06,1418.86 1540.06,1399.96 \"/>\n",
       "<polyline clip-path=\"url(#clip120)\" style=\"stroke:#000000; stroke-linecap:round; stroke-linejoin:round; stroke-width:4; stroke-opacity:1; fill:none\" points=\"1969.96,1418.86 1969.96,1399.96 \"/>\n",
       "<polyline clip-path=\"url(#clip120)\" style=\"stroke:#000000; stroke-linecap:round; stroke-linejoin:round; stroke-width:4; stroke-opacity:1; fill:none\" points=\"336.343,1418.86 336.343,1409.41 \"/>\n",
       "<polyline clip-path=\"url(#clip120)\" style=\"stroke:#000000; stroke-linecap:round; stroke-linejoin:round; stroke-width:4; stroke-opacity:1; fill:none\" points=\"422.323,1418.86 422.323,1409.41 \"/>\n",
       "<polyline clip-path=\"url(#clip120)\" style=\"stroke:#000000; stroke-linecap:round; stroke-linejoin:round; stroke-width:4; stroke-opacity:1; fill:none\" points=\"508.303,1418.86 508.303,1409.41 \"/>\n",
       "<polyline clip-path=\"url(#clip120)\" style=\"stroke:#000000; stroke-linecap:round; stroke-linejoin:round; stroke-width:4; stroke-opacity:1; fill:none\" points=\"594.282,1418.86 594.282,1409.41 \"/>\n",
       "<polyline clip-path=\"url(#clip120)\" style=\"stroke:#000000; stroke-linecap:round; stroke-linejoin:round; stroke-width:4; stroke-opacity:1; fill:none\" points=\"766.242,1418.86 766.242,1409.41 \"/>\n",
       "<polyline clip-path=\"url(#clip120)\" style=\"stroke:#000000; stroke-linecap:round; stroke-linejoin:round; stroke-width:4; stroke-opacity:1; fill:none\" points=\"852.222,1418.86 852.222,1409.41 \"/>\n",
       "<polyline clip-path=\"url(#clip120)\" style=\"stroke:#000000; stroke-linecap:round; stroke-linejoin:round; stroke-width:4; stroke-opacity:1; fill:none\" points=\"938.202,1418.86 938.202,1409.41 \"/>\n",
       "<polyline clip-path=\"url(#clip120)\" style=\"stroke:#000000; stroke-linecap:round; stroke-linejoin:round; stroke-width:4; stroke-opacity:1; fill:none\" points=\"1024.18,1418.86 1024.18,1409.41 \"/>\n",
       "<polyline clip-path=\"url(#clip120)\" style=\"stroke:#000000; stroke-linecap:round; stroke-linejoin:round; stroke-width:4; stroke-opacity:1; fill:none\" points=\"1196.14,1418.86 1196.14,1409.41 \"/>\n",
       "<polyline clip-path=\"url(#clip120)\" style=\"stroke:#000000; stroke-linecap:round; stroke-linejoin:round; stroke-width:4; stroke-opacity:1; fill:none\" points=\"1282.12,1418.86 1282.12,1409.41 \"/>\n",
       "<polyline clip-path=\"url(#clip120)\" style=\"stroke:#000000; stroke-linecap:round; stroke-linejoin:round; stroke-width:4; stroke-opacity:1; fill:none\" points=\"1368.1,1418.86 1368.1,1409.41 \"/>\n",
       "<polyline clip-path=\"url(#clip120)\" style=\"stroke:#000000; stroke-linecap:round; stroke-linejoin:round; stroke-width:4; stroke-opacity:1; fill:none\" points=\"1454.08,1418.86 1454.08,1409.41 \"/>\n",
       "<polyline clip-path=\"url(#clip120)\" style=\"stroke:#000000; stroke-linecap:round; stroke-linejoin:round; stroke-width:4; stroke-opacity:1; fill:none\" points=\"1626.04,1418.86 1626.04,1409.41 \"/>\n",
       "<polyline clip-path=\"url(#clip120)\" style=\"stroke:#000000; stroke-linecap:round; stroke-linejoin:round; stroke-width:4; stroke-opacity:1; fill:none\" points=\"1712.02,1418.86 1712.02,1409.41 \"/>\n",
       "<polyline clip-path=\"url(#clip120)\" style=\"stroke:#000000; stroke-linecap:round; stroke-linejoin:round; stroke-width:4; stroke-opacity:1; fill:none\" points=\"1798,1418.86 1798,1409.41 \"/>\n",
       "<polyline clip-path=\"url(#clip120)\" style=\"stroke:#000000; stroke-linecap:round; stroke-linejoin:round; stroke-width:4; stroke-opacity:1; fill:none\" points=\"1883.98,1418.86 1883.98,1409.41 \"/>\n",
       "<path clip-path=\"url(#clip120)\" d=\"M239.716 1465.08 Q239.716 1457.64 241.593 1453.59 Q244.212 1447.56 250.388 1447.56 Q251.697 1447.56 253.056 1447.94 Q254.439 1448.28 256.168 1449.64 Q257.922 1451 258.984 1453.22 Q261.01 1457.52 261.01 1465.08 Q261.01 1472.47 259.133 1476.49 Q256.39 1482.37 250.338 1482.37 Q248.065 1482.37 245.743 1481.21 Q243.446 1480.05 241.988 1477.26 Q239.716 1473.08 239.716 1465.08 M243.915 1464.46 Q243.915 1472.09 244.459 1475.13 Q245.076 1478.42 246.756 1479.85 Q248.461 1481.26 250.338 1481.26 Q252.364 1481.26 254.044 1479.75 Q255.748 1478.22 256.267 1474.94 Q256.835 1471.7 256.81 1464.46 Q256.81 1457.42 256.316 1454.6 Q255.649 1451.32 253.871 1450.01 Q252.117 1448.68 250.338 1448.68 Q249.671 1448.68 248.955 1448.87 Q248.263 1449.07 247.25 1449.64 Q246.237 1450.21 245.447 1451.62 Q244.681 1453.02 244.311 1455.15 Q243.915 1457.89 243.915 1464.46 Z\" fill=\"#000000\" fill-rule=\"nonzero\" fill-opacity=\"1\" /><path clip-path=\"url(#clip120)\" d=\"M657.511 1481.26 Q657.511 1480.35 657.585 1480.07 Q657.684 1479.8 658.079 1479.38 L667.787 1468.56 Q673.098 1462.58 673.098 1457.37 Q673.098 1453.99 671.32 1451.57 Q669.566 1449.15 666.33 1449.15 Q664.106 1449.15 662.229 1450.5 Q660.351 1451.86 659.487 1454.28 Q659.635 1454.23 660.154 1454.23 Q661.414 1454.23 662.105 1455.02 Q662.822 1455.82 662.822 1456.88 Q662.822 1458.24 661.932 1458.9 Q661.068 1459.55 660.203 1459.55 Q659.857 1459.55 659.388 1459.47 Q658.943 1459.4 658.227 1458.71 Q657.511 1457.99 657.511 1456.73 Q657.511 1453.2 660.179 1450.38 Q662.871 1447.56 666.972 1447.56 Q671.616 1447.56 674.655 1450.33 Q677.718 1453.07 677.718 1457.37 Q677.718 1458.88 677.249 1460.26 Q676.804 1461.62 676.186 1462.68 Q675.593 1463.75 673.963 1465.45 Q672.333 1467.15 671.023 1468.36 Q669.714 1469.58 666.774 1472.14 L661.414 1477.36 L670.529 1477.36 Q674.976 1477.36 675.322 1476.96 Q675.816 1476.25 676.433 1472.47 L677.718 1472.47 L676.285 1481.26 L657.511 1481.26 Z\" fill=\"#000000\" fill-rule=\"nonzero\" fill-opacity=\"1\" /><path clip-path=\"url(#clip120)\" d=\"M682.807 1473.11 Q682.807 1471.6 683.622 1471.03 Q684.437 1470.44 685.302 1470.44 Q686.463 1470.44 687.13 1471.18 Q687.822 1471.9 687.822 1472.91 Q687.822 1473.92 687.13 1474.66 Q686.463 1475.38 685.302 1475.38 Q684.734 1475.38 684.437 1475.28 Q685.104 1477.6 687.13 1479.28 Q689.18 1480.96 691.873 1480.96 Q695.257 1480.96 697.283 1477.68 Q698.493 1475.55 698.493 1470.74 Q698.493 1466.49 697.579 1464.36 Q696.171 1461.13 693.281 1461.13 Q689.18 1461.13 686.759 1464.66 Q686.463 1465.1 686.117 1465.13 Q685.623 1465.13 685.5 1464.86 Q685.401 1464.56 685.401 1463.79 L685.401 1448.82 Q685.401 1447.61 685.895 1447.61 Q686.092 1447.61 686.512 1447.76 Q689.699 1449.17 693.232 1449.19 Q696.863 1449.19 700.124 1447.71 Q700.371 1447.56 700.519 1447.56 Q701.013 1447.56 701.038 1448.13 Q701.038 1448.33 700.618 1448.92 Q700.223 1449.49 699.358 1450.26 Q698.493 1451 697.382 1451.71 Q696.27 1452.43 694.64 1452.93 Q693.034 1453.39 691.255 1453.39 Q689.131 1453.39 686.957 1452.73 L686.957 1462.58 Q689.576 1460.01 693.38 1460.01 Q697.431 1460.01 700.223 1463.28 Q703.014 1466.54 703.014 1471.08 Q703.014 1475.85 699.704 1479.11 Q696.418 1482.37 691.972 1482.37 Q687.92 1482.37 685.351 1479.48 Q682.807 1476.59 682.807 1473.11 Z\" fill=\"#000000\" fill-rule=\"nonzero\" fill-opacity=\"1\" /><path clip-path=\"url(#clip120)\" d=\"M1087.14 1473.11 Q1087.14 1471.6 1087.95 1471.03 Q1088.77 1470.44 1089.63 1470.44 Q1090.79 1470.44 1091.46 1471.18 Q1092.15 1471.9 1092.15 1472.91 Q1092.15 1473.92 1091.46 1474.66 Q1090.79 1475.38 1089.63 1475.38 Q1089.07 1475.38 1088.77 1475.28 Q1089.44 1477.6 1091.46 1479.28 Q1093.51 1480.96 1096.2 1480.96 Q1099.59 1480.96 1101.61 1477.68 Q1102.83 1475.55 1102.83 1470.74 Q1102.83 1466.49 1101.91 1464.36 Q1100.5 1461.13 1097.61 1461.13 Q1093.51 1461.13 1091.09 1464.66 Q1090.79 1465.1 1090.45 1465.13 Q1089.95 1465.13 1089.83 1464.86 Q1089.73 1464.56 1089.73 1463.79 L1089.73 1448.82 Q1089.73 1447.61 1090.23 1447.61 Q1090.42 1447.61 1090.84 1447.76 Q1094.03 1449.17 1097.56 1449.19 Q1101.19 1449.19 1104.46 1447.71 Q1104.7 1447.56 1104.85 1447.56 Q1105.34 1447.56 1105.37 1448.13 Q1105.37 1448.33 1104.95 1448.92 Q1104.55 1449.49 1103.69 1450.26 Q1102.83 1451 1101.71 1451.71 Q1100.6 1452.43 1098.97 1452.93 Q1097.37 1453.39 1095.59 1453.39 Q1093.46 1453.39 1091.29 1452.73 L1091.29 1462.58 Q1093.91 1460.01 1097.71 1460.01 Q1101.76 1460.01 1104.55 1463.28 Q1107.35 1466.54 1107.35 1471.08 Q1107.35 1475.85 1104.04 1479.11 Q1100.75 1482.37 1096.3 1482.37 Q1092.25 1482.37 1089.68 1479.48 Q1087.14 1476.59 1087.14 1473.11 Z\" fill=\"#000000\" fill-rule=\"nonzero\" fill-opacity=\"1\" /><path clip-path=\"url(#clip120)\" d=\"M1111.89 1465.08 Q1111.89 1457.64 1113.77 1453.59 Q1116.39 1447.56 1122.56 1447.56 Q1123.87 1447.56 1125.23 1447.94 Q1126.61 1448.28 1128.34 1449.64 Q1130.1 1451 1131.16 1453.22 Q1133.19 1457.52 1133.19 1465.08 Q1133.19 1472.47 1131.31 1476.49 Q1128.57 1482.37 1122.51 1482.37 Q1120.24 1482.37 1117.92 1481.21 Q1115.62 1480.05 1114.16 1477.26 Q1111.89 1473.08 1111.89 1465.08 M1116.09 1464.46 Q1116.09 1472.09 1116.63 1475.13 Q1117.25 1478.42 1118.93 1479.85 Q1120.64 1481.26 1122.51 1481.26 Q1124.54 1481.26 1126.22 1479.75 Q1127.92 1478.22 1128.44 1474.94 Q1129.01 1471.7 1128.99 1464.46 Q1128.99 1457.42 1128.49 1454.6 Q1127.82 1451.32 1126.05 1450.01 Q1124.29 1448.68 1122.51 1448.68 Q1121.85 1448.68 1121.13 1448.87 Q1120.44 1449.07 1119.43 1449.64 Q1118.41 1450.21 1117.62 1451.62 Q1116.86 1453.02 1116.49 1455.15 Q1116.09 1457.89 1116.09 1464.46 Z\" fill=\"#000000\" fill-rule=\"nonzero\" fill-opacity=\"1\" /><path clip-path=\"url(#clip120)\" d=\"M1517.47 1457.47 L1519.13 1447.07 L1520.39 1447.07 Q1520.53 1447.69 1520.78 1447.96 Q1521.05 1448.23 1522.49 1448.45 Q1523.94 1448.68 1526.88 1448.68 L1539.16 1448.68 Q1539.16 1449.84 1538.72 1450.45 L1531.87 1460.06 Q1529.7 1463.1 1528.73 1468.71 Q1528.17 1472.47 1528.19 1477.01 L1528.19 1479.58 Q1528.19 1482.37 1525.84 1482.37 Q1523.52 1482.37 1523.52 1479.58 Q1523.52 1469.92 1529.75 1460.56 Q1530.41 1459.59 1532.86 1456.16 Q1535.33 1452.73 1535.43 1452.58 L1524.96 1452.58 Q1520.36 1452.58 1519.99 1452.88 Q1519.5 1453.32 1518.73 1457.47 L1517.47 1457.47 Z\" fill=\"#000000\" fill-rule=\"nonzero\" fill-opacity=\"1\" /><path clip-path=\"url(#clip120)\" d=\"M1542.45 1473.11 Q1542.45 1471.6 1543.26 1471.03 Q1544.08 1470.44 1544.94 1470.44 Q1546.1 1470.44 1546.77 1471.18 Q1547.46 1471.9 1547.46 1472.91 Q1547.46 1473.92 1546.77 1474.66 Q1546.1 1475.38 1544.94 1475.38 Q1544.37 1475.38 1544.08 1475.28 Q1544.74 1477.6 1546.77 1479.28 Q1548.82 1480.96 1551.51 1480.96 Q1554.9 1480.96 1556.92 1477.68 Q1558.13 1475.55 1558.13 1470.74 Q1558.13 1466.49 1557.22 1464.36 Q1555.81 1461.13 1552.92 1461.13 Q1548.82 1461.13 1546.4 1464.66 Q1546.1 1465.1 1545.76 1465.13 Q1545.26 1465.13 1545.14 1464.86 Q1545.04 1464.56 1545.04 1463.79 L1545.04 1448.82 Q1545.04 1447.61 1545.53 1447.61 Q1545.73 1447.61 1546.15 1447.76 Q1549.34 1449.17 1552.87 1449.19 Q1556.5 1449.19 1559.76 1447.71 Q1560.01 1447.56 1560.16 1447.56 Q1560.65 1447.56 1560.68 1448.13 Q1560.68 1448.33 1560.26 1448.92 Q1559.86 1449.49 1559 1450.26 Q1558.13 1451 1557.02 1451.71 Q1555.91 1452.43 1554.28 1452.93 Q1552.67 1453.39 1550.89 1453.39 Q1548.77 1453.39 1546.6 1452.73 L1546.6 1462.58 Q1549.21 1460.01 1553.02 1460.01 Q1557.07 1460.01 1559.86 1463.28 Q1562.65 1466.54 1562.65 1471.08 Q1562.65 1475.85 1559.34 1479.11 Q1556.06 1482.37 1551.61 1482.37 Q1547.56 1482.37 1544.99 1479.48 Q1542.45 1476.59 1542.45 1473.11 Z\" fill=\"#000000\" fill-rule=\"nonzero\" fill-opacity=\"1\" /><path clip-path=\"url(#clip120)\" d=\"M1935.28 1452.38 L1935.28 1450.8 Q1941.35 1450.8 1944.49 1447.56 Q1945.36 1447.56 1945.5 1447.76 Q1945.65 1447.96 1945.65 1448.87 L1945.65 1477.26 Q1945.65 1478.76 1946.39 1479.23 Q1947.14 1479.7 1950.37 1479.7 L1951.98 1479.7 L1951.98 1481.26 Q1950.2 1481.11 1943.78 1481.11 Q1937.35 1481.11 1935.6 1481.26 L1935.6 1479.7 L1937.2 1479.7 Q1940.39 1479.7 1941.16 1479.26 Q1941.92 1478.79 1941.92 1477.26 L1941.92 1451.05 Q1939.28 1452.38 1935.28 1452.38 Z\" fill=\"#000000\" fill-rule=\"nonzero\" fill-opacity=\"1\" /><path clip-path=\"url(#clip120)\" d=\"M1958.05 1465.08 Q1958.05 1457.64 1959.93 1453.59 Q1962.55 1447.56 1968.73 1447.56 Q1970.04 1447.56 1971.39 1447.94 Q1972.78 1448.28 1974.51 1449.64 Q1976.26 1451 1977.32 1453.22 Q1979.35 1457.52 1979.35 1465.08 Q1979.35 1472.47 1977.47 1476.49 Q1974.73 1482.37 1968.68 1482.37 Q1966.4 1482.37 1964.08 1481.21 Q1961.78 1480.05 1960.33 1477.26 Q1958.05 1473.08 1958.05 1465.08 M1962.25 1464.46 Q1962.25 1472.09 1962.8 1475.13 Q1963.41 1478.42 1965.09 1479.85 Q1966.8 1481.26 1968.68 1481.26 Q1970.7 1481.26 1972.38 1479.75 Q1974.09 1478.22 1974.61 1474.94 Q1975.17 1471.7 1975.15 1464.46 Q1975.15 1457.42 1974.65 1454.6 Q1973.99 1451.32 1972.21 1450.01 Q1970.46 1448.68 1968.68 1448.68 Q1968.01 1448.68 1967.29 1448.87 Q1966.6 1449.07 1965.59 1449.64 Q1964.58 1450.21 1963.79 1451.62 Q1963.02 1453.02 1962.65 1455.15 Q1962.25 1457.89 1962.25 1464.46 Z\" fill=\"#000000\" fill-rule=\"nonzero\" fill-opacity=\"1\" /><path clip-path=\"url(#clip120)\" d=\"M1983.35 1465.08 Q1983.35 1457.64 1985.23 1453.59 Q1987.85 1447.56 1994.02 1447.56 Q1995.33 1447.56 1996.69 1447.94 Q1998.07 1448.28 1999.8 1449.64 Q2001.56 1451 2002.62 1453.22 Q2004.64 1457.52 2004.64 1465.08 Q2004.64 1472.47 2002.77 1476.49 Q2000.02 1482.37 1993.97 1482.37 Q1991.7 1482.37 1989.38 1481.21 Q1987.08 1480.05 1985.62 1477.26 Q1983.35 1473.08 1983.35 1465.08 M1987.55 1464.46 Q1987.55 1472.09 1988.09 1475.13 Q1988.71 1478.42 1990.39 1479.85 Q1992.1 1481.26 1993.97 1481.26 Q1996 1481.26 1997.68 1479.75 Q1999.38 1478.22 1999.9 1474.94 Q2000.47 1471.7 2000.44 1464.46 Q2000.44 1457.42 1999.95 1454.6 Q1999.28 1451.32 1997.51 1450.01 Q1995.75 1448.68 1993.97 1448.68 Q1993.31 1448.68 1992.59 1448.87 Q1991.9 1449.07 1990.88 1449.64 Q1989.87 1450.21 1989.08 1451.62 Q1988.32 1453.02 1987.95 1455.15 Q1987.55 1457.89 1987.55 1464.46 Z\" fill=\"#000000\" fill-rule=\"nonzero\" fill-opacity=\"1\" /><path clip-path=\"url(#clip120)\" d=\"M977.376 1568.91 L977.376 1566.57 L979.192 1566.57 Q983.305 1566.57 984.232 1565.91 Q985.195 1565.2 985.195 1562.98 L985.195 1523 Q985.195 1520.81 984.232 1520.14 Q983.268 1519.44 979.192 1519.44 L977.376 1519.44 L977.376 1517.07 Q980.044 1517.29 988.604 1517.29 Q997.09 1517.29 999.758 1517.07 L999.758 1519.44 L997.942 1519.44 Q993.829 1519.44 992.865 1520.14 Q991.939 1520.81 991.939 1523 L991.939 1540.75 L1014.62 1540.75 L1014.62 1523 Q1014.62 1520.81 1013.65 1520.14 Q1012.73 1519.44 1008.61 1519.44 L1006.8 1519.44 L1006.8 1517.07 Q1009.47 1517.29 1018.03 1517.29 Q1026.51 1517.29 1029.18 1517.07 L1029.18 1519.44 L1027.36 1519.44 Q1023.25 1519.44 1022.29 1520.14 Q1021.36 1520.81 1021.36 1523 L1021.36 1562.98 Q1021.36 1565.17 1022.32 1565.87 Q1023.29 1566.57 1027.36 1566.57 L1029.18 1566.57 L1029.18 1568.91 Q1026.51 1568.69 1017.95 1568.69 Q1009.47 1568.69 1006.8 1568.91 L1006.8 1566.57 L1008.61 1566.57 Q1012.73 1566.57 1013.65 1565.91 Q1014.62 1565.2 1014.62 1562.98 L1014.62 1543.12 L991.939 1543.12 L991.939 1562.98 Q991.939 1565.17 992.865 1565.87 Q993.829 1566.57 997.942 1566.57 L999.758 1566.57 L999.758 1568.91 Q997.09 1568.69 988.53 1568.69 Q980.044 1568.69 977.376 1568.91 Z\" fill=\"#000000\" fill-rule=\"nonzero\" fill-opacity=\"1\" /><path clip-path=\"url(#clip120)\" d=\"M1038.89 1564.83 Q1033.89 1559.87 1033.89 1552.68 Q1033.89 1545.45 1038.78 1540.19 Q1043.7 1534.89 1050.75 1534.89 Q1057.64 1534.89 1062.57 1540.15 Q1067.53 1545.38 1067.53 1552.68 Q1067.53 1559.83 1062.53 1564.79 Q1057.56 1569.76 1050.67 1569.76 Q1043.93 1569.76 1038.89 1564.83 M1040.18 1552.05 Q1040.18 1559.42 1042.11 1562.76 Q1045.08 1567.83 1050.75 1567.83 Q1053.56 1567.83 1055.9 1566.31 Q1058.27 1564.79 1059.56 1562.24 Q1061.23 1558.9 1061.23 1552.05 Q1061.23 1544.75 1059.23 1541.52 Q1056.27 1536.6 1050.67 1536.6 Q1048.23 1536.6 1045.82 1537.89 Q1043.45 1539.15 1042 1541.67 Q1040.18 1545.01 1040.18 1552.05 Z\" fill=\"#000000\" fill-rule=\"nonzero\" fill-opacity=\"1\" /><path clip-path=\"url(#clip120)\" d=\"M1072.16 1538.56 L1072.16 1536.19 L1083.32 1535.37 L1083.32 1560.57 Q1083.32 1562.39 1083.46 1563.46 Q1083.61 1564.5 1084.21 1565.72 Q1084.84 1566.94 1086.24 1567.5 Q1087.69 1568.06 1089.99 1568.06 Q1094.1 1568.06 1096.62 1564.68 Q1099.18 1561.31 1099.18 1556.31 L1099.18 1542.78 Q1099.18 1539.97 1098.18 1539.26 Q1097.18 1538.56 1093.25 1538.56 L1093.25 1536.19 L1104.4 1535.37 L1104.4 1562.31 Q1104.4 1565.13 1105.36 1565.87 Q1106.37 1566.57 1110.33 1566.57 L1110.33 1568.91 L1099.4 1569.76 L1099.4 1562.9 Q1096.21 1569.72 1089.62 1569.76 Q1086.28 1569.76 1083.98 1568.91 Q1081.72 1568.06 1080.57 1567.02 Q1079.43 1565.94 1078.8 1563.91 Q1078.2 1561.87 1078.13 1560.61 Q1078.05 1559.35 1078.05 1556.9 L1078.05 1545.53 Q1078.05 1540.38 1077.31 1539.49 Q1076.57 1538.56 1072.16 1538.56 Z\" fill=\"#000000\" fill-rule=\"nonzero\" fill-opacity=\"1\" /><path clip-path=\"url(#clip120)\" d=\"M1113.92 1568.91 L1113.92 1566.57 Q1117.96 1566.57 1118.89 1566.09 Q1119.85 1565.57 1119.85 1563.13 L1119.85 1542.78 Q1119.85 1539.97 1118.85 1539.26 Q1117.89 1538.56 1113.92 1538.56 L1113.92 1536.19 L1124.48 1535.37 L1124.48 1543.71 Q1125.56 1540.45 1127.82 1537.93 Q1130.12 1535.37 1133.82 1535.37 Q1136.27 1535.37 1137.82 1536.74 Q1139.42 1538.12 1139.42 1540 Q1139.42 1541.67 1138.38 1542.52 Q1137.38 1543.34 1136.16 1543.34 Q1134.79 1543.34 1133.82 1542.49 Q1132.9 1541.6 1132.9 1540.08 Q1132.9 1539.15 1133.3 1538.45 Q1133.75 1537.71 1134.08 1537.45 Q1134.42 1537.19 1134.64 1537.11 Q1134.49 1537.04 1133.82 1537.04 Q1129.64 1537.04 1127.23 1541.23 Q1124.86 1545.38 1124.86 1551.31 L1124.86 1562.98 Q1124.86 1565.17 1125.74 1565.87 Q1126.67 1566.57 1130.64 1566.57 L1132.23 1566.57 L1132.23 1568.91 Q1129.19 1568.69 1122.6 1568.69 Q1121.67 1568.69 1120.22 1568.72 Q1118.78 1568.76 1116.89 1568.83 Q1115 1568.91 1113.92 1568.91 Z\" fill=\"#000000\" fill-rule=\"nonzero\" fill-opacity=\"1\" /><path clip-path=\"url(#clip120)\" d=\"M1174.21 1549.94 Q1174.21 1537.11 1178.99 1526.78 Q1181.03 1522.44 1183.88 1518.81 Q1186.74 1515.18 1188.63 1513.58 Q1190.52 1511.99 1191.04 1511.99 Q1191.78 1511.99 1191.81 1512.73 Q1191.81 1513.1 1190.81 1514.03 Q1178.59 1526.48 1178.62 1549.94 Q1178.62 1573.47 1190.52 1585.43 Q1191.81 1586.73 1191.81 1587.14 Q1191.81 1587.88 1191.04 1587.88 Q1190.52 1587.88 1188.7 1586.36 Q1186.89 1584.84 1184.07 1581.36 Q1181.25 1577.88 1179.22 1573.61 Q1174.21 1563.28 1174.21 1549.94 Z\" fill=\"#000000\" fill-rule=\"nonzero\" fill-opacity=\"1\" /><path clip-path=\"url(#clip120)\" d=\"M1198.56 1568.91 L1198.56 1566.57 Q1202.6 1566.57 1203.52 1566.09 Q1204.45 1565.57 1204.45 1563.13 L1204.45 1523.66 Q1204.45 1520.85 1203.45 1520.14 Q1202.49 1519.44 1198.56 1519.44 L1198.56 1517.07 L1209.45 1516.25 L1209.45 1542.64 L1209.53 1542.64 Q1210.75 1539.89 1213.49 1537.63 Q1216.23 1535.37 1220.46 1535.37 Q1226.16 1535.37 1228.42 1538.19 Q1230.09 1540.08 1230.43 1542.19 Q1230.8 1544.3 1230.8 1549.79 L1230.8 1564.28 Q1230.87 1565.87 1232.09 1566.24 Q1233.32 1566.57 1236.72 1566.57 L1236.72 1568.91 Q1228.98 1568.69 1228.2 1568.69 Q1227.61 1568.69 1219.64 1568.91 L1219.64 1566.57 Q1223.68 1566.57 1224.61 1566.09 Q1225.57 1565.57 1225.57 1563.13 L1225.57 1545.45 Q1225.57 1541.6 1224.39 1539.34 Q1223.2 1537.04 1219.94 1537.04 Q1216.01 1537.04 1212.86 1540.34 Q1209.71 1543.64 1209.71 1549.19 L1209.71 1563.13 Q1209.71 1565.57 1210.64 1566.09 Q1211.6 1566.57 1215.6 1566.57 L1215.6 1568.91 Q1207.86 1568.69 1207.12 1568.69 Q1206.52 1568.69 1198.56 1568.91 Z\" fill=\"#000000\" fill-rule=\"nonzero\" fill-opacity=\"1\" /><path clip-path=\"url(#clip120)\" d=\"M1242.54 1587.14 Q1242.54 1586.77 1243.51 1585.84 Q1255.73 1573.39 1255.73 1549.94 Q1255.73 1526.41 1243.99 1514.51 Q1242.54 1513.14 1242.54 1512.73 Q1242.54 1511.99 1243.28 1511.99 Q1243.8 1511.99 1245.62 1513.51 Q1247.47 1515.03 1250.25 1518.51 Q1253.07 1522 1255.14 1526.26 Q1260.14 1536.6 1260.14 1549.94 Q1260.14 1562.76 1255.36 1573.1 Q1253.33 1577.43 1250.47 1581.06 Q1247.62 1584.69 1245.73 1586.29 Q1243.84 1587.88 1243.28 1587.88 Q1242.54 1587.88 1242.54 1587.14 Z\" fill=\"#000000\" fill-rule=\"nonzero\" fill-opacity=\"1\" /><polyline clip-path=\"url(#clip122)\" style=\"stroke:#000000; stroke-linecap:round; stroke-linejoin:round; stroke-width:2.8; stroke-opacity:0.4; fill:none\" points=\"216.487,1396.9 2021.03,1396.9 \"/>\n",
       "<polyline clip-path=\"url(#clip122)\" style=\"stroke:#000000; stroke-linecap:round; stroke-linejoin:round; stroke-width:2.8; stroke-opacity:0.4; fill:none\" points=\"216.487,1185.39 2021.03,1185.39 \"/>\n",
       "<polyline clip-path=\"url(#clip122)\" style=\"stroke:#000000; stroke-linecap:round; stroke-linejoin:round; stroke-width:2.8; stroke-opacity:0.4; fill:none\" points=\"216.487,973.891 2021.03,973.891 \"/>\n",
       "<polyline clip-path=\"url(#clip122)\" style=\"stroke:#000000; stroke-linecap:round; stroke-linejoin:round; stroke-width:2.8; stroke-opacity:0.4; fill:none\" points=\"216.487,762.387 2021.03,762.387 \"/>\n",
       "<polyline clip-path=\"url(#clip122)\" style=\"stroke:#000000; stroke-linecap:round; stroke-linejoin:round; stroke-width:2.8; stroke-opacity:0.4; fill:none\" points=\"216.487,550.884 2021.03,550.884 \"/>\n",
       "<polyline clip-path=\"url(#clip122)\" style=\"stroke:#000000; stroke-linecap:round; stroke-linejoin:round; stroke-width:2.8; stroke-opacity:0.4; fill:none\" points=\"216.487,339.381 2021.03,339.381 \"/>\n",
       "<polyline clip-path=\"url(#clip122)\" style=\"stroke:#000000; stroke-linecap:round; stroke-linejoin:round; stroke-width:2.8; stroke-opacity:0.4; fill:none\" points=\"216.487,127.878 2021.03,127.878 \"/>\n",
       "<polyline clip-path=\"url(#clip122)\" style=\"stroke:#000000; stroke-linecap:round; stroke-linejoin:round; stroke-width:2; stroke-opacity:0.06; fill:none\" points=\"216.487,1354.6 2021.03,1354.6 \"/>\n",
       "<polyline clip-path=\"url(#clip122)\" style=\"stroke:#000000; stroke-linecap:round; stroke-linejoin:round; stroke-width:2; stroke-opacity:0.06; fill:none\" points=\"216.487,1312.3 2021.03,1312.3 \"/>\n",
       "<polyline clip-path=\"url(#clip122)\" style=\"stroke:#000000; stroke-linecap:round; stroke-linejoin:round; stroke-width:2; stroke-opacity:0.06; fill:none\" points=\"216.487,1270 2021.03,1270 \"/>\n",
       "<polyline clip-path=\"url(#clip122)\" style=\"stroke:#000000; stroke-linecap:round; stroke-linejoin:round; stroke-width:2; stroke-opacity:0.06; fill:none\" points=\"216.487,1227.69 2021.03,1227.69 \"/>\n",
       "<polyline clip-path=\"url(#clip122)\" style=\"stroke:#000000; stroke-linecap:round; stroke-linejoin:round; stroke-width:2; stroke-opacity:0.06; fill:none\" points=\"216.487,1143.09 2021.03,1143.09 \"/>\n",
       "<polyline clip-path=\"url(#clip122)\" style=\"stroke:#000000; stroke-linecap:round; stroke-linejoin:round; stroke-width:2; stroke-opacity:0.06; fill:none\" points=\"216.487,1100.79 2021.03,1100.79 \"/>\n",
       "<polyline clip-path=\"url(#clip122)\" style=\"stroke:#000000; stroke-linecap:round; stroke-linejoin:round; stroke-width:2; stroke-opacity:0.06; fill:none\" points=\"216.487,1058.49 2021.03,1058.49 \"/>\n",
       "<polyline clip-path=\"url(#clip122)\" style=\"stroke:#000000; stroke-linecap:round; stroke-linejoin:round; stroke-width:2; stroke-opacity:0.06; fill:none\" points=\"216.487,1016.19 2021.03,1016.19 \"/>\n",
       "<polyline clip-path=\"url(#clip122)\" style=\"stroke:#000000; stroke-linecap:round; stroke-linejoin:round; stroke-width:2; stroke-opacity:0.06; fill:none\" points=\"216.487,931.59 2021.03,931.59 \"/>\n",
       "<polyline clip-path=\"url(#clip122)\" style=\"stroke:#000000; stroke-linecap:round; stroke-linejoin:round; stroke-width:2; stroke-opacity:0.06; fill:none\" points=\"216.487,889.289 2021.03,889.289 \"/>\n",
       "<polyline clip-path=\"url(#clip122)\" style=\"stroke:#000000; stroke-linecap:round; stroke-linejoin:round; stroke-width:2; stroke-opacity:0.06; fill:none\" points=\"216.487,846.989 2021.03,846.989 \"/>\n",
       "<polyline clip-path=\"url(#clip122)\" style=\"stroke:#000000; stroke-linecap:round; stroke-linejoin:round; stroke-width:2; stroke-opacity:0.06; fill:none\" points=\"216.487,804.688 2021.03,804.688 \"/>\n",
       "<polyline clip-path=\"url(#clip122)\" style=\"stroke:#000000; stroke-linecap:round; stroke-linejoin:round; stroke-width:2; stroke-opacity:0.06; fill:none\" points=\"216.487,720.087 2021.03,720.087 \"/>\n",
       "<polyline clip-path=\"url(#clip122)\" style=\"stroke:#000000; stroke-linecap:round; stroke-linejoin:round; stroke-width:2; stroke-opacity:0.06; fill:none\" points=\"216.487,677.786 2021.03,677.786 \"/>\n",
       "<polyline clip-path=\"url(#clip122)\" style=\"stroke:#000000; stroke-linecap:round; stroke-linejoin:round; stroke-width:2; stroke-opacity:0.06; fill:none\" points=\"216.487,635.486 2021.03,635.486 \"/>\n",
       "<polyline clip-path=\"url(#clip122)\" style=\"stroke:#000000; stroke-linecap:round; stroke-linejoin:round; stroke-width:2; stroke-opacity:0.06; fill:none\" points=\"216.487,593.185 2021.03,593.185 \"/>\n",
       "<polyline clip-path=\"url(#clip122)\" style=\"stroke:#000000; stroke-linecap:round; stroke-linejoin:round; stroke-width:2; stroke-opacity:0.06; fill:none\" points=\"216.487,508.584 2021.03,508.584 \"/>\n",
       "<polyline clip-path=\"url(#clip122)\" style=\"stroke:#000000; stroke-linecap:round; stroke-linejoin:round; stroke-width:2; stroke-opacity:0.06; fill:none\" points=\"216.487,466.283 2021.03,466.283 \"/>\n",
       "<polyline clip-path=\"url(#clip122)\" style=\"stroke:#000000; stroke-linecap:round; stroke-linejoin:round; stroke-width:2; stroke-opacity:0.06; fill:none\" points=\"216.487,423.982 2021.03,423.982 \"/>\n",
       "<polyline clip-path=\"url(#clip122)\" style=\"stroke:#000000; stroke-linecap:round; stroke-linejoin:round; stroke-width:2; stroke-opacity:0.06; fill:none\" points=\"216.487,381.682 2021.03,381.682 \"/>\n",
       "<polyline clip-path=\"url(#clip122)\" style=\"stroke:#000000; stroke-linecap:round; stroke-linejoin:round; stroke-width:2; stroke-opacity:0.06; fill:none\" points=\"216.487,297.08 2021.03,297.08 \"/>\n",
       "<polyline clip-path=\"url(#clip122)\" style=\"stroke:#000000; stroke-linecap:round; stroke-linejoin:round; stroke-width:2; stroke-opacity:0.06; fill:none\" points=\"216.487,254.78 2021.03,254.78 \"/>\n",
       "<polyline clip-path=\"url(#clip122)\" style=\"stroke:#000000; stroke-linecap:round; stroke-linejoin:round; stroke-width:2; stroke-opacity:0.06; fill:none\" points=\"216.487,212.479 2021.03,212.479 \"/>\n",
       "<polyline clip-path=\"url(#clip122)\" style=\"stroke:#000000; stroke-linecap:round; stroke-linejoin:round; stroke-width:2; stroke-opacity:0.06; fill:none\" points=\"216.487,170.178 2021.03,170.178 \"/>\n",
       "<polyline clip-path=\"url(#clip122)\" style=\"stroke:#000000; stroke-linecap:round; stroke-linejoin:round; stroke-width:2; stroke-opacity:0.06; fill:none\" points=\"216.487,85.577 2021.03,85.577 \"/>\n",
       "<polyline clip-path=\"url(#clip120)\" style=\"stroke:#000000; stroke-linecap:round; stroke-linejoin:round; stroke-width:4; stroke-opacity:1; fill:none\" points=\"216.487,1418.86 216.487,47.2441 \"/>\n",
       "<polyline clip-path=\"url(#clip120)\" style=\"stroke:#000000; stroke-linecap:round; stroke-linejoin:round; stroke-width:4; stroke-opacity:1; fill:none\" points=\"2021.03,1418.86 2021.03,47.2441 \"/>\n",
       "<polyline clip-path=\"url(#clip120)\" style=\"stroke:#000000; stroke-linecap:round; stroke-linejoin:round; stroke-width:4; stroke-opacity:1; fill:none\" points=\"216.487,1396.9 232.45,1396.9 \"/>\n",
       "<polyline clip-path=\"url(#clip120)\" style=\"stroke:#000000; stroke-linecap:round; stroke-linejoin:round; stroke-width:4; stroke-opacity:1; fill:none\" points=\"216.487,1185.39 232.45,1185.39 \"/>\n",
       "<polyline clip-path=\"url(#clip120)\" style=\"stroke:#000000; stroke-linecap:round; stroke-linejoin:round; stroke-width:4; stroke-opacity:1; fill:none\" points=\"216.487,973.891 232.45,973.891 \"/>\n",
       "<polyline clip-path=\"url(#clip120)\" style=\"stroke:#000000; stroke-linecap:round; stroke-linejoin:round; stroke-width:4; stroke-opacity:1; fill:none\" points=\"216.487,762.387 232.45,762.387 \"/>\n",
       "<polyline clip-path=\"url(#clip120)\" style=\"stroke:#000000; stroke-linecap:round; stroke-linejoin:round; stroke-width:4; stroke-opacity:1; fill:none\" points=\"216.487,550.884 232.45,550.884 \"/>\n",
       "<polyline clip-path=\"url(#clip120)\" style=\"stroke:#000000; stroke-linecap:round; stroke-linejoin:round; stroke-width:4; stroke-opacity:1; fill:none\" points=\"216.487,339.381 232.45,339.381 \"/>\n",
       "<polyline clip-path=\"url(#clip120)\" style=\"stroke:#000000; stroke-linecap:round; stroke-linejoin:round; stroke-width:4; stroke-opacity:1; fill:none\" points=\"216.487,127.878 232.45,127.878 \"/>\n",
       "<polyline clip-path=\"url(#clip120)\" style=\"stroke:#000000; stroke-linecap:round; stroke-linejoin:round; stroke-width:4; stroke-opacity:1; fill:none\" points=\"216.487,1354.6 224.468,1354.6 \"/>\n",
       "<polyline clip-path=\"url(#clip120)\" style=\"stroke:#000000; stroke-linecap:round; stroke-linejoin:round; stroke-width:4; stroke-opacity:1; fill:none\" points=\"216.487,1312.3 224.468,1312.3 \"/>\n",
       "<polyline clip-path=\"url(#clip120)\" style=\"stroke:#000000; stroke-linecap:round; stroke-linejoin:round; stroke-width:4; stroke-opacity:1; fill:none\" points=\"216.487,1270 224.468,1270 \"/>\n",
       "<polyline clip-path=\"url(#clip120)\" style=\"stroke:#000000; stroke-linecap:round; stroke-linejoin:round; stroke-width:4; stroke-opacity:1; fill:none\" points=\"216.487,1227.69 224.468,1227.69 \"/>\n",
       "<polyline clip-path=\"url(#clip120)\" style=\"stroke:#000000; stroke-linecap:round; stroke-linejoin:round; stroke-width:4; stroke-opacity:1; fill:none\" points=\"216.487,1143.09 224.468,1143.09 \"/>\n",
       "<polyline clip-path=\"url(#clip120)\" style=\"stroke:#000000; stroke-linecap:round; stroke-linejoin:round; stroke-width:4; stroke-opacity:1; fill:none\" points=\"216.487,1100.79 224.468,1100.79 \"/>\n",
       "<polyline clip-path=\"url(#clip120)\" style=\"stroke:#000000; stroke-linecap:round; stroke-linejoin:round; stroke-width:4; stroke-opacity:1; fill:none\" points=\"216.487,1058.49 224.468,1058.49 \"/>\n",
       "<polyline clip-path=\"url(#clip120)\" style=\"stroke:#000000; stroke-linecap:round; stroke-linejoin:round; stroke-width:4; stroke-opacity:1; fill:none\" points=\"216.487,1016.19 224.468,1016.19 \"/>\n",
       "<polyline clip-path=\"url(#clip120)\" style=\"stroke:#000000; stroke-linecap:round; stroke-linejoin:round; stroke-width:4; stroke-opacity:1; fill:none\" points=\"216.487,931.59 224.468,931.59 \"/>\n",
       "<polyline clip-path=\"url(#clip120)\" style=\"stroke:#000000; stroke-linecap:round; stroke-linejoin:round; stroke-width:4; stroke-opacity:1; fill:none\" points=\"216.487,889.289 224.468,889.289 \"/>\n",
       "<polyline clip-path=\"url(#clip120)\" style=\"stroke:#000000; stroke-linecap:round; stroke-linejoin:round; stroke-width:4; stroke-opacity:1; fill:none\" points=\"216.487,846.989 224.468,846.989 \"/>\n",
       "<polyline clip-path=\"url(#clip120)\" style=\"stroke:#000000; stroke-linecap:round; stroke-linejoin:round; stroke-width:4; stroke-opacity:1; fill:none\" points=\"216.487,804.688 224.468,804.688 \"/>\n",
       "<polyline clip-path=\"url(#clip120)\" style=\"stroke:#000000; stroke-linecap:round; stroke-linejoin:round; stroke-width:4; stroke-opacity:1; fill:none\" points=\"216.487,720.087 224.468,720.087 \"/>\n",
       "<polyline clip-path=\"url(#clip120)\" style=\"stroke:#000000; stroke-linecap:round; stroke-linejoin:round; stroke-width:4; stroke-opacity:1; fill:none\" points=\"216.487,677.786 224.468,677.786 \"/>\n",
       "<polyline clip-path=\"url(#clip120)\" style=\"stroke:#000000; stroke-linecap:round; stroke-linejoin:round; stroke-width:4; stroke-opacity:1; fill:none\" points=\"216.487,635.486 224.468,635.486 \"/>\n",
       "<polyline clip-path=\"url(#clip120)\" style=\"stroke:#000000; stroke-linecap:round; stroke-linejoin:round; stroke-width:4; stroke-opacity:1; fill:none\" points=\"216.487,593.185 224.468,593.185 \"/>\n",
       "<polyline clip-path=\"url(#clip120)\" style=\"stroke:#000000; stroke-linecap:round; stroke-linejoin:round; stroke-width:4; stroke-opacity:1; fill:none\" points=\"216.487,508.584 224.468,508.584 \"/>\n",
       "<polyline clip-path=\"url(#clip120)\" style=\"stroke:#000000; stroke-linecap:round; stroke-linejoin:round; stroke-width:4; stroke-opacity:1; fill:none\" points=\"216.487,466.283 224.468,466.283 \"/>\n",
       "<polyline clip-path=\"url(#clip120)\" style=\"stroke:#000000; stroke-linecap:round; stroke-linejoin:round; stroke-width:4; stroke-opacity:1; fill:none\" points=\"216.487,423.982 224.468,423.982 \"/>\n",
       "<polyline clip-path=\"url(#clip120)\" style=\"stroke:#000000; stroke-linecap:round; stroke-linejoin:round; stroke-width:4; stroke-opacity:1; fill:none\" points=\"216.487,381.682 224.468,381.682 \"/>\n",
       "<polyline clip-path=\"url(#clip120)\" style=\"stroke:#000000; stroke-linecap:round; stroke-linejoin:round; stroke-width:4; stroke-opacity:1; fill:none\" points=\"216.487,297.08 224.468,297.08 \"/>\n",
       "<polyline clip-path=\"url(#clip120)\" style=\"stroke:#000000; stroke-linecap:round; stroke-linejoin:round; stroke-width:4; stroke-opacity:1; fill:none\" points=\"216.487,254.78 224.468,254.78 \"/>\n",
       "<polyline clip-path=\"url(#clip120)\" style=\"stroke:#000000; stroke-linecap:round; stroke-linejoin:round; stroke-width:4; stroke-opacity:1; fill:none\" points=\"216.487,212.479 224.468,212.479 \"/>\n",
       "<polyline clip-path=\"url(#clip120)\" style=\"stroke:#000000; stroke-linecap:round; stroke-linejoin:round; stroke-width:4; stroke-opacity:1; fill:none\" points=\"216.487,170.178 224.468,170.178 \"/>\n",
       "<polyline clip-path=\"url(#clip120)\" style=\"stroke:#000000; stroke-linecap:round; stroke-linejoin:round; stroke-width:4; stroke-opacity:1; fill:none\" points=\"216.487,85.577 224.468,85.577 \"/>\n",
       "<path clip-path=\"url(#clip120)\" d=\"M121.915 1398 Q121.915 1390.56 123.793 1386.51 Q126.411 1380.48 132.587 1380.48 Q133.896 1380.48 135.255 1380.85 Q136.638 1381.2 138.368 1382.56 Q140.121 1383.92 141.184 1386.14 Q143.209 1390.44 143.209 1398 Q143.209 1405.38 141.332 1409.41 Q138.59 1415.29 132.538 1415.29 Q130.265 1415.29 127.943 1414.13 Q125.645 1412.97 124.188 1410.18 Q121.915 1406 121.915 1398 M126.115 1397.38 Q126.115 1405.01 126.658 1408.05 Q127.276 1411.34 128.956 1412.77 Q130.66 1414.18 132.538 1414.18 Q134.563 1414.18 136.243 1412.67 Q137.948 1411.14 138.466 1407.85 Q139.035 1404.62 139.01 1397.38 Q139.01 1390.34 138.516 1387.52 Q137.849 1384.24 136.07 1382.93 Q134.316 1381.59 132.538 1381.59 Q131.871 1381.59 131.154 1381.79 Q130.462 1381.99 129.45 1382.56 Q128.437 1383.13 127.646 1384.53 Q126.88 1385.94 126.51 1388.07 Q126.115 1390.81 126.115 1397.38 Z\" fill=\"#000000\" fill-rule=\"nonzero\" fill-opacity=\"1\" /><path clip-path=\"url(#clip120)\" d=\"M150.299 1413.36 Q149.533 1412.55 149.533 1411.48 Q149.533 1410.42 150.299 1409.66 Q151.065 1408.87 152.226 1408.87 Q153.338 1408.87 154.079 1409.61 Q154.845 1410.32 154.845 1411.51 Q154.845 1412.67 154.029 1413.44 Q153.239 1414.18 152.226 1414.18 Q151.065 1414.18 150.299 1413.36 Z\" fill=\"#000000\" fill-rule=\"nonzero\" fill-opacity=\"1\" /><path clip-path=\"url(#clip120)\" d=\"M163.787 1385.3 L163.787 1383.72 Q169.864 1383.72 173.002 1380.48 Q173.866 1380.48 174.014 1380.68 Q174.163 1380.88 174.163 1381.79 L174.163 1410.18 Q174.163 1411.68 174.904 1412.15 Q175.645 1412.62 178.881 1412.62 L180.487 1412.62 L180.487 1414.18 Q178.708 1414.03 172.285 1414.03 Q165.862 1414.03 164.108 1414.18 L164.108 1412.62 L165.714 1412.62 Q168.901 1412.62 169.667 1412.18 Q170.433 1411.71 170.433 1410.18 L170.433 1383.97 Q167.789 1385.3 163.787 1385.3 Z\" fill=\"#000000\" fill-rule=\"nonzero\" fill-opacity=\"1\" /><path clip-path=\"url(#clip120)\" d=\"M120.384 1186.49 Q120.384 1179.06 122.261 1175.01 Q124.88 1168.98 131.055 1168.98 Q132.365 1168.98 133.723 1169.35 Q135.107 1169.7 136.836 1171.05 Q138.59 1172.41 139.652 1174.64 Q141.678 1178.93 141.678 1186.49 Q141.678 1193.88 139.8 1197.91 Q137.058 1203.79 131.006 1203.79 Q128.733 1203.79 126.411 1202.62 Q124.114 1201.46 122.656 1198.67 Q120.384 1194.5 120.384 1186.49 M124.583 1185.88 Q124.583 1193.51 125.127 1196.55 Q125.744 1199.83 127.424 1201.27 Q129.128 1202.67 131.006 1202.67 Q133.032 1202.67 134.711 1201.17 Q136.416 1199.64 136.935 1196.35 Q137.503 1193.11 137.478 1185.88 Q137.478 1178.84 136.984 1176.02 Q136.317 1172.73 134.539 1171.42 Q132.785 1170.09 131.006 1170.09 Q130.339 1170.09 129.623 1170.29 Q128.931 1170.49 127.918 1171.05 Q126.905 1171.62 126.115 1173.03 Q125.349 1174.44 124.978 1176.56 Q124.583 1179.3 124.583 1185.88 Z\" fill=\"#000000\" fill-rule=\"nonzero\" fill-opacity=\"1\" /><path clip-path=\"url(#clip120)\" d=\"M148.768 1201.86 Q148.002 1201.04 148.002 1199.98 Q148.002 1198.92 148.768 1198.15 Q149.533 1197.36 150.695 1197.36 Q151.806 1197.36 152.547 1198.1 Q153.313 1198.82 153.313 1200.01 Q153.313 1201.17 152.498 1201.93 Q151.707 1202.67 150.695 1202.67 Q149.533 1202.67 148.768 1201.86 Z\" fill=\"#000000\" fill-rule=\"nonzero\" fill-opacity=\"1\" /><path clip-path=\"url(#clip120)\" d=\"M160.279 1202.67 Q160.279 1201.76 160.354 1201.49 Q160.452 1201.22 160.848 1200.8 L170.556 1189.98 Q175.867 1184 175.867 1178.79 Q175.867 1175.4 174.089 1172.98 Q172.335 1170.56 169.099 1170.56 Q166.875 1170.56 164.998 1171.92 Q163.12 1173.28 162.256 1175.7 Q162.404 1175.65 162.923 1175.65 Q164.183 1175.65 164.874 1176.44 Q165.591 1177.23 165.591 1178.29 Q165.591 1179.65 164.701 1180.32 Q163.837 1180.96 162.972 1180.96 Q162.626 1180.96 162.157 1180.89 Q161.712 1180.81 160.996 1180.12 Q160.279 1179.4 160.279 1178.14 Q160.279 1174.61 162.947 1171.79 Q165.64 1168.98 169.741 1168.98 Q174.385 1168.98 177.424 1171.75 Q180.487 1174.49 180.487 1178.79 Q180.487 1180.29 180.017 1181.68 Q179.573 1183.03 178.955 1184.1 Q178.362 1185.16 176.732 1186.86 Q175.101 1188.57 173.792 1189.78 Q172.483 1190.99 169.543 1193.56 L164.183 1198.77 L173.298 1198.77 Q177.745 1198.77 178.091 1198.38 Q178.585 1197.66 179.202 1193.88 L180.487 1193.88 L179.054 1202.67 L160.279 1202.67 Z\" fill=\"#000000\" fill-rule=\"nonzero\" fill-opacity=\"1\" /><path clip-path=\"url(#clip120)\" d=\"M119.988 974.99 Q119.988 967.554 121.866 963.503 Q124.484 957.475 130.66 957.475 Q131.969 957.475 133.328 957.846 Q134.711 958.192 136.441 959.55 Q138.195 960.909 139.257 963.132 Q141.283 967.431 141.283 974.99 Q141.283 982.376 139.405 986.403 Q136.663 992.282 130.611 992.282 Q128.338 992.282 126.016 991.121 Q123.718 989.96 122.261 987.169 Q119.988 982.994 119.988 974.99 M124.188 974.372 Q124.188 982.006 124.731 985.044 Q125.349 988.33 127.029 989.763 Q128.733 991.171 130.611 991.171 Q132.636 991.171 134.316 989.664 Q136.021 988.132 136.539 984.847 Q137.108 981.611 137.083 974.372 Q137.083 967.332 136.589 964.516 Q135.922 961.23 134.143 959.921 Q132.389 958.587 130.611 958.587 Q129.944 958.587 129.227 958.785 Q128.536 958.982 127.523 959.55 Q126.51 960.119 125.719 961.527 Q124.954 962.935 124.583 965.059 Q124.188 967.801 124.188 974.372 Z\" fill=\"#000000\" fill-rule=\"nonzero\" fill-opacity=\"1\" /><path clip-path=\"url(#clip120)\" d=\"M148.372 990.356 Q147.607 989.54 147.607 988.478 Q147.607 987.416 148.372 986.65 Q149.138 985.86 150.299 985.86 Q151.411 985.86 152.152 986.601 Q152.918 987.317 152.918 988.503 Q152.918 989.664 152.103 990.43 Q151.312 991.171 150.299 991.171 Q149.138 991.171 148.372 990.356 Z\" fill=\"#000000\" fill-rule=\"nonzero\" fill-opacity=\"1\" /><path clip-path=\"url(#clip120)\" d=\"M159.489 984.353 Q159.489 982.846 160.354 982.129 Q161.218 981.413 162.33 981.413 Q163.491 981.413 164.306 982.179 Q165.146 982.92 165.146 984.229 Q165.146 985.637 164.158 986.428 Q163.194 987.218 161.811 987.021 Q163.022 989.046 165.245 989.96 Q167.493 990.874 169.568 990.874 Q171.742 990.874 173.496 988.997 Q175.274 987.119 175.274 982.525 Q175.274 978.621 173.743 976.373 Q172.236 974.125 169.247 974.125 L167.023 974.125 Q166.258 974.125 166.035 974.051 Q165.813 973.977 165.813 973.557 Q165.813 973.063 166.579 972.964 Q167.345 972.964 168.555 972.816 Q171.495 972.717 173.051 970.173 Q174.459 967.801 174.459 964.417 Q174.459 961.329 172.977 960.045 Q171.519 958.735 169.617 958.735 Q167.839 958.735 165.887 959.476 Q163.936 960.217 162.873 961.873 Q166.011 961.873 166.011 964.417 Q166.011 965.529 165.294 966.27 Q164.603 966.986 163.441 966.986 Q162.33 966.986 161.589 966.294 Q160.848 965.578 160.848 964.368 Q160.848 961.477 163.417 959.476 Q166.011 957.475 169.815 957.475 Q173.57 957.475 176.337 959.452 Q179.128 961.428 179.128 964.466 Q179.128 967.456 177.152 969.901 Q175.176 972.347 172.038 973.36 Q175.892 974.125 178.189 976.744 Q180.487 979.338 180.487 982.525 Q180.487 986.477 177.374 989.392 Q174.262 992.282 169.716 992.282 Q165.517 992.282 162.503 990.01 Q159.489 987.737 159.489 984.353 Z\" fill=\"#000000\" fill-rule=\"nonzero\" fill-opacity=\"1\" /><path clip-path=\"url(#clip120)\" d=\"M119.272 763.487 Q119.272 756.051 121.149 752 Q123.768 745.972 129.944 745.972 Q131.253 745.972 132.612 746.343 Q133.995 746.688 135.724 748.047 Q137.478 749.406 138.54 751.629 Q140.566 755.928 140.566 763.487 Q140.566 770.873 138.689 774.9 Q135.947 780.779 129.894 780.779 Q127.622 780.779 125.299 779.618 Q123.002 778.457 121.545 775.666 Q119.272 771.491 119.272 763.487 M123.471 762.869 Q123.471 770.503 124.015 773.541 Q124.632 776.827 126.312 778.259 Q128.017 779.667 129.894 779.667 Q131.92 779.667 133.6 778.161 Q135.304 776.629 135.823 773.343 Q136.391 770.107 136.367 762.869 Q136.367 755.829 135.873 753.013 Q135.206 749.727 133.427 748.418 Q131.673 747.084 129.894 747.084 Q129.227 747.084 128.511 747.281 Q127.819 747.479 126.806 748.047 Q125.794 748.615 125.003 750.023 Q124.237 751.432 123.867 753.556 Q123.471 756.298 123.471 762.869 Z\" fill=\"#000000\" fill-rule=\"nonzero\" fill-opacity=\"1\" /><path clip-path=\"url(#clip120)\" d=\"M147.656 778.852 Q146.89 778.037 146.89 776.975 Q146.89 775.913 147.656 775.147 Q148.422 774.356 149.583 774.356 Q150.695 774.356 151.436 775.097 Q152.201 775.814 152.201 777 Q152.201 778.161 151.386 778.926 Q150.596 779.667 149.583 779.667 Q148.422 779.667 147.656 778.852 Z\" fill=\"#000000\" fill-rule=\"nonzero\" fill-opacity=\"1\" /><path clip-path=\"url(#clip120)\" d=\"M158.056 771.318 L158.056 769.761 L173.595 746.021 Q173.99 745.404 174.607 745.429 Q175.176 745.429 175.299 745.651 Q175.423 745.873 175.423 746.738 L175.423 769.761 L180.487 769.761 L180.487 771.318 L175.423 771.318 L175.423 775.715 Q175.423 777.172 176.015 777.642 Q176.633 778.111 179.252 778.111 L180.314 778.111 L180.314 779.667 Q178.239 779.519 173.446 779.519 Q168.679 779.519 166.603 779.667 L166.603 778.111 L167.666 778.111 Q170.284 778.111 170.902 777.667 Q171.519 777.197 171.519 775.715 L171.519 771.318 L158.056 771.318 M159.489 769.761 L171.816 769.761 L171.816 750.888 L159.489 769.761 Z\" fill=\"#000000\" fill-rule=\"nonzero\" fill-opacity=\"1\" /><path clip-path=\"url(#clip120)\" d=\"M120.384 551.983 Q120.384 544.548 122.261 540.496 Q124.88 534.469 131.055 534.469 Q132.365 534.469 133.723 534.839 Q135.107 535.185 136.836 536.544 Q138.59 537.903 139.652 540.126 Q141.678 544.424 141.678 551.983 Q141.678 559.37 139.8 563.396 Q137.058 569.276 131.006 569.276 Q128.733 569.276 126.411 568.115 Q124.114 566.954 122.656 564.162 Q120.384 559.987 120.384 551.983 M124.583 551.366 Q124.583 558.999 125.127 562.038 Q125.744 565.323 127.424 566.756 Q129.128 568.164 131.006 568.164 Q133.032 568.164 134.711 566.657 Q136.416 565.126 136.935 561.84 Q137.503 558.604 137.478 551.366 Q137.478 544.325 136.984 541.509 Q136.317 538.224 134.539 536.914 Q132.785 535.58 131.006 535.58 Q130.339 535.58 129.623 535.778 Q128.931 535.976 127.918 536.544 Q126.905 537.112 126.115 538.52 Q125.349 539.928 124.978 542.053 Q124.583 544.795 124.583 551.366 Z\" fill=\"#000000\" fill-rule=\"nonzero\" fill-opacity=\"1\" /><path clip-path=\"url(#clip120)\" d=\"M148.768 567.349 Q148.002 566.534 148.002 565.472 Q148.002 564.409 148.768 563.643 Q149.533 562.853 150.695 562.853 Q151.806 562.853 152.547 563.594 Q153.313 564.31 153.313 565.496 Q153.313 566.657 152.498 567.423 Q151.707 568.164 150.695 568.164 Q149.533 568.164 148.768 567.349 Z\" fill=\"#000000\" fill-rule=\"nonzero\" fill-opacity=\"1\" /><path clip-path=\"url(#clip120)\" d=\"M160.279 560.012 Q160.279 558.505 161.095 557.937 Q161.91 557.344 162.774 557.344 Q163.936 557.344 164.603 558.085 Q165.294 558.802 165.294 559.814 Q165.294 560.827 164.603 561.568 Q163.936 562.285 162.774 562.285 Q162.206 562.285 161.91 562.186 Q162.577 564.508 164.603 566.188 Q166.653 567.868 169.346 567.868 Q172.73 567.868 174.756 564.582 Q175.966 562.458 175.966 557.641 Q175.966 553.392 175.052 551.267 Q173.644 548.031 170.754 548.031 Q166.653 548.031 164.232 551.564 Q163.936 552.008 163.59 552.033 Q163.096 552.033 162.972 551.761 Q162.873 551.465 162.873 550.699 L162.873 535.729 Q162.873 534.518 163.367 534.518 Q163.565 534.518 163.985 534.666 Q167.172 536.075 170.704 536.099 Q174.336 536.099 177.596 534.617 Q177.844 534.469 177.992 534.469 Q178.486 534.469 178.511 535.037 Q178.511 535.235 178.091 535.827 Q177.695 536.396 176.831 537.161 Q175.966 537.903 174.854 538.619 Q173.743 539.335 172.112 539.829 Q170.507 540.299 168.728 540.299 Q166.603 540.299 164.43 539.632 L164.43 549.488 Q167.048 546.919 170.852 546.919 Q174.904 546.919 177.695 550.18 Q180.487 553.441 180.487 557.986 Q180.487 562.754 177.177 566.015 Q173.891 569.276 169.444 569.276 Q165.393 569.276 162.824 566.386 Q160.279 563.495 160.279 560.012 Z\" fill=\"#000000\" fill-rule=\"nonzero\" fill-opacity=\"1\" /><path clip-path=\"url(#clip120)\" d=\"M119.988 340.48 Q119.988 333.044 121.866 328.993 Q124.484 322.966 130.66 322.966 Q131.969 322.966 133.328 323.336 Q134.711 323.682 136.441 325.041 Q138.195 326.399 139.257 328.623 Q141.283 332.921 141.283 340.48 Q141.283 347.867 139.405 351.893 Q136.663 357.773 130.611 357.773 Q128.338 357.773 126.016 356.611 Q123.718 355.45 122.261 352.659 Q119.988 348.484 119.988 340.48 M124.188 339.863 Q124.188 347.496 124.731 350.534 Q125.349 353.82 127.029 355.253 Q128.733 356.661 130.611 356.661 Q132.636 356.661 134.316 355.154 Q136.021 353.622 136.539 350.337 Q137.108 347.101 137.083 339.863 Q137.083 332.822 136.589 330.006 Q135.922 326.72 134.143 325.411 Q132.389 324.077 130.611 324.077 Q129.944 324.077 129.227 324.275 Q128.536 324.472 127.523 325.041 Q126.51 325.609 125.719 327.017 Q124.954 328.425 124.583 330.549 Q124.188 333.292 124.188 339.863 Z\" fill=\"#000000\" fill-rule=\"nonzero\" fill-opacity=\"1\" /><path clip-path=\"url(#clip120)\" d=\"M148.372 355.846 Q147.607 355.03 147.607 353.968 Q147.607 352.906 148.372 352.14 Q149.138 351.35 150.299 351.35 Q151.411 351.35 152.152 352.091 Q152.918 352.807 152.918 353.993 Q152.918 355.154 152.103 355.92 Q151.312 356.661 150.299 356.661 Q149.138 356.661 148.372 355.846 Z\" fill=\"#000000\" fill-rule=\"nonzero\" fill-opacity=\"1\" /><path clip-path=\"url(#clip120)\" d=\"M159.489 340.678 Q159.489 332.723 163.54 327.857 Q167.592 322.966 172.804 322.966 Q175.843 322.966 177.522 324.522 Q179.227 326.053 179.227 328.425 Q179.227 329.734 178.461 330.302 Q177.695 330.871 176.905 330.871 Q175.991 330.871 175.274 330.253 Q174.558 329.635 174.558 328.524 Q174.558 326.251 177.349 326.251 Q176.04 324.225 172.903 324.225 Q171.939 324.225 170.951 324.522 Q169.963 324.794 168.679 325.732 Q167.394 326.671 166.406 328.153 Q165.418 329.635 164.726 332.427 Q164.034 335.218 164.034 338.85 L164.034 340.06 Q166.109 335.045 170.358 335.07 Q174.607 335.07 177.547 338.306 Q180.487 341.542 180.487 346.335 Q180.487 351.251 177.424 354.512 Q174.36 357.773 170.062 357.773 Q168.135 357.773 166.381 356.957 Q164.652 356.167 163.022 354.339 Q161.416 352.511 160.452 349.003 Q159.489 345.495 159.489 340.678 M164.133 345.223 Q164.133 350.189 165.047 352.56 Q165.195 352.955 165.517 353.499 Q165.862 354.042 166.431 354.759 Q167.023 355.45 167.987 355.92 Q168.95 356.364 170.062 356.364 Q173.446 356.364 175.077 353.079 Q175.941 351.251 175.941 346.285 Q175.941 341.221 175.027 339.369 Q173.471 336.231 170.309 336.231 Q168.185 336.231 166.702 337.689 Q165.245 339.146 164.677 341.098 Q164.133 343.049 164.133 345.223 Z\" fill=\"#000000\" fill-rule=\"nonzero\" fill-opacity=\"1\" /><path clip-path=\"url(#clip120)\" d=\"M118.58 128.977 Q118.58 121.541 120.458 117.49 Q123.076 111.462 129.252 111.462 Q130.561 111.462 131.92 111.833 Q133.303 112.179 135.033 113.537 Q136.787 114.896 137.849 117.119 Q139.874 121.418 139.874 128.977 Q139.874 136.363 137.997 140.39 Q135.255 146.269 129.203 146.269 Q126.93 146.269 124.608 145.108 Q122.31 143.947 120.853 141.156 Q118.58 136.981 118.58 128.977 M122.78 128.359 Q122.78 135.993 123.323 139.031 Q123.941 142.317 125.621 143.75 Q127.325 145.158 129.203 145.158 Q131.228 145.158 132.908 143.651 Q134.613 142.119 135.131 138.834 Q135.7 135.597 135.675 128.359 Q135.675 121.319 135.181 118.503 Q134.514 115.217 132.735 113.908 Q130.981 112.574 129.203 112.574 Q128.536 112.574 127.819 112.772 Q127.128 112.969 126.115 113.537 Q125.102 114.105 124.311 115.514 Q123.546 116.922 123.175 119.046 Q122.78 121.788 122.78 128.359 Z\" fill=\"#000000\" fill-rule=\"nonzero\" fill-opacity=\"1\" /><path clip-path=\"url(#clip120)\" d=\"M146.964 144.342 Q146.199 143.527 146.199 142.465 Q146.199 141.403 146.964 140.637 Q147.73 139.846 148.891 139.846 Q150.003 139.846 150.744 140.587 Q151.51 141.304 151.51 142.49 Q151.51 143.651 150.695 144.417 Q149.904 145.158 148.891 145.158 Q147.73 145.158 146.964 144.342 Z\" fill=\"#000000\" fill-rule=\"nonzero\" fill-opacity=\"1\" /><path clip-path=\"url(#clip120)\" d=\"M158.797 121.368 L160.452 110.968 L161.712 110.968 Q161.86 111.586 162.107 111.857 Q162.379 112.129 163.812 112.352 Q165.27 112.574 168.209 112.574 L180.487 112.574 Q180.487 113.735 180.042 114.353 L173.199 123.962 Q171.025 127.001 170.062 132.608 Q169.494 136.363 169.518 140.909 L169.518 143.478 Q169.518 146.269 167.172 146.269 Q164.85 146.269 164.85 143.478 Q164.85 133.819 171.075 124.456 Q171.742 123.493 174.187 120.059 Q176.658 116.625 176.757 116.477 L166.282 116.477 Q161.688 116.477 161.317 116.773 Q160.823 117.218 160.057 121.368 L158.797 121.368 Z\" fill=\"#000000\" fill-rule=\"nonzero\" fill-opacity=\"1\" /><path clip-path=\"url(#clip120)\" d=\"M41.312 1091.45 Q29.7137 1091.45 21.6357 1084.04 Q13.5207 1076.59 13.5207 1066.25 Q13.5207 1055.84 21.6357 1048.43 Q29.7508 1040.98 41.312 1040.98 Q52.762 1040.98 60.7288 1048.43 Q68.6956 1055.88 68.6956 1066.25 Q68.6956 1076.48 60.7659 1083.96 Q52.8361 1091.45 41.312 1091.45 M40.2374 1083.63 Q47.2778 1083.63 52.6879 1081.96 Q58.0608 1080.29 60.9882 1077.63 Q63.9155 1074.92 65.3236 1072.03 Q66.7317 1069.14 66.7317 1066.18 Q66.7317 1063.29 65.3607 1060.47 Q63.9896 1057.62 61.0994 1054.91 Q58.2091 1052.21 52.799 1050.5 Q47.389 1048.8 40.2374 1048.8 Q34.6791 1048.8 30.2325 1049.98 Q25.7488 1051.17 23.0438 1053.02 Q20.3388 1054.87 18.5602 1057.28 Q16.7815 1059.66 16.1145 1061.92 Q15.4105 1064.14 15.4105 1066.25 Q15.4105 1068.92 16.5962 1071.7 Q17.782 1074.48 20.4129 1077.29 Q23.0068 1080.07 28.1574 1081.85 Q33.271 1083.63 40.2374 1083.63 Z\" fill=\"#000000\" fill-rule=\"nonzero\" fill-opacity=\"1\" /><path clip-path=\"url(#clip120)\" d=\"M36.6801 1034.24 L34.3086 1034.24 L34.3086 1028.27 L25.6006 1028.27 Q19.9683 1028.27 16.7445 1024.64 Q13.5207 1020.97 13.5207 1016.49 Q13.5207 1013.52 15.114 1011.59 Q16.7074 1009.67 18.8566 1009.67 Q20.3018 1009.67 21.2652 1010.56 Q22.1916 1011.41 22.1916 1013 Q22.1916 1014.52 21.2281 1015.41 Q20.2647 1016.26 18.9307 1016.26 Q16.4851 1016.26 15.744 1014 Q15.2252 1015.15 15.1882 1016.49 Q15.1882 1019.23 18.0043 1021.38 Q20.8205 1023.49 25.5265 1023.49 L34.3086 1023.49 L34.3086 1014.6 L36.6801 1014.6 L36.6801 1023.23 L61.0994 1023.23 Q63.2856 1023.23 63.9896 1022.34 Q64.6937 1021.41 64.6937 1017.49 L64.6937 1015.89 L67.0282 1015.89 Q66.8058 1018.93 66.8058 1025.53 Q66.8058 1026.45 66.8429 1027.9 Q66.8799 1029.31 66.954 1031.23 Q67.0282 1033.12 67.0282 1034.16 L64.6937 1034.16 Q64.6937 1030.12 64.212 1029.2 Q63.6932 1028.27 61.2476 1028.27 L36.6801 1028.27 L36.6801 1034.24 Z\" fill=\"#000000\" fill-rule=\"nonzero\" fill-opacity=\"1\" /><path clip-path=\"url(#clip120)\" d=\"M36.6801 1011.11 L34.3086 1011.11 L34.3086 1005.15 L25.6006 1005.15 Q19.9683 1005.15 16.7445 1001.52 Q13.5207 997.847 13.5207 993.364 Q13.5207 990.399 15.114 988.472 Q16.7074 986.545 18.8566 986.545 Q20.3018 986.545 21.2652 987.435 Q22.1916 988.287 22.1916 989.88 Q22.1916 991.4 21.2281 992.289 Q20.2647 993.141 18.9307 993.141 Q16.4851 993.141 15.744 990.881 Q15.2252 992.03 15.1882 993.364 Q15.1882 996.106 18.0043 998.255 Q20.8205 1000.37 25.5265 1000.37 L34.3086 1000.37 L34.3086 991.474 L36.6801 991.474 L36.6801 1000.11 L61.0994 1000.11 Q63.2856 1000.11 63.9896 999.218 Q64.6937 998.292 64.6937 994.364 L64.6937 992.771 L67.0282 992.771 Q66.8058 995.809 66.8058 1002.41 Q66.8058 1003.33 66.8429 1004.78 Q66.8799 1006.18 66.954 1008.11 Q67.0282 1010 67.0282 1011.04 L64.6937 1011.04 Q64.6937 1007 64.212 1006.07 Q63.6932 1005.15 61.2476 1005.15 L36.6801 1005.15 L36.6801 1011.11 Z\" fill=\"#000000\" fill-rule=\"nonzero\" fill-opacity=\"1\" /><path clip-path=\"url(#clip120)\" d=\"M36.6801 989.065 L35.0126 989.065 Q34.8644 985.582 32.4188 983.285 Q29.9361 980.95 26.8975 980.172 Q23.859 979.357 20.3388 979.283 L20.3388 977.393 L34.3086 977.393 L34.3086 966.536 L36.6801 966.536 L36.6801 977.393 L57.7644 977.393 Q65.9536 977.393 65.9536 972.279 Q65.9536 970.093 63.7303 968.648 Q61.4699 967.203 57.468 967.203 L53.2807 967.203 L53.2807 965.313 L57.6162 965.313 Q61.7293 965.313 64.8049 967.203 Q67.8804 969.093 67.8804 972.835 Q67.8804 974.206 67.5099 975.577 Q67.1764 976.911 66.2871 978.69 Q65.3607 980.431 63.1374 981.543 Q60.877 982.618 57.6162 982.618 L36.6801 982.618 L36.6801 989.065 Z\" fill=\"#000000\" fill-rule=\"nonzero\" fill-opacity=\"1\" /><path clip-path=\"url(#clip120)\" d=\"M59.8024 957.902 Q53.3548 957.902 49.9458 950.306 Q47.7595 945.748 47.2037 936.336 L44.4246 936.336 Q39.7186 936.336 37.2359 938.819 Q34.7162 941.264 34.7162 944.377 Q34.7162 949.935 38.1993 952.603 Q38.2734 950.343 39.4222 949.528 Q40.5338 948.712 41.6825 948.712 Q43.2018 948.712 44.2023 949.676 Q45.1657 950.602 45.1657 952.195 Q45.1657 953.715 44.2393 954.715 Q43.2759 955.716 41.6084 955.716 Q37.9029 955.716 35.4573 952.381 Q33.0116 949.009 33.0116 944.229 Q33.0116 938.003 37.1989 933.853 Q38.4958 932.556 40.1633 931.926 Q41.8307 931.259 42.9424 931.185 Q44.017 931.111 46.1662 931.111 L61.3217 931.111 Q61.7663 931.111 62.5074 930.963 Q63.2485 930.815 64.212 930.148 Q65.1384 929.444 65.1384 928.295 Q65.1384 925.553 60.2841 925.59 L56.0228 925.59 L56.0228 923.663 L60.2841 923.663 Q64.3231 923.663 65.9165 925.812 Q67.4728 927.924 67.4728 929.888 Q67.4728 932.408 65.6201 934.001 Q63.7673 935.595 61.2476 935.817 Q64.1379 936.966 66.0277 939.597 Q67.8804 942.191 67.8804 945.748 Q67.8804 948.49 67.1764 951.084 Q66.5094 953.641 64.6196 955.79 Q62.6927 957.902 59.8024 957.902 M59.7283 952.047 Q62.5445 952.047 64.3602 950.046 Q66.1759 948.045 66.1759 945.229 Q66.1759 942.042 63.7303 939.189 Q61.2476 936.336 56.3934 936.336 L48.7971 936.336 Q49.0935 944.747 52.4655 948.416 Q55.8005 952.047 59.7283 952.047 Z\" fill=\"#000000\" fill-rule=\"nonzero\" fill-opacity=\"1\" /><path clip-path=\"url(#clip120)\" d=\"M67.0282 921.032 L64.6937 921.032 Q64.6937 916.993 64.212 916.067 Q63.6932 915.103 61.2476 915.103 L21.784 915.103 Q18.9678 915.103 18.2637 916.104 Q17.5597 917.067 17.5597 921.032 L15.1882 921.032 L14.3729 910.101 L50.7981 910.101 L41.5343 899.392 Q40.0891 897.725 38.5699 897.725 Q36.8283 897.725 36.6801 899.911 L34.3086 899.911 Q34.5309 896.724 34.5309 891.425 Q34.5309 888.313 34.3086 886.126 L36.6801 886.126 Q36.9024 890.906 40.7561 895.687 Q41.6084 896.761 43.8317 899.318 Q46.018 901.838 46.2403 901.838 Q46.3144 901.838 46.4997 901.764 Q46.6849 901.652 46.8332 901.504 Q46.9814 901.356 47.0555 901.356 L60.6547 891.722 Q63.3968 889.758 64.0638 888.313 Q64.6937 886.867 64.6937 884.348 L67.0282 884.348 Q66.8058 887.609 66.8058 890.981 Q66.8058 892.796 67.0282 899.17 L64.6937 899.17 Q64.6937 896.428 62.915 896.428 Q61.6922 896.428 53.2066 902.579 Q52.6137 903.023 51.3168 904.024 Q49.9458 904.95 49.2788 905.469 L53.429 910.323 L61.2476 910.323 Q63.6932 910.323 64.212 909.397 Q64.6937 908.433 64.6937 904.394 L67.0282 904.394 Q66.8058 908.952 66.8058 912.732 Q66.8058 913.51 67.0282 921.032 Z\" fill=\"#000000\" fill-rule=\"nonzero\" fill-opacity=\"1\" /><path clip-path=\"url(#clip120)\" d=\"M50.3163 883.162 Q43.1647 883.162 38.0882 878.567 Q33.0116 873.972 33.0116 867.376 Q33.0116 860.707 37.3471 857.26 Q41.6825 853.777 47.9078 853.777 Q49.0565 853.777 49.2788 854.074 Q49.5011 854.37 49.5011 855.667 L49.5011 876.863 Q57.2456 876.863 60.877 874.565 Q65.9536 871.378 65.9536 866.005 Q65.9536 865.264 65.8053 864.375 Q65.6571 863.486 65.0272 861.67 Q64.3602 859.854 62.6186 858.261 Q60.877 856.668 58.1349 855.741 Q57.0604 855.519 57.0974 854.778 Q57.0974 853.777 57.9867 853.777 Q58.6537 853.777 60.173 854.518 Q61.6552 855.222 63.4338 856.593 Q65.2125 857.965 66.5464 860.632 Q67.8804 863.263 67.8804 866.45 Q67.8804 873.12 62.8409 878.16 Q57.7644 883.162 50.3163 883.162 M47.9078 876.788 L47.9078 858.78 Q46.3144 858.78 44.5357 859.076 Q42.7571 859.336 40.3115 860.151 Q37.8288 860.929 36.2725 862.782 Q34.7162 864.634 34.7162 867.376 Q34.7162 868.599 35.2349 869.933 Q35.7537 871.23 37.0136 872.824 Q38.2734 874.417 41.1267 875.529 Q43.9799 876.64 47.9078 876.788 Z\" fill=\"#000000\" fill-rule=\"nonzero\" fill-opacity=\"1\" /><path clip-path=\"url(#clip120)\" d=\"M67.0282 849.479 L64.6937 849.479 Q64.6937 845.44 64.212 844.514 Q63.6932 843.55 61.2476 843.55 L40.9044 843.55 Q38.0882 843.55 37.3841 844.551 Q36.6801 845.514 36.6801 849.479 L34.3086 849.479 L33.4933 838.918 L41.8307 838.918 Q38.5699 837.844 36.0501 835.583 Q33.4933 833.286 33.4933 829.58 Q33.4933 827.135 34.8644 825.578 Q36.2354 823.985 38.1252 823.985 Q39.7927 823.985 40.645 825.023 Q41.4602 826.023 41.4602 827.246 Q41.4602 828.617 40.6079 829.58 Q39.7186 830.507 38.1993 830.507 Q37.273 830.507 36.5689 830.099 Q35.8278 829.654 35.5684 829.321 Q35.309 828.987 35.2349 828.765 Q35.1608 828.913 35.1608 829.58 Q35.1608 833.768 39.348 836.176 Q43.4982 838.548 49.427 838.548 L61.0994 838.548 Q63.2856 838.548 63.9896 837.658 Q64.6937 836.732 64.6937 832.767 L64.6937 831.174 L67.0282 831.174 Q66.8058 834.212 66.8058 840.808 Q66.8058 841.734 66.8429 843.18 Q66.8799 844.625 66.954 846.514 Q67.0282 848.404 67.0282 849.479 Z\" fill=\"#000000\" fill-rule=\"nonzero\" fill-opacity=\"1\" /><path clip-path=\"url(#clip120)\" d=\"M67.0282 794.6 L64.6937 794.6 Q64.6937 790.561 64.212 789.635 Q63.6932 788.672 61.2476 788.672 L40.9044 788.672 Q38.0882 788.672 37.3841 789.672 Q36.6801 790.635 36.6801 794.6 L34.3086 794.6 L33.4933 784.04 L41.8307 784.04 Q38.5699 782.965 36.0501 780.705 Q33.4933 778.407 33.4933 774.702 Q33.4933 772.256 34.8644 770.7 Q36.2354 769.107 38.1252 769.107 Q39.7927 769.107 40.645 770.144 Q41.4602 771.145 41.4602 772.367 Q41.4602 773.738 40.6079 774.702 Q39.7186 775.628 38.1993 775.628 Q37.273 775.628 36.5689 775.221 Q35.8278 774.776 35.5684 774.442 Q35.309 774.109 35.2349 773.887 Q35.1608 774.035 35.1608 774.702 Q35.1608 778.889 39.348 781.298 Q43.4982 783.669 49.427 783.669 L61.0994 783.669 Q63.2856 783.669 63.9896 782.78 Q64.6937 781.853 64.6937 777.889 L64.6937 776.295 L67.0282 776.295 Q66.8058 779.334 66.8058 785.93 Q66.8058 786.856 66.8429 788.301 Q66.8799 789.746 66.954 791.636 Q67.0282 793.526 67.0282 794.6 Z\" fill=\"#000000\" fill-rule=\"nonzero\" fill-opacity=\"1\" /><path clip-path=\"url(#clip120)\" d=\"M59.8024 763.882 Q53.3548 763.882 49.9458 756.285 Q47.7595 751.728 47.2037 742.316 L44.4246 742.316 Q39.7186 742.316 37.2359 744.798 Q34.7162 747.244 34.7162 750.357 Q34.7162 755.915 38.1993 758.583 Q38.2734 756.323 39.4222 755.507 Q40.5338 754.692 41.6825 754.692 Q43.2018 754.692 44.2023 755.656 Q45.1657 756.582 45.1657 758.175 Q45.1657 759.695 44.2393 760.695 Q43.2759 761.696 41.6084 761.696 Q37.9029 761.696 35.4573 758.361 Q33.0116 754.989 33.0116 750.208 Q33.0116 743.983 37.1989 739.833 Q38.4958 738.536 40.1633 737.906 Q41.8307 737.239 42.9424 737.165 Q44.017 737.091 46.1662 737.091 L61.3217 737.091 Q61.7663 737.091 62.5074 736.943 Q63.2485 736.795 64.212 736.128 Q65.1384 735.423 65.1384 734.275 Q65.1384 731.533 60.2841 731.57 L56.0228 731.57 L56.0228 729.643 L60.2841 729.643 Q64.3231 729.643 65.9165 731.792 Q67.4728 733.904 67.4728 735.868 Q67.4728 738.388 65.6201 739.981 Q63.7673 741.575 61.2476 741.797 Q64.1379 742.946 66.0277 745.577 Q67.8804 748.17 67.8804 751.728 Q67.8804 754.47 67.1764 757.064 Q66.5094 759.62 64.6196 761.77 Q62.6927 763.882 59.8024 763.882 M59.7283 758.027 Q62.5445 758.027 64.3602 756.026 Q66.1759 754.025 66.1759 751.209 Q66.1759 748.022 63.7303 745.169 Q61.2476 742.316 56.3934 742.316 L48.7971 742.316 Q49.0935 750.727 52.4655 754.396 Q55.8005 758.027 59.7283 758.027 Z\" fill=\"#000000\" fill-rule=\"nonzero\" fill-opacity=\"1\" /><path clip-path=\"url(#clip120)\" d=\"M36.6801 727.679 L35.0126 727.679 Q34.8644 724.196 32.4188 721.898 Q29.9361 719.564 26.8975 718.786 Q23.859 717.971 20.3388 717.896 L20.3388 716.007 L34.3086 716.007 L34.3086 705.15 L36.6801 705.15 L36.6801 716.007 L57.7644 716.007 Q65.9536 716.007 65.9536 710.893 Q65.9536 708.707 63.7303 707.262 Q61.4699 705.817 57.468 705.817 L53.2807 705.817 L53.2807 703.927 L57.6162 703.927 Q61.7293 703.927 64.8049 705.817 Q67.8804 707.706 67.8804 711.449 Q67.8804 712.82 67.5099 714.191 Q67.1764 715.525 66.2871 717.304 Q65.3607 719.045 63.1374 720.157 Q60.877 721.231 57.6162 721.231 L36.6801 721.231 L36.6801 727.679 Z\" fill=\"#000000\" fill-rule=\"nonzero\" fill-opacity=\"1\" /><path clip-path=\"url(#clip120)\" d=\"M67.0282 697.183 L64.6937 697.183 Q64.6937 693.144 64.212 692.217 Q63.6932 691.291 61.2476 691.291 L40.8302 691.291 Q38.0141 691.291 37.3471 692.254 Q36.6801 693.181 36.6801 696.886 L34.3086 696.886 L33.4933 686.289 L61.3217 686.289 Q63.582 686.289 64.1379 685.473 Q64.6937 684.658 64.6937 680.953 L67.0282 680.953 Q66.8058 688.697 66.8058 688.845 Q66.8058 689.883 67.0282 697.183 M20.2647 693.996 Q18.7454 693.996 17.5226 692.847 Q16.2628 691.661 16.2628 689.994 Q16.2628 688.327 17.4115 687.141 Q18.5231 685.955 20.3018 685.955 Q22.0433 685.955 23.192 687.141 Q24.3037 688.327 24.3037 689.994 Q24.3037 691.736 23.0809 692.884 Q21.8581 693.996 20.2647 693.996 Z\" fill=\"#000000\" fill-rule=\"nonzero\" fill-opacity=\"1\" /><path clip-path=\"url(#clip120)\" d=\"M67.0282 676.247 L64.6937 676.247 Q64.6937 672.208 64.212 671.281 Q63.6932 670.355 61.2476 670.355 L40.9044 670.355 Q38.0882 670.355 37.3841 671.355 Q36.6801 672.319 36.6801 676.247 L34.3086 676.247 L33.4933 665.575 L41.4602 665.575 Q33.4933 662.017 33.4933 654.347 Q33.4933 648.641 36.3095 646.38 Q38.1993 644.713 40.3115 644.379 Q42.4236 644.009 47.9078 644.009 L62.3963 644.009 Q63.9896 643.935 64.3602 642.712 Q64.6937 641.489 64.6937 638.08 L67.0282 638.08 Q66.8058 645.824 66.8058 646.603 Q66.8058 647.195 67.0282 655.162 L64.6937 655.162 Q64.6937 651.123 64.212 650.197 Q63.6932 649.233 61.2476 649.233 L43.5723 649.233 Q39.7186 649.233 37.4582 650.419 Q35.1608 651.605 35.1608 654.866 Q35.1608 658.794 38.4587 661.943 Q41.7566 665.093 47.3149 665.093 L61.2476 665.093 Q63.6932 665.093 64.212 664.167 Q64.6937 663.203 64.6937 659.201 L67.0282 659.201 Q66.8058 666.946 66.8058 667.687 Q66.8058 668.28 67.0282 676.247 Z\" fill=\"#000000\" fill-rule=\"nonzero\" fill-opacity=\"1\" /><path clip-path=\"url(#clip120)\" d=\"M73.0311 634.486 Q70.5854 634.486 68.4733 632.633 Q66.3612 630.743 65.4348 627.482 Q63.3227 630.817 58.6908 630.817 Q55.1335 630.817 52.3914 628.483 Q49.427 632.04 44.5728 632.04 Q40.0891 632.04 36.7912 628.483 Q33.4933 624.925 33.4933 619.738 Q33.4933 615.18 36.2354 611.697 Q32.6781 608.065 32.6411 603.656 Q32.6411 601.692 33.8639 600.765 Q35.0867 599.802 36.3836 599.802 Q37.5323 599.802 38.0882 600.543 Q38.644 601.247 38.644 601.988 Q38.644 602.915 38.0511 603.582 Q37.4212 604.212 36.4578 604.212 Q34.8644 604.212 34.3827 602.989 Q34.3086 603.211 34.3086 603.73 Q34.3086 607.435 37.273 610.585 Q40.1633 607.472 44.6469 607.472 Q49.1306 607.472 52.4285 611.03 Q55.7264 614.587 55.7264 619.738 Q55.7264 623.999 53.3548 627.26 Q54.8741 628.557 56.9492 628.557 Q58.839 628.557 60.3212 627.408 Q61.8034 626.259 62.0257 624.518 Q62.0998 623.999 62.0998 618.848 Q62.0998 615.81 62.1739 614.142 Q62.2481 612.475 62.7668 610.103 Q63.2485 607.695 64.212 605.805 Q66.954 600.877 72.8829 600.84 Q77.2183 600.84 79.9233 605.842 Q82.6654 610.807 82.6654 617.7 Q82.6654 624.666 79.8863 629.594 Q77.1442 634.486 73.0311 634.486 M73.0311 630.521 Q76.1437 630.521 78.5152 626.852 Q80.9238 623.184 80.9238 617.626 Q80.9238 612.178 78.5523 608.51 Q76.2178 604.804 73.0311 604.804 Q70.7707 604.804 69.3256 606.101 Q67.8804 607.398 67.2875 610.066 Q66.7317 612.697 66.6206 614.55 Q66.5094 616.403 66.5094 619.812 L66.5094 624.295 Q66.6576 626.889 68.5474 628.705 Q70.4372 630.521 73.0311 630.521 M44.6469 626.371 Q53.9848 626.371 53.9848 619.738 Q53.9848 616.403 50.9463 614.365 Q48.9082 613.142 44.5728 613.142 Q35.2349 613.142 35.2349 619.738 Q35.2349 623.073 38.2734 625.148 Q40.3115 626.371 44.6469 626.371 Z\" fill=\"#000000\" fill-rule=\"nonzero\" fill-opacity=\"1\" /><path clip-path=\"url(#clip120)\" d=\"M48.056 565.897 Q35.2349 565.897 24.8966 561.117 Q20.5611 559.079 16.9297 556.225 Q13.2984 553.372 11.705 551.482 Q10.1116 549.592 10.1116 549.074 Q10.1116 548.333 10.8527 548.296 Q11.2233 548.296 12.1496 549.296 Q24.6001 561.524 48.056 561.487 Q71.5859 561.487 83.5547 549.592 Q84.8516 548.296 85.2592 548.296 Q86.0003 548.296 86.0003 549.074 Q86.0003 549.592 84.4811 551.408 Q82.9618 553.224 79.4787 556.04 Q75.9955 558.856 71.7341 560.894 Q61.3958 565.897 48.056 565.897 Z\" fill=\"#000000\" fill-rule=\"nonzero\" fill-opacity=\"1\" /><path clip-path=\"url(#clip120)\" d=\"M67.0282 541.181 L64.6937 541.181 Q64.6937 538.439 64.1749 536.697 Q63.6191 534.956 62.6186 534.326 Q61.5811 533.659 60.9141 533.511 Q60.21 533.362 59.0613 533.362 L21.117 533.362 Q18.9307 533.362 18.2637 534.326 Q17.5597 535.252 17.5597 539.365 L17.5597 541.181 L15.1882 541.181 L15.1882 528.36 Q15.1882 526.989 15.4475 526.618 Q15.6699 526.248 16.8556 525.692 L59.3578 509.24 L16.6333 492.639 Q15.5587 492.268 15.3734 491.935 Q15.1882 491.564 15.1882 490.119 L15.1882 477.298 L17.5597 477.298 L17.5597 479.114 Q17.5597 483.227 18.2637 484.19 Q18.9307 485.117 21.117 485.117 L61.0994 485.117 Q63.2856 485.117 63.9896 484.19 Q64.6937 483.227 64.6937 479.114 L64.6937 477.298 L67.0282 477.298 Q66.8058 480.114 66.8058 488.155 Q66.8058 496.27 67.0282 499.086 L64.6937 499.086 L64.6937 497.234 Q64.6937 493.121 64.0267 492.194 Q63.3227 491.268 61.0994 491.268 L17.5597 491.268 L17.5597 491.342 L65.583 509.981 Q67.0282 510.499 67.0282 511.352 Q67.0282 512.278 65.3607 512.871 L18.1526 531.176 L18.1526 531.25 L59.0613 531.25 Q60.21 531.25 60.9141 531.102 Q61.5811 530.954 62.6186 530.324 Q63.6191 529.657 64.1749 527.915 Q64.6937 526.174 64.6937 523.432 L67.0282 523.432 Q66.8058 531.398 66.8058 532.325 Q66.8058 533.214 67.0282 541.181 Z\" fill=\"#000000\" fill-rule=\"nonzero\" fill-opacity=\"1\" /><path clip-path=\"url(#clip120)\" d=\"M17.5597 473.148 L15.1882 473.148 Q15.1882 472.073 15.2623 470.146 Q15.3364 468.22 15.3734 466.7 Q15.4105 465.181 15.4105 463.884 Q15.4105 455.843 15.1882 453.101 L17.5597 453.101 Q17.5597 459.475 19.82 459.475 Q20.3388 459.475 20.8205 459.326 L58.1349 447.135 L25.6006 436.575 L20.2647 438.242 Q18.3749 438.835 17.9673 440.132 Q17.5597 441.429 17.5597 445.06 L15.1882 445.06 Q15.1882 443.986 15.2623 442.059 Q15.3364 440.132 15.3734 438.613 Q15.4105 437.093 15.4105 435.833 Q15.4105 427.793 15.1882 425.05 L17.5597 425.05 Q17.5597 431.424 19.82 431.424 Q20.0424 431.424 20.9687 431.202 L58.1349 419.048 L23.0809 407.672 Q21.9322 407.301 21.5616 407.264 Q20.1906 407.264 18.9307 408.857 Q17.6338 410.451 17.5597 413.897 L15.1882 413.897 Q15.4105 407.968 15.4105 404.855 Q15.4105 401.372 15.1882 397.963 L17.5597 397.963 Q17.5597 403.966 22.6362 405.522 L67.1764 420.048 Q67.7693 420.196 68.0286 420.307 Q68.3251 420.419 68.5104 420.715 Q68.6956 421.011 68.6956 421.53 Q68.6956 422.531 67.2505 422.975 L28.6391 435.574 L67.1764 448.099 Q67.7693 448.247 68.0286 448.395 Q68.3251 448.506 68.5104 448.803 Q68.6956 449.099 68.6956 449.618 Q68.6956 450.618 67.2505 451.063 L20.7464 466.256 Q18.5602 466.923 18.0785 467.96 Q17.5597 468.961 17.5597 473.148 Z\" fill=\"#000000\" fill-rule=\"nonzero\" fill-opacity=\"1\" /><path clip-path=\"url(#clip120)\" d=\"M85.2592 392.257 Q84.8887 392.257 83.9623 391.293 Q71.5118 379.065 48.056 379.065 Q24.526 379.065 12.6314 390.812 Q11.2603 392.257 10.8527 392.257 Q10.1116 392.257 10.1116 391.516 Q10.1116 390.997 11.6309 389.181 Q13.1501 387.328 16.6333 384.549 Q20.1165 381.733 24.3778 379.658 Q34.7162 374.656 48.056 374.656 Q60.877 374.656 71.2154 379.436 Q75.5508 381.474 79.1822 384.327 Q82.8136 387.18 84.407 389.07 Q86.0003 390.96 86.0003 391.516 Q86.0003 392.257 85.2592 392.257 Z\" fill=\"#000000\" fill-rule=\"nonzero\" fill-opacity=\"1\" /><polyline clip-path=\"url(#clip122)\" style=\"stroke:#d77255; stroke-linecap:round; stroke-linejoin:round; stroke-width:5.6; stroke-opacity:1; fill:none\" points=\"267.559,1380.04 284.755,1380.04 301.951,1380.04 319.147,1380.04 336.343,1380.04 353.539,1380.04 370.735,1380.04 387.931,1380.04 405.127,1380.04 422.323,1380.04 439.519,1380.04 456.715,1380.04 473.911,1380.04 491.107,1380.04 508.303,1380.04 525.499,1380.04 542.695,1380.04 559.891,1380.04 577.087,1380.04 594.282,1380.04 611.478,1380.04 628.674,1380.04 645.87,1380.04 663.066,1380.04 680.262,1380.04 697.458,1380.04 714.654,1380.04 731.85,1380.04 749.046,1380.04 766.242,1380.04 783.438,1380.04 800.634,1380.04 817.83,1380.04 835.026,1380.04 852.222,1380.04 869.418,1380.04 886.614,1380.04 903.81,1380.04 921.006,1380.04 938.202,1380.04 955.398,1380.04 972.594,1380.04 989.79,1380.04 1006.99,1380.04 1024.18,1380.04 1041.38,1380.04 1058.57,1380.04 1075.77,1380.04 1092.97,1380.04 1110.16,1380.04 1127.36,1380.04 1144.55,1380.04 1161.75,1380.04 1178.95,1259.97 1196.14,955.511 1213.34,651.031 1230.53,346.572 1247.73,199.831 1264.93,197.716 1282.12,196.553 1299.32,198.372 1316.51,196.933 1333.71,197.991 1350.91,196.278 1368.1,196.151 1385.3,196.278 1402.49,196.405 1419.69,203.236 1436.89,220.685 1454.08,196.151 1471.28,197.589 1488.47,197.335 1505.67,197.716 1522.87,235.639 1540.06,244.564 1557.26,205.605 1574.45,163.875 1591.65,86.0634 1608.85,86.0634 1626.04,86.0634 1643.24,86.0634 1660.43,86.0634 1677.63,86.0634 1694.83,86.0634 1712.02,86.0634 1729.22,86.0634 1746.41,86.0634 1763.61,86.0634 1780.81,86.0634 1798,86.0634 1815.2,86.0634 1832.39,86.0634 1849.59,86.0634 1866.79,86.0634 1883.98,86.0634 1901.18,86.0634 1918.37,86.0634 1935.57,86.0634 1952.76,86.0634 1969.96,86.0634 \"/>\n",
       "<path clip-path=\"url(#clip120)\" d=\"M2092.24 196.645 L2352.76 196.645 L2352.76 92.9646 L2092.24 92.9646  Z\" fill=\"#ffffff\" fill-rule=\"evenodd\" fill-opacity=\"1\"/>\n",
       "<polyline clip-path=\"url(#clip120)\" style=\"stroke:#000000; stroke-linecap:round; stroke-linejoin:round; stroke-width:4; stroke-opacity:1; fill:none\" points=\"2092.24,196.645 2352.76,196.645 2352.76,92.9646 2092.24,92.9646 2092.24,196.645 \"/>\n",
       "<polyline clip-path=\"url(#clip120)\" style=\"stroke:#d77255; stroke-linecap:round; stroke-linejoin:round; stroke-width:5.6; stroke-opacity:1; fill:none\" points=\"2115.98,144.805 2258.4,144.805 \"/>\n",
       "<path clip-path=\"url(#clip120)\" d=\"M2282.13 168.359 Q2282.13 167.297 2282.75 166.729 Q2283.39 166.185 2284.26 166.185 Q2285.17 166.185 2285.76 166.754 Q2286.38 167.346 2286.38 168.31 Q2286.38 170.187 2284.41 170.434 Q2285.37 171.348 2286.78 171.348 Q2288.28 171.348 2289.49 170.237 Q2290.73 169.125 2291.25 168.063 Q2291.79 167.001 2292.56 165.074 Q2293.27 163.567 2293.82 162.085 L2286.23 143.607 Q2285.74 142.396 2284.97 142.124 Q2284.21 141.853 2282.13 141.853 L2282.13 140.272 Q2284.41 140.42 2287.05 140.42 Q2288.6 140.42 2292.56 140.272 L2292.56 141.853 Q2289.72 141.853 2289.72 143.162 Q2289.72 143.31 2290.01 144.076 L2295.65 157.687 L2300.76 145.237 Q2301.06 144.521 2301.06 144.026 Q2301.06 141.951 2298.68 141.853 L2298.68 140.272 Q2302.02 140.42 2303.08 140.42 Q2305.16 140.42 2306.86 140.272 L2306.86 141.853 Q2303.48 141.853 2302.17 145.089 L2293.25 166.679 Q2290.83 172.435 2286.78 172.46 Q2284.85 172.46 2283.49 171.274 Q2282.13 170.089 2282.13 168.359 Z\" fill=\"#000000\" fill-rule=\"nonzero\" fill-opacity=\"1\" /><path clip-path=\"url(#clip120)\" d=\"M2312.32 133.206 L2312.32 131.625 Q2318.4 131.625 2321.53 128.389 Q2322.4 128.389 2322.55 128.587 Q2322.7 128.784 2322.7 129.699 L2322.7 158.083 Q2322.7 159.59 2323.44 160.059 Q2324.18 160.528 2327.41 160.528 L2329.02 160.528 L2329.02 162.085 Q2327.24 161.936 2320.82 161.936 Q2314.4 161.936 2312.64 162.085 L2312.64 160.528 L2314.25 160.528 Q2317.43 160.528 2318.2 160.084 Q2318.97 159.614 2318.97 158.083 L2318.97 131.872 Q2316.32 133.206 2312.32 133.206 Z\" fill=\"#000000\" fill-rule=\"nonzero\" fill-opacity=\"1\" /></svg>\n"
      ]
     },
     "execution_count": 27,
     "metadata": {},
     "output_type": "execute_result"
    }
   ],
   "source": [
    "plot(answer.processes[2].size[1:100])\n",
    "xaxis!(\"Hour (h)\")\n",
    "yaxis!(\"Offtaker rating (MW)\")"
   ]
  },
  {
   "cell_type": "markdown",
   "metadata": {},
   "source": [
    "Now the solution does not have so intense spikes that would make it difficult to operate, but we see that it is necessary to increase the hydrogen storage to the maximum to keep on with the overall hydrogen production."
   ]
  },
  {
   "cell_type": "markdown",
   "metadata": {},
   "source": [
    "### Adding a compressor consumption"
   ]
  },
  {
   "cell_type": "markdown",
   "metadata": {},
   "source": [
    "In general, hydrogen is stored in the compressed form, which consumes electricity. Therefore, we were being a bit optimistic in the previous analysis. We can try to include the extra consumptions of power by adding Techs that represent the compressor and modifying the hydrogen resources type to differentiate the hydrogen produced from the hydrogen compressed. For instance, assuming a specific consumution of 4 kWh/kg H2, our compressor can be written as:\n",
    "\n",
    "\n",
    "\n",
    "        (power) ----> aec --(h2)--> compressor --(h2_200bar)--> store --(h2_200bar)--> offtaker --(h2_plant)-->\n",
    "                |\n",
    "                --(power)-->[cut]"
   ]
  },
  {
   "cell_type": "code",
   "execution_count": 28,
   "metadata": {},
   "outputs": [
    {
     "data": {
      "text/plain": [
       "Tech(\"compressor\", Any[Resource(\"h2\", Real[10], \"MW\", Vector{Real}[[1]], Vector{Real}[]), Resource(\"power\", Real[1.2012012012012012], \"MW\", Vector{Real}[[1]], Vector{Real}[])], Any[Resource(\"h2_200bar\", Real[10], \"MW\", Vector{Real}[[1]], Vector{Real}[])], HeatStruct[], Real[0.0, 1000.0], [[[0.0, 0.0], [1000.0, 0.0]]], Real[0, 1, 1], Real[-1, 1], Real[1])"
      ]
     },
     "execution_count": 28,
     "metadata": {},
     "output_type": "execute_result"
    }
   ],
   "source": [
    "spec_cons = 4/33.3 # kWh_power/kg_h2 / (kWh_h2/kg_h2)\n",
    "\n",
    "comp_in = [Resource(\"h2\",10,\"MW\",[[1]]),\n",
    "           Resource(\"power\",spec_cons*10,\"MW\",[[1]])]\n",
    "comp_out = [Resource(\"h2_200bar\",10,\"MW\",[[1]])]\n",
    "\n",
    "h2Comp = Tech(\"compressor\",comp_in,comp_out,[])"
   ]
  },
  {
   "cell_type": "markdown",
   "metadata": {},
   "source": [
    "Now, we just need to change the type of hydrogen being stored and taken from the offtaker:"
   ]
  },
  {
   "cell_type": "code",
   "execution_count": 29,
   "metadata": {},
   "outputs": [
    {
     "data": {
      "text/plain": [
       "\"h2_200bar\""
      ]
     },
     "execution_count": 29,
     "metadata": {},
     "output_type": "execute_result"
    }
   ],
   "source": [
    "h2Store.type = \"h2_200bar\"\n",
    "offtaker.in[1].type = \"h2_200bar\""
   ]
  },
  {
   "cell_type": "markdown",
   "metadata": {},
   "source": [
    "The new problem looks like this:"
   ]
  },
  {
   "cell_type": "code",
   "execution_count": 32,
   "metadata": {},
   "outputs": [
    {
     "data": {
      "application/vnd.plotly.v1+json": {
       "config": {
        "editable": false,
        "responsive": true,
        "scrollZoom": true,
        "showLink": false,
        "staticPlot": false
       },
       "data": [
        {
         "line": {
          "color": "#888",
          "width": 0.5
         },
         "mode": "lines",
         "type": "scatter",
         "x": [
          1,
          0.6039350988266479,
          null,
          -0.5587135601734301,
          -1,
          null,
          0.44551252434920974,
          0.00409581784124069,
          null,
          0.1380150186332023,
          0.00409581784124069,
          null,
          0.00409581784124069,
          -0.5587135601734301,
          null,
          0.6039350988266479,
          0.44551252434920974,
          null,
          0.9180122862931237,
          1,
          null,
          0.9180122862931237,
          0.44551252434920974,
          null
         ],
         "y": [
          -1,
          -0.844638904669432,
          null,
          0.6875092474681992,
          0.9205106342078813,
          null,
          -0.21591776357066483,
          0.42065724787692327,
          null,
          1,
          0.42065724787692327,
          null,
          0.42065724787692327,
          0.6875092474681992,
          null,
          -0.844638904669432,
          -0.21591776357066483,
          null,
          -0.48133721614878866,
          -1,
          null,
          -0.48133721614878866,
          -0.21591776357066483,
          null
         ]
        },
        {
         "marker": {
          "color": "red",
          "size": 10,
          "symbol": "square"
         },
         "mode": "markers+text",
         "name": "Process",
         "text": [
          "ALK",
          "offtaker",
          "compressor"
         ],
         "type": "scatter",
         "x": [
          1,
          -0.5587135601734301,
          0.44551252434920974
         ],
         "y": [
          -1,
          0.6875092474681992,
          -0.21591776357066483
         ]
        },
        {
         "marker": {
          "color": "yellow",
          "size": 10,
          "symbol": "diamond"
         },
         "mode": "markers+text",
         "name": "Storage",
         "text": [
          "h2_200bar storage"
         ],
         "type": "scatter",
         "x": [
          0.1380150186332023
         ],
         "y": [
          1
         ]
        },
        {
         "marker": {
          "color": "#90EE90",
          "size": 10,
          "symbol": "circle"
         },
         "mode": "markers+text",
         "name": "Resource",
         "text": [
          "h2_200bar",
          "h2",
          "power",
          "h2_plant"
         ],
         "type": "scatter",
         "x": [
          0.00409581784124069,
          0.6039350988266479,
          0.9180122862931237,
          -1
         ],
         "y": [
          0.42065724787692327,
          -0.844638904669432,
          -0.48133721614878866,
          0.9205106342078813
         ]
        }
       ],
       "frames": [],
       "layout": {
        "hovermode": "closest",
        "margin": {
         "b": 50,
         "l": 50,
         "r": 50,
         "t": 60
        },
        "showarrow": false,
        "showlegend": false,
        "template": {
         "data": {
          "bar": [
           {
            "error_x": {
             "color": "#2a3f5f"
            },
            "error_y": {
             "color": "#2a3f5f"
            },
            "marker": {
             "line": {
              "color": "#E5ECF6",
              "width": 0.5
             }
            },
            "type": "bar"
           }
          ],
          "barpolar": [
           {
            "marker": {
             "line": {
              "color": "#E5ECF6",
              "width": 0.5
             }
            },
            "type": "barpolar"
           }
          ],
          "carpet": [
           {
            "aaxis": {
             "endlinecolor": "#2a3f5f",
             "gridcolor": "white",
             "linecolor": "white",
             "minorgridcolor": "white",
             "startlinecolor": "#2a3f5f"
            },
            "baxis": {
             "endlinecolor": "#2a3f5f",
             "gridcolor": "white",
             "linecolor": "white",
             "minorgridcolor": "white",
             "startlinecolor": "#2a3f5f"
            },
            "type": "carpet"
           }
          ],
          "choropleth": [
           {
            "colorbar": {
             "outlinewidth": 0,
             "ticks": ""
            },
            "type": "choropleth"
           }
          ],
          "contour": [
           {
            "colorbar": {
             "outlinewidth": 0,
             "ticks": ""
            },
            "colorscale": [
             [
              0,
              "#0d0887"
             ],
             [
              0.1111111111111111,
              "#46039f"
             ],
             [
              0.2222222222222222,
              "#7201a8"
             ],
             [
              0.3333333333333333,
              "#9c179e"
             ],
             [
              0.4444444444444444,
              "#bd3786"
             ],
             [
              0.5555555555555556,
              "#d8576b"
             ],
             [
              0.6666666666666666,
              "#ed7953"
             ],
             [
              0.7777777777777778,
              "#fb9f3a"
             ],
             [
              0.8888888888888888,
              "#fdca26"
             ],
             [
              1,
              "#f0f921"
             ]
            ],
            "type": "contour"
           }
          ],
          "contourcarpet": [
           {
            "colorbar": {
             "outlinewidth": 0,
             "ticks": ""
            },
            "type": "contourcarpet"
           }
          ],
          "heatmap": [
           {
            "colorbar": {
             "outlinewidth": 0,
             "ticks": ""
            },
            "colorscale": [
             [
              0,
              "#0d0887"
             ],
             [
              0.1111111111111111,
              "#46039f"
             ],
             [
              0.2222222222222222,
              "#7201a8"
             ],
             [
              0.3333333333333333,
              "#9c179e"
             ],
             [
              0.4444444444444444,
              "#bd3786"
             ],
             [
              0.5555555555555556,
              "#d8576b"
             ],
             [
              0.6666666666666666,
              "#ed7953"
             ],
             [
              0.7777777777777778,
              "#fb9f3a"
             ],
             [
              0.8888888888888888,
              "#fdca26"
             ],
             [
              1,
              "#f0f921"
             ]
            ],
            "type": "heatmap"
           }
          ],
          "heatmapgl": [
           {
            "colorbar": {
             "outlinewidth": 0,
             "ticks": ""
            },
            "colorscale": [
             [
              0,
              "#0d0887"
             ],
             [
              0.1111111111111111,
              "#46039f"
             ],
             [
              0.2222222222222222,
              "#7201a8"
             ],
             [
              0.3333333333333333,
              "#9c179e"
             ],
             [
              0.4444444444444444,
              "#bd3786"
             ],
             [
              0.5555555555555556,
              "#d8576b"
             ],
             [
              0.6666666666666666,
              "#ed7953"
             ],
             [
              0.7777777777777778,
              "#fb9f3a"
             ],
             [
              0.8888888888888888,
              "#fdca26"
             ],
             [
              1,
              "#f0f921"
             ]
            ],
            "type": "heatmapgl"
           }
          ],
          "histogram": [
           {
            "marker": {
             "colorbar": {
              "outlinewidth": 0,
              "ticks": ""
             }
            },
            "type": "histogram"
           }
          ],
          "histogram2d": [
           {
            "colorbar": {
             "outlinewidth": 0,
             "ticks": ""
            },
            "colorscale": [
             [
              0,
              "#0d0887"
             ],
             [
              0.1111111111111111,
              "#46039f"
             ],
             [
              0.2222222222222222,
              "#7201a8"
             ],
             [
              0.3333333333333333,
              "#9c179e"
             ],
             [
              0.4444444444444444,
              "#bd3786"
             ],
             [
              0.5555555555555556,
              "#d8576b"
             ],
             [
              0.6666666666666666,
              "#ed7953"
             ],
             [
              0.7777777777777778,
              "#fb9f3a"
             ],
             [
              0.8888888888888888,
              "#fdca26"
             ],
             [
              1,
              "#f0f921"
             ]
            ],
            "type": "histogram2d"
           }
          ],
          "histogram2dcontour": [
           {
            "colorbar": {
             "outlinewidth": 0,
             "ticks": ""
            },
            "colorscale": [
             [
              0,
              "#0d0887"
             ],
             [
              0.1111111111111111,
              "#46039f"
             ],
             [
              0.2222222222222222,
              "#7201a8"
             ],
             [
              0.3333333333333333,
              "#9c179e"
             ],
             [
              0.4444444444444444,
              "#bd3786"
             ],
             [
              0.5555555555555556,
              "#d8576b"
             ],
             [
              0.6666666666666666,
              "#ed7953"
             ],
             [
              0.7777777777777778,
              "#fb9f3a"
             ],
             [
              0.8888888888888888,
              "#fdca26"
             ],
             [
              1,
              "#f0f921"
             ]
            ],
            "type": "histogram2dcontour"
           }
          ],
          "mesh3d": [
           {
            "colorbar": {
             "outlinewidth": 0,
             "ticks": ""
            },
            "type": "mesh3d"
           }
          ],
          "parcoords": [
           {
            "line": {
             "colorbar": {
              "outlinewidth": 0,
              "ticks": ""
             }
            },
            "type": "parcoords"
           }
          ],
          "pie": [
           {
            "automargin": true,
            "type": "pie"
           }
          ],
          "scatter": [
           {
            "marker": {
             "colorbar": {
              "outlinewidth": 0,
              "ticks": ""
             }
            },
            "type": "scatter"
           }
          ],
          "scatter3d": [
           {
            "line": {
             "colorbar": {
              "outlinewidth": 0,
              "ticks": ""
             }
            },
            "marker": {
             "colorbar": {
              "outlinewidth": 0,
              "ticks": ""
             }
            },
            "type": "scatter3d"
           }
          ],
          "scattercarpet": [
           {
            "marker": {
             "colorbar": {
              "outlinewidth": 0,
              "ticks": ""
             }
            },
            "type": "scattercarpet"
           }
          ],
          "scattergeo": [
           {
            "marker": {
             "colorbar": {
              "outlinewidth": 0,
              "ticks": ""
             }
            },
            "type": "scattergeo"
           }
          ],
          "scattergl": [
           {
            "marker": {
             "colorbar": {
              "outlinewidth": 0,
              "ticks": ""
             }
            },
            "type": "scattergl"
           }
          ],
          "scattermapbox": [
           {
            "marker": {
             "colorbar": {
              "outlinewidth": 0,
              "ticks": ""
             }
            },
            "type": "scattermapbox"
           }
          ],
          "scatterpolar": [
           {
            "marker": {
             "colorbar": {
              "outlinewidth": 0,
              "ticks": ""
             }
            },
            "type": "scatterpolar"
           }
          ],
          "scatterpolargl": [
           {
            "marker": {
             "colorbar": {
              "outlinewidth": 0,
              "ticks": ""
             }
            },
            "type": "scatterpolargl"
           }
          ],
          "scatterternary": [
           {
            "marker": {
             "colorbar": {
              "outlinewidth": 0,
              "ticks": ""
             }
            },
            "type": "scatterternary"
           }
          ],
          "surface": [
           {
            "colorbar": {
             "outlinewidth": 0,
             "ticks": ""
            },
            "colorscale": [
             [
              0,
              "#0d0887"
             ],
             [
              0.1111111111111111,
              "#46039f"
             ],
             [
              0.2222222222222222,
              "#7201a8"
             ],
             [
              0.3333333333333333,
              "#9c179e"
             ],
             [
              0.4444444444444444,
              "#bd3786"
             ],
             [
              0.5555555555555556,
              "#d8576b"
             ],
             [
              0.6666666666666666,
              "#ed7953"
             ],
             [
              0.7777777777777778,
              "#fb9f3a"
             ],
             [
              0.8888888888888888,
              "#fdca26"
             ],
             [
              1,
              "#f0f921"
             ]
            ],
            "type": "surface"
           }
          ],
          "table": [
           {
            "cells": {
             "fill": {
              "color": "#EBF0F8"
             },
             "line": {
              "color": "white"
             }
            },
            "header": {
             "fill": {
              "color": "#C8D4E3"
             },
             "line": {
              "color": "white"
             }
            },
            "type": "table"
           }
          ]
         },
         "layout": {
          "annotationdefaults": {
           "arrowcolor": "#2a3f5f",
           "arrowhead": 0,
           "arrowwidth": 1
          },
          "autotypenumbers": "strict",
          "coloraxis": {
           "colorbar": {
            "outlinewidth": 0,
            "ticks": ""
           }
          },
          "colorscale": {
           "diverging": [
            [
             0,
             "#8e0152"
            ],
            [
             0.1,
             "#c51b7d"
            ],
            [
             0.2,
             "#de77ae"
            ],
            [
             0.3,
             "#f1b6da"
            ],
            [
             0.4,
             "#fde0ef"
            ],
            [
             0.5,
             "#f7f7f7"
            ],
            [
             0.6,
             "#e6f5d0"
            ],
            [
             0.7,
             "#b8e186"
            ],
            [
             0.8,
             "#7fbc41"
            ],
            [
             0.9,
             "#4d9221"
            ],
            [
             1,
             "#276419"
            ]
           ],
           "sequential": [
            [
             0,
             "#0d0887"
            ],
            [
             0.1111111111111111,
             "#46039f"
            ],
            [
             0.2222222222222222,
             "#7201a8"
            ],
            [
             0.3333333333333333,
             "#9c179e"
            ],
            [
             0.4444444444444444,
             "#bd3786"
            ],
            [
             0.5555555555555556,
             "#d8576b"
            ],
            [
             0.6666666666666666,
             "#ed7953"
            ],
            [
             0.7777777777777778,
             "#fb9f3a"
            ],
            [
             0.8888888888888888,
             "#fdca26"
            ],
            [
             1,
             "#f0f921"
            ]
           ],
           "sequentialminus": [
            [
             0,
             "#0d0887"
            ],
            [
             0.1111111111111111,
             "#46039f"
            ],
            [
             0.2222222222222222,
             "#7201a8"
            ],
            [
             0.3333333333333333,
             "#9c179e"
            ],
            [
             0.4444444444444444,
             "#bd3786"
            ],
            [
             0.5555555555555556,
             "#d8576b"
            ],
            [
             0.6666666666666666,
             "#ed7953"
            ],
            [
             0.7777777777777778,
             "#fb9f3a"
            ],
            [
             0.8888888888888888,
             "#fdca26"
            ],
            [
             1,
             "#f0f921"
            ]
           ]
          },
          "colorway": [
           "#636efa",
           "#EF553B",
           "#00cc96",
           "#ab63fa",
           "#FFA15A",
           "#19d3f3",
           "#FF6692",
           "#B6E880",
           "#FF97FF",
           "#FECB52"
          ],
          "font": {
           "color": "#2a3f5f"
          },
          "geo": {
           "bgcolor": "white",
           "lakecolor": "white",
           "landcolor": "#E5ECF6",
           "showlakes": true,
           "showland": true,
           "subunitcolor": "white"
          },
          "hoverlabel": {
           "align": "left"
          },
          "hovermode": "closest",
          "mapbox": {
           "style": "light"
          },
          "paper_bgcolor": "white",
          "plot_bgcolor": "#E5ECF6",
          "polar": {
           "angularaxis": {
            "gridcolor": "white",
            "linecolor": "white",
            "ticks": ""
           },
           "bgcolor": "#E5ECF6",
           "radialaxis": {
            "gridcolor": "white",
            "linecolor": "white",
            "ticks": ""
           }
          },
          "scene": {
           "xaxis": {
            "backgroundcolor": "#E5ECF6",
            "gridcolor": "white",
            "gridwidth": 2,
            "linecolor": "white",
            "showbackground": true,
            "ticks": "",
            "zerolinecolor": "white"
           },
           "yaxis": {
            "backgroundcolor": "#E5ECF6",
            "gridcolor": "white",
            "gridwidth": 2,
            "linecolor": "white",
            "showbackground": true,
            "ticks": "",
            "zerolinecolor": "white"
           },
           "zaxis": {
            "backgroundcolor": "#E5ECF6",
            "gridcolor": "white",
            "gridwidth": 2,
            "linecolor": "white",
            "showbackground": true,
            "ticks": "",
            "zerolinecolor": "white"
           }
          },
          "shapedefaults": {
           "line": {
            "color": "#2a3f5f"
           }
          },
          "ternary": {
           "aaxis": {
            "gridcolor": "white",
            "linecolor": "white",
            "ticks": ""
           },
           "baxis": {
            "gridcolor": "white",
            "linecolor": "white",
            "ticks": ""
           },
           "bgcolor": "#E5ECF6",
           "caxis": {
            "gridcolor": "white",
            "linecolor": "white",
            "ticks": ""
           }
          },
          "title": {
           "x": 0.05
          },
          "xaxis": {
           "automargin": true,
           "gridcolor": "white",
           "linecolor": "white",
           "ticks": "",
           "title": {
            "standoff": 15
           },
           "zerolinecolor": "white",
           "zerolinewidth": 2
          },
          "yaxis": {
           "automargin": true,
           "gridcolor": "white",
           "linecolor": "white",
           "ticks": "",
           "title": {
            "standoff": 15
           },
           "zerolinecolor": "white",
           "zerolinewidth": 2
          }
         }
        },
        "titlefont": {
         "size": 16
        },
        "xaxis": {
         "showgrid": false,
         "showticklabels": false,
         "zeroline": false
        },
        "yaxis": {
         "showgrid": false,
         "showticklabels": false,
         "zeroline": false
        }
       }
      },
      "text/html": [
       "<div\n",
       "    class=\"webio-mountpoint\"\n",
       "    data-webio-mountpoint=\"17630428822498139594\"\n",
       ">\n",
       "    <script>\n",
       "    (function(){\n",
       "    // Some integrations (namely, IJulia/Jupyter) use an alternate render pathway than\n",
       "    // just putting the html on the page. If WebIO isn't defined, then it's pretty likely\n",
       "    // that we're in one of those situations and the integration just isn't installed\n",
       "    // correctly.\n",
       "    if (typeof window.WebIO === \"undefined\") {\n",
       "        document\n",
       "            .querySelector('[data-webio-mountpoint=\"17630428822498139594\"]')\n",
       "            .innerHTML = (\n",
       "                '<div style=\"padding: 1em; background-color: #f8d6da; border: 1px solid #f5c6cb; font-weight: bold;\">' +\n",
       "                '<p><strong>WebIO not detected.</strong></p>' +\n",
       "                '<p>Please read ' +\n",
       "                '<a href=\"https://juliagizmos.github.io/WebIO.jl/latest/troubleshooting/not-detected/\" target=\"_blank\">the troubleshooting guide</a> ' +\n",
       "                'for more information on how to resolve this issue.</p>' +\n",
       "                '<p><a href=\"https://juliagizmos.github.io/WebIO.jl/latest/troubleshooting/not-detected/\" target=\"_blank\">https://juliagizmos.github.io/WebIO.jl/latest/troubleshooting/not-detected/</a></p>' +\n",
       "                '</div>'\n",
       "            );\n",
       "        return;\n",
       "    }\n",
       "    WebIO.mount(\n",
       "        document.querySelector('[data-webio-mountpoint=\"17630428822498139594\"]'),\n",
       "        {\"props\":{},\"nodeType\":\"Scope\",\"type\":\"node\",\"instanceArgs\":{\"imports\":{\"data\":[{\"name\":\"Plotly\",\"type\":\"js\",\"url\":\"\\/assetserver\\/0920e676c106f32ba509e3957ec7f2e1975e6dda-plotly.min.js\"},{\"name\":null,\"type\":\"js\",\"url\":\"\\/assetserver\\/a5a7489247caefe55cf69adf7b5b90ef582ba49e-plotly_webio.bundle.js\"}],\"type\":\"async_block\"},\"id\":\"1877783416690925110\",\"handlers\":{\"_toImage\":[\"(function (options){return this.Plotly.toImage(this.plotElem,options).then((function (data){return WebIO.setval({\\\"name\\\":\\\"image\\\",\\\"scope\\\":\\\"1877783416690925110\\\",\\\"id\\\":\\\"4786871526485537685\\\",\\\"type\\\":\\\"observable\\\"},data)}))})\"],\"__get_gd_contents\":[\"(function (prop){prop==\\\"data\\\" ? (WebIO.setval({\\\"name\\\":\\\"__gd_contents\\\",\\\"scope\\\":\\\"1877783416690925110\\\",\\\"id\\\":\\\"18381360176267319711\\\",\\\"type\\\":\\\"observable\\\"},this.plotElem.data)) : undefined; return prop==\\\"layout\\\" ? (WebIO.setval({\\\"name\\\":\\\"__gd_contents\\\",\\\"scope\\\":\\\"1877783416690925110\\\",\\\"id\\\":\\\"18381360176267319711\\\",\\\"type\\\":\\\"observable\\\"},this.plotElem.layout)) : undefined})\"],\"_downloadImage\":[\"(function (options){return this.Plotly.downloadImage(this.plotElem,options)})\"],\"_commands\":[\"(function (args){var fn=args.shift(); var elem=this.plotElem; var Plotly=this.Plotly; args.unshift(elem); return Plotly[fn].apply(this,args)})\"]},\"systemjs_options\":null,\"mount_callbacks\":[\"function () {\\n    var handler = ((function (Plotly,PlotlyWebIO){PlotlyWebIO.init(WebIO); var gd=this.dom.querySelector(\\\"#plot-a5b18ea4-5512-4a44-acbc-79b8d56ff47c\\\"); this.plotElem=gd; this.Plotly=Plotly; (window.Blink!==undefined) ? (gd.style.width=\\\"100%\\\", gd.style.height=\\\"100vh\\\", gd.style.marginLeft=\\\"0%\\\", gd.style.marginTop=\\\"0vh\\\") : undefined; window.onresize=(function (){return Plotly.Plots.resize(gd)}); Plotly.newPlot(gd,[{\\\"mode\\\":\\\"lines\\\",\\\"line\\\":{\\\"color\\\":\\\"#888\\\",\\\"width\\\":0.5},\\\"y\\\":[-1.0,-0.844638904669432,null,0.6875092474681992,0.9205106342078813,null,-0.21591776357066483,0.42065724787692327,null,1.0,0.42065724787692327,null,0.42065724787692327,0.6875092474681992,null,-0.844638904669432,-0.21591776357066483,null,-0.48133721614878866,-1.0,null,-0.48133721614878866,-0.21591776357066483,null],\\\"type\\\":\\\"scatter\\\",\\\"x\\\":[1.0,0.6039350988266479,null,-0.5587135601734301,-1.0,null,0.44551252434920974,0.00409581784124069,null,0.1380150186332023,0.00409581784124069,null,0.00409581784124069,-0.5587135601734301,null,0.6039350988266479,0.44551252434920974,null,0.9180122862931237,1.0,null,0.9180122862931237,0.44551252434920974,null]},{\\\"x\\\":[1.0,-0.5587135601734301,0.44551252434920974],\\\"mode\\\":\\\"markers+text\\\",\\\"y\\\":[-1.0,0.6875092474681992,-0.21591776357066483],\\\"type\\\":\\\"scatter\\\",\\\"name\\\":\\\"Process\\\",\\\"text\\\":[\\\"ALK\\\",\\\"offtaker\\\",\\\"compressor\\\"],\\\"marker\\\":{\\\"symbol\\\":\\\"square\\\",\\\"color\\\":\\\"red\\\",\\\"size\\\":10}},{\\\"x\\\":[0.1380150186332023],\\\"mode\\\":\\\"markers+text\\\",\\\"y\\\":[1.0],\\\"type\\\":\\\"scatter\\\",\\\"name\\\":\\\"Storage\\\",\\\"text\\\":[\\\"h2_200bar storage\\\"],\\\"marker\\\":{\\\"symbol\\\":\\\"diamond\\\",\\\"color\\\":\\\"yellow\\\",\\\"size\\\":10}},{\\\"x\\\":[0.00409581784124069,0.6039350988266479,0.9180122862931237,-1.0],\\\"mode\\\":\\\"markers+text\\\",\\\"y\\\":[0.42065724787692327,-0.844638904669432,-0.48133721614878866,0.9205106342078813],\\\"type\\\":\\\"scatter\\\",\\\"name\\\":\\\"Resource\\\",\\\"text\\\":[\\\"h2_200bar\\\",\\\"h2\\\",\\\"power\\\",\\\"h2_plant\\\"],\\\"marker\\\":{\\\"symbol\\\":\\\"circle\\\",\\\"color\\\":\\\"#90EE90\\\",\\\"size\\\":10}}],{\\\"showlegend\\\":false,\\\"xaxis\\\":{\\\"showgrid\\\":false,\\\"showticklabels\\\":false,\\\"zeroline\\\":false},\\\"hovermode\\\":\\\"closest\\\",\\\"titlefont\\\":{\\\"size\\\":16},\\\"template\\\":{\\\"layout\\\":{\\\"coloraxis\\\":{\\\"colorbar\\\":{\\\"ticks\\\":\\\"\\\",\\\"outlinewidth\\\":0}},\\\"xaxis\\\":{\\\"gridcolor\\\":\\\"white\\\",\\\"zerolinewidth\\\":2,\\\"title\\\":{\\\"standoff\\\":15},\\\"ticks\\\":\\\"\\\",\\\"zerolinecolor\\\":\\\"white\\\",\\\"automargin\\\":true,\\\"linecolor\\\":\\\"white\\\"},\\\"hovermode\\\":\\\"closest\\\",\\\"paper_bgcolor\\\":\\\"white\\\",\\\"geo\\\":{\\\"showlakes\\\":true,\\\"showland\\\":true,\\\"landcolor\\\":\\\"#E5ECF6\\\",\\\"bgcolor\\\":\\\"white\\\",\\\"subunitcolor\\\":\\\"white\\\",\\\"lakecolor\\\":\\\"white\\\"},\\\"colorscale\\\":{\\\"sequential\\\":[[0.0,\\\"#0d0887\\\"],[0.1111111111111111,\\\"#46039f\\\"],[0.2222222222222222,\\\"#7201a8\\\"],[0.3333333333333333,\\\"#9c179e\\\"],[0.4444444444444444,\\\"#bd3786\\\"],[0.5555555555555556,\\\"#d8576b\\\"],[0.6666666666666666,\\\"#ed7953\\\"],[0.7777777777777778,\\\"#fb9f3a\\\"],[0.8888888888888888,\\\"#fdca26\\\"],[1.0,\\\"#f0f921\\\"]],\\\"diverging\\\":[[0,\\\"#8e0152\\\"],[0.1,\\\"#c51b7d\\\"],[0.2,\\\"#de77ae\\\"],[0.3,\\\"#f1b6da\\\"],[0.4,\\\"#fde0ef\\\"],[0.5,\\\"#f7f7f7\\\"],[0.6,\\\"#e6f5d0\\\"],[0.7,\\\"#b8e186\\\"],[0.8,\\\"#7fbc41\\\"],[0.9,\\\"#4d9221\\\"],[1,\\\"#276419\\\"]],\\\"sequentialminus\\\":[[0.0,\\\"#0d0887\\\"],[0.1111111111111111,\\\"#46039f\\\"],[0.2222222222222222,\\\"#7201a8\\\"],[0.3333333333333333,\\\"#9c179e\\\"],[0.4444444444444444,\\\"#bd3786\\\"],[0.5555555555555556,\\\"#d8576b\\\"],[0.6666666666666666,\\\"#ed7953\\\"],[0.7777777777777778,\\\"#fb9f3a\\\"],[0.8888888888888888,\\\"#fdca26\\\"],[1.0,\\\"#f0f921\\\"]]},\\\"yaxis\\\":{\\\"gridcolor\\\":\\\"white\\\",\\\"zerolinewidth\\\":2,\\\"title\\\":{\\\"standoff\\\":15},\\\"ticks\\\":\\\"\\\",\\\"zerolinecolor\\\":\\\"white\\\",\\\"automargin\\\":true,\\\"linecolor\\\":\\\"white\\\"},\\\"shapedefaults\\\":{\\\"line\\\":{\\\"color\\\":\\\"#2a3f5f\\\"}},\\\"hoverlabel\\\":{\\\"align\\\":\\\"left\\\"},\\\"mapbox\\\":{\\\"style\\\":\\\"light\\\"},\\\"polar\\\":{\\\"angularaxis\\\":{\\\"gridcolor\\\":\\\"white\\\",\\\"ticks\\\":\\\"\\\",\\\"linecolor\\\":\\\"white\\\"},\\\"bgcolor\\\":\\\"#E5ECF6\\\",\\\"radialaxis\\\":{\\\"gridcolor\\\":\\\"white\\\",\\\"ticks\\\":\\\"\\\",\\\"linecolor\\\":\\\"white\\\"}},\\\"autotypenumbers\\\":\\\"strict\\\",\\\"font\\\":{\\\"color\\\":\\\"#2a3f5f\\\"},\\\"ternary\\\":{\\\"baxis\\\":{\\\"gridcolor\\\":\\\"white\\\",\\\"ticks\\\":\\\"\\\",\\\"linecolor\\\":\\\"white\\\"},\\\"bgcolor\\\":\\\"#E5ECF6\\\",\\\"caxis\\\":{\\\"gridcolor\\\":\\\"white\\\",\\\"ticks\\\":\\\"\\\",\\\"linecolor\\\":\\\"white\\\"},\\\"aaxis\\\":{\\\"gridcolor\\\":\\\"white\\\",\\\"ticks\\\":\\\"\\\",\\\"linecolor\\\":\\\"white\\\"}},\\\"annotationdefaults\\\":{\\\"arrowhead\\\":0,\\\"arrowwidth\\\":1,\\\"arrowcolor\\\":\\\"#2a3f5f\\\"},\\\"plot_bgcolor\\\":\\\"#E5ECF6\\\",\\\"title\\\":{\\\"x\\\":0.05},\\\"scene\\\":{\\\"xaxis\\\":{\\\"gridcolor\\\":\\\"white\\\",\\\"gridwidth\\\":2,\\\"backgroundcolor\\\":\\\"#E5ECF6\\\",\\\"ticks\\\":\\\"\\\",\\\"showbackground\\\":true,\\\"zerolinecolor\\\":\\\"white\\\",\\\"linecolor\\\":\\\"white\\\"},\\\"zaxis\\\":{\\\"gridcolor\\\":\\\"white\\\",\\\"gridwidth\\\":2,\\\"backgroundcolor\\\":\\\"#E5ECF6\\\",\\\"ticks\\\":\\\"\\\",\\\"showbackground\\\":true,\\\"zerolinecolor\\\":\\\"white\\\",\\\"linecolor\\\":\\\"white\\\"},\\\"yaxis\\\":{\\\"gridcolor\\\":\\\"white\\\",\\\"gridwidth\\\":2,\\\"backgroundcolor\\\":\\\"#E5ECF6\\\",\\\"ticks\\\":\\\"\\\",\\\"showbackground\\\":true,\\\"zerolinecolor\\\":\\\"white\\\",\\\"linecolor\\\":\\\"white\\\"}},\\\"colorway\\\":[\\\"#636efa\\\",\\\"#EF553B\\\",\\\"#00cc96\\\",\\\"#ab63fa\\\",\\\"#FFA15A\\\",\\\"#19d3f3\\\",\\\"#FF6692\\\",\\\"#B6E880\\\",\\\"#FF97FF\\\",\\\"#FECB52\\\"]},\\\"data\\\":{\\\"barpolar\\\":[{\\\"type\\\":\\\"barpolar\\\",\\\"marker\\\":{\\\"line\\\":{\\\"color\\\":\\\"#E5ECF6\\\",\\\"width\\\":0.5}}}],\\\"carpet\\\":[{\\\"aaxis\\\":{\\\"gridcolor\\\":\\\"white\\\",\\\"endlinecolor\\\":\\\"#2a3f5f\\\",\\\"minorgridcolor\\\":\\\"white\\\",\\\"startlinecolor\\\":\\\"#2a3f5f\\\",\\\"linecolor\\\":\\\"white\\\"},\\\"type\\\":\\\"carpet\\\",\\\"baxis\\\":{\\\"gridcolor\\\":\\\"white\\\",\\\"endlinecolor\\\":\\\"#2a3f5f\\\",\\\"minorgridcolor\\\":\\\"white\\\",\\\"startlinecolor\\\":\\\"#2a3f5f\\\",\\\"linecolor\\\":\\\"white\\\"}}],\\\"scatterpolar\\\":[{\\\"type\\\":\\\"scatterpolar\\\",\\\"marker\\\":{\\\"colorbar\\\":{\\\"ticks\\\":\\\"\\\",\\\"outlinewidth\\\":0}}}],\\\"parcoords\\\":[{\\\"line\\\":{\\\"colorbar\\\":{\\\"ticks\\\":\\\"\\\",\\\"outlinewidth\\\":0}},\\\"type\\\":\\\"parcoords\\\"}],\\\"scatter\\\":[{\\\"type\\\":\\\"scatter\\\",\\\"marker\\\":{\\\"colorbar\\\":{\\\"ticks\\\":\\\"\\\",\\\"outlinewidth\\\":0}}}],\\\"histogram2dcontour\\\":[{\\\"colorbar\\\":{\\\"ticks\\\":\\\"\\\",\\\"outlinewidth\\\":0},\\\"type\\\":\\\"histogram2dcontour\\\",\\\"colorscale\\\":[[0.0,\\\"#0d0887\\\"],[0.1111111111111111,\\\"#46039f\\\"],[0.2222222222222222,\\\"#7201a8\\\"],[0.3333333333333333,\\\"#9c179e\\\"],[0.4444444444444444,\\\"#bd3786\\\"],[0.5555555555555556,\\\"#d8576b\\\"],[0.6666666666666666,\\\"#ed7953\\\"],[0.7777777777777778,\\\"#fb9f3a\\\"],[0.8888888888888888,\\\"#fdca26\\\"],[1.0,\\\"#f0f921\\\"]]}],\\\"contour\\\":[{\\\"colorbar\\\":{\\\"ticks\\\":\\\"\\\",\\\"outlinewidth\\\":0},\\\"type\\\":\\\"contour\\\",\\\"colorscale\\\":[[0.0,\\\"#0d0887\\\"],[0.1111111111111111,\\\"#46039f\\\"],[0.2222222222222222,\\\"#7201a8\\\"],[0.3333333333333333,\\\"#9c179e\\\"],[0.4444444444444444,\\\"#bd3786\\\"],[0.5555555555555556,\\\"#d8576b\\\"],[0.6666666666666666,\\\"#ed7953\\\"],[0.7777777777777778,\\\"#fb9f3a\\\"],[0.8888888888888888,\\\"#fdca26\\\"],[1.0,\\\"#f0f921\\\"]]}],\\\"scattercarpet\\\":[{\\\"type\\\":\\\"scattercarpet\\\",\\\"marker\\\":{\\\"colorbar\\\":{\\\"ticks\\\":\\\"\\\",\\\"outlinewidth\\\":0}}}],\\\"mesh3d\\\":[{\\\"colorbar\\\":{\\\"ticks\\\":\\\"\\\",\\\"outlinewidth\\\":0},\\\"type\\\":\\\"mesh3d\\\"}],\\\"surface\\\":[{\\\"colorbar\\\":{\\\"ticks\\\":\\\"\\\",\\\"outlinewidth\\\":0},\\\"type\\\":\\\"surface\\\",\\\"colorscale\\\":[[0.0,\\\"#0d0887\\\"],[0.1111111111111111,\\\"#46039f\\\"],[0.2222222222222222,\\\"#7201a8\\\"],[0.3333333333333333,\\\"#9c179e\\\"],[0.4444444444444444,\\\"#bd3786\\\"],[0.5555555555555556,\\\"#d8576b\\\"],[0.6666666666666666,\\\"#ed7953\\\"],[0.7777777777777778,\\\"#fb9f3a\\\"],[0.8888888888888888,\\\"#fdca26\\\"],[1.0,\\\"#f0f921\\\"]]}],\\\"scattermapbox\\\":[{\\\"type\\\":\\\"scattermapbox\\\",\\\"marker\\\":{\\\"colorbar\\\":{\\\"ticks\\\":\\\"\\\",\\\"outlinewidth\\\":0}}}],\\\"scattergeo\\\":[{\\\"type\\\":\\\"scattergeo\\\",\\\"marker\\\":{\\\"colorbar\\\":{\\\"ticks\\\":\\\"\\\",\\\"outlinewidth\\\":0}}}],\\\"histogram\\\":[{\\\"type\\\":\\\"histogram\\\",\\\"marker\\\":{\\\"colorbar\\\":{\\\"ticks\\\":\\\"\\\",\\\"outlinewidth\\\":0}}}],\\\"pie\\\":[{\\\"type\\\":\\\"pie\\\",\\\"automargin\\\":true}],\\\"choropleth\\\":[{\\\"colorbar\\\":{\\\"ticks\\\":\\\"\\\",\\\"outlinewidth\\\":0},\\\"type\\\":\\\"choropleth\\\"}],\\\"heatmapgl\\\":[{\\\"colorbar\\\":{\\\"ticks\\\":\\\"\\\",\\\"outlinewidth\\\":0},\\\"type\\\":\\\"heatmapgl\\\",\\\"colorscale\\\":[[0.0,\\\"#0d0887\\\"],[0.1111111111111111,\\\"#46039f\\\"],[0.2222222222222222,\\\"#7201a8\\\"],[0.3333333333333333,\\\"#9c179e\\\"],[0.4444444444444444,\\\"#bd3786\\\"],[0.5555555555555556,\\\"#d8576b\\\"],[0.6666666666666666,\\\"#ed7953\\\"],[0.7777777777777778,\\\"#fb9f3a\\\"],[0.8888888888888888,\\\"#fdca26\\\"],[1.0,\\\"#f0f921\\\"]]}],\\\"bar\\\":[{\\\"type\\\":\\\"bar\\\",\\\"error_y\\\":{\\\"color\\\":\\\"#2a3f5f\\\"},\\\"error_x\\\":{\\\"color\\\":\\\"#2a3f5f\\\"},\\\"marker\\\":{\\\"line\\\":{\\\"color\\\":\\\"#E5ECF6\\\",\\\"width\\\":0.5}}}],\\\"heatmap\\\":[{\\\"colorbar\\\":{\\\"ticks\\\":\\\"\\\",\\\"outlinewidth\\\":0},\\\"type\\\":\\\"heatmap\\\",\\\"colorscale\\\":[[0.0,\\\"#0d0887\\\"],[0.1111111111111111,\\\"#46039f\\\"],[0.2222222222222222,\\\"#7201a8\\\"],[0.3333333333333333,\\\"#9c179e\\\"],[0.4444444444444444,\\\"#bd3786\\\"],[0.5555555555555556,\\\"#d8576b\\\"],[0.6666666666666666,\\\"#ed7953\\\"],[0.7777777777777778,\\\"#fb9f3a\\\"],[0.8888888888888888,\\\"#fdca26\\\"],[1.0,\\\"#f0f921\\\"]]}],\\\"contourcarpet\\\":[{\\\"colorbar\\\":{\\\"ticks\\\":\\\"\\\",\\\"outlinewidth\\\":0},\\\"type\\\":\\\"contourcarpet\\\"}],\\\"table\\\":[{\\\"type\\\":\\\"table\\\",\\\"header\\\":{\\\"line\\\":{\\\"color\\\":\\\"white\\\"},\\\"fill\\\":{\\\"color\\\":\\\"#C8D4E3\\\"}},\\\"cells\\\":{\\\"line\\\":{\\\"color\\\":\\\"white\\\"},\\\"fill\\\":{\\\"color\\\":\\\"#EBF0F8\\\"}}}],\\\"scatter3d\\\":[{\\\"line\\\":{\\\"colorbar\\\":{\\\"ticks\\\":\\\"\\\",\\\"outlinewidth\\\":0}},\\\"type\\\":\\\"scatter3d\\\",\\\"marker\\\":{\\\"colorbar\\\":{\\\"ticks\\\":\\\"\\\",\\\"outlinewidth\\\":0}}}],\\\"scattergl\\\":[{\\\"type\\\":\\\"scattergl\\\",\\\"marker\\\":{\\\"colorbar\\\":{\\\"ticks\\\":\\\"\\\",\\\"outlinewidth\\\":0}}}],\\\"histogram2d\\\":[{\\\"colorbar\\\":{\\\"ticks\\\":\\\"\\\",\\\"outlinewidth\\\":0},\\\"type\\\":\\\"histogram2d\\\",\\\"colorscale\\\":[[0.0,\\\"#0d0887\\\"],[0.1111111111111111,\\\"#46039f\\\"],[0.2222222222222222,\\\"#7201a8\\\"],[0.3333333333333333,\\\"#9c179e\\\"],[0.4444444444444444,\\\"#bd3786\\\"],[0.5555555555555556,\\\"#d8576b\\\"],[0.6666666666666666,\\\"#ed7953\\\"],[0.7777777777777778,\\\"#fb9f3a\\\"],[0.8888888888888888,\\\"#fdca26\\\"],[1.0,\\\"#f0f921\\\"]]}],\\\"scatterternary\\\":[{\\\"type\\\":\\\"scatterternary\\\",\\\"marker\\\":{\\\"colorbar\\\":{\\\"ticks\\\":\\\"\\\",\\\"outlinewidth\\\":0}}}],\\\"scatterpolargl\\\":[{\\\"type\\\":\\\"scatterpolargl\\\",\\\"marker\\\":{\\\"colorbar\\\":{\\\"ticks\\\":\\\"\\\",\\\"outlinewidth\\\":0}}}]}},\\\"showarrow\\\":false,\\\"margin\\\":{\\\"l\\\":50,\\\"b\\\":50,\\\"r\\\":50,\\\"t\\\":60},\\\"yaxis\\\":{\\\"showgrid\\\":false,\\\"showticklabels\\\":false,\\\"zeroline\\\":false}},{\\\"showLink\\\":false,\\\"editable\\\":false,\\\"responsive\\\":true,\\\"staticPlot\\\":false,\\\"scrollZoom\\\":true}); gd.on(\\\"plotly_hover\\\",(function (data){var filtered_data=WebIO.PlotlyCommands.filterEventData(gd,data,\\\"hover\\\"); return !(filtered_data.isnil) ? (WebIO.setval({\\\"name\\\":\\\"hover\\\",\\\"scope\\\":\\\"1877783416690925110\\\",\\\"id\\\":\\\"11286316333047708975\\\",\\\"type\\\":\\\"observable\\\"},filtered_data.out)) : undefined})); gd.on(\\\"plotly_unhover\\\",(function (){return WebIO.setval({\\\"name\\\":\\\"hover\\\",\\\"scope\\\":\\\"1877783416690925110\\\",\\\"id\\\":\\\"11286316333047708975\\\",\\\"type\\\":\\\"observable\\\"},{})})); gd.on(\\\"plotly_selected\\\",(function (data){var filtered_data=WebIO.PlotlyCommands.filterEventData(gd,data,\\\"selected\\\"); return !(filtered_data.isnil) ? (WebIO.setval({\\\"name\\\":\\\"selected\\\",\\\"scope\\\":\\\"1877783416690925110\\\",\\\"id\\\":\\\"17380906677307976403\\\",\\\"type\\\":\\\"observable\\\"},filtered_data.out)) : undefined})); gd.on(\\\"plotly_deselect\\\",(function (){return WebIO.setval({\\\"name\\\":\\\"selected\\\",\\\"scope\\\":\\\"1877783416690925110\\\",\\\"id\\\":\\\"17380906677307976403\\\",\\\"type\\\":\\\"observable\\\"},{})})); gd.on(\\\"plotly_relayout\\\",(function (data){var filtered_data=WebIO.PlotlyCommands.filterEventData(gd,data,\\\"relayout\\\"); return !(filtered_data.isnil) ? (WebIO.setval({\\\"name\\\":\\\"relayout\\\",\\\"scope\\\":\\\"1877783416690925110\\\",\\\"id\\\":\\\"3544706811412092077\\\",\\\"type\\\":\\\"observable\\\"},filtered_data.out)) : undefined})); return gd.on(\\\"plotly_click\\\",(function (data){var filtered_data=WebIO.PlotlyCommands.filterEventData(gd,data,\\\"click\\\"); return !(filtered_data.isnil) ? (WebIO.setval({\\\"name\\\":\\\"click\\\",\\\"scope\\\":\\\"1877783416690925110\\\",\\\"id\\\":\\\"4520159453906146390\\\",\\\"type\\\":\\\"observable\\\"},filtered_data.out)) : undefined}))}));\\n    (WebIO.importBlock({\\\"data\\\":[{\\\"name\\\":\\\"Plotly\\\",\\\"type\\\":\\\"js\\\",\\\"url\\\":\\\"\\/assetserver\\/0920e676c106f32ba509e3957ec7f2e1975e6dda-plotly.min.js\\\"},{\\\"name\\\":null,\\\"type\\\":\\\"js\\\",\\\"url\\\":\\\"\\/assetserver\\/a5a7489247caefe55cf69adf7b5b90ef582ba49e-plotly_webio.bundle.js\\\"}],\\\"type\\\":\\\"async_block\\\"})).then((imports) => handler.apply(this, imports));\\n}\\n\"],\"observables\":{\"_toImage\":{\"sync\":false,\"id\":\"9912348853386630994\",\"value\":{}},\"hover\":{\"sync\":false,\"id\":\"11286316333047708975\",\"value\":{}},\"selected\":{\"sync\":false,\"id\":\"17380906677307976403\",\"value\":{}},\"__gd_contents\":{\"sync\":false,\"id\":\"18381360176267319711\",\"value\":{}},\"click\":{\"sync\":false,\"id\":\"4520159453906146390\",\"value\":{}},\"image\":{\"sync\":true,\"id\":\"4786871526485537685\",\"value\":\"\"},\"__get_gd_contents\":{\"sync\":false,\"id\":\"3431738545725667905\",\"value\":\"\"},\"_downloadImage\":{\"sync\":false,\"id\":\"18037356151365958186\",\"value\":{}},\"relayout\":{\"sync\":false,\"id\":\"3544706811412092077\",\"value\":{}},\"_commands\":{\"sync\":false,\"id\":\"2858060285570225776\",\"value\":[]}}},\"children\":[{\"props\":{\"id\":\"plot-a5b18ea4-5512-4a44-acbc-79b8d56ff47c\"},\"nodeType\":\"DOM\",\"type\":\"node\",\"instanceArgs\":{\"namespace\":\"html\",\"tag\":\"div\"},\"children\":[]}]},\n",
       "        window,\n",
       "    );\n",
       "    })()\n",
       "    </script>\n",
       "</div>\n"
      ],
      "text/plain": [
       "data: [\n",
       "  \"scatter with fields line, mode, type, x, and y\",\n",
       "  \"scatter with fields marker, mode, name, text, type, x, and y\",\n",
       "  \"scatter with fields marker, mode, name, text, type, x, and y\",\n",
       "  \"scatter with fields marker, mode, name, text, type, x, and y\"\n",
       "]\n",
       "\n",
       "layout: \"layout with fields hovermode, margin, showarrow, showlegend, template, titlefont, xaxis, and yaxis\"\n",
       "\n"
      ]
     },
     "execution_count": 32,
     "metadata": {},
     "output_type": "execute_result"
    }
   ],
   "source": [
    "inputs = [windIn]\n",
    "processes = [alk,offtaker,h2Comp]\n",
    "utilities = []\n",
    "outputs = [h2,cut]\n",
    "storage = [h2Store]\n",
    "problem = Problem(inputs,processes,outputs,utilities,storage)\n",
    "vivi_graph(problem)"
   ]
  },
  {
   "cell_type": "code",
   "execution_count": 33,
   "metadata": {},
   "outputs": [
    {
     "name": "stdout",
     "output_type": "stream",
     "text": [
      "Set parameter Username\n",
      "\n",
      "--------------------------------------------\n",
      "Warning: your license will expire in 8 days\n",
      "--------------------------------------------\n",
      "\n",
      "Academic license - for non-commercial use only - expires 2023-10-28\n",
      "* Solver : Gurobi\n",
      "\n",
      "* Status\n",
      "  Result count       : 2\n",
      "  Termination status : OPTIMAL\n",
      "  Message from the solver:\n",
      "  \"Model was solved to optimality (subject to tolerances), and an optimal solution is available.\"\n",
      "\n",
      "* Candidate solution (result #1)\n",
      "  Primal status      : FEASIBLE_POINT\n",
      "  Dual status        : NO_SOLUTION\n",
      "  Objective value    : 3.39892e+04\n",
      "  Objective bound    : 3.39892e+04\n",
      "  Relative gap       : 0.00000e+00\n",
      "  Dual objective value : 3.39892e+04\n",
      "\n",
      "* Work counters\n",
      "  Solve time (sec)   : 1.58978e+01\n",
      "  Barrier iterations : 0\n",
      "  Node count         : 1\n",
      "\n",
      " Tech         | Size factor\n",
      "============================\n",
      " ALK          | 0.92539\n",
      " offtaker     | 0.68047\n",
      " compressor   | 0.62229\n",
      "----------------------------\n",
      " h2_200bar    | 60.0"
     ]
    },
    {
     "data": {
      "text/plain": [
       "Problem(Any[Resource(\"power\", Real[0.423, 0.223, 0.221, 0.225, 0.22, 0.217, 0.217, 0.231, 0.226, 0.314  …  2.57, 2.05, 2.135, 3.929, 6.339, 5.936, 5.01, 8.088, 7.919, 8.668], \"MW\", Vector{Real}[[0, 0, 0, 0, 0, 0, 0, 0, 0, 0  …  0, 0, 0, 0, 0, 0, 0, 0, 0, 0]], Vector{Real}[])], Any[Tech(\"ALK\", Any[Resource(\"power\", Real[10], \"MW\", Vector{Real}[[1]], Vector{Real}[[0.15, 0.15011], [0.51, 0.50907], [1.0, 1.0]])], Any[Resource(\"h2\", Real[6.6865], \"MW\", Vector{Real}[[1]], Vector{Real}[[0.15, 0.17068571001271218], [0.51, 0.5446508636805505], [1.0, 1.0]])], HeatStruct[], Real[1, 1], [[[0.0, 0.0], [1000.0, 0.0]]], Real[0.15, 1.0, 1.0], Real[-1, 1], Real[0.0, 0.0, 0.0, 0.0, 0.0, 0.0, 0.0, 0.0, 0.0, 0.0  …  0.18811, 0.19598, 0.362, 0.58532, 0.54788, 0.46205, 0.74779, 0.73209, 0.80166, 0.0]), Tech(\"offtaker\", Any[Resource(\"h2_200bar\", Real[10], \"kg/h\", Vector{Real}[[1]], Vector{Real}[])], Any[Resource(\"h2_plant\", Real[10], \"kg/h\", Vector{Real}[[1]], Vector{Real}[])], HeatStruct[], Real[0.0, 1000.0], [[[0.0, 0.0], [1000.0, 0.0]]], Real[0.15, 1.0, 0.0], Real[-0.2, 0.2], Real[0.68047, 0.68047, 0.68047, 0.60835, 0.47226, 0.33617, 0.20007, 0.10207, 0.10207, 0.10207  …  0.1406, 0.27669, 0.41279, 0.33987, 0.20378, 0.33987, 0.47596, 0.59184, 0.45575, 0.0]), Tech(\"compressor\", Any[Resource(\"h2\", Real[10], \"MW\", Vector{Real}[[1]], Vector{Real}[]), Resource(\"power\", Real[1.2012012012012012], \"MW\", Vector{Real}[[1]], Vector{Real}[])], Any[Resource(\"h2_200bar\", Real[10], \"MW\", Vector{Real}[[1]], Vector{Real}[])], HeatStruct[], Real[0.0, 1000.0], [[[0.0, 0.0], [1000.0, 0.0]]], Real[0, 1, 1], Real[-1, 1], Real[0.0, 0.0, 0.0, 0.0, 0.0, 0.0, 0.0, 0.0, 0.0, 0.0  …  0.1406, 0.14606, 0.26139, 0.41098, 0.38772, 0.33087, 0.51193, 0.50218, 0.54541, 0.0])], Any[Resource(\"h2_plant\", Real[6.804694373787569, 6.804694373787569, 6.804694373787569, 6.083544193335069, 4.722605318577555, 3.3616664438200363, 2.000727569062522, 1.0207041560681354, 1.0207041560681354, 1.0207041560681354  …  1.0207041560681354, 1.406005554689334, 2.7669444294468484, 4.127883304204362, 3.39868895948795, 2.0377500847304355, 3.39868895948795, 4.759627834245464, 5.918406283446256, 4.557467408688744], \"MW\", Vector{Real}[[1, 1, 1, 1, 1, 1, 1, 1, 1, 1  …  1, 1, 1, 1, 1, 1, 1, 1, 1, 1]], Vector{Real}[]), Resource(\"power\", Real[0.423, 0.223, 0.221, 0.225, 0.22, 0.217, 0.217, 0.231, 0.226, 0.314  …  0.0, 0.0, 0.0, 0.0, 3.552713678800501e-15, 3.552713678800501e-15, 0.0, 0.0, 8.881784197001252e-16, 0.0], \"MW\", Vector{Real}[[0, 0, 0, 0, 0, 0, 0, 0, 0, 0  …  0, 0, 0, 0, 0, 0, 0, 0, 0, 0]], Vector{Real}[])], Any[], Any[Storage(\"h2_200bar\", 1, Real[0, 60], [[[0.0, 0.0], [1000.0, 0.0]]], Real[-0.2, 0.2], Real[60.0, 53.195, 46.391, 39.586, 33.502, 28.78, 25.418, 23.417, 22.397, 21.376  …  60.0, 60.0, 58.694, 57.18, 57.891, 59.73, 59.64, 60.0, 59.103, 60.0])])"
      ]
     },
     "execution_count": 33,
     "metadata": {},
     "output_type": "execute_result"
    },
    {
     "name": "stdout",
     "output_type": "stream",
     "text": [
      "\n"
     ]
    }
   ],
   "source": [
    "answer = vivi(problem,solver=\"Gurobi\") # Gurobi solver is much faster"
   ]
  },
  {
   "cell_type": "markdown",
   "metadata": {},
   "source": [
    "Now we see again a reduction in the total hydrogen production due to the consumption of power in the compression. It is also interesting to notice that the size of the alkaline system seems lower. In fact the size is still the same, but the maximum load is only 92.5%."
   ]
  },
  {
   "cell_type": "markdown",
   "metadata": {},
   "source": [
    "## Including costs"
   ]
  },
  {
   "cell_type": "markdown",
   "metadata": {},
   "source": [
    "Finally, we should also take into consideration the costs of storage in the optimization. For this, let's assume that a cost of 0.105 MEUR/MWh of storage:\n",
    "\n",
    "        Tech.cost = [\n",
    "            [\n",
    "                [size_1,cost_1], [size_2,cost_2] ...\n",
    "            ]\n",
    "        ]\n",
    "\n",
    "It is important to say that the cost in this case has to be per time step, meaning we have to provide the average cost per hour EUR/MWh-h. We can do that by calculating the average capital recovery factor."
   ]
  },
  {
   "cell_type": "code",
   "execution_count": 40,
   "metadata": {},
   "outputs": [
    {
     "data": {
      "text/plain": [
       "1-element Vector{Vector{Vector{Float64}}}:\n",
       " [[0.0, 0.0], [50.0, 61.041563507025174]]"
      ]
     },
     "execution_count": 40,
     "metadata": {},
     "output_type": "execute_result"
    }
   ],
   "source": [
    "i = 0.08\n",
    "years = 20\n",
    "CRF = (i/(1-(1+i)^(-years)))/8760 \n",
    "\n",
    "h2Store.cost = [\n",
    "    [\n",
    "        [0,0],[50,50*0.105E6*CRF]\n",
    "    ]\n",
    "]"
   ]
  },
  {
   "cell_type": "markdown",
   "metadata": {},
   "source": [
    "In addition, we need to specify a value for the hydrogen for every time step:"
   ]
  },
  {
   "cell_type": "markdown",
   "metadata": {},
   "source": [
    "        Resource.value = [cost_t1, cost_t2, ...]"
   ]
  },
  {
   "cell_type": "code",
   "execution_count": 52,
   "metadata": {},
   "outputs": [
    {
     "data": {
      "text/plain": [
       "1-element Vector{Vector{Float64}}:\n",
       " [90.0900900900901, 90.0900900900901, 90.0900900900901, 90.0900900900901, 90.0900900900901, 90.0900900900901, 90.0900900900901, 90.0900900900901, 90.0900900900901, 90.0900900900901  …  90.0900900900901, 90.0900900900901, 90.0900900900901, 90.0900900900901, 90.0900900900901, 90.0900900900901, 90.0900900900901, 90.0900900900901, 90.0900900900901, 90.0900900900901]"
      ]
     },
     "execution_count": 52,
     "metadata": {},
     "output_type": "execute_result"
    }
   ],
   "source": [
    "lhv_h2 = 33.3/1000\n",
    "c_h2 = 3/lhv_h2 # USD/kg / (MWh/kg)\n",
    "\n",
    "h2.value = [\n",
    "    [c_h2 for i=1:hours]\n",
    "]"
   ]
  },
  {
   "cell_type": "code",
   "execution_count": 53,
   "metadata": {},
   "outputs": [
    {
     "data": {
      "text/plain": [
       "Problem(Any[Resource(\"power\", Real[0.423, 0.223, 0.221, 0.225, 0.22, 0.217, 0.217, 0.231, 0.226, 0.314  …  2.57, 2.05, 2.135, 3.929, 6.339, 5.936, 5.01, 8.088, 7.919, 8.668], \"MW\", Vector{Real}[[0, 0, 0, 0, 0, 0, 0, 0, 0, 0  …  0, 0, 0, 0, 0, 0, 0, 0, 0, 0]], Vector{Real}[])], Any[Tech(\"ALK\", Any[Resource(\"power\", Real[10], \"MW\", Vector{Real}[[1]], Vector{Real}[[0.15, 0.15011], [0.51, 0.50907], [1.0, 1.0]])], Any[Resource(\"h2\", Real[6.6865], \"MW\", Vector{Real}[[1]], Vector{Real}[[0.15, 0.17068571001271218], [0.51, 0.5446508636805505], [1.0, 1.0]])], HeatStruct[], Real[1, 1], [[[0.0, 0.0], [1000.0, 0.0]]], Real[0.15, 1.0, 1.0], Real[-1, 1], Real[1]), Tech(\"offtaker\", Any[Resource(\"h2_200bar\", Real[10], \"kg/h\", Vector{Real}[[1]], Vector{Real}[])], Any[Resource(\"h2_plant\", Real[10], \"kg/h\", Vector{Real}[[1]], Vector{Real}[])], HeatStruct[], Real[0.0, 1000.0], [[[0.0, 0.0], [1000.0, 0.0]]], Real[0.15, 1.0, 0.0], Real[-0.2, 0.2], Real[1]), Tech(\"compressor\", Any[Resource(\"h2\", Real[10], \"MW\", Vector{Real}[[1]], Vector{Real}[]), Resource(\"power\", Real[1.2012012012012012], \"MW\", Vector{Real}[[1]], Vector{Real}[])], Any[Resource(\"h2_200bar\", Real[10], \"MW\", Vector{Real}[[1]], Vector{Real}[])], HeatStruct[], Real[0.0, 1000.0], [[[0.0, 0.0], [1000.0, 0.0]]], Real[0, 1, 1], Real[-1, 1], Real[1])], Any[Resource(\"h2_plant\", Real[Inf, Inf, Inf, Inf, Inf, Inf, Inf, Inf, Inf, Inf  …  Inf, Inf, Inf, Inf, Inf, Inf, Inf, Inf, Inf, Inf], \"MW\", Vector{Real}[[90.0900900900901, 90.0900900900901, 90.0900900900901, 90.0900900900901, 90.0900900900901, 90.0900900900901, 90.0900900900901, 90.0900900900901, 90.0900900900901, 90.0900900900901  …  90.0900900900901, 90.0900900900901, 90.0900900900901, 90.0900900900901, 90.0900900900901, 90.0900900900901, 90.0900900900901, 90.0900900900901, 90.0900900900901, 90.0900900900901]], Vector{Real}[]), Resource(\"power\", Real[Inf, Inf, Inf, Inf, Inf, Inf, Inf, Inf, Inf, Inf  …  Inf, Inf, Inf, Inf, Inf, Inf, Inf, Inf, Inf, Inf], \"MW\", Vector{Real}[[0, 0, 0, 0, 0, 0, 0, 0, 0, 0  …  0, 0, 0, 0, 0, 0, 0, 0, 0, 0]], Vector{Real}[])], Any[], Any[Storage(\"h2_200bar\", 1, Real[0, 60], [[[0.0, 0.0], [50.0, 61.041563507025174]]], Real[-0.2, 0.2], Real[1])])"
      ]
     },
     "execution_count": 53,
     "metadata": {},
     "output_type": "execute_result"
    }
   ],
   "source": [
    "inputs = [windIn]\n",
    "processes = [alk,offtaker,h2Comp]\n",
    "utilities = []\n",
    "outputs = [h2,cut]\n",
    "storage = [h2Store]\n",
    "problem = Problem(inputs,processes,outputs,utilities,storage)"
   ]
  },
  {
   "cell_type": "markdown",
   "metadata": {},
   "source": [
    "Finally, we need to activate CAPEX calculation in the objective function when calling the vivi function:\n",
    "\n",
    "$$ max \\; obj = \\sum_t r_{o,t}v_{o,t} - \\sum_t r_{i,t}v_{i,t} - \\sum_t CAPEX_t = \\sum_t E_{h2,t}*c_{h2,t} - \\sum_t CAPEX_{store,t} $$"
   ]
  },
  {
   "cell_type": "code",
   "execution_count": 55,
   "metadata": {},
   "outputs": [
    {
     "name": "stdout",
     "output_type": "stream",
     "text": [
      "Set parameter Username\n",
      "\n",
      "--------------------------------------------\n",
      "Warning: your license will expire in 8 days\n",
      "--------------------------------------------\n",
      "\n",
      "Academic license - for non-commercial use only - expires 2023-10-28\n",
      "* Solver : Gurobi\n",
      "\n",
      "* Status\n",
      "  Result count       : 2\n",
      "  Termination status : OPTIMAL\n",
      "  Message from the solver:\n",
      "  \"Model was solved to optimality (subject to tolerances), and an optimal solution is available.\"\n",
      "\n",
      "* Candidate solution (result #1)\n",
      "  Primal status      : FEASIBLE_POINT\n",
      "  Dual status        : NO_SOLUTION\n",
      "  Objective value    : 2.55015e+06\n",
      "  Objective bound    : 2.55015e+06\n",
      "  Relative gap       : 0.00000e+00\n",
      "  Dual objective value : 2.55015e+06\n",
      "\n",
      "* Work counters\n",
      "  Solve time (sec)   : 1.14079e+01\n",
      "  Barrier iterations : 0\n",
      "  Node count         : 1\n",
      "\n",
      " Tech         | Size factor\n",
      "============================\n",
      " ALK          | 0.92539\n",
      " offtaker     | 0.56077\n",
      " compressor   | 0.62229\n",
      "----------------------------\n",
      " h2_200bar    | 46.9\n"
     ]
    },
    {
     "data": {
      "text/plain": [
       "Problem(Any[Resource(\"power\", Real[0.423, 0.223, 0.221, 0.225, 0.22, 0.217, 0.217, 0.231, 0.226, 0.314  …  2.57, 2.05, 2.135, 3.929, 6.339, 5.936, 5.01, 8.088, 7.919, 8.668], \"MW\", Vector{Real}[[0, 0, 0, 0, 0, 0, 0, 0, 0, 0  …  0, 0, 0, 0, 0, 0, 0, 0, 0, 0]], Vector{Real}[])], Any[Tech(\"ALK\", Any[Resource(\"power\", Real[10], \"MW\", Vector{Real}[[1]], Vector{Real}[[0.15, 0.15011], [0.51, 0.50907], [1.0, 1.0]])], Any[Resource(\"h2\", Real[6.6865], \"MW\", Vector{Real}[[1]], Vector{Real}[[0.15, 0.17068571001271218], [0.51, 0.5446508636805505], [1.0, 1.0]])], HeatStruct[], Real[1, 1], [[[0.0, 0.0], [1000.0, 0.0]]], Real[0.15, 1.0, 1.0], Real[-1, 1], Real[0.0, 0.0, 0.0, 0.0, 0.0, 0.0, 0.0, 0.0, 0.0, 0.0  …  0.18811, 0.19598, 0.362, 0.58532, 0.54788, 0.46205, 0.74779, 0.73209, 0.80166, 0.0]), Tech(\"offtaker\", Any[Resource(\"h2_200bar\", Real[10], \"kg/h\", Vector{Real}[[1]], Vector{Real}[])], Any[Resource(\"h2_plant\", Real[10], \"kg/h\", Vector{Real}[[1]], Vector{Real}[])], HeatStruct[], Real[0.0, 1000.0], [[[0.0, 0.0], [1000.0, 0.0]]], Real[0.15, 1.0, 0.0], Real[-0.2, 0.2], Real[0.084116, 0.084116, 0.084116, 0.084116, 0.084116, 0.084116, 0.084116, 0.084116, 0.19627, 0.084116  …  0.084116, 0.084116, 0.084116, 0.084116, 0.084116, 0.084116, 0.084116, 0.084116, 0.084116, 0.0]), Tech(\"compressor\", Any[Resource(\"h2\", Real[10], \"MW\", Vector{Real}[[1]], Vector{Real}[]), Resource(\"power\", Real[1.2012012012012012], \"MW\", Vector{Real}[[1]], Vector{Real}[])], Any[Resource(\"h2_200bar\", Real[10], \"MW\", Vector{Real}[[1]], Vector{Real}[])], HeatStruct[], Real[0.0, 1000.0], [[[0.0, 0.0], [1000.0, 0.0]]], Real[0, 1, 1], Real[-1, 1], Real[0.0, 0.0, 0.0, 0.0, 0.0, 0.0, 0.0, 0.0, 0.0, 0.0  …  0.1406, 0.14606, 0.26139, 0.41098, 0.38772, 0.33087, 0.51193, 0.50218, 0.54541, 0.0])], Any[Resource(\"h2_plant\", Real[0.8411555090637854, 0.8411555090637854, 0.8411555090637854, 0.8411555090637854, 0.8411555090637854, 0.8411555090637854, 0.8411555090637854, 0.8411555090637854, 1.9626961878154994, 0.8411555090637854  …  0.8411555090637854, 0.8411555090637854, 0.8411555090637854, 0.8411555090637854, 0.8411555090637854, 0.8411555090637854, 0.8411555090637854, 0.8411555090637854, 0.8411555090637854, 0.8411555090637854], \"MW\", Vector{Real}[[90.0900900900901, 90.0900900900901, 90.0900900900901, 90.0900900900901, 90.0900900900901, 90.0900900900901, 90.0900900900901, 90.0900900900901, 90.0900900900901, 90.0900900900901  …  90.0900900900901, 90.0900900900901, 90.0900900900901, 90.0900900900901, 90.0900900900901, 90.0900900900901, 90.0900900900901, 90.0900900900901, 90.0900900900901, 90.0900900900901]], Vector{Real}[]), Resource(\"power\", Real[0.423, 0.223, 0.221, 0.225, 0.22, 0.217, 0.217, 0.231, 0.226, 0.314  …  0.0, 0.0, 0.0, 0.0, 3.552713678800501e-15, 3.552713678800501e-15, 0.0, 0.0, 8.881784197001252e-16, 0.0], \"MW\", Vector{Real}[[0, 0, 0, 0, 0, 0, 0, 0, 0, 0  …  0, 0, 0, 0, 0, 0, 0, 0, 0, 0]], Vector{Real}[])], Any[], Any[Storage(\"h2_200bar\", 1, Real[0, 60], [[[0.0, 0.0], [50.0, 61.041563507025174]]], Real[-0.2, 0.2], Real[46.9, 46.059, 45.218, 44.377, 43.536, 42.694, 41.853, 41.012, 40.171, 38.208  …  22.099, 22.664, 23.284, 25.056, 28.325, 31.361, 33.829, 38.107, 42.287, 46.9])])"
      ]
     },
     "execution_count": 55,
     "metadata": {},
     "output_type": "execute_result"
    }
   ],
   "source": [
    "answer = vivi(problem,solver=\"Gurobi\",capex=true) # Gurobi solver is much faster"
   ]
  },
  {
   "cell_type": "markdown",
   "metadata": {},
   "source": [
    "It is interesting to see that in this case we don't maximize the storage anymore. Also, it is important to highlight that the objective value is no longer annual hydrogen production, but \"profits of H2 - CAPEX of storage\" in EUR for a year. We can calculate the annual hydrogen production by summing the hydrogen output:"
   ]
  },
  {
   "cell_type": "code",
   "execution_count": 58,
   "metadata": {},
   "outputs": [
    {
     "name": "stdout",
     "output_type": "stream",
     "text": [
      "In this case the AHP was: 33874.17409950425 MWh\n"
     ]
    }
   ],
   "source": [
    "AHP = sum(answer.outputs[1].amount)\n",
    "\n",
    "println(\"In this case the AHP was: $AHP MWh\")"
   ]
  },
  {
   "cell_type": "markdown",
   "metadata": {},
   "source": [
    "Of course, this result is dependent on the assumptions of cost and value we did previously. For instance, if we assume now a value of 5 EUR/kg of hydrogen:"
   ]
  },
  {
   "cell_type": "code",
   "execution_count": 59,
   "metadata": {},
   "outputs": [
    {
     "name": "stdout",
     "output_type": "stream",
     "text": [
      "Set parameter Username\n",
      "\n",
      "--------------------------------------------\n",
      "Warning: your license will expire in 8 days\n",
      "--------------------------------------------\n",
      "\n",
      "Academic license - for non-commercial use only - expires 2023-10-28\n",
      "* Solver : Gurobi\n",
      "\n",
      "* Status\n",
      "  Result count       : 2\n",
      "  Termination status : OPTIMAL\n",
      "  Message from the solver:\n",
      "  \"Model was solved to optimality (subject to tolerances), and an optimal solution is available.\"\n",
      "\n",
      "* Candidate solution (result #1)\n",
      "  Primal status      : FEASIBLE_POINT\n",
      "  Dual status        : NO_SOLUTION\n",
      "  Objective value    : 4.58689e+06\n",
      "  Objective bound    : 4.58689e+06\n",
      "  Relative gap       : 0.00000e+00\n",
      "  Dual objective value : 4.58689e+06\n",
      "\n",
      "* Work counters\n",
      "  Solve time (sec)   : 9.60503e+00\n",
      "  Barrier iterations : 0\n",
      "  Node count         : 1\n",
      "\n",
      " Tech         | Size factor\n",
      "============================\n",
      " ALK          | 0.92539\n",
      " offtaker     | 0.56616\n",
      " compressor   | 0.62229\n",
      "----------------------------\n",
      " h2_200bar    | 47.393\n"
     ]
    },
    {
     "data": {
      "text/plain": [
       "Problem(Any[Resource(\"power\", Real[0.423, 0.223, 0.221, 0.225, 0.22, 0.217, 0.217, 0.231, 0.226, 0.314  …  2.57, 2.05, 2.135, 3.929, 6.339, 5.936, 5.01, 8.088, 7.919, 8.668], \"MW\", Vector{Real}[[0, 0, 0, 0, 0, 0, 0, 0, 0, 0  …  0, 0, 0, 0, 0, 0, 0, 0, 0, 0]], Vector{Real}[])], Any[Tech(\"ALK\", Any[Resource(\"power\", Real[10], \"MW\", Vector{Real}[[1]], Vector{Real}[[0.15, 0.15011], [0.51, 0.50907], [1.0, 1.0]])], Any[Resource(\"h2\", Real[6.6865], \"MW\", Vector{Real}[[1]], Vector{Real}[[0.15, 0.17068571001271218], [0.51, 0.5446508636805505], [1.0, 1.0]])], HeatStruct[], Real[1, 1], [[[0.0, 0.0], [1000.0, 0.0]]], Real[0.15, 1.0, 1.0], Real[-1, 1], Real[0.0, 0.0, 0.0, 0.0, 0.0, 0.0, 0.0, 0.0, 0.0, 0.0  …  0.18811, 0.19598, 0.362, 0.58532, 0.54788, 0.46205, 0.74779, 0.73209, 0.80166, 0.0]), Tech(\"offtaker\", Any[Resource(\"h2_200bar\", Real[10], \"kg/h\", Vector{Real}[[1]], Vector{Real}[])], Any[Resource(\"h2_plant\", Real[10], \"kg/h\", Vector{Real}[[1]], Vector{Real}[])], HeatStruct[], Real[0.0, 1000.0], [[[0.0, 0.0], [1000.0, 0.0]]], Real[0.15, 1.0, 0.0], Real[-0.2, 0.2], Real[0.084924, 0.084924, 0.084924, 0.084924, 0.19816, 0.084924, 0.084924, 0.084924, 0.084924, 0.084924  …  0.084924, 0.084924, 0.084924, 0.084924, 0.084924, 0.084924, 0.084924, 0.084924, 0.084924, 0.0]), Tech(\"compressor\", Any[Resource(\"h2\", Real[10], \"MW\", Vector{Real}[[1]], Vector{Real}[]), Resource(\"power\", Real[1.2012012012012012], \"MW\", Vector{Real}[[1]], Vector{Real}[])], Any[Resource(\"h2_200bar\", Real[10], \"MW\", Vector{Real}[[1]], Vector{Real}[])], HeatStruct[], Real[0.0, 1000.0], [[[0.0, 0.0], [1000.0, 0.0]]], Real[0, 1, 1], Real[-1, 1], Real[0.0, 0.0, 0.0, 0.0, 0.0, 0.0, 0.0, 0.0, 0.0, 0.0  …  0.1406, 0.14606, 0.26139, 0.41098, 0.38772, 0.33087, 0.51193, 0.50218, 0.54541, 0.0])], Any[Resource(\"h2_plant\", Real[0.8492392742337252, 0.8492392742337252, 0.8492392742337252, 0.8492392742337252, 1.981558306545359, 0.8492392742337252, 0.8492392742337252, 0.8492392742337252, 0.8492392742337252, 0.8492392742337252  …  0.8492392742337252, 0.8492392742337252, 0.8492392742337252, 0.8492392742337252, 0.8492392742337252, 0.8492392742337252, 0.8492392742337252, 0.8492392742337252, 0.8492392742337252, 0.8492392742337252], \"MW\", Vector{Real}[[150.15015015015015, 150.15015015015015, 150.15015015015015, 150.15015015015015, 150.15015015015015, 150.15015015015015, 150.15015015015015, 150.15015015015015, 150.15015015015015, 150.15015015015015  …  150.15015015015015, 150.15015015015015, 150.15015015015015, 150.15015015015015, 150.15015015015015, 150.15015015015015, 150.15015015015015, 150.15015015015015, 150.15015015015015, 150.15015015015015]], Vector{Real}[]), Resource(\"power\", Real[0.423, 0.223, 0.221, 0.225, 0.22, 0.217, 0.217, 0.231, 0.226, 0.314  …  0.0, 0.0, 0.0, 0.0, 3.552713678800501e-15, 3.552713678800501e-15, 0.0, 0.0, 8.881784197001252e-16, 0.0], \"MW\", Vector{Real}[[0, 0, 0, 0, 0, 0, 0, 0, 0, 0  …  0, 0, 0, 0, 0, 0, 0, 0, 0, 0]], Vector{Real}[])], Any[], Any[Storage(\"h2_200bar\", 1, Real[0, 60], [[[0.0, 0.0], [50.0, 61.041563507025174]]], Real[-0.2, 0.2], Real[47.393, 46.544, 45.695, 44.846, 43.996, 42.015, 41.166, 40.316, 39.467, 38.618  …  22.665, 23.222, 23.833, 25.598, 28.858, 31.886, 34.346, 38.616, 42.789, 47.393])])"
      ]
     },
     "execution_count": 59,
     "metadata": {},
     "output_type": "execute_result"
    }
   ],
   "source": [
    "c_h2 = 5/lhv_h2 # USD/kg / (MWh/kg)\n",
    "\n",
    "h2.value = [\n",
    "    [c_h2 for i=1:hours]\n",
    "]\n",
    "\n",
    "inputs = [windIn]\n",
    "processes = [alk,offtaker,h2Comp]\n",
    "utilities = []\n",
    "outputs = [h2,cut]\n",
    "storage = [h2Store]\n",
    "problem = Problem(inputs,processes,outputs,utilities,storage)\n",
    "\n",
    "answer = vivi(problem,solver=\"Gurobi\",capex=true) # Gurobi solver is much faster"
   ]
  },
  {
   "cell_type": "code",
   "execution_count": 62,
   "metadata": {},
   "outputs": [
    {
     "name": "stdout",
     "output_type": "stream",
     "text": [
      "In this case the AHP was: 33924.266861101874 MWh\n"
     ]
    }
   ],
   "source": [
    "AHP = sum(answer.outputs[1].amount)\n",
    "\n",
    "println(\"In this case the AHP was: $AHP MWh\")"
   ]
  },
  {
   "cell_type": "markdown",
   "metadata": {},
   "source": [
    "Slighly higher"
   ]
  }
 ],
 "metadata": {
  "kernelspec": {
   "display_name": "Julia 1.7.1",
   "language": "julia",
   "name": "julia-1.7"
  },
  "language_info": {
   "file_extension": ".jl",
   "mimetype": "application/julia",
   "name": "julia",
   "version": "1.7.1"
  }
 },
 "nbformat": 4,
 "nbformat_minor": 4
}
