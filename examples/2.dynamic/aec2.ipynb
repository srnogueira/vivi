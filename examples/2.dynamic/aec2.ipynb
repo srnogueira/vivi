{
 "cells": [
  {
   "cell_type": "markdown",
   "metadata": {},
   "source": [
    "# Tutorial - Hydrogen production and storage\n",
    "Suppose that we would like to produce hydrogen from wind energy by using an alkaline electrolysis system, as described below:\n",
    "\n",
    "        Wind turbine -- (power) --> Alkaline electrolysis --> (h2)\n",
    "\n",
    "The rating of our wind turbine and electrolysis unit are equal and fixed to 10 MW and we would like to know **what is the annual hydrogen production (AHP)**?."
   ]
  },
  {
   "cell_type": "markdown",
   "metadata": {},
   "source": [
    "### Introduction"
   ]
  },
  {
   "cell_type": "markdown",
   "metadata": {},
   "source": [
    "A naive answer would be to multiply the electrolysis rating (10 MW) by its efficiency at full load (67%) and the total number of hours (8760 h/year):"
   ]
  },
  {
   "cell_type": "code",
   "execution_count": 94,
   "metadata": {},
   "outputs": [
    {
     "name": "stdout",
     "output_type": "stream",
     "text": [
      "Annual hydrogen production is: 58692.0 MWh\n"
     ]
    }
   ],
   "source": [
    "AHP_naive = 10*0.67*8760\n",
    "\n",
    "println(\"Annual hydrogen production is: $AHP_naive MWh\")"
   ]
  },
  {
   "cell_type": "markdown",
   "metadata": {},
   "source": [
    "However, since we depend on a fluctuating wind power, the average power rating available for hydrogen production is lower than the design rating (10 MW).\n",
    "\n",
    "A better approximation would be to use the average rating of a historic data for wind power:"
   ]
  },
  {
   "cell_type": "code",
   "execution_count": 95,
   "metadata": {},
   "outputs": [
    {
     "name": "stdout",
     "output_type": "stream",
     "text": [
      "Average wind power generation is 6.25522397260274 MW\n"
     ]
    }
   ],
   "source": [
    "using CSV           # Package\n",
    "using DataFrames    # Package\n",
    "\n",
    "df = CSV.read(\"hourWind.csv\",DataFrame)     # reading historical data of wind turbine loads\n",
    "design_rating = 10                          # MW - Wind turbine rating assumed\n",
    "windPower = round.(df.load*design_rating,digits=3)  # sizing and rouding data\n",
    "\n",
    "avg_windPower = sum(windPower)/length(windPower)\n",
    "\n",
    "println(\"Average wind power generation is $avg_windPower MW\")"
   ]
  },
  {
   "cell_type": "code",
   "execution_count": 96,
   "metadata": {},
   "outputs": [
    {
     "name": "stdout",
     "output_type": "stream",
     "text": [
      "Annual hydrogen production is: 36713.16054 MWh\n"
     ]
    }
   ],
   "source": [
    "AHP_average = avg_windPower*0.67*8760\n",
    "\n",
    "println(\"Annual hydrogen production is: $AHP_average MWh\")"
   ]
  },
  {
   "cell_type": "markdown",
   "metadata": {},
   "source": [
    "This is a better approach, which we can improve by adding two additional caracteristics of alkaline electrolysis:\n",
    "* An efficiency curve : in practice, AEC have variable efficiency that depends on the power rating (or equipment load) that the equipment is subjected to. \n",
    "* A minimal power rating: additionally, there is also a minimal threshold of power rating that the electrolysis unit needs to operate safely.\n",
    "\n",
    "Here we going to use vivi to write a optimization problem that includes this caracteristics and can be later extended to examinate problems including hydrogen storage."
   ]
  },
  {
   "cell_type": "markdown",
   "metadata": {},
   "source": [
    "### Minimal load"
   ]
  },
  {
   "cell_type": "markdown",
   "metadata": {},
   "source": [
    "First let's import the functions from **vivi**:"
   ]
  },
  {
   "cell_type": "code",
   "execution_count": 168,
   "metadata": {},
   "outputs": [
    {
     "data": {
      "text/plain": [
       "vivi"
      ]
     },
     "execution_count": 168,
     "metadata": {},
     "output_type": "execute_result"
    }
   ],
   "source": [
    "include(\"../../src/vivi.jl\") # the file location may be different in your pc"
   ]
  },
  {
   "cell_type": "markdown",
   "metadata": {},
   "source": [
    "#### Alkaline electrolysis - Tech"
   ]
  },
  {
   "cell_type": "markdown",
   "metadata": {},
   "source": [
    "Now, we need to create a representation of the alkaline electrolysis unit. \n",
    "\n",
    "                power --> aec --> h2\n",
    "\n",
    "First, we should define the inputs and outputs of the AEC system as **Resources**:\n",
    "\n",
    "        Resource(type,amount,unit,[[value_t]])\n",
    "\n",
    "* type: a string identifying the resource (e.g., water)\n",
    "* amount: a value or array of the rate of that type (e.g., 100, 10)\n",
    "* unit: the unit of the amount (e.g., kg, W, etc.)\n",
    "* value_t: is the specific value of the resource on time t (e.g., 10 EUR/kg)"
   ]
  },
  {
   "cell_type": "code",
   "execution_count": 137,
   "metadata": {},
   "outputs": [
    {
     "data": {
      "text/plain": [
       "Resource(ResourceType(\"H2\", Real[1;;], \"MW\"), Real[6.6865], Real[0 0; 1 1])"
      ]
     },
     "execution_count": 137,
     "metadata": {},
     "output_type": "execute_result"
    }
   ],
   "source": [
    "power = ResourceType(n=\"power\",u=\"MW\",c=[0;;])\n",
    "hydrogen = ResourceType(n=\"H2\",u=\"MW\",c=[1;;])\n",
    "\n",
    "# Defining power input of electrolysis\n",
    "aec_in = Resource(t=power,r=[10])\n",
    "\n",
    "# Defining hydrogen output of electrolysis\n",
    "aec_out = Resource(t=hydrogen,r=[10*0.66865])"
   ]
  },
  {
   "cell_type": "markdown",
   "metadata": {},
   "source": [
    "Finally, we create a Tech:\n",
    "\n",
    "        Tech(type,[in],[out],[[size,cost]])\n",
    "\n",
    "* type: the name of the technology\n",
    "* in: the resources inputs\n",
    "* out: the resources outputs\n",
    "* size,cost: datapoints of size and cost for the technology"
   ]
  },
  {
   "cell_type": "code",
   "execution_count": 138,
   "metadata": {},
   "outputs": [
    {
     "data": {
      "text/plain": [
       "Tech(\"AWE\", Resource[Resource(ResourceType(\"power\", Real[0;;], \"MW\"), Real[10], Real[0 0; 1 1])], Resource[Resource(ResourceType(\"H2\", Real[1;;], \"MW\"), Real[6.6865], Real[0 0; 1 1])], Heat[], Matrix{Real}[[0.0 0.0; 1000.0 0.0]], (0, 1000.0), (0, 1), (-1, 1), true, 1, Real[1])"
      ]
     },
     "execution_count": 138,
     "metadata": {},
     "output_type": "execute_result"
    }
   ],
   "source": [
    "# Creating a basic Tech with the information available\n",
    "alk = Tech(n=\"AWE\",i=[aec_in],o=[aec_out])"
   ]
  },
  {
   "cell_type": "markdown",
   "metadata": {},
   "source": [
    "and include additional constraints about their size and partial load limits:\n",
    "\n",
    "        Tech.limits = [min,max]\n",
    "        Tech.loads = [min,max,turnOff]\n",
    "\n",
    "* min: minimal size/load\n",
    "* max: maximal size/load\n",
    "* turnOff: a binary variable to define if the Tech can be shut down (turnOff=true) or not (turnOff=false)\n",
    "\n",
    "So, since we defined the resources input as for a system of 10 MW, the sizes of the electrolysis Tech (f) should be limited to 1:\n",
    "\n",
    "$$ 1 \\leq f \\leq 1$$"
   ]
  },
  {
   "cell_type": "code",
   "execution_count": 139,
   "metadata": {},
   "outputs": [
    {
     "data": {
      "text/plain": [
       "(1, 1)"
      ]
     },
     "execution_count": 139,
     "metadata": {},
     "output_type": "execute_result"
    }
   ],
   "source": [
    "# Adding size limits\n",
    "alk.s = (1,1)"
   ]
  },
  {
   "cell_type": "markdown",
   "metadata": {},
   "source": [
    "We also would like to limite the minimal load to 15% of the power rating and enable the possibility of shutting down the electrolysis:\n",
    "\n",
    "$$ 0.15 \\leq f_t \\leq 1 $$\n",
    "\n",
    "$$ turnOff = true $$"
   ]
  },
  {
   "cell_type": "code",
   "execution_count": 140,
   "metadata": {},
   "outputs": [
    {
     "data": {
      "text/plain": [
       "true"
      ]
     },
     "execution_count": 140,
     "metadata": {},
     "output_type": "execute_result"
    }
   ],
   "source": [
    "# Adding load limits and shutdown possibility\n",
    "alk.l = (0.15,1)\n",
    "alk.off = true"
   ]
  },
  {
   "cell_type": "markdown",
   "metadata": {},
   "source": [
    "We can visualize the balance of resource by using the \"vivi_sankey\" function"
   ]
  },
  {
   "cell_type": "code",
   "execution_count": 141,
   "metadata": {},
   "outputs": [
    {
     "data": {
      "application/vnd.plotly.v1+json": {
       "config": {
        "editable": false,
        "responsive": true,
        "scrollZoom": true,
        "showLink": false,
        "staticPlot": false
       },
       "data": [
        {
         "link": {
          "color": [
           "rgba(186,186,186,0.5)",
           "rgba(186,186,186,0.5)",
           "rgba(255,129,127,0.5)",
           "rgba(255,129,127,0.5)"
          ],
          "source": [
           1,
           0,
           3,
           0
          ],
          "target": [
           0,
           2,
           0,
           3
          ],
          "value": [
           10,
           6.6865,
           0,
           0
          ]
         },
         "node": {
          "color": [
           "blue",
           "#90EE90",
           "#90EE90",
           "#90EE90"
          ],
          "label": [
           "AWE",
           "power",
           "H2",
           "Heat network"
          ],
          "line": {
           "color": "black",
           "width": 0.5
          },
          "pad": 15,
          "thickness": 20
         },
         "type": "sankey"
        }
       ],
       "frames": [],
       "layout": {
        "margin": {
         "b": 50,
         "l": 50,
         "r": 50,
         "t": 60
        },
        "template": {
         "data": {
          "bar": [
           {
            "error_x": {
             "color": "#2a3f5f"
            },
            "error_y": {
             "color": "#2a3f5f"
            },
            "marker": {
             "line": {
              "color": "#E5ECF6",
              "width": 0.5
             }
            },
            "type": "bar"
           }
          ],
          "barpolar": [
           {
            "marker": {
             "line": {
              "color": "#E5ECF6",
              "width": 0.5
             }
            },
            "type": "barpolar"
           }
          ],
          "carpet": [
           {
            "aaxis": {
             "endlinecolor": "#2a3f5f",
             "gridcolor": "white",
             "linecolor": "white",
             "minorgridcolor": "white",
             "startlinecolor": "#2a3f5f"
            },
            "baxis": {
             "endlinecolor": "#2a3f5f",
             "gridcolor": "white",
             "linecolor": "white",
             "minorgridcolor": "white",
             "startlinecolor": "#2a3f5f"
            },
            "type": "carpet"
           }
          ],
          "choropleth": [
           {
            "colorbar": {
             "outlinewidth": 0,
             "ticks": ""
            },
            "type": "choropleth"
           }
          ],
          "contour": [
           {
            "colorbar": {
             "outlinewidth": 0,
             "ticks": ""
            },
            "colorscale": [
             [
              0,
              "#0d0887"
             ],
             [
              0.1111111111111111,
              "#46039f"
             ],
             [
              0.2222222222222222,
              "#7201a8"
             ],
             [
              0.3333333333333333,
              "#9c179e"
             ],
             [
              0.4444444444444444,
              "#bd3786"
             ],
             [
              0.5555555555555556,
              "#d8576b"
             ],
             [
              0.6666666666666666,
              "#ed7953"
             ],
             [
              0.7777777777777778,
              "#fb9f3a"
             ],
             [
              0.8888888888888888,
              "#fdca26"
             ],
             [
              1,
              "#f0f921"
             ]
            ],
            "type": "contour"
           }
          ],
          "contourcarpet": [
           {
            "colorbar": {
             "outlinewidth": 0,
             "ticks": ""
            },
            "type": "contourcarpet"
           }
          ],
          "heatmap": [
           {
            "colorbar": {
             "outlinewidth": 0,
             "ticks": ""
            },
            "colorscale": [
             [
              0,
              "#0d0887"
             ],
             [
              0.1111111111111111,
              "#46039f"
             ],
             [
              0.2222222222222222,
              "#7201a8"
             ],
             [
              0.3333333333333333,
              "#9c179e"
             ],
             [
              0.4444444444444444,
              "#bd3786"
             ],
             [
              0.5555555555555556,
              "#d8576b"
             ],
             [
              0.6666666666666666,
              "#ed7953"
             ],
             [
              0.7777777777777778,
              "#fb9f3a"
             ],
             [
              0.8888888888888888,
              "#fdca26"
             ],
             [
              1,
              "#f0f921"
             ]
            ],
            "type": "heatmap"
           }
          ],
          "heatmapgl": [
           {
            "colorbar": {
             "outlinewidth": 0,
             "ticks": ""
            },
            "colorscale": [
             [
              0,
              "#0d0887"
             ],
             [
              0.1111111111111111,
              "#46039f"
             ],
             [
              0.2222222222222222,
              "#7201a8"
             ],
             [
              0.3333333333333333,
              "#9c179e"
             ],
             [
              0.4444444444444444,
              "#bd3786"
             ],
             [
              0.5555555555555556,
              "#d8576b"
             ],
             [
              0.6666666666666666,
              "#ed7953"
             ],
             [
              0.7777777777777778,
              "#fb9f3a"
             ],
             [
              0.8888888888888888,
              "#fdca26"
             ],
             [
              1,
              "#f0f921"
             ]
            ],
            "type": "heatmapgl"
           }
          ],
          "histogram": [
           {
            "marker": {
             "colorbar": {
              "outlinewidth": 0,
              "ticks": ""
             }
            },
            "type": "histogram"
           }
          ],
          "histogram2d": [
           {
            "colorbar": {
             "outlinewidth": 0,
             "ticks": ""
            },
            "colorscale": [
             [
              0,
              "#0d0887"
             ],
             [
              0.1111111111111111,
              "#46039f"
             ],
             [
              0.2222222222222222,
              "#7201a8"
             ],
             [
              0.3333333333333333,
              "#9c179e"
             ],
             [
              0.4444444444444444,
              "#bd3786"
             ],
             [
              0.5555555555555556,
              "#d8576b"
             ],
             [
              0.6666666666666666,
              "#ed7953"
             ],
             [
              0.7777777777777778,
              "#fb9f3a"
             ],
             [
              0.8888888888888888,
              "#fdca26"
             ],
             [
              1,
              "#f0f921"
             ]
            ],
            "type": "histogram2d"
           }
          ],
          "histogram2dcontour": [
           {
            "colorbar": {
             "outlinewidth": 0,
             "ticks": ""
            },
            "colorscale": [
             [
              0,
              "#0d0887"
             ],
             [
              0.1111111111111111,
              "#46039f"
             ],
             [
              0.2222222222222222,
              "#7201a8"
             ],
             [
              0.3333333333333333,
              "#9c179e"
             ],
             [
              0.4444444444444444,
              "#bd3786"
             ],
             [
              0.5555555555555556,
              "#d8576b"
             ],
             [
              0.6666666666666666,
              "#ed7953"
             ],
             [
              0.7777777777777778,
              "#fb9f3a"
             ],
             [
              0.8888888888888888,
              "#fdca26"
             ],
             [
              1,
              "#f0f921"
             ]
            ],
            "type": "histogram2dcontour"
           }
          ],
          "mesh3d": [
           {
            "colorbar": {
             "outlinewidth": 0,
             "ticks": ""
            },
            "type": "mesh3d"
           }
          ],
          "parcoords": [
           {
            "line": {
             "colorbar": {
              "outlinewidth": 0,
              "ticks": ""
             }
            },
            "type": "parcoords"
           }
          ],
          "pie": [
           {
            "automargin": true,
            "type": "pie"
           }
          ],
          "scatter": [
           {
            "marker": {
             "colorbar": {
              "outlinewidth": 0,
              "ticks": ""
             }
            },
            "type": "scatter"
           }
          ],
          "scatter3d": [
           {
            "line": {
             "colorbar": {
              "outlinewidth": 0,
              "ticks": ""
             }
            },
            "marker": {
             "colorbar": {
              "outlinewidth": 0,
              "ticks": ""
             }
            },
            "type": "scatter3d"
           }
          ],
          "scattercarpet": [
           {
            "marker": {
             "colorbar": {
              "outlinewidth": 0,
              "ticks": ""
             }
            },
            "type": "scattercarpet"
           }
          ],
          "scattergeo": [
           {
            "marker": {
             "colorbar": {
              "outlinewidth": 0,
              "ticks": ""
             }
            },
            "type": "scattergeo"
           }
          ],
          "scattergl": [
           {
            "marker": {
             "colorbar": {
              "outlinewidth": 0,
              "ticks": ""
             }
            },
            "type": "scattergl"
           }
          ],
          "scattermapbox": [
           {
            "marker": {
             "colorbar": {
              "outlinewidth": 0,
              "ticks": ""
             }
            },
            "type": "scattermapbox"
           }
          ],
          "scatterpolar": [
           {
            "marker": {
             "colorbar": {
              "outlinewidth": 0,
              "ticks": ""
             }
            },
            "type": "scatterpolar"
           }
          ],
          "scatterpolargl": [
           {
            "marker": {
             "colorbar": {
              "outlinewidth": 0,
              "ticks": ""
             }
            },
            "type": "scatterpolargl"
           }
          ],
          "scatterternary": [
           {
            "marker": {
             "colorbar": {
              "outlinewidth": 0,
              "ticks": ""
             }
            },
            "type": "scatterternary"
           }
          ],
          "surface": [
           {
            "colorbar": {
             "outlinewidth": 0,
             "ticks": ""
            },
            "colorscale": [
             [
              0,
              "#0d0887"
             ],
             [
              0.1111111111111111,
              "#46039f"
             ],
             [
              0.2222222222222222,
              "#7201a8"
             ],
             [
              0.3333333333333333,
              "#9c179e"
             ],
             [
              0.4444444444444444,
              "#bd3786"
             ],
             [
              0.5555555555555556,
              "#d8576b"
             ],
             [
              0.6666666666666666,
              "#ed7953"
             ],
             [
              0.7777777777777778,
              "#fb9f3a"
             ],
             [
              0.8888888888888888,
              "#fdca26"
             ],
             [
              1,
              "#f0f921"
             ]
            ],
            "type": "surface"
           }
          ],
          "table": [
           {
            "cells": {
             "fill": {
              "color": "#EBF0F8"
             },
             "line": {
              "color": "white"
             }
            },
            "header": {
             "fill": {
              "color": "#C8D4E3"
             },
             "line": {
              "color": "white"
             }
            },
            "type": "table"
           }
          ]
         },
         "layout": {
          "annotationdefaults": {
           "arrowcolor": "#2a3f5f",
           "arrowhead": 0,
           "arrowwidth": 1
          },
          "autotypenumbers": "strict",
          "coloraxis": {
           "colorbar": {
            "outlinewidth": 0,
            "ticks": ""
           }
          },
          "colorscale": {
           "diverging": [
            [
             0,
             "#8e0152"
            ],
            [
             0.1,
             "#c51b7d"
            ],
            [
             0.2,
             "#de77ae"
            ],
            [
             0.3,
             "#f1b6da"
            ],
            [
             0.4,
             "#fde0ef"
            ],
            [
             0.5,
             "#f7f7f7"
            ],
            [
             0.6,
             "#e6f5d0"
            ],
            [
             0.7,
             "#b8e186"
            ],
            [
             0.8,
             "#7fbc41"
            ],
            [
             0.9,
             "#4d9221"
            ],
            [
             1,
             "#276419"
            ]
           ],
           "sequential": [
            [
             0,
             "#0d0887"
            ],
            [
             0.1111111111111111,
             "#46039f"
            ],
            [
             0.2222222222222222,
             "#7201a8"
            ],
            [
             0.3333333333333333,
             "#9c179e"
            ],
            [
             0.4444444444444444,
             "#bd3786"
            ],
            [
             0.5555555555555556,
             "#d8576b"
            ],
            [
             0.6666666666666666,
             "#ed7953"
            ],
            [
             0.7777777777777778,
             "#fb9f3a"
            ],
            [
             0.8888888888888888,
             "#fdca26"
            ],
            [
             1,
             "#f0f921"
            ]
           ],
           "sequentialminus": [
            [
             0,
             "#0d0887"
            ],
            [
             0.1111111111111111,
             "#46039f"
            ],
            [
             0.2222222222222222,
             "#7201a8"
            ],
            [
             0.3333333333333333,
             "#9c179e"
            ],
            [
             0.4444444444444444,
             "#bd3786"
            ],
            [
             0.5555555555555556,
             "#d8576b"
            ],
            [
             0.6666666666666666,
             "#ed7953"
            ],
            [
             0.7777777777777778,
             "#fb9f3a"
            ],
            [
             0.8888888888888888,
             "#fdca26"
            ],
            [
             1,
             "#f0f921"
            ]
           ]
          },
          "colorway": [
           "#636efa",
           "#EF553B",
           "#00cc96",
           "#ab63fa",
           "#FFA15A",
           "#19d3f3",
           "#FF6692",
           "#B6E880",
           "#FF97FF",
           "#FECB52"
          ],
          "font": {
           "color": "#2a3f5f"
          },
          "geo": {
           "bgcolor": "white",
           "lakecolor": "white",
           "landcolor": "#E5ECF6",
           "showlakes": true,
           "showland": true,
           "subunitcolor": "white"
          },
          "hoverlabel": {
           "align": "left"
          },
          "hovermode": "closest",
          "mapbox": {
           "style": "light"
          },
          "paper_bgcolor": "white",
          "plot_bgcolor": "#E5ECF6",
          "polar": {
           "angularaxis": {
            "gridcolor": "white",
            "linecolor": "white",
            "ticks": ""
           },
           "bgcolor": "#E5ECF6",
           "radialaxis": {
            "gridcolor": "white",
            "linecolor": "white",
            "ticks": ""
           }
          },
          "scene": {
           "xaxis": {
            "backgroundcolor": "#E5ECF6",
            "gridcolor": "white",
            "gridwidth": 2,
            "linecolor": "white",
            "showbackground": true,
            "ticks": "",
            "zerolinecolor": "white"
           },
           "yaxis": {
            "backgroundcolor": "#E5ECF6",
            "gridcolor": "white",
            "gridwidth": 2,
            "linecolor": "white",
            "showbackground": true,
            "ticks": "",
            "zerolinecolor": "white"
           },
           "zaxis": {
            "backgroundcolor": "#E5ECF6",
            "gridcolor": "white",
            "gridwidth": 2,
            "linecolor": "white",
            "showbackground": true,
            "ticks": "",
            "zerolinecolor": "white"
           }
          },
          "shapedefaults": {
           "line": {
            "color": "#2a3f5f"
           }
          },
          "ternary": {
           "aaxis": {
            "gridcolor": "white",
            "linecolor": "white",
            "ticks": ""
           },
           "baxis": {
            "gridcolor": "white",
            "linecolor": "white",
            "ticks": ""
           },
           "bgcolor": "#E5ECF6",
           "caxis": {
            "gridcolor": "white",
            "linecolor": "white",
            "ticks": ""
           }
          },
          "title": {
           "x": 0.05
          },
          "xaxis": {
           "automargin": true,
           "gridcolor": "white",
           "linecolor": "white",
           "ticks": "",
           "title": {
            "standoff": 15
           },
           "zerolinecolor": "white",
           "zerolinewidth": 2
          },
          "yaxis": {
           "automargin": true,
           "gridcolor": "white",
           "linecolor": "white",
           "ticks": "",
           "title": {
            "standoff": 15
           },
           "zerolinecolor": "white",
           "zerolinewidth": 2
          }
         }
        }
       }
      },
      "text/html": [
       "<div\n",
       "    class=\"webio-mountpoint\"\n",
       "    data-webio-mountpoint=\"3389517158599276030\"\n",
       ">\n",
       "    <script>\n",
       "    (function(){\n",
       "    // Some integrations (namely, IJulia/Jupyter) use an alternate render pathway than\n",
       "    // just putting the html on the page. If WebIO isn't defined, then it's pretty likely\n",
       "    // that we're in one of those situations and the integration just isn't installed\n",
       "    // correctly.\n",
       "    if (typeof window.WebIO === \"undefined\") {\n",
       "        document\n",
       "            .querySelector('[data-webio-mountpoint=\"3389517158599276030\"]')\n",
       "            .innerHTML = (\n",
       "                '<div style=\"padding: 1em; background-color: #f8d6da; border: 1px solid #f5c6cb; font-weight: bold;\">' +\n",
       "                '<p><strong>WebIO not detected.</strong></p>' +\n",
       "                '<p>Please read ' +\n",
       "                '<a href=\"https://juliagizmos.github.io/WebIO.jl/latest/troubleshooting/not-detected/\" target=\"_blank\">the troubleshooting guide</a> ' +\n",
       "                'for more information on how to resolve this issue.</p>' +\n",
       "                '<p><a href=\"https://juliagizmos.github.io/WebIO.jl/latest/troubleshooting/not-detected/\" target=\"_blank\">https://juliagizmos.github.io/WebIO.jl/latest/troubleshooting/not-detected/</a></p>' +\n",
       "                '</div>'\n",
       "            );\n",
       "        return;\n",
       "    }\n",
       "    WebIO.mount(\n",
       "        document.querySelector('[data-webio-mountpoint=\"3389517158599276030\"]'),\n",
       "        {\"props\":{},\"nodeType\":\"Scope\",\"type\":\"node\",\"instanceArgs\":{\"imports\":{\"data\":[{\"name\":\"Plotly\",\"type\":\"js\",\"url\":\"\\/assetserver\\/0920e676c106f32ba509e3957ec7f2e1975e6dda-plotly.min.js\"},{\"name\":null,\"type\":\"js\",\"url\":\"\\/assetserver\\/bfb0d919d1a65ca40988867ef64bbd1fc7547d8b-plotly_webio.bundle.js\"}],\"type\":\"async_block\"},\"id\":\"11486163180537300699\",\"handlers\":{\"_toImage\":[\"(function (options){return this.Plotly.toImage(this.plotElem,options).then((function (data){return WebIO.setval({\\\"name\\\":\\\"image\\\",\\\"scope\\\":\\\"11486163180537300699\\\",\\\"id\\\":\\\"115\\\",\\\"type\\\":\\\"observable\\\"},data)}))})\"],\"__get_gd_contents\":[\"(function (prop){prop==\\\"data\\\" ? (WebIO.setval({\\\"name\\\":\\\"__gd_contents\\\",\\\"scope\\\":\\\"11486163180537300699\\\",\\\"id\\\":\\\"116\\\",\\\"type\\\":\\\"observable\\\"},this.plotElem.data)) : undefined; return prop==\\\"layout\\\" ? (WebIO.setval({\\\"name\\\":\\\"__gd_contents\\\",\\\"scope\\\":\\\"11486163180537300699\\\",\\\"id\\\":\\\"116\\\",\\\"type\\\":\\\"observable\\\"},this.plotElem.layout)) : undefined})\"],\"_downloadImage\":[\"(function (options){return this.Plotly.downloadImage(this.plotElem,options)})\"],\"_commands\":[\"(function (args){var fn=args.shift(); var elem=this.plotElem; var Plotly=this.Plotly; args.unshift(elem); return Plotly[fn].apply(this,args)})\"]},\"systemjs_options\":null,\"mount_callbacks\":[\"function () {\\n    var handler = ((function (Plotly,PlotlyWebIO){PlotlyWebIO.init(WebIO); var gd=this.dom.querySelector(\\\"#plot-60d326c6-ea4e-4e10-a46c-ef54348514cb\\\"); this.plotElem=gd; this.Plotly=Plotly; (window.Blink!==undefined) ? (gd.style.width=\\\"100%\\\", gd.style.height=\\\"100vh\\\", gd.style.marginLeft=\\\"0%\\\", gd.style.marginTop=\\\"0vh\\\") : undefined; window.onresize=(function (){return Plotly.Plots.resize(gd)}); Plotly.newPlot(gd,[{\\\"link\\\":{\\\"color\\\":[\\\"rgba(186,186,186,0.5)\\\",\\\"rgba(186,186,186,0.5)\\\",\\\"rgba(255,129,127,0.5)\\\",\\\"rgba(255,129,127,0.5)\\\"],\\\"value\\\":[10.0,6.6865,0,0],\\\"source\\\":[1.0,0.0,3,0],\\\"target\\\":[0.0,2.0,0,3]},\\\"node\\\":{\\\"color\\\":[\\\"blue\\\",\\\"#90EE90\\\",\\\"#90EE90\\\",\\\"#90EE90\\\"],\\\"pad\\\":15,\\\"line\\\":{\\\"color\\\":\\\"black\\\",\\\"width\\\":0.5},\\\"label\\\":[\\\"AWE\\\",\\\"power\\\",\\\"H2\\\",\\\"Heat network\\\"],\\\"thickness\\\":20},\\\"type\\\":\\\"sankey\\\"}],{\\\"template\\\":{\\\"layout\\\":{\\\"coloraxis\\\":{\\\"colorbar\\\":{\\\"ticks\\\":\\\"\\\",\\\"outlinewidth\\\":0}},\\\"xaxis\\\":{\\\"gridcolor\\\":\\\"white\\\",\\\"zerolinewidth\\\":2,\\\"title\\\":{\\\"standoff\\\":15},\\\"ticks\\\":\\\"\\\",\\\"zerolinecolor\\\":\\\"white\\\",\\\"automargin\\\":true,\\\"linecolor\\\":\\\"white\\\"},\\\"hovermode\\\":\\\"closest\\\",\\\"paper_bgcolor\\\":\\\"white\\\",\\\"geo\\\":{\\\"showlakes\\\":true,\\\"showland\\\":true,\\\"landcolor\\\":\\\"#E5ECF6\\\",\\\"bgcolor\\\":\\\"white\\\",\\\"subunitcolor\\\":\\\"white\\\",\\\"lakecolor\\\":\\\"white\\\"},\\\"colorscale\\\":{\\\"sequential\\\":[[0.0,\\\"#0d0887\\\"],[0.1111111111111111,\\\"#46039f\\\"],[0.2222222222222222,\\\"#7201a8\\\"],[0.3333333333333333,\\\"#9c179e\\\"],[0.4444444444444444,\\\"#bd3786\\\"],[0.5555555555555556,\\\"#d8576b\\\"],[0.6666666666666666,\\\"#ed7953\\\"],[0.7777777777777778,\\\"#fb9f3a\\\"],[0.8888888888888888,\\\"#fdca26\\\"],[1.0,\\\"#f0f921\\\"]],\\\"diverging\\\":[[0,\\\"#8e0152\\\"],[0.1,\\\"#c51b7d\\\"],[0.2,\\\"#de77ae\\\"],[0.3,\\\"#f1b6da\\\"],[0.4,\\\"#fde0ef\\\"],[0.5,\\\"#f7f7f7\\\"],[0.6,\\\"#e6f5d0\\\"],[0.7,\\\"#b8e186\\\"],[0.8,\\\"#7fbc41\\\"],[0.9,\\\"#4d9221\\\"],[1,\\\"#276419\\\"]],\\\"sequentialminus\\\":[[0.0,\\\"#0d0887\\\"],[0.1111111111111111,\\\"#46039f\\\"],[0.2222222222222222,\\\"#7201a8\\\"],[0.3333333333333333,\\\"#9c179e\\\"],[0.4444444444444444,\\\"#bd3786\\\"],[0.5555555555555556,\\\"#d8576b\\\"],[0.6666666666666666,\\\"#ed7953\\\"],[0.7777777777777778,\\\"#fb9f3a\\\"],[0.8888888888888888,\\\"#fdca26\\\"],[1.0,\\\"#f0f921\\\"]]},\\\"yaxis\\\":{\\\"gridcolor\\\":\\\"white\\\",\\\"zerolinewidth\\\":2,\\\"title\\\":{\\\"standoff\\\":15},\\\"ticks\\\":\\\"\\\",\\\"zerolinecolor\\\":\\\"white\\\",\\\"automargin\\\":true,\\\"linecolor\\\":\\\"white\\\"},\\\"shapedefaults\\\":{\\\"line\\\":{\\\"color\\\":\\\"#2a3f5f\\\"}},\\\"hoverlabel\\\":{\\\"align\\\":\\\"left\\\"},\\\"mapbox\\\":{\\\"style\\\":\\\"light\\\"},\\\"polar\\\":{\\\"angularaxis\\\":{\\\"gridcolor\\\":\\\"white\\\",\\\"ticks\\\":\\\"\\\",\\\"linecolor\\\":\\\"white\\\"},\\\"bgcolor\\\":\\\"#E5ECF6\\\",\\\"radialaxis\\\":{\\\"gridcolor\\\":\\\"white\\\",\\\"ticks\\\":\\\"\\\",\\\"linecolor\\\":\\\"white\\\"}},\\\"autotypenumbers\\\":\\\"strict\\\",\\\"font\\\":{\\\"color\\\":\\\"#2a3f5f\\\"},\\\"ternary\\\":{\\\"baxis\\\":{\\\"gridcolor\\\":\\\"white\\\",\\\"ticks\\\":\\\"\\\",\\\"linecolor\\\":\\\"white\\\"},\\\"bgcolor\\\":\\\"#E5ECF6\\\",\\\"caxis\\\":{\\\"gridcolor\\\":\\\"white\\\",\\\"ticks\\\":\\\"\\\",\\\"linecolor\\\":\\\"white\\\"},\\\"aaxis\\\":{\\\"gridcolor\\\":\\\"white\\\",\\\"ticks\\\":\\\"\\\",\\\"linecolor\\\":\\\"white\\\"}},\\\"annotationdefaults\\\":{\\\"arrowhead\\\":0,\\\"arrowwidth\\\":1,\\\"arrowcolor\\\":\\\"#2a3f5f\\\"},\\\"plot_bgcolor\\\":\\\"#E5ECF6\\\",\\\"title\\\":{\\\"x\\\":0.05},\\\"scene\\\":{\\\"xaxis\\\":{\\\"gridcolor\\\":\\\"white\\\",\\\"gridwidth\\\":2,\\\"backgroundcolor\\\":\\\"#E5ECF6\\\",\\\"ticks\\\":\\\"\\\",\\\"showbackground\\\":true,\\\"zerolinecolor\\\":\\\"white\\\",\\\"linecolor\\\":\\\"white\\\"},\\\"zaxis\\\":{\\\"gridcolor\\\":\\\"white\\\",\\\"gridwidth\\\":2,\\\"backgroundcolor\\\":\\\"#E5ECF6\\\",\\\"ticks\\\":\\\"\\\",\\\"showbackground\\\":true,\\\"zerolinecolor\\\":\\\"white\\\",\\\"linecolor\\\":\\\"white\\\"},\\\"yaxis\\\":{\\\"gridcolor\\\":\\\"white\\\",\\\"gridwidth\\\":2,\\\"backgroundcolor\\\":\\\"#E5ECF6\\\",\\\"ticks\\\":\\\"\\\",\\\"showbackground\\\":true,\\\"zerolinecolor\\\":\\\"white\\\",\\\"linecolor\\\":\\\"white\\\"}},\\\"colorway\\\":[\\\"#636efa\\\",\\\"#EF553B\\\",\\\"#00cc96\\\",\\\"#ab63fa\\\",\\\"#FFA15A\\\",\\\"#19d3f3\\\",\\\"#FF6692\\\",\\\"#B6E880\\\",\\\"#FF97FF\\\",\\\"#FECB52\\\"]},\\\"data\\\":{\\\"barpolar\\\":[{\\\"type\\\":\\\"barpolar\\\",\\\"marker\\\":{\\\"line\\\":{\\\"color\\\":\\\"#E5ECF6\\\",\\\"width\\\":0.5}}}],\\\"carpet\\\":[{\\\"aaxis\\\":{\\\"gridcolor\\\":\\\"white\\\",\\\"endlinecolor\\\":\\\"#2a3f5f\\\",\\\"minorgridcolor\\\":\\\"white\\\",\\\"startlinecolor\\\":\\\"#2a3f5f\\\",\\\"linecolor\\\":\\\"white\\\"},\\\"type\\\":\\\"carpet\\\",\\\"baxis\\\":{\\\"gridcolor\\\":\\\"white\\\",\\\"endlinecolor\\\":\\\"#2a3f5f\\\",\\\"minorgridcolor\\\":\\\"white\\\",\\\"startlinecolor\\\":\\\"#2a3f5f\\\",\\\"linecolor\\\":\\\"white\\\"}}],\\\"scatterpolar\\\":[{\\\"type\\\":\\\"scatterpolar\\\",\\\"marker\\\":{\\\"colorbar\\\":{\\\"ticks\\\":\\\"\\\",\\\"outlinewidth\\\":0}}}],\\\"parcoords\\\":[{\\\"line\\\":{\\\"colorbar\\\":{\\\"ticks\\\":\\\"\\\",\\\"outlinewidth\\\":0}},\\\"type\\\":\\\"parcoords\\\"}],\\\"scatter\\\":[{\\\"type\\\":\\\"scatter\\\",\\\"marker\\\":{\\\"colorbar\\\":{\\\"ticks\\\":\\\"\\\",\\\"outlinewidth\\\":0}}}],\\\"histogram2dcontour\\\":[{\\\"colorbar\\\":{\\\"ticks\\\":\\\"\\\",\\\"outlinewidth\\\":0},\\\"type\\\":\\\"histogram2dcontour\\\",\\\"colorscale\\\":[[0.0,\\\"#0d0887\\\"],[0.1111111111111111,\\\"#46039f\\\"],[0.2222222222222222,\\\"#7201a8\\\"],[0.3333333333333333,\\\"#9c179e\\\"],[0.4444444444444444,\\\"#bd3786\\\"],[0.5555555555555556,\\\"#d8576b\\\"],[0.6666666666666666,\\\"#ed7953\\\"],[0.7777777777777778,\\\"#fb9f3a\\\"],[0.8888888888888888,\\\"#fdca26\\\"],[1.0,\\\"#f0f921\\\"]]}],\\\"contour\\\":[{\\\"colorbar\\\":{\\\"ticks\\\":\\\"\\\",\\\"outlinewidth\\\":0},\\\"type\\\":\\\"contour\\\",\\\"colorscale\\\":[[0.0,\\\"#0d0887\\\"],[0.1111111111111111,\\\"#46039f\\\"],[0.2222222222222222,\\\"#7201a8\\\"],[0.3333333333333333,\\\"#9c179e\\\"],[0.4444444444444444,\\\"#bd3786\\\"],[0.5555555555555556,\\\"#d8576b\\\"],[0.6666666666666666,\\\"#ed7953\\\"],[0.7777777777777778,\\\"#fb9f3a\\\"],[0.8888888888888888,\\\"#fdca26\\\"],[1.0,\\\"#f0f921\\\"]]}],\\\"scattercarpet\\\":[{\\\"type\\\":\\\"scattercarpet\\\",\\\"marker\\\":{\\\"colorbar\\\":{\\\"ticks\\\":\\\"\\\",\\\"outlinewidth\\\":0}}}],\\\"mesh3d\\\":[{\\\"colorbar\\\":{\\\"ticks\\\":\\\"\\\",\\\"outlinewidth\\\":0},\\\"type\\\":\\\"mesh3d\\\"}],\\\"surface\\\":[{\\\"colorbar\\\":{\\\"ticks\\\":\\\"\\\",\\\"outlinewidth\\\":0},\\\"type\\\":\\\"surface\\\",\\\"colorscale\\\":[[0.0,\\\"#0d0887\\\"],[0.1111111111111111,\\\"#46039f\\\"],[0.2222222222222222,\\\"#7201a8\\\"],[0.3333333333333333,\\\"#9c179e\\\"],[0.4444444444444444,\\\"#bd3786\\\"],[0.5555555555555556,\\\"#d8576b\\\"],[0.6666666666666666,\\\"#ed7953\\\"],[0.7777777777777778,\\\"#fb9f3a\\\"],[0.8888888888888888,\\\"#fdca26\\\"],[1.0,\\\"#f0f921\\\"]]}],\\\"scattermapbox\\\":[{\\\"type\\\":\\\"scattermapbox\\\",\\\"marker\\\":{\\\"colorbar\\\":{\\\"ticks\\\":\\\"\\\",\\\"outlinewidth\\\":0}}}],\\\"scattergeo\\\":[{\\\"type\\\":\\\"scattergeo\\\",\\\"marker\\\":{\\\"colorbar\\\":{\\\"ticks\\\":\\\"\\\",\\\"outlinewidth\\\":0}}}],\\\"histogram\\\":[{\\\"type\\\":\\\"histogram\\\",\\\"marker\\\":{\\\"colorbar\\\":{\\\"ticks\\\":\\\"\\\",\\\"outlinewidth\\\":0}}}],\\\"pie\\\":[{\\\"type\\\":\\\"pie\\\",\\\"automargin\\\":true}],\\\"choropleth\\\":[{\\\"colorbar\\\":{\\\"ticks\\\":\\\"\\\",\\\"outlinewidth\\\":0},\\\"type\\\":\\\"choropleth\\\"}],\\\"heatmapgl\\\":[{\\\"colorbar\\\":{\\\"ticks\\\":\\\"\\\",\\\"outlinewidth\\\":0},\\\"type\\\":\\\"heatmapgl\\\",\\\"colorscale\\\":[[0.0,\\\"#0d0887\\\"],[0.1111111111111111,\\\"#46039f\\\"],[0.2222222222222222,\\\"#7201a8\\\"],[0.3333333333333333,\\\"#9c179e\\\"],[0.4444444444444444,\\\"#bd3786\\\"],[0.5555555555555556,\\\"#d8576b\\\"],[0.6666666666666666,\\\"#ed7953\\\"],[0.7777777777777778,\\\"#fb9f3a\\\"],[0.8888888888888888,\\\"#fdca26\\\"],[1.0,\\\"#f0f921\\\"]]}],\\\"bar\\\":[{\\\"type\\\":\\\"bar\\\",\\\"error_y\\\":{\\\"color\\\":\\\"#2a3f5f\\\"},\\\"error_x\\\":{\\\"color\\\":\\\"#2a3f5f\\\"},\\\"marker\\\":{\\\"line\\\":{\\\"color\\\":\\\"#E5ECF6\\\",\\\"width\\\":0.5}}}],\\\"heatmap\\\":[{\\\"colorbar\\\":{\\\"ticks\\\":\\\"\\\",\\\"outlinewidth\\\":0},\\\"type\\\":\\\"heatmap\\\",\\\"colorscale\\\":[[0.0,\\\"#0d0887\\\"],[0.1111111111111111,\\\"#46039f\\\"],[0.2222222222222222,\\\"#7201a8\\\"],[0.3333333333333333,\\\"#9c179e\\\"],[0.4444444444444444,\\\"#bd3786\\\"],[0.5555555555555556,\\\"#d8576b\\\"],[0.6666666666666666,\\\"#ed7953\\\"],[0.7777777777777778,\\\"#fb9f3a\\\"],[0.8888888888888888,\\\"#fdca26\\\"],[1.0,\\\"#f0f921\\\"]]}],\\\"contourcarpet\\\":[{\\\"colorbar\\\":{\\\"ticks\\\":\\\"\\\",\\\"outlinewidth\\\":0},\\\"type\\\":\\\"contourcarpet\\\"}],\\\"table\\\":[{\\\"type\\\":\\\"table\\\",\\\"header\\\":{\\\"line\\\":{\\\"color\\\":\\\"white\\\"},\\\"fill\\\":{\\\"color\\\":\\\"#C8D4E3\\\"}},\\\"cells\\\":{\\\"line\\\":{\\\"color\\\":\\\"white\\\"},\\\"fill\\\":{\\\"color\\\":\\\"#EBF0F8\\\"}}}],\\\"scatter3d\\\":[{\\\"line\\\":{\\\"colorbar\\\":{\\\"ticks\\\":\\\"\\\",\\\"outlinewidth\\\":0}},\\\"type\\\":\\\"scatter3d\\\",\\\"marker\\\":{\\\"colorbar\\\":{\\\"ticks\\\":\\\"\\\",\\\"outlinewidth\\\":0}}}],\\\"scattergl\\\":[{\\\"type\\\":\\\"scattergl\\\",\\\"marker\\\":{\\\"colorbar\\\":{\\\"ticks\\\":\\\"\\\",\\\"outlinewidth\\\":0}}}],\\\"histogram2d\\\":[{\\\"colorbar\\\":{\\\"ticks\\\":\\\"\\\",\\\"outlinewidth\\\":0},\\\"type\\\":\\\"histogram2d\\\",\\\"colorscale\\\":[[0.0,\\\"#0d0887\\\"],[0.1111111111111111,\\\"#46039f\\\"],[0.2222222222222222,\\\"#7201a8\\\"],[0.3333333333333333,\\\"#9c179e\\\"],[0.4444444444444444,\\\"#bd3786\\\"],[0.5555555555555556,\\\"#d8576b\\\"],[0.6666666666666666,\\\"#ed7953\\\"],[0.7777777777777778,\\\"#fb9f3a\\\"],[0.8888888888888888,\\\"#fdca26\\\"],[1.0,\\\"#f0f921\\\"]]}],\\\"scatterternary\\\":[{\\\"type\\\":\\\"scatterternary\\\",\\\"marker\\\":{\\\"colorbar\\\":{\\\"ticks\\\":\\\"\\\",\\\"outlinewidth\\\":0}}}],\\\"scatterpolargl\\\":[{\\\"type\\\":\\\"scatterpolargl\\\",\\\"marker\\\":{\\\"colorbar\\\":{\\\"ticks\\\":\\\"\\\",\\\"outlinewidth\\\":0}}}]}},\\\"margin\\\":{\\\"l\\\":50,\\\"b\\\":50,\\\"r\\\":50,\\\"t\\\":60}},{\\\"showLink\\\":false,\\\"editable\\\":false,\\\"responsive\\\":true,\\\"staticPlot\\\":false,\\\"scrollZoom\\\":true}); gd.on(\\\"plotly_hover\\\",(function (data){var filtered_data=WebIO.PlotlyCommands.filterEventData(gd,data,\\\"hover\\\"); return !(filtered_data.isnil) ? (WebIO.setval({\\\"name\\\":\\\"hover\\\",\\\"scope\\\":\\\"11486163180537300699\\\",\\\"id\\\":\\\"111\\\",\\\"type\\\":\\\"observable\\\"},filtered_data.out)) : undefined})); gd.on(\\\"plotly_unhover\\\",(function (){return WebIO.setval({\\\"name\\\":\\\"hover\\\",\\\"scope\\\":\\\"11486163180537300699\\\",\\\"id\\\":\\\"111\\\",\\\"type\\\":\\\"observable\\\"},{})})); gd.on(\\\"plotly_selected\\\",(function (data){var filtered_data=WebIO.PlotlyCommands.filterEventData(gd,data,\\\"selected\\\"); return !(filtered_data.isnil) ? (WebIO.setval({\\\"name\\\":\\\"selected\\\",\\\"scope\\\":\\\"11486163180537300699\\\",\\\"id\\\":\\\"112\\\",\\\"type\\\":\\\"observable\\\"},filtered_data.out)) : undefined})); gd.on(\\\"plotly_deselect\\\",(function (){return WebIO.setval({\\\"name\\\":\\\"selected\\\",\\\"scope\\\":\\\"11486163180537300699\\\",\\\"id\\\":\\\"112\\\",\\\"type\\\":\\\"observable\\\"},{})})); gd.on(\\\"plotly_relayout\\\",(function (data){var filtered_data=WebIO.PlotlyCommands.filterEventData(gd,data,\\\"relayout\\\"); return !(filtered_data.isnil) ? (WebIO.setval({\\\"name\\\":\\\"relayout\\\",\\\"scope\\\":\\\"11486163180537300699\\\",\\\"id\\\":\\\"114\\\",\\\"type\\\":\\\"observable\\\"},filtered_data.out)) : undefined})); return gd.on(\\\"plotly_click\\\",(function (data){var filtered_data=WebIO.PlotlyCommands.filterEventData(gd,data,\\\"click\\\"); return !(filtered_data.isnil) ? (WebIO.setval({\\\"name\\\":\\\"click\\\",\\\"scope\\\":\\\"11486163180537300699\\\",\\\"id\\\":\\\"113\\\",\\\"type\\\":\\\"observable\\\"},filtered_data.out)) : undefined}))}));\\n    (WebIO.importBlock({\\\"data\\\":[{\\\"name\\\":\\\"Plotly\\\",\\\"type\\\":\\\"js\\\",\\\"url\\\":\\\"\\/assetserver\\/0920e676c106f32ba509e3957ec7f2e1975e6dda-plotly.min.js\\\"},{\\\"name\\\":null,\\\"type\\\":\\\"js\\\",\\\"url\\\":\\\"\\/assetserver\\/bfb0d919d1a65ca40988867ef64bbd1fc7547d8b-plotly_webio.bundle.js\\\"}],\\\"type\\\":\\\"async_block\\\"})).then((imports) => handler.apply(this, imports));\\n}\\n\"],\"observables\":{\"_toImage\":{\"sync\":false,\"id\":\"118\",\"value\":{}},\"hover\":{\"sync\":false,\"id\":\"111\",\"value\":{}},\"selected\":{\"sync\":false,\"id\":\"112\",\"value\":{}},\"__gd_contents\":{\"sync\":false,\"id\":\"116\",\"value\":{}},\"click\":{\"sync\":false,\"id\":\"113\",\"value\":{}},\"image\":{\"sync\":true,\"id\":\"115\",\"value\":\"\"},\"__get_gd_contents\":{\"sync\":false,\"id\":\"120\",\"value\":\"\"},\"_downloadImage\":{\"sync\":false,\"id\":\"119\",\"value\":{}},\"relayout\":{\"sync\":false,\"id\":\"114\",\"value\":{}},\"_commands\":{\"sync\":false,\"id\":\"117\",\"value\":[]}}},\"children\":[{\"props\":{\"id\":\"plot-60d326c6-ea4e-4e10-a46c-ef54348514cb\"},\"nodeType\":\"DOM\",\"type\":\"node\",\"instanceArgs\":{\"namespace\":\"html\",\"tag\":\"div\"},\"children\":[]}]},\n",
       "        window,\n",
       "    );\n",
       "    })()\n",
       "    </script>\n",
       "</div>\n"
      ],
      "text/plain": [
       "data: [\n",
       "  \"sankey with fields link, node, and type\"\n",
       "]\n",
       "\n",
       "layout: \"layout with fields margin and template\"\n",
       "\n"
      ]
     },
     "execution_count": 141,
     "metadata": {},
     "output_type": "execute_result"
    }
   ],
   "source": [
    "vivi_sankey(alk)"
   ]
  },
  {
   "cell_type": "markdown",
   "metadata": {},
   "source": [
    "#### Problem boundaries - inputs / outputs"
   ]
  },
  {
   "cell_type": "markdown",
   "metadata": {},
   "source": [
    "Our problem boundaries start with the wind power, since we are not modifying the turbine size, and ends with the hydrogen production from the electrolyzer. Since the electrolyzer may not be able to use all the wind power (due to the minimal load restriction), we also need to include a curtailment possibility to conservate the energy.\n",
    "\n",
    "        (power) ----> aec --> (h2)\n",
    "                |\n",
    "                --> (power)[cut]\n",
    "\n",
    "We define resources as previously, but including an array of amounts and values to capture the effect of variability of wind power. Since the wind power is produced locally, we can define its value as zero to simplify the objective function of the optimization:"
   ]
  },
  {
   "cell_type": "code",
   "execution_count": 142,
   "metadata": {},
   "outputs": [
    {
     "data": {
      "text/plain": [
       "Resource(ResourceType(\"power\", Real[0;;], \"MW\"), Real[0.423, 0.223, 0.221, 0.225, 0.22, 0.217, 0.217, 0.231, 0.226, 0.314  …  2.57, 2.05, 2.135, 3.929, 6.339, 5.936, 5.01, 8.088, 7.919, 8.668], Real[0 0; 1 1])"
      ]
     },
     "execution_count": 142,
     "metadata": {},
     "output_type": "execute_result"
    }
   ],
   "source": [
    "hours = length(windPower)\n",
    "\n",
    "windIn = Resource(t = power, r=windPower)"
   ]
  },
  {
   "cell_type": "markdown",
   "metadata": {},
   "source": [
    "**OBS**: It is important to use the same type name in \"power\" for the boundaries and Techs. Otherwise the optimization will think that the resources are different.\n",
    "\n",
    "The same can be done for the hydrogen and curtailment (which is a type of \"power\"). The main difference is that we are going to set the value of H2 as \"1\" and curtailment as \"0\". This means that the curtailment does not add up to the net energy products, while the hydrogen does (by a factor of 1).\n",
    "\n",
    "Also notice that the amount set for H2 and curtailment are **Inf**, which tells the optimization that these values are free variables to be optimized."
   ]
  },
  {
   "cell_type": "code",
   "execution_count": 143,
   "metadata": {},
   "outputs": [
    {
     "data": {
      "text/plain": [
       "Resource(ResourceType(\"power\", Real[0;;], \"MW\"), Real[Inf, Inf, Inf, Inf, Inf, Inf, Inf, Inf, Inf, Inf  …  Inf, Inf, Inf, Inf, Inf, Inf, Inf, Inf, Inf, Inf], Real[0 0; 1 1])"
      ]
     },
     "execution_count": 143,
     "metadata": {},
     "output_type": "execute_result"
    }
   ],
   "source": [
    "# Hydrogen\n",
    "h2 = Resource(t = hydrogen , r = [Inf for i=1:hours])\n",
    "\n",
    "# Curtailment\n",
    "powerLost = ResourceType(n=\"power\",u=\"MW\",c=[0;;])\n",
    "cut = Resource(t=powerLost,r=[Inf for i=1:hours])"
   ]
  },
  {
   "cell_type": "markdown",
   "metadata": {},
   "source": [
    "#### Problem struct and solving"
   ]
  },
  {
   "cell_type": "markdown",
   "metadata": {},
   "source": [
    "Now we just need to input these informations as a problem to be solved by **vivi**\n",
    "\n",
    "        Problem(inputs,processes,outputs,utilities,storage)\n",
    "\n",
    "* inputs: the resources that are allowed/required to by imported by the system.\n",
    "* processes: the Techs that are included in the problem\n",
    "* outputs: the resources that are allowed/required to by exported by the system.\n",
    "* utilities: also Techs that are included in the problem, but only auxiliates the processes by delivering important resources (i.e., heat, steam, cooling)\n",
    "* storage: the Storage possibilities included in the problem."
   ]
  },
  {
   "cell_type": "code",
   "execution_count": 144,
   "metadata": {},
   "outputs": [
    {
     "data": {
      "text/plain": [
       "Problem(Resource[Resource(ResourceType(\"power\", Real[0;;], \"MW\"), Real[0.423, 0.223, 0.221, 0.225, 0.22, 0.217, 0.217, 0.231, 0.226, 0.314  …  2.57, 2.05, 2.135, 3.929, 6.339, 5.936, 5.01, 8.088, 7.919, 8.668], Real[0 0; 1 1])], Resource[Resource(ResourceType(\"H2\", Real[1;;], \"MW\"), Real[Inf, Inf, Inf, Inf, Inf, Inf, Inf, Inf, Inf, Inf  …  Inf, Inf, Inf, Inf, Inf, Inf, Inf, Inf, Inf, Inf], Real[0 0; 1 1]), Resource(ResourceType(\"power\", Real[0;;], \"MW\"), Real[Inf, Inf, Inf, Inf, Inf, Inf, Inf, Inf, Inf, Inf  …  Inf, Inf, Inf, Inf, Inf, Inf, Inf, Inf, Inf, Inf], Real[0 0; 1 1])], Tech[Tech(\"AWE\", Resource[Resource(ResourceType(\"power\", Real[0;;], \"MW\"), Real[10], Real[0 0; 1 1])], Resource[Resource(ResourceType(\"H2\", Real[1;;], \"MW\"), Real[6.6865], Real[0 0; 1 1])], Heat[], Matrix{Real}[[0.0 0.0; 1000.0 0.0]], (1, 1), (0.15, 1), (-1, 1), true, 1, Real[1])], Tech[], Storage[])"
      ]
     },
     "execution_count": 144,
     "metadata": {},
     "output_type": "execute_result"
    }
   ],
   "source": [
    "problem = Problem(i = [windIn], p = [alk], o =[h2,cut])"
   ]
  },
  {
   "cell_type": "markdown",
   "metadata": {},
   "source": [
    "Our problem is rather simple, is just a Tech that connects to different types of resources, as shown in the graph below:"
   ]
  },
  {
   "cell_type": "code",
   "execution_count": 145,
   "metadata": {},
   "outputs": [
    {
     "data": {
      "application/vnd.plotly.v1+json": {
       "config": {
        "editable": false,
        "responsive": true,
        "scrollZoom": true,
        "showLink": false,
        "staticPlot": false
       },
       "data": [
        {
         "line": {
          "color": "#888",
          "width": 0.5
         },
         "mode": "lines",
         "type": "scatter",
         "x": [
          0.007556751362431502,
          1,
          null,
          -1,
          0.007556751362431502,
          null
         ],
         "y": [
          -0.007556751362431391,
          -1,
          null,
          1,
          -0.007556751362431391,
          null
         ]
        },
        {
         "marker": {
          "color": "red",
          "size": 10,
          "symbol": "square"
         },
         "mode": "markers+text",
         "name": "Process",
         "text": [
          "AWE"
         ],
         "type": "scatter",
         "x": [
          0.007556751362431502
         ],
         "y": [
          -0.007556751362431391
         ]
        },
        {
         "marker": {
          "color": "yellow",
          "size": 10,
          "symbol": "diamond"
         },
         "mode": "markers+text",
         "name": "Storage",
         "text": [],
         "type": "scatter",
         "x": [],
         "y": []
        },
        {
         "marker": {
          "color": "#90EE90",
          "size": 10,
          "symbol": "circle"
         },
         "mode": "markers+text",
         "name": "Resource",
         "text": [
          "power",
          "H2"
         ],
         "type": "scatter",
         "x": [
          -1,
          1
         ],
         "y": [
          1,
          -1
         ]
        }
       ],
       "frames": [],
       "layout": {
        "hovermode": "closest",
        "margin": {
         "b": 50,
         "l": 50,
         "r": 50,
         "t": 60
        },
        "showarrow": false,
        "showlegend": false,
        "template": {
         "data": {
          "bar": [
           {
            "error_x": {
             "color": "#2a3f5f"
            },
            "error_y": {
             "color": "#2a3f5f"
            },
            "marker": {
             "line": {
              "color": "#E5ECF6",
              "width": 0.5
             }
            },
            "type": "bar"
           }
          ],
          "barpolar": [
           {
            "marker": {
             "line": {
              "color": "#E5ECF6",
              "width": 0.5
             }
            },
            "type": "barpolar"
           }
          ],
          "carpet": [
           {
            "aaxis": {
             "endlinecolor": "#2a3f5f",
             "gridcolor": "white",
             "linecolor": "white",
             "minorgridcolor": "white",
             "startlinecolor": "#2a3f5f"
            },
            "baxis": {
             "endlinecolor": "#2a3f5f",
             "gridcolor": "white",
             "linecolor": "white",
             "minorgridcolor": "white",
             "startlinecolor": "#2a3f5f"
            },
            "type": "carpet"
           }
          ],
          "choropleth": [
           {
            "colorbar": {
             "outlinewidth": 0,
             "ticks": ""
            },
            "type": "choropleth"
           }
          ],
          "contour": [
           {
            "colorbar": {
             "outlinewidth": 0,
             "ticks": ""
            },
            "colorscale": [
             [
              0,
              "#0d0887"
             ],
             [
              0.1111111111111111,
              "#46039f"
             ],
             [
              0.2222222222222222,
              "#7201a8"
             ],
             [
              0.3333333333333333,
              "#9c179e"
             ],
             [
              0.4444444444444444,
              "#bd3786"
             ],
             [
              0.5555555555555556,
              "#d8576b"
             ],
             [
              0.6666666666666666,
              "#ed7953"
             ],
             [
              0.7777777777777778,
              "#fb9f3a"
             ],
             [
              0.8888888888888888,
              "#fdca26"
             ],
             [
              1,
              "#f0f921"
             ]
            ],
            "type": "contour"
           }
          ],
          "contourcarpet": [
           {
            "colorbar": {
             "outlinewidth": 0,
             "ticks": ""
            },
            "type": "contourcarpet"
           }
          ],
          "heatmap": [
           {
            "colorbar": {
             "outlinewidth": 0,
             "ticks": ""
            },
            "colorscale": [
             [
              0,
              "#0d0887"
             ],
             [
              0.1111111111111111,
              "#46039f"
             ],
             [
              0.2222222222222222,
              "#7201a8"
             ],
             [
              0.3333333333333333,
              "#9c179e"
             ],
             [
              0.4444444444444444,
              "#bd3786"
             ],
             [
              0.5555555555555556,
              "#d8576b"
             ],
             [
              0.6666666666666666,
              "#ed7953"
             ],
             [
              0.7777777777777778,
              "#fb9f3a"
             ],
             [
              0.8888888888888888,
              "#fdca26"
             ],
             [
              1,
              "#f0f921"
             ]
            ],
            "type": "heatmap"
           }
          ],
          "heatmapgl": [
           {
            "colorbar": {
             "outlinewidth": 0,
             "ticks": ""
            },
            "colorscale": [
             [
              0,
              "#0d0887"
             ],
             [
              0.1111111111111111,
              "#46039f"
             ],
             [
              0.2222222222222222,
              "#7201a8"
             ],
             [
              0.3333333333333333,
              "#9c179e"
             ],
             [
              0.4444444444444444,
              "#bd3786"
             ],
             [
              0.5555555555555556,
              "#d8576b"
             ],
             [
              0.6666666666666666,
              "#ed7953"
             ],
             [
              0.7777777777777778,
              "#fb9f3a"
             ],
             [
              0.8888888888888888,
              "#fdca26"
             ],
             [
              1,
              "#f0f921"
             ]
            ],
            "type": "heatmapgl"
           }
          ],
          "histogram": [
           {
            "marker": {
             "colorbar": {
              "outlinewidth": 0,
              "ticks": ""
             }
            },
            "type": "histogram"
           }
          ],
          "histogram2d": [
           {
            "colorbar": {
             "outlinewidth": 0,
             "ticks": ""
            },
            "colorscale": [
             [
              0,
              "#0d0887"
             ],
             [
              0.1111111111111111,
              "#46039f"
             ],
             [
              0.2222222222222222,
              "#7201a8"
             ],
             [
              0.3333333333333333,
              "#9c179e"
             ],
             [
              0.4444444444444444,
              "#bd3786"
             ],
             [
              0.5555555555555556,
              "#d8576b"
             ],
             [
              0.6666666666666666,
              "#ed7953"
             ],
             [
              0.7777777777777778,
              "#fb9f3a"
             ],
             [
              0.8888888888888888,
              "#fdca26"
             ],
             [
              1,
              "#f0f921"
             ]
            ],
            "type": "histogram2d"
           }
          ],
          "histogram2dcontour": [
           {
            "colorbar": {
             "outlinewidth": 0,
             "ticks": ""
            },
            "colorscale": [
             [
              0,
              "#0d0887"
             ],
             [
              0.1111111111111111,
              "#46039f"
             ],
             [
              0.2222222222222222,
              "#7201a8"
             ],
             [
              0.3333333333333333,
              "#9c179e"
             ],
             [
              0.4444444444444444,
              "#bd3786"
             ],
             [
              0.5555555555555556,
              "#d8576b"
             ],
             [
              0.6666666666666666,
              "#ed7953"
             ],
             [
              0.7777777777777778,
              "#fb9f3a"
             ],
             [
              0.8888888888888888,
              "#fdca26"
             ],
             [
              1,
              "#f0f921"
             ]
            ],
            "type": "histogram2dcontour"
           }
          ],
          "mesh3d": [
           {
            "colorbar": {
             "outlinewidth": 0,
             "ticks": ""
            },
            "type": "mesh3d"
           }
          ],
          "parcoords": [
           {
            "line": {
             "colorbar": {
              "outlinewidth": 0,
              "ticks": ""
             }
            },
            "type": "parcoords"
           }
          ],
          "pie": [
           {
            "automargin": true,
            "type": "pie"
           }
          ],
          "scatter": [
           {
            "marker": {
             "colorbar": {
              "outlinewidth": 0,
              "ticks": ""
             }
            },
            "type": "scatter"
           }
          ],
          "scatter3d": [
           {
            "line": {
             "colorbar": {
              "outlinewidth": 0,
              "ticks": ""
             }
            },
            "marker": {
             "colorbar": {
              "outlinewidth": 0,
              "ticks": ""
             }
            },
            "type": "scatter3d"
           }
          ],
          "scattercarpet": [
           {
            "marker": {
             "colorbar": {
              "outlinewidth": 0,
              "ticks": ""
             }
            },
            "type": "scattercarpet"
           }
          ],
          "scattergeo": [
           {
            "marker": {
             "colorbar": {
              "outlinewidth": 0,
              "ticks": ""
             }
            },
            "type": "scattergeo"
           }
          ],
          "scattergl": [
           {
            "marker": {
             "colorbar": {
              "outlinewidth": 0,
              "ticks": ""
             }
            },
            "type": "scattergl"
           }
          ],
          "scattermapbox": [
           {
            "marker": {
             "colorbar": {
              "outlinewidth": 0,
              "ticks": ""
             }
            },
            "type": "scattermapbox"
           }
          ],
          "scatterpolar": [
           {
            "marker": {
             "colorbar": {
              "outlinewidth": 0,
              "ticks": ""
             }
            },
            "type": "scatterpolar"
           }
          ],
          "scatterpolargl": [
           {
            "marker": {
             "colorbar": {
              "outlinewidth": 0,
              "ticks": ""
             }
            },
            "type": "scatterpolargl"
           }
          ],
          "scatterternary": [
           {
            "marker": {
             "colorbar": {
              "outlinewidth": 0,
              "ticks": ""
             }
            },
            "type": "scatterternary"
           }
          ],
          "surface": [
           {
            "colorbar": {
             "outlinewidth": 0,
             "ticks": ""
            },
            "colorscale": [
             [
              0,
              "#0d0887"
             ],
             [
              0.1111111111111111,
              "#46039f"
             ],
             [
              0.2222222222222222,
              "#7201a8"
             ],
             [
              0.3333333333333333,
              "#9c179e"
             ],
             [
              0.4444444444444444,
              "#bd3786"
             ],
             [
              0.5555555555555556,
              "#d8576b"
             ],
             [
              0.6666666666666666,
              "#ed7953"
             ],
             [
              0.7777777777777778,
              "#fb9f3a"
             ],
             [
              0.8888888888888888,
              "#fdca26"
             ],
             [
              1,
              "#f0f921"
             ]
            ],
            "type": "surface"
           }
          ],
          "table": [
           {
            "cells": {
             "fill": {
              "color": "#EBF0F8"
             },
             "line": {
              "color": "white"
             }
            },
            "header": {
             "fill": {
              "color": "#C8D4E3"
             },
             "line": {
              "color": "white"
             }
            },
            "type": "table"
           }
          ]
         },
         "layout": {
          "annotationdefaults": {
           "arrowcolor": "#2a3f5f",
           "arrowhead": 0,
           "arrowwidth": 1
          },
          "autotypenumbers": "strict",
          "coloraxis": {
           "colorbar": {
            "outlinewidth": 0,
            "ticks": ""
           }
          },
          "colorscale": {
           "diverging": [
            [
             0,
             "#8e0152"
            ],
            [
             0.1,
             "#c51b7d"
            ],
            [
             0.2,
             "#de77ae"
            ],
            [
             0.3,
             "#f1b6da"
            ],
            [
             0.4,
             "#fde0ef"
            ],
            [
             0.5,
             "#f7f7f7"
            ],
            [
             0.6,
             "#e6f5d0"
            ],
            [
             0.7,
             "#b8e186"
            ],
            [
             0.8,
             "#7fbc41"
            ],
            [
             0.9,
             "#4d9221"
            ],
            [
             1,
             "#276419"
            ]
           ],
           "sequential": [
            [
             0,
             "#0d0887"
            ],
            [
             0.1111111111111111,
             "#46039f"
            ],
            [
             0.2222222222222222,
             "#7201a8"
            ],
            [
             0.3333333333333333,
             "#9c179e"
            ],
            [
             0.4444444444444444,
             "#bd3786"
            ],
            [
             0.5555555555555556,
             "#d8576b"
            ],
            [
             0.6666666666666666,
             "#ed7953"
            ],
            [
             0.7777777777777778,
             "#fb9f3a"
            ],
            [
             0.8888888888888888,
             "#fdca26"
            ],
            [
             1,
             "#f0f921"
            ]
           ],
           "sequentialminus": [
            [
             0,
             "#0d0887"
            ],
            [
             0.1111111111111111,
             "#46039f"
            ],
            [
             0.2222222222222222,
             "#7201a8"
            ],
            [
             0.3333333333333333,
             "#9c179e"
            ],
            [
             0.4444444444444444,
             "#bd3786"
            ],
            [
             0.5555555555555556,
             "#d8576b"
            ],
            [
             0.6666666666666666,
             "#ed7953"
            ],
            [
             0.7777777777777778,
             "#fb9f3a"
            ],
            [
             0.8888888888888888,
             "#fdca26"
            ],
            [
             1,
             "#f0f921"
            ]
           ]
          },
          "colorway": [
           "#636efa",
           "#EF553B",
           "#00cc96",
           "#ab63fa",
           "#FFA15A",
           "#19d3f3",
           "#FF6692",
           "#B6E880",
           "#FF97FF",
           "#FECB52"
          ],
          "font": {
           "color": "#2a3f5f"
          },
          "geo": {
           "bgcolor": "white",
           "lakecolor": "white",
           "landcolor": "#E5ECF6",
           "showlakes": true,
           "showland": true,
           "subunitcolor": "white"
          },
          "hoverlabel": {
           "align": "left"
          },
          "hovermode": "closest",
          "mapbox": {
           "style": "light"
          },
          "paper_bgcolor": "white",
          "plot_bgcolor": "#E5ECF6",
          "polar": {
           "angularaxis": {
            "gridcolor": "white",
            "linecolor": "white",
            "ticks": ""
           },
           "bgcolor": "#E5ECF6",
           "radialaxis": {
            "gridcolor": "white",
            "linecolor": "white",
            "ticks": ""
           }
          },
          "scene": {
           "xaxis": {
            "backgroundcolor": "#E5ECF6",
            "gridcolor": "white",
            "gridwidth": 2,
            "linecolor": "white",
            "showbackground": true,
            "ticks": "",
            "zerolinecolor": "white"
           },
           "yaxis": {
            "backgroundcolor": "#E5ECF6",
            "gridcolor": "white",
            "gridwidth": 2,
            "linecolor": "white",
            "showbackground": true,
            "ticks": "",
            "zerolinecolor": "white"
           },
           "zaxis": {
            "backgroundcolor": "#E5ECF6",
            "gridcolor": "white",
            "gridwidth": 2,
            "linecolor": "white",
            "showbackground": true,
            "ticks": "",
            "zerolinecolor": "white"
           }
          },
          "shapedefaults": {
           "line": {
            "color": "#2a3f5f"
           }
          },
          "ternary": {
           "aaxis": {
            "gridcolor": "white",
            "linecolor": "white",
            "ticks": ""
           },
           "baxis": {
            "gridcolor": "white",
            "linecolor": "white",
            "ticks": ""
           },
           "bgcolor": "#E5ECF6",
           "caxis": {
            "gridcolor": "white",
            "linecolor": "white",
            "ticks": ""
           }
          },
          "title": {
           "x": 0.05
          },
          "xaxis": {
           "automargin": true,
           "gridcolor": "white",
           "linecolor": "white",
           "ticks": "",
           "title": {
            "standoff": 15
           },
           "zerolinecolor": "white",
           "zerolinewidth": 2
          },
          "yaxis": {
           "automargin": true,
           "gridcolor": "white",
           "linecolor": "white",
           "ticks": "",
           "title": {
            "standoff": 15
           },
           "zerolinecolor": "white",
           "zerolinewidth": 2
          }
         }
        },
        "titlefont": {
         "size": 16
        },
        "xaxis": {
         "showgrid": false,
         "showticklabels": false,
         "zeroline": false
        },
        "yaxis": {
         "showgrid": false,
         "showticklabels": false,
         "zeroline": false
        }
       }
      },
      "text/html": [
       "<div\n",
       "    class=\"webio-mountpoint\"\n",
       "    data-webio-mountpoint=\"11547509925930714732\"\n",
       ">\n",
       "    <script>\n",
       "    (function(){\n",
       "    // Some integrations (namely, IJulia/Jupyter) use an alternate render pathway than\n",
       "    // just putting the html on the page. If WebIO isn't defined, then it's pretty likely\n",
       "    // that we're in one of those situations and the integration just isn't installed\n",
       "    // correctly.\n",
       "    if (typeof window.WebIO === \"undefined\") {\n",
       "        document\n",
       "            .querySelector('[data-webio-mountpoint=\"11547509925930714732\"]')\n",
       "            .innerHTML = (\n",
       "                '<div style=\"padding: 1em; background-color: #f8d6da; border: 1px solid #f5c6cb; font-weight: bold;\">' +\n",
       "                '<p><strong>WebIO not detected.</strong></p>' +\n",
       "                '<p>Please read ' +\n",
       "                '<a href=\"https://juliagizmos.github.io/WebIO.jl/latest/troubleshooting/not-detected/\" target=\"_blank\">the troubleshooting guide</a> ' +\n",
       "                'for more information on how to resolve this issue.</p>' +\n",
       "                '<p><a href=\"https://juliagizmos.github.io/WebIO.jl/latest/troubleshooting/not-detected/\" target=\"_blank\">https://juliagizmos.github.io/WebIO.jl/latest/troubleshooting/not-detected/</a></p>' +\n",
       "                '</div>'\n",
       "            );\n",
       "        return;\n",
       "    }\n",
       "    WebIO.mount(\n",
       "        document.querySelector('[data-webio-mountpoint=\"11547509925930714732\"]'),\n",
       "        {\"props\":{},\"nodeType\":\"Scope\",\"type\":\"node\",\"instanceArgs\":{\"imports\":{\"data\":[{\"name\":\"Plotly\",\"type\":\"js\",\"url\":\"\\/assetserver\\/0920e676c106f32ba509e3957ec7f2e1975e6dda-plotly.min.js\"},{\"name\":null,\"type\":\"js\",\"url\":\"\\/assetserver\\/bfb0d919d1a65ca40988867ef64bbd1fc7547d8b-plotly_webio.bundle.js\"}],\"type\":\"async_block\"},\"id\":\"12808172493000425689\",\"handlers\":{\"_toImage\":[\"(function (options){return this.Plotly.toImage(this.plotElem,options).then((function (data){return WebIO.setval({\\\"name\\\":\\\"image\\\",\\\"scope\\\":\\\"12808172493000425689\\\",\\\"id\\\":\\\"125\\\",\\\"type\\\":\\\"observable\\\"},data)}))})\"],\"__get_gd_contents\":[\"(function (prop){prop==\\\"data\\\" ? (WebIO.setval({\\\"name\\\":\\\"__gd_contents\\\",\\\"scope\\\":\\\"12808172493000425689\\\",\\\"id\\\":\\\"126\\\",\\\"type\\\":\\\"observable\\\"},this.plotElem.data)) : undefined; return prop==\\\"layout\\\" ? (WebIO.setval({\\\"name\\\":\\\"__gd_contents\\\",\\\"scope\\\":\\\"12808172493000425689\\\",\\\"id\\\":\\\"126\\\",\\\"type\\\":\\\"observable\\\"},this.plotElem.layout)) : undefined})\"],\"_downloadImage\":[\"(function (options){return this.Plotly.downloadImage(this.plotElem,options)})\"],\"_commands\":[\"(function (args){var fn=args.shift(); var elem=this.plotElem; var Plotly=this.Plotly; args.unshift(elem); return Plotly[fn].apply(this,args)})\"]},\"systemjs_options\":null,\"mount_callbacks\":[\"function () {\\n    var handler = ((function (Plotly,PlotlyWebIO){PlotlyWebIO.init(WebIO); var gd=this.dom.querySelector(\\\"#plot-e0c5e179-9d6e-4052-8f1f-e031c0011c28\\\"); this.plotElem=gd; this.Plotly=Plotly; (window.Blink!==undefined) ? (gd.style.width=\\\"100%\\\", gd.style.height=\\\"100vh\\\", gd.style.marginLeft=\\\"0%\\\", gd.style.marginTop=\\\"0vh\\\") : undefined; window.onresize=(function (){return Plotly.Plots.resize(gd)}); Plotly.newPlot(gd,[{\\\"mode\\\":\\\"lines\\\",\\\"line\\\":{\\\"color\\\":\\\"#888\\\",\\\"width\\\":0.5},\\\"y\\\":[-0.007556751362431391,-1.0,null,1.0,-0.007556751362431391,null],\\\"type\\\":\\\"scatter\\\",\\\"x\\\":[0.007556751362431502,1.0,null,-1.0,0.007556751362431502,null]},{\\\"x\\\":[0.007556751362431502],\\\"mode\\\":\\\"markers+text\\\",\\\"y\\\":[-0.007556751362431391],\\\"type\\\":\\\"scatter\\\",\\\"name\\\":\\\"Process\\\",\\\"text\\\":[\\\"AWE\\\"],\\\"marker\\\":{\\\"symbol\\\":\\\"square\\\",\\\"color\\\":\\\"red\\\",\\\"size\\\":10}},{\\\"x\\\":[],\\\"mode\\\":\\\"markers+text\\\",\\\"y\\\":[],\\\"type\\\":\\\"scatter\\\",\\\"name\\\":\\\"Storage\\\",\\\"text\\\":[],\\\"marker\\\":{\\\"symbol\\\":\\\"diamond\\\",\\\"color\\\":\\\"yellow\\\",\\\"size\\\":10}},{\\\"x\\\":[-1.0,1.0],\\\"mode\\\":\\\"markers+text\\\",\\\"y\\\":[1.0,-1.0],\\\"type\\\":\\\"scatter\\\",\\\"name\\\":\\\"Resource\\\",\\\"text\\\":[\\\"power\\\",\\\"H2\\\"],\\\"marker\\\":{\\\"symbol\\\":\\\"circle\\\",\\\"color\\\":\\\"#90EE90\\\",\\\"size\\\":10}}],{\\\"showlegend\\\":false,\\\"xaxis\\\":{\\\"showgrid\\\":false,\\\"showticklabels\\\":false,\\\"zeroline\\\":false},\\\"hovermode\\\":\\\"closest\\\",\\\"titlefont\\\":{\\\"size\\\":16},\\\"template\\\":{\\\"layout\\\":{\\\"coloraxis\\\":{\\\"colorbar\\\":{\\\"ticks\\\":\\\"\\\",\\\"outlinewidth\\\":0}},\\\"xaxis\\\":{\\\"gridcolor\\\":\\\"white\\\",\\\"zerolinewidth\\\":2,\\\"title\\\":{\\\"standoff\\\":15},\\\"ticks\\\":\\\"\\\",\\\"zerolinecolor\\\":\\\"white\\\",\\\"automargin\\\":true,\\\"linecolor\\\":\\\"white\\\"},\\\"hovermode\\\":\\\"closest\\\",\\\"paper_bgcolor\\\":\\\"white\\\",\\\"geo\\\":{\\\"showlakes\\\":true,\\\"showland\\\":true,\\\"landcolor\\\":\\\"#E5ECF6\\\",\\\"bgcolor\\\":\\\"white\\\",\\\"subunitcolor\\\":\\\"white\\\",\\\"lakecolor\\\":\\\"white\\\"},\\\"colorscale\\\":{\\\"sequential\\\":[[0.0,\\\"#0d0887\\\"],[0.1111111111111111,\\\"#46039f\\\"],[0.2222222222222222,\\\"#7201a8\\\"],[0.3333333333333333,\\\"#9c179e\\\"],[0.4444444444444444,\\\"#bd3786\\\"],[0.5555555555555556,\\\"#d8576b\\\"],[0.6666666666666666,\\\"#ed7953\\\"],[0.7777777777777778,\\\"#fb9f3a\\\"],[0.8888888888888888,\\\"#fdca26\\\"],[1.0,\\\"#f0f921\\\"]],\\\"diverging\\\":[[0,\\\"#8e0152\\\"],[0.1,\\\"#c51b7d\\\"],[0.2,\\\"#de77ae\\\"],[0.3,\\\"#f1b6da\\\"],[0.4,\\\"#fde0ef\\\"],[0.5,\\\"#f7f7f7\\\"],[0.6,\\\"#e6f5d0\\\"],[0.7,\\\"#b8e186\\\"],[0.8,\\\"#7fbc41\\\"],[0.9,\\\"#4d9221\\\"],[1,\\\"#276419\\\"]],\\\"sequentialminus\\\":[[0.0,\\\"#0d0887\\\"],[0.1111111111111111,\\\"#46039f\\\"],[0.2222222222222222,\\\"#7201a8\\\"],[0.3333333333333333,\\\"#9c179e\\\"],[0.4444444444444444,\\\"#bd3786\\\"],[0.5555555555555556,\\\"#d8576b\\\"],[0.6666666666666666,\\\"#ed7953\\\"],[0.7777777777777778,\\\"#fb9f3a\\\"],[0.8888888888888888,\\\"#fdca26\\\"],[1.0,\\\"#f0f921\\\"]]},\\\"yaxis\\\":{\\\"gridcolor\\\":\\\"white\\\",\\\"zerolinewidth\\\":2,\\\"title\\\":{\\\"standoff\\\":15},\\\"ticks\\\":\\\"\\\",\\\"zerolinecolor\\\":\\\"white\\\",\\\"automargin\\\":true,\\\"linecolor\\\":\\\"white\\\"},\\\"shapedefaults\\\":{\\\"line\\\":{\\\"color\\\":\\\"#2a3f5f\\\"}},\\\"hoverlabel\\\":{\\\"align\\\":\\\"left\\\"},\\\"mapbox\\\":{\\\"style\\\":\\\"light\\\"},\\\"polar\\\":{\\\"angularaxis\\\":{\\\"gridcolor\\\":\\\"white\\\",\\\"ticks\\\":\\\"\\\",\\\"linecolor\\\":\\\"white\\\"},\\\"bgcolor\\\":\\\"#E5ECF6\\\",\\\"radialaxis\\\":{\\\"gridcolor\\\":\\\"white\\\",\\\"ticks\\\":\\\"\\\",\\\"linecolor\\\":\\\"white\\\"}},\\\"autotypenumbers\\\":\\\"strict\\\",\\\"font\\\":{\\\"color\\\":\\\"#2a3f5f\\\"},\\\"ternary\\\":{\\\"baxis\\\":{\\\"gridcolor\\\":\\\"white\\\",\\\"ticks\\\":\\\"\\\",\\\"linecolor\\\":\\\"white\\\"},\\\"bgcolor\\\":\\\"#E5ECF6\\\",\\\"caxis\\\":{\\\"gridcolor\\\":\\\"white\\\",\\\"ticks\\\":\\\"\\\",\\\"linecolor\\\":\\\"white\\\"},\\\"aaxis\\\":{\\\"gridcolor\\\":\\\"white\\\",\\\"ticks\\\":\\\"\\\",\\\"linecolor\\\":\\\"white\\\"}},\\\"annotationdefaults\\\":{\\\"arrowhead\\\":0,\\\"arrowwidth\\\":1,\\\"arrowcolor\\\":\\\"#2a3f5f\\\"},\\\"plot_bgcolor\\\":\\\"#E5ECF6\\\",\\\"title\\\":{\\\"x\\\":0.05},\\\"scene\\\":{\\\"xaxis\\\":{\\\"gridcolor\\\":\\\"white\\\",\\\"gridwidth\\\":2,\\\"backgroundcolor\\\":\\\"#E5ECF6\\\",\\\"ticks\\\":\\\"\\\",\\\"showbackground\\\":true,\\\"zerolinecolor\\\":\\\"white\\\",\\\"linecolor\\\":\\\"white\\\"},\\\"zaxis\\\":{\\\"gridcolor\\\":\\\"white\\\",\\\"gridwidth\\\":2,\\\"backgroundcolor\\\":\\\"#E5ECF6\\\",\\\"ticks\\\":\\\"\\\",\\\"showbackground\\\":true,\\\"zerolinecolor\\\":\\\"white\\\",\\\"linecolor\\\":\\\"white\\\"},\\\"yaxis\\\":{\\\"gridcolor\\\":\\\"white\\\",\\\"gridwidth\\\":2,\\\"backgroundcolor\\\":\\\"#E5ECF6\\\",\\\"ticks\\\":\\\"\\\",\\\"showbackground\\\":true,\\\"zerolinecolor\\\":\\\"white\\\",\\\"linecolor\\\":\\\"white\\\"}},\\\"colorway\\\":[\\\"#636efa\\\",\\\"#EF553B\\\",\\\"#00cc96\\\",\\\"#ab63fa\\\",\\\"#FFA15A\\\",\\\"#19d3f3\\\",\\\"#FF6692\\\",\\\"#B6E880\\\",\\\"#FF97FF\\\",\\\"#FECB52\\\"]},\\\"data\\\":{\\\"barpolar\\\":[{\\\"type\\\":\\\"barpolar\\\",\\\"marker\\\":{\\\"line\\\":{\\\"color\\\":\\\"#E5ECF6\\\",\\\"width\\\":0.5}}}],\\\"carpet\\\":[{\\\"aaxis\\\":{\\\"gridcolor\\\":\\\"white\\\",\\\"endlinecolor\\\":\\\"#2a3f5f\\\",\\\"minorgridcolor\\\":\\\"white\\\",\\\"startlinecolor\\\":\\\"#2a3f5f\\\",\\\"linecolor\\\":\\\"white\\\"},\\\"type\\\":\\\"carpet\\\",\\\"baxis\\\":{\\\"gridcolor\\\":\\\"white\\\",\\\"endlinecolor\\\":\\\"#2a3f5f\\\",\\\"minorgridcolor\\\":\\\"white\\\",\\\"startlinecolor\\\":\\\"#2a3f5f\\\",\\\"linecolor\\\":\\\"white\\\"}}],\\\"scatterpolar\\\":[{\\\"type\\\":\\\"scatterpolar\\\",\\\"marker\\\":{\\\"colorbar\\\":{\\\"ticks\\\":\\\"\\\",\\\"outlinewidth\\\":0}}}],\\\"parcoords\\\":[{\\\"line\\\":{\\\"colorbar\\\":{\\\"ticks\\\":\\\"\\\",\\\"outlinewidth\\\":0}},\\\"type\\\":\\\"parcoords\\\"}],\\\"scatter\\\":[{\\\"type\\\":\\\"scatter\\\",\\\"marker\\\":{\\\"colorbar\\\":{\\\"ticks\\\":\\\"\\\",\\\"outlinewidth\\\":0}}}],\\\"histogram2dcontour\\\":[{\\\"colorbar\\\":{\\\"ticks\\\":\\\"\\\",\\\"outlinewidth\\\":0},\\\"type\\\":\\\"histogram2dcontour\\\",\\\"colorscale\\\":[[0.0,\\\"#0d0887\\\"],[0.1111111111111111,\\\"#46039f\\\"],[0.2222222222222222,\\\"#7201a8\\\"],[0.3333333333333333,\\\"#9c179e\\\"],[0.4444444444444444,\\\"#bd3786\\\"],[0.5555555555555556,\\\"#d8576b\\\"],[0.6666666666666666,\\\"#ed7953\\\"],[0.7777777777777778,\\\"#fb9f3a\\\"],[0.8888888888888888,\\\"#fdca26\\\"],[1.0,\\\"#f0f921\\\"]]}],\\\"contour\\\":[{\\\"colorbar\\\":{\\\"ticks\\\":\\\"\\\",\\\"outlinewidth\\\":0},\\\"type\\\":\\\"contour\\\",\\\"colorscale\\\":[[0.0,\\\"#0d0887\\\"],[0.1111111111111111,\\\"#46039f\\\"],[0.2222222222222222,\\\"#7201a8\\\"],[0.3333333333333333,\\\"#9c179e\\\"],[0.4444444444444444,\\\"#bd3786\\\"],[0.5555555555555556,\\\"#d8576b\\\"],[0.6666666666666666,\\\"#ed7953\\\"],[0.7777777777777778,\\\"#fb9f3a\\\"],[0.8888888888888888,\\\"#fdca26\\\"],[1.0,\\\"#f0f921\\\"]]}],\\\"scattercarpet\\\":[{\\\"type\\\":\\\"scattercarpet\\\",\\\"marker\\\":{\\\"colorbar\\\":{\\\"ticks\\\":\\\"\\\",\\\"outlinewidth\\\":0}}}],\\\"mesh3d\\\":[{\\\"colorbar\\\":{\\\"ticks\\\":\\\"\\\",\\\"outlinewidth\\\":0},\\\"type\\\":\\\"mesh3d\\\"}],\\\"surface\\\":[{\\\"colorbar\\\":{\\\"ticks\\\":\\\"\\\",\\\"outlinewidth\\\":0},\\\"type\\\":\\\"surface\\\",\\\"colorscale\\\":[[0.0,\\\"#0d0887\\\"],[0.1111111111111111,\\\"#46039f\\\"],[0.2222222222222222,\\\"#7201a8\\\"],[0.3333333333333333,\\\"#9c179e\\\"],[0.4444444444444444,\\\"#bd3786\\\"],[0.5555555555555556,\\\"#d8576b\\\"],[0.6666666666666666,\\\"#ed7953\\\"],[0.7777777777777778,\\\"#fb9f3a\\\"],[0.8888888888888888,\\\"#fdca26\\\"],[1.0,\\\"#f0f921\\\"]]}],\\\"scattermapbox\\\":[{\\\"type\\\":\\\"scattermapbox\\\",\\\"marker\\\":{\\\"colorbar\\\":{\\\"ticks\\\":\\\"\\\",\\\"outlinewidth\\\":0}}}],\\\"scattergeo\\\":[{\\\"type\\\":\\\"scattergeo\\\",\\\"marker\\\":{\\\"colorbar\\\":{\\\"ticks\\\":\\\"\\\",\\\"outlinewidth\\\":0}}}],\\\"histogram\\\":[{\\\"type\\\":\\\"histogram\\\",\\\"marker\\\":{\\\"colorbar\\\":{\\\"ticks\\\":\\\"\\\",\\\"outlinewidth\\\":0}}}],\\\"pie\\\":[{\\\"type\\\":\\\"pie\\\",\\\"automargin\\\":true}],\\\"choropleth\\\":[{\\\"colorbar\\\":{\\\"ticks\\\":\\\"\\\",\\\"outlinewidth\\\":0},\\\"type\\\":\\\"choropleth\\\"}],\\\"heatmapgl\\\":[{\\\"colorbar\\\":{\\\"ticks\\\":\\\"\\\",\\\"outlinewidth\\\":0},\\\"type\\\":\\\"heatmapgl\\\",\\\"colorscale\\\":[[0.0,\\\"#0d0887\\\"],[0.1111111111111111,\\\"#46039f\\\"],[0.2222222222222222,\\\"#7201a8\\\"],[0.3333333333333333,\\\"#9c179e\\\"],[0.4444444444444444,\\\"#bd3786\\\"],[0.5555555555555556,\\\"#d8576b\\\"],[0.6666666666666666,\\\"#ed7953\\\"],[0.7777777777777778,\\\"#fb9f3a\\\"],[0.8888888888888888,\\\"#fdca26\\\"],[1.0,\\\"#f0f921\\\"]]}],\\\"bar\\\":[{\\\"type\\\":\\\"bar\\\",\\\"error_y\\\":{\\\"color\\\":\\\"#2a3f5f\\\"},\\\"error_x\\\":{\\\"color\\\":\\\"#2a3f5f\\\"},\\\"marker\\\":{\\\"line\\\":{\\\"color\\\":\\\"#E5ECF6\\\",\\\"width\\\":0.5}}}],\\\"heatmap\\\":[{\\\"colorbar\\\":{\\\"ticks\\\":\\\"\\\",\\\"outlinewidth\\\":0},\\\"type\\\":\\\"heatmap\\\",\\\"colorscale\\\":[[0.0,\\\"#0d0887\\\"],[0.1111111111111111,\\\"#46039f\\\"],[0.2222222222222222,\\\"#7201a8\\\"],[0.3333333333333333,\\\"#9c179e\\\"],[0.4444444444444444,\\\"#bd3786\\\"],[0.5555555555555556,\\\"#d8576b\\\"],[0.6666666666666666,\\\"#ed7953\\\"],[0.7777777777777778,\\\"#fb9f3a\\\"],[0.8888888888888888,\\\"#fdca26\\\"],[1.0,\\\"#f0f921\\\"]]}],\\\"contourcarpet\\\":[{\\\"colorbar\\\":{\\\"ticks\\\":\\\"\\\",\\\"outlinewidth\\\":0},\\\"type\\\":\\\"contourcarpet\\\"}],\\\"table\\\":[{\\\"type\\\":\\\"table\\\",\\\"header\\\":{\\\"line\\\":{\\\"color\\\":\\\"white\\\"},\\\"fill\\\":{\\\"color\\\":\\\"#C8D4E3\\\"}},\\\"cells\\\":{\\\"line\\\":{\\\"color\\\":\\\"white\\\"},\\\"fill\\\":{\\\"color\\\":\\\"#EBF0F8\\\"}}}],\\\"scatter3d\\\":[{\\\"line\\\":{\\\"colorbar\\\":{\\\"ticks\\\":\\\"\\\",\\\"outlinewidth\\\":0}},\\\"type\\\":\\\"scatter3d\\\",\\\"marker\\\":{\\\"colorbar\\\":{\\\"ticks\\\":\\\"\\\",\\\"outlinewidth\\\":0}}}],\\\"scattergl\\\":[{\\\"type\\\":\\\"scattergl\\\",\\\"marker\\\":{\\\"colorbar\\\":{\\\"ticks\\\":\\\"\\\",\\\"outlinewidth\\\":0}}}],\\\"histogram2d\\\":[{\\\"colorbar\\\":{\\\"ticks\\\":\\\"\\\",\\\"outlinewidth\\\":0},\\\"type\\\":\\\"histogram2d\\\",\\\"colorscale\\\":[[0.0,\\\"#0d0887\\\"],[0.1111111111111111,\\\"#46039f\\\"],[0.2222222222222222,\\\"#7201a8\\\"],[0.3333333333333333,\\\"#9c179e\\\"],[0.4444444444444444,\\\"#bd3786\\\"],[0.5555555555555556,\\\"#d8576b\\\"],[0.6666666666666666,\\\"#ed7953\\\"],[0.7777777777777778,\\\"#fb9f3a\\\"],[0.8888888888888888,\\\"#fdca26\\\"],[1.0,\\\"#f0f921\\\"]]}],\\\"scatterternary\\\":[{\\\"type\\\":\\\"scatterternary\\\",\\\"marker\\\":{\\\"colorbar\\\":{\\\"ticks\\\":\\\"\\\",\\\"outlinewidth\\\":0}}}],\\\"scatterpolargl\\\":[{\\\"type\\\":\\\"scatterpolargl\\\",\\\"marker\\\":{\\\"colorbar\\\":{\\\"ticks\\\":\\\"\\\",\\\"outlinewidth\\\":0}}}]}},\\\"showarrow\\\":false,\\\"margin\\\":{\\\"l\\\":50,\\\"b\\\":50,\\\"r\\\":50,\\\"t\\\":60},\\\"yaxis\\\":{\\\"showgrid\\\":false,\\\"showticklabels\\\":false,\\\"zeroline\\\":false}},{\\\"showLink\\\":false,\\\"editable\\\":false,\\\"responsive\\\":true,\\\"staticPlot\\\":false,\\\"scrollZoom\\\":true}); gd.on(\\\"plotly_hover\\\",(function (data){var filtered_data=WebIO.PlotlyCommands.filterEventData(gd,data,\\\"hover\\\"); return !(filtered_data.isnil) ? (WebIO.setval({\\\"name\\\":\\\"hover\\\",\\\"scope\\\":\\\"12808172493000425689\\\",\\\"id\\\":\\\"121\\\",\\\"type\\\":\\\"observable\\\"},filtered_data.out)) : undefined})); gd.on(\\\"plotly_unhover\\\",(function (){return WebIO.setval({\\\"name\\\":\\\"hover\\\",\\\"scope\\\":\\\"12808172493000425689\\\",\\\"id\\\":\\\"121\\\",\\\"type\\\":\\\"observable\\\"},{})})); gd.on(\\\"plotly_selected\\\",(function (data){var filtered_data=WebIO.PlotlyCommands.filterEventData(gd,data,\\\"selected\\\"); return !(filtered_data.isnil) ? (WebIO.setval({\\\"name\\\":\\\"selected\\\",\\\"scope\\\":\\\"12808172493000425689\\\",\\\"id\\\":\\\"122\\\",\\\"type\\\":\\\"observable\\\"},filtered_data.out)) : undefined})); gd.on(\\\"plotly_deselect\\\",(function (){return WebIO.setval({\\\"name\\\":\\\"selected\\\",\\\"scope\\\":\\\"12808172493000425689\\\",\\\"id\\\":\\\"122\\\",\\\"type\\\":\\\"observable\\\"},{})})); gd.on(\\\"plotly_relayout\\\",(function (data){var filtered_data=WebIO.PlotlyCommands.filterEventData(gd,data,\\\"relayout\\\"); return !(filtered_data.isnil) ? (WebIO.setval({\\\"name\\\":\\\"relayout\\\",\\\"scope\\\":\\\"12808172493000425689\\\",\\\"id\\\":\\\"124\\\",\\\"type\\\":\\\"observable\\\"},filtered_data.out)) : undefined})); return gd.on(\\\"plotly_click\\\",(function (data){var filtered_data=WebIO.PlotlyCommands.filterEventData(gd,data,\\\"click\\\"); return !(filtered_data.isnil) ? (WebIO.setval({\\\"name\\\":\\\"click\\\",\\\"scope\\\":\\\"12808172493000425689\\\",\\\"id\\\":\\\"123\\\",\\\"type\\\":\\\"observable\\\"},filtered_data.out)) : undefined}))}));\\n    (WebIO.importBlock({\\\"data\\\":[{\\\"name\\\":\\\"Plotly\\\",\\\"type\\\":\\\"js\\\",\\\"url\\\":\\\"\\/assetserver\\/0920e676c106f32ba509e3957ec7f2e1975e6dda-plotly.min.js\\\"},{\\\"name\\\":null,\\\"type\\\":\\\"js\\\",\\\"url\\\":\\\"\\/assetserver\\/bfb0d919d1a65ca40988867ef64bbd1fc7547d8b-plotly_webio.bundle.js\\\"}],\\\"type\\\":\\\"async_block\\\"})).then((imports) => handler.apply(this, imports));\\n}\\n\"],\"observables\":{\"_toImage\":{\"sync\":false,\"id\":\"128\",\"value\":{}},\"hover\":{\"sync\":false,\"id\":\"121\",\"value\":{}},\"selected\":{\"sync\":false,\"id\":\"122\",\"value\":{}},\"__gd_contents\":{\"sync\":false,\"id\":\"126\",\"value\":{}},\"click\":{\"sync\":false,\"id\":\"123\",\"value\":{}},\"image\":{\"sync\":true,\"id\":\"125\",\"value\":\"\"},\"__get_gd_contents\":{\"sync\":false,\"id\":\"130\",\"value\":\"\"},\"_downloadImage\":{\"sync\":false,\"id\":\"129\",\"value\":{}},\"relayout\":{\"sync\":false,\"id\":\"124\",\"value\":{}},\"_commands\":{\"sync\":false,\"id\":\"127\",\"value\":[]}}},\"children\":[{\"props\":{\"id\":\"plot-e0c5e179-9d6e-4052-8f1f-e031c0011c28\"},\"nodeType\":\"DOM\",\"type\":\"node\",\"instanceArgs\":{\"namespace\":\"html\",\"tag\":\"div\"},\"children\":[]}]},\n",
       "        window,\n",
       "    );\n",
       "    })()\n",
       "    </script>\n",
       "</div>\n"
      ],
      "text/plain": [
       "data: [\n",
       "  \"scatter with fields line, mode, type, x, and y\",\n",
       "  \"scatter with fields marker, mode, name, text, type, x, and y\",\n",
       "  \"scatter with fields marker, mode, name, text, type, x, and y\",\n",
       "  \"scatter with fields marker, mode, name, text, type, x, and y\"\n",
       "]\n",
       "\n",
       "layout: \"layout with fields hovermode, margin, showarrow, showlegend, template, titlefont, xaxis, and yaxis\"\n",
       "\n"
      ]
     },
     "execution_count": 145,
     "metadata": {},
     "output_type": "execute_result"
    }
   ],
   "source": [
    "vivi_graph(problem)"
   ]
  },
  {
   "cell_type": "markdown",
   "metadata": {},
   "source": [
    "We can create and solve a optimization problem by calling the **vivi** function with the specified problem. In this case the objective function is rather simple:\n",
    "\n",
    "$$ max \\; obj = \\sum_t r_{o,t}v_{o,t} - \\sum_t r_{i,t}v_{i,t} = \\sum_t E_{h2,t} $$\n",
    "\n",
    "* $\\sum_t r_{o,t}v_{o,t}$ = resources out times their value\n",
    "* $\\sum_t r_{i,t}v_{i,t}$ = minus the sum of resources in times their value.\n",
    "\n",
    "Because we specified the value of the wind power and curtailment as zero, the objective function becomes the maximization of annual hydrogen production (in energy basis).\n",
    "\n",
    "**OBS**: Gurobi can be much faster for these time series problem, so we can specify the use of Gurobi solver in the vivi function to save time."
   ]
  },
  {
   "cell_type": "code",
   "execution_count": 123,
   "metadata": {},
   "outputs": [
    {
     "name": "stdout",
     "output_type": "stream",
     "text": [
      "Set parameter Username\n",
      "Academic license - for non-commercial use only - expires 2024-10-31\n",
      "Gurobi Optimizer version 9.5.2 build v9.5.2rc0 (win64)\n",
      "Thread count: 4 physical cores, 8 logical processors, using up to 8 threads\n",
      "Optimize a model with 105122 rows, 70081 columns and 219002 nonzeros\n",
      "Model fingerprint: 0x8b192cfd\n",
      "Variable types: 61321 continuous, 8760 integer (8760 binary)\n",
      "Coefficient statistics:\n",
      "  Matrix range     [1e-01, 1e+01]\n",
      "  Objective range  [1e+00, 1e+00]\n",
      "  Bounds range     [0e+00, 0e+00]\n",
      "  RHS range        [2e-01, 1e+01]\n",
      "Presolve removed 105122 rows and 70081 columns\n",
      "Presolve time: 0.08s\n",
      "Presolve: All rows and columns removed\n",
      "\n",
      "Explored 0 nodes (0 simplex iterations) in 0.10 seconds (0.13 work units)\n",
      "Thread count was 1 (of 8 available processors)\n",
      "\n",
      "Solution count 2: 36015.2 36015.2 \n",
      "\n",
      "Optimal solution found (tolerance 1.00e-04)\n",
      "Best objective 3.601522949595e+04, best bound 3.601522949595e+04, gap 0.0000%\n",
      "\n",
      "User-callback calls 250, time in user-callback 0.00 sec\n",
      "* Solver : Gurobi\n",
      "\n",
      "* Status\n",
      "  Result count       : 2\n",
      "  Termination status : OPTIMAL\n",
      "  Message from the solver:\n",
      "  \"Model was solved to optimality (subject to tolerances), and an optimal solution is available.\"\n",
      "\n",
      "* Candidate solution (result #1)\n",
      "  Primal status      : FEASIBLE_POINT\n",
      "  Dual status        : NO_SOLUTION\n",
      "  Objective value    : 3.60152e+04\n",
      "  Objective bound    : 3.60152e+04\n",
      "  Relative gap       : 0.00000e+00\n",
      "  Dual objective value : 3.60152e+04\n",
      "\n",
      "* Work counters\n",
      "  Solve time (sec)   : 1.00183e-01\n",
      "  Barrier iterations : 0\n",
      "  Node count         : 0\n",
      "\n",
      " Tech   | Size factor\n",
      "=================\n",
      " AWE    | 1.0\n",
      "-----------------\n",
      "-----------------\n"
     ]
    },
    {
     "data": {
      "text/plain": [
       "Problem(Resource[Resource(ResourceType(\"power\", Real[0;;], \"MW\"), Real[0.423, 0.223, 0.221, 0.225, 0.22, 0.217, 0.217, 0.231, 0.226, 0.314  …  2.57, 2.05, 2.135, 3.929, 6.339, 5.936, 5.01, 8.088, 7.919, 8.668], Real[0 0; 1 1])], Resource[Resource(ResourceType(\"H2\", Real[1;;], \"MW\"), Real[0.0, 0.0, 0.0, 0.0, 0.0, 0.0, 0.0, 0.0, 0.0, 0.0  …  1.7184305, 1.3707325, 1.4275677499999997, 2.6271258499999997, 4.23857235, 3.9691064, 3.3499364999999997, 5.4080411999999995, 5.29503935, 5.795858199999999], Real[0 0; 1 1]), Resource(ResourceType(\"power\", Real[0;;], \"MW\"), Real[0.423, 0.223, 0.221, 0.225, 0.22, 0.217, 0.217, 0.231, 0.226, 0.314  …  0.0, 0.0, 0.0, 0.0, 0.0, 0.0, 0.0, 0.0, 0.0, 0.0], Real[0 0; 1 1])], Tech[Tech(\"AWE\", Resource[Resource(ResourceType(\"power\", Real[0;;], \"MW\"), Real[10], Real[0 0; 1 1])], Resource[Resource(ResourceType(\"H2\", Real[1;;], \"MW\"), Real[6.6865], Real[0 0; 1 1])], Heat[], Matrix{Real}[[0.0 0.0; 1000.0 0.0]], (1, 1), (0.15, 1), (-1, 1), true, 1.0, Real[0.0, 0.0, 0.0, 0.0, 0.0, 0.0, 0.0, 0.0, 0.0, 0.0  …  0.257, 0.205, 0.2135, 0.3929, 0.6339, 0.5936, 0.501, 0.8088, 0.7919, 0.8668])], Tech[], Storage[])"
      ]
     },
     "execution_count": 123,
     "metadata": {},
     "output_type": "execute_result"
    }
   ],
   "source": [
    "using Gurobi\n",
    "answer = vivi(problem,Gurobi.Optimizer) # Gurobi solver is much faster"
   ]
  },
  {
   "cell_type": "markdown",
   "metadata": {},
   "source": [
    "As it can be seen from the optimal objective value, the maximum annual hydrogen production in this case is $3.60152\\cdot 10^4$ MWh. A bit below what we previously estimated, because now we included the minimal load restriction."
   ]
  },
  {
   "cell_type": "markdown",
   "metadata": {},
   "source": [
    "### Including partial load"
   ]
  },
  {
   "cell_type": "markdown",
   "metadata": {},
   "source": [
    "We can add the effects of partial load into the Resources:\n",
    "\n",
    "        Resource.loadEffect = [\n",
    "            [load, percentage of amount]\n",
    "        ]\n",
    "\n",
    "* load = the percentual load of the Tech\n",
    "* percentage of amount = the percentage of the Resource amount produced in that load"
   ]
  },
  {
   "cell_type": "code",
   "execution_count": 146,
   "metadata": {},
   "outputs": [
    {
     "data": {
      "text/plain": [
       "3×2 Matrix{Float64}:\n",
       " 0.15  0.170686\n",
       " 0.51  0.544651\n",
       " 1.0   1.0"
      ]
     },
     "execution_count": 146,
     "metadata": {},
     "output_type": "execute_result"
    }
   ],
   "source": [
    "alk.i[1].pw = [\n",
    "    0.15 0.15011\n",
    "    0.51 0.50907\n",
    "    1.0 1.0\n",
    "    ]\n",
    "\n",
    "alk.o[1].pw = [\n",
    "    0.15 0.15/0.66865*0.76086\n",
    "    0.51 0.51/0.66865*0.71408\n",
    "    1.0 1.0\n",
    "    ]"
   ]
  },
  {
   "cell_type": "markdown",
   "metadata": {},
   "source": [
    "Now solving again the problem give us a different result:"
   ]
  },
  {
   "cell_type": "code",
   "execution_count": 125,
   "metadata": {},
   "outputs": [
    {
     "name": "stdout",
     "output_type": "stream",
     "text": [
      "Set parameter Username\n",
      "Academic license - for non-commercial use only - expires 2024-10-31\n",
      "Gurobi Optimizer version 9.5.2 build v9.5.2rc0 (win64)\n",
      "Thread count: 4 physical cores, 8 logical processors, using up to 8 threads\n",
      "Optimize a model with 157682 rows, 96361 columns and 411722 nonzeros\n",
      "Model fingerprint: 0x54a4d38e\n",
      "Variable types: 78841 continuous, 17520 integer (17520 binary)\n",
      "Coefficient statistics:\n",
      "  Matrix range     [5e-03, 1e+01]\n",
      "  Objective range  [1e+00, 1e+00]\n",
      "  Bounds range     [0e+00, 0e+00]\n",
      "  RHS range        [2e-01, 1e+01]\n",
      "Found heuristic solution: objective -0.0000000\n",
      "Presolve removed 157676 rows and 96357 columns\n",
      "Presolve time: 2.20s\n",
      "Presolved: 6 rows, 4 columns, 14 nonzeros\n",
      "Found heuristic solution: objective 36664.980861\n",
      "Variable types: 2 continuous, 2 integer (2 binary)\n",
      "\n",
      "Root relaxation: objective 3.666970e+04, 3 iterations, 0.00 seconds (0.00 work units)\n",
      "\n",
      "    Nodes    |    Current Node    |     Objective Bounds      |     Work\n",
      " Expl Unexpl |  Obj  Depth IntInf | Incumbent    BestBd   Gap | It/Node Time\n",
      "\n",
      "*    0     0               0    36669.699979 36669.7000  0.00%     -    2s\n",
      "\n",
      "Explored 1 nodes (3 simplex iterations) in 2.23 seconds (0.45 work units)\n",
      "Thread count was 8 (of 8 available processors)\n",
      "\n",
      "Solution count 3: 36669.7 36665 -0 \n",
      "\n",
      "Optimal solution found (tolerance 1.00e-04)\n",
      "Best objective 3.666969997926e+04, best bound 3.666969997926e+04, gap 0.0000%\n",
      "\n",
      "User-callback calls 501, time in user-callback 0.00 sec\n",
      "* Solver : Gurobi\n",
      "\n",
      "* Status\n",
      "  Result count       : 3\n",
      "  Termination status : OPTIMAL\n",
      "  Message from the solver:\n",
      "  \"Model was solved to optimality (subject to tolerances), and an optimal solution is available.\"\n",
      "\n",
      "* Candidate solution (result #1)\n",
      "  Primal status      : FEASIBLE_POINT\n",
      "  Dual status        : NO_SOLUTION\n",
      "  Objective value    : 3.66697e+04\n",
      "  Objective bound    : 3.66697e+04\n",
      "  Relative gap       : 0.00000e+00\n",
      "  Dual objective value : 3.66697e+04\n",
      "\n",
      "* Work counters\n",
      "  Solve time (sec)   : 2.23332e+00\n",
      "  Barrier iterations : 0\n",
      "  Node count         : 1\n",
      "\n",
      " Tech   | Size factor\n",
      "=================\n",
      " AWE    | 1.0\n",
      "-----------------\n",
      "-----------------\n"
     ]
    },
    {
     "data": {
      "text/plain": [
       "Problem(Resource[Resource(ResourceType(\"power\", Real[0;;], \"MW\"), Real[0.423, 0.223, 0.221, 0.225, 0.22, 0.217, 0.217, 0.231, 0.226, 0.314  …  2.57, 2.05, 2.135, 3.929, 6.339, 5.936, 5.01, 8.088, 7.919, 8.668], Real[0 0; 1 1])], Resource[Resource(ResourceType(\"H2\", Real[1;;], \"MW\"), Real[0.0, 0.0, 0.0, 0.0, 0.0, 0.0, 0.0, 0.0, 0.0, 0.0  …  1.8858865261310453, 1.5236541436928908, 1.58286520620682, 2.832566925618454, 4.415989456337972, 4.166053441834885, 3.5855923206485416, 5.500699355508932, 5.395887478459251, 5.860408756034465], Real[0 0; 1 1]), Resource(ResourceType(\"power\", Real[0;;], \"MW\"), Real[0.423, 0.223, 0.221, 0.225, 0.22, 0.217, 0.217, 0.231, 0.226, 0.314  …  0.0, 0.0, 0.0, 0.0, 0.0, 0.0, 0.0, 0.0, 0.0, 0.0], Real[0 0; 1 1])], Tech[Tech(\"AWE\", Resource[Resource(ResourceType(\"power\", Real[0;;], \"MW\"), Real[10], Real[0.15 0.15011; 0.51 0.50907; 1.0 1.0])], Resource[Resource(ResourceType(\"H2\", Real[1;;], \"MW\"), Real[6.6865], Real[0.15 0.17068571001271218; 0.51 0.5446508636805505; 1.0 1.0])], Heat[], Matrix{Real}[[0.0 0.0; 1000.0 0.0]], (1, 1), (0.15, 1), (-1, 1), true, 1.0, Real[0.0, 0.0, 0.0, 0.0, 0.0, 0.0, 0.0, 0.0, 0.0, 0.0  …  0.2572, 0.20505, 0.21357, 0.39349, 0.63459, 0.59437, 0.50191, 0.80916, 0.79229, 0.86705])], Tech[], Storage[])"
      ]
     },
     "execution_count": 125,
     "metadata": {},
     "output_type": "execute_result"
    }
   ],
   "source": [
    "problem = Problem(i = [windIn], p = [alk], o =[h2,cut])\n",
    "answer = vivi(problem,Gurobi.Optimizer) # Gurobi solver is much faster"
   ]
  },
  {
   "cell_type": "markdown",
   "metadata": {},
   "source": [
    "As it can be seen, the annual hydrogen production is $ 3.66697 \\cdot 10^4 $ MWh, roughtly 2% higher than the previous case. This difference can be attributed to the partial load efficiency."
   ]
  },
  {
   "cell_type": "markdown",
   "metadata": {},
   "source": [
    "### Including storage and a constant offtaker"
   ]
  },
  {
   "cell_type": "markdown",
   "metadata": {},
   "source": [
    "One important thing about our results so far it that they assume that there will be always an offtaker to use the hydrogen at whatever rate of production. In practice the offtaker may be a chemical plant that can only run constantly, therefore the output of hydrogen has to be fix and to do so we need storage to have a buffer.\n",
    "\n",
    "        (power) ----> aec --> (h2) --> store --> offtaker --> (h2_plant)\n",
    "                |\n",
    "                --> (power)[cut]\n",
    "\n",
    "To include this in our problem, let's first create a storage representation:\n",
    "\n",
    "        Storage(type,initial charge)\n",
    "\n",
    "* type: the Resource type that the storage is connected to\n",
    "* intial charge: the percentage of the total capacity that the storage will start and end the optimization.\n",
    "\n",
    "**OBS**: Here is important to fix the starting load as 100%, because otherwise the system may not have the initial energy required to provide hydrogen in the first couple of hours of simulation."
   ]
  },
  {
   "cell_type": "code",
   "execution_count": 147,
   "metadata": {},
   "outputs": [
    {
     "data": {
      "text/plain": [
       "Storage(\"H2 tank\", ResourceType(\"H2\", Real[1;;], \"MW\"), 1, Matrix{Real}[[0.0 0.0; 1000.0 0.0]], (0, 1000.0), (-1, 1), 1, Real[1])"
      ]
     },
     "execution_count": 147,
     "metadata": {},
     "output_type": "execute_result"
    }
   ],
   "source": [
    "storeInit= 1 # 100% starting load and finishing load\n",
    "\n",
    "h2Store = Storage(n=\"H2 tank\", t=hydrogen, a=storeInit)"
   ]
  },
  {
   "cell_type": "markdown",
   "metadata": {},
   "source": [
    "By default, the storage can be infinity, so let's put some constraints in the size of storage:"
   ]
  },
  {
   "cell_type": "code",
   "execution_count": 148,
   "metadata": {},
   "outputs": [
    {
     "data": {
      "text/plain": [
       "(0, 60)"
      ]
     },
     "execution_count": 148,
     "metadata": {},
     "output_type": "execute_result"
    }
   ],
   "source": [
    "storeMax = 60 # MWh of max storage\n",
    "h2Store.s = (0,storeMax)"
   ]
  },
  {
   "cell_type": "markdown",
   "metadata": {},
   "source": [
    "Now we need to make sure that the offtaker operates at a constant rate. This can be done by creating another tech with a fixed load that converts hydrogen into another type of hydrogen, the one that will be used at the plant. This way the optimization will still be allowed to size the offtaker, but it will need to keep the rating constant during the time series. "
   ]
  },
  {
   "cell_type": "code",
   "execution_count": 158,
   "metadata": {},
   "outputs": [
    {
     "data": {
      "text/plain": [
       "false"
      ]
     },
     "execution_count": 158,
     "metadata": {},
     "output_type": "execute_result"
    }
   ],
   "source": [
    "offtaker_in = [Resource(t=hydrogen,r=[10])]\n",
    "\n",
    "hydrogen_plant = ResourceType(n=\"H2_plant\",u=\"MW\",c=[1;;])\n",
    "offtaker_out = [Resource(t=hydrogen_plant,r=[10])]\n",
    "\n",
    "offtaker = Tech(n=\"offtaker\",i =offtaker_in,o=offtaker_out)\n",
    "offtaker.l=(1,1)\n",
    "offtaker.off =false # 100-100% load and can't be shut down."
   ]
  },
  {
   "cell_type": "markdown",
   "metadata": {},
   "source": [
    "Since now our system outputs \"h2_plant\", we need to update type of the h2 resource that we assumed as our problem boundary:"
   ]
  },
  {
   "cell_type": "code",
   "execution_count": 159,
   "metadata": {},
   "outputs": [
    {
     "data": {
      "text/plain": [
       "ResourceType(\"H2_plant\", Real[1;;], \"MW\")"
      ]
     },
     "execution_count": 159,
     "metadata": {},
     "output_type": "execute_result"
    }
   ],
   "source": [
    "h2.t = hydrogen_plant"
   ]
  },
  {
   "cell_type": "markdown",
   "metadata": {},
   "source": [
    "Now if we rerun the optimization including the offtaker as a process..."
   ]
  },
  {
   "cell_type": "code",
   "execution_count": 169,
   "metadata": {},
   "outputs": [
    {
     "name": "stdout",
     "output_type": "stream",
     "text": [
      "Set parameter Username\n",
      "Academic license - for non-commercial use only - expires 2024-10-31\n",
      "Gurobi Optimizer version 9.5.2 build v9.5.2rc0 (win64)\n",
      "Thread count: 4 physical cores, 8 logical processors, using up to 8 threads\n",
      "Optimize a model with 280327 rows, 148923 columns and 639488 nonzeros\n",
      "Model fingerprint: 0x9df5ad3c\n",
      "Variable types: 122643 continuous, 26280 integer (26280 binary)\n",
      "Coefficient statistics:\n",
      "  Matrix range     [5e-03, 1e+03]\n",
      "  Objective range  [1e+00, 1e+00]\n",
      "  Bounds range     [0e+00, 0e+00]\n",
      "  RHS range        [2e-01, 1e+03]\n",
      "Found heuristic solution: objective -0.0000000\n",
      "Presolve removed 227753 rows and 115745 columns\n",
      "Presolve time: 0.87s\n",
      "Presolved: 52574 rows, 33178 columns, 150085 nonzeros\n",
      "Variable types: 20407 continuous, 12771 integer (12771 binary)\n",
      "\n",
      "Deterministic concurrent LP optimizer: primal and dual simplex\n",
      "Showing first log only...\n",
      "\n",
      "Concurrent spin time: 0.00s\n",
      "\n",
      "Solved with dual simplex\n",
      "\n",
      "Root relaxation: objective 9.457770e+03, 9727 iterations, 0.40 seconds (0.33 work units)\n",
      "\n",
      "    Nodes    |    Current Node    |     Objective Bounds      |     Work\n",
      " Expl Unexpl |  Obj  Depth IntInf | Incumbent    BestBd   Gap | It/Node Time\n",
      "\n",
      "*    0     0               0    9457.7699234 9457.76992  0.00%     -    2s\n",
      "\n",
      "Explored 1 nodes (29450 simplex iterations) in 2.31 seconds (2.68 work units)\n",
      "Thread count was 8 (of 8 available processors)\n",
      "\n",
      "Solution count 2: 9457.77 -0 \n",
      "\n",
      "Optimal solution found (tolerance 1.00e-04)\n",
      "Best objective 9.457769923443e+03, best bound 9.457769923443e+03, gap 0.0000%\n",
      "\n",
      "User-callback calls 827, time in user-callback 0.00 sec\n",
      "* Solver : Gurobi\n",
      "\n",
      "* Status\n",
      "  Result count       : 2\n",
      "  Termination status : OPTIMAL\n",
      "  Message from the solver:\n",
      "  \"Model was solved to optimality (subject to tolerances), and an optimal solution is available.\"\n",
      "\n",
      "* Candidate solution (result #1)\n",
      "  Primal status      : FEASIBLE_POINT\n",
      "  Dual status        : NO_SOLUTION\n",
      "  Objective value    : 9.45777e+03\n",
      "  Objective bound    : 9.45777e+03\n",
      "  Relative gap       : 0.00000e+00\n",
      "  Dual objective value : 9.45777e+03\n",
      "\n",
      "* Work counters\n",
      "  Solve time (sec)   : 2.31736e+00\n",
      "  Barrier iterations : 0\n",
      "  Node count         : 1\n",
      "\n",
      " Tech       | Size factor\n",
      "===================================\n",
      " AWE        | 1.0\n",
      " offtaker   | 0.1079654100849677\n",
      "-----------------------------------\n",
      "-----------------------------------\n",
      " H2 tank    | 60.0\n"
     ]
    },
    {
     "data": {
      "text/plain": [
       "Problem(Resource[Resource(ResourceType(\"power\", Real[0;;], \"MW\"), Real[0.423, 0.223, 0.221, 0.225, 0.22, 0.217, 0.217, 0.231, 0.226, 0.314  …  2.57, 2.05, 2.135, 3.929, 6.339, 5.936, 5.01, 8.088, 7.919, 8.668], Real[0 0; 1 1])], Resource[Resource(ResourceType(\"H2_plant\", Real[1;;], \"MW\"), Real[1.079654100849677, 1.079654100849677, 1.079654100849677, 1.079654100849677, 1.079654100849677, 1.079654100849677, 1.079654100849677, 1.079654100849677, 1.079654100849677, 1.079654100849677  …  1.079654100849677, 1.079654100849677, 1.079654100849677, 1.079654100849677, 1.079654100849677, 1.079654100849677, 1.079654100849677, 1.079654100849677, 1.079654100849677, 1.079654100849677], Real[0 0; 1 1]), Resource(ResourceType(\"power\", Real[0;;], \"MW\"), Real[0.423, 0.223, 0.221, 0.225, 0.22, 0.217, 0.217, 0.231, 0.226, 0.314  …  2.57, 2.05, 2.135, 3.929, 6.339, 0.0, 5.01, 8.088, 0.0, 1.7763568394002505e-15], Real[0 0; 1 1])], Tech[Tech(\"AWE\", Resource[Resource(ResourceType(\"power\", Real[0;;], \"MW\"), Real[10], Real[0.15 0.15011; 0.51 0.50907; 1.0 1.0])], Resource[Resource(ResourceType(\"H2\", Real[1;;], \"MW\"), Real[6.6865], Real[0.15 0.17068571001271218; 0.51 0.5446508636805505; 1.0 1.0])], Heat[], Matrix{Real}[[0.0 0.0; 1000.0 0.0]], (1, 1), (0.15, 1), (-1, 1), true, 1.0, Real[0.0, 0.0, 0.0, 0.0, 0.0, 0.0, 0.0, 0.0, 0.0, 0.0  …  0.0, 0.0, 0.0, 0.0, 0.0, 0.59437, 0.0, 0.0, 0.79229, 0.86705]), Tech(\"offtaker\", Resource[Resource(ResourceType(\"H2\", Real[1;;], \"MW\"), Real[10], Real[0 0; 1 1])], Resource[Resource(ResourceType(\"H2_plant\", Real[1;;], \"MW\"), Real[10], Real[0 0; 1 1])], Heat[], Matrix{Real}[[0.0 0.0; 1000.0 0.0]], (0, 1000.0), (1, 1), (-1, 1), false, 0.1079654100849677, Real[0.10797, 0.10797, 0.10797, 0.10797, 0.10797, 0.10797, 0.10797, 0.10797, 0.10797, 0.10797  …  0.10797, 0.10797, 0.10797, 0.10797, 0.10797, 0.10797, 0.10797, 0.10797, 0.10797, 0.10797])], Tech[], Storage[Storage(\"H2 tank\", ResourceType(\"H2\", Real[1;;], \"MW\"), 1, Matrix{Real}[[0.0 0.0; 1000.0 0.0]], (0, 60), (-1, 1), 60.0, Real[58.92, 57.841, 56.761, 55.681, 54.602, 53.522, 52.442, 51.363, 50.283, 49.203  …  54.295, 53.215, 52.135, 51.056, 49.976, 53.062, 51.983, 50.903, 55.219, 60.0])])"
      ]
     },
     "execution_count": 169,
     "metadata": {},
     "output_type": "execute_result"
    }
   ],
   "source": [
    "problem = Problem(i=[windIn],p=[alk,offtaker],o=[h2,cut],st=[h2Store])\n",
    "answer = vivi(problem,Gurobi.Optimizer) # Gurobi solver is much faster"
   ]
  },
  {
   "cell_type": "markdown",
   "metadata": {},
   "source": [
    "We see that the optimization chooses the maximum size of storage (60 MWh) and the output of H2 is much lower than in the previous cases $0.945777 \\cdot 10^4$ MWh. Meaning that it is much harder to deliver a constant output of hydrogen than a variable one."
   ]
  },
  {
   "cell_type": "markdown",
   "metadata": {},
   "source": [
    "This solution also shows us that the offtaker rating roughly 11% of the reference value given (10MW), about 1.1 MW for a hydrogen system of 10 MW. This means that the hydrogen production would need to be almost 10x larger than the actual use rating! Certainly this would not be viable."
   ]
  },
  {
   "cell_type": "markdown",
   "metadata": {},
   "source": [
    "### Flexibilizing the offtaker\n",
    "\n",
    "We can improve this previous result by making the offtaker more flexible. For instance, we could design a chemical plant that could also operate with 15-100% hydrogen input by changing the operating conditions accordingly. Assuming that this is possible, let's examine the impacts on the hydrogen production side.\n",
    "\n",
    "For this, we just need to modify the constraint of the offtaker loads to a range (15-100%)"
   ]
  },
  {
   "cell_type": "code",
   "execution_count": 170,
   "metadata": {},
   "outputs": [
    {
     "data": {
      "text/plain": [
       "false"
      ]
     },
     "execution_count": 170,
     "metadata": {},
     "output_type": "execute_result"
    }
   ],
   "source": [
    "offtaker.l=(0.15,1) # 100-100% load and can't be shut down.\n",
    "offtaker.off = false"
   ]
  },
  {
   "cell_type": "markdown",
   "metadata": {},
   "source": [
    "Now, if we optimize again the same problem..."
   ]
  },
  {
   "cell_type": "code",
   "execution_count": 171,
   "metadata": {},
   "outputs": [
    {
     "name": "stdout",
     "output_type": "stream",
     "text": [
      "Set parameter Username\n",
      "Academic license - for non-commercial use only - expires 2024-10-31\n",
      "Gurobi Optimizer version 9.5.2 build v9.5.2rc0 (win64)\n",
      "Thread count: 4 physical cores, 8 logical processors, using up to 8 threads\n",
      "Optimize a model with 280327 rows, 148923 columns and 639488 nonzeros\n",
      "Model fingerprint: 0x8399fc4c\n",
      "Variable types: 122643 continuous, 26280 integer (26280 binary)\n",
      "Coefficient statistics:\n",
      "  Matrix range     [5e-03, 1e+03]\n",
      "  Objective range  [1e+00, 1e+00]\n",
      "  Bounds range     [0e+00, 0e+00]\n",
      "  RHS range        [2e-01, 1e+03]\n",
      "Found heuristic solution: objective -0.0000000\n",
      "Presolve removed 210386 rows and 107058 columns\n",
      "Presolve time: 1.32s\n",
      "Presolved: 69941 rows, 41865 columns, 186361 nonzeros\n",
      "Variable types: 29094 continuous, 12771 integer (12771 binary)\n",
      "\n",
      "Deterministic concurrent LP optimizer: primal and dual simplex\n",
      "Showing first log only...\n",
      "\n",
      "\n",
      "Root simplex log...\n",
      "\n",
      "Iteration    Objective       Primal Inf.    Dual Inf.      Time\n",
      "   22143    4.5555322e+03   0.000000e+00   1.054154e+05      5s\n",
      "Concurrent spin time: 0.00s\n",
      "\n",
      "Solved with dual simplex\n",
      "\n",
      "Root relaxation: objective 3.666970e+04, 32564 iterations, 6.58 seconds (6.71 work units)\n",
      "\n",
      "    Nodes    |    Current Node    |     Objective Bounds      |     Work\n",
      " Expl Unexpl |  Obj  Depth IntInf | Incumbent    BestBd   Gap | It/Node Time\n",
      "\n",
      "*    0     0               0    36669.699979 36669.7000  0.00%     -    8s\n",
      "\n",
      "Explored 1 nodes (32564 simplex iterations) in 8.12 seconds (8.34 work units)\n",
      "Thread count was 8 (of 8 available processors)\n",
      "\n",
      "Solution count 2: 36669.7 -0 \n",
      "\n",
      "Optimal solution found (tolerance 1.00e-04)\n",
      "Best objective 3.666969997926e+04, best bound 3.666969997926e+04, gap 0.0000%\n",
      "\n",
      "User-callback calls 3343, time in user-callback 0.01 sec\n",
      "* Solver : Gurobi\n",
      "\n",
      "* Status\n",
      "  Result count       : 2\n",
      "  Termination status : OPTIMAL\n",
      "  Message from the solver:\n",
      "  \"Model was solved to optimality (subject to tolerances), and an optimal solution is available.\"\n",
      "\n",
      "* Candidate solution (result #1)\n",
      "  Primal status      : FEASIBLE_POINT\n",
      "  Dual status        : NO_SOLUTION\n",
      "  Objective value    : 3.66697e+04\n",
      "  Objective bound    : 3.66697e+04\n",
      "  Relative gap       : 3.96838e-15\n",
      "  Dual objective value : 3.66697e+04\n",
      "\n",
      "* Work counters\n",
      "  Solve time (sec)   : 8.12515e+00\n",
      "  Barrier iterations : 0\n",
      "  Node count         : 1\n",
      "\n",
      " Tech       | Size factor\n",
      "===================================\n",
      " AWE        | 1.0\n",
      " offtaker   | 0.6686145606501944\n",
      "-----------------------------------\n",
      "-----------------------------------\n",
      " H2 tank    | 55.39606440753681\n"
     ]
    },
    {
     "data": {
      "text/plain": [
       "Problem(Resource[Resource(ResourceType(\"power\", Real[0;;], \"MW\"), Real[0.423, 0.223, 0.221, 0.225, 0.22, 0.217, 0.217, 0.231, 0.226, 0.314  …  2.57, 2.05, 2.135, 3.929, 6.339, 5.936, 5.01, 8.088, 7.919, 8.668], Real[0 0; 1 1])], Resource[Resource(ResourceType(\"H2_plant\", Real[1;;], \"MW\"), Real[1.0029218409752916, 1.0029218409752916, 1.0029218409752916, 1.0029218409752916, 6.6861456065019444, 1.0029218409752916, 6.6861456065019444, 6.6861456065019444, 1.0029218409752916, 1.0029218409752916  …  1.0029218409752916, 1.0029218409752916, 1.0029218409752916, 1.0029218409752916, 1.0029218409752916, 1.0029218409752916, 1.0029218409752916, 1.0029218409752916, 1.0029218409752916, 1.0029218409752916], Real[0 0; 1 1]), Resource(ResourceType(\"power\", Real[0;;], \"MW\"), Real[0.423, 0.223, 0.221, 0.225, 0.22, 0.217, 0.217, 0.231, 0.226, 0.314  …  0.0, 0.0, 0.0, 0.0, 0.0, 0.0, 0.0, 0.0, 0.0, 1.7763568394002505e-15], Real[0 0; 1 1])], Tech[Tech(\"AWE\", Resource[Resource(ResourceType(\"power\", Real[0;;], \"MW\"), Real[10], Real[0.15 0.15011; 0.51 0.50907; 1.0 1.0])], Resource[Resource(ResourceType(\"H2\", Real[1;;], \"MW\"), Real[6.6865], Real[0.15 0.17068571001271218; 0.51 0.5446508636805505; 1.0 1.0])], Heat[], Matrix{Real}[[0.0 0.0; 1000.0 0.0]], (1, 1), (0.15, 1), (-1, 1), true, 1.0, Real[0.0, 0.0, 0.0, 0.0, 0.0, 0.0, 0.0, 0.0, 0.0, 0.0  …  0.2572, 0.20505, 0.21357, 0.39349, 0.63459, 0.59437, 0.50191, 0.80916, 0.79229, 0.86705]), Tech(\"offtaker\", Resource[Resource(ResourceType(\"H2\", Real[1;;], \"MW\"), Real[10], Real[0 0; 1 1])], Resource[Resource(ResourceType(\"H2_plant\", Real[1;;], \"MW\"), Real[10], Real[0 0; 1 1])], Heat[], Matrix{Real}[[0.0 0.0; 1000.0 0.0]], (0, 1000.0), (0.15, 1), (-1, 1), false, 0.6686145606501944, Real[0.10029, 0.10029, 0.10029, 0.10029, 0.66861, 0.10029, 0.66861, 0.66861, 0.10029, 0.10029  …  0.10029, 0.10029, 0.10029, 0.10029, 0.10029, 0.10029, 0.10029, 0.10029, 0.10029, 0.10029])], Tech[], Storage[Storage(\"H2 tank\", ResourceType(\"H2\", Real[1;;], \"MW\"), 1, Matrix{Real}[[0.0 0.0; 1000.0 0.0]], (0, 60), (-1, 1), 55.39606440753681, Real[54.393, 53.39, 52.387, 51.384, 44.698, 43.695, 37.009, 30.323, 29.32, 28.317  …  29.559, 30.079, 30.659, 32.489, 35.902, 39.065, 41.648, 46.146, 50.539, 55.396])])"
      ]
     },
     "execution_count": 171,
     "metadata": {},
     "output_type": "execute_result"
    }
   ],
   "source": [
    "problem = Problem(i=[windIn],p=[alk,offtaker],o=[h2,cut],st=[h2Store])\n",
    "answer = vivi(problem,Gurobi.Optimizer) # Gurobi solver is much faster"
   ]
  },
  {
   "cell_type": "markdown",
   "metadata": {},
   "source": [
    "Now the number of hydrogen production is much more promissing, because we can reach a number very close to the theoretical maximum (3.66697e4 MWh). It is also interesting that we don't need the maximum amount of hydrogen storage, but the specific number of 55.4 MWh.\n",
    "\n",
    "However, we may still have a technical challenge related to the ramping limits. To understand that, let's observe results for the first hours of operation:"
   ]
  },
  {
   "cell_type": "code",
   "execution_count": 172,
   "metadata": {},
   "outputs": [
    {
     "data": {
      "image/svg+xml": [
       "<?xml version=\"1.0\" encoding=\"utf-8\"?>\n",
       "<svg xmlns=\"http://www.w3.org/2000/svg\" xmlns:xlink=\"http://www.w3.org/1999/xlink\" width=\"600\" height=\"400\" viewBox=\"0 0 2400 1600\">\n",
       "<defs>\n",
       "  <clipPath id=\"clip240\">\n",
       "    <rect x=\"0\" y=\"0\" width=\"2400\" height=\"1600\"/>\n",
       "  </clipPath>\n",
       "</defs>\n",
       "<path clip-path=\"url(#clip240)\" d=\"M0 1600 L2400 1600 L2400 0 L0 0  Z\" fill=\"#ffffff\" fill-rule=\"evenodd\" fill-opacity=\"1\"/>\n",
       "<defs>\n",
       "  <clipPath id=\"clip241\">\n",
       "    <rect x=\"480\" y=\"0\" width=\"1681\" height=\"1600\"/>\n",
       "  </clipPath>\n",
       "</defs>\n",
       "<path clip-path=\"url(#clip240)\" d=\"M219.866 1423.18 L2352.76 1423.18 L2352.76 47.2441 L219.866 47.2441  Z\" fill=\"#ffffff\" fill-rule=\"evenodd\" fill-opacity=\"1\"/>\n",
       "<defs>\n",
       "  <clipPath id=\"clip242\">\n",
       "    <rect x=\"219\" y=\"47\" width=\"2134\" height=\"1377\"/>\n",
       "  </clipPath>\n",
       "</defs>\n",
       "<polyline clip-path=\"url(#clip242)\" style=\"stroke:#000000; stroke-linecap:round; stroke-linejoin:round; stroke-width:2; stroke-opacity:0.1; fill:none\" points=\"259.906,1423.18 259.906,47.2441 \"/>\n",
       "<polyline clip-path=\"url(#clip242)\" style=\"stroke:#000000; stroke-linecap:round; stroke-linejoin:round; stroke-width:2; stroke-opacity:0.1; fill:none\" points=\"768.027,1423.18 768.027,47.2441 \"/>\n",
       "<polyline clip-path=\"url(#clip242)\" style=\"stroke:#000000; stroke-linecap:round; stroke-linejoin:round; stroke-width:2; stroke-opacity:0.1; fill:none\" points=\"1276.15,1423.18 1276.15,47.2441 \"/>\n",
       "<polyline clip-path=\"url(#clip242)\" style=\"stroke:#000000; stroke-linecap:round; stroke-linejoin:round; stroke-width:2; stroke-opacity:0.1; fill:none\" points=\"1784.27,1423.18 1784.27,47.2441 \"/>\n",
       "<polyline clip-path=\"url(#clip242)\" style=\"stroke:#000000; stroke-linecap:round; stroke-linejoin:round; stroke-width:2; stroke-opacity:0.1; fill:none\" points=\"2292.39,1423.18 2292.39,47.2441 \"/>\n",
       "<polyline clip-path=\"url(#clip240)\" style=\"stroke:#000000; stroke-linecap:round; stroke-linejoin:round; stroke-width:4; stroke-opacity:1; fill:none\" points=\"219.866,1423.18 2352.76,1423.18 \"/>\n",
       "<polyline clip-path=\"url(#clip240)\" style=\"stroke:#000000; stroke-linecap:round; stroke-linejoin:round; stroke-width:4; stroke-opacity:1; fill:none\" points=\"259.906,1423.18 259.906,1404.28 \"/>\n",
       "<polyline clip-path=\"url(#clip240)\" style=\"stroke:#000000; stroke-linecap:round; stroke-linejoin:round; stroke-width:4; stroke-opacity:1; fill:none\" points=\"768.027,1423.18 768.027,1404.28 \"/>\n",
       "<polyline clip-path=\"url(#clip240)\" style=\"stroke:#000000; stroke-linecap:round; stroke-linejoin:round; stroke-width:4; stroke-opacity:1; fill:none\" points=\"1276.15,1423.18 1276.15,1404.28 \"/>\n",
       "<polyline clip-path=\"url(#clip240)\" style=\"stroke:#000000; stroke-linecap:round; stroke-linejoin:round; stroke-width:4; stroke-opacity:1; fill:none\" points=\"1784.27,1423.18 1784.27,1404.28 \"/>\n",
       "<polyline clip-path=\"url(#clip240)\" style=\"stroke:#000000; stroke-linecap:round; stroke-linejoin:round; stroke-width:4; stroke-opacity:1; fill:none\" points=\"2292.39,1423.18 2292.39,1404.28 \"/>\n",
       "<path clip-path=\"url(#clip240)\" d=\"M259.906 1454.1 Q256.295 1454.1 254.466 1457.66 Q252.661 1461.2 252.661 1468.33 Q252.661 1475.44 254.466 1479.01 Q256.295 1482.55 259.906 1482.55 Q263.54 1482.55 265.346 1479.01 Q267.175 1475.44 267.175 1468.33 Q267.175 1461.2 265.346 1457.66 Q263.54 1454.1 259.906 1454.1 M259.906 1450.39 Q265.716 1450.39 268.772 1455 Q271.851 1459.58 271.851 1468.33 Q271.851 1477.06 268.772 1481.67 Q265.716 1486.25 259.906 1486.25 Q254.096 1486.25 251.017 1481.67 Q247.962 1477.06 247.962 1468.33 Q247.962 1459.58 251.017 1455 Q254.096 1450.39 259.906 1450.39 Z\" fill=\"#000000\" fill-rule=\"nonzero\" fill-opacity=\"1\" /><path clip-path=\"url(#clip240)\" d=\"M747.298 1481.64 L763.618 1481.64 L763.618 1485.58 L741.673 1485.58 L741.673 1481.64 Q744.335 1478.89 748.919 1474.26 Q753.525 1469.61 754.706 1468.27 Q756.951 1465.74 757.831 1464.01 Q758.734 1462.25 758.734 1460.56 Q758.734 1457.8 756.789 1456.07 Q754.868 1454.33 751.766 1454.33 Q749.567 1454.33 747.113 1455.09 Q744.683 1455.86 741.905 1457.41 L741.905 1452.69 Q744.729 1451.55 747.183 1450.97 Q749.636 1450.39 751.673 1450.39 Q757.044 1450.39 760.238 1453.08 Q763.433 1455.77 763.433 1460.26 Q763.433 1462.39 762.622 1464.31 Q761.835 1466.2 759.729 1468.8 Q759.15 1469.47 756.048 1472.69 Q752.947 1475.88 747.298 1481.64 Z\" fill=\"#000000\" fill-rule=\"nonzero\" fill-opacity=\"1\" /><path clip-path=\"url(#clip240)\" d=\"M773.479 1451.02 L791.835 1451.02 L791.835 1454.96 L777.761 1454.96 L777.761 1463.43 Q778.78 1463.08 779.798 1462.92 Q780.817 1462.73 781.835 1462.73 Q787.622 1462.73 791.002 1465.9 Q794.381 1469.08 794.381 1474.49 Q794.381 1480.07 790.909 1483.17 Q787.437 1486.25 781.118 1486.25 Q778.942 1486.25 776.673 1485.88 Q774.428 1485.51 772.02 1484.77 L772.02 1480.07 Q774.104 1481.2 776.326 1481.76 Q778.548 1482.32 781.025 1482.32 Q785.03 1482.32 787.368 1480.21 Q789.706 1478.1 789.706 1474.49 Q789.706 1470.88 787.368 1468.77 Q785.03 1466.67 781.025 1466.67 Q779.15 1466.67 777.275 1467.08 Q775.423 1467.5 773.479 1468.38 L773.479 1451.02 Z\" fill=\"#000000\" fill-rule=\"nonzero\" fill-opacity=\"1\" /><path clip-path=\"url(#clip240)\" d=\"M1250.85 1451.02 L1269.2 1451.02 L1269.2 1454.96 L1255.13 1454.96 L1255.13 1463.43 Q1256.15 1463.08 1257.17 1462.92 Q1258.19 1462.73 1259.2 1462.73 Q1264.99 1462.73 1268.37 1465.9 Q1271.75 1469.08 1271.75 1474.49 Q1271.75 1480.07 1268.28 1483.17 Q1264.81 1486.25 1258.49 1486.25 Q1256.31 1486.25 1254.04 1485.88 Q1251.8 1485.51 1249.39 1484.77 L1249.39 1480.07 Q1251.47 1481.2 1253.7 1481.76 Q1255.92 1482.32 1258.39 1482.32 Q1262.4 1482.32 1264.74 1480.21 Q1267.07 1478.1 1267.07 1474.49 Q1267.07 1470.88 1264.74 1468.77 Q1262.4 1466.67 1258.39 1466.67 Q1256.52 1466.67 1254.64 1467.08 Q1252.79 1467.5 1250.85 1468.38 L1250.85 1451.02 Z\" fill=\"#000000\" fill-rule=\"nonzero\" fill-opacity=\"1\" /><path clip-path=\"url(#clip240)\" d=\"M1290.96 1454.1 Q1287.35 1454.1 1285.52 1457.66 Q1283.72 1461.2 1283.72 1468.33 Q1283.72 1475.44 1285.52 1479.01 Q1287.35 1482.55 1290.96 1482.55 Q1294.6 1482.55 1296.4 1479.01 Q1298.23 1475.44 1298.23 1468.33 Q1298.23 1461.2 1296.4 1457.66 Q1294.6 1454.1 1290.96 1454.1 M1290.96 1450.39 Q1296.77 1450.39 1299.83 1455 Q1302.91 1459.58 1302.91 1468.33 Q1302.91 1477.06 1299.83 1481.67 Q1296.77 1486.25 1290.96 1486.25 Q1285.15 1486.25 1282.07 1481.67 Q1279.02 1477.06 1279.02 1468.33 Q1279.02 1459.58 1282.07 1455 Q1285.15 1450.39 1290.96 1450.39 Z\" fill=\"#000000\" fill-rule=\"nonzero\" fill-opacity=\"1\" /><path clip-path=\"url(#clip240)\" d=\"M1758.12 1451.02 L1780.35 1451.02 L1780.35 1453.01 L1767.8 1485.58 L1762.92 1485.58 L1774.72 1454.96 L1758.12 1454.96 L1758.12 1451.02 Z\" fill=\"#000000\" fill-rule=\"nonzero\" fill-opacity=\"1\" /><path clip-path=\"url(#clip240)\" d=\"M1789.51 1451.02 L1807.87 1451.02 L1807.87 1454.96 L1793.8 1454.96 L1793.8 1463.43 Q1794.81 1463.08 1795.83 1462.92 Q1796.85 1462.73 1797.87 1462.73 Q1803.66 1462.73 1807.04 1465.9 Q1810.42 1469.08 1810.42 1474.49 Q1810.42 1480.07 1806.94 1483.17 Q1803.47 1486.25 1797.15 1486.25 Q1794.98 1486.25 1792.71 1485.88 Q1790.46 1485.51 1788.05 1484.77 L1788.05 1480.07 Q1790.14 1481.2 1792.36 1481.76 Q1794.58 1482.32 1797.06 1482.32 Q1801.06 1482.32 1803.4 1480.21 Q1805.74 1478.1 1805.74 1474.49 Q1805.74 1470.88 1803.4 1468.77 Q1801.06 1466.67 1797.06 1466.67 Q1795.18 1466.67 1793.31 1467.08 Q1791.46 1467.5 1789.51 1468.38 L1789.51 1451.02 Z\" fill=\"#000000\" fill-rule=\"nonzero\" fill-opacity=\"1\" /><path clip-path=\"url(#clip240)\" d=\"M2252 1481.64 L2259.64 1481.64 L2259.64 1455.28 L2251.33 1456.95 L2251.33 1452.69 L2259.59 1451.02 L2264.27 1451.02 L2264.27 1481.64 L2271.91 1481.64 L2271.91 1485.58 L2252 1485.58 L2252 1481.64 Z\" fill=\"#000000\" fill-rule=\"nonzero\" fill-opacity=\"1\" /><path clip-path=\"url(#clip240)\" d=\"M2291.35 1454.1 Q2287.74 1454.1 2285.91 1457.66 Q2284.1 1461.2 2284.1 1468.33 Q2284.1 1475.44 2285.91 1479.01 Q2287.74 1482.55 2291.35 1482.55 Q2294.98 1482.55 2296.79 1479.01 Q2298.62 1475.44 2298.62 1468.33 Q2298.62 1461.2 2296.79 1457.66 Q2294.98 1454.1 2291.35 1454.1 M2291.35 1450.39 Q2297.16 1450.39 2300.22 1455 Q2303.29 1459.58 2303.29 1468.33 Q2303.29 1477.06 2300.22 1481.67 Q2297.16 1486.25 2291.35 1486.25 Q2285.54 1486.25 2282.46 1481.67 Q2279.41 1477.06 2279.41 1468.33 Q2279.41 1459.58 2282.46 1455 Q2285.54 1450.39 2291.35 1450.39 Z\" fill=\"#000000\" fill-rule=\"nonzero\" fill-opacity=\"1\" /><path clip-path=\"url(#clip240)\" d=\"M2321.51 1454.1 Q2317.9 1454.1 2316.07 1457.66 Q2314.27 1461.2 2314.27 1468.33 Q2314.27 1475.44 2316.07 1479.01 Q2317.9 1482.55 2321.51 1482.55 Q2325.15 1482.55 2326.95 1479.01 Q2328.78 1475.44 2328.78 1468.33 Q2328.78 1461.2 2326.95 1457.66 Q2325.15 1454.1 2321.51 1454.1 M2321.51 1450.39 Q2327.32 1450.39 2330.38 1455 Q2333.46 1459.58 2333.46 1468.33 Q2333.46 1477.06 2330.38 1481.67 Q2327.32 1486.25 2321.51 1486.25 Q2315.7 1486.25 2312.62 1481.67 Q2309.57 1477.06 2309.57 1468.33 Q2309.57 1459.58 2312.62 1455 Q2315.7 1450.39 2321.51 1450.39 Z\" fill=\"#000000\" fill-rule=\"nonzero\" fill-opacity=\"1\" /><path clip-path=\"url(#clip240)\" d=\"M1157.36 1520.52 L1163.79 1520.52 L1163.79 1540 L1187.15 1540 L1187.15 1520.52 L1193.58 1520.52 L1193.58 1568.04 L1187.15 1568.04 L1187.15 1545.41 L1163.79 1545.41 L1163.79 1568.04 L1157.36 1568.04 L1157.36 1520.52 Z\" fill=\"#000000\" fill-rule=\"nonzero\" fill-opacity=\"1\" /><path clip-path=\"url(#clip240)\" d=\"M1219.93 1536.5 Q1215.22 1536.5 1212.48 1540.19 Q1209.75 1543.85 1209.75 1550.25 Q1209.75 1556.65 1212.45 1560.34 Q1215.19 1564 1219.93 1564 Q1224.61 1564 1227.35 1560.31 Q1230.09 1556.62 1230.09 1550.25 Q1230.09 1543.92 1227.35 1540.23 Q1224.61 1536.5 1219.93 1536.5 M1219.93 1531.54 Q1227.57 1531.54 1231.93 1536.5 Q1236.29 1541.47 1236.29 1550.25 Q1236.29 1559 1231.93 1564 Q1227.57 1568.97 1219.93 1568.97 Q1212.26 1568.97 1207.9 1564 Q1203.57 1559 1203.57 1550.25 Q1203.57 1541.47 1207.9 1536.5 Q1212.26 1531.54 1219.93 1531.54 Z\" fill=\"#000000\" fill-rule=\"nonzero\" fill-opacity=\"1\" /><path clip-path=\"url(#clip240)\" d=\"M1245.4 1553.98 L1245.4 1532.4 L1251.25 1532.4 L1251.25 1553.75 Q1251.25 1558.81 1253.23 1561.36 Q1255.2 1563.87 1259.15 1563.87 Q1263.89 1563.87 1266.63 1560.85 Q1269.39 1557.83 1269.39 1552.61 L1269.39 1532.4 L1275.25 1532.4 L1275.25 1568.04 L1269.39 1568.04 L1269.39 1562.57 Q1267.26 1565.82 1264.43 1567.41 Q1261.63 1568.97 1257.9 1568.97 Q1251.76 1568.97 1248.58 1565.15 Q1245.4 1561.33 1245.4 1553.98 M1260.13 1531.54 L1260.13 1531.54 Z\" fill=\"#000000\" fill-rule=\"nonzero\" fill-opacity=\"1\" /><path clip-path=\"url(#clip240)\" d=\"M1307.97 1537.87 Q1306.98 1537.3 1305.81 1537.04 Q1304.66 1536.76 1303.26 1536.76 Q1298.29 1536.76 1295.62 1540 Q1292.98 1543.22 1292.98 1549.27 L1292.98 1568.04 L1287.09 1568.04 L1287.09 1532.4 L1292.98 1532.4 L1292.98 1537.93 Q1294.83 1534.69 1297.79 1533.13 Q1300.75 1531.54 1304.98 1531.54 Q1305.58 1531.54 1306.32 1531.63 Q1307.05 1531.7 1307.94 1531.85 L1307.97 1537.87 Z\" fill=\"#000000\" fill-rule=\"nonzero\" fill-opacity=\"1\" /><path clip-path=\"url(#clip240)\" d=\"M1348.9 1518.58 Q1344.64 1525.9 1342.57 1533.06 Q1340.5 1540.23 1340.5 1547.58 Q1340.5 1554.93 1342.57 1562.16 Q1344.67 1569.35 1348.9 1576.64 L1343.81 1576.64 Q1339.04 1569.16 1336.65 1561.93 Q1334.29 1554.71 1334.29 1547.58 Q1334.29 1540.48 1336.65 1533.29 Q1339 1526.09 1343.81 1518.58 L1348.9 1518.58 Z\" fill=\"#000000\" fill-rule=\"nonzero\" fill-opacity=\"1\" /><path clip-path=\"url(#clip240)\" d=\"M1389.9 1546.53 L1389.9 1568.04 L1384.04 1568.04 L1384.04 1546.72 Q1384.04 1541.66 1382.07 1539.14 Q1380.09 1536.63 1376.15 1536.63 Q1371.4 1536.63 1368.67 1539.65 Q1365.93 1542.68 1365.93 1547.9 L1365.93 1568.04 L1360.04 1568.04 L1360.04 1518.52 L1365.93 1518.52 L1365.93 1537.93 Q1368.03 1534.72 1370.86 1533.13 Q1373.73 1531.54 1377.45 1531.54 Q1383.59 1531.54 1386.75 1535.36 Q1389.9 1539.14 1389.9 1546.53 Z\" fill=\"#000000\" fill-rule=\"nonzero\" fill-opacity=\"1\" /><path clip-path=\"url(#clip240)\" d=\"M1400.66 1518.58 L1405.75 1518.58 Q1410.52 1526.09 1412.88 1533.29 Q1415.26 1540.48 1415.26 1547.58 Q1415.26 1554.71 1412.88 1561.93 Q1410.52 1569.16 1405.75 1576.64 L1400.66 1576.64 Q1404.89 1569.35 1406.96 1562.16 Q1409.06 1554.93 1409.06 1547.58 Q1409.06 1540.23 1406.96 1533.06 Q1404.89 1525.9 1400.66 1518.58 Z\" fill=\"#000000\" fill-rule=\"nonzero\" fill-opacity=\"1\" /><polyline clip-path=\"url(#clip242)\" style=\"stroke:#000000; stroke-linecap:round; stroke-linejoin:round; stroke-width:2; stroke-opacity:0.1; fill:none\" points=\"219.866,1384.9 2352.76,1384.9 \"/>\n",
       "<polyline clip-path=\"url(#clip242)\" style=\"stroke:#000000; stroke-linecap:round; stroke-linejoin:round; stroke-width:2; stroke-opacity:0.1; fill:none\" points=\"219.866,1156.5 2352.76,1156.5 \"/>\n",
       "<polyline clip-path=\"url(#clip242)\" style=\"stroke:#000000; stroke-linecap:round; stroke-linejoin:round; stroke-width:2; stroke-opacity:0.1; fill:none\" points=\"219.866,928.097 2352.76,928.097 \"/>\n",
       "<polyline clip-path=\"url(#clip242)\" style=\"stroke:#000000; stroke-linecap:round; stroke-linejoin:round; stroke-width:2; stroke-opacity:0.1; fill:none\" points=\"219.866,699.696 2352.76,699.696 \"/>\n",
       "<polyline clip-path=\"url(#clip242)\" style=\"stroke:#000000; stroke-linecap:round; stroke-linejoin:round; stroke-width:2; stroke-opacity:0.1; fill:none\" points=\"219.866,471.294 2352.76,471.294 \"/>\n",
       "<polyline clip-path=\"url(#clip242)\" style=\"stroke:#000000; stroke-linecap:round; stroke-linejoin:round; stroke-width:2; stroke-opacity:0.1; fill:none\" points=\"219.866,242.892 2352.76,242.892 \"/>\n",
       "<polyline clip-path=\"url(#clip240)\" style=\"stroke:#000000; stroke-linecap:round; stroke-linejoin:round; stroke-width:4; stroke-opacity:1; fill:none\" points=\"219.866,1423.18 219.866,47.2441 \"/>\n",
       "<polyline clip-path=\"url(#clip240)\" style=\"stroke:#000000; stroke-linecap:round; stroke-linejoin:round; stroke-width:4; stroke-opacity:1; fill:none\" points=\"219.866,1384.9 238.764,1384.9 \"/>\n",
       "<polyline clip-path=\"url(#clip240)\" style=\"stroke:#000000; stroke-linecap:round; stroke-linejoin:round; stroke-width:4; stroke-opacity:1; fill:none\" points=\"219.866,1156.5 238.764,1156.5 \"/>\n",
       "<polyline clip-path=\"url(#clip240)\" style=\"stroke:#000000; stroke-linecap:round; stroke-linejoin:round; stroke-width:4; stroke-opacity:1; fill:none\" points=\"219.866,928.097 238.764,928.097 \"/>\n",
       "<polyline clip-path=\"url(#clip240)\" style=\"stroke:#000000; stroke-linecap:round; stroke-linejoin:round; stroke-width:4; stroke-opacity:1; fill:none\" points=\"219.866,699.696 238.764,699.696 \"/>\n",
       "<polyline clip-path=\"url(#clip240)\" style=\"stroke:#000000; stroke-linecap:round; stroke-linejoin:round; stroke-width:4; stroke-opacity:1; fill:none\" points=\"219.866,471.294 238.764,471.294 \"/>\n",
       "<polyline clip-path=\"url(#clip240)\" style=\"stroke:#000000; stroke-linecap:round; stroke-linejoin:round; stroke-width:4; stroke-opacity:1; fill:none\" points=\"219.866,242.892 238.764,242.892 \"/>\n",
       "<path clip-path=\"url(#clip240)\" d=\"M127.917 1370.7 Q124.306 1370.7 122.478 1374.26 Q120.672 1377.81 120.672 1384.94 Q120.672 1392.04 122.478 1395.61 Q124.306 1399.15 127.917 1399.15 Q131.552 1399.15 133.357 1395.61 Q135.186 1392.04 135.186 1384.94 Q135.186 1377.81 133.357 1374.26 Q131.552 1370.7 127.917 1370.7 M127.917 1367 Q133.728 1367 136.783 1371.6 Q139.862 1376.19 139.862 1384.94 Q139.862 1393.66 136.783 1398.27 Q133.728 1402.85 127.917 1402.85 Q122.107 1402.85 119.029 1398.27 Q115.973 1393.66 115.973 1384.94 Q115.973 1376.19 119.029 1371.6 Q122.107 1367 127.917 1367 Z\" fill=\"#000000\" fill-rule=\"nonzero\" fill-opacity=\"1\" /><path clip-path=\"url(#clip240)\" d=\"M148.079 1396.3 L152.964 1396.3 L152.964 1402.18 L148.079 1402.18 L148.079 1396.3 Z\" fill=\"#000000\" fill-rule=\"nonzero\" fill-opacity=\"1\" /><path clip-path=\"url(#clip240)\" d=\"M163.959 1398.25 L171.598 1398.25 L171.598 1371.88 L163.288 1373.55 L163.288 1369.29 L171.552 1367.62 L176.227 1367.62 L176.227 1398.25 L183.866 1398.25 L183.866 1402.18 L163.959 1402.18 L163.959 1398.25 Z\" fill=\"#000000\" fill-rule=\"nonzero\" fill-opacity=\"1\" /><path clip-path=\"url(#clip240)\" d=\"M128.288 1142.3 Q124.677 1142.3 122.848 1145.86 Q121.043 1149.4 121.043 1156.53 Q121.043 1163.64 122.848 1167.2 Q124.677 1170.75 128.288 1170.75 Q131.922 1170.75 133.728 1167.2 Q135.556 1163.64 135.556 1156.53 Q135.556 1149.4 133.728 1145.86 Q131.922 1142.3 128.288 1142.3 M128.288 1138.59 Q134.098 1138.59 137.154 1143.2 Q140.232 1147.78 140.232 1156.53 Q140.232 1165.26 137.154 1169.87 Q134.098 1174.45 128.288 1174.45 Q122.478 1174.45 119.399 1169.87 Q116.343 1165.26 116.343 1156.53 Q116.343 1147.78 119.399 1143.2 Q122.478 1138.59 128.288 1138.59 Z\" fill=\"#000000\" fill-rule=\"nonzero\" fill-opacity=\"1\" /><path clip-path=\"url(#clip240)\" d=\"M148.45 1167.9 L153.334 1167.9 L153.334 1173.78 L148.45 1173.78 L148.45 1167.9 Z\" fill=\"#000000\" fill-rule=\"nonzero\" fill-opacity=\"1\" /><path clip-path=\"url(#clip240)\" d=\"M167.547 1169.84 L183.866 1169.84 L183.866 1173.78 L161.922 1173.78 L161.922 1169.84 Q164.584 1167.09 169.167 1162.46 Q173.774 1157.81 174.954 1156.46 Q177.2 1153.94 178.079 1152.2 Q178.982 1150.45 178.982 1148.76 Q178.982 1146 177.038 1144.27 Q175.116 1142.53 172.014 1142.53 Q169.815 1142.53 167.362 1143.29 Q164.931 1144.06 162.153 1145.61 L162.153 1140.89 Q164.977 1139.75 167.431 1139.17 Q169.885 1138.59 171.922 1138.59 Q177.292 1138.59 180.487 1141.28 Q183.681 1143.96 183.681 1148.45 Q183.681 1150.58 182.871 1152.51 Q182.084 1154.4 179.977 1157 Q179.399 1157.67 176.297 1160.89 Q173.195 1164.08 167.547 1169.84 Z\" fill=\"#000000\" fill-rule=\"nonzero\" fill-opacity=\"1\" /><path clip-path=\"url(#clip240)\" d=\"M127.339 913.896 Q123.728 913.896 121.899 917.461 Q120.093 921.002 120.093 928.132 Q120.093 935.238 121.899 938.803 Q123.728 942.345 127.339 942.345 Q130.973 942.345 132.779 938.803 Q134.607 935.238 134.607 928.132 Q134.607 921.002 132.779 917.461 Q130.973 913.896 127.339 913.896 M127.339 910.192 Q133.149 910.192 136.204 914.799 Q139.283 919.382 139.283 928.132 Q139.283 936.859 136.204 941.465 Q133.149 946.049 127.339 946.049 Q121.529 946.049 118.45 941.465 Q115.394 936.859 115.394 928.132 Q115.394 919.382 118.45 914.799 Q121.529 910.192 127.339 910.192 Z\" fill=\"#000000\" fill-rule=\"nonzero\" fill-opacity=\"1\" /><path clip-path=\"url(#clip240)\" d=\"M147.501 939.498 L152.385 939.498 L152.385 945.377 L147.501 945.377 L147.501 939.498 Z\" fill=\"#000000\" fill-rule=\"nonzero\" fill-opacity=\"1\" /><path clip-path=\"url(#clip240)\" d=\"M176.737 926.743 Q180.093 927.461 181.968 929.729 Q183.866 931.998 183.866 935.331 Q183.866 940.447 180.348 943.248 Q176.829 946.049 170.348 946.049 Q168.172 946.049 165.857 945.609 Q163.565 945.192 161.112 944.336 L161.112 939.822 Q163.056 940.956 165.371 941.535 Q167.686 942.113 170.209 942.113 Q174.607 942.113 176.899 940.377 Q179.214 938.641 179.214 935.331 Q179.214 932.275 177.061 930.562 Q174.931 928.826 171.112 928.826 L167.084 928.826 L167.084 924.984 L171.297 924.984 Q174.746 924.984 176.575 923.618 Q178.403 922.229 178.403 919.637 Q178.403 916.975 176.505 915.563 Q174.63 914.127 171.112 914.127 Q169.19 914.127 166.991 914.544 Q164.792 914.961 162.153 915.84 L162.153 911.674 Q164.815 910.933 167.13 910.563 Q169.468 910.192 171.528 910.192 Q176.852 910.192 179.954 912.623 Q183.056 915.03 183.056 919.151 Q183.056 922.021 181.413 924.012 Q179.769 925.979 176.737 926.743 Z\" fill=\"#000000\" fill-rule=\"nonzero\" fill-opacity=\"1\" /><path clip-path=\"url(#clip240)\" d=\"M126.205 685.494 Q122.593 685.494 120.765 689.059 Q118.959 692.601 118.959 699.73 Q118.959 706.837 120.765 710.401 Q122.593 713.943 126.205 713.943 Q129.839 713.943 131.644 710.401 Q133.473 706.837 133.473 699.73 Q133.473 692.601 131.644 689.059 Q129.839 685.494 126.205 685.494 M126.205 681.791 Q132.015 681.791 135.07 686.397 Q138.149 690.98 138.149 699.73 Q138.149 708.457 135.07 713.063 Q132.015 717.647 126.205 717.647 Q120.394 717.647 117.316 713.063 Q114.26 708.457 114.26 699.73 Q114.26 690.98 117.316 686.397 Q120.394 681.791 126.205 681.791 Z\" fill=\"#000000\" fill-rule=\"nonzero\" fill-opacity=\"1\" /><path clip-path=\"url(#clip240)\" d=\"M146.366 711.096 L151.251 711.096 L151.251 716.976 L146.366 716.976 L146.366 711.096 Z\" fill=\"#000000\" fill-rule=\"nonzero\" fill-opacity=\"1\" /><path clip-path=\"url(#clip240)\" d=\"M174.283 686.49 L162.477 704.939 L174.283 704.939 L174.283 686.49 M173.056 682.416 L178.936 682.416 L178.936 704.939 L183.866 704.939 L183.866 708.827 L178.936 708.827 L178.936 716.976 L174.283 716.976 L174.283 708.827 L158.681 708.827 L158.681 704.314 L173.056 682.416 Z\" fill=\"#000000\" fill-rule=\"nonzero\" fill-opacity=\"1\" /><path clip-path=\"url(#clip240)\" d=\"M127.686 457.092 Q124.075 457.092 122.246 460.657 Q120.441 464.199 120.441 471.329 Q120.441 478.435 122.246 482 Q124.075 485.541 127.686 485.541 Q131.32 485.541 133.126 482 Q134.954 478.435 134.954 471.329 Q134.954 464.199 133.126 460.657 Q131.32 457.092 127.686 457.092 M127.686 453.389 Q133.496 453.389 136.552 457.995 Q139.63 462.579 139.63 471.329 Q139.63 480.055 136.552 484.662 Q133.496 489.245 127.686 489.245 Q121.876 489.245 118.797 484.662 Q115.742 480.055 115.742 471.329 Q115.742 462.579 118.797 457.995 Q121.876 453.389 127.686 453.389 Z\" fill=\"#000000\" fill-rule=\"nonzero\" fill-opacity=\"1\" /><path clip-path=\"url(#clip240)\" d=\"M147.848 482.694 L152.732 482.694 L152.732 488.574 L147.848 488.574 L147.848 482.694 Z\" fill=\"#000000\" fill-rule=\"nonzero\" fill-opacity=\"1\" /><path clip-path=\"url(#clip240)\" d=\"M162.964 454.014 L181.32 454.014 L181.32 457.949 L167.246 457.949 L167.246 466.421 Q168.264 466.074 169.283 465.912 Q170.302 465.727 171.32 465.727 Q177.107 465.727 180.487 468.898 Q183.866 472.069 183.866 477.486 Q183.866 483.065 180.394 486.166 Q176.922 489.245 170.602 489.245 Q168.427 489.245 166.158 488.875 Q163.913 488.504 161.505 487.764 L161.505 483.065 Q163.589 484.199 165.811 484.754 Q168.033 485.31 170.51 485.31 Q174.514 485.31 176.852 483.203 Q179.19 481.097 179.19 477.486 Q179.19 473.875 176.852 471.768 Q174.514 469.662 170.51 469.662 Q168.635 469.662 166.76 470.079 Q164.908 470.495 162.964 471.375 L162.964 454.014 Z\" fill=\"#000000\" fill-rule=\"nonzero\" fill-opacity=\"1\" /><path clip-path=\"url(#clip240)\" d=\"M126.529 228.691 Q122.918 228.691 121.089 232.256 Q119.283 235.797 119.283 242.927 Q119.283 250.033 121.089 253.598 Q122.918 257.14 126.529 257.14 Q130.163 257.14 131.968 253.598 Q133.797 250.033 133.797 242.927 Q133.797 235.797 131.968 232.256 Q130.163 228.691 126.529 228.691 M126.529 224.987 Q132.339 224.987 135.394 229.594 Q138.473 234.177 138.473 242.927 Q138.473 251.654 135.394 256.26 Q132.339 260.843 126.529 260.843 Q120.718 260.843 117.64 256.26 Q114.584 251.654 114.584 242.927 Q114.584 234.177 117.64 229.594 Q120.718 224.987 126.529 224.987 Z\" fill=\"#000000\" fill-rule=\"nonzero\" fill-opacity=\"1\" /><path clip-path=\"url(#clip240)\" d=\"M146.691 254.292 L151.575 254.292 L151.575 260.172 L146.691 260.172 L146.691 254.292 Z\" fill=\"#000000\" fill-rule=\"nonzero\" fill-opacity=\"1\" /><path clip-path=\"url(#clip240)\" d=\"M172.339 241.029 Q169.19 241.029 167.339 243.181 Q165.51 245.334 165.51 249.084 Q165.51 252.811 167.339 254.987 Q169.19 257.14 172.339 257.14 Q175.487 257.14 177.315 254.987 Q179.167 252.811 179.167 249.084 Q179.167 245.334 177.315 243.181 Q175.487 241.029 172.339 241.029 M181.621 226.376 L181.621 230.635 Q179.862 229.802 178.056 229.362 Q176.274 228.922 174.514 228.922 Q169.885 228.922 167.431 232.047 Q165.001 235.172 164.653 241.492 Q166.019 239.478 168.079 238.413 Q170.139 237.325 172.616 237.325 Q177.825 237.325 180.834 240.496 Q183.866 243.644 183.866 249.084 Q183.866 254.408 180.718 257.626 Q177.57 260.843 172.339 260.843 Q166.343 260.843 163.172 256.26 Q160.001 251.654 160.001 242.927 Q160.001 234.732 163.89 229.871 Q167.778 224.987 174.329 224.987 Q176.089 224.987 177.871 225.334 Q179.676 225.682 181.621 226.376 Z\" fill=\"#000000\" fill-rule=\"nonzero\" fill-opacity=\"1\" /><path clip-path=\"url(#clip240)\" d=\"M20.8447 1043.55 Q20.8447 1050.55 26.0645 1054.69 Q31.2844 1058.8 40.2919 1058.8 Q49.2675 1058.8 54.4874 1054.69 Q59.7073 1050.55 59.7073 1043.55 Q59.7073 1036.55 54.4874 1032.47 Q49.2675 1028.37 40.2919 1028.37 Q31.2844 1028.37 26.0645 1032.47 Q20.8447 1036.55 20.8447 1043.55 M15.6248 1043.55 Q15.6248 1033.56 22.3406 1027.57 Q29.0246 1021.59 40.2919 1021.59 Q51.5274 1021.59 58.2432 1027.57 Q64.9272 1033.56 64.9272 1043.55 Q64.9272 1053.58 58.2432 1059.59 Q51.5592 1065.58 40.2919 1065.58 Q29.0246 1065.58 22.3406 1059.59 Q15.6248 1053.58 15.6248 1043.55 Z\" fill=\"#000000\" fill-rule=\"nonzero\" fill-opacity=\"1\" /><path clip-path=\"url(#clip240)\" d=\"M14.479 993.739 L19.3487 993.739 L19.3487 999.341 Q19.3487 1002.49 20.6219 1003.73 Q21.895 1004.94 25.2052 1004.94 L28.3562 1004.94 L28.3562 995.299 L32.9077 995.299 L32.9077 1004.94 L64.0042 1004.94 L64.0042 1010.83 L32.9077 1010.83 L32.9077 1016.43 L28.3562 1016.43 L28.3562 1010.83 L25.8736 1010.83 Q19.9216 1010.83 17.2162 1008.06 Q14.479 1005.29 14.479 999.277 L14.479 993.739 Z\" fill=\"#000000\" fill-rule=\"nonzero\" fill-opacity=\"1\" /><path clip-path=\"url(#clip240)\" d=\"M14.479 970.791 L19.3487 970.791 L19.3487 976.393 Q19.3487 979.544 20.6219 980.785 Q21.895 981.995 25.2052 981.995 L28.3562 981.995 L28.3562 972.35 L32.9077 972.35 L32.9077 981.995 L64.0042 981.995 L64.0042 987.883 L32.9077 987.883 L32.9077 993.485 L28.3562 993.485 L28.3562 987.883 L25.8736 987.883 Q19.9216 987.883 17.2162 985.114 Q14.479 982.345 14.479 976.329 L14.479 970.791 Z\" fill=\"#000000\" fill-rule=\"nonzero\" fill-opacity=\"1\" /><path clip-path=\"url(#clip240)\" d=\"M18.2347 961.242 L28.3562 961.242 L28.3562 949.179 L32.9077 949.179 L32.9077 961.242 L52.2594 961.242 Q56.6199 961.242 57.8613 960.065 Q59.1026 958.855 59.1026 955.195 L59.1026 949.179 L64.0042 949.179 L64.0042 955.195 Q64.0042 961.974 61.4897 964.552 Q58.9434 967.131 52.2594 967.131 L32.9077 967.131 L32.9077 971.427 L28.3562 971.427 L28.3562 967.131 L18.2347 967.131 L18.2347 961.242 Z\" fill=\"#000000\" fill-rule=\"nonzero\" fill-opacity=\"1\" /><path clip-path=\"url(#clip240)\" d=\"M46.0847 925.276 Q46.0847 932.374 47.7079 935.111 Q49.3312 937.848 53.2461 937.848 Q56.3653 937.848 58.2114 935.811 Q60.0256 933.742 60.0256 930.209 Q60.0256 925.34 56.5881 922.411 Q53.1188 919.451 47.3897 919.451 L46.0847 919.451 L46.0847 925.276 M43.6657 913.595 L64.0042 913.595 L64.0042 919.451 L58.5933 919.451 Q61.8398 921.457 63.3994 924.449 Q64.9272 927.44 64.9272 931.769 Q64.9272 937.244 61.8716 940.49 Q58.7843 943.705 53.6281 943.705 Q47.6125 943.705 44.5569 939.694 Q41.5014 935.652 41.5014 927.663 L41.5014 919.451 L40.9285 919.451 Q36.8862 919.451 34.6901 922.125 Q32.4621 924.767 32.4621 929.573 Q32.4621 932.628 33.1941 935.525 Q33.9262 938.421 35.3903 941.095 L29.9795 941.095 Q28.7381 937.88 28.1334 934.856 Q27.4968 931.833 27.4968 928.968 Q27.4968 921.234 31.5072 917.414 Q35.5176 913.595 43.6657 913.595 Z\" fill=\"#000000\" fill-rule=\"nonzero\" fill-opacity=\"1\" /><path clip-path=\"url(#clip240)\" d=\"M14.479 901.755 L14.479 895.866 L43.7294 895.866 L28.3562 878.393 L28.3562 870.913 L45.0344 889.819 L64.0042 870.117 L64.0042 877.756 L46.5939 895.866 L64.0042 895.866 L64.0042 901.755 L14.479 901.755 Z\" fill=\"#000000\" fill-rule=\"nonzero\" fill-opacity=\"1\" /><path clip-path=\"url(#clip240)\" d=\"M44.7161 835.615 L47.5806 835.615 L47.5806 862.542 Q53.6281 862.16 56.8109 858.914 Q59.9619 855.635 59.9619 849.811 Q59.9619 846.437 59.1344 843.286 Q58.3069 840.103 56.6518 836.984 L62.1899 836.984 Q63.5267 840.135 64.227 843.445 Q64.9272 846.755 64.9272 850.161 Q64.9272 858.691 59.9619 863.688 Q54.9967 868.653 46.5303 868.653 Q37.7774 868.653 32.6531 863.942 Q27.4968 859.2 27.4968 851.179 Q27.4968 843.986 32.1438 839.816 Q36.7589 835.615 44.7161 835.615 M42.9973 841.472 Q38.1912 841.535 35.3266 844.177 Q32.4621 846.787 32.4621 851.116 Q32.4621 856.017 35.2312 858.977 Q38.0002 861.905 43.0292 862.351 L42.9973 841.472 Z\" fill=\"#000000\" fill-rule=\"nonzero\" fill-opacity=\"1\" /><path clip-path=\"url(#clip240)\" d=\"M33.8307 805.346 Q33.2578 806.333 33.0032 807.51 Q32.7167 808.656 32.7167 810.057 Q32.7167 815.022 35.9632 817.696 Q39.1779 820.337 45.2253 820.337 L64.0042 820.337 L64.0042 826.226 L28.3562 826.226 L28.3562 820.337 L33.8944 820.337 Q30.6479 818.491 29.0883 815.531 Q27.4968 812.571 27.4968 808.338 Q27.4968 807.733 27.5923 807.001 Q27.656 806.269 27.8151 805.378 L33.8307 805.346 Z\" fill=\"#000000\" fill-rule=\"nonzero\" fill-opacity=\"1\" /><path clip-path=\"url(#clip240)\" d=\"M33.8307 757.826 Q33.2578 758.813 33.0032 759.99 Q32.7167 761.136 32.7167 762.537 Q32.7167 767.502 35.9632 770.176 Q39.1779 772.817 45.2253 772.817 L64.0042 772.817 L64.0042 778.706 L28.3562 778.706 L28.3562 772.817 L33.8944 772.817 Q30.6479 770.971 29.0883 768.011 Q27.4968 765.051 27.4968 760.818 Q27.4968 760.213 27.5923 759.481 Q27.656 758.749 27.8151 757.858 L33.8307 757.826 Z\" fill=\"#000000\" fill-rule=\"nonzero\" fill-opacity=\"1\" /><path clip-path=\"url(#clip240)\" d=\"M46.0847 735.483 Q46.0847 742.58 47.7079 745.318 Q49.3312 748.055 53.2461 748.055 Q56.3653 748.055 58.2114 746.018 Q60.0256 743.949 60.0256 740.416 Q60.0256 735.546 56.5881 732.618 Q53.1188 729.658 47.3897 729.658 L46.0847 729.658 L46.0847 735.483 M43.6657 723.801 L64.0042 723.801 L64.0042 729.658 L58.5933 729.658 Q61.8398 731.663 63.3994 734.655 Q64.9272 737.647 64.9272 741.976 Q64.9272 747.45 61.8716 750.697 Q58.7843 753.911 53.6281 753.911 Q47.6125 753.911 44.5569 749.901 Q41.5014 745.859 41.5014 737.87 L41.5014 729.658 L40.9285 729.658 Q36.8862 729.658 34.6901 732.331 Q32.4621 734.973 32.4621 739.779 Q32.4621 742.835 33.1941 745.731 Q33.9262 748.628 35.3903 751.301 L29.9795 751.301 Q28.7381 748.087 28.1334 745.063 Q27.4968 742.039 27.4968 739.175 Q27.4968 731.44 31.5072 727.621 Q35.5176 723.801 43.6657 723.801 Z\" fill=\"#000000\" fill-rule=\"nonzero\" fill-opacity=\"1\" /><path clip-path=\"url(#clip240)\" d=\"M18.2347 705.946 L28.3562 705.946 L28.3562 693.883 L32.9077 693.883 L32.9077 705.946 L52.2594 705.946 Q56.6199 705.946 57.8613 704.768 Q59.1026 703.558 59.1026 699.898 L59.1026 693.883 L64.0042 693.883 L64.0042 699.898 Q64.0042 706.678 61.4897 709.256 Q58.9434 711.834 52.2594 711.834 L32.9077 711.834 L32.9077 716.131 L28.3562 716.131 L28.3562 711.834 L18.2347 711.834 L18.2347 705.946 Z\" fill=\"#000000\" fill-rule=\"nonzero\" fill-opacity=\"1\" /><path clip-path=\"url(#clip240)\" d=\"M28.3562 686.18 L28.3562 680.324 L64.0042 680.324 L64.0042 686.18 L28.3562 686.18 M14.479 686.18 L14.479 680.324 L21.895 680.324 L21.895 686.18 L14.479 686.18 Z\" fill=\"#000000\" fill-rule=\"nonzero\" fill-opacity=\"1\" /><path clip-path=\"url(#clip240)\" d=\"M42.4881 638.437 L64.0042 638.437 L64.0042 644.294 L42.679 644.294 Q37.6183 644.294 35.1038 646.267 Q32.5894 648.241 32.5894 652.187 Q32.5894 656.93 35.6131 659.667 Q38.6368 662.404 43.8567 662.404 L64.0042 662.404 L64.0042 668.292 L28.3562 668.292 L28.3562 662.404 L33.8944 662.404 Q30.6797 660.304 29.0883 657.471 Q27.4968 654.606 27.4968 650.882 Q27.4968 644.739 31.3163 641.588 Q35.1038 638.437 42.4881 638.437 Z\" fill=\"#000000\" fill-rule=\"nonzero\" fill-opacity=\"1\" /><path clip-path=\"url(#clip240)\" d=\"M45.7664 603.299 Q39.4007 603.299 35.8996 605.94 Q32.3984 608.55 32.3984 613.293 Q32.3984 618.003 35.8996 620.645 Q39.4007 623.255 45.7664 623.255 Q52.1003 623.255 55.6014 620.645 Q59.1026 618.003 59.1026 613.293 Q59.1026 608.55 55.6014 605.94 Q52.1003 603.299 45.7664 603.299 M59.58 597.442 Q68.683 597.442 73.1071 601.484 Q77.5631 605.527 77.5631 613.866 Q77.5631 616.953 77.0857 619.69 Q76.6401 622.428 75.6852 625.006 L69.9879 625.006 Q71.3884 622.428 72.0568 619.913 Q72.7252 617.399 72.7252 614.789 Q72.7252 609.028 69.7015 606.163 Q66.7096 603.299 60.6303 603.299 L57.7339 603.299 Q60.885 605.113 62.4446 607.946 Q64.0042 610.778 64.0042 614.725 Q64.0042 621.282 59.0071 625.292 Q54.01 629.303 45.7664 629.303 Q37.491 629.303 32.4939 625.292 Q27.4968 621.282 27.4968 614.725 Q27.4968 610.778 29.0564 607.946 Q30.616 605.113 33.7671 603.299 L28.3562 603.299 L28.3562 597.442 L59.58 597.442 Z\" fill=\"#000000\" fill-rule=\"nonzero\" fill-opacity=\"1\" /><path clip-path=\"url(#clip240)\" d=\"M14.5426 550.591 Q21.8632 554.856 29.0246 556.924 Q36.186 558.993 43.5384 558.993 Q50.8908 558.993 58.1159 556.924 Q65.3091 554.824 72.5979 550.591 L72.5979 555.683 Q65.1182 560.457 57.8931 562.845 Q50.668 565.2 43.5384 565.2 Q36.4406 565.2 29.2474 562.845 Q22.0542 560.489 14.5426 555.683 L14.5426 550.591 Z\" fill=\"#000000\" fill-rule=\"nonzero\" fill-opacity=\"1\" /><path clip-path=\"url(#clip240)\" d=\"M16.4842 538.973 L16.4842 529.393 L48.8219 517.266 L16.4842 505.076 L16.4842 495.495 L64.0042 495.495 L64.0042 501.766 L22.277 501.766 L54.8694 514.02 L54.8694 520.481 L22.277 532.735 L64.0042 532.735 L64.0042 538.973 L16.4842 538.973 Z\" fill=\"#000000\" fill-rule=\"nonzero\" fill-opacity=\"1\" /><path clip-path=\"url(#clip240)\" d=\"M16.4842 486.965 L16.4842 480.472 L56.6518 470.478 L16.4842 460.516 L16.4842 453.291 L56.6518 443.297 L16.4842 433.334 L16.4842 426.809 L64.0042 438.745 L64.0042 446.83 L22.7544 456.856 L64.0042 466.977 L64.0042 475.061 L16.4842 486.965 Z\" fill=\"#000000\" fill-rule=\"nonzero\" fill-opacity=\"1\" /><path clip-path=\"url(#clip240)\" d=\"M14.5426 419.457 L14.5426 414.364 Q22.0542 409.59 29.2474 407.235 Q36.4406 404.848 43.5384 404.848 Q50.668 404.848 57.8931 407.235 Q65.1182 409.59 72.5979 414.364 L72.5979 419.457 Q65.3091 415.224 58.1159 413.155 Q50.8908 411.054 43.5384 411.054 Q36.186 411.054 29.0246 413.155 Q21.8632 415.224 14.5426 419.457 Z\" fill=\"#000000\" fill-rule=\"nonzero\" fill-opacity=\"1\" /><polyline clip-path=\"url(#clip242)\" style=\"stroke:#009af9; stroke-linecap:round; stroke-linejoin:round; stroke-width:4; stroke-opacity:1; fill:none\" points=\"280.231,1384.24 300.556,1384.24 320.881,1384.24 341.206,1384.24 361.53,86.1857 381.855,1384.24 402.18,86.1857 422.505,86.1857 442.83,1384.24 463.155,1384.24 483.48,1384.24 503.804,1384.24 524.129,1384.24 544.454,1384.24 564.779,1384.24 585.104,147.626 605.429,1384.24 625.753,1384.24 646.078,86.1857 666.403,1384.24 686.728,1384.24 707.053,1384.24 727.378,1384.24 747.703,1384.24 768.027,1384.24 788.352,1384.24 808.677,1384.24 829.002,1384.24 849.327,1384.24 869.652,1384.24 889.977,1384.24 910.301,1384.24 930.626,1384.24 950.951,1384.24 971.276,1384.24 991.601,1384.24 1011.93,1384.24 1032.25,1384.24 1052.58,1384.24 1072.9,1384.24 1093.23,1384.24 1113.55,706.456 1133.87,1384.24 1154.2,1384.24 1174.52,1384.24 1194.85,86.1857 1215.17,1384.24 1235.5,1384.24 1255.82,1384.24 1276.15,86.1857 1296.47,632.751 1316.8,845.736 1337.12,629.896 1357.45,534.561 1377.77,330.735 1398.1,151.394 1418.42,124.352 1438.75,92.1926 1459.07,92.3982 1479.4,86.1857 1499.72,97.5372 1520.05,86.1857 1540.37,86.1857 1560.7,88.3555 1581.02,88.2184 1601.35,88.3555 1621.67,88.4925 1642,95.8699 1662.32,249.264 1682.65,86.1857 1702.97,86.1857 1723.3,86.1857 1743.62,86.1857 1763.95,86.1857 1784.27,86.1857 1804.59,86.1857 1824.92,86.1857 1845.24,86.1857 1865.57,199.313 1885.89,86.1857 1906.22,86.1857 1926.54,86.1857 1946.87,86.1857 1967.19,86.1857 1987.52,86.1857 2007.84,86.1857 2028.17,86.1857 2048.49,86.1857 2068.82,86.1857 2089.14,112.589 2109.47,98.7021 2129.79,103.795 2150.12,126.042 2170.44,91.0506 2190.77,97.423 2211.09,94.8878 2231.42,104.366 2251.74,296.018 2272.07,379.453 2292.39,270.666 \"/>\n",
       "<path clip-path=\"url(#clip240)\" d=\"M2015.94 1377.32 L2281.66 1377.32 L2281.66 1273.64 L2015.94 1273.64  Z\" fill=\"#ffffff\" fill-rule=\"evenodd\" fill-opacity=\"1\"/>\n",
       "<polyline clip-path=\"url(#clip240)\" style=\"stroke:#000000; stroke-linecap:round; stroke-linejoin:round; stroke-width:4; stroke-opacity:1; fill:none\" points=\"2015.94,1377.32 2281.66,1377.32 2281.66,1273.64 2015.94,1273.64 2015.94,1377.32 \"/>\n",
       "<polyline clip-path=\"url(#clip240)\" style=\"stroke:#009af9; stroke-linecap:round; stroke-linejoin:round; stroke-width:4; stroke-opacity:1; fill:none\" points=\"2039.64,1325.48 2181.83,1325.48 \"/>\n",
       "<path clip-path=\"url(#clip240)\" d=\"M2219.37 1345.16 Q2217.57 1349.79 2215.85 1351.2 Q2214.14 1352.62 2211.27 1352.62 L2207.87 1352.62 L2207.87 1349.05 L2210.37 1349.05 Q2212.13 1349.05 2213.1 1348.22 Q2214.07 1347.38 2215.25 1344.28 L2216.02 1342.34 L2205.53 1316.83 L2210.04 1316.83 L2218.15 1337.11 L2226.25 1316.83 L2230.76 1316.83 L2219.37 1345.16 Z\" fill=\"#000000\" fill-rule=\"nonzero\" fill-opacity=\"1\" /><path clip-path=\"url(#clip240)\" d=\"M2238.05 1338.82 L2245.69 1338.82 L2245.69 1312.45 L2237.38 1314.12 L2237.38 1309.86 L2245.65 1308.2 L2250.32 1308.2 L2250.32 1338.82 L2257.96 1338.82 L2257.96 1342.76 L2238.05 1342.76 L2238.05 1338.82 Z\" fill=\"#000000\" fill-rule=\"nonzero\" fill-opacity=\"1\" /></svg>\n"
      ]
     },
     "execution_count": 172,
     "metadata": {},
     "output_type": "execute_result"
    }
   ],
   "source": [
    "plot(answer.p[2].f_t[1:100])\n",
    "xaxis!(\"Hour (h)\")\n",
    "yaxis!(\"Offtaker rating (MW)\")"
   ]
  },
  {
   "cell_type": "markdown",
   "metadata": {},
   "source": [
    "As you can observe, the optimal solution seems to rely on some abrupt changes in the offtaker rating. Some chemical processes may not be able to adjust so quickly to this changes in hydrogen input. Similarly, the hydrogen storage may not be able to charge or discharge at unlimited ratings. Therefore we should examinate if the answer would change significantly with ramping limits. "
   ]
  },
  {
   "cell_type": "markdown",
   "metadata": {},
   "source": [
    "### Ramping limits"
   ]
  },
  {
   "cell_type": "code",
   "execution_count": 174,
   "metadata": {},
   "outputs": [
    {
     "data": {
      "text/plain": [
       "(-0.2, 0.2)"
      ]
     },
     "execution_count": 174,
     "metadata": {},
     "output_type": "execute_result"
    }
   ],
   "source": [
    "offtaker.rp = (-0.2,0.2)\n",
    "h2Store.rp = (-0.2,0.2)"
   ]
  },
  {
   "cell_type": "code",
   "execution_count": 175,
   "metadata": {},
   "outputs": [
    {
     "name": "stdout",
     "output_type": "stream",
     "text": [
      "Set parameter Username\n",
      "Academic license - for non-commercial use only - expires 2024-10-31\n",
      "Gurobi Optimizer version 9.5.2 build v9.5.2rc0 (win64)\n",
      "Thread count: 4 physical cores, 8 logical processors, using up to 8 threads\n",
      "Optimize a model with 315363 rows, 148923 columns and 744596 nonzeros\n",
      "Model fingerprint: 0x831fe687\n",
      "Variable types: 122643 continuous, 26280 integer (26280 binary)\n",
      "Coefficient statistics:\n",
      "  Matrix range     [5e-03, 1e+03]\n",
      "  Objective range  [1e+00, 1e+00]\n",
      "  Bounds range     [0e+00, 0e+00]\n",
      "  RHS range        [2e-01, 1e+03]\n",
      "Found heuristic solution: objective -0.0000000\n",
      "Presolve removed 211641 rows and 106907 columns\n",
      "Presolve time: 1.48s\n",
      "Presolved: 103722 rows, 42016 columns, 285849 nonzeros\n",
      "Variable types: 29245 continuous, 12771 integer (12771 binary)\n",
      "\n",
      "Deterministic concurrent LP optimizer: primal and dual simplex (primal and dual model)\n",
      "Showing first log only...\n",
      "\n",
      "Root relaxation presolved: 103722 rows, 42016 columns, 285849 nonzeros\n",
      "\n",
      "Concurrent spin time: 0.06s\n",
      "\n",
      "Solved with primal simplex (dual model)\n",
      "\n",
      "Root relaxation: objective 3.666970e+04, 96021 iterations, 3.44 seconds (2.66 work units)\n",
      "\n",
      "    Nodes    |    Current Node    |     Objective Bounds      |     Work\n",
      " Expl Unexpl |  Obj  Depth IntInf | Incumbent    BestBd   Gap | It/Node Time\n",
      "\n",
      "*    0     0               0    36669.699979 36669.7000  0.00%     -    5s\n",
      "\n",
      "Explored 1 nodes (96021 simplex iterations) in 5.05 seconds (4.80 work units)\n",
      "Thread count was 8 (of 8 available processors)\n",
      "\n",
      "Solution count 2: 36669.7 -0 \n",
      "\n",
      "Optimal solution found (tolerance 1.00e-04)\n",
      "Best objective 3.666969997926e+04, best bound 3.666969997926e+04, gap 0.0000%\n",
      "\n",
      "User-callback calls 1822, time in user-callback 0.00 sec\n",
      "* Solver : Gurobi\n",
      "\n",
      "* Status\n",
      "  Result count       : 2\n",
      "  Termination status : OPTIMAL\n",
      "  Message from the solver:\n",
      "  \"Model was solved to optimality (subject to tolerances), and an optimal solution is available.\"\n",
      "\n",
      "* Candidate solution (result #1)\n",
      "  Primal status      : FEASIBLE_POINT\n",
      "  Dual status        : NO_SOLUTION\n",
      "  Objective value    : 3.66697e+04\n",
      "  Objective bound    : 3.66697e+04\n",
      "  Relative gap       : 0.00000e+00\n",
      "  Dual objective value : 3.66697e+04\n",
      "\n",
      "* Work counters\n",
      "  Solve time (sec)   : 5.05442e+00\n",
      "  Barrier iterations : 0\n",
      "  Node count         : 1\n",
      "\n",
      " Tech       | Size factor\n",
      "===================================\n",
      " AWE        | 1.0\n",
      " offtaker   | 0.7197694005664513\n",
      "-----------------------------------\n",
      "-----------------------------------\n",
      " H2 tank    | 60.0\n"
     ]
    },
    {
     "data": {
      "text/plain": [
       "Problem(Resource[Resource(ResourceType(\"power\", Real[0;;], \"MW\"), Real[0.423, 0.223, 0.221, 0.225, 0.22, 0.217, 0.217, 0.231, 0.226, 0.314  …  2.57, 2.05, 2.135, 3.929, 6.339, 5.936, 5.01, 8.088, 7.919, 8.668], Real[0 0; 1 1])], Resource[Resource(ResourceType(\"H2_plant\", Real[1;;], \"MW\"), Real[1.079654100849677, 1.0796541008496767, 2.5191929019825796, 1.0796541008496767, 1.0796541008496767, 1.0796541008496767, 1.0796541008496767, 1.0796541008496767, 1.0796541008496767, 1.0796541008496767  …  3.3112178026765164, 1.8716790015436138, 1.079654100849677, 1.079654100849677, 1.079654100849677, 1.079654100849677, 1.0796541008496767, 2.5191929019825796, 2.5191929019825796, 1.0796541008496767], Real[0 0; 1 1]), Resource(ResourceType(\"power\", Real[0;;], \"MW\"), Real[0.423, 0.223, 0.221, 0.225, 0.22, 0.217, 0.217, 0.231, 0.226, 0.314  …  0.0, 0.0, 0.0, 0.0, 0.0, 0.0, 0.0, 0.0, 0.0, 1.7763568394002505e-15], Real[0 0; 1 1])], Tech[Tech(\"AWE\", Resource[Resource(ResourceType(\"power\", Real[0;;], \"MW\"), Real[10], Real[0.15 0.15011; 0.51 0.50907; 1.0 1.0])], Resource[Resource(ResourceType(\"H2\", Real[1;;], \"MW\"), Real[6.6865], Real[0.15 0.17068571001271218; 0.51 0.5446508636805505; 1.0 1.0])], Heat[], Matrix{Real}[[0.0 0.0; 1000.0 0.0]], (1, 1), (0.15, 1), (-1, 1), true, 1.0, Real[0.0, 0.0, 0.0, 0.0, 0.0, 0.0, 0.0, 0.0, 0.0, 0.0  …  0.2572, 0.20505, 0.21357, 0.39349, 0.63459, 0.59437, 0.50191, 0.80916, 0.79229, 0.86705]), Tech(\"offtaker\", Resource[Resource(ResourceType(\"H2\", Real[1;;], \"MW\"), Real[10], Real[0 0; 1 1])], Resource[Resource(ResourceType(\"H2_plant\", Real[1;;], \"MW\"), Real[10], Real[0 0; 1 1])], Heat[], Matrix{Real}[[0.0 0.0; 1000.0 0.0]], (0, 1000.0), (0.15, 1), (-0.2, 0.2), false, 0.7197694005664513, Real[0.10797, 0.10797, 0.25192, 0.10797, 0.10797, 0.10797, 0.10797, 0.10797, 0.10797, 0.10797  …  0.33112, 0.18717, 0.10797, 0.10797, 0.10797, 0.10797, 0.10797, 0.25192, 0.25192, 0.10797])], Tech[], Storage[Storage(\"H2 tank\", ResourceType(\"H2\", Real[1;;], \"MW\"), 1, Matrix{Real}[[0.0 0.0; 1000.0 0.0]], (0, 60), (-0.2, 0.2), 60.0, Real[58.92, 57.841, 55.321, 54.242, 53.162, 52.083, 51.003, 49.923, 48.844, 47.764  …  38.524, 38.176, 38.679, 40.432, 43.769, 46.855, 49.361, 52.343, 55.219, 60.0])])"
      ]
     },
     "execution_count": 175,
     "metadata": {},
     "output_type": "execute_result"
    }
   ],
   "source": [
    "problem = Problem(i=[windIn],p=[alk,offtaker],o=[h2,cut],st=[h2Store])\n",
    "answer = vivi(problem,Gurobi.Optimizer) # Gurobi solver is much faster"
   ]
  },
  {
   "cell_type": "code",
   "execution_count": 176,
   "metadata": {},
   "outputs": [
    {
     "data": {
      "image/svg+xml": [
       "<?xml version=\"1.0\" encoding=\"utf-8\"?>\n",
       "<svg xmlns=\"http://www.w3.org/2000/svg\" xmlns:xlink=\"http://www.w3.org/1999/xlink\" width=\"600\" height=\"400\" viewBox=\"0 0 2400 1600\">\n",
       "<defs>\n",
       "  <clipPath id=\"clip280\">\n",
       "    <rect x=\"0\" y=\"0\" width=\"2400\" height=\"1600\"/>\n",
       "  </clipPath>\n",
       "</defs>\n",
       "<path clip-path=\"url(#clip280)\" d=\"M0 1600 L2400 1600 L2400 0 L0 0  Z\" fill=\"#ffffff\" fill-rule=\"evenodd\" fill-opacity=\"1\"/>\n",
       "<defs>\n",
       "  <clipPath id=\"clip281\">\n",
       "    <rect x=\"480\" y=\"0\" width=\"1681\" height=\"1600\"/>\n",
       "  </clipPath>\n",
       "</defs>\n",
       "<path clip-path=\"url(#clip280)\" d=\"M219.866 1423.18 L2352.76 1423.18 L2352.76 47.2441 L219.866 47.2441  Z\" fill=\"#ffffff\" fill-rule=\"evenodd\" fill-opacity=\"1\"/>\n",
       "<defs>\n",
       "  <clipPath id=\"clip282\">\n",
       "    <rect x=\"219\" y=\"47\" width=\"2134\" height=\"1377\"/>\n",
       "  </clipPath>\n",
       "</defs>\n",
       "<polyline clip-path=\"url(#clip282)\" style=\"stroke:#000000; stroke-linecap:round; stroke-linejoin:round; stroke-width:2; stroke-opacity:0.1; fill:none\" points=\"259.906,1423.18 259.906,47.2441 \"/>\n",
       "<polyline clip-path=\"url(#clip282)\" style=\"stroke:#000000; stroke-linecap:round; stroke-linejoin:round; stroke-width:2; stroke-opacity:0.1; fill:none\" points=\"768.027,1423.18 768.027,47.2441 \"/>\n",
       "<polyline clip-path=\"url(#clip282)\" style=\"stroke:#000000; stroke-linecap:round; stroke-linejoin:round; stroke-width:2; stroke-opacity:0.1; fill:none\" points=\"1276.15,1423.18 1276.15,47.2441 \"/>\n",
       "<polyline clip-path=\"url(#clip282)\" style=\"stroke:#000000; stroke-linecap:round; stroke-linejoin:round; stroke-width:2; stroke-opacity:0.1; fill:none\" points=\"1784.27,1423.18 1784.27,47.2441 \"/>\n",
       "<polyline clip-path=\"url(#clip282)\" style=\"stroke:#000000; stroke-linecap:round; stroke-linejoin:round; stroke-width:2; stroke-opacity:0.1; fill:none\" points=\"2292.39,1423.18 2292.39,47.2441 \"/>\n",
       "<polyline clip-path=\"url(#clip280)\" style=\"stroke:#000000; stroke-linecap:round; stroke-linejoin:round; stroke-width:4; stroke-opacity:1; fill:none\" points=\"219.866,1423.18 2352.76,1423.18 \"/>\n",
       "<polyline clip-path=\"url(#clip280)\" style=\"stroke:#000000; stroke-linecap:round; stroke-linejoin:round; stroke-width:4; stroke-opacity:1; fill:none\" points=\"259.906,1423.18 259.906,1404.28 \"/>\n",
       "<polyline clip-path=\"url(#clip280)\" style=\"stroke:#000000; stroke-linecap:round; stroke-linejoin:round; stroke-width:4; stroke-opacity:1; fill:none\" points=\"768.027,1423.18 768.027,1404.28 \"/>\n",
       "<polyline clip-path=\"url(#clip280)\" style=\"stroke:#000000; stroke-linecap:round; stroke-linejoin:round; stroke-width:4; stroke-opacity:1; fill:none\" points=\"1276.15,1423.18 1276.15,1404.28 \"/>\n",
       "<polyline clip-path=\"url(#clip280)\" style=\"stroke:#000000; stroke-linecap:round; stroke-linejoin:round; stroke-width:4; stroke-opacity:1; fill:none\" points=\"1784.27,1423.18 1784.27,1404.28 \"/>\n",
       "<polyline clip-path=\"url(#clip280)\" style=\"stroke:#000000; stroke-linecap:round; stroke-linejoin:round; stroke-width:4; stroke-opacity:1; fill:none\" points=\"2292.39,1423.18 2292.39,1404.28 \"/>\n",
       "<path clip-path=\"url(#clip280)\" d=\"M259.906 1454.1 Q256.295 1454.1 254.466 1457.66 Q252.661 1461.2 252.661 1468.33 Q252.661 1475.44 254.466 1479.01 Q256.295 1482.55 259.906 1482.55 Q263.54 1482.55 265.346 1479.01 Q267.175 1475.44 267.175 1468.33 Q267.175 1461.2 265.346 1457.66 Q263.54 1454.1 259.906 1454.1 M259.906 1450.39 Q265.716 1450.39 268.772 1455 Q271.851 1459.58 271.851 1468.33 Q271.851 1477.06 268.772 1481.67 Q265.716 1486.25 259.906 1486.25 Q254.096 1486.25 251.017 1481.67 Q247.962 1477.06 247.962 1468.33 Q247.962 1459.58 251.017 1455 Q254.096 1450.39 259.906 1450.39 Z\" fill=\"#000000\" fill-rule=\"nonzero\" fill-opacity=\"1\" /><path clip-path=\"url(#clip280)\" d=\"M747.298 1481.64 L763.618 1481.64 L763.618 1485.58 L741.673 1485.58 L741.673 1481.64 Q744.335 1478.89 748.919 1474.26 Q753.525 1469.61 754.706 1468.27 Q756.951 1465.74 757.831 1464.01 Q758.734 1462.25 758.734 1460.56 Q758.734 1457.8 756.789 1456.07 Q754.868 1454.33 751.766 1454.33 Q749.567 1454.33 747.113 1455.09 Q744.683 1455.86 741.905 1457.41 L741.905 1452.69 Q744.729 1451.55 747.183 1450.97 Q749.636 1450.39 751.673 1450.39 Q757.044 1450.39 760.238 1453.08 Q763.433 1455.77 763.433 1460.26 Q763.433 1462.39 762.622 1464.31 Q761.835 1466.2 759.729 1468.8 Q759.15 1469.47 756.048 1472.69 Q752.947 1475.88 747.298 1481.64 Z\" fill=\"#000000\" fill-rule=\"nonzero\" fill-opacity=\"1\" /><path clip-path=\"url(#clip280)\" d=\"M773.479 1451.02 L791.835 1451.02 L791.835 1454.96 L777.761 1454.96 L777.761 1463.43 Q778.78 1463.08 779.798 1462.92 Q780.817 1462.73 781.835 1462.73 Q787.622 1462.73 791.002 1465.9 Q794.381 1469.08 794.381 1474.49 Q794.381 1480.07 790.909 1483.17 Q787.437 1486.25 781.118 1486.25 Q778.942 1486.25 776.673 1485.88 Q774.428 1485.51 772.02 1484.77 L772.02 1480.07 Q774.104 1481.2 776.326 1481.76 Q778.548 1482.32 781.025 1482.32 Q785.03 1482.32 787.368 1480.21 Q789.706 1478.1 789.706 1474.49 Q789.706 1470.88 787.368 1468.77 Q785.03 1466.67 781.025 1466.67 Q779.15 1466.67 777.275 1467.08 Q775.423 1467.5 773.479 1468.38 L773.479 1451.02 Z\" fill=\"#000000\" fill-rule=\"nonzero\" fill-opacity=\"1\" /><path clip-path=\"url(#clip280)\" d=\"M1250.85 1451.02 L1269.2 1451.02 L1269.2 1454.96 L1255.13 1454.96 L1255.13 1463.43 Q1256.15 1463.08 1257.17 1462.92 Q1258.19 1462.73 1259.2 1462.73 Q1264.99 1462.73 1268.37 1465.9 Q1271.75 1469.08 1271.75 1474.49 Q1271.75 1480.07 1268.28 1483.17 Q1264.81 1486.25 1258.49 1486.25 Q1256.31 1486.25 1254.04 1485.88 Q1251.8 1485.51 1249.39 1484.77 L1249.39 1480.07 Q1251.47 1481.2 1253.7 1481.76 Q1255.92 1482.32 1258.39 1482.32 Q1262.4 1482.32 1264.74 1480.21 Q1267.07 1478.1 1267.07 1474.49 Q1267.07 1470.88 1264.74 1468.77 Q1262.4 1466.67 1258.39 1466.67 Q1256.52 1466.67 1254.64 1467.08 Q1252.79 1467.5 1250.85 1468.38 L1250.85 1451.02 Z\" fill=\"#000000\" fill-rule=\"nonzero\" fill-opacity=\"1\" /><path clip-path=\"url(#clip280)\" d=\"M1290.96 1454.1 Q1287.35 1454.1 1285.52 1457.66 Q1283.72 1461.2 1283.72 1468.33 Q1283.72 1475.44 1285.52 1479.01 Q1287.35 1482.55 1290.96 1482.55 Q1294.6 1482.55 1296.4 1479.01 Q1298.23 1475.44 1298.23 1468.33 Q1298.23 1461.2 1296.4 1457.66 Q1294.6 1454.1 1290.96 1454.1 M1290.96 1450.39 Q1296.77 1450.39 1299.83 1455 Q1302.91 1459.58 1302.91 1468.33 Q1302.91 1477.06 1299.83 1481.67 Q1296.77 1486.25 1290.96 1486.25 Q1285.15 1486.25 1282.07 1481.67 Q1279.02 1477.06 1279.02 1468.33 Q1279.02 1459.58 1282.07 1455 Q1285.15 1450.39 1290.96 1450.39 Z\" fill=\"#000000\" fill-rule=\"nonzero\" fill-opacity=\"1\" /><path clip-path=\"url(#clip280)\" d=\"M1758.12 1451.02 L1780.35 1451.02 L1780.35 1453.01 L1767.8 1485.58 L1762.92 1485.58 L1774.72 1454.96 L1758.12 1454.96 L1758.12 1451.02 Z\" fill=\"#000000\" fill-rule=\"nonzero\" fill-opacity=\"1\" /><path clip-path=\"url(#clip280)\" d=\"M1789.51 1451.02 L1807.87 1451.02 L1807.87 1454.96 L1793.8 1454.96 L1793.8 1463.43 Q1794.81 1463.08 1795.83 1462.92 Q1796.85 1462.73 1797.87 1462.73 Q1803.66 1462.73 1807.04 1465.9 Q1810.42 1469.08 1810.42 1474.49 Q1810.42 1480.07 1806.94 1483.17 Q1803.47 1486.25 1797.15 1486.25 Q1794.98 1486.25 1792.71 1485.88 Q1790.46 1485.51 1788.05 1484.77 L1788.05 1480.07 Q1790.14 1481.2 1792.36 1481.76 Q1794.58 1482.32 1797.06 1482.32 Q1801.06 1482.32 1803.4 1480.21 Q1805.74 1478.1 1805.74 1474.49 Q1805.74 1470.88 1803.4 1468.77 Q1801.06 1466.67 1797.06 1466.67 Q1795.18 1466.67 1793.31 1467.08 Q1791.46 1467.5 1789.51 1468.38 L1789.51 1451.02 Z\" fill=\"#000000\" fill-rule=\"nonzero\" fill-opacity=\"1\" /><path clip-path=\"url(#clip280)\" d=\"M2252 1481.64 L2259.64 1481.64 L2259.64 1455.28 L2251.33 1456.95 L2251.33 1452.69 L2259.59 1451.02 L2264.27 1451.02 L2264.27 1481.64 L2271.91 1481.64 L2271.91 1485.58 L2252 1485.58 L2252 1481.64 Z\" fill=\"#000000\" fill-rule=\"nonzero\" fill-opacity=\"1\" /><path clip-path=\"url(#clip280)\" d=\"M2291.35 1454.1 Q2287.74 1454.1 2285.91 1457.66 Q2284.1 1461.2 2284.1 1468.33 Q2284.1 1475.44 2285.91 1479.01 Q2287.74 1482.55 2291.35 1482.55 Q2294.98 1482.55 2296.79 1479.01 Q2298.62 1475.44 2298.62 1468.33 Q2298.62 1461.2 2296.79 1457.66 Q2294.98 1454.1 2291.35 1454.1 M2291.35 1450.39 Q2297.16 1450.39 2300.22 1455 Q2303.29 1459.58 2303.29 1468.33 Q2303.29 1477.06 2300.22 1481.67 Q2297.16 1486.25 2291.35 1486.25 Q2285.54 1486.25 2282.46 1481.67 Q2279.41 1477.06 2279.41 1468.33 Q2279.41 1459.58 2282.46 1455 Q2285.54 1450.39 2291.35 1450.39 Z\" fill=\"#000000\" fill-rule=\"nonzero\" fill-opacity=\"1\" /><path clip-path=\"url(#clip280)\" d=\"M2321.51 1454.1 Q2317.9 1454.1 2316.07 1457.66 Q2314.27 1461.2 2314.27 1468.33 Q2314.27 1475.44 2316.07 1479.01 Q2317.9 1482.55 2321.51 1482.55 Q2325.15 1482.55 2326.95 1479.01 Q2328.78 1475.44 2328.78 1468.33 Q2328.78 1461.2 2326.95 1457.66 Q2325.15 1454.1 2321.51 1454.1 M2321.51 1450.39 Q2327.32 1450.39 2330.38 1455 Q2333.46 1459.58 2333.46 1468.33 Q2333.46 1477.06 2330.38 1481.67 Q2327.32 1486.25 2321.51 1486.25 Q2315.7 1486.25 2312.62 1481.67 Q2309.57 1477.06 2309.57 1468.33 Q2309.57 1459.58 2312.62 1455 Q2315.7 1450.39 2321.51 1450.39 Z\" fill=\"#000000\" fill-rule=\"nonzero\" fill-opacity=\"1\" /><path clip-path=\"url(#clip280)\" d=\"M1157.36 1520.52 L1163.79 1520.52 L1163.79 1540 L1187.15 1540 L1187.15 1520.52 L1193.58 1520.52 L1193.58 1568.04 L1187.15 1568.04 L1187.15 1545.41 L1163.79 1545.41 L1163.79 1568.04 L1157.36 1568.04 L1157.36 1520.52 Z\" fill=\"#000000\" fill-rule=\"nonzero\" fill-opacity=\"1\" /><path clip-path=\"url(#clip280)\" d=\"M1219.93 1536.5 Q1215.22 1536.5 1212.48 1540.19 Q1209.75 1543.85 1209.75 1550.25 Q1209.75 1556.65 1212.45 1560.34 Q1215.19 1564 1219.93 1564 Q1224.61 1564 1227.35 1560.31 Q1230.09 1556.62 1230.09 1550.25 Q1230.09 1543.92 1227.35 1540.23 Q1224.61 1536.5 1219.93 1536.5 M1219.93 1531.54 Q1227.57 1531.54 1231.93 1536.5 Q1236.29 1541.47 1236.29 1550.25 Q1236.29 1559 1231.93 1564 Q1227.57 1568.97 1219.93 1568.97 Q1212.26 1568.97 1207.9 1564 Q1203.57 1559 1203.57 1550.25 Q1203.57 1541.47 1207.9 1536.5 Q1212.26 1531.54 1219.93 1531.54 Z\" fill=\"#000000\" fill-rule=\"nonzero\" fill-opacity=\"1\" /><path clip-path=\"url(#clip280)\" d=\"M1245.4 1553.98 L1245.4 1532.4 L1251.25 1532.4 L1251.25 1553.75 Q1251.25 1558.81 1253.23 1561.36 Q1255.2 1563.87 1259.15 1563.87 Q1263.89 1563.87 1266.63 1560.85 Q1269.39 1557.83 1269.39 1552.61 L1269.39 1532.4 L1275.25 1532.4 L1275.25 1568.04 L1269.39 1568.04 L1269.39 1562.57 Q1267.26 1565.82 1264.43 1567.41 Q1261.63 1568.97 1257.9 1568.97 Q1251.76 1568.97 1248.58 1565.15 Q1245.4 1561.33 1245.4 1553.98 M1260.13 1531.54 L1260.13 1531.54 Z\" fill=\"#000000\" fill-rule=\"nonzero\" fill-opacity=\"1\" /><path clip-path=\"url(#clip280)\" d=\"M1307.97 1537.87 Q1306.98 1537.3 1305.81 1537.04 Q1304.66 1536.76 1303.26 1536.76 Q1298.29 1536.76 1295.62 1540 Q1292.98 1543.22 1292.98 1549.27 L1292.98 1568.04 L1287.09 1568.04 L1287.09 1532.4 L1292.98 1532.4 L1292.98 1537.93 Q1294.83 1534.69 1297.79 1533.13 Q1300.75 1531.54 1304.98 1531.54 Q1305.58 1531.54 1306.32 1531.63 Q1307.05 1531.7 1307.94 1531.85 L1307.97 1537.87 Z\" fill=\"#000000\" fill-rule=\"nonzero\" fill-opacity=\"1\" /><path clip-path=\"url(#clip280)\" d=\"M1348.9 1518.58 Q1344.64 1525.9 1342.57 1533.06 Q1340.5 1540.23 1340.5 1547.58 Q1340.5 1554.93 1342.57 1562.16 Q1344.67 1569.35 1348.9 1576.64 L1343.81 1576.64 Q1339.04 1569.16 1336.65 1561.93 Q1334.29 1554.71 1334.29 1547.58 Q1334.29 1540.48 1336.65 1533.29 Q1339 1526.09 1343.81 1518.58 L1348.9 1518.58 Z\" fill=\"#000000\" fill-rule=\"nonzero\" fill-opacity=\"1\" /><path clip-path=\"url(#clip280)\" d=\"M1389.9 1546.53 L1389.9 1568.04 L1384.04 1568.04 L1384.04 1546.72 Q1384.04 1541.66 1382.07 1539.14 Q1380.09 1536.63 1376.15 1536.63 Q1371.4 1536.63 1368.67 1539.65 Q1365.93 1542.68 1365.93 1547.9 L1365.93 1568.04 L1360.04 1568.04 L1360.04 1518.52 L1365.93 1518.52 L1365.93 1537.93 Q1368.03 1534.72 1370.86 1533.13 Q1373.73 1531.54 1377.45 1531.54 Q1383.59 1531.54 1386.75 1535.36 Q1389.9 1539.14 1389.9 1546.53 Z\" fill=\"#000000\" fill-rule=\"nonzero\" fill-opacity=\"1\" /><path clip-path=\"url(#clip280)\" d=\"M1400.66 1518.58 L1405.75 1518.58 Q1410.52 1526.09 1412.88 1533.29 Q1415.26 1540.48 1415.26 1547.58 Q1415.26 1554.71 1412.88 1561.93 Q1410.52 1569.16 1405.75 1576.64 L1400.66 1576.64 Q1404.89 1569.35 1406.96 1562.16 Q1409.06 1554.93 1409.06 1547.58 Q1409.06 1540.23 1406.96 1533.06 Q1404.89 1525.9 1400.66 1518.58 Z\" fill=\"#000000\" fill-rule=\"nonzero\" fill-opacity=\"1\" /><polyline clip-path=\"url(#clip282)\" style=\"stroke:#000000; stroke-linecap:round; stroke-linejoin:round; stroke-width:2; stroke-opacity:0.1; fill:none\" points=\"219.866,1401.15 2352.76,1401.15 \"/>\n",
       "<polyline clip-path=\"url(#clip282)\" style=\"stroke:#000000; stroke-linecap:round; stroke-linejoin:round; stroke-width:2; stroke-opacity:0.1; fill:none\" points=\"219.866,1188.98 2352.76,1188.98 \"/>\n",
       "<polyline clip-path=\"url(#clip282)\" style=\"stroke:#000000; stroke-linecap:round; stroke-linejoin:round; stroke-width:2; stroke-opacity:0.1; fill:none\" points=\"219.866,976.809 2352.76,976.809 \"/>\n",
       "<polyline clip-path=\"url(#clip282)\" style=\"stroke:#000000; stroke-linecap:round; stroke-linejoin:round; stroke-width:2; stroke-opacity:0.1; fill:none\" points=\"219.866,764.64 2352.76,764.64 \"/>\n",
       "<polyline clip-path=\"url(#clip282)\" style=\"stroke:#000000; stroke-linecap:round; stroke-linejoin:round; stroke-width:2; stroke-opacity:0.1; fill:none\" points=\"219.866,552.47 2352.76,552.47 \"/>\n",
       "<polyline clip-path=\"url(#clip282)\" style=\"stroke:#000000; stroke-linecap:round; stroke-linejoin:round; stroke-width:2; stroke-opacity:0.1; fill:none\" points=\"219.866,340.301 2352.76,340.301 \"/>\n",
       "<polyline clip-path=\"url(#clip282)\" style=\"stroke:#000000; stroke-linecap:round; stroke-linejoin:round; stroke-width:2; stroke-opacity:0.1; fill:none\" points=\"219.866,128.132 2352.76,128.132 \"/>\n",
       "<polyline clip-path=\"url(#clip280)\" style=\"stroke:#000000; stroke-linecap:round; stroke-linejoin:round; stroke-width:4; stroke-opacity:1; fill:none\" points=\"219.866,1423.18 219.866,47.2441 \"/>\n",
       "<polyline clip-path=\"url(#clip280)\" style=\"stroke:#000000; stroke-linecap:round; stroke-linejoin:round; stroke-width:4; stroke-opacity:1; fill:none\" points=\"219.866,1401.15 238.764,1401.15 \"/>\n",
       "<polyline clip-path=\"url(#clip280)\" style=\"stroke:#000000; stroke-linecap:round; stroke-linejoin:round; stroke-width:4; stroke-opacity:1; fill:none\" points=\"219.866,1188.98 238.764,1188.98 \"/>\n",
       "<polyline clip-path=\"url(#clip280)\" style=\"stroke:#000000; stroke-linecap:round; stroke-linejoin:round; stroke-width:4; stroke-opacity:1; fill:none\" points=\"219.866,976.809 238.764,976.809 \"/>\n",
       "<polyline clip-path=\"url(#clip280)\" style=\"stroke:#000000; stroke-linecap:round; stroke-linejoin:round; stroke-width:4; stroke-opacity:1; fill:none\" points=\"219.866,764.64 238.764,764.64 \"/>\n",
       "<polyline clip-path=\"url(#clip280)\" style=\"stroke:#000000; stroke-linecap:round; stroke-linejoin:round; stroke-width:4; stroke-opacity:1; fill:none\" points=\"219.866,552.47 238.764,552.47 \"/>\n",
       "<polyline clip-path=\"url(#clip280)\" style=\"stroke:#000000; stroke-linecap:round; stroke-linejoin:round; stroke-width:4; stroke-opacity:1; fill:none\" points=\"219.866,340.301 238.764,340.301 \"/>\n",
       "<polyline clip-path=\"url(#clip280)\" style=\"stroke:#000000; stroke-linecap:round; stroke-linejoin:round; stroke-width:4; stroke-opacity:1; fill:none\" points=\"219.866,128.132 238.764,128.132 \"/>\n",
       "<path clip-path=\"url(#clip280)\" d=\"M127.917 1386.95 Q124.306 1386.95 122.478 1390.51 Q120.672 1394.05 120.672 1401.18 Q120.672 1408.29 122.478 1411.85 Q124.306 1415.4 127.917 1415.4 Q131.552 1415.4 133.357 1411.85 Q135.186 1408.29 135.186 1401.18 Q135.186 1394.05 133.357 1390.51 Q131.552 1386.95 127.917 1386.95 M127.917 1383.24 Q133.728 1383.24 136.783 1387.85 Q139.862 1392.43 139.862 1401.18 Q139.862 1409.91 136.783 1414.52 Q133.728 1419.1 127.917 1419.1 Q122.107 1419.1 119.029 1414.52 Q115.973 1409.91 115.973 1401.18 Q115.973 1392.43 119.029 1387.85 Q122.107 1383.24 127.917 1383.24 Z\" fill=\"#000000\" fill-rule=\"nonzero\" fill-opacity=\"1\" /><path clip-path=\"url(#clip280)\" d=\"M148.079 1412.55 L152.964 1412.55 L152.964 1418.43 L148.079 1418.43 L148.079 1412.55 Z\" fill=\"#000000\" fill-rule=\"nonzero\" fill-opacity=\"1\" /><path clip-path=\"url(#clip280)\" d=\"M163.959 1414.49 L171.598 1414.49 L171.598 1388.13 L163.288 1389.79 L163.288 1385.53 L171.552 1383.87 L176.227 1383.87 L176.227 1414.49 L183.866 1414.49 L183.866 1418.43 L163.959 1418.43 L163.959 1414.49 Z\" fill=\"#000000\" fill-rule=\"nonzero\" fill-opacity=\"1\" /><path clip-path=\"url(#clip280)\" d=\"M128.288 1174.78 Q124.677 1174.78 122.848 1178.34 Q121.043 1181.88 121.043 1189.01 Q121.043 1196.12 122.848 1199.68 Q124.677 1203.23 128.288 1203.23 Q131.922 1203.23 133.728 1199.68 Q135.556 1196.12 135.556 1189.01 Q135.556 1181.88 133.728 1178.34 Q131.922 1174.78 128.288 1174.78 M128.288 1171.07 Q134.098 1171.07 137.154 1175.68 Q140.232 1180.26 140.232 1189.01 Q140.232 1197.74 137.154 1202.35 Q134.098 1206.93 128.288 1206.93 Q122.478 1206.93 119.399 1202.35 Q116.343 1197.74 116.343 1189.01 Q116.343 1180.26 119.399 1175.68 Q122.478 1171.07 128.288 1171.07 Z\" fill=\"#000000\" fill-rule=\"nonzero\" fill-opacity=\"1\" /><path clip-path=\"url(#clip280)\" d=\"M148.45 1200.38 L153.334 1200.38 L153.334 1206.26 L148.45 1206.26 L148.45 1200.38 Z\" fill=\"#000000\" fill-rule=\"nonzero\" fill-opacity=\"1\" /><path clip-path=\"url(#clip280)\" d=\"M167.547 1202.32 L183.866 1202.32 L183.866 1206.26 L161.922 1206.26 L161.922 1202.32 Q164.584 1199.57 169.167 1194.94 Q173.774 1190.29 174.954 1188.94 Q177.2 1186.42 178.079 1184.68 Q178.982 1182.93 178.982 1181.24 Q178.982 1178.48 177.038 1176.75 Q175.116 1175.01 172.014 1175.01 Q169.815 1175.01 167.362 1175.77 Q164.931 1176.54 162.153 1178.09 L162.153 1173.37 Q164.977 1172.23 167.431 1171.65 Q169.885 1171.07 171.922 1171.07 Q177.292 1171.07 180.487 1173.76 Q183.681 1176.44 183.681 1180.93 Q183.681 1183.06 182.871 1184.99 Q182.084 1186.88 179.977 1189.48 Q179.399 1190.15 176.297 1193.37 Q173.195 1196.56 167.547 1202.32 Z\" fill=\"#000000\" fill-rule=\"nonzero\" fill-opacity=\"1\" /><path clip-path=\"url(#clip280)\" d=\"M127.339 962.608 Q123.728 962.608 121.899 966.173 Q120.093 969.714 120.093 976.844 Q120.093 983.95 121.899 987.515 Q123.728 991.057 127.339 991.057 Q130.973 991.057 132.779 987.515 Q134.607 983.95 134.607 976.844 Q134.607 969.714 132.779 966.173 Q130.973 962.608 127.339 962.608 M127.339 958.904 Q133.149 958.904 136.204 963.511 Q139.283 968.094 139.283 976.844 Q139.283 985.571 136.204 990.177 Q133.149 994.761 127.339 994.761 Q121.529 994.761 118.45 990.177 Q115.394 985.571 115.394 976.844 Q115.394 968.094 118.45 963.511 Q121.529 958.904 127.339 958.904 Z\" fill=\"#000000\" fill-rule=\"nonzero\" fill-opacity=\"1\" /><path clip-path=\"url(#clip280)\" d=\"M147.501 988.21 L152.385 988.21 L152.385 994.089 L147.501 994.089 L147.501 988.21 Z\" fill=\"#000000\" fill-rule=\"nonzero\" fill-opacity=\"1\" /><path clip-path=\"url(#clip280)\" d=\"M176.737 975.455 Q180.093 976.173 181.968 978.441 Q183.866 980.71 183.866 984.043 Q183.866 989.159 180.348 991.96 Q176.829 994.761 170.348 994.761 Q168.172 994.761 165.857 994.321 Q163.565 993.904 161.112 993.048 L161.112 988.534 Q163.056 989.668 165.371 990.247 Q167.686 990.825 170.209 990.825 Q174.607 990.825 176.899 989.089 Q179.214 987.353 179.214 984.043 Q179.214 980.988 177.061 979.275 Q174.931 977.538 171.112 977.538 L167.084 977.538 L167.084 973.696 L171.297 973.696 Q174.746 973.696 176.575 972.33 Q178.403 970.941 178.403 968.349 Q178.403 965.687 176.505 964.275 Q174.63 962.839 171.112 962.839 Q169.19 962.839 166.991 963.256 Q164.792 963.673 162.153 964.552 L162.153 960.386 Q164.815 959.645 167.13 959.275 Q169.468 958.904 171.528 958.904 Q176.852 958.904 179.954 961.335 Q183.056 963.742 183.056 967.863 Q183.056 970.733 181.413 972.724 Q179.769 974.691 176.737 975.455 Z\" fill=\"#000000\" fill-rule=\"nonzero\" fill-opacity=\"1\" /><path clip-path=\"url(#clip280)\" d=\"M126.205 750.439 Q122.593 750.439 120.765 754.003 Q118.959 757.545 118.959 764.675 Q118.959 771.781 120.765 775.346 Q122.593 778.887 126.205 778.887 Q129.839 778.887 131.644 775.346 Q133.473 771.781 133.473 764.675 Q133.473 757.545 131.644 754.003 Q129.839 750.439 126.205 750.439 M126.205 746.735 Q132.015 746.735 135.07 751.341 Q138.149 755.925 138.149 764.675 Q138.149 773.401 135.07 778.008 Q132.015 782.591 126.205 782.591 Q120.394 782.591 117.316 778.008 Q114.26 773.401 114.26 764.675 Q114.26 755.925 117.316 751.341 Q120.394 746.735 126.205 746.735 Z\" fill=\"#000000\" fill-rule=\"nonzero\" fill-opacity=\"1\" /><path clip-path=\"url(#clip280)\" d=\"M146.366 776.04 L151.251 776.04 L151.251 781.92 L146.366 781.92 L146.366 776.04 Z\" fill=\"#000000\" fill-rule=\"nonzero\" fill-opacity=\"1\" /><path clip-path=\"url(#clip280)\" d=\"M174.283 751.434 L162.477 769.883 L174.283 769.883 L174.283 751.434 M173.056 747.36 L178.936 747.36 L178.936 769.883 L183.866 769.883 L183.866 773.772 L178.936 773.772 L178.936 781.92 L174.283 781.92 L174.283 773.772 L158.681 773.772 L158.681 769.258 L173.056 747.36 Z\" fill=\"#000000\" fill-rule=\"nonzero\" fill-opacity=\"1\" /><path clip-path=\"url(#clip280)\" d=\"M127.686 538.269 Q124.075 538.269 122.246 541.834 Q120.441 545.376 120.441 552.505 Q120.441 559.612 122.246 563.176 Q124.075 566.718 127.686 566.718 Q131.32 566.718 133.126 563.176 Q134.954 559.612 134.954 552.505 Q134.954 545.376 133.126 541.834 Q131.32 538.269 127.686 538.269 M127.686 534.565 Q133.496 534.565 136.552 539.172 Q139.63 543.755 139.63 552.505 Q139.63 561.232 136.552 565.838 Q133.496 570.422 127.686 570.422 Q121.876 570.422 118.797 565.838 Q115.742 561.232 115.742 552.505 Q115.742 543.755 118.797 539.172 Q121.876 534.565 127.686 534.565 Z\" fill=\"#000000\" fill-rule=\"nonzero\" fill-opacity=\"1\" /><path clip-path=\"url(#clip280)\" d=\"M147.848 563.871 L152.732 563.871 L152.732 569.75 L147.848 569.75 L147.848 563.871 Z\" fill=\"#000000\" fill-rule=\"nonzero\" fill-opacity=\"1\" /><path clip-path=\"url(#clip280)\" d=\"M162.964 535.19 L181.32 535.19 L181.32 539.126 L167.246 539.126 L167.246 547.598 Q168.264 547.251 169.283 547.089 Q170.302 546.903 171.32 546.903 Q177.107 546.903 180.487 550.075 Q183.866 553.246 183.866 558.663 Q183.866 564.241 180.394 567.343 Q176.922 570.422 170.602 570.422 Q168.427 570.422 166.158 570.051 Q163.913 569.681 161.505 568.94 L161.505 564.241 Q163.589 565.375 165.811 565.931 Q168.033 566.487 170.51 566.487 Q174.514 566.487 176.852 564.38 Q179.19 562.274 179.19 558.663 Q179.19 555.051 176.852 552.945 Q174.514 550.838 170.51 550.838 Q168.635 550.838 166.76 551.255 Q164.908 551.672 162.964 552.551 L162.964 535.19 Z\" fill=\"#000000\" fill-rule=\"nonzero\" fill-opacity=\"1\" /><path clip-path=\"url(#clip280)\" d=\"M126.529 326.1 Q122.918 326.1 121.089 329.664 Q119.283 333.206 119.283 340.336 Q119.283 347.442 121.089 351.007 Q122.918 354.549 126.529 354.549 Q130.163 354.549 131.968 351.007 Q133.797 347.442 133.797 340.336 Q133.797 333.206 131.968 329.664 Q130.163 326.1 126.529 326.1 M126.529 322.396 Q132.339 322.396 135.394 327.002 Q138.473 331.586 138.473 340.336 Q138.473 349.063 135.394 353.669 Q132.339 358.252 126.529 358.252 Q120.718 358.252 117.64 353.669 Q114.584 349.063 114.584 340.336 Q114.584 331.586 117.64 327.002 Q120.718 322.396 126.529 322.396 Z\" fill=\"#000000\" fill-rule=\"nonzero\" fill-opacity=\"1\" /><path clip-path=\"url(#clip280)\" d=\"M146.691 351.701 L151.575 351.701 L151.575 357.581 L146.691 357.581 L146.691 351.701 Z\" fill=\"#000000\" fill-rule=\"nonzero\" fill-opacity=\"1\" /><path clip-path=\"url(#clip280)\" d=\"M172.339 338.438 Q169.19 338.438 167.339 340.59 Q165.51 342.743 165.51 346.493 Q165.51 350.22 167.339 352.396 Q169.19 354.549 172.339 354.549 Q175.487 354.549 177.315 352.396 Q179.167 350.22 179.167 346.493 Q179.167 342.743 177.315 340.59 Q175.487 338.438 172.339 338.438 M181.621 323.785 L181.621 328.044 Q179.862 327.211 178.056 326.771 Q176.274 326.331 174.514 326.331 Q169.885 326.331 167.431 329.456 Q165.001 332.581 164.653 338.901 Q166.019 336.887 168.079 335.822 Q170.139 334.734 172.616 334.734 Q177.825 334.734 180.834 337.905 Q183.866 341.053 183.866 346.493 Q183.866 351.817 180.718 355.035 Q177.57 358.252 172.339 358.252 Q166.343 358.252 163.172 353.669 Q160.001 349.063 160.001 340.336 Q160.001 332.141 163.89 327.28 Q167.778 322.396 174.329 322.396 Q176.089 322.396 177.871 322.743 Q179.676 323.09 181.621 323.785 Z\" fill=\"#000000\" fill-rule=\"nonzero\" fill-opacity=\"1\" /><path clip-path=\"url(#clip280)\" d=\"M127.593 113.93 Q123.982 113.93 122.154 117.495 Q120.348 121.037 120.348 128.166 Q120.348 135.273 122.154 138.838 Q123.982 142.379 127.593 142.379 Q131.228 142.379 133.033 138.838 Q134.862 135.273 134.862 128.166 Q134.862 121.037 133.033 117.495 Q131.228 113.93 127.593 113.93 M127.593 110.227 Q133.404 110.227 136.459 114.833 Q139.538 119.416 139.538 128.166 Q139.538 136.893 136.459 141.5 Q133.404 146.083 127.593 146.083 Q121.783 146.083 118.705 141.5 Q115.649 136.893 115.649 128.166 Q115.649 119.416 118.705 114.833 Q121.783 110.227 127.593 110.227 Z\" fill=\"#000000\" fill-rule=\"nonzero\" fill-opacity=\"1\" /><path clip-path=\"url(#clip280)\" d=\"M147.755 139.532 L152.64 139.532 L152.64 145.412 L147.755 145.412 L147.755 139.532 Z\" fill=\"#000000\" fill-rule=\"nonzero\" fill-opacity=\"1\" /><path clip-path=\"url(#clip280)\" d=\"M161.644 110.852 L183.866 110.852 L183.866 112.842 L171.32 145.412 L166.436 145.412 L178.241 114.787 L161.644 114.787 L161.644 110.852 Z\" fill=\"#000000\" fill-rule=\"nonzero\" fill-opacity=\"1\" /><path clip-path=\"url(#clip280)\" d=\"M20.8447 1043.55 Q20.8447 1050.55 26.0645 1054.69 Q31.2844 1058.8 40.2919 1058.8 Q49.2675 1058.8 54.4874 1054.69 Q59.7073 1050.55 59.7073 1043.55 Q59.7073 1036.55 54.4874 1032.47 Q49.2675 1028.37 40.2919 1028.37 Q31.2844 1028.37 26.0645 1032.47 Q20.8447 1036.55 20.8447 1043.55 M15.6248 1043.55 Q15.6248 1033.56 22.3406 1027.57 Q29.0246 1021.59 40.2919 1021.59 Q51.5274 1021.59 58.2432 1027.57 Q64.9272 1033.56 64.9272 1043.55 Q64.9272 1053.58 58.2432 1059.59 Q51.5592 1065.58 40.2919 1065.58 Q29.0246 1065.58 22.3406 1059.59 Q15.6248 1053.58 15.6248 1043.55 Z\" fill=\"#000000\" fill-rule=\"nonzero\" fill-opacity=\"1\" /><path clip-path=\"url(#clip280)\" d=\"M14.479 993.739 L19.3487 993.739 L19.3487 999.341 Q19.3487 1002.49 20.6219 1003.73 Q21.895 1004.94 25.2052 1004.94 L28.3562 1004.94 L28.3562 995.299 L32.9077 995.299 L32.9077 1004.94 L64.0042 1004.94 L64.0042 1010.83 L32.9077 1010.83 L32.9077 1016.43 L28.3562 1016.43 L28.3562 1010.83 L25.8736 1010.83 Q19.9216 1010.83 17.2162 1008.06 Q14.479 1005.29 14.479 999.277 L14.479 993.739 Z\" fill=\"#000000\" fill-rule=\"nonzero\" fill-opacity=\"1\" /><path clip-path=\"url(#clip280)\" d=\"M14.479 970.791 L19.3487 970.791 L19.3487 976.393 Q19.3487 979.544 20.6219 980.785 Q21.895 981.995 25.2052 981.995 L28.3562 981.995 L28.3562 972.35 L32.9077 972.35 L32.9077 981.995 L64.0042 981.995 L64.0042 987.883 L32.9077 987.883 L32.9077 993.485 L28.3562 993.485 L28.3562 987.883 L25.8736 987.883 Q19.9216 987.883 17.2162 985.114 Q14.479 982.345 14.479 976.329 L14.479 970.791 Z\" fill=\"#000000\" fill-rule=\"nonzero\" fill-opacity=\"1\" /><path clip-path=\"url(#clip280)\" d=\"M18.2347 961.242 L28.3562 961.242 L28.3562 949.179 L32.9077 949.179 L32.9077 961.242 L52.2594 961.242 Q56.6199 961.242 57.8613 960.065 Q59.1026 958.855 59.1026 955.195 L59.1026 949.179 L64.0042 949.179 L64.0042 955.195 Q64.0042 961.974 61.4897 964.552 Q58.9434 967.131 52.2594 967.131 L32.9077 967.131 L32.9077 971.427 L28.3562 971.427 L28.3562 967.131 L18.2347 967.131 L18.2347 961.242 Z\" fill=\"#000000\" fill-rule=\"nonzero\" fill-opacity=\"1\" /><path clip-path=\"url(#clip280)\" d=\"M46.0847 925.276 Q46.0847 932.374 47.7079 935.111 Q49.3312 937.848 53.2461 937.848 Q56.3653 937.848 58.2114 935.811 Q60.0256 933.742 60.0256 930.209 Q60.0256 925.34 56.5881 922.411 Q53.1188 919.451 47.3897 919.451 L46.0847 919.451 L46.0847 925.276 M43.6657 913.595 L64.0042 913.595 L64.0042 919.451 L58.5933 919.451 Q61.8398 921.457 63.3994 924.449 Q64.9272 927.44 64.9272 931.769 Q64.9272 937.244 61.8716 940.49 Q58.7843 943.705 53.6281 943.705 Q47.6125 943.705 44.5569 939.694 Q41.5014 935.652 41.5014 927.663 L41.5014 919.451 L40.9285 919.451 Q36.8862 919.451 34.6901 922.125 Q32.4621 924.767 32.4621 929.573 Q32.4621 932.628 33.1941 935.525 Q33.9262 938.421 35.3903 941.095 L29.9795 941.095 Q28.7381 937.88 28.1334 934.856 Q27.4968 931.833 27.4968 928.968 Q27.4968 921.234 31.5072 917.414 Q35.5176 913.595 43.6657 913.595 Z\" fill=\"#000000\" fill-rule=\"nonzero\" fill-opacity=\"1\" /><path clip-path=\"url(#clip280)\" d=\"M14.479 901.755 L14.479 895.866 L43.7294 895.866 L28.3562 878.393 L28.3562 870.913 L45.0344 889.819 L64.0042 870.117 L64.0042 877.756 L46.5939 895.866 L64.0042 895.866 L64.0042 901.755 L14.479 901.755 Z\" fill=\"#000000\" fill-rule=\"nonzero\" fill-opacity=\"1\" /><path clip-path=\"url(#clip280)\" d=\"M44.7161 835.615 L47.5806 835.615 L47.5806 862.542 Q53.6281 862.16 56.8109 858.914 Q59.9619 855.635 59.9619 849.811 Q59.9619 846.437 59.1344 843.286 Q58.3069 840.103 56.6518 836.984 L62.1899 836.984 Q63.5267 840.135 64.227 843.445 Q64.9272 846.755 64.9272 850.161 Q64.9272 858.691 59.9619 863.688 Q54.9967 868.653 46.5303 868.653 Q37.7774 868.653 32.6531 863.942 Q27.4968 859.2 27.4968 851.179 Q27.4968 843.986 32.1438 839.816 Q36.7589 835.615 44.7161 835.615 M42.9973 841.472 Q38.1912 841.535 35.3266 844.177 Q32.4621 846.787 32.4621 851.116 Q32.4621 856.017 35.2312 858.977 Q38.0002 861.905 43.0292 862.351 L42.9973 841.472 Z\" fill=\"#000000\" fill-rule=\"nonzero\" fill-opacity=\"1\" /><path clip-path=\"url(#clip280)\" d=\"M33.8307 805.346 Q33.2578 806.333 33.0032 807.51 Q32.7167 808.656 32.7167 810.057 Q32.7167 815.022 35.9632 817.696 Q39.1779 820.337 45.2253 820.337 L64.0042 820.337 L64.0042 826.226 L28.3562 826.226 L28.3562 820.337 L33.8944 820.337 Q30.6479 818.491 29.0883 815.531 Q27.4968 812.571 27.4968 808.338 Q27.4968 807.733 27.5923 807.001 Q27.656 806.269 27.8151 805.378 L33.8307 805.346 Z\" fill=\"#000000\" fill-rule=\"nonzero\" fill-opacity=\"1\" /><path clip-path=\"url(#clip280)\" d=\"M33.8307 757.826 Q33.2578 758.813 33.0032 759.99 Q32.7167 761.136 32.7167 762.537 Q32.7167 767.502 35.9632 770.176 Q39.1779 772.817 45.2253 772.817 L64.0042 772.817 L64.0042 778.706 L28.3562 778.706 L28.3562 772.817 L33.8944 772.817 Q30.6479 770.971 29.0883 768.011 Q27.4968 765.051 27.4968 760.818 Q27.4968 760.213 27.5923 759.481 Q27.656 758.749 27.8151 757.858 L33.8307 757.826 Z\" fill=\"#000000\" fill-rule=\"nonzero\" fill-opacity=\"1\" /><path clip-path=\"url(#clip280)\" d=\"M46.0847 735.483 Q46.0847 742.58 47.7079 745.318 Q49.3312 748.055 53.2461 748.055 Q56.3653 748.055 58.2114 746.018 Q60.0256 743.949 60.0256 740.416 Q60.0256 735.546 56.5881 732.618 Q53.1188 729.658 47.3897 729.658 L46.0847 729.658 L46.0847 735.483 M43.6657 723.801 L64.0042 723.801 L64.0042 729.658 L58.5933 729.658 Q61.8398 731.663 63.3994 734.655 Q64.9272 737.647 64.9272 741.976 Q64.9272 747.45 61.8716 750.697 Q58.7843 753.911 53.6281 753.911 Q47.6125 753.911 44.5569 749.901 Q41.5014 745.859 41.5014 737.87 L41.5014 729.658 L40.9285 729.658 Q36.8862 729.658 34.6901 732.331 Q32.4621 734.973 32.4621 739.779 Q32.4621 742.835 33.1941 745.731 Q33.9262 748.628 35.3903 751.301 L29.9795 751.301 Q28.7381 748.087 28.1334 745.063 Q27.4968 742.039 27.4968 739.175 Q27.4968 731.44 31.5072 727.621 Q35.5176 723.801 43.6657 723.801 Z\" fill=\"#000000\" fill-rule=\"nonzero\" fill-opacity=\"1\" /><path clip-path=\"url(#clip280)\" d=\"M18.2347 705.946 L28.3562 705.946 L28.3562 693.883 L32.9077 693.883 L32.9077 705.946 L52.2594 705.946 Q56.6199 705.946 57.8613 704.768 Q59.1026 703.558 59.1026 699.898 L59.1026 693.883 L64.0042 693.883 L64.0042 699.898 Q64.0042 706.678 61.4897 709.256 Q58.9434 711.834 52.2594 711.834 L32.9077 711.834 L32.9077 716.131 L28.3562 716.131 L28.3562 711.834 L18.2347 711.834 L18.2347 705.946 Z\" fill=\"#000000\" fill-rule=\"nonzero\" fill-opacity=\"1\" /><path clip-path=\"url(#clip280)\" d=\"M28.3562 686.18 L28.3562 680.324 L64.0042 680.324 L64.0042 686.18 L28.3562 686.18 M14.479 686.18 L14.479 680.324 L21.895 680.324 L21.895 686.18 L14.479 686.18 Z\" fill=\"#000000\" fill-rule=\"nonzero\" fill-opacity=\"1\" /><path clip-path=\"url(#clip280)\" d=\"M42.4881 638.437 L64.0042 638.437 L64.0042 644.294 L42.679 644.294 Q37.6183 644.294 35.1038 646.267 Q32.5894 648.241 32.5894 652.187 Q32.5894 656.93 35.6131 659.667 Q38.6368 662.404 43.8567 662.404 L64.0042 662.404 L64.0042 668.292 L28.3562 668.292 L28.3562 662.404 L33.8944 662.404 Q30.6797 660.304 29.0883 657.471 Q27.4968 654.606 27.4968 650.882 Q27.4968 644.739 31.3163 641.588 Q35.1038 638.437 42.4881 638.437 Z\" fill=\"#000000\" fill-rule=\"nonzero\" fill-opacity=\"1\" /><path clip-path=\"url(#clip280)\" d=\"M45.7664 603.299 Q39.4007 603.299 35.8996 605.94 Q32.3984 608.55 32.3984 613.293 Q32.3984 618.003 35.8996 620.645 Q39.4007 623.255 45.7664 623.255 Q52.1003 623.255 55.6014 620.645 Q59.1026 618.003 59.1026 613.293 Q59.1026 608.55 55.6014 605.94 Q52.1003 603.299 45.7664 603.299 M59.58 597.442 Q68.683 597.442 73.1071 601.484 Q77.5631 605.527 77.5631 613.866 Q77.5631 616.953 77.0857 619.69 Q76.6401 622.428 75.6852 625.006 L69.9879 625.006 Q71.3884 622.428 72.0568 619.913 Q72.7252 617.399 72.7252 614.789 Q72.7252 609.028 69.7015 606.163 Q66.7096 603.299 60.6303 603.299 L57.7339 603.299 Q60.885 605.113 62.4446 607.946 Q64.0042 610.778 64.0042 614.725 Q64.0042 621.282 59.0071 625.292 Q54.01 629.303 45.7664 629.303 Q37.491 629.303 32.4939 625.292 Q27.4968 621.282 27.4968 614.725 Q27.4968 610.778 29.0564 607.946 Q30.616 605.113 33.7671 603.299 L28.3562 603.299 L28.3562 597.442 L59.58 597.442 Z\" fill=\"#000000\" fill-rule=\"nonzero\" fill-opacity=\"1\" /><path clip-path=\"url(#clip280)\" d=\"M14.5426 550.591 Q21.8632 554.856 29.0246 556.924 Q36.186 558.993 43.5384 558.993 Q50.8908 558.993 58.1159 556.924 Q65.3091 554.824 72.5979 550.591 L72.5979 555.683 Q65.1182 560.457 57.8931 562.845 Q50.668 565.2 43.5384 565.2 Q36.4406 565.2 29.2474 562.845 Q22.0542 560.489 14.5426 555.683 L14.5426 550.591 Z\" fill=\"#000000\" fill-rule=\"nonzero\" fill-opacity=\"1\" /><path clip-path=\"url(#clip280)\" d=\"M16.4842 538.973 L16.4842 529.393 L48.8219 517.266 L16.4842 505.076 L16.4842 495.495 L64.0042 495.495 L64.0042 501.766 L22.277 501.766 L54.8694 514.02 L54.8694 520.481 L22.277 532.735 L64.0042 532.735 L64.0042 538.973 L16.4842 538.973 Z\" fill=\"#000000\" fill-rule=\"nonzero\" fill-opacity=\"1\" /><path clip-path=\"url(#clip280)\" d=\"M16.4842 486.965 L16.4842 480.472 L56.6518 470.478 L16.4842 460.516 L16.4842 453.291 L56.6518 443.297 L16.4842 433.334 L16.4842 426.809 L64.0042 438.745 L64.0042 446.83 L22.7544 456.856 L64.0042 466.977 L64.0042 475.061 L16.4842 486.965 Z\" fill=\"#000000\" fill-rule=\"nonzero\" fill-opacity=\"1\" /><path clip-path=\"url(#clip280)\" d=\"M14.5426 419.457 L14.5426 414.364 Q22.0542 409.59 29.2474 407.235 Q36.4406 404.848 43.5384 404.848 Q50.668 404.848 57.8931 407.235 Q65.1182 409.59 72.5979 414.364 L72.5979 419.457 Q65.3091 415.224 58.1159 413.155 Q50.8908 411.054 43.5384 411.054 Q36.186 411.054 29.0246 413.155 Q21.8632 415.224 14.5426 419.457 Z\" fill=\"#000000\" fill-rule=\"nonzero\" fill-opacity=\"1\" /><polyline clip-path=\"url(#clip282)\" style=\"stroke:#009af9; stroke-linecap:round; stroke-linejoin:round; stroke-width:4; stroke-opacity:1; fill:none\" points=\"280.231,1384.24 300.556,1384.24 320.881,1078.82 341.206,1384.24 361.53,1384.24 381.855,1384.24 402.18,1384.24 422.505,1384.24 442.83,1384.24 463.155,1384.24 483.48,1384.24 503.804,1384.24 524.129,1384.24 544.454,1384.24 564.779,1384.24 585.104,1384.24 605.429,1384.24 625.753,1384.24 646.078,1384.24 666.403,1384.24 686.728,1384.24 707.053,1384.24 727.378,1384.24 747.703,1384.24 768.027,1384.24 788.352,1384.24 808.677,1384.24 829.002,1384.24 849.327,1384.24 869.652,1384.24 889.977,1384.24 910.301,1384.24 930.626,1384.24 950.951,1384.24 971.276,1384.24 991.601,1384.24 1011.93,1384.24 1032.25,1384.24 1052.58,1384.24 1072.9,1384.24 1093.23,1384.24 1113.55,1384.24 1133.87,1384.24 1154.2,1384.24 1174.52,1307.9 1194.85,1002.46 1215.17,697.043 1235.5,391.604 1255.82,86.1857 1276.15,86.1857 1296.47,174.385 1316.8,479.802 1337.12,174.385 1357.45,479.802 1377.77,785.242 1398.1,1090.66 1418.42,785.242 1438.75,479.802 1459.07,174.385 1479.4,86.1857 1499.72,86.1857 1520.05,86.1857 1540.37,86.1857 1560.7,86.1857 1581.02,86.1857 1601.35,86.1857 1621.67,86.1857 1642,86.1857 1662.32,86.1857 1682.65,86.1857 1702.97,86.1857 1723.3,86.1857 1743.62,86.1857 1763.95,86.1857 1784.27,86.1857 1804.59,86.1857 1824.92,86.1857 1845.24,86.1857 1865.57,86.1857 1885.89,86.1857 1906.22,86.1857 1926.54,86.1857 1946.87,86.1857 1967.19,86.1857 1987.52,86.1857 2007.84,86.1857 2028.17,86.1857 2048.49,86.1857 2068.82,86.1857 2089.14,86.1857 2109.47,86.1857 2129.79,86.1857 2150.12,86.1857 2170.44,86.1857 2190.77,86.1857 2211.09,86.1857 2231.42,86.1857 2251.74,389.652 2272.07,467.157 2292.39,366.101 \"/>\n",
       "<path clip-path=\"url(#clip280)\" d=\"M290.963 196.789 L556.682 196.789 L556.682 93.1086 L290.963 93.1086  Z\" fill=\"#ffffff\" fill-rule=\"evenodd\" fill-opacity=\"1\"/>\n",
       "<polyline clip-path=\"url(#clip280)\" style=\"stroke:#000000; stroke-linecap:round; stroke-linejoin:round; stroke-width:4; stroke-opacity:1; fill:none\" points=\"290.963,196.789 556.682,196.789 556.682,93.1086 290.963,93.1086 290.963,196.789 \"/>\n",
       "<polyline clip-path=\"url(#clip280)\" style=\"stroke:#009af9; stroke-linecap:round; stroke-linejoin:round; stroke-width:4; stroke-opacity:1; fill:none\" points=\"314.661,144.949 456.854,144.949 \"/>\n",
       "<path clip-path=\"url(#clip280)\" d=\"M494.395 164.636 Q492.59 169.266 490.877 170.678 Q489.164 172.09 486.293 172.09 L482.891 172.09 L482.891 168.525 L485.391 168.525 Q487.15 168.525 488.122 167.692 Q489.094 166.858 490.275 163.756 L491.039 161.812 L480.553 136.303 L485.067 136.303 L493.168 156.581 L501.27 136.303 L505.784 136.303 L494.395 164.636 Z\" fill=\"#000000\" fill-rule=\"nonzero\" fill-opacity=\"1\" /><path clip-path=\"url(#clip280)\" d=\"M513.076 158.293 L520.715 158.293 L520.715 131.928 L512.404 133.595 L512.404 129.335 L520.668 127.669 L525.344 127.669 L525.344 158.293 L532.983 158.293 L532.983 162.229 L513.076 162.229 L513.076 158.293 Z\" fill=\"#000000\" fill-rule=\"nonzero\" fill-opacity=\"1\" /></svg>\n"
      ]
     },
     "execution_count": 176,
     "metadata": {},
     "output_type": "execute_result"
    }
   ],
   "source": [
    "plot(answer.p[2].f_t[1:100])\n",
    "xaxis!(\"Hour (h)\")\n",
    "yaxis!(\"Offtaker rating (MW)\")"
   ]
  },
  {
   "cell_type": "markdown",
   "metadata": {},
   "source": [
    "Now the solution does not have so intense spikes that would make it difficult to operate, but we see that it is necessary to increase the hydrogen storage to the maximum to keep on with the overall hydrogen production."
   ]
  },
  {
   "cell_type": "markdown",
   "metadata": {},
   "source": [
    "### Adding a compressor consumption"
   ]
  },
  {
   "cell_type": "markdown",
   "metadata": {},
   "source": [
    "In general, hydrogen is stored in the compressed form, which consumes electricity. Therefore, we were being a bit optimistic in the previous analysis. We can try to include the extra consumptions of power by adding Techs that represent the compressor and modifying the hydrogen resources type to differentiate the hydrogen produced from the hydrogen compressed. For instance, assuming a specific consumution of 4 kWh/kg H2, our compressor can be written as:\n",
    "\n",
    "\n",
    "\n",
    "        (power) ----> aec --(h2)--> compressor --(h2_200bar)--> store --(h2_200bar)--> offtaker --(h2_plant)-->\n",
    "                |\n",
    "                --(power)-->[cut]"
   ]
  },
  {
   "cell_type": "code",
   "execution_count": 181,
   "metadata": {},
   "outputs": [
    {
     "data": {
      "text/plain": [
       "Tech(\"compressor\", Resource[Resource(ResourceType(\"H2\", Real[1;;], \"MW\"), Real[10], Real[0 0; 1 1]), Resource(ResourceType(\"power\", Real[0;;], \"MW\"), Real[1.2012012012012012], Real[0 0; 1 1])], Resource[Resource(ResourceType(\"h2_200bar\", Real[1;;], \"MW\"), Real[10], Real[0 0; 1 1])], Heat[], Matrix{Real}[[0.0 0.0; 1000.0 0.0]], (0, 1000.0), (0, 1), (-1, 1), true, 1, Real[1])"
      ]
     },
     "execution_count": 181,
     "metadata": {},
     "output_type": "execute_result"
    }
   ],
   "source": [
    "spec_cons = 4/33.3 # kWh_power/kg_h2 / (kWh_h2/kg_h2)\n",
    "\n",
    "comp_in = [Resource(t=hydrogen,r=[10]),\n",
    "           Resource(t=power,r=[spec_cons*10])]\n",
    "\n",
    "h2_comp = ResourceType(n=\"h2_200bar\",u=\"MW\",c=[1;;]) \n",
    "comp_out = [Resource(t=h2_comp,r=[10])]\n",
    "\n",
    "h2Comp = Tech(n=\"compressor\",i=comp_in,o=comp_out)"
   ]
  },
  {
   "cell_type": "markdown",
   "metadata": {},
   "source": [
    "Now, we just need to change the type of hydrogen being stored and taken from the offtaker:"
   ]
  },
  {
   "cell_type": "code",
   "execution_count": 182,
   "metadata": {},
   "outputs": [
    {
     "data": {
      "text/plain": [
       "ResourceType(\"h2_200bar\", Real[1;;], \"MW\")"
      ]
     },
     "execution_count": 182,
     "metadata": {},
     "output_type": "execute_result"
    }
   ],
   "source": [
    "h2Store.t = h2_comp\n",
    "offtaker.i[1].t = h2_comp"
   ]
  },
  {
   "cell_type": "markdown",
   "metadata": {},
   "source": [
    "The new problem looks like this:"
   ]
  },
  {
   "cell_type": "code",
   "execution_count": 183,
   "metadata": {},
   "outputs": [
    {
     "data": {
      "application/vnd.plotly.v1+json": {
       "config": {
        "editable": false,
        "responsive": true,
        "scrollZoom": true,
        "showLink": false,
        "staticPlot": false
       },
       "data": [
        {
         "line": {
          "color": "#888",
          "width": 0.5
         },
         "mode": "lines",
         "type": "scatter",
         "x": [
          1,
          0.6505099058119934,
          null,
          -0.5998785463830254,
          -1,
          null,
          0.3786425263774922,
          -0.1174719274917162,
          null,
          -0.16375896159932402,
          -0.1174719274917162,
          null,
          -0.1174719274917162,
          -0.5998785463830254,
          null,
          0.8030479555583048,
          1,
          null,
          0.8030479555583048,
          0.3786425263774922,
          null,
          0.6505099058119934,
          0.3786425263774922,
          null
         ],
         "y": [
          0.9496351677181956,
          1,
          null,
          -0.08976374887868843,
          -0.053894848810292384,
          null,
          0.31909504561882396,
          -0.16974553009552806,
          null,
          -1,
          -0.16974553009552806,
          null,
          -0.16974553009552806,
          -0.08976374887868843,
          null,
          0.3375868181682504,
          0.9496351677181956,
          null,
          0.3375868181682504,
          0.31909504561882396,
          null,
          1,
          0.31909504561882396,
          null
         ]
        },
        {
         "marker": {
          "color": "red",
          "size": 10,
          "symbol": "square"
         },
         "mode": "markers+text",
         "name": "Process",
         "text": [
          "AWE",
          "offtaker",
          "compressor"
         ],
         "type": "scatter",
         "x": [
          1,
          -0.5998785463830254,
          0.3786425263774922
         ],
         "y": [
          0.9496351677181956,
          -0.08976374887868843,
          0.31909504561882396
         ]
        },
        {
         "marker": {
          "color": "yellow",
          "size": 10,
          "symbol": "diamond"
         },
         "mode": "markers+text",
         "name": "Storage",
         "text": [
          "H2 tank"
         ],
         "type": "scatter",
         "x": [
          -0.16375896159932402
         ],
         "y": [
          -1
         ]
        },
        {
         "marker": {
          "color": "#90EE90",
          "size": 10,
          "symbol": "circle"
         },
         "mode": "markers+text",
         "name": "Resource",
         "text": [
          "h2_200bar",
          "power",
          "H2_plant",
          "H2"
         ],
         "type": "scatter",
         "x": [
          -0.1174719274917162,
          0.8030479555583048,
          -1,
          0.6505099058119934
         ],
         "y": [
          -0.16974553009552806,
          0.3375868181682504,
          -0.053894848810292384,
          1
         ]
        }
       ],
       "frames": [],
       "layout": {
        "hovermode": "closest",
        "margin": {
         "b": 50,
         "l": 50,
         "r": 50,
         "t": 60
        },
        "showarrow": false,
        "showlegend": false,
        "template": {
         "data": {
          "bar": [
           {
            "error_x": {
             "color": "#2a3f5f"
            },
            "error_y": {
             "color": "#2a3f5f"
            },
            "marker": {
             "line": {
              "color": "#E5ECF6",
              "width": 0.5
             }
            },
            "type": "bar"
           }
          ],
          "barpolar": [
           {
            "marker": {
             "line": {
              "color": "#E5ECF6",
              "width": 0.5
             }
            },
            "type": "barpolar"
           }
          ],
          "carpet": [
           {
            "aaxis": {
             "endlinecolor": "#2a3f5f",
             "gridcolor": "white",
             "linecolor": "white",
             "minorgridcolor": "white",
             "startlinecolor": "#2a3f5f"
            },
            "baxis": {
             "endlinecolor": "#2a3f5f",
             "gridcolor": "white",
             "linecolor": "white",
             "minorgridcolor": "white",
             "startlinecolor": "#2a3f5f"
            },
            "type": "carpet"
           }
          ],
          "choropleth": [
           {
            "colorbar": {
             "outlinewidth": 0,
             "ticks": ""
            },
            "type": "choropleth"
           }
          ],
          "contour": [
           {
            "colorbar": {
             "outlinewidth": 0,
             "ticks": ""
            },
            "colorscale": [
             [
              0,
              "#0d0887"
             ],
             [
              0.1111111111111111,
              "#46039f"
             ],
             [
              0.2222222222222222,
              "#7201a8"
             ],
             [
              0.3333333333333333,
              "#9c179e"
             ],
             [
              0.4444444444444444,
              "#bd3786"
             ],
             [
              0.5555555555555556,
              "#d8576b"
             ],
             [
              0.6666666666666666,
              "#ed7953"
             ],
             [
              0.7777777777777778,
              "#fb9f3a"
             ],
             [
              0.8888888888888888,
              "#fdca26"
             ],
             [
              1,
              "#f0f921"
             ]
            ],
            "type": "contour"
           }
          ],
          "contourcarpet": [
           {
            "colorbar": {
             "outlinewidth": 0,
             "ticks": ""
            },
            "type": "contourcarpet"
           }
          ],
          "heatmap": [
           {
            "colorbar": {
             "outlinewidth": 0,
             "ticks": ""
            },
            "colorscale": [
             [
              0,
              "#0d0887"
             ],
             [
              0.1111111111111111,
              "#46039f"
             ],
             [
              0.2222222222222222,
              "#7201a8"
             ],
             [
              0.3333333333333333,
              "#9c179e"
             ],
             [
              0.4444444444444444,
              "#bd3786"
             ],
             [
              0.5555555555555556,
              "#d8576b"
             ],
             [
              0.6666666666666666,
              "#ed7953"
             ],
             [
              0.7777777777777778,
              "#fb9f3a"
             ],
             [
              0.8888888888888888,
              "#fdca26"
             ],
             [
              1,
              "#f0f921"
             ]
            ],
            "type": "heatmap"
           }
          ],
          "heatmapgl": [
           {
            "colorbar": {
             "outlinewidth": 0,
             "ticks": ""
            },
            "colorscale": [
             [
              0,
              "#0d0887"
             ],
             [
              0.1111111111111111,
              "#46039f"
             ],
             [
              0.2222222222222222,
              "#7201a8"
             ],
             [
              0.3333333333333333,
              "#9c179e"
             ],
             [
              0.4444444444444444,
              "#bd3786"
             ],
             [
              0.5555555555555556,
              "#d8576b"
             ],
             [
              0.6666666666666666,
              "#ed7953"
             ],
             [
              0.7777777777777778,
              "#fb9f3a"
             ],
             [
              0.8888888888888888,
              "#fdca26"
             ],
             [
              1,
              "#f0f921"
             ]
            ],
            "type": "heatmapgl"
           }
          ],
          "histogram": [
           {
            "marker": {
             "colorbar": {
              "outlinewidth": 0,
              "ticks": ""
             }
            },
            "type": "histogram"
           }
          ],
          "histogram2d": [
           {
            "colorbar": {
             "outlinewidth": 0,
             "ticks": ""
            },
            "colorscale": [
             [
              0,
              "#0d0887"
             ],
             [
              0.1111111111111111,
              "#46039f"
             ],
             [
              0.2222222222222222,
              "#7201a8"
             ],
             [
              0.3333333333333333,
              "#9c179e"
             ],
             [
              0.4444444444444444,
              "#bd3786"
             ],
             [
              0.5555555555555556,
              "#d8576b"
             ],
             [
              0.6666666666666666,
              "#ed7953"
             ],
             [
              0.7777777777777778,
              "#fb9f3a"
             ],
             [
              0.8888888888888888,
              "#fdca26"
             ],
             [
              1,
              "#f0f921"
             ]
            ],
            "type": "histogram2d"
           }
          ],
          "histogram2dcontour": [
           {
            "colorbar": {
             "outlinewidth": 0,
             "ticks": ""
            },
            "colorscale": [
             [
              0,
              "#0d0887"
             ],
             [
              0.1111111111111111,
              "#46039f"
             ],
             [
              0.2222222222222222,
              "#7201a8"
             ],
             [
              0.3333333333333333,
              "#9c179e"
             ],
             [
              0.4444444444444444,
              "#bd3786"
             ],
             [
              0.5555555555555556,
              "#d8576b"
             ],
             [
              0.6666666666666666,
              "#ed7953"
             ],
             [
              0.7777777777777778,
              "#fb9f3a"
             ],
             [
              0.8888888888888888,
              "#fdca26"
             ],
             [
              1,
              "#f0f921"
             ]
            ],
            "type": "histogram2dcontour"
           }
          ],
          "mesh3d": [
           {
            "colorbar": {
             "outlinewidth": 0,
             "ticks": ""
            },
            "type": "mesh3d"
           }
          ],
          "parcoords": [
           {
            "line": {
             "colorbar": {
              "outlinewidth": 0,
              "ticks": ""
             }
            },
            "type": "parcoords"
           }
          ],
          "pie": [
           {
            "automargin": true,
            "type": "pie"
           }
          ],
          "scatter": [
           {
            "marker": {
             "colorbar": {
              "outlinewidth": 0,
              "ticks": ""
             }
            },
            "type": "scatter"
           }
          ],
          "scatter3d": [
           {
            "line": {
             "colorbar": {
              "outlinewidth": 0,
              "ticks": ""
             }
            },
            "marker": {
             "colorbar": {
              "outlinewidth": 0,
              "ticks": ""
             }
            },
            "type": "scatter3d"
           }
          ],
          "scattercarpet": [
           {
            "marker": {
             "colorbar": {
              "outlinewidth": 0,
              "ticks": ""
             }
            },
            "type": "scattercarpet"
           }
          ],
          "scattergeo": [
           {
            "marker": {
             "colorbar": {
              "outlinewidth": 0,
              "ticks": ""
             }
            },
            "type": "scattergeo"
           }
          ],
          "scattergl": [
           {
            "marker": {
             "colorbar": {
              "outlinewidth": 0,
              "ticks": ""
             }
            },
            "type": "scattergl"
           }
          ],
          "scattermapbox": [
           {
            "marker": {
             "colorbar": {
              "outlinewidth": 0,
              "ticks": ""
             }
            },
            "type": "scattermapbox"
           }
          ],
          "scatterpolar": [
           {
            "marker": {
             "colorbar": {
              "outlinewidth": 0,
              "ticks": ""
             }
            },
            "type": "scatterpolar"
           }
          ],
          "scatterpolargl": [
           {
            "marker": {
             "colorbar": {
              "outlinewidth": 0,
              "ticks": ""
             }
            },
            "type": "scatterpolargl"
           }
          ],
          "scatterternary": [
           {
            "marker": {
             "colorbar": {
              "outlinewidth": 0,
              "ticks": ""
             }
            },
            "type": "scatterternary"
           }
          ],
          "surface": [
           {
            "colorbar": {
             "outlinewidth": 0,
             "ticks": ""
            },
            "colorscale": [
             [
              0,
              "#0d0887"
             ],
             [
              0.1111111111111111,
              "#46039f"
             ],
             [
              0.2222222222222222,
              "#7201a8"
             ],
             [
              0.3333333333333333,
              "#9c179e"
             ],
             [
              0.4444444444444444,
              "#bd3786"
             ],
             [
              0.5555555555555556,
              "#d8576b"
             ],
             [
              0.6666666666666666,
              "#ed7953"
             ],
             [
              0.7777777777777778,
              "#fb9f3a"
             ],
             [
              0.8888888888888888,
              "#fdca26"
             ],
             [
              1,
              "#f0f921"
             ]
            ],
            "type": "surface"
           }
          ],
          "table": [
           {
            "cells": {
             "fill": {
              "color": "#EBF0F8"
             },
             "line": {
              "color": "white"
             }
            },
            "header": {
             "fill": {
              "color": "#C8D4E3"
             },
             "line": {
              "color": "white"
             }
            },
            "type": "table"
           }
          ]
         },
         "layout": {
          "annotationdefaults": {
           "arrowcolor": "#2a3f5f",
           "arrowhead": 0,
           "arrowwidth": 1
          },
          "autotypenumbers": "strict",
          "coloraxis": {
           "colorbar": {
            "outlinewidth": 0,
            "ticks": ""
           }
          },
          "colorscale": {
           "diverging": [
            [
             0,
             "#8e0152"
            ],
            [
             0.1,
             "#c51b7d"
            ],
            [
             0.2,
             "#de77ae"
            ],
            [
             0.3,
             "#f1b6da"
            ],
            [
             0.4,
             "#fde0ef"
            ],
            [
             0.5,
             "#f7f7f7"
            ],
            [
             0.6,
             "#e6f5d0"
            ],
            [
             0.7,
             "#b8e186"
            ],
            [
             0.8,
             "#7fbc41"
            ],
            [
             0.9,
             "#4d9221"
            ],
            [
             1,
             "#276419"
            ]
           ],
           "sequential": [
            [
             0,
             "#0d0887"
            ],
            [
             0.1111111111111111,
             "#46039f"
            ],
            [
             0.2222222222222222,
             "#7201a8"
            ],
            [
             0.3333333333333333,
             "#9c179e"
            ],
            [
             0.4444444444444444,
             "#bd3786"
            ],
            [
             0.5555555555555556,
             "#d8576b"
            ],
            [
             0.6666666666666666,
             "#ed7953"
            ],
            [
             0.7777777777777778,
             "#fb9f3a"
            ],
            [
             0.8888888888888888,
             "#fdca26"
            ],
            [
             1,
             "#f0f921"
            ]
           ],
           "sequentialminus": [
            [
             0,
             "#0d0887"
            ],
            [
             0.1111111111111111,
             "#46039f"
            ],
            [
             0.2222222222222222,
             "#7201a8"
            ],
            [
             0.3333333333333333,
             "#9c179e"
            ],
            [
             0.4444444444444444,
             "#bd3786"
            ],
            [
             0.5555555555555556,
             "#d8576b"
            ],
            [
             0.6666666666666666,
             "#ed7953"
            ],
            [
             0.7777777777777778,
             "#fb9f3a"
            ],
            [
             0.8888888888888888,
             "#fdca26"
            ],
            [
             1,
             "#f0f921"
            ]
           ]
          },
          "colorway": [
           "#636efa",
           "#EF553B",
           "#00cc96",
           "#ab63fa",
           "#FFA15A",
           "#19d3f3",
           "#FF6692",
           "#B6E880",
           "#FF97FF",
           "#FECB52"
          ],
          "font": {
           "color": "#2a3f5f"
          },
          "geo": {
           "bgcolor": "white",
           "lakecolor": "white",
           "landcolor": "#E5ECF6",
           "showlakes": true,
           "showland": true,
           "subunitcolor": "white"
          },
          "hoverlabel": {
           "align": "left"
          },
          "hovermode": "closest",
          "mapbox": {
           "style": "light"
          },
          "paper_bgcolor": "white",
          "plot_bgcolor": "#E5ECF6",
          "polar": {
           "angularaxis": {
            "gridcolor": "white",
            "linecolor": "white",
            "ticks": ""
           },
           "bgcolor": "#E5ECF6",
           "radialaxis": {
            "gridcolor": "white",
            "linecolor": "white",
            "ticks": ""
           }
          },
          "scene": {
           "xaxis": {
            "backgroundcolor": "#E5ECF6",
            "gridcolor": "white",
            "gridwidth": 2,
            "linecolor": "white",
            "showbackground": true,
            "ticks": "",
            "zerolinecolor": "white"
           },
           "yaxis": {
            "backgroundcolor": "#E5ECF6",
            "gridcolor": "white",
            "gridwidth": 2,
            "linecolor": "white",
            "showbackground": true,
            "ticks": "",
            "zerolinecolor": "white"
           },
           "zaxis": {
            "backgroundcolor": "#E5ECF6",
            "gridcolor": "white",
            "gridwidth": 2,
            "linecolor": "white",
            "showbackground": true,
            "ticks": "",
            "zerolinecolor": "white"
           }
          },
          "shapedefaults": {
           "line": {
            "color": "#2a3f5f"
           }
          },
          "ternary": {
           "aaxis": {
            "gridcolor": "white",
            "linecolor": "white",
            "ticks": ""
           },
           "baxis": {
            "gridcolor": "white",
            "linecolor": "white",
            "ticks": ""
           },
           "bgcolor": "#E5ECF6",
           "caxis": {
            "gridcolor": "white",
            "linecolor": "white",
            "ticks": ""
           }
          },
          "title": {
           "x": 0.05
          },
          "xaxis": {
           "automargin": true,
           "gridcolor": "white",
           "linecolor": "white",
           "ticks": "",
           "title": {
            "standoff": 15
           },
           "zerolinecolor": "white",
           "zerolinewidth": 2
          },
          "yaxis": {
           "automargin": true,
           "gridcolor": "white",
           "linecolor": "white",
           "ticks": "",
           "title": {
            "standoff": 15
           },
           "zerolinecolor": "white",
           "zerolinewidth": 2
          }
         }
        },
        "titlefont": {
         "size": 16
        },
        "xaxis": {
         "showgrid": false,
         "showticklabels": false,
         "zeroline": false
        },
        "yaxis": {
         "showgrid": false,
         "showticklabels": false,
         "zeroline": false
        }
       }
      },
      "text/html": [
       "<div\n",
       "    class=\"webio-mountpoint\"\n",
       "    data-webio-mountpoint=\"3839997923968665077\"\n",
       ">\n",
       "    <script>\n",
       "    (function(){\n",
       "    // Some integrations (namely, IJulia/Jupyter) use an alternate render pathway than\n",
       "    // just putting the html on the page. If WebIO isn't defined, then it's pretty likely\n",
       "    // that we're in one of those situations and the integration just isn't installed\n",
       "    // correctly.\n",
       "    if (typeof window.WebIO === \"undefined\") {\n",
       "        document\n",
       "            .querySelector('[data-webio-mountpoint=\"3839997923968665077\"]')\n",
       "            .innerHTML = (\n",
       "                '<div style=\"padding: 1em; background-color: #f8d6da; border: 1px solid #f5c6cb; font-weight: bold;\">' +\n",
       "                '<p><strong>WebIO not detected.</strong></p>' +\n",
       "                '<p>Please read ' +\n",
       "                '<a href=\"https://juliagizmos.github.io/WebIO.jl/latest/troubleshooting/not-detected/\" target=\"_blank\">the troubleshooting guide</a> ' +\n",
       "                'for more information on how to resolve this issue.</p>' +\n",
       "                '<p><a href=\"https://juliagizmos.github.io/WebIO.jl/latest/troubleshooting/not-detected/\" target=\"_blank\">https://juliagizmos.github.io/WebIO.jl/latest/troubleshooting/not-detected/</a></p>' +\n",
       "                '</div>'\n",
       "            );\n",
       "        return;\n",
       "    }\n",
       "    WebIO.mount(\n",
       "        document.querySelector('[data-webio-mountpoint=\"3839997923968665077\"]'),\n",
       "        {\"props\":{},\"nodeType\":\"Scope\",\"type\":\"node\",\"instanceArgs\":{\"imports\":{\"data\":[{\"name\":\"Plotly\",\"type\":\"js\",\"url\":\"\\/assetserver\\/0920e676c106f32ba509e3957ec7f2e1975e6dda-plotly.min.js\"},{\"name\":null,\"type\":\"js\",\"url\":\"\\/assetserver\\/bfb0d919d1a65ca40988867ef64bbd1fc7547d8b-plotly_webio.bundle.js\"}],\"type\":\"async_block\"},\"id\":\"3286842555679524376\",\"handlers\":{\"_toImage\":[\"(function (options){return this.Plotly.toImage(this.plotElem,options).then((function (data){return WebIO.setval({\\\"name\\\":\\\"image\\\",\\\"scope\\\":\\\"3286842555679524376\\\",\\\"id\\\":\\\"135\\\",\\\"type\\\":\\\"observable\\\"},data)}))})\"],\"__get_gd_contents\":[\"(function (prop){prop==\\\"data\\\" ? (WebIO.setval({\\\"name\\\":\\\"__gd_contents\\\",\\\"scope\\\":\\\"3286842555679524376\\\",\\\"id\\\":\\\"136\\\",\\\"type\\\":\\\"observable\\\"},this.plotElem.data)) : undefined; return prop==\\\"layout\\\" ? (WebIO.setval({\\\"name\\\":\\\"__gd_contents\\\",\\\"scope\\\":\\\"3286842555679524376\\\",\\\"id\\\":\\\"136\\\",\\\"type\\\":\\\"observable\\\"},this.plotElem.layout)) : undefined})\"],\"_downloadImage\":[\"(function (options){return this.Plotly.downloadImage(this.plotElem,options)})\"],\"_commands\":[\"(function (args){var fn=args.shift(); var elem=this.plotElem; var Plotly=this.Plotly; args.unshift(elem); return Plotly[fn].apply(this,args)})\"]},\"systemjs_options\":null,\"mount_callbacks\":[\"function () {\\n    var handler = ((function (Plotly,PlotlyWebIO){PlotlyWebIO.init(WebIO); var gd=this.dom.querySelector(\\\"#plot-02be261d-19dd-420d-b8bc-7f772b0f483e\\\"); this.plotElem=gd; this.Plotly=Plotly; (window.Blink!==undefined) ? (gd.style.width=\\\"100%\\\", gd.style.height=\\\"100vh\\\", gd.style.marginLeft=\\\"0%\\\", gd.style.marginTop=\\\"0vh\\\") : undefined; window.onresize=(function (){return Plotly.Plots.resize(gd)}); Plotly.newPlot(gd,[{\\\"mode\\\":\\\"lines\\\",\\\"line\\\":{\\\"color\\\":\\\"#888\\\",\\\"width\\\":0.5},\\\"y\\\":[0.9496351677181956,1.0,null,-0.08976374887868843,-0.053894848810292384,null,0.31909504561882396,-0.16974553009552806,null,-1.0,-0.16974553009552806,null,-0.16974553009552806,-0.08976374887868843,null,0.3375868181682504,0.9496351677181956,null,0.3375868181682504,0.31909504561882396,null,1.0,0.31909504561882396,null],\\\"type\\\":\\\"scatter\\\",\\\"x\\\":[1.0,0.6505099058119934,null,-0.5998785463830254,-1.0,null,0.3786425263774922,-0.1174719274917162,null,-0.16375896159932402,-0.1174719274917162,null,-0.1174719274917162,-0.5998785463830254,null,0.8030479555583048,1.0,null,0.8030479555583048,0.3786425263774922,null,0.6505099058119934,0.3786425263774922,null]},{\\\"x\\\":[1.0,-0.5998785463830254,0.3786425263774922],\\\"mode\\\":\\\"markers+text\\\",\\\"y\\\":[0.9496351677181956,-0.08976374887868843,0.31909504561882396],\\\"type\\\":\\\"scatter\\\",\\\"name\\\":\\\"Process\\\",\\\"text\\\":[\\\"AWE\\\",\\\"offtaker\\\",\\\"compressor\\\"],\\\"marker\\\":{\\\"symbol\\\":\\\"square\\\",\\\"color\\\":\\\"red\\\",\\\"size\\\":10}},{\\\"x\\\":[-0.16375896159932402],\\\"mode\\\":\\\"markers+text\\\",\\\"y\\\":[-1.0],\\\"type\\\":\\\"scatter\\\",\\\"name\\\":\\\"Storage\\\",\\\"text\\\":[\\\"H2 tank\\\"],\\\"marker\\\":{\\\"symbol\\\":\\\"diamond\\\",\\\"color\\\":\\\"yellow\\\",\\\"size\\\":10}},{\\\"x\\\":[-0.1174719274917162,0.8030479555583048,-1.0,0.6505099058119934],\\\"mode\\\":\\\"markers+text\\\",\\\"y\\\":[-0.16974553009552806,0.3375868181682504,-0.053894848810292384,1.0],\\\"type\\\":\\\"scatter\\\",\\\"name\\\":\\\"Resource\\\",\\\"text\\\":[\\\"h2_200bar\\\",\\\"power\\\",\\\"H2_plant\\\",\\\"H2\\\"],\\\"marker\\\":{\\\"symbol\\\":\\\"circle\\\",\\\"color\\\":\\\"#90EE90\\\",\\\"size\\\":10}}],{\\\"showlegend\\\":false,\\\"xaxis\\\":{\\\"showgrid\\\":false,\\\"showticklabels\\\":false,\\\"zeroline\\\":false},\\\"hovermode\\\":\\\"closest\\\",\\\"titlefont\\\":{\\\"size\\\":16},\\\"template\\\":{\\\"layout\\\":{\\\"coloraxis\\\":{\\\"colorbar\\\":{\\\"ticks\\\":\\\"\\\",\\\"outlinewidth\\\":0}},\\\"xaxis\\\":{\\\"gridcolor\\\":\\\"white\\\",\\\"zerolinewidth\\\":2,\\\"title\\\":{\\\"standoff\\\":15},\\\"ticks\\\":\\\"\\\",\\\"zerolinecolor\\\":\\\"white\\\",\\\"automargin\\\":true,\\\"linecolor\\\":\\\"white\\\"},\\\"hovermode\\\":\\\"closest\\\",\\\"paper_bgcolor\\\":\\\"white\\\",\\\"geo\\\":{\\\"showlakes\\\":true,\\\"showland\\\":true,\\\"landcolor\\\":\\\"#E5ECF6\\\",\\\"bgcolor\\\":\\\"white\\\",\\\"subunitcolor\\\":\\\"white\\\",\\\"lakecolor\\\":\\\"white\\\"},\\\"colorscale\\\":{\\\"sequential\\\":[[0.0,\\\"#0d0887\\\"],[0.1111111111111111,\\\"#46039f\\\"],[0.2222222222222222,\\\"#7201a8\\\"],[0.3333333333333333,\\\"#9c179e\\\"],[0.4444444444444444,\\\"#bd3786\\\"],[0.5555555555555556,\\\"#d8576b\\\"],[0.6666666666666666,\\\"#ed7953\\\"],[0.7777777777777778,\\\"#fb9f3a\\\"],[0.8888888888888888,\\\"#fdca26\\\"],[1.0,\\\"#f0f921\\\"]],\\\"diverging\\\":[[0,\\\"#8e0152\\\"],[0.1,\\\"#c51b7d\\\"],[0.2,\\\"#de77ae\\\"],[0.3,\\\"#f1b6da\\\"],[0.4,\\\"#fde0ef\\\"],[0.5,\\\"#f7f7f7\\\"],[0.6,\\\"#e6f5d0\\\"],[0.7,\\\"#b8e186\\\"],[0.8,\\\"#7fbc41\\\"],[0.9,\\\"#4d9221\\\"],[1,\\\"#276419\\\"]],\\\"sequentialminus\\\":[[0.0,\\\"#0d0887\\\"],[0.1111111111111111,\\\"#46039f\\\"],[0.2222222222222222,\\\"#7201a8\\\"],[0.3333333333333333,\\\"#9c179e\\\"],[0.4444444444444444,\\\"#bd3786\\\"],[0.5555555555555556,\\\"#d8576b\\\"],[0.6666666666666666,\\\"#ed7953\\\"],[0.7777777777777778,\\\"#fb9f3a\\\"],[0.8888888888888888,\\\"#fdca26\\\"],[1.0,\\\"#f0f921\\\"]]},\\\"yaxis\\\":{\\\"gridcolor\\\":\\\"white\\\",\\\"zerolinewidth\\\":2,\\\"title\\\":{\\\"standoff\\\":15},\\\"ticks\\\":\\\"\\\",\\\"zerolinecolor\\\":\\\"white\\\",\\\"automargin\\\":true,\\\"linecolor\\\":\\\"white\\\"},\\\"shapedefaults\\\":{\\\"line\\\":{\\\"color\\\":\\\"#2a3f5f\\\"}},\\\"hoverlabel\\\":{\\\"align\\\":\\\"left\\\"},\\\"mapbox\\\":{\\\"style\\\":\\\"light\\\"},\\\"polar\\\":{\\\"angularaxis\\\":{\\\"gridcolor\\\":\\\"white\\\",\\\"ticks\\\":\\\"\\\",\\\"linecolor\\\":\\\"white\\\"},\\\"bgcolor\\\":\\\"#E5ECF6\\\",\\\"radialaxis\\\":{\\\"gridcolor\\\":\\\"white\\\",\\\"ticks\\\":\\\"\\\",\\\"linecolor\\\":\\\"white\\\"}},\\\"autotypenumbers\\\":\\\"strict\\\",\\\"font\\\":{\\\"color\\\":\\\"#2a3f5f\\\"},\\\"ternary\\\":{\\\"baxis\\\":{\\\"gridcolor\\\":\\\"white\\\",\\\"ticks\\\":\\\"\\\",\\\"linecolor\\\":\\\"white\\\"},\\\"bgcolor\\\":\\\"#E5ECF6\\\",\\\"caxis\\\":{\\\"gridcolor\\\":\\\"white\\\",\\\"ticks\\\":\\\"\\\",\\\"linecolor\\\":\\\"white\\\"},\\\"aaxis\\\":{\\\"gridcolor\\\":\\\"white\\\",\\\"ticks\\\":\\\"\\\",\\\"linecolor\\\":\\\"white\\\"}},\\\"annotationdefaults\\\":{\\\"arrowhead\\\":0,\\\"arrowwidth\\\":1,\\\"arrowcolor\\\":\\\"#2a3f5f\\\"},\\\"plot_bgcolor\\\":\\\"#E5ECF6\\\",\\\"title\\\":{\\\"x\\\":0.05},\\\"scene\\\":{\\\"xaxis\\\":{\\\"gridcolor\\\":\\\"white\\\",\\\"gridwidth\\\":2,\\\"backgroundcolor\\\":\\\"#E5ECF6\\\",\\\"ticks\\\":\\\"\\\",\\\"showbackground\\\":true,\\\"zerolinecolor\\\":\\\"white\\\",\\\"linecolor\\\":\\\"white\\\"},\\\"zaxis\\\":{\\\"gridcolor\\\":\\\"white\\\",\\\"gridwidth\\\":2,\\\"backgroundcolor\\\":\\\"#E5ECF6\\\",\\\"ticks\\\":\\\"\\\",\\\"showbackground\\\":true,\\\"zerolinecolor\\\":\\\"white\\\",\\\"linecolor\\\":\\\"white\\\"},\\\"yaxis\\\":{\\\"gridcolor\\\":\\\"white\\\",\\\"gridwidth\\\":2,\\\"backgroundcolor\\\":\\\"#E5ECF6\\\",\\\"ticks\\\":\\\"\\\",\\\"showbackground\\\":true,\\\"zerolinecolor\\\":\\\"white\\\",\\\"linecolor\\\":\\\"white\\\"}},\\\"colorway\\\":[\\\"#636efa\\\",\\\"#EF553B\\\",\\\"#00cc96\\\",\\\"#ab63fa\\\",\\\"#FFA15A\\\",\\\"#19d3f3\\\",\\\"#FF6692\\\",\\\"#B6E880\\\",\\\"#FF97FF\\\",\\\"#FECB52\\\"]},\\\"data\\\":{\\\"barpolar\\\":[{\\\"type\\\":\\\"barpolar\\\",\\\"marker\\\":{\\\"line\\\":{\\\"color\\\":\\\"#E5ECF6\\\",\\\"width\\\":0.5}}}],\\\"carpet\\\":[{\\\"aaxis\\\":{\\\"gridcolor\\\":\\\"white\\\",\\\"endlinecolor\\\":\\\"#2a3f5f\\\",\\\"minorgridcolor\\\":\\\"white\\\",\\\"startlinecolor\\\":\\\"#2a3f5f\\\",\\\"linecolor\\\":\\\"white\\\"},\\\"type\\\":\\\"carpet\\\",\\\"baxis\\\":{\\\"gridcolor\\\":\\\"white\\\",\\\"endlinecolor\\\":\\\"#2a3f5f\\\",\\\"minorgridcolor\\\":\\\"white\\\",\\\"startlinecolor\\\":\\\"#2a3f5f\\\",\\\"linecolor\\\":\\\"white\\\"}}],\\\"scatterpolar\\\":[{\\\"type\\\":\\\"scatterpolar\\\",\\\"marker\\\":{\\\"colorbar\\\":{\\\"ticks\\\":\\\"\\\",\\\"outlinewidth\\\":0}}}],\\\"parcoords\\\":[{\\\"line\\\":{\\\"colorbar\\\":{\\\"ticks\\\":\\\"\\\",\\\"outlinewidth\\\":0}},\\\"type\\\":\\\"parcoords\\\"}],\\\"scatter\\\":[{\\\"type\\\":\\\"scatter\\\",\\\"marker\\\":{\\\"colorbar\\\":{\\\"ticks\\\":\\\"\\\",\\\"outlinewidth\\\":0}}}],\\\"histogram2dcontour\\\":[{\\\"colorbar\\\":{\\\"ticks\\\":\\\"\\\",\\\"outlinewidth\\\":0},\\\"type\\\":\\\"histogram2dcontour\\\",\\\"colorscale\\\":[[0.0,\\\"#0d0887\\\"],[0.1111111111111111,\\\"#46039f\\\"],[0.2222222222222222,\\\"#7201a8\\\"],[0.3333333333333333,\\\"#9c179e\\\"],[0.4444444444444444,\\\"#bd3786\\\"],[0.5555555555555556,\\\"#d8576b\\\"],[0.6666666666666666,\\\"#ed7953\\\"],[0.7777777777777778,\\\"#fb9f3a\\\"],[0.8888888888888888,\\\"#fdca26\\\"],[1.0,\\\"#f0f921\\\"]]}],\\\"contour\\\":[{\\\"colorbar\\\":{\\\"ticks\\\":\\\"\\\",\\\"outlinewidth\\\":0},\\\"type\\\":\\\"contour\\\",\\\"colorscale\\\":[[0.0,\\\"#0d0887\\\"],[0.1111111111111111,\\\"#46039f\\\"],[0.2222222222222222,\\\"#7201a8\\\"],[0.3333333333333333,\\\"#9c179e\\\"],[0.4444444444444444,\\\"#bd3786\\\"],[0.5555555555555556,\\\"#d8576b\\\"],[0.6666666666666666,\\\"#ed7953\\\"],[0.7777777777777778,\\\"#fb9f3a\\\"],[0.8888888888888888,\\\"#fdca26\\\"],[1.0,\\\"#f0f921\\\"]]}],\\\"scattercarpet\\\":[{\\\"type\\\":\\\"scattercarpet\\\",\\\"marker\\\":{\\\"colorbar\\\":{\\\"ticks\\\":\\\"\\\",\\\"outlinewidth\\\":0}}}],\\\"mesh3d\\\":[{\\\"colorbar\\\":{\\\"ticks\\\":\\\"\\\",\\\"outlinewidth\\\":0},\\\"type\\\":\\\"mesh3d\\\"}],\\\"surface\\\":[{\\\"colorbar\\\":{\\\"ticks\\\":\\\"\\\",\\\"outlinewidth\\\":0},\\\"type\\\":\\\"surface\\\",\\\"colorscale\\\":[[0.0,\\\"#0d0887\\\"],[0.1111111111111111,\\\"#46039f\\\"],[0.2222222222222222,\\\"#7201a8\\\"],[0.3333333333333333,\\\"#9c179e\\\"],[0.4444444444444444,\\\"#bd3786\\\"],[0.5555555555555556,\\\"#d8576b\\\"],[0.6666666666666666,\\\"#ed7953\\\"],[0.7777777777777778,\\\"#fb9f3a\\\"],[0.8888888888888888,\\\"#fdca26\\\"],[1.0,\\\"#f0f921\\\"]]}],\\\"scattermapbox\\\":[{\\\"type\\\":\\\"scattermapbox\\\",\\\"marker\\\":{\\\"colorbar\\\":{\\\"ticks\\\":\\\"\\\",\\\"outlinewidth\\\":0}}}],\\\"scattergeo\\\":[{\\\"type\\\":\\\"scattergeo\\\",\\\"marker\\\":{\\\"colorbar\\\":{\\\"ticks\\\":\\\"\\\",\\\"outlinewidth\\\":0}}}],\\\"histogram\\\":[{\\\"type\\\":\\\"histogram\\\",\\\"marker\\\":{\\\"colorbar\\\":{\\\"ticks\\\":\\\"\\\",\\\"outlinewidth\\\":0}}}],\\\"pie\\\":[{\\\"type\\\":\\\"pie\\\",\\\"automargin\\\":true}],\\\"choropleth\\\":[{\\\"colorbar\\\":{\\\"ticks\\\":\\\"\\\",\\\"outlinewidth\\\":0},\\\"type\\\":\\\"choropleth\\\"}],\\\"heatmapgl\\\":[{\\\"colorbar\\\":{\\\"ticks\\\":\\\"\\\",\\\"outlinewidth\\\":0},\\\"type\\\":\\\"heatmapgl\\\",\\\"colorscale\\\":[[0.0,\\\"#0d0887\\\"],[0.1111111111111111,\\\"#46039f\\\"],[0.2222222222222222,\\\"#7201a8\\\"],[0.3333333333333333,\\\"#9c179e\\\"],[0.4444444444444444,\\\"#bd3786\\\"],[0.5555555555555556,\\\"#d8576b\\\"],[0.6666666666666666,\\\"#ed7953\\\"],[0.7777777777777778,\\\"#fb9f3a\\\"],[0.8888888888888888,\\\"#fdca26\\\"],[1.0,\\\"#f0f921\\\"]]}],\\\"bar\\\":[{\\\"type\\\":\\\"bar\\\",\\\"error_y\\\":{\\\"color\\\":\\\"#2a3f5f\\\"},\\\"error_x\\\":{\\\"color\\\":\\\"#2a3f5f\\\"},\\\"marker\\\":{\\\"line\\\":{\\\"color\\\":\\\"#E5ECF6\\\",\\\"width\\\":0.5}}}],\\\"heatmap\\\":[{\\\"colorbar\\\":{\\\"ticks\\\":\\\"\\\",\\\"outlinewidth\\\":0},\\\"type\\\":\\\"heatmap\\\",\\\"colorscale\\\":[[0.0,\\\"#0d0887\\\"],[0.1111111111111111,\\\"#46039f\\\"],[0.2222222222222222,\\\"#7201a8\\\"],[0.3333333333333333,\\\"#9c179e\\\"],[0.4444444444444444,\\\"#bd3786\\\"],[0.5555555555555556,\\\"#d8576b\\\"],[0.6666666666666666,\\\"#ed7953\\\"],[0.7777777777777778,\\\"#fb9f3a\\\"],[0.8888888888888888,\\\"#fdca26\\\"],[1.0,\\\"#f0f921\\\"]]}],\\\"contourcarpet\\\":[{\\\"colorbar\\\":{\\\"ticks\\\":\\\"\\\",\\\"outlinewidth\\\":0},\\\"type\\\":\\\"contourcarpet\\\"}],\\\"table\\\":[{\\\"type\\\":\\\"table\\\",\\\"header\\\":{\\\"line\\\":{\\\"color\\\":\\\"white\\\"},\\\"fill\\\":{\\\"color\\\":\\\"#C8D4E3\\\"}},\\\"cells\\\":{\\\"line\\\":{\\\"color\\\":\\\"white\\\"},\\\"fill\\\":{\\\"color\\\":\\\"#EBF0F8\\\"}}}],\\\"scatter3d\\\":[{\\\"line\\\":{\\\"colorbar\\\":{\\\"ticks\\\":\\\"\\\",\\\"outlinewidth\\\":0}},\\\"type\\\":\\\"scatter3d\\\",\\\"marker\\\":{\\\"colorbar\\\":{\\\"ticks\\\":\\\"\\\",\\\"outlinewidth\\\":0}}}],\\\"scattergl\\\":[{\\\"type\\\":\\\"scattergl\\\",\\\"marker\\\":{\\\"colorbar\\\":{\\\"ticks\\\":\\\"\\\",\\\"outlinewidth\\\":0}}}],\\\"histogram2d\\\":[{\\\"colorbar\\\":{\\\"ticks\\\":\\\"\\\",\\\"outlinewidth\\\":0},\\\"type\\\":\\\"histogram2d\\\",\\\"colorscale\\\":[[0.0,\\\"#0d0887\\\"],[0.1111111111111111,\\\"#46039f\\\"],[0.2222222222222222,\\\"#7201a8\\\"],[0.3333333333333333,\\\"#9c179e\\\"],[0.4444444444444444,\\\"#bd3786\\\"],[0.5555555555555556,\\\"#d8576b\\\"],[0.6666666666666666,\\\"#ed7953\\\"],[0.7777777777777778,\\\"#fb9f3a\\\"],[0.8888888888888888,\\\"#fdca26\\\"],[1.0,\\\"#f0f921\\\"]]}],\\\"scatterternary\\\":[{\\\"type\\\":\\\"scatterternary\\\",\\\"marker\\\":{\\\"colorbar\\\":{\\\"ticks\\\":\\\"\\\",\\\"outlinewidth\\\":0}}}],\\\"scatterpolargl\\\":[{\\\"type\\\":\\\"scatterpolargl\\\",\\\"marker\\\":{\\\"colorbar\\\":{\\\"ticks\\\":\\\"\\\",\\\"outlinewidth\\\":0}}}]}},\\\"showarrow\\\":false,\\\"margin\\\":{\\\"l\\\":50,\\\"b\\\":50,\\\"r\\\":50,\\\"t\\\":60},\\\"yaxis\\\":{\\\"showgrid\\\":false,\\\"showticklabels\\\":false,\\\"zeroline\\\":false}},{\\\"showLink\\\":false,\\\"editable\\\":false,\\\"responsive\\\":true,\\\"staticPlot\\\":false,\\\"scrollZoom\\\":true}); gd.on(\\\"plotly_hover\\\",(function (data){var filtered_data=WebIO.PlotlyCommands.filterEventData(gd,data,\\\"hover\\\"); return !(filtered_data.isnil) ? (WebIO.setval({\\\"name\\\":\\\"hover\\\",\\\"scope\\\":\\\"3286842555679524376\\\",\\\"id\\\":\\\"131\\\",\\\"type\\\":\\\"observable\\\"},filtered_data.out)) : undefined})); gd.on(\\\"plotly_unhover\\\",(function (){return WebIO.setval({\\\"name\\\":\\\"hover\\\",\\\"scope\\\":\\\"3286842555679524376\\\",\\\"id\\\":\\\"131\\\",\\\"type\\\":\\\"observable\\\"},{})})); gd.on(\\\"plotly_selected\\\",(function (data){var filtered_data=WebIO.PlotlyCommands.filterEventData(gd,data,\\\"selected\\\"); return !(filtered_data.isnil) ? (WebIO.setval({\\\"name\\\":\\\"selected\\\",\\\"scope\\\":\\\"3286842555679524376\\\",\\\"id\\\":\\\"132\\\",\\\"type\\\":\\\"observable\\\"},filtered_data.out)) : undefined})); gd.on(\\\"plotly_deselect\\\",(function (){return WebIO.setval({\\\"name\\\":\\\"selected\\\",\\\"scope\\\":\\\"3286842555679524376\\\",\\\"id\\\":\\\"132\\\",\\\"type\\\":\\\"observable\\\"},{})})); gd.on(\\\"plotly_relayout\\\",(function (data){var filtered_data=WebIO.PlotlyCommands.filterEventData(gd,data,\\\"relayout\\\"); return !(filtered_data.isnil) ? (WebIO.setval({\\\"name\\\":\\\"relayout\\\",\\\"scope\\\":\\\"3286842555679524376\\\",\\\"id\\\":\\\"134\\\",\\\"type\\\":\\\"observable\\\"},filtered_data.out)) : undefined})); return gd.on(\\\"plotly_click\\\",(function (data){var filtered_data=WebIO.PlotlyCommands.filterEventData(gd,data,\\\"click\\\"); return !(filtered_data.isnil) ? (WebIO.setval({\\\"name\\\":\\\"click\\\",\\\"scope\\\":\\\"3286842555679524376\\\",\\\"id\\\":\\\"133\\\",\\\"type\\\":\\\"observable\\\"},filtered_data.out)) : undefined}))}));\\n    (WebIO.importBlock({\\\"data\\\":[{\\\"name\\\":\\\"Plotly\\\",\\\"type\\\":\\\"js\\\",\\\"url\\\":\\\"\\/assetserver\\/0920e676c106f32ba509e3957ec7f2e1975e6dda-plotly.min.js\\\"},{\\\"name\\\":null,\\\"type\\\":\\\"js\\\",\\\"url\\\":\\\"\\/assetserver\\/bfb0d919d1a65ca40988867ef64bbd1fc7547d8b-plotly_webio.bundle.js\\\"}],\\\"type\\\":\\\"async_block\\\"})).then((imports) => handler.apply(this, imports));\\n}\\n\"],\"observables\":{\"_toImage\":{\"sync\":false,\"id\":\"138\",\"value\":{}},\"hover\":{\"sync\":false,\"id\":\"131\",\"value\":{}},\"selected\":{\"sync\":false,\"id\":\"132\",\"value\":{}},\"__gd_contents\":{\"sync\":false,\"id\":\"136\",\"value\":{}},\"click\":{\"sync\":false,\"id\":\"133\",\"value\":{}},\"image\":{\"sync\":true,\"id\":\"135\",\"value\":\"\"},\"__get_gd_contents\":{\"sync\":false,\"id\":\"140\",\"value\":\"\"},\"_downloadImage\":{\"sync\":false,\"id\":\"139\",\"value\":{}},\"relayout\":{\"sync\":false,\"id\":\"134\",\"value\":{}},\"_commands\":{\"sync\":false,\"id\":\"137\",\"value\":[]}}},\"children\":[{\"props\":{\"id\":\"plot-02be261d-19dd-420d-b8bc-7f772b0f483e\"},\"nodeType\":\"DOM\",\"type\":\"node\",\"instanceArgs\":{\"namespace\":\"html\",\"tag\":\"div\"},\"children\":[]}]},\n",
       "        window,\n",
       "    );\n",
       "    })()\n",
       "    </script>\n",
       "</div>\n"
      ],
      "text/plain": [
       "data: [\n",
       "  \"scatter with fields line, mode, type, x, and y\",\n",
       "  \"scatter with fields marker, mode, name, text, type, x, and y\",\n",
       "  \"scatter with fields marker, mode, name, text, type, x, and y\",\n",
       "  \"scatter with fields marker, mode, name, text, type, x, and y\"\n",
       "]\n",
       "\n",
       "layout: \"layout with fields hovermode, margin, showarrow, showlegend, template, titlefont, xaxis, and yaxis\"\n",
       "\n"
      ]
     },
     "execution_count": 183,
     "metadata": {},
     "output_type": "execute_result"
    }
   ],
   "source": [
    "problem = Problem(i=[windIn],p=[alk,offtaker,h2Comp],o=[h2,cut],st=[h2Store])\n",
    "vivi_graph(problem)"
   ]
  },
  {
   "cell_type": "code",
   "execution_count": 185,
   "metadata": {},
   "outputs": [
    {
     "name": "stdout",
     "output_type": "stream",
     "text": [
      "Set parameter Username\n",
      "Academic license - for non-commercial use only - expires 2024-10-31\n",
      "Gurobi Optimizer version 9.5.2 build v9.5.2rc0 (win64)\n",
      "Thread count: 4 physical cores, 8 logical processors, using up to 8 threads\n",
      "Optimize a model with 402965 rows, 192724 columns and 911038 nonzeros\n",
      "Model fingerprint: 0xc1d51845\n",
      "Variable types: 157684 continuous, 35040 integer (35040 binary)\n",
      "Coefficient statistics:\n",
      "  Matrix range     [5e-03, 1e+03]\n",
      "  Objective range  [1e+00, 1e+00]\n",
      "  Bounds range     [0e+00, 0e+00]\n",
      "  RHS range        [2e-01, 1e+03]\n",
      "Found heuristic solution: objective -0.0000000\n",
      "Presolve removed 261442 rows and 128567 columns\n",
      "Presolve time: 3.90s\n",
      "Presolved: 141523 rows, 64157 columns, 378224 nonzeros\n",
      "Variable types: 42919 continuous, 21238 integer (21238 binary)\n",
      "\n",
      "Deterministic concurrent LP optimizer: primal and dual simplex (primal and dual model)\n",
      "Showing first log only...\n",
      "\n",
      "Root relaxation presolve removed 11805 rows and 6679 columns\n",
      "Root relaxation presolved: 129718 rows, 57478 columns, 351224 nonzeros\n",
      "\n",
      "\n",
      "Root simplex log...\n",
      "\n",
      "Iteration    Objective       Primal Inf.    Dual Inf.      Time\n",
      "   32380    3.8625344e+01   0.000000e+00   6.490763e+05      5s\n",
      "   33970    5.9195510e+01   0.000000e+00   6.644826e+06     10s\n",
      "Concurrent spin time: 3.26s\n",
      "\n",
      "Solved with primal simplex (dual model)\n",
      "\n",
      "Root relaxation: objective 3.398918e+04, 107983 iterations, 14.35 seconds (10.31 work units)\n",
      "\n",
      "    Nodes    |    Current Node    |     Objective Bounds      |     Work\n",
      " Expl Unexpl |  Obj  Depth IntInf | Incumbent    BestBd   Gap | It/Node Time\n",
      "\n",
      "H    0     0                    33989.177106 139623.427   311%     -   18s\n",
      "     0     0          -    0      33989.1771 33989.1771  0.00%     -   19s\n",
      "\n",
      "Explored 1 nodes (113397 simplex iterations) in 19.08 seconds (16.57 work units)\n",
      "Thread count was 8 (of 8 available processors)\n",
      "\n",
      "Solution count 2: 33989.2 -0 \n",
      "\n",
      "Optimal solution found (tolerance 1.00e-04)\n",
      "Best objective 3.398917710599e+04, best bound 3.398917710599e+04, gap 0.0000%\n",
      "\n",
      "User-callback calls 4515, time in user-callback 0.02 sec\n",
      "* Solver : Gurobi\n",
      "\n",
      "* Status\n",
      "  Result count       : 2\n",
      "  Termination status : OPTIMAL\n",
      "  Message from the solver:\n",
      "  \"Model was solved to optimality (subject to tolerances), and an optimal solution is available.\"\n",
      "\n",
      "* Candidate solution (result #1)\n",
      "  Primal status      : FEASIBLE_POINT\n",
      "  Dual status        : NO_SOLUTION\n",
      "  Objective value    : 3.39892e+04\n",
      "  Objective bound    : 3.39892e+04\n",
      "  Relative gap       : 0.00000e+00\n",
      "  Dual objective value : 3.39892e+04\n",
      "\n",
      "* Work counters\n",
      "  Solve time (sec)   : 1.90829e+01\n",
      "  Barrier iterations : 0\n",
      "  Node count         : 1\n",
      "\n",
      " Tech         | Size factor\n",
      "=====================================\n",
      " AWE          | 1.0\n",
      " offtaker     | 0.6471229321499035\n",
      " compressor   | 0.6222910980950312\n",
      "-------------------------------------\n",
      "-------------------------------------\n",
      " H2 tank      | 60.0\n"
     ]
    },
    {
     "data": {
      "text/plain": [
       "Problem(Resource[Resource(ResourceType(\"power\", Real[0;;], \"MW\"), Real[0.423, 0.223, 0.221, 0.225, 0.22, 0.217, 0.217, 0.231, 0.226, 0.314  …  2.57, 2.05, 2.135, 3.929, 6.339, 5.936, 5.01, 8.088, 7.919, 8.668], Real[0 0; 1 1])], Resource[Resource(ResourceType(\"H2_plant\", Real[1;;], \"MW\"), Real[0.9706843982248552, 0.9706843982248552, 0.9706843982248552, 0.9706843982248552, 0.9706843982248552, 0.9706843982248552, 0.9706843982248552, 0.9706843982248552, 0.9706843982248552, 0.9706843982248552  …  1.6333483444624017, 1.169612810106905, 2.463858674406707, 3.7581045387065135, 3.566905089622441, 2.2726592253226343, 3.5669050896224412, 4.861150953922255, 5.8850597782174034, 4.5908139139176], Real[0 0; 1 1]), Resource(ResourceType(\"power\", Real[0;;], \"MW\"), Real[0.423, 0.223, 0.221, 0.225, 0.22, 0.217, 0.217, 0.231, 0.226, 0.314  …  0.0, 0.0, 0.0, 0.0, 3.552713678800501e-15, 3.552713678800501e-15, 0.0, 0.0, 8.881784197001252e-16, 0.0], Real[0 0; 1 1])], Tech[Tech(\"AWE\", Resource[Resource(ResourceType(\"power\", Real[0;;], \"MW\"), Real[10], Real[0.15 0.15011; 0.51 0.50907; 1.0 1.0])], Resource[Resource(ResourceType(\"H2\", Real[1;;], \"MW\"), Real[6.6865], Real[0.15 0.17068571001271218; 0.51 0.5446508636805505; 1.0 1.0])], Heat[], Matrix{Real}[[0.0 0.0; 1000.0 0.0]], (1, 1), (0.15, 1), (-1, 1), true, 1.0, Real[0.0, 0.0, 0.0, 0.0, 0.0, 0.0, 0.0, 0.0, 0.0, 0.0  …  0.23624, 0.18811, 0.19598, 0.362, 0.58532, 0.54788, 0.46205, 0.74779, 0.73209, 0.80166]), Tech(\"offtaker\", Resource[Resource(ResourceType(\"h2_200bar\", Real[1;;], \"MW\"), Real[10], Real[0 0; 1 1])], Resource[Resource(ResourceType(\"H2_plant\", Real[1;;], \"MW\"), Real[10], Real[0 0; 1 1])], Heat[], Matrix{Real}[[0.0 0.0; 1000.0 0.0]], (0, 1000.0), (0.15, 1), (-0.2, 0.2), false, 0.6471229321499035, Real[0.097068, 0.097068, 0.097068, 0.097068, 0.097068, 0.097068, 0.097068, 0.097068, 0.097068, 0.097068  …  0.16333, 0.11696, 0.24639, 0.37581, 0.35669, 0.22727, 0.35669, 0.48612, 0.58851, 0.45908]), Tech(\"compressor\", Resource[Resource(ResourceType(\"H2\", Real[1;;], \"MW\"), Real[10], Real[0 0; 1 1]), Resource(ResourceType(\"power\", Real[0;;], \"MW\"), Real[1.2012012012012012], Real[0 0; 1 1])], Resource[Resource(ResourceType(\"h2_200bar\", Real[1;;], \"MW\"), Real[10], Real[0 0; 1 1])], Heat[], Matrix{Real}[[0.0 0.0; 1000.0 0.0]], (0, 1000.0), (0, 1), (-1, 1), true, 0.6222910980950312, Real[0.0, 0.0, 0.0, 0.0, 0.0, 0.0, 0.0, 0.0, 0.0, 0.0  …  0.17403, 0.1406, 0.14606, 0.26139, 0.41098, 0.38772, 0.33087, 0.51193, 0.50218, 0.54541])], Tech[], Storage[Storage(\"H2 tank\", ResourceType(\"h2_200bar\", Real[1;;], \"MW\"), 1, Matrix{Real}[[0.0 0.0; 1000.0 0.0]], (0, 60), (-0.2, 0.2), 60.0, Real[59.029, 58.059, 57.088, 56.117, 55.147, 54.176, 53.205, 52.235, 51.264, 50.293  …  59.764, 60.0, 58.997, 57.853, 58.395, 60.0, 59.742, 60.0, 59.137, 60.0])])"
      ]
     },
     "execution_count": 185,
     "metadata": {},
     "output_type": "execute_result"
    }
   ],
   "source": [
    "answer = vivi(problem,Gurobi.Optimizer) # Gurobi solver is much faster"
   ]
  },
  {
   "cell_type": "markdown",
   "metadata": {},
   "source": [
    "Now we see again a reduction in the total hydrogen production due to the consumption of power in the compression."
   ]
  },
  {
   "cell_type": "markdown",
   "metadata": {},
   "source": [
    "## Including costs"
   ]
  },
  {
   "cell_type": "markdown",
   "metadata": {},
   "source": [
    "Finally, we should also take into consideration the costs of storage in the optimization. For this, let's assume that a cost of 0.105 MEUR/MWh of storage:\n",
    "\n",
    "        Tech.cost = [\n",
    "            [\n",
    "                [size_1,cost_1], [size_2,cost_2] ...\n",
    "            ]\n",
    "        ]\n",
    "\n",
    "It is important to say that the cost in this case has to be per time step, meaning we have to provide the average cost per hour EUR/MWh-h. We can do that by calculating the average capital recovery factor."
   ]
  },
  {
   "cell_type": "code",
   "execution_count": 188,
   "metadata": {},
   "outputs": [
    {
     "data": {
      "text/plain": [
       "1-element Vector{Matrix{Float64}}:\n",
       " [0.0 0.0; 60.0 73.24987620843021]"
      ]
     },
     "execution_count": 188,
     "metadata": {},
     "output_type": "execute_result"
    }
   ],
   "source": [
    "i = 0.08\n",
    "years = 20\n",
    "CRF = (i/(1-(1+i)^(-years)))/8760 \n",
    "\n",
    "h2Store.c = [\n",
    "[\n",
    "    0 0\n",
    "    60 60*0.105E6*CRF\n",
    "]\n",
    "]"
   ]
  },
  {
   "cell_type": "markdown",
   "metadata": {},
   "source": [
    "In addition, we need to specify a value for the hydrogen for every time step:"
   ]
  },
  {
   "cell_type": "markdown",
   "metadata": {},
   "source": [
    "        Resource.value = [cost_t1, cost_t2, ...]"
   ]
  },
  {
   "cell_type": "code",
   "execution_count": 191,
   "metadata": {},
   "outputs": [
    {
     "data": {
      "text/plain": [
       "8760×1 Matrix{Float64}:\n",
       " 90.0900900900901\n",
       " 90.0900900900901\n",
       " 90.0900900900901\n",
       " 90.0900900900901\n",
       " 90.0900900900901\n",
       " 90.0900900900901\n",
       " 90.0900900900901\n",
       " 90.0900900900901\n",
       " 90.0900900900901\n",
       " 90.0900900900901\n",
       " 90.0900900900901\n",
       " 90.0900900900901\n",
       " 90.0900900900901\n",
       "  ⋮\n",
       " 90.0900900900901\n",
       " 90.0900900900901\n",
       " 90.0900900900901\n",
       " 90.0900900900901\n",
       " 90.0900900900901\n",
       " 90.0900900900901\n",
       " 90.0900900900901\n",
       " 90.0900900900901\n",
       " 90.0900900900901\n",
       " 90.0900900900901\n",
       " 90.0900900900901\n",
       " 90.0900900900901"
      ]
     },
     "execution_count": 191,
     "metadata": {},
     "output_type": "execute_result"
    }
   ],
   "source": [
    "lhv_h2 = 33.3/1000\n",
    "c_h2 = 3/lhv_h2 # USD/kg / (MWh/kg)\n",
    "\n",
    "h2.t.c = fill(c_h2,hours,1)"
   ]
  },
  {
   "cell_type": "code",
   "execution_count": 192,
   "metadata": {},
   "outputs": [
    {
     "data": {
      "text/plain": [
       "Problem(Resource[Resource(ResourceType(\"power\", Real[0;;], \"MW\"), Real[0.423, 0.223, 0.221, 0.225, 0.22, 0.217, 0.217, 0.231, 0.226, 0.314  …  2.57, 2.05, 2.135, 3.929, 6.339, 5.936, 5.01, 8.088, 7.919, 8.668], Real[0 0; 1 1])], Resource[Resource(ResourceType(\"H2_plant\", Real[90.0900900900901; 90.0900900900901; … ; 90.0900900900901; 90.0900900900901;;], \"MW\"), Real[Inf, Inf, Inf, Inf, Inf, Inf, Inf, Inf, Inf, Inf  …  Inf, Inf, Inf, Inf, Inf, Inf, Inf, Inf, Inf, Inf], Real[0 0; 1 1]), Resource(ResourceType(\"power\", Real[0;;], \"MW\"), Real[Inf, Inf, Inf, Inf, Inf, Inf, Inf, Inf, Inf, Inf  …  Inf, Inf, Inf, Inf, Inf, Inf, Inf, Inf, Inf, Inf], Real[0 0; 1 1])], Tech[Tech(\"AWE\", Resource[Resource(ResourceType(\"power\", Real[0;;], \"MW\"), Real[10], Real[0.15 0.15011; 0.51 0.50907; 1.0 1.0])], Resource[Resource(ResourceType(\"H2\", Real[1;;], \"MW\"), Real[6.6865], Real[0.15 0.17068571001271218; 0.51 0.5446508636805505; 1.0 1.0])], Heat[], Matrix{Real}[[0.0 0.0; 1000.0 0.0]], (1, 1), (0.15, 1), (-1, 1), true, 1, Real[1]), Tech(\"offtaker\", Resource[Resource(ResourceType(\"h2_200bar\", Real[1;;], \"MW\"), Real[10], Real[0 0; 1 1])], Resource[Resource(ResourceType(\"H2_plant\", Real[90.0900900900901; 90.0900900900901; … ; 90.0900900900901; 90.0900900900901;;], \"MW\"), Real[10], Real[0 0; 1 1])], Heat[], Matrix{Real}[[0.0 0.0; 1000.0 0.0]], (0, 1000.0), (0.15, 1), (-0.2, 0.2), false, 1, Real[1]), Tech(\"compressor\", Resource[Resource(ResourceType(\"H2\", Real[1;;], \"MW\"), Real[10], Real[0 0; 1 1]), Resource(ResourceType(\"power\", Real[0;;], \"MW\"), Real[1.2012012012012012], Real[0 0; 1 1])], Resource[Resource(ResourceType(\"h2_200bar\", Real[1;;], \"MW\"), Real[10], Real[0 0; 1 1])], Heat[], Matrix{Real}[[0.0 0.0; 1000.0 0.0]], (0, 1000.0), (0, 1), (-1, 1), true, 1, Real[1])], Tech[], Storage[Storage(\"H2 tank\", ResourceType(\"h2_200bar\", Real[1;;], \"MW\"), 1, Matrix{Real}[[0.0 0.0; 60.0 73.24987620843021]], (0, 60), (-0.2, 0.2), 1, Real[1])])"
      ]
     },
     "execution_count": 192,
     "metadata": {},
     "output_type": "execute_result"
    }
   ],
   "source": [
    "problem = Problem(i=[windIn],p=[alk,offtaker,h2Comp],o=[h2,cut],st=[h2Store])\n"
   ]
  },
  {
   "cell_type": "markdown",
   "metadata": {},
   "source": [
    "Finally, we need to activate CAPEX calculation in the objective function when calling the vivi function:\n",
    "\n",
    "$$ max \\; obj = \\sum_t r_{o,t}v_{o,t} - \\sum_t r_{i,t}v_{i,t} - \\sum_t CAPEX_t = \\sum_t E_{h2,t}*c_{h2,t} - \\sum_t CAPEX_{store,t} $$"
   ]
  },
  {
   "cell_type": "code",
   "execution_count": 193,
   "metadata": {},
   "outputs": [
    {
     "name": "stdout",
     "output_type": "stream",
     "text": [
      "Set parameter Username\n",
      "Academic license - for non-commercial use only - expires 2024-10-31\n",
      "Gurobi Optimizer version 9.5.2 build v9.5.2rc0 (win64)\n",
      "Thread count: 4 physical cores, 8 logical processors, using up to 8 threads\n",
      "Optimize a model with 402981 rows, 192732 columns and 911062 nonzeros\n",
      "Model fingerprint: 0xe9610a8e\n",
      "Variable types: 157688 continuous, 35044 integer (35044 binary)\n",
      "Coefficient statistics:\n",
      "  Matrix range     [5e-03, 1e+03]\n",
      "  Objective range  [9e+01, 1e+04]\n",
      "  Bounds range     [0e+00, 0e+00]\n",
      "  RHS range        [2e-01, 1e+03]\n",
      "Found heuristic solution: objective -0.0000000\n",
      "Presolve removed 261458 rows and 128575 columns\n",
      "Presolve time: 3.81s\n",
      "Presolved: 141523 rows, 64157 columns, 378224 nonzeros\n",
      "Variable types: 42919 continuous, 21238 integer (21238 binary)\n",
      "\n",
      "Deterministic concurrent LP optimizer: primal and dual simplex (primal and dual model)\n",
      "Showing first log only...\n",
      "\n",
      "Root relaxation presolve removed 11805 rows and 6679 columns\n",
      "Root relaxation presolved: 129718 rows, 57478 columns, 351224 nonzeros\n",
      "\n",
      "\n",
      "Root simplex log...\n",
      "\n",
      "Iteration    Objective       Primal Inf.    Dual Inf.      Time\n",
      "   32717    3.4942301e+03   0.000000e+00   5.016038e+07      5s\n",
      "   34347    6.0232151e+03   0.000000e+00   1.541805e+07     10s\n",
      "Concurrent spin time: 0.79s\n",
      "\n",
      "Solved with dual simplex (primal model)\n",
      "\n",
      "Root relaxation: objective 2.550153e+06, 82454 iterations, 9.75 seconds (6.55 work units)\n",
      "\n",
      "    Nodes    |    Current Node    |     Objective Bounds      |     Work\n",
      " Expl Unexpl |  Obj  Depth IntInf | Incumbent    BestBd   Gap | It/Node Time\n",
      "\n",
      "     0     0 2550153.32    0   16   -0.00000 2550153.32      -     -   14s\n",
      "H    0     0                    2550153.3243 2550153.32  0.00%     -   15s\n",
      "     0     0 2550153.32    0   16 2550153.32 2550153.32  0.00%     -   15s\n",
      "\n",
      "Explored 1 nodes (89341 simplex iterations) in 15.18 seconds (13.70 work units)\n",
      "Thread count was 8 (of 8 available processors)\n",
      "\n",
      "Solution count 2: 2.55015e+06 -0 \n",
      "\n",
      "Optimal solution found (tolerance 1.00e-04)\n",
      "Best objective 2.550153324259e+06, best bound 2.550153324259e+06, gap 0.0000%\n",
      "\n",
      "User-callback calls 3870, time in user-callback 0.02 sec\n",
      "* Solver : Gurobi\n",
      "\n",
      "* Status\n",
      "  Result count       : 2\n",
      "  Termination status : OPTIMAL\n",
      "  Message from the solver:\n",
      "  \"Model was solved to optimality (subject to tolerances), and an optimal solution is available.\"\n",
      "\n",
      "* Candidate solution (result #1)\n",
      "  Primal status      : FEASIBLE_POINT\n",
      "  Dual status        : NO_SOLUTION\n",
      "  Objective value    : 2.55015e+06\n",
      "  Objective bound    : 2.55015e+06\n",
      "  Relative gap       : 0.00000e+00\n",
      "  Dual objective value : 2.55015e+06\n",
      "\n",
      "* Work counters\n",
      "  Solve time (sec)   : 1.51847e+01\n",
      "  Barrier iterations : 0\n",
      "  Node count         : 1\n",
      "\n",
      " Tech         | Size factor\n",
      "=====================================\n",
      " AWE          | 1.0\n",
      " offtaker     | 0.560770339375857\n",
      " compressor   | 0.6222910980950312\n",
      "-------------------------------------\n",
      "-------------------------------------\n",
      " H2 tank      | 46.90026833864026\n"
     ]
    },
    {
     "data": {
      "text/plain": [
       "Problem(Resource[Resource(ResourceType(\"power\", Real[0;;], \"MW\"), Real[0.423, 0.223, 0.221, 0.225, 0.22, 0.217, 0.217, 0.231, 0.226, 0.314  …  2.57, 2.05, 2.135, 3.929, 6.339, 5.936, 5.01, 8.088, 7.919, 8.668], Real[0 0; 1 1])], Resource[Resource(ResourceType(\"H2_plant\", Real[90.0900900900901; 90.0900900900901; … ; 90.0900900900901; 90.0900900900901;;], \"MW\"), Real[0.8411555090637854, 0.8411555090637854, 0.8411555090637854, 0.8411555090637854, 0.8411555090637854, 0.8411555090637854, 0.8411555090637854, 0.8411555090637854, 0.8411555090637854, 0.8411555090637854  …  2.8998966998999602, 1.7783560211482463, 0.8411555090637854, 0.8411555090637854, 0.8411555090637854, 0.8411555090637854, 0.8411555090637854, 0.8411555090637854, 0.8411555090637854, 0.8411555090637854], Real[0 0; 1 1]), Resource(ResourceType(\"power\", Real[0;;], \"MW\"), Real[0.423, 0.223, 0.221, 0.225, 0.22, 0.217, 0.217, 0.231, 0.226, 0.314  …  0.0, 0.0, 0.0, 0.0, 3.552713678800501e-15, 3.552713678800501e-15, 0.0, 0.0, 8.881784197001252e-16, 0.0], Real[0 0; 1 1])], Tech[Tech(\"AWE\", Resource[Resource(ResourceType(\"power\", Real[0;;], \"MW\"), Real[10], Real[0.15 0.15011; 0.51 0.50907; 1.0 1.0])], Resource[Resource(ResourceType(\"H2\", Real[1;;], \"MW\"), Real[6.6865], Real[0.15 0.17068571001271218; 0.51 0.5446508636805505; 1.0 1.0])], Heat[], Matrix{Real}[[0.0 0.0; 1000.0 0.0]], (1, 1), (0.15, 1), (-1, 1), true, 1.0, Real[0.0, 0.0, 0.0, 0.0, 0.0, 0.0, 0.0, 0.0, 0.0, 0.0  …  0.23624, 0.18811, 0.19598, 0.362, 0.58532, 0.54788, 0.46205, 0.74779, 0.73209, 0.80166]), Tech(\"offtaker\", Resource[Resource(ResourceType(\"h2_200bar\", Real[1;;], \"MW\"), Real[10], Real[0 0; 1 1])], Resource[Resource(ResourceType(\"H2_plant\", Real[90.0900900900901; 90.0900900900901; … ; 90.0900900900901; 90.0900900900901;;], \"MW\"), Real[10], Real[0 0; 1 1])], Heat[], Matrix{Real}[[0.0 0.0; 1000.0 0.0]], (0, 1000.0), (0.15, 1), (-0.2, 0.2), false, 0.560770339375857, Real[0.084116, 0.084116, 0.084116, 0.084116, 0.084116, 0.084116, 0.084116, 0.084116, 0.084116, 0.084116  …  0.28999, 0.17784, 0.084116, 0.084116, 0.084116, 0.084116, 0.084116, 0.084116, 0.084116, 0.084116]), Tech(\"compressor\", Resource[Resource(ResourceType(\"H2\", Real[1;;], \"MW\"), Real[10], Real[0 0; 1 1]), Resource(ResourceType(\"power\", Real[0;;], \"MW\"), Real[1.2012012012012012], Real[0 0; 1 1])], Resource[Resource(ResourceType(\"h2_200bar\", Real[1;;], \"MW\"), Real[10], Real[0 0; 1 1])], Heat[], Matrix{Real}[[0.0 0.0; 1000.0 0.0]], (0, 1000.0), (0, 1), (-1, 1), true, 0.6222910980950312, Real[0.0, 0.0, 0.0, 0.0, 0.0, 0.0, 0.0, 0.0, 0.0, 0.0  …  0.17403, 0.1406, 0.14606, 0.26139, 0.41098, 0.38772, 0.33087, 0.51193, 0.50218, 0.54541])], Tech[], Storage[Storage(\"H2 tank\", ResourceType(\"h2_200bar\", Real[1;;], \"MW\"), 1, Matrix{Real}[[0.0 0.0; 60.0 73.24987620843021]], (0, 60), (-0.2, 0.2), 46.90026833864026, Real[46.059, 45.218, 44.377, 43.536, 42.694, 41.853, 41.012, 40.171, 39.33, 38.489  …  23.036, 22.664, 23.284, 25.056, 28.325, 31.361, 33.829, 38.107, 42.287, 46.9])])"
      ]
     },
     "execution_count": 193,
     "metadata": {},
     "output_type": "execute_result"
    }
   ],
   "source": [
    "answer = vivi(problem,Gurobi.Optimizer,capex=true) # Gurobi solver is much faster"
   ]
  },
  {
   "cell_type": "markdown",
   "metadata": {},
   "source": [
    "It is interesting to see that in this case we don't maximize the storage anymore. Also, it is important to highlight that the objective value is no longer annual hydrogen production, but \"profits of H2 - CAPEX of storage\" in EUR for a year. We can calculate the annual hydrogen production by summing the hydrogen output:"
   ]
  },
  {
   "cell_type": "code",
   "execution_count": 195,
   "metadata": {},
   "outputs": [
    {
     "name": "stdout",
     "output_type": "stream",
     "text": [
      "In this case the AHP was: 33874.17409950425 MWh\n"
     ]
    }
   ],
   "source": [
    "AHP = sum(answer.o[1].r)\n",
    "\n",
    "println(\"In this case the AHP was: $AHP MWh\")"
   ]
  },
  {
   "cell_type": "markdown",
   "metadata": {},
   "source": [
    "Of course, this result is dependent on the assumptions of cost and value we did previously. For instance, if we assume now a value of 5 EUR/kg of hydrogen:"
   ]
  },
  {
   "cell_type": "code",
   "execution_count": 197,
   "metadata": {},
   "outputs": [
    {
     "name": "stdout",
     "output_type": "stream",
     "text": [
      "Set parameter Username\n",
      "Academic license - for non-commercial use only - expires 2024-10-31\n",
      "Gurobi Optimizer version 9.5.2 build v9.5.2rc0 (win64)\n",
      "Thread count: 4 physical cores, 8 logical processors, using up to 8 threads\n",
      "Optimize a model with 402981 rows, 192732 columns and 911062 nonzeros\n",
      "Model fingerprint: 0xc8b3d1e8\n",
      "Variable types: 157688 continuous, 35044 integer (35044 binary)\n",
      "Coefficient statistics:\n",
      "  Matrix range     [5e-03, 1e+03]\n",
      "  Objective range  [2e+02, 1e+04]\n",
      "  Bounds range     [0e+00, 0e+00]\n",
      "  RHS range        [2e-01, 1e+03]\n",
      "Found heuristic solution: objective -0.0000000\n",
      "Presolve removed 261458 rows and 128575 columns\n",
      "Presolve time: 4.14s\n",
      "Presolved: 141523 rows, 64157 columns, 378224 nonzeros\n",
      "Variable types: 42919 continuous, 21238 integer (21238 binary)\n",
      "\n",
      "Deterministic concurrent LP optimizer: primal and dual simplex (primal and dual model)\n",
      "Showing first log only...\n",
      "\n",
      "Root relaxation presolve removed 11805 rows and 6679 columns\n",
      "Root relaxation presolved: 129718 rows, 57478 columns, 351224 nonzeros\n",
      "\n",
      "\n",
      "Root simplex log...\n",
      "\n",
      "Iteration    Objective       Primal Inf.    Dual Inf.      Time\n",
      "   19109   -1.4551915e-11   0.000000e+00   7.768926e+06      5s\n",
      "   34067    7.7765418e+03   0.000000e+00   3.661780e+07     10s\n",
      "Concurrent spin time: 0.15s\n",
      "\n",
      "Solved with dual simplex (primal model)\n",
      "\n",
      "Root relaxation: objective 4.586886e+06, 80287 iterations, 7.22 seconds (4.70 work units)\n",
      "\n",
      "    Nodes    |    Current Node    |     Objective Bounds      |     Work\n",
      " Expl Unexpl |  Obj  Depth IntInf | Incumbent    BestBd   Gap | It/Node Time\n",
      "\n",
      "     0     0 4586886.14    0    4   -0.00000 4586886.14      -     -   12s\n",
      "H    0     0                    4586886.1383 4586886.14  0.00%     -   13s\n",
      "     0     0 4586886.14    0    4 4586886.14 4586886.14  0.00%     -   13s\n",
      "\n",
      "Explored 1 nodes (85233 simplex iterations) in 13.09 seconds (11.86 work units)\n",
      "Thread count was 8 (of 8 available processors)\n",
      "\n",
      "Solution count 2: 4.58689e+06 -0 \n",
      "\n",
      "Optimal solution found (tolerance 1.00e-04)\n",
      "Best objective 4.586886138325e+06, best bound 4.586886138325e+06, gap 0.0000%\n",
      "\n",
      "User-callback calls 3031, time in user-callback 0.01 sec\n",
      "* Solver : Gurobi\n",
      "\n",
      "* Status\n",
      "  Result count       : 2\n",
      "  Termination status : OPTIMAL\n",
      "  Message from the solver:\n",
      "  \"Model was solved to optimality (subject to tolerances), and an optimal solution is available.\"\n",
      "\n",
      "* Candidate solution (result #1)\n",
      "  Primal status      : FEASIBLE_POINT\n",
      "  Dual status        : NO_SOLUTION\n",
      "  Objective value    : 4.58689e+06\n",
      "  Objective bound    : 4.58689e+06\n",
      "  Relative gap       : 2.03040e-16\n",
      "  Dual objective value : 4.58689e+06\n",
      "\n",
      "* Work counters\n",
      "  Solve time (sec)   : 1.31066e+01\n",
      "  Barrier iterations : 0\n",
      "  Node count         : 1\n",
      "\n",
      " Tech         | Size factor\n",
      "=====================================\n",
      " AWE          | 1.0\n",
      " offtaker     | 0.5661595161558167\n",
      " compressor   | 0.6222910980950312\n",
      "-------------------------------------\n",
      "-------------------------------------\n",
      " H2 tank      | 47.39337801400657\n"
     ]
    },
    {
     "data": {
      "text/plain": [
       "Problem(Resource[Resource(ResourceType(\"power\", Real[0;;], \"MW\"), Real[0.423, 0.223, 0.221, 0.225, 0.22, 0.217, 0.217, 0.231, 0.226, 0.314  …  2.57, 2.05, 2.135, 3.929, 6.339, 5.936, 5.01, 8.088, 7.919, 8.668], Real[0 0; 1 1])], Resource[Resource(ResourceType(\"H2_plant\", Real[150.15015015015015; 150.15015015015015; … ; 150.15015015015015; 150.15015015015015;;], \"MW\"), Real[0.849239274233725, 0.849239274233725, 0.849239274233725, 0.849239274233725, 0.849239274233725, 0.849239274233725, 0.849239274233725, 0.849239274233725, 0.849239274233725, 0.849239274233725  …  1.1812980717617636, 1.4060055546893366, 1.5957860603348277, 2.7281050926464614, 3.8604241249580946, 3.877212250118916, 4.5385957530900995, 3.8894602904545956, 5.021779322766228, 5.454094369368768], Real[0 0; 1 1]), Resource(ResourceType(\"power\", Real[0;;], \"MW\"), Real[0.423, 0.223, 0.221, 0.225, 0.22, 0.217, 0.217, 0.231, 0.226, 0.314  …  0.0, 0.0, 0.0, 0.0, 3.552713678800501e-15, 3.552713678800501e-15, 0.0, 0.0, 8.881784197001252e-16, 0.0], Real[0 0; 1 1])], Tech[Tech(\"AWE\", Resource[Resource(ResourceType(\"power\", Real[0;;], \"MW\"), Real[10], Real[0.15 0.15011; 0.51 0.50907; 1.0 1.0])], Resource[Resource(ResourceType(\"H2\", Real[1;;], \"MW\"), Real[6.6865], Real[0.15 0.17068571001271218; 0.51 0.5446508636805505; 1.0 1.0])], Heat[], Matrix{Real}[[0.0 0.0; 1000.0 0.0]], (1, 1), (0.15, 1), (-1, 1), true, 1.0, Real[0.0, 0.0, 0.0, 0.0, 0.0, 0.0, 0.0, 0.0, 0.0, 0.0  …  0.23624, 0.18811, 0.19598, 0.362, 0.58532, 0.54788, 0.46205, 0.74779, 0.73209, 0.80166]), Tech(\"offtaker\", Resource[Resource(ResourceType(\"h2_200bar\", Real[1;;], \"MW\"), Real[10], Real[0 0; 1 1])], Resource[Resource(ResourceType(\"H2_plant\", Real[150.15015015015015; 150.15015015015015; … ; 150.15015015015015; 150.15015015015015;;], \"MW\"), Real[10], Real[0 0; 1 1])], Heat[], Matrix{Real}[[0.0 0.0; 1000.0 0.0]], (0, 1000.0), (0.15, 1), (-0.2, 0.2), false, 0.5661595161558167, Real[0.084924, 0.084924, 0.084924, 0.084924, 0.084924, 0.084924, 0.084924, 0.084924, 0.084924, 0.084924  …  0.11813, 0.1406, 0.15958, 0.27281, 0.38604, 0.38772, 0.45386, 0.38895, 0.50218, 0.54541]), Tech(\"compressor\", Resource[Resource(ResourceType(\"H2\", Real[1;;], \"MW\"), Real[10], Real[0 0; 1 1]), Resource(ResourceType(\"power\", Real[0;;], \"MW\"), Real[1.2012012012012012], Real[0 0; 1 1])], Resource[Resource(ResourceType(\"h2_200bar\", Real[1;;], \"MW\"), Real[10], Real[0 0; 1 1])], Heat[], Matrix{Real}[[0.0 0.0; 1000.0 0.0]], (0, 1000.0), (0, 1), (-1, 1), true, 0.6222910980950312, Real[0.0, 0.0, 0.0, 0.0, 0.0, 0.0, 0.0, 0.0, 0.0, 0.0  …  0.17403, 0.1406, 0.14606, 0.26139, 0.41098, 0.38772, 0.33087, 0.51193, 0.50218, 0.54541])], Tech[], Storage[Storage(\"H2 tank\", ResourceType(\"h2_200bar\", Real[1;;], \"MW\"), 1, Matrix{Real}[[0.0 0.0; 60.0 73.24987620843021]], (0, 60), (-0.2, 0.2), 47.39337801400657, Real[46.544, 45.695, 44.846, 43.996, 43.147, 42.298, 41.449, 40.599, 39.75, 38.901  …  47.393, 47.393, 47.258, 47.144, 47.393, 47.393, 46.164, 47.393, 47.393, 47.393])])"
      ]
     },
     "execution_count": 197,
     "metadata": {},
     "output_type": "execute_result"
    }
   ],
   "source": [
    "c_h2 = 5/lhv_h2 # USD/kg / (MWh/kg)\n",
    "\n",
    "h2.t.c = fill(c_h2,hours,1)\n",
    "problem = Problem(i=[windIn],p=[alk,offtaker,h2Comp],o=[h2,cut],st=[h2Store])\n",
    "answer = vivi(problem,Gurobi.Optimizer,capex=true) # Gurobi solver is much faster"
   ]
  },
  {
   "cell_type": "code",
   "execution_count": 199,
   "metadata": {},
   "outputs": [
    {
     "name": "stdout",
     "output_type": "stream",
     "text": [
      "In this case the AHP was: 33924.266861101874 MWh\n"
     ]
    }
   ],
   "source": [
    "AHP = sum(answer.o[1].r)\n",
    "\n",
    "println(\"In this case the AHP was: $AHP MWh\")"
   ]
  }
 ],
 "metadata": {
  "kernelspec": {
   "display_name": "Julia 1.7.1",
   "language": "julia",
   "name": "julia-1.7"
  },
  "language_info": {
   "file_extension": ".jl",
   "mimetype": "application/julia",
   "name": "julia",
   "version": "1.7.1"
  }
 },
 "nbformat": 4,
 "nbformat_minor": 4
}
