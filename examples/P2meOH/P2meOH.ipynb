{
 "cells": [
  {
   "attachments": {},
   "cell_type": "markdown",
   "metadata": {},
   "source": [
    "# Power-to-Methanol"
   ]
  },
  {
   "attachments": {},
   "cell_type": "markdown",
   "metadata": {},
   "source": [
    "Let's start by calling the vivi functions."
   ]
  },
  {
   "cell_type": "code",
   "execution_count": 20,
   "metadata": {},
   "outputs": [
    {
     "data": {
      "text/plain": [
       "vivi (generic function with 1 method)"
      ]
     },
     "execution_count": 20,
     "metadata": {},
     "output_type": "execute_result"
    }
   ],
   "source": [
    "path = \"../../src/vivi.jl\" # Location of file \"vivi.jl\" in your computer\n",
    "include(path)"
   ]
  },
  {
   "attachments": {},
   "cell_type": "markdown",
   "metadata": {},
   "source": [
    "**OBS**: You need to change the directory path to point to the main julia file \"vivi.jl\" "
   ]
  },
  {
   "attachments": {},
   "cell_type": "markdown",
   "metadata": {},
   "source": [
    "## Processes"
   ]
  },
  {
   "attachments": {},
   "cell_type": "markdown",
   "metadata": {},
   "source": [
    "Here I'm including technologies that represent the main routes of conversion in my Power-to-X plant. In essence what I'm doing is to create the \"database\" of technologies that I'll use in the problem"
   ]
  },
  {
   "attachments": {},
   "cell_type": "markdown",
   "metadata": {},
   "source": [
    "### Pyrolysis and reforming"
   ]
  },
  {
   "attachments": {},
   "cell_type": "markdown",
   "metadata": {},
   "source": [
    "![Pyrolysis image](./Pyrolysis.png)\n"
   ]
  },
  {
   "cell_type": "code",
   "execution_count": 21,
   "metadata": {},
   "outputs": [
    {
     "data": {
      "text/plain": [
       "Tech(\"reforming\", Any[Resource(\"syngas_pyr\", Real[369], \"kg/h\", Vector{Real}[[1]]), Resource(\"oxygen\", Real[56.9], \"kg/h\", Vector{Real}[[1]])], Any[Resource(\"syngas_ref\", Real[425.9], \"kg/h\", Vector{Real}[[1]])], HeatStruct[HeatStruct(4.2, 298.0, 579.0), HeatStruct(108.9, 579.0, 1073.0)], Real[0.0, Inf], Real[0.0, 0.0, 0.0], Real[0, 1], Real[-1, 1], Real[0])"
      ]
     },
     "execution_count": 21,
     "metadata": {},
     "output_type": "execute_result"
    }
   ],
   "source": [
    "pyrolysis_in = [\n",
    "    Resource(\"straw\",468.72,\"kg/h\",[1]),\n",
    "    Resource(\"steam_1.05\",23.44,\"kg/h\",[1]),\n",
    "    Resource(\"power\",5.2,\"kW\",[1])\n",
    "    ]\n",
    "\n",
    "pyrolysis_out = [\n",
    "    Resource(\"syngas_pyr\",369,\"kg/h\",[1]),\n",
    "    Resource(\"char\",123.01,\"kg/h\",[1])\n",
    "    ]\n",
    "\n",
    "pyrolysis_heat = [\n",
    "    HeatStruct(4.594, 374, 723),    # Steam heater\n",
    "    HeatStruct(143.3, 579, 773)     # Pyrolysis gas recycle\n",
    "    ]\n",
    "\n",
    "pyrolysis = Tech(\"pyrolysis\",pyrolysis_in,pyrolysis_out,pyrolysis_heat)\n",
    "\n",
    "reforming_in = [\n",
    "    Resource(\"syngas_pyr\",369,\"kg/h\",[1]),\n",
    "    Resource(\"oxygen\",56.9,\"kg/h\",[1]),\n",
    "    ]\n",
    "    \n",
    "reforming_out = [\n",
    "    Resource(\"syngas_ref\",425.9,\"kg/h\",[1])\n",
    "    ]\n",
    "\n",
    "reforming_heat = [\n",
    "    HeatStruct(4.2, 298, 579),      # Oxygen heater\n",
    "    HeatStruct(108.9, 579, 1073)    # Preheater\n",
    "    ]\n",
    "\n",
    "reforming = Tech(\"reforming\",reforming_in,reforming_out,reforming_heat)"
   ]
  },
  {
   "attachments": {},
   "cell_type": "markdown",
   "metadata": {},
   "source": [
    "### Carbon capture"
   ]
  },
  {
   "attachments": {},
   "cell_type": "markdown",
   "metadata": {},
   "source": [
    "![CC image](./CC.png)"
   ]
  },
  {
   "cell_type": "code",
   "execution_count": 22,
   "metadata": {},
   "outputs": [
    {
     "data": {
      "text/plain": [
       "Tech(\"CC\", Any[Resource(\"syngas_ref\", Real[425.9], \"kg/h\", Vector{Real}[[1]]), Resource(\"steam_15\", Real[100.7], \"kg/h\", Vector{Real}[[1]]), Resource(\"steam_3\", Real[238.7], \"kg/h\", Vector{Real}[[1]]), Resource(\"water\", Real[7.4], \"kg/h\", Vector{Real}[[1]]), Resource(\"power\", Real[97], \"kW\", Vector{Real}[[1]])], Any[Resource(\"syngas_cc\", Real[185.3], \"kg/h\", Vector{Real}[[1]]), Resource(\"water\", Real[147.1], \"kg/h\", Vector{Real}[[1]]), Resource(\"purge_cc\", Real[200.6], \"kg/h\", Vector{Real}[[1]]), Resource(\"cond_3\", Real[238.7], \"kg/h\", Vector{Real}[[1]])], HeatStruct[HeatStruct(164.2, 1073.0, 340.0), HeatStruct(57.2, 340.0, 313.0), HeatStruct(25.5, 313.0, 471.0), HeatStruct(34.7, 468.0, 623.0), HeatStruct(79.0, 736.0, 394.0), HeatStruct(56.5, 394.0, 313.0), HeatStruct(127.0, 340.0, 363.0), HeatStruct(242.0, 393.0, 313.0), HeatStruct(25.0, 327.0, 326.0)], Real[0.0, Inf], Real[0.0, 0.0, 0.0], Real[0, 1], Real[-1, 1], Real[0])"
      ]
     },
     "execution_count": 22,
     "metadata": {},
     "output_type": "execute_result"
    }
   ],
   "source": [
    "cc_in = [\n",
    "    Resource(\"syngas_ref\",425.9,\"kg/h\",[1]),\n",
    "    Resource(\"steam_15\",100.7,\"kg/h\",[1]),\n",
    "    Resource(\"steam_3\",238.7,\"kg/h\",[1]),\n",
    "    Resource(\"water\",7.4,\"kg/h\",[1]),\n",
    "    Resource(\"power\",97,\"kW\",[1]),\n",
    "    ]\n",
    "\n",
    "cc_out = [\n",
    "    Resource(\"syngas_cc\",185.3,\"kg/h\",[1]),\n",
    "    Resource(\"water\",147.1,\"kg/h\",[1]),\n",
    "    Resource(\"purge_cc\",200.6,\"kg/h\",[1]),\n",
    "    Resource(\"cond_3\",238.7,\"kg/h\",[1])\n",
    "    ]\n",
    "\n",
    "cc_q = [\n",
    "    HeatStruct(164.2,1073,340),     # Syngas cooler\n",
    "    HeatStruct(57.2, 340, 313),     # Syngas condenser\n",
    "    HeatStruct(25.5, 313, 471),     # Post compression\n",
    "    HeatStruct(34.7, 468, 623),     # Pre-shift\n",
    "    HeatStruct(79, 736, 394),       # Post-shift\n",
    "    HeatStruct(56.5, 394, 313),     # Post-shift-condenser\n",
    "    HeatStruct(127, 340, 363),      # Liquid heating\n",
    "    HeatStruct(242, 393, 313),      # Liquid cooling\n",
    "    HeatStruct(25, 327, 326),       # Condenser\n",
    "    ]\n",
    "\n",
    "cc = Tech(\"CC\",cc_in,cc_out,cc_q)"
   ]
  },
  {
   "attachments": {},
   "cell_type": "markdown",
   "metadata": {},
   "source": [
    "### Burner (CC)"
   ]
  },
  {
   "attachments": {},
   "cell_type": "markdown",
   "metadata": {},
   "source": [
    "![Burner](Burner.png)"
   ]
  },
  {
   "cell_type": "code",
   "execution_count": 23,
   "metadata": {},
   "outputs": [
    {
     "data": {
      "text/plain": [
       "Tech(\"burn_cc\", Any[Resource(\"purge_cc\", Real[200.6], \"kg/h\", Vector{Real}[[1]]), Resource(\"oxygen\", Real[0.3], \"kg/h\", Vector{Real}[[1]])], Any[Resource(\"co2\", Real[198.1], \"kg/h\", Vector{Real}[[1]]), Resource(\"water\", Real[2.7], \"kg/h\", Vector{Real}[[1]])], HeatStruct[HeatStruct(4.0, 349.0, 313.0)], Real[0.0, Inf], Real[0.0, 0.0, 0.0], Real[0, 1], Real[-1, 1], Real[0])"
      ]
     },
     "execution_count": 23,
     "metadata": {},
     "output_type": "execute_result"
    }
   ],
   "source": [
    "burn_cc_in = [\n",
    "    Resource(\"purge_cc\",200.6,\"kg/h\",[1]),\n",
    "    Resource(\"oxygen\",0.3,\"kg/h\",[1]),\n",
    "    ]\n",
    "burn_cc_out = [\n",
    "    Resource(\"co2\",198.1,\"kg/h\",[1]),\n",
    "    Resource(\"water\",2.7,\"kg/h\",[1])\n",
    "    ]\n",
    "burn_cc_heat = [\n",
    "    HeatStruct(4,349,313)   # Condenser\n",
    "]\n",
    "burn_cc = Tech(\"burn_cc\",burn_cc_in,burn_cc_out,burn_cc_heat)"
   ]
  },
  {
   "attachments": {},
   "cell_type": "markdown",
   "metadata": {},
   "source": [
    "### Methanol (CC)"
   ]
  },
  {
   "attachments": {},
   "cell_type": "markdown",
   "metadata": {},
   "source": [
    "![Methanol](MeOH.png)"
   ]
  },
  {
   "cell_type": "code",
   "execution_count": 24,
   "metadata": {},
   "outputs": [
    {
     "data": {
      "text/plain": [
       "Tech(\"meoh_cc\", Any[Resource(\"syngas_cc\", Real[185.3], \"kg/h\", Vector{Real}[[1]]), Resource(\"steam_3\", Real[204.3], \"kg/h\", Vector{Real}[[1]]), Resource(\"power\", Real[3.1], \"kW\", Vector{Real}[[1]])], Any[Resource(\"meOH\", Real[148.5], \"kg/h\", Vector{Real}[[1]]), Resource(\"cond_3\", Real[204.3], \"kg/h\", Vector{Real}[[1]]), Resource(\"purge_meOH_cc\", Real[9.1], \"kg/h\", Vector{Real}[[1]]), Resource(\"water\", Real[27.69], \"kg/h\", Vector{Real}[[1]])], HeatStruct[HeatStruct(125.7, 318.0, 538.0), HeatStruct(113.3, 538.0, 537.0), HeatStruct(69.3, 537.0, 409.0), HeatStruct(118.5, 409.0, 313.0), HeatStruct(2.9, 314.0, 328.0), HeatStruct(0.9, 318.0, 317.0), HeatStruct(122.8, 343.0, 342.0), HeatStruct(4.7, 343.0, 313.0), HeatStruct(2.8, 387.0, 313.0)], Real[0.0, Inf], Real[0.0, 0.0, 0.0], Real[0, 1], Real[-1, 1], Real[0])"
      ]
     },
     "execution_count": 24,
     "metadata": {},
     "output_type": "execute_result"
    }
   ],
   "source": [
    "meoh_cc_in = [\n",
    "    Resource(\"syngas_cc\",185.3,\"kg/h\",[1]),\n",
    "    Resource(\"steam_3\",204.3,\"kg/h\",[1]),\n",
    "    Resource(\"power\",3.10,\"kW\",[1])\n",
    "    ]\n",
    "\n",
    "meoh_cc_out =[\n",
    "    Resource(\"meOH\",148.5,\"kg/h\",[1]),\n",
    "    Resource(\"cond_3\",204.3,\"kg/h\",[1]),\n",
    "    Resource(\"purge_meOH_cc\",9.1,\"kg/h\",[1]),\n",
    "    Resource(\"water\",27.69,\"kg/h\",[1]),\n",
    "    ]\n",
    "\n",
    "meoh_cc_heat = [\n",
    "    HeatStruct(125.7, 318, 538),    # Reactor preheater\n",
    "    HeatStruct(113.3, 538, 537),    # Reactor\n",
    "    HeatStruct(69.3, 537, 409),     # Reactor post cooler\n",
    "    HeatStruct(118.5, 409, 313),    # Reactor post Condenser\n",
    "    HeatStruct(2.9, 314, 328),      # Column preheater\n",
    "    HeatStruct(0.9, 318, 317),      # Condenser 1\n",
    "    HeatStruct(122.8, 343, 342),    # Condenser 2\n",
    "    HeatStruct(4.7, 343, 313),      # Methanol cooler\n",
    "    HeatStruct(2.8, 387, 313),      # Water cooler\n",
    "    ] \n",
    "\n",
    "meoh_cc = Tech(\"meoh_cc\",meoh_cc_in,meoh_cc_out,meoh_cc_heat)"
   ]
  },
  {
   "attachments": {},
   "cell_type": "markdown",
   "metadata": {},
   "source": [
    "### Burner (meOH-CC)"
   ]
  },
  {
   "attachments": {},
   "cell_type": "markdown",
   "metadata": {},
   "source": [
    "![Burner](Burner.png)"
   ]
  },
  {
   "cell_type": "code",
   "execution_count": 25,
   "metadata": {},
   "outputs": [
    {
     "data": {
      "text/plain": [
       "Tech(\"burn_meOH_cc\", Any[Resource(\"purge_meOH_cc\", Real[9.1], \"kg/h\", Vector{Real}[[1]]), Resource(\"air\", Real[49.5], \"kg/h\", Vector{Real}[[1]]), Resource(\"power\", Real[0.1], \"kW\", Vector{Real}[[1]])], Any[], HeatStruct[HeatStruct(1.9, 304.0, 398.0), HeatStruct(34.2, 1174.0, 1173.0), HeatStruct(21.7, 1173.0, 433.0)], Real[0.0, Inf], Real[0.0, 0.0, 0.0], Real[0, 1], Real[-1, 1], Real[0])"
      ]
     },
     "execution_count": 25,
     "metadata": {},
     "output_type": "execute_result"
    }
   ],
   "source": [
    "burn_meOH_cc_in = [\n",
    "    Resource(\"purge_meOH_cc\",9.1,\"kg/h\",[1]),\n",
    "    Resource(\"air\",49.5,\"kg/h\",[1]),\n",
    "    Resource(\"power\",0.1,\"kW\",[1])\n",
    "    ]\n",
    "\n",
    "burn_meOH_cc_heat = [\n",
    "    HeatStruct(1.9, 304, 398),      # Air preheater\n",
    "    HeatStruct(34.2,1174,1173),     # Radiactive heating\n",
    "    HeatStruct(21.7,1173,433)       # Convective heating\n",
    "    ]\n",
    "\n",
    "burn_meOH_cc = Tech(\"burn_meOH_cc\",burn_meOH_cc_in,[],burn_meOH_cc_heat)"
   ]
  },
  {
   "attachments": {},
   "cell_type": "markdown",
   "metadata": {},
   "source": [
    "## Utilities"
   ]
  },
  {
   "attachments": {},
   "cell_type": "markdown",
   "metadata": {},
   "source": [
    "Here we include the utilities technologies that we would like to have as options. As I mentioned in the tutorial, the classification \"process\" and \"utilities\" is a bit subjective and it only exists in vivi for plots."
   ]
  },
  {
   "attachments": {},
   "cell_type": "markdown",
   "metadata": {},
   "source": [
    "### Burner (straw) and Burner (Pyrolysis gas)"
   ]
  },
  {
   "attachments": {},
   "cell_type": "markdown",
   "metadata": {},
   "source": [
    "![Burner](Burner.png)"
   ]
  },
  {
   "cell_type": "code",
   "execution_count": 26,
   "metadata": {},
   "outputs": [
    {
     "data": {
      "text/plain": [
       "Tech(\"burn_pyr\", Any[Resource(\"syngas_pyr\", Real[369], \"kg/h\", Vector{Real}[[1]]), Resource(\"air\", Real[1430.3], \"kg/h\", Vector{Real}[[1]]), Resource(\"power\", Real[2.5], \"kW\", Vector{Real}[[1]])], Any[], HeatStruct[HeatStruct(38.0, 304.0, 398.0), HeatStruct(595.0, 1174.0, 1173.0), HeatStruct(470.5, 1173.0, 433.0)], Real[0.0, Inf], Real[0.0, 0.0, 0.0], Real[0, 1], Real[-1, 1], Real[0])"
      ]
     },
     "execution_count": 26,
     "metadata": {},
     "output_type": "execute_result"
    }
   ],
   "source": [
    "burn_straw_in = [\n",
    "    Resource(\"straw\",468.72,\"kg/h\",[1]),\n",
    "    Resource(\"power\",0.28,\"kW\",[1]),\n",
    "    ]\n",
    "\n",
    "burn_straw_heat = [\n",
    "    HeatStruct(78.9,298,398),       # Air preheater\n",
    "    HeatStruct(1065.0,1174,1173),   # Radiactive heating\n",
    "    HeatStruct(789.1,1173,433)      # Convective heating\n",
    "    ]\n",
    "burn_straw = Tech(\"burn_straw\",burn_straw_in,[],burn_straw_heat)\n",
    "\n",
    "burn_pyr_in = [\n",
    "    Resource(\"syngas_pyr\",369,\"kg/h\",[1]),\n",
    "    Resource(\"air\",1430.3,\"kg/h\",[1]),\n",
    "    Resource(\"power\",2.5,\"kW\",[1])\n",
    "    ]\n",
    "\n",
    "burn_pyr_heat = [\n",
    "    HeatStruct(38, 304, 398),       # Air preheater\n",
    "    HeatStruct(595, 1174, 1173),    # Radiactive heating\n",
    "    HeatStruct(470.5, 1173, 433)    # Convective heating\n",
    "    ]\n",
    "\n",
    "burn_pyr = Tech(\"burn_pyr\",burn_pyr_in,[],burn_pyr_heat)"
   ]
  },
  {
   "attachments": {},
   "cell_type": "markdown",
   "metadata": {},
   "source": [
    "### Steam boiler (1.05/1.12/3.25/15 bar)"
   ]
  },
  {
   "attachments": {},
   "cell_type": "markdown",
   "metadata": {},
   "source": [
    "![Boiler](Boiler.png)"
   ]
  },
  {
   "cell_type": "code",
   "execution_count": 27,
   "metadata": {},
   "outputs": [
    {
     "data": {
      "text/plain": [
       "Tech(\"steamBoiler_15\", Any[Resource(\"power\", Real[2.411], \"kW\", Vector{Real}[[1]]), Resource(\"water\", Real[3600], \"kg/h\", Vector{Real}[[1]])], Any[Resource(\"steam_15\", Real[3600], \"kg/h\", Vector{Real}[[1]])], HeatStruct[HeatStruct(737.5, 298.0, 472.0), HeatStruct(1946.0, 472.0, 473.0)], Real[0.0, Inf], Real[0.0, 0.0, 0.0], Real[0, 1], Real[-1, 1], Real[0])"
      ]
     },
     "execution_count": 27,
     "metadata": {},
     "output_type": "execute_result"
    }
   ],
   "source": [
    "steam_105_in =[\n",
    "    Resource(\"power\",0.006,\"kW\",[1]),\n",
    "    Resource(\"water\",3600,\"kg/h\",[1])\n",
    "    ]\n",
    "steam_105_out = [\n",
    "    Resource(\"steam_1.05\",3600,\"kg/h\",[1])\n",
    "    ]\n",
    "steam_105_heat = [\n",
    "    HeatStruct(318.4,298,374),  # Preheater\n",
    "    HeatStruct(2225,374,375)    # Phase change\n",
    "    ]\n",
    "\n",
    "steam_105 = Tech(\"steamBoiler_1.05\",steam_105_in,steam_105_out,steam_105_heat)\n",
    "\n",
    "steam_112_in = [\n",
    "    Resource(\"power\",0.017,\"kW\",[1]),\n",
    "    Resource(\"water\",3600,\"kg/h\",[1])\n",
    "    ]\n",
    "steam_112_out = [\n",
    "    Resource(\"steam_1.12\",3600,\"kg/h\",[1])\n",
    "    ]\n",
    "steam_112_heat = [\n",
    "    HeatStruct(326.1,298,376),  # Preheater\n",
    "    HeatStruct(2249,376,377)    # Phase change\n",
    "    ]\n",
    "\n",
    "steam_112 = Tech(\"steamBoiler_1.12\",steam_112_in,steam_112_out,steam_112_heat)\n",
    "\n",
    "steam_3_in = [\n",
    "    Resource(\"cond_3\",3600,\"kg/h\",[1]),\n",
    "    Resource(\"power\",0.26,\"kW\",[1])\n",
    "    ]\n",
    "steam_3_out = [Resource(\"steam_3\",3600,\"kg/h\",[1])]\n",
    "\n",
    "steam_3_heat = [\n",
    "    HeatStruct(2155, 135+273.15, 136+273.15)    # Phase change\n",
    "    ]\n",
    "\n",
    "steam_3 = Tech(\"steamBoiler_3.25\",steam_3_in,steam_3_out,steam_3_heat)\n",
    "\n",
    "steam_15_in = [\n",
    "    Resource(\"power\",2.411,\"kW\",[1]),\n",
    "    Resource(\"water\",3600,\"kg/h\",[1])\n",
    "    ]\n",
    "steam_15_out = [Resource(\"steam_15\",3600,\"kg/h\",[1])]\n",
    "\n",
    "steam_15_heat = [\n",
    "    HeatStruct(737.5,298,472),  # Preheater\n",
    "    HeatStruct(1946,472,473)    # Phase change\n",
    "    ]\n",
    "\n",
    "steam_15 = Tech(\"steamBoiler_15\",steam_15_in,steam_15_out,steam_15_heat)"
   ]
  },
  {
   "attachments": {},
   "cell_type": "markdown",
   "metadata": {},
   "source": [
    "### Cooling water"
   ]
  },
  {
   "cell_type": "code",
   "execution_count": 28,
   "metadata": {},
   "outputs": [
    {
     "data": {
      "text/plain": [
       "Tech(\"CW\", Any[Resource(\"power\", Real[0.715], \"kW\", Vector{Real}[[1]])], Any[], HeatStruct[HeatStruct(100.0, 298.0, 318.0)], Real[0.0, Inf], Real[0.0, 0.0, 0.0], Real[0, 1], Real[-1, 1], Real[0])"
      ]
     },
     "execution_count": 28,
     "metadata": {},
     "output_type": "execute_result"
    }
   ],
   "source": [
    "cw_in = [Resource(\"power\",0.715,\"kW\",[1])] \n",
    "cw_heat = [HeatStruct(100,298,45+273)]      # Cooling\n",
    "cw = Tech(\"CW\",cw_in,[],cw_heat)\n"
   ]
  },
  {
   "attachments": {},
   "cell_type": "markdown",
   "metadata": {},
   "source": [
    "### Electric heaters"
   ]
  },
  {
   "cell_type": "code",
   "execution_count": 29,
   "metadata": {},
   "outputs": [
    {
     "data": {
      "text/plain": [
       "Tech(\"EH\", Any[Resource(\"power\", Real[300.0], \"kW\", Vector{Real}[[1]])], Any[], HeatStruct[HeatStruct(300.0, 1273.0, 1272.0)], Real[0.0, Inf], Real[0.0, 0.0, 0.0], Real[0, 1], Real[-1, 1], Real[0])"
      ]
     },
     "execution_count": 29,
     "metadata": {},
     "output_type": "execute_result"
    }
   ],
   "source": [
    "eh_in = [Resource(\"power\",300.0,\"kW\",[1])]\n",
    "eh_heat = [HeatStruct(300.0,1273,1272)]     # Heating\n",
    "eh = Tech(\"EH\",eh_in,[],eh_heat)"
   ]
  },
  {
   "attachments": {},
   "cell_type": "markdown",
   "metadata": {},
   "source": [
    "## Problem"
   ]
  },
  {
   "attachments": {},
   "cell_type": "markdown",
   "metadata": {},
   "source": [
    "Now is where we actually describe the problem. All the trouble we had in the previous lines was to create our \"database\" of technologies, so we can \"call\" them when creating a problem."
   ]
  },
  {
   "attachments": {},
   "cell_type": "markdown",
   "metadata": {},
   "source": [
    "### Inputs"
   ]
  },
  {
   "attachments": {},
   "cell_type": "markdown",
   "metadata": {},
   "source": [
    "Inputs are the resources that we allow to import. So we should specify if they have a limit and how much it costs per unit. I'll not impose any limit, so every resource will have *Inf*.\n",
    "\n",
    "In order to make the analysis more convinient, we can more than one cost type. Here I going to include three types of cost: **energy, carbon and money**."
   ]
  },
  {
   "cell_type": "code",
   "execution_count": 30,
   "metadata": {},
   "outputs": [
    {
     "data": {
      "text/plain": [
       "Resource(\"power\", Real[Inf], \"kW\", Vector{Real}[[1.0], [0.0], [0.05]])"
      ]
     },
     "execution_count": 30,
     "metadata": {},
     "output_type": "execute_result"
    }
   ],
   "source": [
    "# Straw\n",
    "lhv_straw = 2000/468.72 # kWh/kg_straw\n",
    "c_straw = 0.05541*3600/468.72 # kg_C/kg_straw\n",
    "eur_straw = 6*(lhv_straw*3.6/1000) # EUR/kg_straw - 6 EUR/GJ DK report\n",
    "\n",
    "straw = Resource(\"straw\",Inf,\"kg/h\",[lhv_straw,c_straw,eur_straw]) # exergy basis\n",
    "\n",
    "# Oxygen\n",
    "oxy_cost = 0.05 # USD /kg\n",
    "oxygen = Resource(\"oxygen\",Inf,\"kg/h\",[0,0,oxy_cost])\n",
    "\n",
    "# Water\n",
    "h2o_cost = 0.067/1E3*(708/397.54) # USD/kg\n",
    "water = Resource(\"water\",Inf,\"kg/h\",[0,0,h2o_cost])\n",
    "\n",
    "# Air\n",
    "air = Resource(\"air\",Inf,\"kg/h\",[0,0,0])\n",
    "\n",
    "# Electricity\n",
    "eur_power = 0.05 # EUR / kWh\n",
    "power = Resource(\"power\",Inf,\"kW\",[1,0,eur_power]) # Assuming complete renewable energy"
   ]
  },
  {
   "attachments": {},
   "cell_type": "markdown",
   "metadata": {},
   "source": [
    "### Outputs"
   ]
  },
  {
   "attachments": {},
   "cell_type": "markdown",
   "metadata": {},
   "source": [
    "Outputs are the resources that we intend to sell/store for profit. So it doesn't mean every output from our plant, but rather the ones that we would like to account in the optimization.\n",
    "\n",
    "Here I gonna do something \"clever\" and set all costs for methanol as **zero**. This way I'm changing the optimization objective from \"maximize profits\" to \"minimize the costs\" in producing 1 ton/h of methanol.\n",
    "\n",
    "Setting a demand for methanol is important, otherwise the optimization would \"explode\" to infinity."
   ]
  },
  {
   "cell_type": "code",
   "execution_count": 31,
   "metadata": {},
   "outputs": [
    {
     "data": {
      "text/plain": [
       "Resource(\"char\", Real[Inf], \"kg/h\", Vector{Real}[[7.677222222222222], [0.7178811823236757], [0.04145700000000001]])"
      ]
     },
     "execution_count": 31,
     "metadata": {},
     "output_type": "execute_result"
    }
   ],
   "source": [
    "# Methanol\n",
    "lhv_meOH = 0 # 19.930*1E3/3600 # kWh/kg\n",
    "c_meOH = 0 # 54.136/144.42 # kg_C / kg_meOH\n",
    "meOH_cost = 0 # varies USD/kg - Assumed to minize the cost of production\n",
    "meOH = Resource(\"meOH\",1000,\"kg/h\",[lhv_meOH,c_meOH,meOH_cost])\n",
    "\n",
    "# CO2\n",
    "c_co2 = 12/44 # kg_C / kg_CO2\n",
    "co2 = Resource(\"co2\",Inf,\"kg/h\",[0,c_co2,0])\n",
    "\n",
    "# Char\n",
    "c_char = 0.02453/0.03417 # kg_C / kg_char\n",
    "lhv_char = 27638/3600 # kWh/kg\n",
    "char_cost = 1.5*(lhv_char*3.6/1000) # EUR/kg_straw - Giacomo # eur_straw/lhv_straw*lhv_char # proportional to energy content\n",
    "char = Resource(\"char\",Inf,\"kg/h\",[lhv_char,c_char,char_cost])"
   ]
  },
  {
   "attachments": {},
   "cell_type": "markdown",
   "metadata": {},
   "source": [
    "### Specifying problem"
   ]
  },
  {
   "cell_type": "code",
   "execution_count": 32,
   "metadata": {},
   "outputs": [
    {
     "data": {
      "text/plain": [
       "Problem(Any[Resource(\"straw\", Real[Inf], \"kg/h\", Vector{Real}[[4.266939750810718], [0.4255760368663594], [0.09216589861751152]]), Resource(\"oxygen\", Real[Inf], \"kg/h\", Vector{Real}[[0.0], [0.0], [0.05]]), Resource(\"water\", Real[Inf], \"kg/h\", Vector{Real}[[0.0], [0.0], [0.00011932384162599989]]), Resource(\"air\", Real[Inf], \"kg/h\", Vector{Real}[[0], [0], [0]]), Resource(\"power\", Real[Inf], \"kW\", Vector{Real}[[1.0], [0.0], [0.05]])], Any[Tech(\"pyrolysis\", Any[Resource(\"straw\", Real[468.72], \"kg/h\", Vector{Real}[[1]]), Resource(\"steam_1.05\", Real[23.44], \"kg/h\", Vector{Real}[[1]]), Resource(\"power\", Real[5.2], \"kW\", Vector{Real}[[1]])], Any[Resource(\"syngas_pyr\", Real[369], \"kg/h\", Vector{Real}[[1]]), Resource(\"char\", Real[123.01], \"kg/h\", Vector{Real}[[1]])], HeatStruct[HeatStruct(4.594, 374.0, 723.0), HeatStruct(143.3, 579.0, 773.0)], Real[0.0, Inf], Real[0.0, 0.0, 0.0], Real[0, 1], Real[-1, 1], Real[0]), Tech(\"reforming\", Any[Resource(\"syngas_pyr\", Real[369], \"kg/h\", Vector{Real}[[1]]), Resource(\"oxygen\", Real[56.9], \"kg/h\", Vector{Real}[[1]])], Any[Resource(\"syngas_ref\", Real[425.9], \"kg/h\", Vector{Real}[[1]])], HeatStruct[HeatStruct(4.2, 298.0, 579.0), HeatStruct(108.9, 579.0, 1073.0)], Real[0.0, Inf], Real[0.0, 0.0, 0.0], Real[0, 1], Real[-1, 1], Real[0]), Tech(\"CC\", Any[Resource(\"syngas_ref\", Real[425.9], \"kg/h\", Vector{Real}[[1]]), Resource(\"steam_15\", Real[100.7], \"kg/h\", Vector{Real}[[1]]), Resource(\"steam_3\", Real[238.7], \"kg/h\", Vector{Real}[[1]]), Resource(\"water\", Real[7.4], \"kg/h\", Vector{Real}[[1]]), Resource(\"power\", Real[97], \"kW\", Vector{Real}[[1]])], Any[Resource(\"syngas_cc\", Real[185.3], \"kg/h\", Vector{Real}[[1]]), Resource(\"water\", Real[147.1], \"kg/h\", Vector{Real}[[1]]), Resource(\"purge_cc\", Real[200.6], \"kg/h\", Vector{Real}[[1]]), Resource(\"cond_3\", Real[238.7], \"kg/h\", Vector{Real}[[1]])], HeatStruct[HeatStruct(164.2, 1073.0, 340.0), HeatStruct(57.2, 340.0, 313.0), HeatStruct(25.5, 313.0, 471.0), HeatStruct(34.7, 468.0, 623.0), HeatStruct(79.0, 736.0, 394.0), HeatStruct(56.5, 394.0, 313.0), HeatStruct(127.0, 340.0, 363.0), HeatStruct(242.0, 393.0, 313.0), HeatStruct(25.0, 327.0, 326.0)], Real[0.0, Inf], Real[0.0, 0.0, 0.0], Real[0, 1], Real[-1, 1], Real[0]), Tech(\"burn_cc\", Any[Resource(\"purge_cc\", Real[200.6], \"kg/h\", Vector{Real}[[1]]), Resource(\"oxygen\", Real[0.3], \"kg/h\", Vector{Real}[[1]])], Any[Resource(\"co2\", Real[198.1], \"kg/h\", Vector{Real}[[1]]), Resource(\"water\", Real[2.7], \"kg/h\", Vector{Real}[[1]])], HeatStruct[HeatStruct(4.0, 349.0, 313.0)], Real[0.0, Inf], Real[0.0, 0.0, 0.0], Real[0, 1], Real[-1, 1], Real[0]), Tech(\"meoh_cc\", Any[Resource(\"syngas_cc\", Real[185.3], \"kg/h\", Vector{Real}[[1]]), Resource(\"steam_3\", Real[204.3], \"kg/h\", Vector{Real}[[1]]), Resource(\"power\", Real[3.1], \"kW\", Vector{Real}[[1]])], Any[Resource(\"meOH\", Real[148.5], \"kg/h\", Vector{Real}[[1]]), Resource(\"cond_3\", Real[204.3], \"kg/h\", Vector{Real}[[1]]), Resource(\"purge_meOH_cc\", Real[9.1], \"kg/h\", Vector{Real}[[1]]), Resource(\"water\", Real[27.69], \"kg/h\", Vector{Real}[[1]])], HeatStruct[HeatStruct(125.7, 318.0, 538.0), HeatStruct(113.3, 538.0, 537.0), HeatStruct(69.3, 537.0, 409.0), HeatStruct(118.5, 409.0, 313.0), HeatStruct(2.9, 314.0, 328.0), HeatStruct(0.9, 318.0, 317.0), HeatStruct(122.8, 343.0, 342.0), HeatStruct(4.7, 343.0, 313.0), HeatStruct(2.8, 387.0, 313.0)], Real[0.0, Inf], Real[0.0, 0.0, 0.0], Real[0, 1], Real[-1, 1], Real[0]), Tech(\"burn_meOH_cc\", Any[Resource(\"purge_meOH_cc\", Real[9.1], \"kg/h\", Vector{Real}[[1]]), Resource(\"air\", Real[49.5], \"kg/h\", Vector{Real}[[1]]), Resource(\"power\", Real[0.1], \"kW\", Vector{Real}[[1]])], Any[], HeatStruct[HeatStruct(1.9, 304.0, 398.0), HeatStruct(34.2, 1174.0, 1173.0), HeatStruct(21.7, 1173.0, 433.0)], Real[0.0, Inf], Real[0.0, 0.0, 0.0], Real[0, 1], Real[-1, 1], Real[0])], Any[Resource(\"meOH\", Real[1000], \"kg/h\", Vector{Real}[[0], [0], [0]]), Resource(\"co2\", Real[Inf], \"kg/h\", Vector{Real}[[0.0], [0.2727272727272727], [0.0]]), Resource(\"char\", Real[Inf], \"kg/h\", Vector{Real}[[7.677222222222222], [0.7178811823236757], [0.04145700000000001]]), Resource(\"water\", Real[Inf], \"kg/h\", Vector{Real}[[0.0], [0.0], [0.00011932384162599989]])], Any[Tech(\"burn_straw\", Any[Resource(\"straw\", Real[468.72], \"kg/h\", Vector{Real}[[1]]), Resource(\"power\", Real[0.28], \"kW\", Vector{Real}[[1]])], Any[], HeatStruct[HeatStruct(78.9, 298.0, 398.0), HeatStruct(1065.0, 1174.0, 1173.0), HeatStruct(789.1, 1173.0, 433.0)], Real[0.0, Inf], Real[0.0, 0.0, 0.0], Real[0, 1], Real[-1, 1], Real[0]), Tech(\"burn_pyr\", Any[Resource(\"syngas_pyr\", Real[369], \"kg/h\", Vector{Real}[[1]]), Resource(\"air\", Real[1430.3], \"kg/h\", Vector{Real}[[1]]), Resource(\"power\", Real[2.5], \"kW\", Vector{Real}[[1]])], Any[], HeatStruct[HeatStruct(38.0, 304.0, 398.0), HeatStruct(595.0, 1174.0, 1173.0), HeatStruct(470.5, 1173.0, 433.0)], Real[0.0, Inf], Real[0.0, 0.0, 0.0], Real[0, 1], Real[-1, 1], Real[0]), Tech(\"steamBoiler_1.05\", Any[Resource(\"power\", Real[0.006], \"kW\", Vector{Real}[[1]]), Resource(\"water\", Real[3600], \"kg/h\", Vector{Real}[[1]])], Any[Resource(\"steam_1.05\", Real[3600], \"kg/h\", Vector{Real}[[1]])], HeatStruct[HeatStruct(318.4, 298.0, 374.0), HeatStruct(2225.0, 374.0, 375.0)], Real[0.0, Inf], Real[0.0, 0.0, 0.0], Real[0, 1], Real[-1, 1], Real[0]), Tech(\"steamBoiler_1.12\", Any[Resource(\"power\", Real[0.017], \"kW\", Vector{Real}[[1]]), Resource(\"water\", Real[3600], \"kg/h\", Vector{Real}[[1]])], Any[Resource(\"steam_1.12\", Real[3600], \"kg/h\", Vector{Real}[[1]])], HeatStruct[HeatStruct(326.1, 298.0, 376.0), HeatStruct(2249.0, 376.0, 377.0)], Real[0.0, Inf], Real[0.0, 0.0, 0.0], Real[0, 1], Real[-1, 1], Real[0]), Tech(\"steamBoiler_3.25\", Any[Resource(\"cond_3\", Real[3600], \"kg/h\", Vector{Real}[[1]]), Resource(\"power\", Real[0.26], \"kW\", Vector{Real}[[1]])], Any[Resource(\"steam_3\", Real[3600], \"kg/h\", Vector{Real}[[1]])], HeatStruct[HeatStruct(2155.0, 408.15, 409.15)], Real[0.0, Inf], Real[0.0, 0.0, 0.0], Real[0, 1], Real[-1, 1], Real[0]), Tech(\"steamBoiler_15\", Any[Resource(\"power\", Real[2.411], \"kW\", Vector{Real}[[1]]), Resource(\"water\", Real[3600], \"kg/h\", Vector{Real}[[1]])], Any[Resource(\"steam_15\", Real[3600], \"kg/h\", Vector{Real}[[1]])], HeatStruct[HeatStruct(737.5, 298.0, 472.0), HeatStruct(1946.0, 472.0, 473.0)], Real[0.0, Inf], Real[0.0, 0.0, 0.0], Real[0, 1], Real[-1, 1], Real[0]), Tech(\"CW\", Any[Resource(\"power\", Real[0.715], \"kW\", Vector{Real}[[1]])], Any[], HeatStruct[HeatStruct(100.0, 298.0, 318.0)], Real[0.0, Inf], Real[0.0, 0.0, 0.0], Real[0, 1], Real[-1, 1], Real[0]), Tech(\"EH\", Any[Resource(\"power\", Real[300.0], \"kW\", Vector{Real}[[1]])], Any[], HeatStruct[HeatStruct(300.0, 1273.0, 1272.0)], Real[0.0, Inf], Real[0.0, 0.0, 0.0], Real[0, 1], Real[-1, 1], Real[0])], Any[])"
      ]
     },
     "execution_count": 32,
     "metadata": {},
     "output_type": "execute_result"
    }
   ],
   "source": [
    "inputs = [\n",
    "    straw,\n",
    "    oxygen,\n",
    "    water,\n",
    "    air,\n",
    "    power\n",
    "    ]\n",
    "\n",
    "outputs = [\n",
    "    meOH,\n",
    "    co2,\n",
    "    char,\n",
    "    water\n",
    "    ]\n",
    "\n",
    "processes = [\n",
    " pyrolysis,\n",
    " reforming,\n",
    " cc,\n",
    " burn_cc,\n",
    " meoh_cc,\n",
    " burn_meOH_cc,\n",
    "]\n",
    "\n",
    "utilities = [\n",
    "    burn_straw,\n",
    "    burn_pyr,\n",
    "    steam_105,\n",
    "    steam_112,\n",
    "    steam_3,\n",
    "    steam_15,\n",
    "    cw,\n",
    "    eh\n",
    "]\n",
    "\n",
    "problem = Problem(inputs,processes,outputs,utilities)"
   ]
  },
  {
   "attachments": {},
   "cell_type": "markdown",
   "metadata": {},
   "source": [
    "### Solving"
   ]
  },
  {
   "attachments": {},
   "cell_type": "markdown",
   "metadata": {},
   "source": [
    "Now with the same problem we can solve it for different types of costs. For instance, minizing the energy input:"
   ]
  },
  {
   "cell_type": "code",
   "execution_count": 33,
   "metadata": {},
   "outputs": [
    {
     "name": "stdout",
     "output_type": "stream",
     "text": [
      "* Solver : HiGHS\n",
      "\n",
      "* Status\n",
      "  Result count       : 1\n",
      "  Termination status : OPTIMAL\n",
      "  Message from the solver:\n",
      "  \"kHighsModelStatusOptimal\"\n",
      "\n",
      "* Candidate solution (result #1)\n",
      "  Primal status      : FEASIBLE_POINT\n",
      "  Dual status        : FEASIBLE_POINT\n",
      "  Objective value    : -9.56695e+03\n",
      "  Objective bound    : -0.00000e+00\n",
      "  Relative gap       : Inf\n",
      "  Dual objective value : -9.56695e+03\n",
      "\n",
      "* Work counters\n",
      "  Solve time (sec)   : 1.60003e-03\n",
      "  Simplex iterations : 18\n",
      "  Barrier iterations : 0\n",
      "  Node count         : -1\n",
      "\n",
      " Tech               | Size factor\n",
      "==================================\n",
      " pyrolysis          | 6.734\n",
      " reforming          | 6.734\n",
      " CC                 | 6.734\n",
      " burn_cc            | 6.734\n",
      " meoh_cc            | 6.734\n",
      " burn_meOH_cc       | 6.734\n",
      " burn_straw         | 0.0\n",
      " burn_pyr           | 0.0\n",
      " steamBoiler_1.05   | 0.043846\n",
      " steamBoiler_1.12   | -0.0\n",
      " steamBoiler_3.25   | 0.82866\n",
      " steamBoiler_15     | 0.18837\n",
      " CW                 | 29.43\n",
      " EH                 | 5.7563\n"
     ]
    },
    {
     "data": {
      "text/plain": [
       "Problem(Any[Resource(\"straw\", Real[3156.363636363637], \"kg/h\", Vector{Real}[[4.266939750810718], [0.4255760368663594], [0.09216589861751152]]), Resource(\"oxygen\", Real[385.1851851851853], \"kg/h\", Vector{Real}[[0.0], [0.0], [0.05]]), Resource(\"water\", Real[0.0], \"kg/h\", Vector{Real}[[0.0], [0.0], [0.00011932384162599989]]), Resource(\"air\", Real[333.3333333333333], \"kg/h\", Vector{Real}[[0], [0], [0]]), Resource(\"power\", Real[2458.364518557129], \"kW\", Vector{Real}[[1.0], [0.0], [0.05]])], Any[Tech(\"pyrolysis\", Any[Resource(\"straw\", Real[468.72], \"kg/h\", Vector{Real}[[1]]), Resource(\"steam_1.05\", Real[23.44], \"kg/h\", Vector{Real}[[1]]), Resource(\"power\", Real[5.2], \"kW\", Vector{Real}[[1]])], Any[Resource(\"syngas_pyr\", Real[369], \"kg/h\", Vector{Real}[[1]]), Resource(\"char\", Real[123.01], \"kg/h\", Vector{Real}[[1]])], HeatStruct[HeatStruct(4.594, 374.0, 723.0), HeatStruct(143.3, 579.0, 773.0)], Real[0.0, Inf], Real[0.0, 0.0, 0.0], Real[0, 1], Real[-1, 1], Real[6.734]), Tech(\"reforming\", Any[Resource(\"syngas_pyr\", Real[369], \"kg/h\", Vector{Real}[[1]]), Resource(\"oxygen\", Real[56.9], \"kg/h\", Vector{Real}[[1]])], Any[Resource(\"syngas_ref\", Real[425.9], \"kg/h\", Vector{Real}[[1]])], HeatStruct[HeatStruct(4.2, 298.0, 579.0), HeatStruct(108.9, 579.0, 1073.0)], Real[0.0, Inf], Real[0.0, 0.0, 0.0], Real[0, 1], Real[-1, 1], Real[6.734]), Tech(\"CC\", Any[Resource(\"syngas_ref\", Real[425.9], \"kg/h\", Vector{Real}[[1]]), Resource(\"steam_15\", Real[100.7], \"kg/h\", Vector{Real}[[1]]), Resource(\"steam_3\", Real[238.7], \"kg/h\", Vector{Real}[[1]]), Resource(\"water\", Real[7.4], \"kg/h\", Vector{Real}[[1]]), Resource(\"power\", Real[97], \"kW\", Vector{Real}[[1]])], Any[Resource(\"syngas_cc\", Real[185.3], \"kg/h\", Vector{Real}[[1]]), Resource(\"water\", Real[147.1], \"kg/h\", Vector{Real}[[1]]), Resource(\"purge_cc\", Real[200.6], \"kg/h\", Vector{Real}[[1]]), Resource(\"cond_3\", Real[238.7], \"kg/h\", Vector{Real}[[1]])], HeatStruct[HeatStruct(164.2, 1073.0, 340.0), HeatStruct(57.2, 340.0, 313.0), HeatStruct(25.5, 313.0, 471.0), HeatStruct(34.7, 468.0, 623.0), HeatStruct(79.0, 736.0, 394.0), HeatStruct(56.5, 394.0, 313.0), HeatStruct(127.0, 340.0, 363.0), HeatStruct(242.0, 393.0, 313.0), HeatStruct(25.0, 327.0, 326.0)], Real[0.0, Inf], Real[0.0, 0.0, 0.0], Real[0, 1], Real[-1, 1], Real[6.734]), Tech(\"burn_cc\", Any[Resource(\"purge_cc\", Real[200.6], \"kg/h\", Vector{Real}[[1]]), Resource(\"oxygen\", Real[0.3], \"kg/h\", Vector{Real}[[1]])], Any[Resource(\"co2\", Real[198.1], \"kg/h\", Vector{Real}[[1]]), Resource(\"water\", Real[2.7], \"kg/h\", Vector{Real}[[1]])], HeatStruct[HeatStruct(4.0, 349.0, 313.0)], Real[0.0, Inf], Real[0.0, 0.0, 0.0], Real[0, 1], Real[-1, 1], Real[6.734]), Tech(\"meoh_cc\", Any[Resource(\"syngas_cc\", Real[185.3], \"kg/h\", Vector{Real}[[1]]), Resource(\"steam_3\", Real[204.3], \"kg/h\", Vector{Real}[[1]]), Resource(\"power\", Real[3.1], \"kW\", Vector{Real}[[1]])], Any[Resource(\"meOH\", Real[148.5], \"kg/h\", Vector{Real}[[1]]), Resource(\"cond_3\", Real[204.3], \"kg/h\", Vector{Real}[[1]]), Resource(\"purge_meOH_cc\", Real[9.1], \"kg/h\", Vector{Real}[[1]]), Resource(\"water\", Real[27.69], \"kg/h\", Vector{Real}[[1]])], HeatStruct[HeatStruct(125.7, 318.0, 538.0), HeatStruct(113.3, 538.0, 537.0), HeatStruct(69.3, 537.0, 409.0), HeatStruct(118.5, 409.0, 313.0), HeatStruct(2.9, 314.0, 328.0), HeatStruct(0.9, 318.0, 317.0), HeatStruct(122.8, 343.0, 342.0), HeatStruct(4.7, 343.0, 313.0), HeatStruct(2.8, 387.0, 313.0)], Real[0.0, Inf], Real[0.0, 0.0, 0.0], Real[0, 1], Real[-1, 1], Real[6.734]), Tech(\"burn_meOH_cc\", Any[Resource(\"purge_meOH_cc\", Real[9.1], \"kg/h\", Vector{Real}[[1]]), Resource(\"air\", Real[49.5], \"kg/h\", Vector{Real}[[1]]), Resource(\"power\", Real[0.1], \"kW\", Vector{Real}[[1]])], Any[], HeatStruct[HeatStruct(1.9, 304.0, 398.0), HeatStruct(34.2, 1174.0, 1173.0), HeatStruct(21.7, 1173.0, 433.0)], Real[0.0, Inf], Real[0.0, 0.0, 0.0], Real[0, 1], Real[-1, 1], Real[6.734])], Any[Resource(\"meOH\", Real[1000.0], \"kg/h\", Vector{Real}[[0], [0], [0]]), Resource(\"co2\", Real[1334.0067340067342], \"kg/h\", Vector{Real}[[0.0], [0.2727272727272727], [0.0]]), Resource(\"char\", Real[828.3501683501686], \"kg/h\", Vector{Real}[[7.677222222222222], [0.7178811823236757], [0.04145700000000001]]), Resource(\"water\", Real[359.25925925925907], \"kg/h\", Vector{Real}[[0.0], [0.0], [0.00011932384162599989]])], Any[Tech(\"burn_straw\", Any[Resource(\"straw\", Real[468.72], \"kg/h\", Vector{Real}[[1]]), Resource(\"power\", Real[0.28], \"kW\", Vector{Real}[[1]])], Any[], HeatStruct[HeatStruct(78.9, 298.0, 398.0), HeatStruct(1065.0, 1174.0, 1173.0), HeatStruct(789.1, 1173.0, 433.0)], Real[0.0, Inf], Real[0.0, 0.0, 0.0], Real[0, 1], Real[-1, 1], Real[0.0]), Tech(\"burn_pyr\", Any[Resource(\"syngas_pyr\", Real[369], \"kg/h\", Vector{Real}[[1]]), Resource(\"air\", Real[1430.3], \"kg/h\", Vector{Real}[[1]]), Resource(\"power\", Real[2.5], \"kW\", Vector{Real}[[1]])], Any[], HeatStruct[HeatStruct(38.0, 304.0, 398.0), HeatStruct(595.0, 1174.0, 1173.0), HeatStruct(470.5, 1173.0, 433.0)], Real[0.0, Inf], Real[0.0, 0.0, 0.0], Real[0, 1], Real[-1, 1], Real[0.0]), Tech(\"steamBoiler_1.05\", Any[Resource(\"power\", Real[0.006], \"kW\", Vector{Real}[[1]]), Resource(\"water\", Real[3600], \"kg/h\", Vector{Real}[[1]])], Any[Resource(\"steam_1.05\", Real[3600], \"kg/h\", Vector{Real}[[1]])], HeatStruct[HeatStruct(318.4, 298.0, 374.0), HeatStruct(2225.0, 374.0, 375.0)], Real[0.0, Inf], Real[0.0, 0.0, 0.0], Real[0, 1], Real[-1, 1], Real[0.043846]), Tech(\"steamBoiler_1.12\", Any[Resource(\"power\", Real[0.017], \"kW\", Vector{Real}[[1]]), Resource(\"water\", Real[3600], \"kg/h\", Vector{Real}[[1]])], Any[Resource(\"steam_1.12\", Real[3600], \"kg/h\", Vector{Real}[[1]])], HeatStruct[HeatStruct(326.1, 298.0, 376.0), HeatStruct(2249.0, 376.0, 377.0)], Real[0.0, Inf], Real[0.0, 0.0, 0.0], Real[0, 1], Real[-1, 1], Real[-0.0]), Tech(\"steamBoiler_3.25\", Any[Resource(\"cond_3\", Real[3600], \"kg/h\", Vector{Real}[[1]]), Resource(\"power\", Real[0.26], \"kW\", Vector{Real}[[1]])], Any[Resource(\"steam_3\", Real[3600], \"kg/h\", Vector{Real}[[1]])], HeatStruct[HeatStruct(2155.0, 408.15, 409.15)], Real[0.0, Inf], Real[0.0, 0.0, 0.0], Real[0, 1], Real[-1, 1], Real[0.82866]), Tech(\"steamBoiler_15\", Any[Resource(\"power\", Real[2.411], \"kW\", Vector{Real}[[1]]), Resource(\"water\", Real[3600], \"kg/h\", Vector{Real}[[1]])], Any[Resource(\"steam_15\", Real[3600], \"kg/h\", Vector{Real}[[1]])], HeatStruct[HeatStruct(737.5, 298.0, 472.0), HeatStruct(1946.0, 472.0, 473.0)], Real[0.0, Inf], Real[0.0, 0.0, 0.0], Real[0, 1], Real[-1, 1], Real[0.18837]), Tech(\"CW\", Any[Resource(\"power\", Real[0.715], \"kW\", Vector{Real}[[1]])], Any[], HeatStruct[HeatStruct(100.0, 298.0, 318.0)], Real[0.0, Inf], Real[0.0, 0.0, 0.0], Real[0, 1], Real[-1, 1], Real[29.43]), Tech(\"EH\", Any[Resource(\"power\", Real[300.0], \"kW\", Vector{Real}[[1]])], Any[], HeatStruct[HeatStruct(300.0, 1273.0, 1272.0)], Real[0.0, Inf], Real[0.0, 0.0, 0.0], Real[0, 1], Real[-1, 1], Real[5.7563])], Any[])"
      ]
     },
     "execution_count": 33,
     "metadata": {},
     "output_type": "execute_result"
    }
   ],
   "source": [
    "answer_energy = vivi(problem,valueIndex=1)"
   ]
  },
  {
   "attachments": {},
   "cell_type": "markdown",
   "metadata": {},
   "source": [
    "There is a number of things we can examine from this results, for now I'll focus on the choice of utilities. Notice that no straw/pyrolysis gas burners are **not used**. The optimization prefers **electric heater** to supply heat.\n",
    "\n",
    "The main reason is that electric heaters here are assumed to be 100% efficient, while burners losse some energy in the hot gases emission.\n",
    "\n",
    "We can also derive a sense of the maximum efficiency by comparing the energy consumption (optimal result) with the methanol lhv."
   ]
  },
  {
   "cell_type": "code",
   "execution_count": 34,
   "metadata": {},
   "outputs": [
    {
     "data": {
      "text/plain": [
       "0.5786704342670455"
      ]
     },
     "execution_count": 34,
     "metadata": {},
     "output_type": "execute_result"
    }
   ],
   "source": [
    "lhv_meoh = 19.930*1E3/3600 # kWh/kg\n",
    "eff = (1000*lhv_meoh)/9.56695e+03"
   ]
  },
  {
   "attachments": {},
   "cell_type": "markdown",
   "metadata": {},
   "source": [
    "So, **57.9%** seems to be the best we can get here.\n",
    "\n",
    "Let's move to the carbon consumption:"
   ]
  },
  {
   "cell_type": "code",
   "execution_count": 35,
   "metadata": {},
   "outputs": [
    {
     "name": "stdout",
     "output_type": "stream",
     "text": [
      "* Solver : HiGHS\n",
      "\n",
      "* Status\n",
      "  Result count       : 1\n",
      "  Termination status : OPTIMAL\n",
      "  Message from the solver:\n",
      "  \"kHighsModelStatusOptimal\"\n",
      "\n",
      "* Candidate solution (result #1)\n",
      "  Primal status      : FEASIBLE_POINT\n",
      "  Dual status        : FEASIBLE_POINT\n",
      "  Objective value    : -3.84796e+02\n",
      "  Objective bound    : -0.00000e+00\n",
      "  Relative gap       : Inf\n",
      "  Dual objective value : -3.84796e+02\n",
      "\n",
      "* Work counters\n",
      "  Solve time (sec)   : 0.00000e+00\n",
      "  Simplex iterations : 18\n",
      "  Barrier iterations : 0\n",
      "  Node count         : -1\n",
      "\n",
      " Tech               | Size factor\n",
      "==================================\n",
      " pyrolysis          | 6.734\n",
      " reforming          | 6.734\n",
      " CC                 | 6.734\n",
      " burn_cc            | 6.734\n",
      " meoh_cc            | 6.734\n",
      " burn_meOH_cc       | 6.734\n",
      " burn_straw         | 0.0\n",
      " burn_pyr           | 0.0\n",
      " steamBoiler_1.05   | 0.043846\n",
      " steamBoiler_1.12   | 0.0\n",
      " steamBoiler_3.25   | 0.82866\n",
      " steamBoiler_15     | 0.18837\n",
      " CW                 | 29.43\n",
      " EH                 | 5.7563\n"
     ]
    },
    {
     "data": {
      "text/plain": [
       "Problem(Any[Resource(\"straw\", Real[3156.363636363637], \"kg/h\", Vector{Real}[[4.266939750810718], [0.4255760368663594], [0.09216589861751152]]), Resource(\"oxygen\", Real[385.1851851851853], \"kg/h\", Vector{Real}[[0.0], [0.0], [0.05]]), Resource(\"water\", Real[0.0], \"kg/h\", Vector{Real}[[0.0], [0.0], [0.00011932384162599989]]), Resource(\"air\", Real[333.3333333333333], \"kg/h\", Vector{Real}[[0], [0], [0]]), Resource(\"power\", Real[2458.364518557129], \"kW\", Vector{Real}[[1.0], [0.0], [0.05]])], Any[Tech(\"pyrolysis\", Any[Resource(\"straw\", Real[468.72], \"kg/h\", Vector{Real}[[1]]), Resource(\"steam_1.05\", Real[23.44], \"kg/h\", Vector{Real}[[1]]), Resource(\"power\", Real[5.2], \"kW\", Vector{Real}[[1]])], Any[Resource(\"syngas_pyr\", Real[369], \"kg/h\", Vector{Real}[[1]]), Resource(\"char\", Real[123.01], \"kg/h\", Vector{Real}[[1]])], HeatStruct[HeatStruct(4.594, 374.0, 723.0), HeatStruct(143.3, 579.0, 773.0)], Real[0.0, Inf], Real[0.0, 0.0, 0.0], Real[0, 1], Real[-1, 1], Real[6.734]), Tech(\"reforming\", Any[Resource(\"syngas_pyr\", Real[369], \"kg/h\", Vector{Real}[[1]]), Resource(\"oxygen\", Real[56.9], \"kg/h\", Vector{Real}[[1]])], Any[Resource(\"syngas_ref\", Real[425.9], \"kg/h\", Vector{Real}[[1]])], HeatStruct[HeatStruct(4.2, 298.0, 579.0), HeatStruct(108.9, 579.0, 1073.0)], Real[0.0, Inf], Real[0.0, 0.0, 0.0], Real[0, 1], Real[-1, 1], Real[6.734]), Tech(\"CC\", Any[Resource(\"syngas_ref\", Real[425.9], \"kg/h\", Vector{Real}[[1]]), Resource(\"steam_15\", Real[100.7], \"kg/h\", Vector{Real}[[1]]), Resource(\"steam_3\", Real[238.7], \"kg/h\", Vector{Real}[[1]]), Resource(\"water\", Real[7.4], \"kg/h\", Vector{Real}[[1]]), Resource(\"power\", Real[97], \"kW\", Vector{Real}[[1]])], Any[Resource(\"syngas_cc\", Real[185.3], \"kg/h\", Vector{Real}[[1]]), Resource(\"water\", Real[147.1], \"kg/h\", Vector{Real}[[1]]), Resource(\"purge_cc\", Real[200.6], \"kg/h\", Vector{Real}[[1]]), Resource(\"cond_3\", Real[238.7], \"kg/h\", Vector{Real}[[1]])], HeatStruct[HeatStruct(164.2, 1073.0, 340.0), HeatStruct(57.2, 340.0, 313.0), HeatStruct(25.5, 313.0, 471.0), HeatStruct(34.7, 468.0, 623.0), HeatStruct(79.0, 736.0, 394.0), HeatStruct(56.5, 394.0, 313.0), HeatStruct(127.0, 340.0, 363.0), HeatStruct(242.0, 393.0, 313.0), HeatStruct(25.0, 327.0, 326.0)], Real[0.0, Inf], Real[0.0, 0.0, 0.0], Real[0, 1], Real[-1, 1], Real[6.734]), Tech(\"burn_cc\", Any[Resource(\"purge_cc\", Real[200.6], \"kg/h\", Vector{Real}[[1]]), Resource(\"oxygen\", Real[0.3], \"kg/h\", Vector{Real}[[1]])], Any[Resource(\"co2\", Real[198.1], \"kg/h\", Vector{Real}[[1]]), Resource(\"water\", Real[2.7], \"kg/h\", Vector{Real}[[1]])], HeatStruct[HeatStruct(4.0, 349.0, 313.0)], Real[0.0, Inf], Real[0.0, 0.0, 0.0], Real[0, 1], Real[-1, 1], Real[6.734]), Tech(\"meoh_cc\", Any[Resource(\"syngas_cc\", Real[185.3], \"kg/h\", Vector{Real}[[1]]), Resource(\"steam_3\", Real[204.3], \"kg/h\", Vector{Real}[[1]]), Resource(\"power\", Real[3.1], \"kW\", Vector{Real}[[1]])], Any[Resource(\"meOH\", Real[148.5], \"kg/h\", Vector{Real}[[1]]), Resource(\"cond_3\", Real[204.3], \"kg/h\", Vector{Real}[[1]]), Resource(\"purge_meOH_cc\", Real[9.1], \"kg/h\", Vector{Real}[[1]]), Resource(\"water\", Real[27.69], \"kg/h\", Vector{Real}[[1]])], HeatStruct[HeatStruct(125.7, 318.0, 538.0), HeatStruct(113.3, 538.0, 537.0), HeatStruct(69.3, 537.0, 409.0), HeatStruct(118.5, 409.0, 313.0), HeatStruct(2.9, 314.0, 328.0), HeatStruct(0.9, 318.0, 317.0), HeatStruct(122.8, 343.0, 342.0), HeatStruct(4.7, 343.0, 313.0), HeatStruct(2.8, 387.0, 313.0)], Real[0.0, Inf], Real[0.0, 0.0, 0.0], Real[0, 1], Real[-1, 1], Real[6.734]), Tech(\"burn_meOH_cc\", Any[Resource(\"purge_meOH_cc\", Real[9.1], \"kg/h\", Vector{Real}[[1]]), Resource(\"air\", Real[49.5], \"kg/h\", Vector{Real}[[1]]), Resource(\"power\", Real[0.1], \"kW\", Vector{Real}[[1]])], Any[], HeatStruct[HeatStruct(1.9, 304.0, 398.0), HeatStruct(34.2, 1174.0, 1173.0), HeatStruct(21.7, 1173.0, 433.0)], Real[0.0, Inf], Real[0.0, 0.0, 0.0], Real[0, 1], Real[-1, 1], Real[6.734])], Any[Resource(\"meOH\", Real[1000.0], \"kg/h\", Vector{Real}[[0], [0], [0]]), Resource(\"co2\", Real[1334.0067340067342], \"kg/h\", Vector{Real}[[0.0], [0.2727272727272727], [0.0]]), Resource(\"char\", Real[828.3501683501686], \"kg/h\", Vector{Real}[[7.677222222222222], [0.7178811823236757], [0.04145700000000001]]), Resource(\"water\", Real[359.25925925925907], \"kg/h\", Vector{Real}[[0.0], [0.0], [0.00011932384162599989]])], Any[Tech(\"burn_straw\", Any[Resource(\"straw\", Real[468.72], \"kg/h\", Vector{Real}[[1]]), Resource(\"power\", Real[0.28], \"kW\", Vector{Real}[[1]])], Any[], HeatStruct[HeatStruct(78.9, 298.0, 398.0), HeatStruct(1065.0, 1174.0, 1173.0), HeatStruct(789.1, 1173.0, 433.0)], Real[0.0, Inf], Real[0.0, 0.0, 0.0], Real[0, 1], Real[-1, 1], Real[0.0]), Tech(\"burn_pyr\", Any[Resource(\"syngas_pyr\", Real[369], \"kg/h\", Vector{Real}[[1]]), Resource(\"air\", Real[1430.3], \"kg/h\", Vector{Real}[[1]]), Resource(\"power\", Real[2.5], \"kW\", Vector{Real}[[1]])], Any[], HeatStruct[HeatStruct(38.0, 304.0, 398.0), HeatStruct(595.0, 1174.0, 1173.0), HeatStruct(470.5, 1173.0, 433.0)], Real[0.0, Inf], Real[0.0, 0.0, 0.0], Real[0, 1], Real[-1, 1], Real[0.0]), Tech(\"steamBoiler_1.05\", Any[Resource(\"power\", Real[0.006], \"kW\", Vector{Real}[[1]]), Resource(\"water\", Real[3600], \"kg/h\", Vector{Real}[[1]])], Any[Resource(\"steam_1.05\", Real[3600], \"kg/h\", Vector{Real}[[1]])], HeatStruct[HeatStruct(318.4, 298.0, 374.0), HeatStruct(2225.0, 374.0, 375.0)], Real[0.0, Inf], Real[0.0, 0.0, 0.0], Real[0, 1], Real[-1, 1], Real[0.043846]), Tech(\"steamBoiler_1.12\", Any[Resource(\"power\", Real[0.017], \"kW\", Vector{Real}[[1]]), Resource(\"water\", Real[3600], \"kg/h\", Vector{Real}[[1]])], Any[Resource(\"steam_1.12\", Real[3600], \"kg/h\", Vector{Real}[[1]])], HeatStruct[HeatStruct(326.1, 298.0, 376.0), HeatStruct(2249.0, 376.0, 377.0)], Real[0.0, Inf], Real[0.0, 0.0, 0.0], Real[0, 1], Real[-1, 1], Real[0.0]), Tech(\"steamBoiler_3.25\", Any[Resource(\"cond_3\", Real[3600], \"kg/h\", Vector{Real}[[1]]), Resource(\"power\", Real[0.26], \"kW\", Vector{Real}[[1]])], Any[Resource(\"steam_3\", Real[3600], \"kg/h\", Vector{Real}[[1]])], HeatStruct[HeatStruct(2155.0, 408.15, 409.15)], Real[0.0, Inf], Real[0.0, 0.0, 0.0], Real[0, 1], Real[-1, 1], Real[0.82866]), Tech(\"steamBoiler_15\", Any[Resource(\"power\", Real[2.411], \"kW\", Vector{Real}[[1]]), Resource(\"water\", Real[3600], \"kg/h\", Vector{Real}[[1]])], Any[Resource(\"steam_15\", Real[3600], \"kg/h\", Vector{Real}[[1]])], HeatStruct[HeatStruct(737.5, 298.0, 472.0), HeatStruct(1946.0, 472.0, 473.0)], Real[0.0, Inf], Real[0.0, 0.0, 0.0], Real[0, 1], Real[-1, 1], Real[0.18837]), Tech(\"CW\", Any[Resource(\"power\", Real[0.715], \"kW\", Vector{Real}[[1]])], Any[], HeatStruct[HeatStruct(100.0, 298.0, 318.0)], Real[0.0, Inf], Real[0.0, 0.0, 0.0], Real[0, 1], Real[-1, 1], Real[29.43]), Tech(\"EH\", Any[Resource(\"power\", Real[300.0], \"kW\", Vector{Real}[[1]])], Any[], HeatStruct[HeatStruct(300.0, 1273.0, 1272.0)], Real[0.0, Inf], Real[0.0, 0.0, 0.0], Real[0, 1], Real[-1, 1], Real[5.7563])], Any[])"
      ]
     },
     "execution_count": 35,
     "metadata": {},
     "output_type": "execute_result"
    }
   ],
   "source": [
    "answer_carbon = vivi(problem,valueIndex=2)"
   ]
  },
  {
   "attachments": {},
   "cell_type": "markdown",
   "metadata": {},
   "source": [
    "The result does not change, that's a bit boring but it makes sense. You consume (or loose) less carbon if you are using electric heaters instead of burning straw/gas.\n",
    "\n",
    "Let's compare with the carbon in methanol:"
   ]
  },
  {
   "cell_type": "code",
   "execution_count": 36,
   "metadata": {},
   "outputs": [
    {
     "data": {
      "text/plain": [
       "0.9741554710873847"
      ]
     },
     "execution_count": 36,
     "metadata": {},
     "output_type": "execute_result"
    }
   ],
   "source": [
    "c_meoh = 54.136/144.42 # kg_C / kg_meOH\n",
    "\n",
    "eff_c = c_meoh*1000/3.84796e+02"
   ]
  },
  {
   "attachments": {},
   "cell_type": "markdown",
   "metadata": {},
   "source": [
    "**97% of consumed carbon** goes in the produced methanol. That seems really good\n",
    "\n",
    "Let's move to money!"
   ]
  },
  {
   "cell_type": "code",
   "execution_count": 37,
   "metadata": {},
   "outputs": [
    {
     "name": "stdout",
     "output_type": "stream",
     "text": [
      "* Solver : HiGHS\n",
      "\n",
      "* Status\n",
      "  Result count       : 1\n",
      "  Termination status : OPTIMAL\n",
      "  Message from the solver:\n",
      "  \"kHighsModelStatusOptimal\"\n",
      "\n",
      "* Candidate solution (result #1)\n",
      "  Primal status      : FEASIBLE_POINT\n",
      "  Dual status        : FEASIBLE_POINT\n",
      "  Objective value    : -3.52581e+02\n",
      "  Objective bound    : -0.00000e+00\n",
      "  Relative gap       : Inf\n",
      "  Dual objective value : -3.52581e+02\n",
      "\n",
      "* Work counters\n",
      "  Solve time (sec)   : 0.00000e+00\n",
      "  Simplex iterations : 18\n",
      "  Barrier iterations : 0\n",
      "  Node count         : -1\n",
      "\n",
      " Tech               | Size factor\n",
      "==================================\n",
      " pyrolysis          | 6.734\n",
      " reforming          | 6.734\n",
      " CC                 | 6.734\n",
      " burn_cc            | 6.734\n",
      " meoh_cc            | 6.734\n",
      " burn_meOH_cc       | 6.734\n",
      " burn_straw         | 0.93139\n",
      " burn_pyr           | 0.0\n",
      " steamBoiler_1.05   | 0.043846\n",
      " steamBoiler_1.12   | -0.0\n",
      " steamBoiler_3.25   | 0.82866\n",
      " steamBoiler_15     | 0.18837\n",
      " CW                 | 28.695\n",
      " EH                 | -0.0\n"
     ]
    },
    {
     "data": {
      "text/plain": [
       "Problem(Any[Resource(\"straw\", Real[3592.924116950383], \"kg/h\", Vector{Real}[[4.266939750810718], [0.4255760368663594], [0.09216589861751152]]), Resource(\"oxygen\", Real[385.1851851851853], \"kg/h\", Vector{Real}[[0.0], [0.0], [0.05]]), Resource(\"water\", Real[0.0], \"kg/h\", Vector{Real}[[0.0], [0.0], [0.00011932384162599989]]), Resource(\"air\", Real[333.3333333333333], \"kg/h\", Vector{Real}[[0], [0], [0]]), Resource(\"power\", Real[731.2122119176919], \"kW\", Vector{Real}[[1.0], [0.0], [0.05]])], Any[Tech(\"pyrolysis\", Any[Resource(\"straw\", Real[468.72], \"kg/h\", Vector{Real}[[1]]), Resource(\"steam_1.05\", Real[23.44], \"kg/h\", Vector{Real}[[1]]), Resource(\"power\", Real[5.2], \"kW\", Vector{Real}[[1]])], Any[Resource(\"syngas_pyr\", Real[369], \"kg/h\", Vector{Real}[[1]]), Resource(\"char\", Real[123.01], \"kg/h\", Vector{Real}[[1]])], HeatStruct[HeatStruct(4.594, 374.0, 723.0), HeatStruct(143.3, 579.0, 773.0)], Real[0.0, Inf], Real[0.0, 0.0, 0.0], Real[0, 1], Real[-1, 1], Real[6.734]), Tech(\"reforming\", Any[Resource(\"syngas_pyr\", Real[369], \"kg/h\", Vector{Real}[[1]]), Resource(\"oxygen\", Real[56.9], \"kg/h\", Vector{Real}[[1]])], Any[Resource(\"syngas_ref\", Real[425.9], \"kg/h\", Vector{Real}[[1]])], HeatStruct[HeatStruct(4.2, 298.0, 579.0), HeatStruct(108.9, 579.0, 1073.0)], Real[0.0, Inf], Real[0.0, 0.0, 0.0], Real[0, 1], Real[-1, 1], Real[6.734]), Tech(\"CC\", Any[Resource(\"syngas_ref\", Real[425.9], \"kg/h\", Vector{Real}[[1]]), Resource(\"steam_15\", Real[100.7], \"kg/h\", Vector{Real}[[1]]), Resource(\"steam_3\", Real[238.7], \"kg/h\", Vector{Real}[[1]]), Resource(\"water\", Real[7.4], \"kg/h\", Vector{Real}[[1]]), Resource(\"power\", Real[97], \"kW\", Vector{Real}[[1]])], Any[Resource(\"syngas_cc\", Real[185.3], \"kg/h\", Vector{Real}[[1]]), Resource(\"water\", Real[147.1], \"kg/h\", Vector{Real}[[1]]), Resource(\"purge_cc\", Real[200.6], \"kg/h\", Vector{Real}[[1]]), Resource(\"cond_3\", Real[238.7], \"kg/h\", Vector{Real}[[1]])], HeatStruct[HeatStruct(164.2, 1073.0, 340.0), HeatStruct(57.2, 340.0, 313.0), HeatStruct(25.5, 313.0, 471.0), HeatStruct(34.7, 468.0, 623.0), HeatStruct(79.0, 736.0, 394.0), HeatStruct(56.5, 394.0, 313.0), HeatStruct(127.0, 340.0, 363.0), HeatStruct(242.0, 393.0, 313.0), HeatStruct(25.0, 327.0, 326.0)], Real[0.0, Inf], Real[0.0, 0.0, 0.0], Real[0, 1], Real[-1, 1], Real[6.734]), Tech(\"burn_cc\", Any[Resource(\"purge_cc\", Real[200.6], \"kg/h\", Vector{Real}[[1]]), Resource(\"oxygen\", Real[0.3], \"kg/h\", Vector{Real}[[1]])], Any[Resource(\"co2\", Real[198.1], \"kg/h\", Vector{Real}[[1]]), Resource(\"water\", Real[2.7], \"kg/h\", Vector{Real}[[1]])], HeatStruct[HeatStruct(4.0, 349.0, 313.0)], Real[0.0, Inf], Real[0.0, 0.0, 0.0], Real[0, 1], Real[-1, 1], Real[6.734]), Tech(\"meoh_cc\", Any[Resource(\"syngas_cc\", Real[185.3], \"kg/h\", Vector{Real}[[1]]), Resource(\"steam_3\", Real[204.3], \"kg/h\", Vector{Real}[[1]]), Resource(\"power\", Real[3.1], \"kW\", Vector{Real}[[1]])], Any[Resource(\"meOH\", Real[148.5], \"kg/h\", Vector{Real}[[1]]), Resource(\"cond_3\", Real[204.3], \"kg/h\", Vector{Real}[[1]]), Resource(\"purge_meOH_cc\", Real[9.1], \"kg/h\", Vector{Real}[[1]]), Resource(\"water\", Real[27.69], \"kg/h\", Vector{Real}[[1]])], HeatStruct[HeatStruct(125.7, 318.0, 538.0), HeatStruct(113.3, 538.0, 537.0), HeatStruct(69.3, 537.0, 409.0), HeatStruct(118.5, 409.0, 313.0), HeatStruct(2.9, 314.0, 328.0), HeatStruct(0.9, 318.0, 317.0), HeatStruct(122.8, 343.0, 342.0), HeatStruct(4.7, 343.0, 313.0), HeatStruct(2.8, 387.0, 313.0)], Real[0.0, Inf], Real[0.0, 0.0, 0.0], Real[0, 1], Real[-1, 1], Real[6.734]), Tech(\"burn_meOH_cc\", Any[Resource(\"purge_meOH_cc\", Real[9.1], \"kg/h\", Vector{Real}[[1]]), Resource(\"air\", Real[49.5], \"kg/h\", Vector{Real}[[1]]), Resource(\"power\", Real[0.1], \"kW\", Vector{Real}[[1]])], Any[], HeatStruct[HeatStruct(1.9, 304.0, 398.0), HeatStruct(34.2, 1174.0, 1173.0), HeatStruct(21.7, 1173.0, 433.0)], Real[0.0, Inf], Real[0.0, 0.0, 0.0], Real[0, 1], Real[-1, 1], Real[6.734])], Any[Resource(\"meOH\", Real[1000.0], \"kg/h\", Vector{Real}[[0], [0], [0]]), Resource(\"co2\", Real[1334.0067340067342], \"kg/h\", Vector{Real}[[0.0], [0.2727272727272727], [0.0]]), Resource(\"char\", Real[828.3501683501686], \"kg/h\", Vector{Real}[[7.677222222222222], [0.7178811823236757], [0.04145700000000001]]), Resource(\"water\", Real[359.25925925925907], \"kg/h\", Vector{Real}[[0.0], [0.0], [0.00011932384162599989]])], Any[Tech(\"burn_straw\", Any[Resource(\"straw\", Real[468.72], \"kg/h\", Vector{Real}[[1]]), Resource(\"power\", Real[0.28], \"kW\", Vector{Real}[[1]])], Any[], HeatStruct[HeatStruct(78.9, 298.0, 398.0), HeatStruct(1065.0, 1174.0, 1173.0), HeatStruct(789.1, 1173.0, 433.0)], Real[0.0, Inf], Real[0.0, 0.0, 0.0], Real[0, 1], Real[-1, 1], Real[0.93139]), Tech(\"burn_pyr\", Any[Resource(\"syngas_pyr\", Real[369], \"kg/h\", Vector{Real}[[1]]), Resource(\"air\", Real[1430.3], \"kg/h\", Vector{Real}[[1]]), Resource(\"power\", Real[2.5], \"kW\", Vector{Real}[[1]])], Any[], HeatStruct[HeatStruct(38.0, 304.0, 398.0), HeatStruct(595.0, 1174.0, 1173.0), HeatStruct(470.5, 1173.0, 433.0)], Real[0.0, Inf], Real[0.0, 0.0, 0.0], Real[0, 1], Real[-1, 1], Real[0.0]), Tech(\"steamBoiler_1.05\", Any[Resource(\"power\", Real[0.006], \"kW\", Vector{Real}[[1]]), Resource(\"water\", Real[3600], \"kg/h\", Vector{Real}[[1]])], Any[Resource(\"steam_1.05\", Real[3600], \"kg/h\", Vector{Real}[[1]])], HeatStruct[HeatStruct(318.4, 298.0, 374.0), HeatStruct(2225.0, 374.0, 375.0)], Real[0.0, Inf], Real[0.0, 0.0, 0.0], Real[0, 1], Real[-1, 1], Real[0.043846]), Tech(\"steamBoiler_1.12\", Any[Resource(\"power\", Real[0.017], \"kW\", Vector{Real}[[1]]), Resource(\"water\", Real[3600], \"kg/h\", Vector{Real}[[1]])], Any[Resource(\"steam_1.12\", Real[3600], \"kg/h\", Vector{Real}[[1]])], HeatStruct[HeatStruct(326.1, 298.0, 376.0), HeatStruct(2249.0, 376.0, 377.0)], Real[0.0, Inf], Real[0.0, 0.0, 0.0], Real[0, 1], Real[-1, 1], Real[-0.0]), Tech(\"steamBoiler_3.25\", Any[Resource(\"cond_3\", Real[3600], \"kg/h\", Vector{Real}[[1]]), Resource(\"power\", Real[0.26], \"kW\", Vector{Real}[[1]])], Any[Resource(\"steam_3\", Real[3600], \"kg/h\", Vector{Real}[[1]])], HeatStruct[HeatStruct(2155.0, 408.15, 409.15)], Real[0.0, Inf], Real[0.0, 0.0, 0.0], Real[0, 1], Real[-1, 1], Real[0.82866]), Tech(\"steamBoiler_15\", Any[Resource(\"power\", Real[2.411], \"kW\", Vector{Real}[[1]]), Resource(\"water\", Real[3600], \"kg/h\", Vector{Real}[[1]])], Any[Resource(\"steam_15\", Real[3600], \"kg/h\", Vector{Real}[[1]])], HeatStruct[HeatStruct(737.5, 298.0, 472.0), HeatStruct(1946.0, 472.0, 473.0)], Real[0.0, Inf], Real[0.0, 0.0, 0.0], Real[0, 1], Real[-1, 1], Real[0.18837]), Tech(\"CW\", Any[Resource(\"power\", Real[0.715], \"kW\", Vector{Real}[[1]])], Any[], HeatStruct[HeatStruct(100.0, 298.0, 318.0)], Real[0.0, Inf], Real[0.0, 0.0, 0.0], Real[0, 1], Real[-1, 1], Real[28.695]), Tech(\"EH\", Any[Resource(\"power\", Real[300.0], \"kW\", Vector{Real}[[1]])], Any[], HeatStruct[HeatStruct(300.0, 1273.0, 1272.0)], Real[0.0, Inf], Real[0.0, 0.0, 0.0], Real[0, 1], Real[-1, 1], Real[-0.0])], Any[])"
      ]
     },
     "execution_count": 37,
     "metadata": {},
     "output_type": "execute_result"
    }
   ],
   "source": [
    "answer_money = vivi(problem,valueIndex=3)"
   ]
  },
  {
   "attachments": {},
   "cell_type": "markdown",
   "metadata": {},
   "source": [
    "Now the results changed. Well, using electricity to heat things may be very efficient but is also quite expensive. That's why the optimization now is choosing to burn straw.\n",
    "\n",
    "But why not pyrolysis gas? The reason is similar, in order to have pyrolysis gas you have to use straw and heat which builds up the expenses. "
   ]
  },
  {
   "cell_type": "code",
   "execution_count": 38,
   "metadata": {},
   "outputs": [
    {
     "data": {
      "text/plain": [
       "352.581"
      ]
     },
     "execution_count": 38,
     "metadata": {},
     "output_type": "execute_result"
    }
   ],
   "source": [
    "cost = 3.52581e+02 / 1"
   ]
  },
  {
   "attachments": {},
   "cell_type": "markdown",
   "metadata": {},
   "source": [
    "**352 USD / ton** is quite cheap. The main reason is that we are not including the CAPEX in this computation so don't get too excited.\n",
    "\n",
    "In the next version of vivi you'll be able to include CAPEX and get numbers closer to the literature.\n",
    "\n",
    "Think about this number as the operating cost of a certain design."
   ]
  }
 ],
 "metadata": {
  "kernelspec": {
   "display_name": "Julia 1.7.1",
   "language": "julia",
   "name": "julia-1.7"
  },
  "language_info": {
   "file_extension": ".jl",
   "mimetype": "application/julia",
   "name": "julia",
   "version": "1.7.1"
  },
  "orig_nbformat": 4
 },
 "nbformat": 4,
 "nbformat_minor": 2
}
